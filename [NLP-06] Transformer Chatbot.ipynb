{
  "nbformat": 4,
  "nbformat_minor": 0,
  "metadata": {
    "colab": {
      "name": "[NLP-06] Transformer Chatbot.ipynb",
      "provenance": [],
      "collapsed_sections": [],
      "mount_file_id": "1TByI1q0XW4z34j89099rJ-lzy_ytAL6E",
      "authorship_tag": "ABX9TyOXBh9pxNleNwhcqGqQIMwG",
      "include_colab_link": true
    },
    "kernelspec": {
      "name": "python3",
      "display_name": "Python 3"
    },
    "language_info": {
      "name": "python"
    },
    "accelerator": "GPU",
    "widgets": {
      "application/vnd.jupyter.widget-state+json": {
        "463986dd59584aca819632efa1a3b79c": {
          "model_module": "@jupyter-widgets/controls",
          "model_name": "HBoxModel",
          "model_module_version": "1.5.0",
          "state": {
            "_dom_classes": [],
            "_model_module": "@jupyter-widgets/controls",
            "_model_module_version": "1.5.0",
            "_model_name": "HBoxModel",
            "_view_count": null,
            "_view_module": "@jupyter-widgets/controls",
            "_view_module_version": "1.5.0",
            "_view_name": "HBoxView",
            "box_style": "",
            "children": [
              "IPY_MODEL_8533cd987e52404fbfff3a1df7bef2f0",
              "IPY_MODEL_06a7dd68d4b240449027a1a5ab7fdd06",
              "IPY_MODEL_554fac03f80c4ead9d0947f24f09c83e"
            ],
            "layout": "IPY_MODEL_cdfe0e85e76c440e9e320890859780e7"
          }
        },
        "8533cd987e52404fbfff3a1df7bef2f0": {
          "model_module": "@jupyter-widgets/controls",
          "model_name": "HTMLModel",
          "model_module_version": "1.5.0",
          "state": {
            "_dom_classes": [],
            "_model_module": "@jupyter-widgets/controls",
            "_model_module_version": "1.5.0",
            "_model_name": "HTMLModel",
            "_view_count": null,
            "_view_module": "@jupyter-widgets/controls",
            "_view_module_version": "1.5.0",
            "_view_name": "HTMLView",
            "description": "",
            "description_tooltip": null,
            "layout": "IPY_MODEL_1374721b90514dc1a8bb278d7876b652",
            "placeholder": "​",
            "style": "IPY_MODEL_3d7b9c7e59a24fde9c15e228a224c552",
            "value": "100%"
          }
        },
        "06a7dd68d4b240449027a1a5ab7fdd06": {
          "model_module": "@jupyter-widgets/controls",
          "model_name": "FloatProgressModel",
          "model_module_version": "1.5.0",
          "state": {
            "_dom_classes": [],
            "_model_module": "@jupyter-widgets/controls",
            "_model_module_version": "1.5.0",
            "_model_name": "FloatProgressModel",
            "_view_count": null,
            "_view_module": "@jupyter-widgets/controls",
            "_view_module_version": "1.5.0",
            "_view_name": "ProgressView",
            "bar_style": "success",
            "description": "",
            "description_tooltip": null,
            "layout": "IPY_MODEL_8d6e132463b14802a1856a5bfad5d9ba",
            "max": 11747,
            "min": 0,
            "orientation": "horizontal",
            "style": "IPY_MODEL_82c439733cdf438cb2579a6173fd76b3",
            "value": 11747
          }
        },
        "554fac03f80c4ead9d0947f24f09c83e": {
          "model_module": "@jupyter-widgets/controls",
          "model_name": "HTMLModel",
          "model_module_version": "1.5.0",
          "state": {
            "_dom_classes": [],
            "_model_module": "@jupyter-widgets/controls",
            "_model_module_version": "1.5.0",
            "_model_name": "HTMLModel",
            "_view_count": null,
            "_view_module": "@jupyter-widgets/controls",
            "_view_module_version": "1.5.0",
            "_view_name": "HTMLView",
            "description": "",
            "description_tooltip": null,
            "layout": "IPY_MODEL_09362019743644c1ae8127b6a7225598",
            "placeholder": "​",
            "style": "IPY_MODEL_07b3aac32973413391b56a4a3fc344b0",
            "value": " 11747/11747 [00:39&lt;00:00, 259.18it/s]"
          }
        },
        "cdfe0e85e76c440e9e320890859780e7": {
          "model_module": "@jupyter-widgets/base",
          "model_name": "LayoutModel",
          "model_module_version": "1.2.0",
          "state": {
            "_model_module": "@jupyter-widgets/base",
            "_model_module_version": "1.2.0",
            "_model_name": "LayoutModel",
            "_view_count": null,
            "_view_module": "@jupyter-widgets/base",
            "_view_module_version": "1.2.0",
            "_view_name": "LayoutView",
            "align_content": null,
            "align_items": null,
            "align_self": null,
            "border": null,
            "bottom": null,
            "display": null,
            "flex": null,
            "flex_flow": null,
            "grid_area": null,
            "grid_auto_columns": null,
            "grid_auto_flow": null,
            "grid_auto_rows": null,
            "grid_column": null,
            "grid_gap": null,
            "grid_row": null,
            "grid_template_areas": null,
            "grid_template_columns": null,
            "grid_template_rows": null,
            "height": null,
            "justify_content": null,
            "justify_items": null,
            "left": null,
            "margin": null,
            "max_height": null,
            "max_width": null,
            "min_height": null,
            "min_width": null,
            "object_fit": null,
            "object_position": null,
            "order": null,
            "overflow": null,
            "overflow_x": null,
            "overflow_y": null,
            "padding": null,
            "right": null,
            "top": null,
            "visibility": null,
            "width": null
          }
        },
        "1374721b90514dc1a8bb278d7876b652": {
          "model_module": "@jupyter-widgets/base",
          "model_name": "LayoutModel",
          "model_module_version": "1.2.0",
          "state": {
            "_model_module": "@jupyter-widgets/base",
            "_model_module_version": "1.2.0",
            "_model_name": "LayoutModel",
            "_view_count": null,
            "_view_module": "@jupyter-widgets/base",
            "_view_module_version": "1.2.0",
            "_view_name": "LayoutView",
            "align_content": null,
            "align_items": null,
            "align_self": null,
            "border": null,
            "bottom": null,
            "display": null,
            "flex": null,
            "flex_flow": null,
            "grid_area": null,
            "grid_auto_columns": null,
            "grid_auto_flow": null,
            "grid_auto_rows": null,
            "grid_column": null,
            "grid_gap": null,
            "grid_row": null,
            "grid_template_areas": null,
            "grid_template_columns": null,
            "grid_template_rows": null,
            "height": null,
            "justify_content": null,
            "justify_items": null,
            "left": null,
            "margin": null,
            "max_height": null,
            "max_width": null,
            "min_height": null,
            "min_width": null,
            "object_fit": null,
            "object_position": null,
            "order": null,
            "overflow": null,
            "overflow_x": null,
            "overflow_y": null,
            "padding": null,
            "right": null,
            "top": null,
            "visibility": null,
            "width": null
          }
        },
        "3d7b9c7e59a24fde9c15e228a224c552": {
          "model_module": "@jupyter-widgets/controls",
          "model_name": "DescriptionStyleModel",
          "model_module_version": "1.5.0",
          "state": {
            "_model_module": "@jupyter-widgets/controls",
            "_model_module_version": "1.5.0",
            "_model_name": "DescriptionStyleModel",
            "_view_count": null,
            "_view_module": "@jupyter-widgets/base",
            "_view_module_version": "1.2.0",
            "_view_name": "StyleView",
            "description_width": ""
          }
        },
        "8d6e132463b14802a1856a5bfad5d9ba": {
          "model_module": "@jupyter-widgets/base",
          "model_name": "LayoutModel",
          "model_module_version": "1.2.0",
          "state": {
            "_model_module": "@jupyter-widgets/base",
            "_model_module_version": "1.2.0",
            "_model_name": "LayoutModel",
            "_view_count": null,
            "_view_module": "@jupyter-widgets/base",
            "_view_module_version": "1.2.0",
            "_view_name": "LayoutView",
            "align_content": null,
            "align_items": null,
            "align_self": null,
            "border": null,
            "bottom": null,
            "display": null,
            "flex": null,
            "flex_flow": null,
            "grid_area": null,
            "grid_auto_columns": null,
            "grid_auto_flow": null,
            "grid_auto_rows": null,
            "grid_column": null,
            "grid_gap": null,
            "grid_row": null,
            "grid_template_areas": null,
            "grid_template_columns": null,
            "grid_template_rows": null,
            "height": null,
            "justify_content": null,
            "justify_items": null,
            "left": null,
            "margin": null,
            "max_height": null,
            "max_width": null,
            "min_height": null,
            "min_width": null,
            "object_fit": null,
            "object_position": null,
            "order": null,
            "overflow": null,
            "overflow_x": null,
            "overflow_y": null,
            "padding": null,
            "right": null,
            "top": null,
            "visibility": null,
            "width": null
          }
        },
        "82c439733cdf438cb2579a6173fd76b3": {
          "model_module": "@jupyter-widgets/controls",
          "model_name": "ProgressStyleModel",
          "model_module_version": "1.5.0",
          "state": {
            "_model_module": "@jupyter-widgets/controls",
            "_model_module_version": "1.5.0",
            "_model_name": "ProgressStyleModel",
            "_view_count": null,
            "_view_module": "@jupyter-widgets/base",
            "_view_module_version": "1.2.0",
            "_view_name": "StyleView",
            "bar_color": null,
            "description_width": ""
          }
        },
        "09362019743644c1ae8127b6a7225598": {
          "model_module": "@jupyter-widgets/base",
          "model_name": "LayoutModel",
          "model_module_version": "1.2.0",
          "state": {
            "_model_module": "@jupyter-widgets/base",
            "_model_module_version": "1.2.0",
            "_model_name": "LayoutModel",
            "_view_count": null,
            "_view_module": "@jupyter-widgets/base",
            "_view_module_version": "1.2.0",
            "_view_name": "LayoutView",
            "align_content": null,
            "align_items": null,
            "align_self": null,
            "border": null,
            "bottom": null,
            "display": null,
            "flex": null,
            "flex_flow": null,
            "grid_area": null,
            "grid_auto_columns": null,
            "grid_auto_flow": null,
            "grid_auto_rows": null,
            "grid_column": null,
            "grid_gap": null,
            "grid_row": null,
            "grid_template_areas": null,
            "grid_template_columns": null,
            "grid_template_rows": null,
            "height": null,
            "justify_content": null,
            "justify_items": null,
            "left": null,
            "margin": null,
            "max_height": null,
            "max_width": null,
            "min_height": null,
            "min_width": null,
            "object_fit": null,
            "object_position": null,
            "order": null,
            "overflow": null,
            "overflow_x": null,
            "overflow_y": null,
            "padding": null,
            "right": null,
            "top": null,
            "visibility": null,
            "width": null
          }
        },
        "07b3aac32973413391b56a4a3fc344b0": {
          "model_module": "@jupyter-widgets/controls",
          "model_name": "DescriptionStyleModel",
          "model_module_version": "1.5.0",
          "state": {
            "_model_module": "@jupyter-widgets/controls",
            "_model_module_version": "1.5.0",
            "_model_name": "DescriptionStyleModel",
            "_view_count": null,
            "_view_module": "@jupyter-widgets/base",
            "_view_module_version": "1.2.0",
            "_view_name": "StyleView",
            "description_width": ""
          }
        },
        "7e1e289c43df4fa8b4f669b9f6b4b0d5": {
          "model_module": "@jupyter-widgets/controls",
          "model_name": "HBoxModel",
          "model_module_version": "1.5.0",
          "state": {
            "_dom_classes": [],
            "_model_module": "@jupyter-widgets/controls",
            "_model_module_version": "1.5.0",
            "_model_name": "HBoxModel",
            "_view_count": null,
            "_view_module": "@jupyter-widgets/controls",
            "_view_module_version": "1.5.0",
            "_view_name": "HBoxView",
            "box_style": "",
            "children": [
              "IPY_MODEL_07785b5526934472820d4005a8f36f87",
              "IPY_MODEL_e80bdb28e5ad4efeb49610bef455988e",
              "IPY_MODEL_a25b7a3b21e045118094a2d425571ef2"
            ],
            "layout": "IPY_MODEL_9bfa780792084c1d9c1eb42596633dcf"
          }
        },
        "07785b5526934472820d4005a8f36f87": {
          "model_module": "@jupyter-widgets/controls",
          "model_name": "HTMLModel",
          "model_module_version": "1.5.0",
          "state": {
            "_dom_classes": [],
            "_model_module": "@jupyter-widgets/controls",
            "_model_module_version": "1.5.0",
            "_model_name": "HTMLModel",
            "_view_count": null,
            "_view_module": "@jupyter-widgets/controls",
            "_view_module_version": "1.5.0",
            "_view_name": "HTMLView",
            "description": "",
            "description_tooltip": null,
            "layout": "IPY_MODEL_e506d350c1664564b2b09e43b9f1a461",
            "placeholder": "​",
            "style": "IPY_MODEL_51a12c34f0dd4d46b53a63497512cc50",
            "value": "100%"
          }
        },
        "e80bdb28e5ad4efeb49610bef455988e": {
          "model_module": "@jupyter-widgets/controls",
          "model_name": "FloatProgressModel",
          "model_module_version": "1.5.0",
          "state": {
            "_dom_classes": [],
            "_model_module": "@jupyter-widgets/controls",
            "_model_module_version": "1.5.0",
            "_model_name": "FloatProgressModel",
            "_view_count": null,
            "_view_module": "@jupyter-widgets/controls",
            "_view_module_version": "1.5.0",
            "_view_name": "ProgressView",
            "bar_style": "success",
            "description": "",
            "description_tooltip": null,
            "layout": "IPY_MODEL_9782ba7d71494117ab64b018964a551c",
            "max": 11747,
            "min": 0,
            "orientation": "horizontal",
            "style": "IPY_MODEL_73f06df95845435cb7f7bda2ff43deb5",
            "value": 11747
          }
        },
        "a25b7a3b21e045118094a2d425571ef2": {
          "model_module": "@jupyter-widgets/controls",
          "model_name": "HTMLModel",
          "model_module_version": "1.5.0",
          "state": {
            "_dom_classes": [],
            "_model_module": "@jupyter-widgets/controls",
            "_model_module_version": "1.5.0",
            "_model_name": "HTMLModel",
            "_view_count": null,
            "_view_module": "@jupyter-widgets/controls",
            "_view_module_version": "1.5.0",
            "_view_name": "HTMLView",
            "description": "",
            "description_tooltip": null,
            "layout": "IPY_MODEL_f6d000d1e65f4f6ab12c5cd7b7c85087",
            "placeholder": "​",
            "style": "IPY_MODEL_4c68fa9c48394129b4b025d3968cfad9",
            "value": " 11747/11747 [00:22&lt;00:00, 661.20it/s]"
          }
        },
        "9bfa780792084c1d9c1eb42596633dcf": {
          "model_module": "@jupyter-widgets/base",
          "model_name": "LayoutModel",
          "model_module_version": "1.2.0",
          "state": {
            "_model_module": "@jupyter-widgets/base",
            "_model_module_version": "1.2.0",
            "_model_name": "LayoutModel",
            "_view_count": null,
            "_view_module": "@jupyter-widgets/base",
            "_view_module_version": "1.2.0",
            "_view_name": "LayoutView",
            "align_content": null,
            "align_items": null,
            "align_self": null,
            "border": null,
            "bottom": null,
            "display": null,
            "flex": null,
            "flex_flow": null,
            "grid_area": null,
            "grid_auto_columns": null,
            "grid_auto_flow": null,
            "grid_auto_rows": null,
            "grid_column": null,
            "grid_gap": null,
            "grid_row": null,
            "grid_template_areas": null,
            "grid_template_columns": null,
            "grid_template_rows": null,
            "height": null,
            "justify_content": null,
            "justify_items": null,
            "left": null,
            "margin": null,
            "max_height": null,
            "max_width": null,
            "min_height": null,
            "min_width": null,
            "object_fit": null,
            "object_position": null,
            "order": null,
            "overflow": null,
            "overflow_x": null,
            "overflow_y": null,
            "padding": null,
            "right": null,
            "top": null,
            "visibility": null,
            "width": null
          }
        },
        "e506d350c1664564b2b09e43b9f1a461": {
          "model_module": "@jupyter-widgets/base",
          "model_name": "LayoutModel",
          "model_module_version": "1.2.0",
          "state": {
            "_model_module": "@jupyter-widgets/base",
            "_model_module_version": "1.2.0",
            "_model_name": "LayoutModel",
            "_view_count": null,
            "_view_module": "@jupyter-widgets/base",
            "_view_module_version": "1.2.0",
            "_view_name": "LayoutView",
            "align_content": null,
            "align_items": null,
            "align_self": null,
            "border": null,
            "bottom": null,
            "display": null,
            "flex": null,
            "flex_flow": null,
            "grid_area": null,
            "grid_auto_columns": null,
            "grid_auto_flow": null,
            "grid_auto_rows": null,
            "grid_column": null,
            "grid_gap": null,
            "grid_row": null,
            "grid_template_areas": null,
            "grid_template_columns": null,
            "grid_template_rows": null,
            "height": null,
            "justify_content": null,
            "justify_items": null,
            "left": null,
            "margin": null,
            "max_height": null,
            "max_width": null,
            "min_height": null,
            "min_width": null,
            "object_fit": null,
            "object_position": null,
            "order": null,
            "overflow": null,
            "overflow_x": null,
            "overflow_y": null,
            "padding": null,
            "right": null,
            "top": null,
            "visibility": null,
            "width": null
          }
        },
        "51a12c34f0dd4d46b53a63497512cc50": {
          "model_module": "@jupyter-widgets/controls",
          "model_name": "DescriptionStyleModel",
          "model_module_version": "1.5.0",
          "state": {
            "_model_module": "@jupyter-widgets/controls",
            "_model_module_version": "1.5.0",
            "_model_name": "DescriptionStyleModel",
            "_view_count": null,
            "_view_module": "@jupyter-widgets/base",
            "_view_module_version": "1.2.0",
            "_view_name": "StyleView",
            "description_width": ""
          }
        },
        "9782ba7d71494117ab64b018964a551c": {
          "model_module": "@jupyter-widgets/base",
          "model_name": "LayoutModel",
          "model_module_version": "1.2.0",
          "state": {
            "_model_module": "@jupyter-widgets/base",
            "_model_module_version": "1.2.0",
            "_model_name": "LayoutModel",
            "_view_count": null,
            "_view_module": "@jupyter-widgets/base",
            "_view_module_version": "1.2.0",
            "_view_name": "LayoutView",
            "align_content": null,
            "align_items": null,
            "align_self": null,
            "border": null,
            "bottom": null,
            "display": null,
            "flex": null,
            "flex_flow": null,
            "grid_area": null,
            "grid_auto_columns": null,
            "grid_auto_flow": null,
            "grid_auto_rows": null,
            "grid_column": null,
            "grid_gap": null,
            "grid_row": null,
            "grid_template_areas": null,
            "grid_template_columns": null,
            "grid_template_rows": null,
            "height": null,
            "justify_content": null,
            "justify_items": null,
            "left": null,
            "margin": null,
            "max_height": null,
            "max_width": null,
            "min_height": null,
            "min_width": null,
            "object_fit": null,
            "object_position": null,
            "order": null,
            "overflow": null,
            "overflow_x": null,
            "overflow_y": null,
            "padding": null,
            "right": null,
            "top": null,
            "visibility": null,
            "width": null
          }
        },
        "73f06df95845435cb7f7bda2ff43deb5": {
          "model_module": "@jupyter-widgets/controls",
          "model_name": "ProgressStyleModel",
          "model_module_version": "1.5.0",
          "state": {
            "_model_module": "@jupyter-widgets/controls",
            "_model_module_version": "1.5.0",
            "_model_name": "ProgressStyleModel",
            "_view_count": null,
            "_view_module": "@jupyter-widgets/base",
            "_view_module_version": "1.2.0",
            "_view_name": "StyleView",
            "bar_color": null,
            "description_width": ""
          }
        },
        "f6d000d1e65f4f6ab12c5cd7b7c85087": {
          "model_module": "@jupyter-widgets/base",
          "model_name": "LayoutModel",
          "model_module_version": "1.2.0",
          "state": {
            "_model_module": "@jupyter-widgets/base",
            "_model_module_version": "1.2.0",
            "_model_name": "LayoutModel",
            "_view_count": null,
            "_view_module": "@jupyter-widgets/base",
            "_view_module_version": "1.2.0",
            "_view_name": "LayoutView",
            "align_content": null,
            "align_items": null,
            "align_self": null,
            "border": null,
            "bottom": null,
            "display": null,
            "flex": null,
            "flex_flow": null,
            "grid_area": null,
            "grid_auto_columns": null,
            "grid_auto_flow": null,
            "grid_auto_rows": null,
            "grid_column": null,
            "grid_gap": null,
            "grid_row": null,
            "grid_template_areas": null,
            "grid_template_columns": null,
            "grid_template_rows": null,
            "height": null,
            "justify_content": null,
            "justify_items": null,
            "left": null,
            "margin": null,
            "max_height": null,
            "max_width": null,
            "min_height": null,
            "min_width": null,
            "object_fit": null,
            "object_position": null,
            "order": null,
            "overflow": null,
            "overflow_x": null,
            "overflow_y": null,
            "padding": null,
            "right": null,
            "top": null,
            "visibility": null,
            "width": null
          }
        },
        "4c68fa9c48394129b4b025d3968cfad9": {
          "model_module": "@jupyter-widgets/controls",
          "model_name": "DescriptionStyleModel",
          "model_module_version": "1.5.0",
          "state": {
            "_model_module": "@jupyter-widgets/controls",
            "_model_module_version": "1.5.0",
            "_model_name": "DescriptionStyleModel",
            "_view_count": null,
            "_view_module": "@jupyter-widgets/base",
            "_view_module_version": "1.2.0",
            "_view_name": "StyleView",
            "description_width": ""
          }
        },
        "544e2776aaf141e7ad2544affe9e9553": {
          "model_module": "@jupyter-widgets/controls",
          "model_name": "HBoxModel",
          "model_module_version": "1.5.0",
          "state": {
            "_dom_classes": [],
            "_model_module": "@jupyter-widgets/controls",
            "_model_module_version": "1.5.0",
            "_model_name": "HBoxModel",
            "_view_count": null,
            "_view_module": "@jupyter-widgets/controls",
            "_view_module_version": "1.5.0",
            "_view_name": "HBoxView",
            "box_style": "",
            "children": [
              "IPY_MODEL_33d0a31934fb4a6396c6476b15586b95",
              "IPY_MODEL_688d6d8a92824f95b4f4ac0be424fa63",
              "IPY_MODEL_27081cd4e3d8438a8a7e7e16e4b10d89"
            ],
            "layout": "IPY_MODEL_6bbcf5a70cd343339a4e0cd724cbfb22"
          }
        },
        "33d0a31934fb4a6396c6476b15586b95": {
          "model_module": "@jupyter-widgets/controls",
          "model_name": "HTMLModel",
          "model_module_version": "1.5.0",
          "state": {
            "_dom_classes": [],
            "_model_module": "@jupyter-widgets/controls",
            "_model_module_version": "1.5.0",
            "_model_name": "HTMLModel",
            "_view_count": null,
            "_view_module": "@jupyter-widgets/controls",
            "_view_module_version": "1.5.0",
            "_view_name": "HTMLView",
            "description": "",
            "description_tooltip": null,
            "layout": "IPY_MODEL_4093bc2c0694495aaab4f37baa78454e",
            "placeholder": "​",
            "style": "IPY_MODEL_913354073b8c4f19bb96fe0d2f9c220c",
            "value": "Epoch  1: 100%"
          }
        },
        "688d6d8a92824f95b4f4ac0be424fa63": {
          "model_module": "@jupyter-widgets/controls",
          "model_name": "FloatProgressModel",
          "model_module_version": "1.5.0",
          "state": {
            "_dom_classes": [],
            "_model_module": "@jupyter-widgets/controls",
            "_model_module_version": "1.5.0",
            "_model_name": "FloatProgressModel",
            "_view_count": null,
            "_view_module": "@jupyter-widgets/controls",
            "_view_module_version": "1.5.0",
            "_view_name": "ProgressView",
            "bar_style": "",
            "description": "",
            "description_tooltip": null,
            "layout": "IPY_MODEL_f4e7d3bfc0a04bc79f24ed08a18e1733",
            "max": 551,
            "min": 0,
            "orientation": "horizontal",
            "style": "IPY_MODEL_f2de15140b0448f9843e3c45f0728318",
            "value": 551
          }
        },
        "27081cd4e3d8438a8a7e7e16e4b10d89": {
          "model_module": "@jupyter-widgets/controls",
          "model_name": "HTMLModel",
          "model_module_version": "1.5.0",
          "state": {
            "_dom_classes": [],
            "_model_module": "@jupyter-widgets/controls",
            "_model_module_version": "1.5.0",
            "_model_name": "HTMLModel",
            "_view_count": null,
            "_view_module": "@jupyter-widgets/controls",
            "_view_module_version": "1.5.0",
            "_view_name": "HTMLView",
            "description": "",
            "description_tooltip": null,
            "layout": "IPY_MODEL_1524e617a80d4fcdad2b7ccff24a61dd",
            "placeholder": "​",
            "style": "IPY_MODEL_d42e156295864a7c96d52203e18333f4",
            "value": " 551/551 [00:41&lt;00:00, 24.48it/s, Loss nan]"
          }
        },
        "6bbcf5a70cd343339a4e0cd724cbfb22": {
          "model_module": "@jupyter-widgets/base",
          "model_name": "LayoutModel",
          "model_module_version": "1.2.0",
          "state": {
            "_model_module": "@jupyter-widgets/base",
            "_model_module_version": "1.2.0",
            "_model_name": "LayoutModel",
            "_view_count": null,
            "_view_module": "@jupyter-widgets/base",
            "_view_module_version": "1.2.0",
            "_view_name": "LayoutView",
            "align_content": null,
            "align_items": null,
            "align_self": null,
            "border": null,
            "bottom": null,
            "display": null,
            "flex": null,
            "flex_flow": null,
            "grid_area": null,
            "grid_auto_columns": null,
            "grid_auto_flow": null,
            "grid_auto_rows": null,
            "grid_column": null,
            "grid_gap": null,
            "grid_row": null,
            "grid_template_areas": null,
            "grid_template_columns": null,
            "grid_template_rows": null,
            "height": null,
            "justify_content": null,
            "justify_items": null,
            "left": null,
            "margin": null,
            "max_height": null,
            "max_width": null,
            "min_height": null,
            "min_width": null,
            "object_fit": null,
            "object_position": null,
            "order": null,
            "overflow": null,
            "overflow_x": null,
            "overflow_y": null,
            "padding": null,
            "right": null,
            "top": null,
            "visibility": null,
            "width": null
          }
        },
        "4093bc2c0694495aaab4f37baa78454e": {
          "model_module": "@jupyter-widgets/base",
          "model_name": "LayoutModel",
          "model_module_version": "1.2.0",
          "state": {
            "_model_module": "@jupyter-widgets/base",
            "_model_module_version": "1.2.0",
            "_model_name": "LayoutModel",
            "_view_count": null,
            "_view_module": "@jupyter-widgets/base",
            "_view_module_version": "1.2.0",
            "_view_name": "LayoutView",
            "align_content": null,
            "align_items": null,
            "align_self": null,
            "border": null,
            "bottom": null,
            "display": null,
            "flex": null,
            "flex_flow": null,
            "grid_area": null,
            "grid_auto_columns": null,
            "grid_auto_flow": null,
            "grid_auto_rows": null,
            "grid_column": null,
            "grid_gap": null,
            "grid_row": null,
            "grid_template_areas": null,
            "grid_template_columns": null,
            "grid_template_rows": null,
            "height": null,
            "justify_content": null,
            "justify_items": null,
            "left": null,
            "margin": null,
            "max_height": null,
            "max_width": null,
            "min_height": null,
            "min_width": null,
            "object_fit": null,
            "object_position": null,
            "order": null,
            "overflow": null,
            "overflow_x": null,
            "overflow_y": null,
            "padding": null,
            "right": null,
            "top": null,
            "visibility": null,
            "width": null
          }
        },
        "913354073b8c4f19bb96fe0d2f9c220c": {
          "model_module": "@jupyter-widgets/controls",
          "model_name": "DescriptionStyleModel",
          "model_module_version": "1.5.0",
          "state": {
            "_model_module": "@jupyter-widgets/controls",
            "_model_module_version": "1.5.0",
            "_model_name": "DescriptionStyleModel",
            "_view_count": null,
            "_view_module": "@jupyter-widgets/base",
            "_view_module_version": "1.2.0",
            "_view_name": "StyleView",
            "description_width": ""
          }
        },
        "f4e7d3bfc0a04bc79f24ed08a18e1733": {
          "model_module": "@jupyter-widgets/base",
          "model_name": "LayoutModel",
          "model_module_version": "1.2.0",
          "state": {
            "_model_module": "@jupyter-widgets/base",
            "_model_module_version": "1.2.0",
            "_model_name": "LayoutModel",
            "_view_count": null,
            "_view_module": "@jupyter-widgets/base",
            "_view_module_version": "1.2.0",
            "_view_name": "LayoutView",
            "align_content": null,
            "align_items": null,
            "align_self": null,
            "border": null,
            "bottom": null,
            "display": null,
            "flex": null,
            "flex_flow": null,
            "grid_area": null,
            "grid_auto_columns": null,
            "grid_auto_flow": null,
            "grid_auto_rows": null,
            "grid_column": null,
            "grid_gap": null,
            "grid_row": null,
            "grid_template_areas": null,
            "grid_template_columns": null,
            "grid_template_rows": null,
            "height": null,
            "justify_content": null,
            "justify_items": null,
            "left": null,
            "margin": null,
            "max_height": null,
            "max_width": null,
            "min_height": null,
            "min_width": null,
            "object_fit": null,
            "object_position": null,
            "order": null,
            "overflow": null,
            "overflow_x": null,
            "overflow_y": null,
            "padding": null,
            "right": null,
            "top": null,
            "visibility": null,
            "width": null
          }
        },
        "f2de15140b0448f9843e3c45f0728318": {
          "model_module": "@jupyter-widgets/controls",
          "model_name": "ProgressStyleModel",
          "model_module_version": "1.5.0",
          "state": {
            "_model_module": "@jupyter-widgets/controls",
            "_model_module_version": "1.5.0",
            "_model_name": "ProgressStyleModel",
            "_view_count": null,
            "_view_module": "@jupyter-widgets/base",
            "_view_module_version": "1.2.0",
            "_view_name": "StyleView",
            "bar_color": null,
            "description_width": ""
          }
        },
        "1524e617a80d4fcdad2b7ccff24a61dd": {
          "model_module": "@jupyter-widgets/base",
          "model_name": "LayoutModel",
          "model_module_version": "1.2.0",
          "state": {
            "_model_module": "@jupyter-widgets/base",
            "_model_module_version": "1.2.0",
            "_model_name": "LayoutModel",
            "_view_count": null,
            "_view_module": "@jupyter-widgets/base",
            "_view_module_version": "1.2.0",
            "_view_name": "LayoutView",
            "align_content": null,
            "align_items": null,
            "align_self": null,
            "border": null,
            "bottom": null,
            "display": null,
            "flex": null,
            "flex_flow": null,
            "grid_area": null,
            "grid_auto_columns": null,
            "grid_auto_flow": null,
            "grid_auto_rows": null,
            "grid_column": null,
            "grid_gap": null,
            "grid_row": null,
            "grid_template_areas": null,
            "grid_template_columns": null,
            "grid_template_rows": null,
            "height": null,
            "justify_content": null,
            "justify_items": null,
            "left": null,
            "margin": null,
            "max_height": null,
            "max_width": null,
            "min_height": null,
            "min_width": null,
            "object_fit": null,
            "object_position": null,
            "order": null,
            "overflow": null,
            "overflow_x": null,
            "overflow_y": null,
            "padding": null,
            "right": null,
            "top": null,
            "visibility": null,
            "width": null
          }
        },
        "d42e156295864a7c96d52203e18333f4": {
          "model_module": "@jupyter-widgets/controls",
          "model_name": "DescriptionStyleModel",
          "model_module_version": "1.5.0",
          "state": {
            "_model_module": "@jupyter-widgets/controls",
            "_model_module_version": "1.5.0",
            "_model_name": "DescriptionStyleModel",
            "_view_count": null,
            "_view_module": "@jupyter-widgets/base",
            "_view_module_version": "1.2.0",
            "_view_name": "StyleView",
            "description_width": ""
          }
        },
        "dd27d54c7d6d4ebab18eeb44c8a75473": {
          "model_module": "@jupyter-widgets/controls",
          "model_name": "HBoxModel",
          "model_module_version": "1.5.0",
          "state": {
            "_dom_classes": [],
            "_model_module": "@jupyter-widgets/controls",
            "_model_module_version": "1.5.0",
            "_model_name": "HBoxModel",
            "_view_count": null,
            "_view_module": "@jupyter-widgets/controls",
            "_view_module_version": "1.5.0",
            "_view_name": "HBoxView",
            "box_style": "",
            "children": [
              "IPY_MODEL_7f12fe8160c44b7f81cec0c349e3fffd",
              "IPY_MODEL_f1023590e3ac445da30acabae1e4e4d1",
              "IPY_MODEL_b37d1e5ac96e4c47bcb3db3099f10270"
            ],
            "layout": "IPY_MODEL_32095db0f19e4d0fb368b40a2671918f"
          }
        },
        "7f12fe8160c44b7f81cec0c349e3fffd": {
          "model_module": "@jupyter-widgets/controls",
          "model_name": "HTMLModel",
          "model_module_version": "1.5.0",
          "state": {
            "_dom_classes": [],
            "_model_module": "@jupyter-widgets/controls",
            "_model_module_version": "1.5.0",
            "_model_name": "HTMLModel",
            "_view_count": null,
            "_view_module": "@jupyter-widgets/controls",
            "_view_module_version": "1.5.0",
            "_view_name": "HTMLView",
            "description": "",
            "description_tooltip": null,
            "layout": "IPY_MODEL_9d9b9a993d05462e922cf216d76e9fd3",
            "placeholder": "​",
            "style": "IPY_MODEL_eb9813172eea4cd0ac0ed8067caa200f",
            "value": "Epoch  2: 100%"
          }
        },
        "f1023590e3ac445da30acabae1e4e4d1": {
          "model_module": "@jupyter-widgets/controls",
          "model_name": "FloatProgressModel",
          "model_module_version": "1.5.0",
          "state": {
            "_dom_classes": [],
            "_model_module": "@jupyter-widgets/controls",
            "_model_module_version": "1.5.0",
            "_model_name": "FloatProgressModel",
            "_view_count": null,
            "_view_module": "@jupyter-widgets/controls",
            "_view_module_version": "1.5.0",
            "_view_name": "ProgressView",
            "bar_style": "success",
            "description": "",
            "description_tooltip": null,
            "layout": "IPY_MODEL_ea3e6d5199ef49d09a637528bc8e7b01",
            "max": 551,
            "min": 0,
            "orientation": "horizontal",
            "style": "IPY_MODEL_7854ebb7efdb47d384bac5ed056006bb",
            "value": 551
          }
        },
        "b37d1e5ac96e4c47bcb3db3099f10270": {
          "model_module": "@jupyter-widgets/controls",
          "model_name": "HTMLModel",
          "model_module_version": "1.5.0",
          "state": {
            "_dom_classes": [],
            "_model_module": "@jupyter-widgets/controls",
            "_model_module_version": "1.5.0",
            "_model_name": "HTMLModel",
            "_view_count": null,
            "_view_module": "@jupyter-widgets/controls",
            "_view_module_version": "1.5.0",
            "_view_name": "HTMLView",
            "description": "",
            "description_tooltip": null,
            "layout": "IPY_MODEL_62a2befc7b6b4a8c9245358a8b2efece",
            "placeholder": "​",
            "style": "IPY_MODEL_7d5b8bfce0c4489db5f28b5d0988a983",
            "value": " 551/551 [00:22&lt;00:00, 26.24it/s, Loss nan]"
          }
        },
        "32095db0f19e4d0fb368b40a2671918f": {
          "model_module": "@jupyter-widgets/base",
          "model_name": "LayoutModel",
          "model_module_version": "1.2.0",
          "state": {
            "_model_module": "@jupyter-widgets/base",
            "_model_module_version": "1.2.0",
            "_model_name": "LayoutModel",
            "_view_count": null,
            "_view_module": "@jupyter-widgets/base",
            "_view_module_version": "1.2.0",
            "_view_name": "LayoutView",
            "align_content": null,
            "align_items": null,
            "align_self": null,
            "border": null,
            "bottom": null,
            "display": null,
            "flex": null,
            "flex_flow": null,
            "grid_area": null,
            "grid_auto_columns": null,
            "grid_auto_flow": null,
            "grid_auto_rows": null,
            "grid_column": null,
            "grid_gap": null,
            "grid_row": null,
            "grid_template_areas": null,
            "grid_template_columns": null,
            "grid_template_rows": null,
            "height": null,
            "justify_content": null,
            "justify_items": null,
            "left": null,
            "margin": null,
            "max_height": null,
            "max_width": null,
            "min_height": null,
            "min_width": null,
            "object_fit": null,
            "object_position": null,
            "order": null,
            "overflow": null,
            "overflow_x": null,
            "overflow_y": null,
            "padding": null,
            "right": null,
            "top": null,
            "visibility": null,
            "width": null
          }
        },
        "9d9b9a993d05462e922cf216d76e9fd3": {
          "model_module": "@jupyter-widgets/base",
          "model_name": "LayoutModel",
          "model_module_version": "1.2.0",
          "state": {
            "_model_module": "@jupyter-widgets/base",
            "_model_module_version": "1.2.0",
            "_model_name": "LayoutModel",
            "_view_count": null,
            "_view_module": "@jupyter-widgets/base",
            "_view_module_version": "1.2.0",
            "_view_name": "LayoutView",
            "align_content": null,
            "align_items": null,
            "align_self": null,
            "border": null,
            "bottom": null,
            "display": null,
            "flex": null,
            "flex_flow": null,
            "grid_area": null,
            "grid_auto_columns": null,
            "grid_auto_flow": null,
            "grid_auto_rows": null,
            "grid_column": null,
            "grid_gap": null,
            "grid_row": null,
            "grid_template_areas": null,
            "grid_template_columns": null,
            "grid_template_rows": null,
            "height": null,
            "justify_content": null,
            "justify_items": null,
            "left": null,
            "margin": null,
            "max_height": null,
            "max_width": null,
            "min_height": null,
            "min_width": null,
            "object_fit": null,
            "object_position": null,
            "order": null,
            "overflow": null,
            "overflow_x": null,
            "overflow_y": null,
            "padding": null,
            "right": null,
            "top": null,
            "visibility": null,
            "width": null
          }
        },
        "eb9813172eea4cd0ac0ed8067caa200f": {
          "model_module": "@jupyter-widgets/controls",
          "model_name": "DescriptionStyleModel",
          "model_module_version": "1.5.0",
          "state": {
            "_model_module": "@jupyter-widgets/controls",
            "_model_module_version": "1.5.0",
            "_model_name": "DescriptionStyleModel",
            "_view_count": null,
            "_view_module": "@jupyter-widgets/base",
            "_view_module_version": "1.2.0",
            "_view_name": "StyleView",
            "description_width": ""
          }
        },
        "ea3e6d5199ef49d09a637528bc8e7b01": {
          "model_module": "@jupyter-widgets/base",
          "model_name": "LayoutModel",
          "model_module_version": "1.2.0",
          "state": {
            "_model_module": "@jupyter-widgets/base",
            "_model_module_version": "1.2.0",
            "_model_name": "LayoutModel",
            "_view_count": null,
            "_view_module": "@jupyter-widgets/base",
            "_view_module_version": "1.2.0",
            "_view_name": "LayoutView",
            "align_content": null,
            "align_items": null,
            "align_self": null,
            "border": null,
            "bottom": null,
            "display": null,
            "flex": null,
            "flex_flow": null,
            "grid_area": null,
            "grid_auto_columns": null,
            "grid_auto_flow": null,
            "grid_auto_rows": null,
            "grid_column": null,
            "grid_gap": null,
            "grid_row": null,
            "grid_template_areas": null,
            "grid_template_columns": null,
            "grid_template_rows": null,
            "height": null,
            "justify_content": null,
            "justify_items": null,
            "left": null,
            "margin": null,
            "max_height": null,
            "max_width": null,
            "min_height": null,
            "min_width": null,
            "object_fit": null,
            "object_position": null,
            "order": null,
            "overflow": null,
            "overflow_x": null,
            "overflow_y": null,
            "padding": null,
            "right": null,
            "top": null,
            "visibility": null,
            "width": null
          }
        },
        "7854ebb7efdb47d384bac5ed056006bb": {
          "model_module": "@jupyter-widgets/controls",
          "model_name": "ProgressStyleModel",
          "model_module_version": "1.5.0",
          "state": {
            "_model_module": "@jupyter-widgets/controls",
            "_model_module_version": "1.5.0",
            "_model_name": "ProgressStyleModel",
            "_view_count": null,
            "_view_module": "@jupyter-widgets/base",
            "_view_module_version": "1.2.0",
            "_view_name": "StyleView",
            "bar_color": null,
            "description_width": ""
          }
        },
        "62a2befc7b6b4a8c9245358a8b2efece": {
          "model_module": "@jupyter-widgets/base",
          "model_name": "LayoutModel",
          "model_module_version": "1.2.0",
          "state": {
            "_model_module": "@jupyter-widgets/base",
            "_model_module_version": "1.2.0",
            "_model_name": "LayoutModel",
            "_view_count": null,
            "_view_module": "@jupyter-widgets/base",
            "_view_module_version": "1.2.0",
            "_view_name": "LayoutView",
            "align_content": null,
            "align_items": null,
            "align_self": null,
            "border": null,
            "bottom": null,
            "display": null,
            "flex": null,
            "flex_flow": null,
            "grid_area": null,
            "grid_auto_columns": null,
            "grid_auto_flow": null,
            "grid_auto_rows": null,
            "grid_column": null,
            "grid_gap": null,
            "grid_row": null,
            "grid_template_areas": null,
            "grid_template_columns": null,
            "grid_template_rows": null,
            "height": null,
            "justify_content": null,
            "justify_items": null,
            "left": null,
            "margin": null,
            "max_height": null,
            "max_width": null,
            "min_height": null,
            "min_width": null,
            "object_fit": null,
            "object_position": null,
            "order": null,
            "overflow": null,
            "overflow_x": null,
            "overflow_y": null,
            "padding": null,
            "right": null,
            "top": null,
            "visibility": null,
            "width": null
          }
        },
        "7d5b8bfce0c4489db5f28b5d0988a983": {
          "model_module": "@jupyter-widgets/controls",
          "model_name": "DescriptionStyleModel",
          "model_module_version": "1.5.0",
          "state": {
            "_model_module": "@jupyter-widgets/controls",
            "_model_module_version": "1.5.0",
            "_model_name": "DescriptionStyleModel",
            "_view_count": null,
            "_view_module": "@jupyter-widgets/base",
            "_view_module_version": "1.2.0",
            "_view_name": "StyleView",
            "description_width": ""
          }
        },
        "d03933f20a5b4645af31465e19363436": {
          "model_module": "@jupyter-widgets/controls",
          "model_name": "HBoxModel",
          "model_module_version": "1.5.0",
          "state": {
            "_dom_classes": [],
            "_model_module": "@jupyter-widgets/controls",
            "_model_module_version": "1.5.0",
            "_model_name": "HBoxModel",
            "_view_count": null,
            "_view_module": "@jupyter-widgets/controls",
            "_view_module_version": "1.5.0",
            "_view_name": "HBoxView",
            "box_style": "",
            "children": [
              "IPY_MODEL_1ab348b60d4740de90b1cbf2dd21c098",
              "IPY_MODEL_434b1cd8b9df46c3b3bd9235a6ba24ac",
              "IPY_MODEL_a624dfad5780479a99b9d85bc8619fcc"
            ],
            "layout": "IPY_MODEL_3ae5d7868149469daf85cf216dc32dfa"
          }
        },
        "1ab348b60d4740de90b1cbf2dd21c098": {
          "model_module": "@jupyter-widgets/controls",
          "model_name": "HTMLModel",
          "model_module_version": "1.5.0",
          "state": {
            "_dom_classes": [],
            "_model_module": "@jupyter-widgets/controls",
            "_model_module_version": "1.5.0",
            "_model_name": "HTMLModel",
            "_view_count": null,
            "_view_module": "@jupyter-widgets/controls",
            "_view_module_version": "1.5.0",
            "_view_name": "HTMLView",
            "description": "",
            "description_tooltip": null,
            "layout": "IPY_MODEL_95e02ad01aa44ec4b0017efb272b3444",
            "placeholder": "​",
            "style": "IPY_MODEL_567e3a39c39349bb8dbfef952c87dd1e",
            "value": "Epoch  3: 100%"
          }
        },
        "434b1cd8b9df46c3b3bd9235a6ba24ac": {
          "model_module": "@jupyter-widgets/controls",
          "model_name": "FloatProgressModel",
          "model_module_version": "1.5.0",
          "state": {
            "_dom_classes": [],
            "_model_module": "@jupyter-widgets/controls",
            "_model_module_version": "1.5.0",
            "_model_name": "FloatProgressModel",
            "_view_count": null,
            "_view_module": "@jupyter-widgets/controls",
            "_view_module_version": "1.5.0",
            "_view_name": "ProgressView",
            "bar_style": "success",
            "description": "",
            "description_tooltip": null,
            "layout": "IPY_MODEL_10228758598a4b7eb8ef830a7e4e894c",
            "max": 551,
            "min": 0,
            "orientation": "horizontal",
            "style": "IPY_MODEL_48b76c6555004cbda5ecc5c9e3d28247",
            "value": 551
          }
        },
        "a624dfad5780479a99b9d85bc8619fcc": {
          "model_module": "@jupyter-widgets/controls",
          "model_name": "HTMLModel",
          "model_module_version": "1.5.0",
          "state": {
            "_dom_classes": [],
            "_model_module": "@jupyter-widgets/controls",
            "_model_module_version": "1.5.0",
            "_model_name": "HTMLModel",
            "_view_count": null,
            "_view_module": "@jupyter-widgets/controls",
            "_view_module_version": "1.5.0",
            "_view_name": "HTMLView",
            "description": "",
            "description_tooltip": null,
            "layout": "IPY_MODEL_8647443223f9434eb9478a1b0e1daa1e",
            "placeholder": "​",
            "style": "IPY_MODEL_9af7738d2f17476f9de8dbe46954f4c1",
            "value": " 551/551 [07:02&lt;00:00, 26.04it/s, Loss nan]"
          }
        },
        "3ae5d7868149469daf85cf216dc32dfa": {
          "model_module": "@jupyter-widgets/base",
          "model_name": "LayoutModel",
          "model_module_version": "1.2.0",
          "state": {
            "_model_module": "@jupyter-widgets/base",
            "_model_module_version": "1.2.0",
            "_model_name": "LayoutModel",
            "_view_count": null,
            "_view_module": "@jupyter-widgets/base",
            "_view_module_version": "1.2.0",
            "_view_name": "LayoutView",
            "align_content": null,
            "align_items": null,
            "align_self": null,
            "border": null,
            "bottom": null,
            "display": null,
            "flex": null,
            "flex_flow": null,
            "grid_area": null,
            "grid_auto_columns": null,
            "grid_auto_flow": null,
            "grid_auto_rows": null,
            "grid_column": null,
            "grid_gap": null,
            "grid_row": null,
            "grid_template_areas": null,
            "grid_template_columns": null,
            "grid_template_rows": null,
            "height": null,
            "justify_content": null,
            "justify_items": null,
            "left": null,
            "margin": null,
            "max_height": null,
            "max_width": null,
            "min_height": null,
            "min_width": null,
            "object_fit": null,
            "object_position": null,
            "order": null,
            "overflow": null,
            "overflow_x": null,
            "overflow_y": null,
            "padding": null,
            "right": null,
            "top": null,
            "visibility": null,
            "width": null
          }
        },
        "95e02ad01aa44ec4b0017efb272b3444": {
          "model_module": "@jupyter-widgets/base",
          "model_name": "LayoutModel",
          "model_module_version": "1.2.0",
          "state": {
            "_model_module": "@jupyter-widgets/base",
            "_model_module_version": "1.2.0",
            "_model_name": "LayoutModel",
            "_view_count": null,
            "_view_module": "@jupyter-widgets/base",
            "_view_module_version": "1.2.0",
            "_view_name": "LayoutView",
            "align_content": null,
            "align_items": null,
            "align_self": null,
            "border": null,
            "bottom": null,
            "display": null,
            "flex": null,
            "flex_flow": null,
            "grid_area": null,
            "grid_auto_columns": null,
            "grid_auto_flow": null,
            "grid_auto_rows": null,
            "grid_column": null,
            "grid_gap": null,
            "grid_row": null,
            "grid_template_areas": null,
            "grid_template_columns": null,
            "grid_template_rows": null,
            "height": null,
            "justify_content": null,
            "justify_items": null,
            "left": null,
            "margin": null,
            "max_height": null,
            "max_width": null,
            "min_height": null,
            "min_width": null,
            "object_fit": null,
            "object_position": null,
            "order": null,
            "overflow": null,
            "overflow_x": null,
            "overflow_y": null,
            "padding": null,
            "right": null,
            "top": null,
            "visibility": null,
            "width": null
          }
        },
        "567e3a39c39349bb8dbfef952c87dd1e": {
          "model_module": "@jupyter-widgets/controls",
          "model_name": "DescriptionStyleModel",
          "model_module_version": "1.5.0",
          "state": {
            "_model_module": "@jupyter-widgets/controls",
            "_model_module_version": "1.5.0",
            "_model_name": "DescriptionStyleModel",
            "_view_count": null,
            "_view_module": "@jupyter-widgets/base",
            "_view_module_version": "1.2.0",
            "_view_name": "StyleView",
            "description_width": ""
          }
        },
        "10228758598a4b7eb8ef830a7e4e894c": {
          "model_module": "@jupyter-widgets/base",
          "model_name": "LayoutModel",
          "model_module_version": "1.2.0",
          "state": {
            "_model_module": "@jupyter-widgets/base",
            "_model_module_version": "1.2.0",
            "_model_name": "LayoutModel",
            "_view_count": null,
            "_view_module": "@jupyter-widgets/base",
            "_view_module_version": "1.2.0",
            "_view_name": "LayoutView",
            "align_content": null,
            "align_items": null,
            "align_self": null,
            "border": null,
            "bottom": null,
            "display": null,
            "flex": null,
            "flex_flow": null,
            "grid_area": null,
            "grid_auto_columns": null,
            "grid_auto_flow": null,
            "grid_auto_rows": null,
            "grid_column": null,
            "grid_gap": null,
            "grid_row": null,
            "grid_template_areas": null,
            "grid_template_columns": null,
            "grid_template_rows": null,
            "height": null,
            "justify_content": null,
            "justify_items": null,
            "left": null,
            "margin": null,
            "max_height": null,
            "max_width": null,
            "min_height": null,
            "min_width": null,
            "object_fit": null,
            "object_position": null,
            "order": null,
            "overflow": null,
            "overflow_x": null,
            "overflow_y": null,
            "padding": null,
            "right": null,
            "top": null,
            "visibility": null,
            "width": null
          }
        },
        "48b76c6555004cbda5ecc5c9e3d28247": {
          "model_module": "@jupyter-widgets/controls",
          "model_name": "ProgressStyleModel",
          "model_module_version": "1.5.0",
          "state": {
            "_model_module": "@jupyter-widgets/controls",
            "_model_module_version": "1.5.0",
            "_model_name": "ProgressStyleModel",
            "_view_count": null,
            "_view_module": "@jupyter-widgets/base",
            "_view_module_version": "1.2.0",
            "_view_name": "StyleView",
            "bar_color": null,
            "description_width": ""
          }
        },
        "8647443223f9434eb9478a1b0e1daa1e": {
          "model_module": "@jupyter-widgets/base",
          "model_name": "LayoutModel",
          "model_module_version": "1.2.0",
          "state": {
            "_model_module": "@jupyter-widgets/base",
            "_model_module_version": "1.2.0",
            "_model_name": "LayoutModel",
            "_view_count": null,
            "_view_module": "@jupyter-widgets/base",
            "_view_module_version": "1.2.0",
            "_view_name": "LayoutView",
            "align_content": null,
            "align_items": null,
            "align_self": null,
            "border": null,
            "bottom": null,
            "display": null,
            "flex": null,
            "flex_flow": null,
            "grid_area": null,
            "grid_auto_columns": null,
            "grid_auto_flow": null,
            "grid_auto_rows": null,
            "grid_column": null,
            "grid_gap": null,
            "grid_row": null,
            "grid_template_areas": null,
            "grid_template_columns": null,
            "grid_template_rows": null,
            "height": null,
            "justify_content": null,
            "justify_items": null,
            "left": null,
            "margin": null,
            "max_height": null,
            "max_width": null,
            "min_height": null,
            "min_width": null,
            "object_fit": null,
            "object_position": null,
            "order": null,
            "overflow": null,
            "overflow_x": null,
            "overflow_y": null,
            "padding": null,
            "right": null,
            "top": null,
            "visibility": null,
            "width": null
          }
        },
        "9af7738d2f17476f9de8dbe46954f4c1": {
          "model_module": "@jupyter-widgets/controls",
          "model_name": "DescriptionStyleModel",
          "model_module_version": "1.5.0",
          "state": {
            "_model_module": "@jupyter-widgets/controls",
            "_model_module_version": "1.5.0",
            "_model_name": "DescriptionStyleModel",
            "_view_count": null,
            "_view_module": "@jupyter-widgets/base",
            "_view_module_version": "1.2.0",
            "_view_name": "StyleView",
            "description_width": ""
          }
        },
        "317620ee9b2b4c378e1238543726aa68": {
          "model_module": "@jupyter-widgets/controls",
          "model_name": "HBoxModel",
          "model_module_version": "1.5.0",
          "state": {
            "_dom_classes": [],
            "_model_module": "@jupyter-widgets/controls",
            "_model_module_version": "1.5.0",
            "_model_name": "HBoxModel",
            "_view_count": null,
            "_view_module": "@jupyter-widgets/controls",
            "_view_module_version": "1.5.0",
            "_view_name": "HBoxView",
            "box_style": "",
            "children": [
              "IPY_MODEL_53a8e40ccfda4ec79d08d841846ca493",
              "IPY_MODEL_78cc1d2d65814aa5a1d0ebf2ef8336ad",
              "IPY_MODEL_ab8f8bc4b5ed49839573fd7cb951972e"
            ],
            "layout": "IPY_MODEL_2eedd68da4644ef898684b9c1b6b8e06"
          }
        },
        "53a8e40ccfda4ec79d08d841846ca493": {
          "model_module": "@jupyter-widgets/controls",
          "model_name": "HTMLModel",
          "model_module_version": "1.5.0",
          "state": {
            "_dom_classes": [],
            "_model_module": "@jupyter-widgets/controls",
            "_model_module_version": "1.5.0",
            "_model_name": "HTMLModel",
            "_view_count": null,
            "_view_module": "@jupyter-widgets/controls",
            "_view_module_version": "1.5.0",
            "_view_name": "HTMLView",
            "description": "",
            "description_tooltip": null,
            "layout": "IPY_MODEL_62076fc7db1e4423a265f6376b0f3a69",
            "placeholder": "​",
            "style": "IPY_MODEL_c027458ee56f41a4ae036e62b2f8c8cf",
            "value": "Epoch  4: 100%"
          }
        },
        "78cc1d2d65814aa5a1d0ebf2ef8336ad": {
          "model_module": "@jupyter-widgets/controls",
          "model_name": "FloatProgressModel",
          "model_module_version": "1.5.0",
          "state": {
            "_dom_classes": [],
            "_model_module": "@jupyter-widgets/controls",
            "_model_module_version": "1.5.0",
            "_model_name": "FloatProgressModel",
            "_view_count": null,
            "_view_module": "@jupyter-widgets/controls",
            "_view_module_version": "1.5.0",
            "_view_name": "ProgressView",
            "bar_style": "success",
            "description": "",
            "description_tooltip": null,
            "layout": "IPY_MODEL_d3c8491685824d579260454ae7ec4843",
            "max": 551,
            "min": 0,
            "orientation": "horizontal",
            "style": "IPY_MODEL_168bd2d28fe247308c22b160c7dbfd0b",
            "value": 551
          }
        },
        "ab8f8bc4b5ed49839573fd7cb951972e": {
          "model_module": "@jupyter-widgets/controls",
          "model_name": "HTMLModel",
          "model_module_version": "1.5.0",
          "state": {
            "_dom_classes": [],
            "_model_module": "@jupyter-widgets/controls",
            "_model_module_version": "1.5.0",
            "_model_name": "HTMLModel",
            "_view_count": null,
            "_view_module": "@jupyter-widgets/controls",
            "_view_module_version": "1.5.0",
            "_view_name": "HTMLView",
            "description": "",
            "description_tooltip": null,
            "layout": "IPY_MODEL_d35221c2bfc148bda4d2a0abacbbd175",
            "placeholder": "​",
            "style": "IPY_MODEL_5d6d1731c6744d7ab1067c11949252e4",
            "value": " 551/551 [01:02&lt;00:00, 26.19it/s, Loss nan]"
          }
        },
        "2eedd68da4644ef898684b9c1b6b8e06": {
          "model_module": "@jupyter-widgets/base",
          "model_name": "LayoutModel",
          "model_module_version": "1.2.0",
          "state": {
            "_model_module": "@jupyter-widgets/base",
            "_model_module_version": "1.2.0",
            "_model_name": "LayoutModel",
            "_view_count": null,
            "_view_module": "@jupyter-widgets/base",
            "_view_module_version": "1.2.0",
            "_view_name": "LayoutView",
            "align_content": null,
            "align_items": null,
            "align_self": null,
            "border": null,
            "bottom": null,
            "display": null,
            "flex": null,
            "flex_flow": null,
            "grid_area": null,
            "grid_auto_columns": null,
            "grid_auto_flow": null,
            "grid_auto_rows": null,
            "grid_column": null,
            "grid_gap": null,
            "grid_row": null,
            "grid_template_areas": null,
            "grid_template_columns": null,
            "grid_template_rows": null,
            "height": null,
            "justify_content": null,
            "justify_items": null,
            "left": null,
            "margin": null,
            "max_height": null,
            "max_width": null,
            "min_height": null,
            "min_width": null,
            "object_fit": null,
            "object_position": null,
            "order": null,
            "overflow": null,
            "overflow_x": null,
            "overflow_y": null,
            "padding": null,
            "right": null,
            "top": null,
            "visibility": null,
            "width": null
          }
        },
        "62076fc7db1e4423a265f6376b0f3a69": {
          "model_module": "@jupyter-widgets/base",
          "model_name": "LayoutModel",
          "model_module_version": "1.2.0",
          "state": {
            "_model_module": "@jupyter-widgets/base",
            "_model_module_version": "1.2.0",
            "_model_name": "LayoutModel",
            "_view_count": null,
            "_view_module": "@jupyter-widgets/base",
            "_view_module_version": "1.2.0",
            "_view_name": "LayoutView",
            "align_content": null,
            "align_items": null,
            "align_self": null,
            "border": null,
            "bottom": null,
            "display": null,
            "flex": null,
            "flex_flow": null,
            "grid_area": null,
            "grid_auto_columns": null,
            "grid_auto_flow": null,
            "grid_auto_rows": null,
            "grid_column": null,
            "grid_gap": null,
            "grid_row": null,
            "grid_template_areas": null,
            "grid_template_columns": null,
            "grid_template_rows": null,
            "height": null,
            "justify_content": null,
            "justify_items": null,
            "left": null,
            "margin": null,
            "max_height": null,
            "max_width": null,
            "min_height": null,
            "min_width": null,
            "object_fit": null,
            "object_position": null,
            "order": null,
            "overflow": null,
            "overflow_x": null,
            "overflow_y": null,
            "padding": null,
            "right": null,
            "top": null,
            "visibility": null,
            "width": null
          }
        },
        "c027458ee56f41a4ae036e62b2f8c8cf": {
          "model_module": "@jupyter-widgets/controls",
          "model_name": "DescriptionStyleModel",
          "model_module_version": "1.5.0",
          "state": {
            "_model_module": "@jupyter-widgets/controls",
            "_model_module_version": "1.5.0",
            "_model_name": "DescriptionStyleModel",
            "_view_count": null,
            "_view_module": "@jupyter-widgets/base",
            "_view_module_version": "1.2.0",
            "_view_name": "StyleView",
            "description_width": ""
          }
        },
        "d3c8491685824d579260454ae7ec4843": {
          "model_module": "@jupyter-widgets/base",
          "model_name": "LayoutModel",
          "model_module_version": "1.2.0",
          "state": {
            "_model_module": "@jupyter-widgets/base",
            "_model_module_version": "1.2.0",
            "_model_name": "LayoutModel",
            "_view_count": null,
            "_view_module": "@jupyter-widgets/base",
            "_view_module_version": "1.2.0",
            "_view_name": "LayoutView",
            "align_content": null,
            "align_items": null,
            "align_self": null,
            "border": null,
            "bottom": null,
            "display": null,
            "flex": null,
            "flex_flow": null,
            "grid_area": null,
            "grid_auto_columns": null,
            "grid_auto_flow": null,
            "grid_auto_rows": null,
            "grid_column": null,
            "grid_gap": null,
            "grid_row": null,
            "grid_template_areas": null,
            "grid_template_columns": null,
            "grid_template_rows": null,
            "height": null,
            "justify_content": null,
            "justify_items": null,
            "left": null,
            "margin": null,
            "max_height": null,
            "max_width": null,
            "min_height": null,
            "min_width": null,
            "object_fit": null,
            "object_position": null,
            "order": null,
            "overflow": null,
            "overflow_x": null,
            "overflow_y": null,
            "padding": null,
            "right": null,
            "top": null,
            "visibility": null,
            "width": null
          }
        },
        "168bd2d28fe247308c22b160c7dbfd0b": {
          "model_module": "@jupyter-widgets/controls",
          "model_name": "ProgressStyleModel",
          "model_module_version": "1.5.0",
          "state": {
            "_model_module": "@jupyter-widgets/controls",
            "_model_module_version": "1.5.0",
            "_model_name": "ProgressStyleModel",
            "_view_count": null,
            "_view_module": "@jupyter-widgets/base",
            "_view_module_version": "1.2.0",
            "_view_name": "StyleView",
            "bar_color": null,
            "description_width": ""
          }
        },
        "d35221c2bfc148bda4d2a0abacbbd175": {
          "model_module": "@jupyter-widgets/base",
          "model_name": "LayoutModel",
          "model_module_version": "1.2.0",
          "state": {
            "_model_module": "@jupyter-widgets/base",
            "_model_module_version": "1.2.0",
            "_model_name": "LayoutModel",
            "_view_count": null,
            "_view_module": "@jupyter-widgets/base",
            "_view_module_version": "1.2.0",
            "_view_name": "LayoutView",
            "align_content": null,
            "align_items": null,
            "align_self": null,
            "border": null,
            "bottom": null,
            "display": null,
            "flex": null,
            "flex_flow": null,
            "grid_area": null,
            "grid_auto_columns": null,
            "grid_auto_flow": null,
            "grid_auto_rows": null,
            "grid_column": null,
            "grid_gap": null,
            "grid_row": null,
            "grid_template_areas": null,
            "grid_template_columns": null,
            "grid_template_rows": null,
            "height": null,
            "justify_content": null,
            "justify_items": null,
            "left": null,
            "margin": null,
            "max_height": null,
            "max_width": null,
            "min_height": null,
            "min_width": null,
            "object_fit": null,
            "object_position": null,
            "order": null,
            "overflow": null,
            "overflow_x": null,
            "overflow_y": null,
            "padding": null,
            "right": null,
            "top": null,
            "visibility": null,
            "width": null
          }
        },
        "5d6d1731c6744d7ab1067c11949252e4": {
          "model_module": "@jupyter-widgets/controls",
          "model_name": "DescriptionStyleModel",
          "model_module_version": "1.5.0",
          "state": {
            "_model_module": "@jupyter-widgets/controls",
            "_model_module_version": "1.5.0",
            "_model_name": "DescriptionStyleModel",
            "_view_count": null,
            "_view_module": "@jupyter-widgets/base",
            "_view_module_version": "1.2.0",
            "_view_name": "StyleView",
            "description_width": ""
          }
        },
        "f418ece5a02a4dd3a7303bdd979acbae": {
          "model_module": "@jupyter-widgets/controls",
          "model_name": "HBoxModel",
          "model_module_version": "1.5.0",
          "state": {
            "_dom_classes": [],
            "_model_module": "@jupyter-widgets/controls",
            "_model_module_version": "1.5.0",
            "_model_name": "HBoxModel",
            "_view_count": null,
            "_view_module": "@jupyter-widgets/controls",
            "_view_module_version": "1.5.0",
            "_view_name": "HBoxView",
            "box_style": "",
            "children": [
              "IPY_MODEL_bcf5894acc3e4b0e88118941c546d06d",
              "IPY_MODEL_73eafa446c4e4d1a8ed5cfc2a2aeaa66",
              "IPY_MODEL_a5b2ec04faa04512ba242c56f847ccb9"
            ],
            "layout": "IPY_MODEL_3fddb561a0d442a1bc128a304de89484"
          }
        },
        "bcf5894acc3e4b0e88118941c546d06d": {
          "model_module": "@jupyter-widgets/controls",
          "model_name": "HTMLModel",
          "model_module_version": "1.5.0",
          "state": {
            "_dom_classes": [],
            "_model_module": "@jupyter-widgets/controls",
            "_model_module_version": "1.5.0",
            "_model_name": "HTMLModel",
            "_view_count": null,
            "_view_module": "@jupyter-widgets/controls",
            "_view_module_version": "1.5.0",
            "_view_name": "HTMLView",
            "description": "",
            "description_tooltip": null,
            "layout": "IPY_MODEL_a2d952890fe34a2c99c5c13466760292",
            "placeholder": "​",
            "style": "IPY_MODEL_7cf97d1b013944049f574a18780156a2",
            "value": "Epoch  5: 100%"
          }
        },
        "73eafa446c4e4d1a8ed5cfc2a2aeaa66": {
          "model_module": "@jupyter-widgets/controls",
          "model_name": "FloatProgressModel",
          "model_module_version": "1.5.0",
          "state": {
            "_dom_classes": [],
            "_model_module": "@jupyter-widgets/controls",
            "_model_module_version": "1.5.0",
            "_model_name": "FloatProgressModel",
            "_view_count": null,
            "_view_module": "@jupyter-widgets/controls",
            "_view_module_version": "1.5.0",
            "_view_name": "ProgressView",
            "bar_style": "success",
            "description": "",
            "description_tooltip": null,
            "layout": "IPY_MODEL_f0a3efc9140e4fa7bedafaae51df3852",
            "max": 551,
            "min": 0,
            "orientation": "horizontal",
            "style": "IPY_MODEL_190a5ebc89e84bcc961b6648ed1deb2b",
            "value": 551
          }
        },
        "a5b2ec04faa04512ba242c56f847ccb9": {
          "model_module": "@jupyter-widgets/controls",
          "model_name": "HTMLModel",
          "model_module_version": "1.5.0",
          "state": {
            "_dom_classes": [],
            "_model_module": "@jupyter-widgets/controls",
            "_model_module_version": "1.5.0",
            "_model_name": "HTMLModel",
            "_view_count": null,
            "_view_module": "@jupyter-widgets/controls",
            "_view_module_version": "1.5.0",
            "_view_name": "HTMLView",
            "description": "",
            "description_tooltip": null,
            "layout": "IPY_MODEL_dc68425d6a3f48c5880a832dcdf3277e",
            "placeholder": "​",
            "style": "IPY_MODEL_cb674bb18ed949e8a4d59d799055cabe",
            "value": " 551/551 [05:40&lt;00:00, 23.56it/s, Loss nan]"
          }
        },
        "3fddb561a0d442a1bc128a304de89484": {
          "model_module": "@jupyter-widgets/base",
          "model_name": "LayoutModel",
          "model_module_version": "1.2.0",
          "state": {
            "_model_module": "@jupyter-widgets/base",
            "_model_module_version": "1.2.0",
            "_model_name": "LayoutModel",
            "_view_count": null,
            "_view_module": "@jupyter-widgets/base",
            "_view_module_version": "1.2.0",
            "_view_name": "LayoutView",
            "align_content": null,
            "align_items": null,
            "align_self": null,
            "border": null,
            "bottom": null,
            "display": null,
            "flex": null,
            "flex_flow": null,
            "grid_area": null,
            "grid_auto_columns": null,
            "grid_auto_flow": null,
            "grid_auto_rows": null,
            "grid_column": null,
            "grid_gap": null,
            "grid_row": null,
            "grid_template_areas": null,
            "grid_template_columns": null,
            "grid_template_rows": null,
            "height": null,
            "justify_content": null,
            "justify_items": null,
            "left": null,
            "margin": null,
            "max_height": null,
            "max_width": null,
            "min_height": null,
            "min_width": null,
            "object_fit": null,
            "object_position": null,
            "order": null,
            "overflow": null,
            "overflow_x": null,
            "overflow_y": null,
            "padding": null,
            "right": null,
            "top": null,
            "visibility": null,
            "width": null
          }
        },
        "a2d952890fe34a2c99c5c13466760292": {
          "model_module": "@jupyter-widgets/base",
          "model_name": "LayoutModel",
          "model_module_version": "1.2.0",
          "state": {
            "_model_module": "@jupyter-widgets/base",
            "_model_module_version": "1.2.0",
            "_model_name": "LayoutModel",
            "_view_count": null,
            "_view_module": "@jupyter-widgets/base",
            "_view_module_version": "1.2.0",
            "_view_name": "LayoutView",
            "align_content": null,
            "align_items": null,
            "align_self": null,
            "border": null,
            "bottom": null,
            "display": null,
            "flex": null,
            "flex_flow": null,
            "grid_area": null,
            "grid_auto_columns": null,
            "grid_auto_flow": null,
            "grid_auto_rows": null,
            "grid_column": null,
            "grid_gap": null,
            "grid_row": null,
            "grid_template_areas": null,
            "grid_template_columns": null,
            "grid_template_rows": null,
            "height": null,
            "justify_content": null,
            "justify_items": null,
            "left": null,
            "margin": null,
            "max_height": null,
            "max_width": null,
            "min_height": null,
            "min_width": null,
            "object_fit": null,
            "object_position": null,
            "order": null,
            "overflow": null,
            "overflow_x": null,
            "overflow_y": null,
            "padding": null,
            "right": null,
            "top": null,
            "visibility": null,
            "width": null
          }
        },
        "7cf97d1b013944049f574a18780156a2": {
          "model_module": "@jupyter-widgets/controls",
          "model_name": "DescriptionStyleModel",
          "model_module_version": "1.5.0",
          "state": {
            "_model_module": "@jupyter-widgets/controls",
            "_model_module_version": "1.5.0",
            "_model_name": "DescriptionStyleModel",
            "_view_count": null,
            "_view_module": "@jupyter-widgets/base",
            "_view_module_version": "1.2.0",
            "_view_name": "StyleView",
            "description_width": ""
          }
        },
        "f0a3efc9140e4fa7bedafaae51df3852": {
          "model_module": "@jupyter-widgets/base",
          "model_name": "LayoutModel",
          "model_module_version": "1.2.0",
          "state": {
            "_model_module": "@jupyter-widgets/base",
            "_model_module_version": "1.2.0",
            "_model_name": "LayoutModel",
            "_view_count": null,
            "_view_module": "@jupyter-widgets/base",
            "_view_module_version": "1.2.0",
            "_view_name": "LayoutView",
            "align_content": null,
            "align_items": null,
            "align_self": null,
            "border": null,
            "bottom": null,
            "display": null,
            "flex": null,
            "flex_flow": null,
            "grid_area": null,
            "grid_auto_columns": null,
            "grid_auto_flow": null,
            "grid_auto_rows": null,
            "grid_column": null,
            "grid_gap": null,
            "grid_row": null,
            "grid_template_areas": null,
            "grid_template_columns": null,
            "grid_template_rows": null,
            "height": null,
            "justify_content": null,
            "justify_items": null,
            "left": null,
            "margin": null,
            "max_height": null,
            "max_width": null,
            "min_height": null,
            "min_width": null,
            "object_fit": null,
            "object_position": null,
            "order": null,
            "overflow": null,
            "overflow_x": null,
            "overflow_y": null,
            "padding": null,
            "right": null,
            "top": null,
            "visibility": null,
            "width": null
          }
        },
        "190a5ebc89e84bcc961b6648ed1deb2b": {
          "model_module": "@jupyter-widgets/controls",
          "model_name": "ProgressStyleModel",
          "model_module_version": "1.5.0",
          "state": {
            "_model_module": "@jupyter-widgets/controls",
            "_model_module_version": "1.5.0",
            "_model_name": "ProgressStyleModel",
            "_view_count": null,
            "_view_module": "@jupyter-widgets/base",
            "_view_module_version": "1.2.0",
            "_view_name": "StyleView",
            "bar_color": null,
            "description_width": ""
          }
        },
        "dc68425d6a3f48c5880a832dcdf3277e": {
          "model_module": "@jupyter-widgets/base",
          "model_name": "LayoutModel",
          "model_module_version": "1.2.0",
          "state": {
            "_model_module": "@jupyter-widgets/base",
            "_model_module_version": "1.2.0",
            "_model_name": "LayoutModel",
            "_view_count": null,
            "_view_module": "@jupyter-widgets/base",
            "_view_module_version": "1.2.0",
            "_view_name": "LayoutView",
            "align_content": null,
            "align_items": null,
            "align_self": null,
            "border": null,
            "bottom": null,
            "display": null,
            "flex": null,
            "flex_flow": null,
            "grid_area": null,
            "grid_auto_columns": null,
            "grid_auto_flow": null,
            "grid_auto_rows": null,
            "grid_column": null,
            "grid_gap": null,
            "grid_row": null,
            "grid_template_areas": null,
            "grid_template_columns": null,
            "grid_template_rows": null,
            "height": null,
            "justify_content": null,
            "justify_items": null,
            "left": null,
            "margin": null,
            "max_height": null,
            "max_width": null,
            "min_height": null,
            "min_width": null,
            "object_fit": null,
            "object_position": null,
            "order": null,
            "overflow": null,
            "overflow_x": null,
            "overflow_y": null,
            "padding": null,
            "right": null,
            "top": null,
            "visibility": null,
            "width": null
          }
        },
        "cb674bb18ed949e8a4d59d799055cabe": {
          "model_module": "@jupyter-widgets/controls",
          "model_name": "DescriptionStyleModel",
          "model_module_version": "1.5.0",
          "state": {
            "_model_module": "@jupyter-widgets/controls",
            "_model_module_version": "1.5.0",
            "_model_name": "DescriptionStyleModel",
            "_view_count": null,
            "_view_module": "@jupyter-widgets/base",
            "_view_module_version": "1.2.0",
            "_view_name": "StyleView",
            "description_width": ""
          }
        },
        "9e5dda26606f41ccb983a0da4b7b0083": {
          "model_module": "@jupyter-widgets/controls",
          "model_name": "HBoxModel",
          "model_module_version": "1.5.0",
          "state": {
            "_dom_classes": [],
            "_model_module": "@jupyter-widgets/controls",
            "_model_module_version": "1.5.0",
            "_model_name": "HBoxModel",
            "_view_count": null,
            "_view_module": "@jupyter-widgets/controls",
            "_view_module_version": "1.5.0",
            "_view_name": "HBoxView",
            "box_style": "",
            "children": [
              "IPY_MODEL_0cda8e8947c54bd4ac82fee7ccc2f522",
              "IPY_MODEL_cf077f28850341b69407477e05dc3efa",
              "IPY_MODEL_ead8a207bfa1496c9d0b9ba146151440"
            ],
            "layout": "IPY_MODEL_45daab91094848d285827715d27c6561"
          }
        },
        "0cda8e8947c54bd4ac82fee7ccc2f522": {
          "model_module": "@jupyter-widgets/controls",
          "model_name": "HTMLModel",
          "model_module_version": "1.5.0",
          "state": {
            "_dom_classes": [],
            "_model_module": "@jupyter-widgets/controls",
            "_model_module_version": "1.5.0",
            "_model_name": "HTMLModel",
            "_view_count": null,
            "_view_module": "@jupyter-widgets/controls",
            "_view_module_version": "1.5.0",
            "_view_name": "HTMLView",
            "description": "",
            "description_tooltip": null,
            "layout": "IPY_MODEL_050526baa10a4079b0f14b290a2ab7e2",
            "placeholder": "​",
            "style": "IPY_MODEL_331e647159474776bbee1935bef009af",
            "value": "Epoch  6: 100%"
          }
        },
        "cf077f28850341b69407477e05dc3efa": {
          "model_module": "@jupyter-widgets/controls",
          "model_name": "FloatProgressModel",
          "model_module_version": "1.5.0",
          "state": {
            "_dom_classes": [],
            "_model_module": "@jupyter-widgets/controls",
            "_model_module_version": "1.5.0",
            "_model_name": "FloatProgressModel",
            "_view_count": null,
            "_view_module": "@jupyter-widgets/controls",
            "_view_module_version": "1.5.0",
            "_view_name": "ProgressView",
            "bar_style": "success",
            "description": "",
            "description_tooltip": null,
            "layout": "IPY_MODEL_e106c7985db94477ad028ce127c7be4a",
            "max": 551,
            "min": 0,
            "orientation": "horizontal",
            "style": "IPY_MODEL_aabfda24c7e948bdb6e77186d862461e",
            "value": 551
          }
        },
        "ead8a207bfa1496c9d0b9ba146151440": {
          "model_module": "@jupyter-widgets/controls",
          "model_name": "HTMLModel",
          "model_module_version": "1.5.0",
          "state": {
            "_dom_classes": [],
            "_model_module": "@jupyter-widgets/controls",
            "_model_module_version": "1.5.0",
            "_model_name": "HTMLModel",
            "_view_count": null,
            "_view_module": "@jupyter-widgets/controls",
            "_view_module_version": "1.5.0",
            "_view_name": "HTMLView",
            "description": "",
            "description_tooltip": null,
            "layout": "IPY_MODEL_e91c0a8ef14c42eaa318db3d94c27e19",
            "placeholder": "​",
            "style": "IPY_MODEL_8f338f862eb94c77aacc36ef6eea3eb5",
            "value": " 551/551 [05:18&lt;00:00, 24.19it/s, Loss nan]"
          }
        },
        "45daab91094848d285827715d27c6561": {
          "model_module": "@jupyter-widgets/base",
          "model_name": "LayoutModel",
          "model_module_version": "1.2.0",
          "state": {
            "_model_module": "@jupyter-widgets/base",
            "_model_module_version": "1.2.0",
            "_model_name": "LayoutModel",
            "_view_count": null,
            "_view_module": "@jupyter-widgets/base",
            "_view_module_version": "1.2.0",
            "_view_name": "LayoutView",
            "align_content": null,
            "align_items": null,
            "align_self": null,
            "border": null,
            "bottom": null,
            "display": null,
            "flex": null,
            "flex_flow": null,
            "grid_area": null,
            "grid_auto_columns": null,
            "grid_auto_flow": null,
            "grid_auto_rows": null,
            "grid_column": null,
            "grid_gap": null,
            "grid_row": null,
            "grid_template_areas": null,
            "grid_template_columns": null,
            "grid_template_rows": null,
            "height": null,
            "justify_content": null,
            "justify_items": null,
            "left": null,
            "margin": null,
            "max_height": null,
            "max_width": null,
            "min_height": null,
            "min_width": null,
            "object_fit": null,
            "object_position": null,
            "order": null,
            "overflow": null,
            "overflow_x": null,
            "overflow_y": null,
            "padding": null,
            "right": null,
            "top": null,
            "visibility": null,
            "width": null
          }
        },
        "050526baa10a4079b0f14b290a2ab7e2": {
          "model_module": "@jupyter-widgets/base",
          "model_name": "LayoutModel",
          "model_module_version": "1.2.0",
          "state": {
            "_model_module": "@jupyter-widgets/base",
            "_model_module_version": "1.2.0",
            "_model_name": "LayoutModel",
            "_view_count": null,
            "_view_module": "@jupyter-widgets/base",
            "_view_module_version": "1.2.0",
            "_view_name": "LayoutView",
            "align_content": null,
            "align_items": null,
            "align_self": null,
            "border": null,
            "bottom": null,
            "display": null,
            "flex": null,
            "flex_flow": null,
            "grid_area": null,
            "grid_auto_columns": null,
            "grid_auto_flow": null,
            "grid_auto_rows": null,
            "grid_column": null,
            "grid_gap": null,
            "grid_row": null,
            "grid_template_areas": null,
            "grid_template_columns": null,
            "grid_template_rows": null,
            "height": null,
            "justify_content": null,
            "justify_items": null,
            "left": null,
            "margin": null,
            "max_height": null,
            "max_width": null,
            "min_height": null,
            "min_width": null,
            "object_fit": null,
            "object_position": null,
            "order": null,
            "overflow": null,
            "overflow_x": null,
            "overflow_y": null,
            "padding": null,
            "right": null,
            "top": null,
            "visibility": null,
            "width": null
          }
        },
        "331e647159474776bbee1935bef009af": {
          "model_module": "@jupyter-widgets/controls",
          "model_name": "DescriptionStyleModel",
          "model_module_version": "1.5.0",
          "state": {
            "_model_module": "@jupyter-widgets/controls",
            "_model_module_version": "1.5.0",
            "_model_name": "DescriptionStyleModel",
            "_view_count": null,
            "_view_module": "@jupyter-widgets/base",
            "_view_module_version": "1.2.0",
            "_view_name": "StyleView",
            "description_width": ""
          }
        },
        "e106c7985db94477ad028ce127c7be4a": {
          "model_module": "@jupyter-widgets/base",
          "model_name": "LayoutModel",
          "model_module_version": "1.2.0",
          "state": {
            "_model_module": "@jupyter-widgets/base",
            "_model_module_version": "1.2.0",
            "_model_name": "LayoutModel",
            "_view_count": null,
            "_view_module": "@jupyter-widgets/base",
            "_view_module_version": "1.2.0",
            "_view_name": "LayoutView",
            "align_content": null,
            "align_items": null,
            "align_self": null,
            "border": null,
            "bottom": null,
            "display": null,
            "flex": null,
            "flex_flow": null,
            "grid_area": null,
            "grid_auto_columns": null,
            "grid_auto_flow": null,
            "grid_auto_rows": null,
            "grid_column": null,
            "grid_gap": null,
            "grid_row": null,
            "grid_template_areas": null,
            "grid_template_columns": null,
            "grid_template_rows": null,
            "height": null,
            "justify_content": null,
            "justify_items": null,
            "left": null,
            "margin": null,
            "max_height": null,
            "max_width": null,
            "min_height": null,
            "min_width": null,
            "object_fit": null,
            "object_position": null,
            "order": null,
            "overflow": null,
            "overflow_x": null,
            "overflow_y": null,
            "padding": null,
            "right": null,
            "top": null,
            "visibility": null,
            "width": null
          }
        },
        "aabfda24c7e948bdb6e77186d862461e": {
          "model_module": "@jupyter-widgets/controls",
          "model_name": "ProgressStyleModel",
          "model_module_version": "1.5.0",
          "state": {
            "_model_module": "@jupyter-widgets/controls",
            "_model_module_version": "1.5.0",
            "_model_name": "ProgressStyleModel",
            "_view_count": null,
            "_view_module": "@jupyter-widgets/base",
            "_view_module_version": "1.2.0",
            "_view_name": "StyleView",
            "bar_color": null,
            "description_width": ""
          }
        },
        "e91c0a8ef14c42eaa318db3d94c27e19": {
          "model_module": "@jupyter-widgets/base",
          "model_name": "LayoutModel",
          "model_module_version": "1.2.0",
          "state": {
            "_model_module": "@jupyter-widgets/base",
            "_model_module_version": "1.2.0",
            "_model_name": "LayoutModel",
            "_view_count": null,
            "_view_module": "@jupyter-widgets/base",
            "_view_module_version": "1.2.0",
            "_view_name": "LayoutView",
            "align_content": null,
            "align_items": null,
            "align_self": null,
            "border": null,
            "bottom": null,
            "display": null,
            "flex": null,
            "flex_flow": null,
            "grid_area": null,
            "grid_auto_columns": null,
            "grid_auto_flow": null,
            "grid_auto_rows": null,
            "grid_column": null,
            "grid_gap": null,
            "grid_row": null,
            "grid_template_areas": null,
            "grid_template_columns": null,
            "grid_template_rows": null,
            "height": null,
            "justify_content": null,
            "justify_items": null,
            "left": null,
            "margin": null,
            "max_height": null,
            "max_width": null,
            "min_height": null,
            "min_width": null,
            "object_fit": null,
            "object_position": null,
            "order": null,
            "overflow": null,
            "overflow_x": null,
            "overflow_y": null,
            "padding": null,
            "right": null,
            "top": null,
            "visibility": null,
            "width": null
          }
        },
        "8f338f862eb94c77aacc36ef6eea3eb5": {
          "model_module": "@jupyter-widgets/controls",
          "model_name": "DescriptionStyleModel",
          "model_module_version": "1.5.0",
          "state": {
            "_model_module": "@jupyter-widgets/controls",
            "_model_module_version": "1.5.0",
            "_model_name": "DescriptionStyleModel",
            "_view_count": null,
            "_view_module": "@jupyter-widgets/base",
            "_view_module_version": "1.2.0",
            "_view_name": "StyleView",
            "description_width": ""
          }
        },
        "b664b01f8cd14e72b405495406fa21b7": {
          "model_module": "@jupyter-widgets/controls",
          "model_name": "HBoxModel",
          "model_module_version": "1.5.0",
          "state": {
            "_dom_classes": [],
            "_model_module": "@jupyter-widgets/controls",
            "_model_module_version": "1.5.0",
            "_model_name": "HBoxModel",
            "_view_count": null,
            "_view_module": "@jupyter-widgets/controls",
            "_view_module_version": "1.5.0",
            "_view_name": "HBoxView",
            "box_style": "",
            "children": [
              "IPY_MODEL_070cef7c5e0849f598f949c5d0254eed",
              "IPY_MODEL_e0d60f5df40e4ef586cc065b1fcf09f6",
              "IPY_MODEL_9542e6a71d974a44ae23359dc92f9190"
            ],
            "layout": "IPY_MODEL_9a3399b050564535aa2deed9e388df61"
          }
        },
        "070cef7c5e0849f598f949c5d0254eed": {
          "model_module": "@jupyter-widgets/controls",
          "model_name": "HTMLModel",
          "model_module_version": "1.5.0",
          "state": {
            "_dom_classes": [],
            "_model_module": "@jupyter-widgets/controls",
            "_model_module_version": "1.5.0",
            "_model_name": "HTMLModel",
            "_view_count": null,
            "_view_module": "@jupyter-widgets/controls",
            "_view_module_version": "1.5.0",
            "_view_name": "HTMLView",
            "description": "",
            "description_tooltip": null,
            "layout": "IPY_MODEL_3a6e3a1d33094c7e86f7911383465b6f",
            "placeholder": "​",
            "style": "IPY_MODEL_6f0fcf876bf640a2bd939c06e9594f8a",
            "value": "Epoch  7: 100%"
          }
        },
        "e0d60f5df40e4ef586cc065b1fcf09f6": {
          "model_module": "@jupyter-widgets/controls",
          "model_name": "FloatProgressModel",
          "model_module_version": "1.5.0",
          "state": {
            "_dom_classes": [],
            "_model_module": "@jupyter-widgets/controls",
            "_model_module_version": "1.5.0",
            "_model_name": "FloatProgressModel",
            "_view_count": null,
            "_view_module": "@jupyter-widgets/controls",
            "_view_module_version": "1.5.0",
            "_view_name": "ProgressView",
            "bar_style": "success",
            "description": "",
            "description_tooltip": null,
            "layout": "IPY_MODEL_1a25994789244b6b9af473911479df83",
            "max": 551,
            "min": 0,
            "orientation": "horizontal",
            "style": "IPY_MODEL_5267dd58ba064d41b011e51131099d43",
            "value": 551
          }
        },
        "9542e6a71d974a44ae23359dc92f9190": {
          "model_module": "@jupyter-widgets/controls",
          "model_name": "HTMLModel",
          "model_module_version": "1.5.0",
          "state": {
            "_dom_classes": [],
            "_model_module": "@jupyter-widgets/controls",
            "_model_module_version": "1.5.0",
            "_model_name": "HTMLModel",
            "_view_count": null,
            "_view_module": "@jupyter-widgets/controls",
            "_view_module_version": "1.5.0",
            "_view_name": "HTMLView",
            "description": "",
            "description_tooltip": null,
            "layout": "IPY_MODEL_f71e015c44d2449cbf3594369d2f315e",
            "placeholder": "​",
            "style": "IPY_MODEL_6cfdcf668ccd4b9fbb58094478c4d540",
            "value": " 551/551 [01:04&lt;00:00, 24.33it/s, Loss nan]"
          }
        },
        "9a3399b050564535aa2deed9e388df61": {
          "model_module": "@jupyter-widgets/base",
          "model_name": "LayoutModel",
          "model_module_version": "1.2.0",
          "state": {
            "_model_module": "@jupyter-widgets/base",
            "_model_module_version": "1.2.0",
            "_model_name": "LayoutModel",
            "_view_count": null,
            "_view_module": "@jupyter-widgets/base",
            "_view_module_version": "1.2.0",
            "_view_name": "LayoutView",
            "align_content": null,
            "align_items": null,
            "align_self": null,
            "border": null,
            "bottom": null,
            "display": null,
            "flex": null,
            "flex_flow": null,
            "grid_area": null,
            "grid_auto_columns": null,
            "grid_auto_flow": null,
            "grid_auto_rows": null,
            "grid_column": null,
            "grid_gap": null,
            "grid_row": null,
            "grid_template_areas": null,
            "grid_template_columns": null,
            "grid_template_rows": null,
            "height": null,
            "justify_content": null,
            "justify_items": null,
            "left": null,
            "margin": null,
            "max_height": null,
            "max_width": null,
            "min_height": null,
            "min_width": null,
            "object_fit": null,
            "object_position": null,
            "order": null,
            "overflow": null,
            "overflow_x": null,
            "overflow_y": null,
            "padding": null,
            "right": null,
            "top": null,
            "visibility": null,
            "width": null
          }
        },
        "3a6e3a1d33094c7e86f7911383465b6f": {
          "model_module": "@jupyter-widgets/base",
          "model_name": "LayoutModel",
          "model_module_version": "1.2.0",
          "state": {
            "_model_module": "@jupyter-widgets/base",
            "_model_module_version": "1.2.0",
            "_model_name": "LayoutModel",
            "_view_count": null,
            "_view_module": "@jupyter-widgets/base",
            "_view_module_version": "1.2.0",
            "_view_name": "LayoutView",
            "align_content": null,
            "align_items": null,
            "align_self": null,
            "border": null,
            "bottom": null,
            "display": null,
            "flex": null,
            "flex_flow": null,
            "grid_area": null,
            "grid_auto_columns": null,
            "grid_auto_flow": null,
            "grid_auto_rows": null,
            "grid_column": null,
            "grid_gap": null,
            "grid_row": null,
            "grid_template_areas": null,
            "grid_template_columns": null,
            "grid_template_rows": null,
            "height": null,
            "justify_content": null,
            "justify_items": null,
            "left": null,
            "margin": null,
            "max_height": null,
            "max_width": null,
            "min_height": null,
            "min_width": null,
            "object_fit": null,
            "object_position": null,
            "order": null,
            "overflow": null,
            "overflow_x": null,
            "overflow_y": null,
            "padding": null,
            "right": null,
            "top": null,
            "visibility": null,
            "width": null
          }
        },
        "6f0fcf876bf640a2bd939c06e9594f8a": {
          "model_module": "@jupyter-widgets/controls",
          "model_name": "DescriptionStyleModel",
          "model_module_version": "1.5.0",
          "state": {
            "_model_module": "@jupyter-widgets/controls",
            "_model_module_version": "1.5.0",
            "_model_name": "DescriptionStyleModel",
            "_view_count": null,
            "_view_module": "@jupyter-widgets/base",
            "_view_module_version": "1.2.0",
            "_view_name": "StyleView",
            "description_width": ""
          }
        },
        "1a25994789244b6b9af473911479df83": {
          "model_module": "@jupyter-widgets/base",
          "model_name": "LayoutModel",
          "model_module_version": "1.2.0",
          "state": {
            "_model_module": "@jupyter-widgets/base",
            "_model_module_version": "1.2.0",
            "_model_name": "LayoutModel",
            "_view_count": null,
            "_view_module": "@jupyter-widgets/base",
            "_view_module_version": "1.2.0",
            "_view_name": "LayoutView",
            "align_content": null,
            "align_items": null,
            "align_self": null,
            "border": null,
            "bottom": null,
            "display": null,
            "flex": null,
            "flex_flow": null,
            "grid_area": null,
            "grid_auto_columns": null,
            "grid_auto_flow": null,
            "grid_auto_rows": null,
            "grid_column": null,
            "grid_gap": null,
            "grid_row": null,
            "grid_template_areas": null,
            "grid_template_columns": null,
            "grid_template_rows": null,
            "height": null,
            "justify_content": null,
            "justify_items": null,
            "left": null,
            "margin": null,
            "max_height": null,
            "max_width": null,
            "min_height": null,
            "min_width": null,
            "object_fit": null,
            "object_position": null,
            "order": null,
            "overflow": null,
            "overflow_x": null,
            "overflow_y": null,
            "padding": null,
            "right": null,
            "top": null,
            "visibility": null,
            "width": null
          }
        },
        "5267dd58ba064d41b011e51131099d43": {
          "model_module": "@jupyter-widgets/controls",
          "model_name": "ProgressStyleModel",
          "model_module_version": "1.5.0",
          "state": {
            "_model_module": "@jupyter-widgets/controls",
            "_model_module_version": "1.5.0",
            "_model_name": "ProgressStyleModel",
            "_view_count": null,
            "_view_module": "@jupyter-widgets/base",
            "_view_module_version": "1.2.0",
            "_view_name": "StyleView",
            "bar_color": null,
            "description_width": ""
          }
        },
        "f71e015c44d2449cbf3594369d2f315e": {
          "model_module": "@jupyter-widgets/base",
          "model_name": "LayoutModel",
          "model_module_version": "1.2.0",
          "state": {
            "_model_module": "@jupyter-widgets/base",
            "_model_module_version": "1.2.0",
            "_model_name": "LayoutModel",
            "_view_count": null,
            "_view_module": "@jupyter-widgets/base",
            "_view_module_version": "1.2.0",
            "_view_name": "LayoutView",
            "align_content": null,
            "align_items": null,
            "align_self": null,
            "border": null,
            "bottom": null,
            "display": null,
            "flex": null,
            "flex_flow": null,
            "grid_area": null,
            "grid_auto_columns": null,
            "grid_auto_flow": null,
            "grid_auto_rows": null,
            "grid_column": null,
            "grid_gap": null,
            "grid_row": null,
            "grid_template_areas": null,
            "grid_template_columns": null,
            "grid_template_rows": null,
            "height": null,
            "justify_content": null,
            "justify_items": null,
            "left": null,
            "margin": null,
            "max_height": null,
            "max_width": null,
            "min_height": null,
            "min_width": null,
            "object_fit": null,
            "object_position": null,
            "order": null,
            "overflow": null,
            "overflow_x": null,
            "overflow_y": null,
            "padding": null,
            "right": null,
            "top": null,
            "visibility": null,
            "width": null
          }
        },
        "6cfdcf668ccd4b9fbb58094478c4d540": {
          "model_module": "@jupyter-widgets/controls",
          "model_name": "DescriptionStyleModel",
          "model_module_version": "1.5.0",
          "state": {
            "_model_module": "@jupyter-widgets/controls",
            "_model_module_version": "1.5.0",
            "_model_name": "DescriptionStyleModel",
            "_view_count": null,
            "_view_module": "@jupyter-widgets/base",
            "_view_module_version": "1.2.0",
            "_view_name": "StyleView",
            "description_width": ""
          }
        },
        "ba2eeec14c644df1b812dbe046c5a772": {
          "model_module": "@jupyter-widgets/controls",
          "model_name": "HBoxModel",
          "model_module_version": "1.5.0",
          "state": {
            "_dom_classes": [],
            "_model_module": "@jupyter-widgets/controls",
            "_model_module_version": "1.5.0",
            "_model_name": "HBoxModel",
            "_view_count": null,
            "_view_module": "@jupyter-widgets/controls",
            "_view_module_version": "1.5.0",
            "_view_name": "HBoxView",
            "box_style": "",
            "children": [
              "IPY_MODEL_5def311fa9ba4baeb6368877a186e1b2",
              "IPY_MODEL_7f523a56beb2484dbe0546524e797218",
              "IPY_MODEL_5fd24306376e4bcca5c83ca417052973"
            ],
            "layout": "IPY_MODEL_3c800ba952bc4934ac15e33b88051249"
          }
        },
        "5def311fa9ba4baeb6368877a186e1b2": {
          "model_module": "@jupyter-widgets/controls",
          "model_name": "HTMLModel",
          "model_module_version": "1.5.0",
          "state": {
            "_dom_classes": [],
            "_model_module": "@jupyter-widgets/controls",
            "_model_module_version": "1.5.0",
            "_model_name": "HTMLModel",
            "_view_count": null,
            "_view_module": "@jupyter-widgets/controls",
            "_view_module_version": "1.5.0",
            "_view_name": "HTMLView",
            "description": "",
            "description_tooltip": null,
            "layout": "IPY_MODEL_777fcb8549324cf3bb87e374ded7fce3",
            "placeholder": "​",
            "style": "IPY_MODEL_d911c38f7f2f42928ebf5d026babd8b2",
            "value": "Epoch  8: 100%"
          }
        },
        "7f523a56beb2484dbe0546524e797218": {
          "model_module": "@jupyter-widgets/controls",
          "model_name": "FloatProgressModel",
          "model_module_version": "1.5.0",
          "state": {
            "_dom_classes": [],
            "_model_module": "@jupyter-widgets/controls",
            "_model_module_version": "1.5.0",
            "_model_name": "FloatProgressModel",
            "_view_count": null,
            "_view_module": "@jupyter-widgets/controls",
            "_view_module_version": "1.5.0",
            "_view_name": "ProgressView",
            "bar_style": "success",
            "description": "",
            "description_tooltip": null,
            "layout": "IPY_MODEL_c0589944badb4a869f3a4e378f49c568",
            "max": 551,
            "min": 0,
            "orientation": "horizontal",
            "style": "IPY_MODEL_d1536635520f4375a933194193b02d2b",
            "value": 551
          }
        },
        "5fd24306376e4bcca5c83ca417052973": {
          "model_module": "@jupyter-widgets/controls",
          "model_name": "HTMLModel",
          "model_module_version": "1.5.0",
          "state": {
            "_dom_classes": [],
            "_model_module": "@jupyter-widgets/controls",
            "_model_module_version": "1.5.0",
            "_model_name": "HTMLModel",
            "_view_count": null,
            "_view_module": "@jupyter-widgets/controls",
            "_view_module_version": "1.5.0",
            "_view_name": "HTMLView",
            "description": "",
            "description_tooltip": null,
            "layout": "IPY_MODEL_998b690c5e0e4130a5152d9831cad88c",
            "placeholder": "​",
            "style": "IPY_MODEL_fc10932441c042a69cc060fb9a88c165",
            "value": " 551/551 [03:56&lt;00:00, 25.52it/s, Loss nan]"
          }
        },
        "3c800ba952bc4934ac15e33b88051249": {
          "model_module": "@jupyter-widgets/base",
          "model_name": "LayoutModel",
          "model_module_version": "1.2.0",
          "state": {
            "_model_module": "@jupyter-widgets/base",
            "_model_module_version": "1.2.0",
            "_model_name": "LayoutModel",
            "_view_count": null,
            "_view_module": "@jupyter-widgets/base",
            "_view_module_version": "1.2.0",
            "_view_name": "LayoutView",
            "align_content": null,
            "align_items": null,
            "align_self": null,
            "border": null,
            "bottom": null,
            "display": null,
            "flex": null,
            "flex_flow": null,
            "grid_area": null,
            "grid_auto_columns": null,
            "grid_auto_flow": null,
            "grid_auto_rows": null,
            "grid_column": null,
            "grid_gap": null,
            "grid_row": null,
            "grid_template_areas": null,
            "grid_template_columns": null,
            "grid_template_rows": null,
            "height": null,
            "justify_content": null,
            "justify_items": null,
            "left": null,
            "margin": null,
            "max_height": null,
            "max_width": null,
            "min_height": null,
            "min_width": null,
            "object_fit": null,
            "object_position": null,
            "order": null,
            "overflow": null,
            "overflow_x": null,
            "overflow_y": null,
            "padding": null,
            "right": null,
            "top": null,
            "visibility": null,
            "width": null
          }
        },
        "777fcb8549324cf3bb87e374ded7fce3": {
          "model_module": "@jupyter-widgets/base",
          "model_name": "LayoutModel",
          "model_module_version": "1.2.0",
          "state": {
            "_model_module": "@jupyter-widgets/base",
            "_model_module_version": "1.2.0",
            "_model_name": "LayoutModel",
            "_view_count": null,
            "_view_module": "@jupyter-widgets/base",
            "_view_module_version": "1.2.0",
            "_view_name": "LayoutView",
            "align_content": null,
            "align_items": null,
            "align_self": null,
            "border": null,
            "bottom": null,
            "display": null,
            "flex": null,
            "flex_flow": null,
            "grid_area": null,
            "grid_auto_columns": null,
            "grid_auto_flow": null,
            "grid_auto_rows": null,
            "grid_column": null,
            "grid_gap": null,
            "grid_row": null,
            "grid_template_areas": null,
            "grid_template_columns": null,
            "grid_template_rows": null,
            "height": null,
            "justify_content": null,
            "justify_items": null,
            "left": null,
            "margin": null,
            "max_height": null,
            "max_width": null,
            "min_height": null,
            "min_width": null,
            "object_fit": null,
            "object_position": null,
            "order": null,
            "overflow": null,
            "overflow_x": null,
            "overflow_y": null,
            "padding": null,
            "right": null,
            "top": null,
            "visibility": null,
            "width": null
          }
        },
        "d911c38f7f2f42928ebf5d026babd8b2": {
          "model_module": "@jupyter-widgets/controls",
          "model_name": "DescriptionStyleModel",
          "model_module_version": "1.5.0",
          "state": {
            "_model_module": "@jupyter-widgets/controls",
            "_model_module_version": "1.5.0",
            "_model_name": "DescriptionStyleModel",
            "_view_count": null,
            "_view_module": "@jupyter-widgets/base",
            "_view_module_version": "1.2.0",
            "_view_name": "StyleView",
            "description_width": ""
          }
        },
        "c0589944badb4a869f3a4e378f49c568": {
          "model_module": "@jupyter-widgets/base",
          "model_name": "LayoutModel",
          "model_module_version": "1.2.0",
          "state": {
            "_model_module": "@jupyter-widgets/base",
            "_model_module_version": "1.2.0",
            "_model_name": "LayoutModel",
            "_view_count": null,
            "_view_module": "@jupyter-widgets/base",
            "_view_module_version": "1.2.0",
            "_view_name": "LayoutView",
            "align_content": null,
            "align_items": null,
            "align_self": null,
            "border": null,
            "bottom": null,
            "display": null,
            "flex": null,
            "flex_flow": null,
            "grid_area": null,
            "grid_auto_columns": null,
            "grid_auto_flow": null,
            "grid_auto_rows": null,
            "grid_column": null,
            "grid_gap": null,
            "grid_row": null,
            "grid_template_areas": null,
            "grid_template_columns": null,
            "grid_template_rows": null,
            "height": null,
            "justify_content": null,
            "justify_items": null,
            "left": null,
            "margin": null,
            "max_height": null,
            "max_width": null,
            "min_height": null,
            "min_width": null,
            "object_fit": null,
            "object_position": null,
            "order": null,
            "overflow": null,
            "overflow_x": null,
            "overflow_y": null,
            "padding": null,
            "right": null,
            "top": null,
            "visibility": null,
            "width": null
          }
        },
        "d1536635520f4375a933194193b02d2b": {
          "model_module": "@jupyter-widgets/controls",
          "model_name": "ProgressStyleModel",
          "model_module_version": "1.5.0",
          "state": {
            "_model_module": "@jupyter-widgets/controls",
            "_model_module_version": "1.5.0",
            "_model_name": "ProgressStyleModel",
            "_view_count": null,
            "_view_module": "@jupyter-widgets/base",
            "_view_module_version": "1.2.0",
            "_view_name": "StyleView",
            "bar_color": null,
            "description_width": ""
          }
        },
        "998b690c5e0e4130a5152d9831cad88c": {
          "model_module": "@jupyter-widgets/base",
          "model_name": "LayoutModel",
          "model_module_version": "1.2.0",
          "state": {
            "_model_module": "@jupyter-widgets/base",
            "_model_module_version": "1.2.0",
            "_model_name": "LayoutModel",
            "_view_count": null,
            "_view_module": "@jupyter-widgets/base",
            "_view_module_version": "1.2.0",
            "_view_name": "LayoutView",
            "align_content": null,
            "align_items": null,
            "align_self": null,
            "border": null,
            "bottom": null,
            "display": null,
            "flex": null,
            "flex_flow": null,
            "grid_area": null,
            "grid_auto_columns": null,
            "grid_auto_flow": null,
            "grid_auto_rows": null,
            "grid_column": null,
            "grid_gap": null,
            "grid_row": null,
            "grid_template_areas": null,
            "grid_template_columns": null,
            "grid_template_rows": null,
            "height": null,
            "justify_content": null,
            "justify_items": null,
            "left": null,
            "margin": null,
            "max_height": null,
            "max_width": null,
            "min_height": null,
            "min_width": null,
            "object_fit": null,
            "object_position": null,
            "order": null,
            "overflow": null,
            "overflow_x": null,
            "overflow_y": null,
            "padding": null,
            "right": null,
            "top": null,
            "visibility": null,
            "width": null
          }
        },
        "fc10932441c042a69cc060fb9a88c165": {
          "model_module": "@jupyter-widgets/controls",
          "model_name": "DescriptionStyleModel",
          "model_module_version": "1.5.0",
          "state": {
            "_model_module": "@jupyter-widgets/controls",
            "_model_module_version": "1.5.0",
            "_model_name": "DescriptionStyleModel",
            "_view_count": null,
            "_view_module": "@jupyter-widgets/base",
            "_view_module_version": "1.2.0",
            "_view_name": "StyleView",
            "description_width": ""
          }
        },
        "f9ea2f86c58b44fd8209f9c5925b4d79": {
          "model_module": "@jupyter-widgets/controls",
          "model_name": "HBoxModel",
          "model_module_version": "1.5.0",
          "state": {
            "_dom_classes": [],
            "_model_module": "@jupyter-widgets/controls",
            "_model_module_version": "1.5.0",
            "_model_name": "HBoxModel",
            "_view_count": null,
            "_view_module": "@jupyter-widgets/controls",
            "_view_module_version": "1.5.0",
            "_view_name": "HBoxView",
            "box_style": "",
            "children": [
              "IPY_MODEL_8678b36b444b4cb48bf53ecff42dcc6f",
              "IPY_MODEL_4f62a4feaca34550906c47075114d286",
              "IPY_MODEL_e6fc8bb198954d3ab6a4a1ef2c7506dc"
            ],
            "layout": "IPY_MODEL_834881956aa34115a8508c5310fbbdc3"
          }
        },
        "8678b36b444b4cb48bf53ecff42dcc6f": {
          "model_module": "@jupyter-widgets/controls",
          "model_name": "HTMLModel",
          "model_module_version": "1.5.0",
          "state": {
            "_dom_classes": [],
            "_model_module": "@jupyter-widgets/controls",
            "_model_module_version": "1.5.0",
            "_model_name": "HTMLModel",
            "_view_count": null,
            "_view_module": "@jupyter-widgets/controls",
            "_view_module_version": "1.5.0",
            "_view_name": "HTMLView",
            "description": "",
            "description_tooltip": null,
            "layout": "IPY_MODEL_7f252771a548476da5e5de4a37d789fa",
            "placeholder": "​",
            "style": "IPY_MODEL_40ae86e9e24a4247bc1f3809715f227b",
            "value": "Epoch  9: 100%"
          }
        },
        "4f62a4feaca34550906c47075114d286": {
          "model_module": "@jupyter-widgets/controls",
          "model_name": "FloatProgressModel",
          "model_module_version": "1.5.0",
          "state": {
            "_dom_classes": [],
            "_model_module": "@jupyter-widgets/controls",
            "_model_module_version": "1.5.0",
            "_model_name": "FloatProgressModel",
            "_view_count": null,
            "_view_module": "@jupyter-widgets/controls",
            "_view_module_version": "1.5.0",
            "_view_name": "ProgressView",
            "bar_style": "success",
            "description": "",
            "description_tooltip": null,
            "layout": "IPY_MODEL_258d17004f10429ead0f7576c6a0b808",
            "max": 551,
            "min": 0,
            "orientation": "horizontal",
            "style": "IPY_MODEL_9b558994fbd3445385d4b1744ca36ec4",
            "value": 551
          }
        },
        "e6fc8bb198954d3ab6a4a1ef2c7506dc": {
          "model_module": "@jupyter-widgets/controls",
          "model_name": "HTMLModel",
          "model_module_version": "1.5.0",
          "state": {
            "_dom_classes": [],
            "_model_module": "@jupyter-widgets/controls",
            "_model_module_version": "1.5.0",
            "_model_name": "HTMLModel",
            "_view_count": null,
            "_view_module": "@jupyter-widgets/controls",
            "_view_module_version": "1.5.0",
            "_view_name": "HTMLView",
            "description": "",
            "description_tooltip": null,
            "layout": "IPY_MODEL_0c96b2fc1a1748769916af38fa09186d",
            "placeholder": "​",
            "style": "IPY_MODEL_56e583c3c6ed46f6a38e59e4e9823b63",
            "value": " 551/551 [03:33&lt;00:00, 24.32it/s, Loss nan]"
          }
        },
        "834881956aa34115a8508c5310fbbdc3": {
          "model_module": "@jupyter-widgets/base",
          "model_name": "LayoutModel",
          "model_module_version": "1.2.0",
          "state": {
            "_model_module": "@jupyter-widgets/base",
            "_model_module_version": "1.2.0",
            "_model_name": "LayoutModel",
            "_view_count": null,
            "_view_module": "@jupyter-widgets/base",
            "_view_module_version": "1.2.0",
            "_view_name": "LayoutView",
            "align_content": null,
            "align_items": null,
            "align_self": null,
            "border": null,
            "bottom": null,
            "display": null,
            "flex": null,
            "flex_flow": null,
            "grid_area": null,
            "grid_auto_columns": null,
            "grid_auto_flow": null,
            "grid_auto_rows": null,
            "grid_column": null,
            "grid_gap": null,
            "grid_row": null,
            "grid_template_areas": null,
            "grid_template_columns": null,
            "grid_template_rows": null,
            "height": null,
            "justify_content": null,
            "justify_items": null,
            "left": null,
            "margin": null,
            "max_height": null,
            "max_width": null,
            "min_height": null,
            "min_width": null,
            "object_fit": null,
            "object_position": null,
            "order": null,
            "overflow": null,
            "overflow_x": null,
            "overflow_y": null,
            "padding": null,
            "right": null,
            "top": null,
            "visibility": null,
            "width": null
          }
        },
        "7f252771a548476da5e5de4a37d789fa": {
          "model_module": "@jupyter-widgets/base",
          "model_name": "LayoutModel",
          "model_module_version": "1.2.0",
          "state": {
            "_model_module": "@jupyter-widgets/base",
            "_model_module_version": "1.2.0",
            "_model_name": "LayoutModel",
            "_view_count": null,
            "_view_module": "@jupyter-widgets/base",
            "_view_module_version": "1.2.0",
            "_view_name": "LayoutView",
            "align_content": null,
            "align_items": null,
            "align_self": null,
            "border": null,
            "bottom": null,
            "display": null,
            "flex": null,
            "flex_flow": null,
            "grid_area": null,
            "grid_auto_columns": null,
            "grid_auto_flow": null,
            "grid_auto_rows": null,
            "grid_column": null,
            "grid_gap": null,
            "grid_row": null,
            "grid_template_areas": null,
            "grid_template_columns": null,
            "grid_template_rows": null,
            "height": null,
            "justify_content": null,
            "justify_items": null,
            "left": null,
            "margin": null,
            "max_height": null,
            "max_width": null,
            "min_height": null,
            "min_width": null,
            "object_fit": null,
            "object_position": null,
            "order": null,
            "overflow": null,
            "overflow_x": null,
            "overflow_y": null,
            "padding": null,
            "right": null,
            "top": null,
            "visibility": null,
            "width": null
          }
        },
        "40ae86e9e24a4247bc1f3809715f227b": {
          "model_module": "@jupyter-widgets/controls",
          "model_name": "DescriptionStyleModel",
          "model_module_version": "1.5.0",
          "state": {
            "_model_module": "@jupyter-widgets/controls",
            "_model_module_version": "1.5.0",
            "_model_name": "DescriptionStyleModel",
            "_view_count": null,
            "_view_module": "@jupyter-widgets/base",
            "_view_module_version": "1.2.0",
            "_view_name": "StyleView",
            "description_width": ""
          }
        },
        "258d17004f10429ead0f7576c6a0b808": {
          "model_module": "@jupyter-widgets/base",
          "model_name": "LayoutModel",
          "model_module_version": "1.2.0",
          "state": {
            "_model_module": "@jupyter-widgets/base",
            "_model_module_version": "1.2.0",
            "_model_name": "LayoutModel",
            "_view_count": null,
            "_view_module": "@jupyter-widgets/base",
            "_view_module_version": "1.2.0",
            "_view_name": "LayoutView",
            "align_content": null,
            "align_items": null,
            "align_self": null,
            "border": null,
            "bottom": null,
            "display": null,
            "flex": null,
            "flex_flow": null,
            "grid_area": null,
            "grid_auto_columns": null,
            "grid_auto_flow": null,
            "grid_auto_rows": null,
            "grid_column": null,
            "grid_gap": null,
            "grid_row": null,
            "grid_template_areas": null,
            "grid_template_columns": null,
            "grid_template_rows": null,
            "height": null,
            "justify_content": null,
            "justify_items": null,
            "left": null,
            "margin": null,
            "max_height": null,
            "max_width": null,
            "min_height": null,
            "min_width": null,
            "object_fit": null,
            "object_position": null,
            "order": null,
            "overflow": null,
            "overflow_x": null,
            "overflow_y": null,
            "padding": null,
            "right": null,
            "top": null,
            "visibility": null,
            "width": null
          }
        },
        "9b558994fbd3445385d4b1744ca36ec4": {
          "model_module": "@jupyter-widgets/controls",
          "model_name": "ProgressStyleModel",
          "model_module_version": "1.5.0",
          "state": {
            "_model_module": "@jupyter-widgets/controls",
            "_model_module_version": "1.5.0",
            "_model_name": "ProgressStyleModel",
            "_view_count": null,
            "_view_module": "@jupyter-widgets/base",
            "_view_module_version": "1.2.0",
            "_view_name": "StyleView",
            "bar_color": null,
            "description_width": ""
          }
        },
        "0c96b2fc1a1748769916af38fa09186d": {
          "model_module": "@jupyter-widgets/base",
          "model_name": "LayoutModel",
          "model_module_version": "1.2.0",
          "state": {
            "_model_module": "@jupyter-widgets/base",
            "_model_module_version": "1.2.0",
            "_model_name": "LayoutModel",
            "_view_count": null,
            "_view_module": "@jupyter-widgets/base",
            "_view_module_version": "1.2.0",
            "_view_name": "LayoutView",
            "align_content": null,
            "align_items": null,
            "align_self": null,
            "border": null,
            "bottom": null,
            "display": null,
            "flex": null,
            "flex_flow": null,
            "grid_area": null,
            "grid_auto_columns": null,
            "grid_auto_flow": null,
            "grid_auto_rows": null,
            "grid_column": null,
            "grid_gap": null,
            "grid_row": null,
            "grid_template_areas": null,
            "grid_template_columns": null,
            "grid_template_rows": null,
            "height": null,
            "justify_content": null,
            "justify_items": null,
            "left": null,
            "margin": null,
            "max_height": null,
            "max_width": null,
            "min_height": null,
            "min_width": null,
            "object_fit": null,
            "object_position": null,
            "order": null,
            "overflow": null,
            "overflow_x": null,
            "overflow_y": null,
            "padding": null,
            "right": null,
            "top": null,
            "visibility": null,
            "width": null
          }
        },
        "56e583c3c6ed46f6a38e59e4e9823b63": {
          "model_module": "@jupyter-widgets/controls",
          "model_name": "DescriptionStyleModel",
          "model_module_version": "1.5.0",
          "state": {
            "_model_module": "@jupyter-widgets/controls",
            "_model_module_version": "1.5.0",
            "_model_name": "DescriptionStyleModel",
            "_view_count": null,
            "_view_module": "@jupyter-widgets/base",
            "_view_module_version": "1.2.0",
            "_view_name": "StyleView",
            "description_width": ""
          }
        },
        "696ddaa924174d4791951ff7ff868600": {
          "model_module": "@jupyter-widgets/controls",
          "model_name": "HBoxModel",
          "model_module_version": "1.5.0",
          "state": {
            "_dom_classes": [],
            "_model_module": "@jupyter-widgets/controls",
            "_model_module_version": "1.5.0",
            "_model_name": "HBoxModel",
            "_view_count": null,
            "_view_module": "@jupyter-widgets/controls",
            "_view_module_version": "1.5.0",
            "_view_name": "HBoxView",
            "box_style": "",
            "children": [
              "IPY_MODEL_7722c8b77de74464a34693cfaab889e7",
              "IPY_MODEL_9712725656264db9b7873b813dcdeab2",
              "IPY_MODEL_b3672f21292746108665580925fcf479"
            ],
            "layout": "IPY_MODEL_31661dde152f41beaaf3454cef51ed48"
          }
        },
        "7722c8b77de74464a34693cfaab889e7": {
          "model_module": "@jupyter-widgets/controls",
          "model_name": "HTMLModel",
          "model_module_version": "1.5.0",
          "state": {
            "_dom_classes": [],
            "_model_module": "@jupyter-widgets/controls",
            "_model_module_version": "1.5.0",
            "_model_name": "HTMLModel",
            "_view_count": null,
            "_view_module": "@jupyter-widgets/controls",
            "_view_module_version": "1.5.0",
            "_view_name": "HTMLView",
            "description": "",
            "description_tooltip": null,
            "layout": "IPY_MODEL_def7c0040723437a8b66668ae3a52ba9",
            "placeholder": "​",
            "style": "IPY_MODEL_2309e9dccd8740b1b19f245adba7b8f9",
            "value": "Epoch 10: 100%"
          }
        },
        "9712725656264db9b7873b813dcdeab2": {
          "model_module": "@jupyter-widgets/controls",
          "model_name": "FloatProgressModel",
          "model_module_version": "1.5.0",
          "state": {
            "_dom_classes": [],
            "_model_module": "@jupyter-widgets/controls",
            "_model_module_version": "1.5.0",
            "_model_name": "FloatProgressModel",
            "_view_count": null,
            "_view_module": "@jupyter-widgets/controls",
            "_view_module_version": "1.5.0",
            "_view_name": "ProgressView",
            "bar_style": "",
            "description": "",
            "description_tooltip": null,
            "layout": "IPY_MODEL_2aa5778193c9463fb311c8480e539577",
            "max": 551,
            "min": 0,
            "orientation": "horizontal",
            "style": "IPY_MODEL_0f34904606dd40eeb394f377e3fde043",
            "value": 551
          }
        },
        "b3672f21292746108665580925fcf479": {
          "model_module": "@jupyter-widgets/controls",
          "model_name": "HTMLModel",
          "model_module_version": "1.5.0",
          "state": {
            "_dom_classes": [],
            "_model_module": "@jupyter-widgets/controls",
            "_model_module_version": "1.5.0",
            "_model_name": "HTMLModel",
            "_view_count": null,
            "_view_module": "@jupyter-widgets/controls",
            "_view_module_version": "1.5.0",
            "_view_name": "HTMLView",
            "description": "",
            "description_tooltip": null,
            "layout": "IPY_MODEL_c44f718227174d0f8cd47b4ca93d0dcc",
            "placeholder": "​",
            "style": "IPY_MODEL_590408b782c24d4499b99b4066d47f19",
            "value": " 551/551 [00:40&lt;00:00, 22.38it/s, Loss nan]"
          }
        },
        "31661dde152f41beaaf3454cef51ed48": {
          "model_module": "@jupyter-widgets/base",
          "model_name": "LayoutModel",
          "model_module_version": "1.2.0",
          "state": {
            "_model_module": "@jupyter-widgets/base",
            "_model_module_version": "1.2.0",
            "_model_name": "LayoutModel",
            "_view_count": null,
            "_view_module": "@jupyter-widgets/base",
            "_view_module_version": "1.2.0",
            "_view_name": "LayoutView",
            "align_content": null,
            "align_items": null,
            "align_self": null,
            "border": null,
            "bottom": null,
            "display": null,
            "flex": null,
            "flex_flow": null,
            "grid_area": null,
            "grid_auto_columns": null,
            "grid_auto_flow": null,
            "grid_auto_rows": null,
            "grid_column": null,
            "grid_gap": null,
            "grid_row": null,
            "grid_template_areas": null,
            "grid_template_columns": null,
            "grid_template_rows": null,
            "height": null,
            "justify_content": null,
            "justify_items": null,
            "left": null,
            "margin": null,
            "max_height": null,
            "max_width": null,
            "min_height": null,
            "min_width": null,
            "object_fit": null,
            "object_position": null,
            "order": null,
            "overflow": null,
            "overflow_x": null,
            "overflow_y": null,
            "padding": null,
            "right": null,
            "top": null,
            "visibility": null,
            "width": null
          }
        },
        "def7c0040723437a8b66668ae3a52ba9": {
          "model_module": "@jupyter-widgets/base",
          "model_name": "LayoutModel",
          "model_module_version": "1.2.0",
          "state": {
            "_model_module": "@jupyter-widgets/base",
            "_model_module_version": "1.2.0",
            "_model_name": "LayoutModel",
            "_view_count": null,
            "_view_module": "@jupyter-widgets/base",
            "_view_module_version": "1.2.0",
            "_view_name": "LayoutView",
            "align_content": null,
            "align_items": null,
            "align_self": null,
            "border": null,
            "bottom": null,
            "display": null,
            "flex": null,
            "flex_flow": null,
            "grid_area": null,
            "grid_auto_columns": null,
            "grid_auto_flow": null,
            "grid_auto_rows": null,
            "grid_column": null,
            "grid_gap": null,
            "grid_row": null,
            "grid_template_areas": null,
            "grid_template_columns": null,
            "grid_template_rows": null,
            "height": null,
            "justify_content": null,
            "justify_items": null,
            "left": null,
            "margin": null,
            "max_height": null,
            "max_width": null,
            "min_height": null,
            "min_width": null,
            "object_fit": null,
            "object_position": null,
            "order": null,
            "overflow": null,
            "overflow_x": null,
            "overflow_y": null,
            "padding": null,
            "right": null,
            "top": null,
            "visibility": null,
            "width": null
          }
        },
        "2309e9dccd8740b1b19f245adba7b8f9": {
          "model_module": "@jupyter-widgets/controls",
          "model_name": "DescriptionStyleModel",
          "model_module_version": "1.5.0",
          "state": {
            "_model_module": "@jupyter-widgets/controls",
            "_model_module_version": "1.5.0",
            "_model_name": "DescriptionStyleModel",
            "_view_count": null,
            "_view_module": "@jupyter-widgets/base",
            "_view_module_version": "1.2.0",
            "_view_name": "StyleView",
            "description_width": ""
          }
        },
        "2aa5778193c9463fb311c8480e539577": {
          "model_module": "@jupyter-widgets/base",
          "model_name": "LayoutModel",
          "model_module_version": "1.2.0",
          "state": {
            "_model_module": "@jupyter-widgets/base",
            "_model_module_version": "1.2.0",
            "_model_name": "LayoutModel",
            "_view_count": null,
            "_view_module": "@jupyter-widgets/base",
            "_view_module_version": "1.2.0",
            "_view_name": "LayoutView",
            "align_content": null,
            "align_items": null,
            "align_self": null,
            "border": null,
            "bottom": null,
            "display": null,
            "flex": null,
            "flex_flow": null,
            "grid_area": null,
            "grid_auto_columns": null,
            "grid_auto_flow": null,
            "grid_auto_rows": null,
            "grid_column": null,
            "grid_gap": null,
            "grid_row": null,
            "grid_template_areas": null,
            "grid_template_columns": null,
            "grid_template_rows": null,
            "height": null,
            "justify_content": null,
            "justify_items": null,
            "left": null,
            "margin": null,
            "max_height": null,
            "max_width": null,
            "min_height": null,
            "min_width": null,
            "object_fit": null,
            "object_position": null,
            "order": null,
            "overflow": null,
            "overflow_x": null,
            "overflow_y": null,
            "padding": null,
            "right": null,
            "top": null,
            "visibility": null,
            "width": null
          }
        },
        "0f34904606dd40eeb394f377e3fde043": {
          "model_module": "@jupyter-widgets/controls",
          "model_name": "ProgressStyleModel",
          "model_module_version": "1.5.0",
          "state": {
            "_model_module": "@jupyter-widgets/controls",
            "_model_module_version": "1.5.0",
            "_model_name": "ProgressStyleModel",
            "_view_count": null,
            "_view_module": "@jupyter-widgets/base",
            "_view_module_version": "1.2.0",
            "_view_name": "StyleView",
            "bar_color": null,
            "description_width": ""
          }
        },
        "c44f718227174d0f8cd47b4ca93d0dcc": {
          "model_module": "@jupyter-widgets/base",
          "model_name": "LayoutModel",
          "model_module_version": "1.2.0",
          "state": {
            "_model_module": "@jupyter-widgets/base",
            "_model_module_version": "1.2.0",
            "_model_name": "LayoutModel",
            "_view_count": null,
            "_view_module": "@jupyter-widgets/base",
            "_view_module_version": "1.2.0",
            "_view_name": "LayoutView",
            "align_content": null,
            "align_items": null,
            "align_self": null,
            "border": null,
            "bottom": null,
            "display": null,
            "flex": null,
            "flex_flow": null,
            "grid_area": null,
            "grid_auto_columns": null,
            "grid_auto_flow": null,
            "grid_auto_rows": null,
            "grid_column": null,
            "grid_gap": null,
            "grid_row": null,
            "grid_template_areas": null,
            "grid_template_columns": null,
            "grid_template_rows": null,
            "height": null,
            "justify_content": null,
            "justify_items": null,
            "left": null,
            "margin": null,
            "max_height": null,
            "max_width": null,
            "min_height": null,
            "min_width": null,
            "object_fit": null,
            "object_position": null,
            "order": null,
            "overflow": null,
            "overflow_x": null,
            "overflow_y": null,
            "padding": null,
            "right": null,
            "top": null,
            "visibility": null,
            "width": null
          }
        },
        "590408b782c24d4499b99b4066d47f19": {
          "model_module": "@jupyter-widgets/controls",
          "model_name": "DescriptionStyleModel",
          "model_module_version": "1.5.0",
          "state": {
            "_model_module": "@jupyter-widgets/controls",
            "_model_module_version": "1.5.0",
            "_model_name": "DescriptionStyleModel",
            "_view_count": null,
            "_view_module": "@jupyter-widgets/base",
            "_view_module_version": "1.2.0",
            "_view_name": "StyleView",
            "description_width": ""
          }
        }
      }
    }
  },
  "cells": [
    {
      "cell_type": "markdown",
      "metadata": {
        "id": "view-in-github",
        "colab_type": "text"
      },
      "source": [
        "<a href=\"https://colab.research.google.com/github/siyeon-Hwang/aiffel_exp/blob/main/%5BNLP-06%5D%20Transformer%20Chatbot.ipynb\" target=\"_parent\"><img src=\"https://colab.research.google.com/assets/colab-badge.svg\" alt=\"Open In Colab\"/></a>"
      ]
    },
    {
      "cell_type": "markdown",
      "source": [
        "### 목차\n",
        "***\n",
        "Step 1. 데이터 다운로드  \n",
        "Step 2. 데이터 정제  \n",
        "Step 3. 데이터 토큰화  \n",
        "Step 4. Augmentation    \n",
        "  (1) 모델 불러오기  \n",
        "(2) Lexical Substitution 구현 및 적용   \n",
        "\n",
        "Step 5. 데이터 벡터화  \n",
        "(1) <start><end> 토큰 추가  \n",
        "(2) 단어사전 구축 및 벡터화  \n",
        "\n",
        "Step 6. 훈련하기  \n",
        "(1) Positional Encoding\n",
        "(2) Mask 생성\n",
        "(3) Multi-Head Attention\n",
        "(4) Position-wise Feed Forward Network\n",
        "(4) Encoder Layer\n",
        "(5) Decoder Layer\n",
        "(6) Encoder\n",
        "(7) Decoder  \n",
        "(8) Transformer 전체 모델 조립  \n",
        "(9) 모델 인스턴스 생성  \n",
        "(10) 모델 학습  \n",
        "(11) 답변 생성 - error\n",
        "\n",
        "Step 7. 성능 측정하기 - X\n",
        "\n",
        "회고"
      ],
      "metadata": {
        "id": "77PbLcR65QCR"
      }
    },
    {
      "cell_type": "code",
      "execution_count": 1,
      "metadata": {
        "colab": {
          "base_uri": "https://localhost:8080/"
        },
        "id": "EuzP6Nu54ifa",
        "outputId": "b3b95cce-e9a8-49f1-d1cd-f4315ecf38c2"
      },
      "outputs": [
        {
          "output_type": "stream",
          "name": "stdout",
          "text": [
            "1.21.5\n",
            "1.3.5\n",
            "2.8.0\n",
            "3.2.5\n",
            "3.6.0\n"
          ]
        }
      ],
      "source": [
        "import numpy \n",
        "import pandas\n",
        "import tensorflow\n",
        "import nltk\n",
        "import gensim\n",
        "\n",
        "print(numpy.__version__)\n",
        "print(pandas.__version__)\n",
        "print(tensorflow.__version__)\n",
        "print(nltk.__version__)\n",
        "print(gensim.__version__)"
      ]
    },
    {
      "cell_type": "markdown",
      "source": [
        "konlpy 및 mecab 설치"
      ],
      "metadata": {
        "id": "gcVkWga1wwsn"
      }
    },
    {
      "cell_type": "code",
      "source": [
        "!set -x \\\n",
        "&& pip install konlpy \\\n",
        "&& curl -s https://raw.githubusercontent.com/konlpy/konlpy/master/scripts/mecab.sh | bash -x"
      ],
      "metadata": {
        "colab": {
          "base_uri": "https://localhost:8080/"
        },
        "id": "E7dfg9SVwmsx",
        "outputId": "947b1a9a-4d5a-4c8f-99fb-0e7096db7052"
      },
      "execution_count": 2,
      "outputs": [
        {
          "output_type": "stream",
          "name": "stdout",
          "text": [
            "+ pip install konlpy\n",
            "Requirement already satisfied: konlpy in /usr/local/lib/python3.7/dist-packages (0.6.0)\n",
            "Requirement already satisfied: lxml>=4.1.0 in /usr/local/lib/python3.7/dist-packages (from konlpy) (4.2.6)\n",
            "Requirement already satisfied: JPype1>=0.7.0 in /usr/local/lib/python3.7/dist-packages (from konlpy) (1.3.0)\n",
            "Requirement already satisfied: numpy>=1.6 in /usr/local/lib/python3.7/dist-packages (from konlpy) (1.21.5)\n",
            "Requirement already satisfied: typing-extensions in /usr/local/lib/python3.7/dist-packages (from JPype1>=0.7.0->konlpy) (4.1.1)\n",
            "+ bash -x\n",
            "+ curl -s https://raw.githubusercontent.com/konlpy/konlpy/master/scripts/mecab.sh\n",
            "+ mecab_dicdir=/usr/local/lib/mecab/dic/mecab-ko-dic\n",
            "+ set -e\n",
            "++ uname\n",
            "+ os=Linux\n",
            "+ [[ ! Linux == \\L\\i\\n\\u\\x ]]\n",
            "+ hash sudo\n",
            "+ sudo=sudo\n",
            "+ python=python3\n",
            "+ hash pyenv\n",
            "+ at_user_site=\n",
            "++ check_python_site_location_is_writable\n",
            "++ python3 -\n",
            "+ [[ 1 == \\0 ]]\n",
            "+ hash automake\n",
            "+ hash mecab\n",
            "+ echo 'mecab-ko is already installed'\n",
            "mecab-ko is already installed\n",
            "+ [[ -d /usr/local/lib/mecab/dic/mecab-ko-dic ]]\n",
            "+ echo 'mecab-ko-dic is already installed'\n",
            "mecab-ko-dic is already installed\n",
            "++ python3 -c 'import pkgutil; print(1 if pkgutil.find_loader(\"MeCab\") else 0)'\n",
            "+ [[ 1 == \\1 ]]\n",
            "+ echo 'mecab-python is already installed'\n",
            "mecab-python is already installed\n",
            "+ echo Done.\n",
            "Done.\n"
          ]
        }
      ]
    },
    {
      "cell_type": "code",
      "source": [
        "import numpy as np\n",
        "import pandas as pd \n",
        "import tensorflow as tf \n",
        "\n",
        "import re\n",
        "import os\n",
        "\n",
        "from konlpy.tag import Mecab"
      ],
      "metadata": {
        "id": "4jpfxAjFAWHu"
      },
      "execution_count": 3,
      "outputs": []
    },
    {
      "cell_type": "code",
      "source": [
        "import konlpy\n",
        "konlpy.tag.Mecab().morphs('아버지가방에들어가신다')\n"
      ],
      "metadata": {
        "colab": {
          "base_uri": "https://localhost:8080/"
        },
        "id": "ZmGcpSmvx6dR",
        "outputId": "8f2f82a4-d81e-4286-c26e-c10361b1ef07"
      },
      "execution_count": 4,
      "outputs": [
        {
          "output_type": "execute_result",
          "data": {
            "text/plain": [
              "['아버지', '가', '방', '에', '들어가', '신다']"
            ]
          },
          "metadata": {},
          "execution_count": 4
        }
      ]
    },
    {
      "cell_type": "code",
      "source": [
        "import konlpy\n",
        "print(konlpy.__version__)"
      ],
      "metadata": {
        "colab": {
          "base_uri": "https://localhost:8080/"
        },
        "id": "fYCQkxjD2nbU",
        "outputId": "4d982adf-6d10-4b57-ba3e-4394e9b05586"
      },
      "execution_count": 5,
      "outputs": [
        {
          "output_type": "stream",
          "name": "stdout",
          "text": [
            "0.6.0\n"
          ]
        }
      ]
    },
    {
      "cell_type": "markdown",
      "source": [
        "# Step 1. 데이터 다운로드\n",
        "- [songys/Chatbot_data](https://github.com/songys/Chatbot_data)\n",
        "\n",
        "위 링크에서 ChatbotData .csv 라는 이름으로 저장된 파일을 다운받고,   \n",
        "데이터를 읽어와 질문과 답변을 각각 questions, answers 변수에 나눠서 저장한다."
      ],
      "metadata": {
        "id": "DVf2uTPp-ejA"
      }
    },
    {
      "cell_type": "code",
      "source": [
        "# 1. 경로 바꾸기\n",
        "#%cd '/content/drive/MyDrive/GoingDeeper_NLP/data/11.transformer_chatbot'\n",
        "\n",
        "# 2. 데이터 다운로드\n",
        "#!wget https://raw.githubusercontent.com/songys/Chatbot_data/master/ChatbotData.csv\n"
      ],
      "metadata": {
        "id": "FvFWMnev-Uvq"
      },
      "execution_count": 6,
      "outputs": []
    },
    {
      "cell_type": "code",
      "source": [
        "data = pd.read_csv('/content/drive/MyDrive/GoingDeeper_NLP/data/11.transformer_chatbot/ChatbotData.csv')\n",
        "\n",
        "data.head()"
      ],
      "metadata": {
        "colab": {
          "base_uri": "https://localhost:8080/",
          "height": 206
        },
        "id": "FQMCAT5H_-PS",
        "outputId": "961ff8bf-6d38-4e1b-c753-4fd542686445"
      },
      "execution_count": 7,
      "outputs": [
        {
          "output_type": "execute_result",
          "data": {
            "text/plain": [
              "                 Q            A  label\n",
              "0           12시 땡!   하루가 또 가네요.      0\n",
              "1      1지망 학교 떨어졌어    위로해 드립니다.      0\n",
              "2     3박4일 놀러가고 싶다  여행은 언제나 좋죠.      0\n",
              "3  3박4일 정도 놀러가고 싶다  여행은 언제나 좋죠.      0\n",
              "4          PPL 심하네   눈살이 찌푸려지죠.      0"
            ],
            "text/html": [
              "\n",
              "  <div id=\"df-1b034dc9-d568-4ce7-9ea7-acb5b3dbb378\">\n",
              "    <div class=\"colab-df-container\">\n",
              "      <div>\n",
              "<style scoped>\n",
              "    .dataframe tbody tr th:only-of-type {\n",
              "        vertical-align: middle;\n",
              "    }\n",
              "\n",
              "    .dataframe tbody tr th {\n",
              "        vertical-align: top;\n",
              "    }\n",
              "\n",
              "    .dataframe thead th {\n",
              "        text-align: right;\n",
              "    }\n",
              "</style>\n",
              "<table border=\"1\" class=\"dataframe\">\n",
              "  <thead>\n",
              "    <tr style=\"text-align: right;\">\n",
              "      <th></th>\n",
              "      <th>Q</th>\n",
              "      <th>A</th>\n",
              "      <th>label</th>\n",
              "    </tr>\n",
              "  </thead>\n",
              "  <tbody>\n",
              "    <tr>\n",
              "      <th>0</th>\n",
              "      <td>12시 땡!</td>\n",
              "      <td>하루가 또 가네요.</td>\n",
              "      <td>0</td>\n",
              "    </tr>\n",
              "    <tr>\n",
              "      <th>1</th>\n",
              "      <td>1지망 학교 떨어졌어</td>\n",
              "      <td>위로해 드립니다.</td>\n",
              "      <td>0</td>\n",
              "    </tr>\n",
              "    <tr>\n",
              "      <th>2</th>\n",
              "      <td>3박4일 놀러가고 싶다</td>\n",
              "      <td>여행은 언제나 좋죠.</td>\n",
              "      <td>0</td>\n",
              "    </tr>\n",
              "    <tr>\n",
              "      <th>3</th>\n",
              "      <td>3박4일 정도 놀러가고 싶다</td>\n",
              "      <td>여행은 언제나 좋죠.</td>\n",
              "      <td>0</td>\n",
              "    </tr>\n",
              "    <tr>\n",
              "      <th>4</th>\n",
              "      <td>PPL 심하네</td>\n",
              "      <td>눈살이 찌푸려지죠.</td>\n",
              "      <td>0</td>\n",
              "    </tr>\n",
              "  </tbody>\n",
              "</table>\n",
              "</div>\n",
              "      <button class=\"colab-df-convert\" onclick=\"convertToInteractive('df-1b034dc9-d568-4ce7-9ea7-acb5b3dbb378')\"\n",
              "              title=\"Convert this dataframe to an interactive table.\"\n",
              "              style=\"display:none;\">\n",
              "        \n",
              "  <svg xmlns=\"http://www.w3.org/2000/svg\" height=\"24px\"viewBox=\"0 0 24 24\"\n",
              "       width=\"24px\">\n",
              "    <path d=\"M0 0h24v24H0V0z\" fill=\"none\"/>\n",
              "    <path d=\"M18.56 5.44l.94 2.06.94-2.06 2.06-.94-2.06-.94-.94-2.06-.94 2.06-2.06.94zm-11 1L8.5 8.5l.94-2.06 2.06-.94-2.06-.94L8.5 2.5l-.94 2.06-2.06.94zm10 10l.94 2.06.94-2.06 2.06-.94-2.06-.94-.94-2.06-.94 2.06-2.06.94z\"/><path d=\"M17.41 7.96l-1.37-1.37c-.4-.4-.92-.59-1.43-.59-.52 0-1.04.2-1.43.59L10.3 9.45l-7.72 7.72c-.78.78-.78 2.05 0 2.83L4 21.41c.39.39.9.59 1.41.59.51 0 1.02-.2 1.41-.59l7.78-7.78 2.81-2.81c.8-.78.8-2.07 0-2.86zM5.41 20L4 18.59l7.72-7.72 1.47 1.35L5.41 20z\"/>\n",
              "  </svg>\n",
              "      </button>\n",
              "      \n",
              "  <style>\n",
              "    .colab-df-container {\n",
              "      display:flex;\n",
              "      flex-wrap:wrap;\n",
              "      gap: 12px;\n",
              "    }\n",
              "\n",
              "    .colab-df-convert {\n",
              "      background-color: #E8F0FE;\n",
              "      border: none;\n",
              "      border-radius: 50%;\n",
              "      cursor: pointer;\n",
              "      display: none;\n",
              "      fill: #1967D2;\n",
              "      height: 32px;\n",
              "      padding: 0 0 0 0;\n",
              "      width: 32px;\n",
              "    }\n",
              "\n",
              "    .colab-df-convert:hover {\n",
              "      background-color: #E2EBFA;\n",
              "      box-shadow: 0px 1px 2px rgba(60, 64, 67, 0.3), 0px 1px 3px 1px rgba(60, 64, 67, 0.15);\n",
              "      fill: #174EA6;\n",
              "    }\n",
              "\n",
              "    [theme=dark] .colab-df-convert {\n",
              "      background-color: #3B4455;\n",
              "      fill: #D2E3FC;\n",
              "    }\n",
              "\n",
              "    [theme=dark] .colab-df-convert:hover {\n",
              "      background-color: #434B5C;\n",
              "      box-shadow: 0px 1px 3px 1px rgba(0, 0, 0, 0.15);\n",
              "      filter: drop-shadow(0px 1px 2px rgba(0, 0, 0, 0.3));\n",
              "      fill: #FFFFFF;\n",
              "    }\n",
              "  </style>\n",
              "\n",
              "      <script>\n",
              "        const buttonEl =\n",
              "          document.querySelector('#df-1b034dc9-d568-4ce7-9ea7-acb5b3dbb378 button.colab-df-convert');\n",
              "        buttonEl.style.display =\n",
              "          google.colab.kernel.accessAllowed ? 'block' : 'none';\n",
              "\n",
              "        async function convertToInteractive(key) {\n",
              "          const element = document.querySelector('#df-1b034dc9-d568-4ce7-9ea7-acb5b3dbb378');\n",
              "          const dataTable =\n",
              "            await google.colab.kernel.invokeFunction('convertToInteractive',\n",
              "                                                     [key], {});\n",
              "          if (!dataTable) return;\n",
              "\n",
              "          const docLinkHtml = 'Like what you see? Visit the ' +\n",
              "            '<a target=\"_blank\" href=https://colab.research.google.com/notebooks/data_table.ipynb>data table notebook</a>'\n",
              "            + ' to learn more about interactive tables.';\n",
              "          element.innerHTML = '';\n",
              "          dataTable['output_type'] = 'display_data';\n",
              "          await google.colab.output.renderOutput(dataTable, element);\n",
              "          const docLink = document.createElement('div');\n",
              "          docLink.innerHTML = docLinkHtml;\n",
              "          element.appendChild(docLink);\n",
              "        }\n",
              "      </script>\n",
              "    </div>\n",
              "  </div>\n",
              "  "
            ]
          },
          "metadata": {},
          "execution_count": 7
        }
      ]
    },
    {
      "cell_type": "code",
      "source": [
        "questions = data['Q'].to_string(index=False)\n",
        "questions = questions.split('\\n')\n",
        "questions[:3]"
      ],
      "metadata": {
        "colab": {
          "base_uri": "https://localhost:8080/"
        },
        "id": "jX2nKZz_Ah8D",
        "outputId": "2bb16f88-a605-4a42-8748-5ffae2f81cd7"
      },
      "execution_count": 8,
      "outputs": [
        {
          "output_type": "execute_result",
          "data": {
            "text/plain": [
              "['                                            12시 땡!',\n",
              " '                                       1지망 학교 떨어졌어',\n",
              " '                                      3박4일 놀러가고 싶다']"
            ]
          },
          "metadata": {},
          "execution_count": 8
        }
      ]
    },
    {
      "cell_type": "code",
      "source": [
        "answers = data['A'].to_string(index=False)\n",
        "answers = answers.split('\\n')\n",
        "answers[:3]"
      ],
      "metadata": {
        "colab": {
          "base_uri": "https://localhost:8080/"
        },
        "id": "dLH50llRAwS6",
        "outputId": "2089e793-b1fe-482a-9943-8c8f300d6b55"
      },
      "execution_count": 9,
      "outputs": [
        {
          "output_type": "execute_result",
          "data": {
            "text/plain": [
              "['                                        하루가 또 가네요.',\n",
              " '                                         위로해 드립니다.',\n",
              " '                                       여행은 언제나 좋죠.']"
            ]
          },
          "metadata": {},
          "execution_count": 9
        }
      ]
    },
    {
      "cell_type": "markdown",
      "source": [
        "# Step 2. 데이터 정제\n",
        "아래 조건을 만족하는 preprocess_sentence() 함수 구현\n",
        "1.   영문자의 경우, **모두 소문자로 변환**.\n",
        "2.   영문자와 한글, 숫자, 그리고 주요 특수문자를 제외하곤 **정규식을 활용하여 모두 제거**."
      ],
      "metadata": {
        "id": "OXZKAGneB5gG"
      }
    },
    {
      "cell_type": "code",
      "source": [
        "def preprocess_sentence(sentences):\n",
        "  corpus = []\n",
        "  for sentence in sentences:\n",
        "    sentence = sentence.lower().strip()\n",
        "  \n",
        "    reg = re.compile('[^a-zㅏ-ㅣㄱ-ㅎ가-힣0-9?.!, ]')\n",
        "    sentence = reg.sub('', str(sentence))\n",
        "\n",
        "    sentence = re.sub(r'([?.!,])', r\" \\1 \", sentence)\n",
        "    sentence = re.sub(r'([\" \"]+)', \" \", sentence)\n",
        "\n",
        "    corpus.append(sentence)\n",
        "  return corpus"
      ],
      "metadata": {
        "id": "Hd-TX3g-BtZB"
      },
      "execution_count": 10,
      "outputs": []
    },
    {
      "cell_type": "code",
      "source": [
        "questions2 = preprocess_sentence(questions)\n",
        "questions2[:5]\n",
        "t = Mecab().morphs\n",
        "#questions3 = t.morphs(questions2)\n",
        "#questions3[:3]\n",
        "#AssertionError: phrase input should be string, not <class 'list'>\n",
        "lis = []\n",
        "for s in questions2:\n",
        "  lis.append(t(s))\n",
        "lis[:5]"
      ],
      "metadata": {
        "colab": {
          "base_uri": "https://localhost:8080/"
        },
        "id": "cPbN3sJeEeJx",
        "outputId": "d42e9963-1d40-4d54-f7f3-c5cf16f65dbe"
      },
      "execution_count": 11,
      "outputs": [
        {
          "output_type": "execute_result",
          "data": {
            "text/plain": [
              "[['12', '시', '땡', '!'],\n",
              " ['1', '지망', '학교', '떨어졌', '어'],\n",
              " ['3', '박', '4', '일', '놀', '러', '가', '고', '싶', '다'],\n",
              " ['3', '박', '4', '일', '정도', '놀', '러', '가', '고', '싶', '다'],\n",
              " ['ppl', '심하', '네']]"
            ]
          },
          "metadata": {},
          "execution_count": 11
        }
      ]
    },
    {
      "cell_type": "markdown",
      "source": [
        "# Step 3. 데이터 토큰화\n",
        "아래 조건을 만족하는 build_corpus() 함수 구현\n",
        "\n",
        "\n",
        "1.   **소스 문장 데이터**와 **타겟 문장 데이터**를 입력으로 받는다.\n",
        "2.   데이터를 앞서 정의한 preprocess_sentence() 함수로 **정제하고, 토큰화**\n",
        "3.   토큰화는 **전달받은 토크나이즈 함수 사용**. 여기서는 mecab.morphs 사용하면 됨\n",
        "4.   토큰의 개수가 일정 길이 이상인 문장은 **데이터에서 제외**\n",
        "5.   **중복되는 문장은 데이터에서 제외**. 소스:타겟 쌍을 비교하지 않고 소스는 소스대로, 타겟은 타겟대로 검사. 중복 쌍 흐트러지지 않도록 유의할 것.\n",
        "\n",
        "구현한 함수를 활용하여 questions와 answers를 각각 que_corpus, ans_corpus 에 토큰화하여 저장한다. \n",
        "\n"
      ],
      "metadata": {
        "id": "nzOcgMB1YdiV"
      }
    },
    {
      "cell_type": "code",
      "source": [
        "def build_corpus(src_sentence, tgt_sentence, tokenizer):\n",
        "  src_sentence = preprocess_sentence(src_sentence)\n",
        "  tgt_sentence = preprocess_sentence(tgt_sentence)\n",
        "\n",
        "  src_tokens = []\n",
        "  for sentence in src_sentence:\n",
        "    src_tokens.append(tokenizer.morphs(sentence))\n",
        "\n",
        "  tgt_tokens = []\n",
        "  for sentence in tgt_sentence:\n",
        "    tgt_tokens.append(tokenizer.morphs(sentence))\n",
        "\n",
        "  assert len(src_tokens) == len(tgt_tokens)\n",
        "\n",
        "  que_corpus = [src_tokens[i] for i in range(len(src_tokens)) if len(src_tokens[i]) <= 50]\n",
        "  ans_corpus = [tgt_tokens[i] for i in range(len(tgt_tokens)) if len(tgt_tokens[i]) <= 50]\n",
        "\n",
        "  que_corpus = map(tuple,que_corpus)\n",
        "  ans_corpus = map(tuple,ans_corpus)\n",
        "  \n",
        "  set_corpus = set(zip(que_corpus, ans_corpus))\n",
        "\n",
        "  que_corpus, ans_corpus = zip(*set_corpus)\n",
        "  que_corpus = [list(que_corpus[i]) for i in range(len(que_corpus))]\n",
        "  ans_corpus = [list(ans_corpus[i]) for i in range(len(ans_corpus))]\n",
        "\n",
        "  return que_corpus, ans_corpus\n",
        "  "
      ],
      "metadata": {
        "id": "PoOtfyNiEse4"
      },
      "execution_count": 12,
      "outputs": []
    },
    {
      "cell_type": "code",
      "source": [
        "mecab = Mecab()\n",
        "que_corpus, ans_corpus = build_corpus(questions, answers, mecab)\n",
        "\n",
        "que_corpus[:5], ans_corpus[:5]"
      ],
      "metadata": {
        "colab": {
          "base_uri": "https://localhost:8080/"
        },
        "id": "ucZOtFaAgkRL",
        "outputId": "75b7212c-a6b6-4b7e-c4b7-343eef903bf3"
      },
      "execution_count": 13,
      "outputs": [
        {
          "output_type": "execute_result",
          "data": {
            "text/plain": [
              "([['가짜', '이별', '4', '개월', '만', '에', '마침표', '찍', '었', '습니다', '.'],\n",
              "  ['스', '테', '끼', '먹', '은', '거', '몇', '년', '만', '이', '냐'],\n",
              "  ['좋', '아', '하', '는', '남자', '애', '앞', '에서', '표정', '관리', '가', '안', '돼', '.'],\n",
              "  ['1000', '일', '만난', '여자', '친구', '와', '이별'],\n",
              "  ['방금', '너무', '울', '었', '어']],\n",
              " [['마침표', '찍', '는', '것', '도', '용기', '가', '필요', '하', '죠', '.'],\n",
              "  ['맛있', '게', '드세요', '.'],\n",
              "  ['짝사랑', '도', '이성', '을', '막지', '는', '못하', '나', '봐요', '.'],\n",
              "  ['더', '오래', '만날', '사람', '만날', '거', '예요', '.'],\n",
              "  ['속', '이', '조금', '후련', '하', '면', '좋', '겠', '네요', '.']])"
            ]
          },
          "metadata": {},
          "execution_count": 13
        }
      ]
    },
    {
      "cell_type": "markdown",
      "source": [
        "# Step 4. Augmentation\n",
        "주어진 데이터는 1만개 가량으로 적은 편에 속한다.  \n",
        "**Lexical Substitution**을 적용하여 늘려본다.\n",
        "\n",
        "아래 링크를 참고하여 **한국어로 사전 훈련된 Embedding 모델을 다운로드**한다.   \n",
        "Korean (w) 가 Word2Vec으로 학습한 모델이며 용량도 적당하므로 사이트에서 Korean(w)를 찾아 다운로드하고, ko.bin 파일을 얻는다.\n",
        "- [Kyubyong/wordvectors](https://github.com/Kyubyong/wordvectors)\n",
        "\n",
        "다운로드한 모델을 활용해 **데이터를 Augmentation** 한다. \n",
        "\n",
        "*Augmentation된 que_corpus 와 원본 ans_corpus 가 병렬을 이루도록, 이후엔 반대로 원본 que_corpus 와 Augmentation된 ans_corpus 가 병렬을 이루도록 하여 **전체 데이터가 원래의 3배가량으로 늘어나도록** 한다.*"
      ],
      "metadata": {
        "id": "h3PjdPfb1Vkk"
      }
    },
    {
      "cell_type": "markdown",
      "source": [
        "### (1) 모델 불러오기"
      ],
      "metadata": {
        "id": "51LMfgdvCEY9"
      }
    },
    {
      "cell_type": "code",
      "source": [
        "# 압축 풀기\n",
        "#%cd '/content/drive/MyDrive/GoingDeeper_NLP/data/12. transformer_chatbot'\n",
        "#!unzip -qq '/content/drive/MyDrive/GoingDeeper_NLP/data/12. transformer_chatbot/ko.zip'"
      ],
      "metadata": {
        "id": "sZ6zLqAEi7zQ"
      },
      "execution_count": 14,
      "outputs": []
    },
    {
      "cell_type": "code",
      "source": [
        "import gensim\n",
        "\n",
        "ko_wv = gensim.models.Word2Vec.load('/content/drive/MyDrive/GoingDeeper_NLP/data/12. transformer_chatbot/ko.bin')\n",
        "\n",
        "ko_wv.wv.most_similar('강아지')"
      ],
      "metadata": {
        "colab": {
          "base_uri": "https://localhost:8080/"
        },
        "id": "7HmFbLbU6gUX",
        "outputId": "bd1ae358-c4e7-4bf8-afee-850451d81986"
      },
      "execution_count": 15,
      "outputs": [
        {
          "output_type": "execute_result",
          "data": {
            "text/plain": [
              "[('고양이', 0.7290452718734741),\n",
              " ('거위', 0.7185635566711426),\n",
              " ('토끼', 0.7056223154067993),\n",
              " ('멧돼지', 0.6950401067733765),\n",
              " ('엄마', 0.6934334635734558),\n",
              " ('난쟁이', 0.6806551218032837),\n",
              " ('한마리', 0.6770296096801758),\n",
              " ('아가씨', 0.6750352382659912),\n",
              " ('아빠', 0.6729634404182434),\n",
              " ('목걸이', 0.6512460708618164)]"
            ]
          },
          "metadata": {},
          "execution_count": 15
        }
      ]
    },
    {
      "cell_type": "markdown",
      "source": [
        "### (2) Lexical Substitution 구현 및 적용"
      ],
      "metadata": {
        "id": "ez5Zr1RUCIlP"
      }
    },
    {
      "cell_type": "code",
      "source": [
        "# Lexical Substitution 구현하기\n",
        "import random\n",
        "\n",
        "def lexical_sub(sentence, word2vec):\n",
        "  res = []\n",
        "  toks = sentence\n",
        "\n",
        "  try:\n",
        "    _from = random.choice(toks)\n",
        "    _to = word2vec.wv.most_similar(_from)[0][0]\n",
        "\n",
        "  except:\n",
        "    return None\n",
        "\n",
        "  for tok in toks:\n",
        "    if tok is _from: \n",
        "      res.append(_to)\n",
        "    else:\n",
        "      res.append(tok)\n",
        "\n",
        "  return res"
      ],
      "metadata": {
        "id": "zq_IoEYg_S-I"
      },
      "execution_count": 16,
      "outputs": []
    },
    {
      "cell_type": "code",
      "source": [
        "from tqdm.notebook import tqdm\n",
        "\n",
        "que_corpus_1 = []\n",
        "\n",
        "for old_src in tqdm(que_corpus):\n",
        "  new_src = lexical_sub(old_src, ko_wv)\n",
        "  if new_src is not None:\n",
        "    que_corpus_1.append(new_src)\n",
        "  else:\n",
        "    que_corpus_1.append(old_src)\n",
        "  \n",
        "print(que_corpus_1[:3])"
      ],
      "metadata": {
        "colab": {
          "base_uri": "https://localhost:8080/",
          "height": 88,
          "referenced_widgets": [
            "463986dd59584aca819632efa1a3b79c",
            "8533cd987e52404fbfff3a1df7bef2f0",
            "06a7dd68d4b240449027a1a5ab7fdd06",
            "554fac03f80c4ead9d0947f24f09c83e",
            "cdfe0e85e76c440e9e320890859780e7",
            "1374721b90514dc1a8bb278d7876b652",
            "3d7b9c7e59a24fde9c15e228a224c552",
            "8d6e132463b14802a1856a5bfad5d9ba",
            "82c439733cdf438cb2579a6173fd76b3",
            "09362019743644c1ae8127b6a7225598",
            "07b3aac32973413391b56a4a3fc344b0"
          ]
        },
        "id": "phyh1KEYDSZh",
        "outputId": "94b6073c-c131-4290-db19-e9d03903c27a"
      },
      "execution_count": 17,
      "outputs": [
        {
          "output_type": "display_data",
          "data": {
            "text/plain": [
              "  0%|          | 0/11747 [00:00<?, ?it/s]"
            ],
            "application/vnd.jupyter.widget-view+json": {
              "version_major": 2,
              "version_minor": 0,
              "model_id": "463986dd59584aca819632efa1a3b79c"
            }
          },
          "metadata": {}
        },
        {
          "output_type": "stream",
          "name": "stdout",
          "text": [
            "[['가짜', '이별', '4', '개월', '만', '에', '마침표', '찍', '었', '습니다', '.'], ['스', '타시', '끼', '먹', '은', '거', '몇', '년', '만', '이', '냐'], ['좋', '아', '하', '는', '남자', '사우스캐롤라이', '앞', '에서', '표정', '관리', '가', '안', '돼', '.']]\n"
          ]
        }
      ]
    },
    {
      "cell_type": "code",
      "source": [
        "ans_corpus_1 = []\n",
        "\n",
        "for old_src in tqdm(ans_corpus):\n",
        "  new_src = lexical_sub(old_src, ko_wv)\n",
        "  if new_src is not None:\n",
        "    ans_corpus_1.append(new_src)\n",
        "  else:\n",
        "    ans_corpus_1.append(old_src)\n",
        "  \n",
        "print(ans_corpus_1[:3])"
      ],
      "metadata": {
        "colab": {
          "base_uri": "https://localhost:8080/",
          "height": 88,
          "referenced_widgets": [
            "7e1e289c43df4fa8b4f669b9f6b4b0d5",
            "07785b5526934472820d4005a8f36f87",
            "e80bdb28e5ad4efeb49610bef455988e",
            "a25b7a3b21e045118094a2d425571ef2",
            "9bfa780792084c1d9c1eb42596633dcf",
            "e506d350c1664564b2b09e43b9f1a461",
            "51a12c34f0dd4d46b53a63497512cc50",
            "9782ba7d71494117ab64b018964a551c",
            "73f06df95845435cb7f7bda2ff43deb5",
            "f6d000d1e65f4f6ab12c5cd7b7c85087",
            "4c68fa9c48394129b4b025d3968cfad9"
          ]
        },
        "id": "IRoWI-liFR0H",
        "outputId": "9092ab6d-7f2f-47bb-f64b-05d1e2d3ea77"
      },
      "execution_count": 18,
      "outputs": [
        {
          "output_type": "display_data",
          "data": {
            "text/plain": [
              "  0%|          | 0/11747 [00:00<?, ?it/s]"
            ],
            "application/vnd.jupyter.widget-view+json": {
              "version_major": 2,
              "version_minor": 0,
              "model_id": "7e1e289c43df4fa8b4f669b9f6b4b0d5"
            }
          },
          "metadata": {}
        },
        {
          "output_type": "stream",
          "name": "stdout",
          "text": [
            "[['마침표', '찍', '는', '것', '도', '용기', '가', '필요', '하', '지요', '.'], ['맛있', '게', '드세요', '.'], ['짝사랑', '도', '이성', '을', '막지', '는', '않', '나', '봐요', '.']]\n"
          ]
        }
      ]
    },
    {
      "cell_type": "code",
      "source": [
        "que_corpus_new = que_corpus + que_corpus_1 + que_corpus\n",
        "ans_corpus_new = ans_corpus + ans_corpus + ans_corpus_1\n",
        "\n",
        "print(len(que_corpus_new))\n",
        "print(len(ans_corpus_new))"
      ],
      "metadata": {
        "colab": {
          "base_uri": "https://localhost:8080/"
        },
        "id": "EWMbYqqkGX4J",
        "outputId": "b061ac1f-358d-4944-db66-9c45f771c097"
      },
      "execution_count": 19,
      "outputs": [
        {
          "output_type": "stream",
          "name": "stdout",
          "text": [
            "35241\n",
            "35241\n"
          ]
        }
      ]
    },
    {
      "cell_type": "markdown",
      "source": [
        "# Step 5. 데이터 벡터화\n",
        "타겟 데이터인 ans_corpus_new 에 <start\\> 토큰과 <end\\> 토큰이 추가되지 않은 상태이니 이를 먼저 해결한 후 벡터화를 진행한다."
      ],
      "metadata": {
        "id": "nqzFzT_4JPrC"
      }
    },
    {
      "cell_type": "markdown",
      "source": [
        "### (1) <start\\><end\\> 토큰 추가"
      ],
      "metadata": {
        "id": "G92GFztmLxkK"
      }
    },
    {
      "cell_type": "code",
      "source": [
        "ans_corpus_new1 = []\n",
        "for sentence in ans_corpus_new:\n",
        "  ans_corpus_new1.append([\"<start>\"] + sentence + [\"<end>\"])\n",
        "\n",
        "print(len(ans_corpus_new1))\n",
        "print(ans_corpus_new1[:3])"
      ],
      "metadata": {
        "colab": {
          "base_uri": "https://localhost:8080/"
        },
        "id": "-KM7Zpk6INcn",
        "outputId": "5467bbf6-8f9a-4f99-ae4a-39029d0bb959"
      },
      "execution_count": 20,
      "outputs": [
        {
          "output_type": "stream",
          "name": "stdout",
          "text": [
            "35241\n",
            "[['<start>', '마침표', '찍', '는', '것', '도', '용기', '가', '필요', '하', '죠', '.', '<end>'], ['<start>', '맛있', '게', '드세요', '.', '<end>'], ['<start>', '짝사랑', '도', '이성', '을', '막지', '는', '못하', '나', '봐요', '.', '<end>']]\n"
          ]
        }
      ]
    },
    {
      "cell_type": "markdown",
      "source": [
        "### (2) 단어사전 구축 및 벡터화\n",
        "ans_corpus_new1 와 que_corpus_new를 결합하여 **전체 데이터에 대한 단어 사전을 구축**하고 **벡터화** 하여 enc_train과 dec_train을 얻는다."
      ],
      "metadata": {
        "id": "BiNvHXOeL5Lw"
      }
    },
    {
      "cell_type": "code",
      "source": [
        "entire_corpus = []\n",
        "for i in range(len(que_corpus_new)):\n",
        "  entire_corpus.append(que_corpus_new[i] + ans_corpus_new1[i])\n",
        "\n",
        "entire_corpus[:3]"
      ],
      "metadata": {
        "colab": {
          "base_uri": "https://localhost:8080/"
        },
        "id": "IVIEJ6etSGnP",
        "outputId": "5e08a99f-1442-495a-a70c-b5b6e4f901ee"
      },
      "execution_count": 21,
      "outputs": [
        {
          "output_type": "execute_result",
          "data": {
            "text/plain": [
              "[['가짜',\n",
              "  '이별',\n",
              "  '4',\n",
              "  '개월',\n",
              "  '만',\n",
              "  '에',\n",
              "  '마침표',\n",
              "  '찍',\n",
              "  '었',\n",
              "  '습니다',\n",
              "  '.',\n",
              "  '<start>',\n",
              "  '마침표',\n",
              "  '찍',\n",
              "  '는',\n",
              "  '것',\n",
              "  '도',\n",
              "  '용기',\n",
              "  '가',\n",
              "  '필요',\n",
              "  '하',\n",
              "  '죠',\n",
              "  '.',\n",
              "  '<end>'],\n",
              " ['스',\n",
              "  '테',\n",
              "  '끼',\n",
              "  '먹',\n",
              "  '은',\n",
              "  '거',\n",
              "  '몇',\n",
              "  '년',\n",
              "  '만',\n",
              "  '이',\n",
              "  '냐',\n",
              "  '<start>',\n",
              "  '맛있',\n",
              "  '게',\n",
              "  '드세요',\n",
              "  '.',\n",
              "  '<end>'],\n",
              " ['좋',\n",
              "  '아',\n",
              "  '하',\n",
              "  '는',\n",
              "  '남자',\n",
              "  '애',\n",
              "  '앞',\n",
              "  '에서',\n",
              "  '표정',\n",
              "  '관리',\n",
              "  '가',\n",
              "  '안',\n",
              "  '돼',\n",
              "  '.',\n",
              "  '<start>',\n",
              "  '짝사랑',\n",
              "  '도',\n",
              "  '이성',\n",
              "  '을',\n",
              "  '막지',\n",
              "  '는',\n",
              "  '못하',\n",
              "  '나',\n",
              "  '봐요',\n",
              "  '.',\n",
              "  '<end>']]"
            ]
          },
          "metadata": {},
          "execution_count": 21
        }
      ]
    },
    {
      "cell_type": "code",
      "source": [
        "# que_corpus_new 와 ans_corpus_new1 결합\n",
        "#entire_corpus = list(zip(que_corpus_new, ans_corpus_new1))\n",
        "#entire_corpus[:3]"
      ],
      "metadata": {
        "id": "ToDo6BPCO6qI"
      },
      "execution_count": 22,
      "outputs": []
    },
    {
      "cell_type": "code",
      "source": [
        "def tokenize(corpus, que_corpus, ans_corpus):\n",
        "  tokenizer = tf.keras.preprocessing.text.Tokenizer(num_words=20000,\n",
        "                                                    filters='')\n",
        "  tokenizer.fit_on_texts(corpus)\n",
        "\n",
        "  tensor_q = tokenizer.texts_to_sequences(que_corpus)\n",
        "  tensor_a = tokenizer.texts_to_sequences(ans_corpus)\n",
        "\n",
        "  tensor_q = tf.keras.preprocessing.sequence.pad_sequences(tensor_q,\n",
        "                                                           padding='post')\n",
        "  tensor_a = tf.keras.preprocessing.sequence.pad_sequences(tensor_a,\n",
        "                                                           padding='post')\n",
        "  \n",
        "  return tensor_q, tensor_a, tokenizer"
      ],
      "metadata": {
        "id": "MZCMBkIsLqzd"
      },
      "execution_count": 23,
      "outputs": []
    },
    {
      "cell_type": "code",
      "source": [
        "enc_train, dec_train, tokenizer = tokenize(entire_corpus, que_corpus_new, ans_corpus_new1)\n",
        "\n",
        "print('Vocab Size:', len(tokenizer.index_word))\n",
        "print('enc_train Length: ', len(enc_train))\n",
        "print('dec_train Length: ', len(dec_train))"
      ],
      "metadata": {
        "colab": {
          "base_uri": "https://localhost:8080/"
        },
        "id": "fzgJkmEoQMpb",
        "outputId": "cf2fb529-031e-4c31-fa16-873f3c31ccb8"
      },
      "execution_count": 24,
      "outputs": [
        {
          "output_type": "stream",
          "name": "stdout",
          "text": [
            "Vocab Size: 7937\n",
            "enc_train Length:  35241\n",
            "dec_train Length:  35241\n"
          ]
        }
      ]
    },
    {
      "cell_type": "code",
      "source": [
        "enc_train[0], dec_train[0]"
      ],
      "metadata": {
        "colab": {
          "base_uri": "https://localhost:8080/"
        },
        "id": "keR3OuCPXt57",
        "outputId": "65936968-6e16-43de-fe15-c3b290de1663"
      },
      "execution_count": 25,
      "outputs": [
        {
          "output_type": "execute_result",
          "data": {
            "text/plain": [
              "(array([1384,   66,  546,  345,   58,   25, 1752,  611,   63,  106,    1,\n",
              "           0,    0,    0,    0,    0,    0,    0,    0,    0,    0,    0,\n",
              "           0,    0,    0,    0,    0,    0,    0,    0], dtype=int32),\n",
              " array([   2, 1752,  611,    6,   41,   22,  374,    8,  121,    5,   35,\n",
              "           1,    3,    0,    0,    0,    0,    0,    0,    0,    0,    0,\n",
              "           0,    0,    0,    0,    0,    0,    0,    0,    0,    0],\n",
              "       dtype=int32))"
            ]
          },
          "metadata": {},
          "execution_count": 25
        }
      ]
    },
    {
      "cell_type": "code",
      "source": [
        "VOCAB_SIZE = len(tokenizer.index_word)\n",
        "\n",
        "BATCH_SIZE = 64\n",
        "train_dataset = tf.data.Dataset.from_tensor_slices((enc_train, dec_train)).batch(batch_size=BATCH_SIZE)"
      ],
      "metadata": {
        "id": "g3eeLRs0VEz0"
      },
      "execution_count": 26,
      "outputs": []
    },
    {
      "cell_type": "markdown",
      "source": [
        "# Step 6. 훈련하기\n",
        "Transformer를 이용해 훈련한다.   \n",
        "데이터의 크기가 작으니 하이퍼파라미터를 튜닝해야 과적합을 피할 수 있다.  "
      ],
      "metadata": {
        "id": "2HXbx4RwTTnu"
      }
    },
    {
      "cell_type": "markdown",
      "source": [
        "### (1) Positional Encoding"
      ],
      "metadata": {
        "id": "_8m_BPXqTsYU"
      }
    },
    {
      "cell_type": "code",
      "source": [
        "def positional_encoding(pos, d_model):\n",
        "  def cal_angle(position, i):\n",
        "    return position / np.power(10000, (2*(1//2)) / np.float32(d_model))\n",
        "\n",
        "  def get_posi_angle_vec(position):\n",
        "    return [cal_angle(position, i) for i in range(d_model)]\n",
        "\n",
        "  sinusoid_table = np.array([get_posi_angle_vec(pos_i) for pos_i in range(pos)])\n",
        "\n",
        "  sinusoid_table[:, 0::2] = np.sin(sinusoid_table[:, 0::2])\n",
        "  sinusoid_table[:, 1::2] = np.cos(sinusoid_table[:, 1::2])\n",
        "\n",
        "  return sinusoid_table"
      ],
      "metadata": {
        "id": "ST8RU_AtTFgw"
      },
      "execution_count": 27,
      "outputs": []
    },
    {
      "cell_type": "markdown",
      "source": [
        "### (2) Mask 생성"
      ],
      "metadata": {
        "id": "nZilWBGfTxkd"
      }
    },
    {
      "cell_type": "code",
      "source": [
        "def generate_padding_mask(seq):\n",
        "  seq = tf.cast(tf.math.equal(seq, 0), tf.float32)\n",
        "  return seq[:, tf.newaxis, tf.newaxis, :]\n",
        "\n",
        "def generate_lookahead_mask(size):\n",
        "  mask = 1 - tf.linalg.band_part(tf.ones((size, size)), -1, 0)\n",
        "  return mask\n",
        "\n",
        "def generate_masks(src, tgt):\n",
        "  enc_mask = generate_padding_mask(src)\n",
        "  dec_enc_mask = generate_padding_mask(src)\n",
        "\n",
        "  dec_lookahead_mask = generate_lookahead_mask(tgt.shape[1])\n",
        "  dec_tgt_padding_mask = generate_padding_mask(tgt)\n",
        "  dec_mask = tf.maximum(dec_tgt_padding_mask, dec_lookahead_mask)\n",
        "\n",
        "  return enc_mask, dec_enc_mask, dec_mask"
      ],
      "metadata": {
        "id": "ictRgubcTwh0"
      },
      "execution_count": 28,
      "outputs": []
    },
    {
      "cell_type": "markdown",
      "source": [
        "### (3) Multi-Head Attention"
      ],
      "metadata": {
        "id": "tk_GRgIDT2r0"
      }
    },
    {
      "cell_type": "code",
      "source": [
        "class MultiHeadAttention(tf.keras.layers.Layer):\n",
        "  def __init__(self, d_model, num_heads):\n",
        "    super(MultiHeadAttention, self).__init__()\n",
        "    self.num_heads = num_heads\n",
        "    self.d_model = d_model\n",
        "\n",
        "    self.depth = d_model // self.num_heads\n",
        "\n",
        "    self.W_q = tf.keras.layers.Dense(d_model)\n",
        "    self.W_k = tf.keras.layers.Dense(d_model)\n",
        "    self.W_v = tf.keras.layers.Dense(d_model)\n",
        "\n",
        "    self.linear = tf.keras.layers.Dense(d_model)\n",
        "\n",
        "  def scaled_dot_product_attention(self, Q, K, V, mask):\n",
        "    d_k = tf.cast(K.shape[-1], tf.float32)\n",
        "    QK = tf.matmul(Q, K, transpose_b=True)\n",
        "\n",
        "    scaled_qk = QK / tf.math.sqrt(d_k)\n",
        "\n",
        "    if mask is not None: scaled_qk += (mask * -1e9)\n",
        "\n",
        "    attentions = tf.nn.softmax(scaled_qk, axis=-1)\n",
        "    out = tf.matmul(attentions, V)\n",
        "\n",
        "    return out, attentions\n",
        "\n",
        "  def split_heads(self, x):\n",
        "    bsz = x.shape[0]\n",
        "    split_x = tf.reshape(x, (bsz, -1, self.num_heads, self.depth))\n",
        "    split_x = tf.transpose(split_x, perm=[0,2,1,3])\n",
        "\n",
        "    return split_x\n",
        "\n",
        "  def combine_heads(self, x):\n",
        "    bsz = x.shape[0]\n",
        "    combined_x = tf.transpose(x, perm=[0,2,1,3])\n",
        "    combined_x = tf.reshape(combined_x, (bsz, -1, self.d_model))\n",
        "\n",
        "    return combined_x\n",
        "\n",
        "  def call(self, Q, K, V, mask):\n",
        "    WQ = self.W_q(Q)\n",
        "    WK = self.W_k(K)\n",
        "    WV = self.W_v(V)\n",
        "\n",
        "    WQ_splits = self.split_heads(WQ)\n",
        "    WK_splits = self.split_heads(WK)\n",
        "    WV_splits = self.split_heads(WV)\n",
        "\n",
        "    out, attention_weights = self.scaled_dot_product_attention(\n",
        "        WQ_splits, WK_splits, WV_splits, mask\n",
        "    )\n",
        "\n",
        "    out = self.combine_heads(out)\n",
        "    out = self.linear(out)\n",
        "\n",
        "    return out, attention_weights"
      ],
      "metadata": {
        "id": "OhQgZG54T1x2"
      },
      "execution_count": 29,
      "outputs": []
    },
    {
      "cell_type": "markdown",
      "source": [
        "### (4) Position-wise Feed Forward Network"
      ],
      "metadata": {
        "id": "wr9AOFcAT8ZP"
      }
    },
    {
      "cell_type": "code",
      "source": [
        "class PoswiseFeedForwardNet(tf.keras.layers.Layer):\n",
        "  def __init__(self, d_model, d_ff):\n",
        "    super(PoswiseFeedForwardNet, self).__init__()\n",
        "    self.d_model = d_model\n",
        "    self.d_ff = d_ff\n",
        "\n",
        "    self.fc1 = tf.keras.layers.Dense(d_ff, activation='relu')\n",
        "    self.fc2 = tf.keras.layers.Dense(d_model)\n",
        "\n",
        "  def call(self, x):\n",
        "    out = self.fc1(x)\n",
        "    out = self.fc2(out)\n",
        "\n",
        "    return out"
      ],
      "metadata": {
        "id": "w7zP2r66T7rC"
      },
      "execution_count": 30,
      "outputs": []
    },
    {
      "cell_type": "markdown",
      "source": [
        "### (4) Encoder Layer"
      ],
      "metadata": {
        "id": "wlXvkIrSUCre"
      }
    },
    {
      "cell_type": "code",
      "source": [
        "class EncoderLayer(tf.keras.layers.Layer):\n",
        "  def __init__(self, d_model, n_heads, d_ff, dropout):\n",
        "    super(EncoderLayer, self).__init__()\n",
        "\n",
        "    self.enc_self_attn = MultiHeadAttention(d_model, n_heads)\n",
        "    self.ffn = PoswiseFeedForwardNet(d_model, d_ff)\n",
        "\n",
        "    self.norm_1 = tf.keras.layers.LayerNormalization(epsilon=1e-6)\n",
        "    self.norm_2 = tf.keras.layers.LayerNormalization(epsilon=1e-6)\n",
        "\n",
        "    self.do = tf.keras.layers.Dropout(dropout)\n",
        "\n",
        "  def call(self, x, mask):\n",
        "    '''\n",
        "    Multi-Head Attention\n",
        "    '''\n",
        "    residual = x\n",
        "    out = self.norm_1(x)\n",
        "    out, enc_attn = self.enc_self_attn(out, out, out, mask)\n",
        "    out = self.do(out)\n",
        "    out += residual\n",
        "\n",
        "    '''\n",
        "    Position-Wise Feed Forward network\n",
        "    '''\n",
        "    residual = out\n",
        "    out = self.norm_2(out)\n",
        "    out = self.ffn(out)\n",
        "    out = self.do(out)\n",
        "    out += residual\n",
        "\n",
        "    return out, enc_attn"
      ],
      "metadata": {
        "id": "9o-F8Gm3UB5E"
      },
      "execution_count": 31,
      "outputs": []
    },
    {
      "cell_type": "markdown",
      "source": [
        "### (5) Decoder Layer"
      ],
      "metadata": {
        "id": "twvDgElKUHqd"
      }
    },
    {
      "cell_type": "code",
      "source": [
        "class DecoderLayer(tf.keras.layers.Layer):\n",
        "  def __init__(self, d_model, num_heads, d_ff, dropout):\n",
        "    super(DecoderLayer, self).__init__()\n",
        "\n",
        "    self.dec_self_attn = MultiHeadAttention(d_model, num_heads)\n",
        "    self.enc_dec_attn = MultiHeadAttention(d_model, num_heads)\n",
        "\n",
        "    self.ffn = PoswiseFeedForwardNet(d_model, d_ff)\n",
        "\n",
        "    self.norm_1 = tf.keras.layers.LayerNormalization(epsilon=1e-6)\n",
        "    self.norm_2 = tf.keras.layers.LayerNormalization(epsilon=1e-6)\n",
        "    self.norm_3 = tf.keras.layers.LayerNormalization(epsilon=1e-6)\n",
        "\n",
        "    self.do = tf.keras.layers.Dropout(dropout)\n",
        "\n",
        "  def call(self, x, enc_out, dec_enc_mask, padding_mask):\n",
        "    '''\n",
        "    Masked Multi-Head Attention\n",
        "    '''\n",
        "    residual = x\n",
        "    out = self.norm_1(x)\n",
        "    out, dec_attn = self.dec_self_attn(out, out, out, padding_mask)\n",
        "    out = self.do(out)\n",
        "    out += residual\n",
        "\n",
        "    '''\n",
        "    Multi-Head Attention\n",
        "    '''\n",
        "    residual = out\n",
        "    out = self.norm_2(out)\n",
        "    # Q, K, V 순서에 주의하세요!\n",
        "    out, dec_enc_attn = self.enc_dec_attn(Q=out, K=enc_out, V=enc_out, mask=dec_enc_mask)\n",
        "    out = self.do(out)\n",
        "    out += residual\n",
        "\n",
        "    '''\n",
        "    Position-Wise Feed Forward Network\n",
        "    '''\n",
        "    residual = out\n",
        "    out = self.norm_3(x)\n",
        "    out = self.ffn(out)\n",
        "    out = self.do(out)\n",
        "    out += residual\n",
        "\n",
        "    return out, dec_attn, dec_enc_attn"
      ],
      "metadata": {
        "id": "heX8RAMkUG-e"
      },
      "execution_count": 32,
      "outputs": []
    },
    {
      "cell_type": "markdown",
      "source": [
        "### (6) Encoder"
      ],
      "metadata": {
        "id": "6YBCsdRiUMfE"
      }
    },
    {
      "cell_type": "code",
      "source": [
        "class Encoder(tf.keras.Model):\n",
        "  def __init__(self,\n",
        "               n_layers,\n",
        "               d_model,\n",
        "               n_heads,\n",
        "               d_ff,\n",
        "               dropout):\n",
        "    super(Encoder, self).__init__()\n",
        "    self.n_layers = n_layers\n",
        "    self.enc_layers = [EncoderLayer(d_model, n_heads, d_ff, dropout) for _ in range(n_layers)]\n",
        "\n",
        "    self.do = tf.keras.layers.Dropout(dropout)\n",
        "\n",
        "  def call(self, x, mask):\n",
        "    out = x\n",
        "\n",
        "    enc_attns = list()\n",
        "    for i in range(self.n_layers):\n",
        "      out, enc_attn = self.enc_layers[i](out, mask)\n",
        "      enc_attns.append(enc_attn)\n",
        "\n",
        "    return out, enc_attns"
      ],
      "metadata": {
        "id": "ayPYeH3sULmZ"
      },
      "execution_count": 33,
      "outputs": []
    },
    {
      "cell_type": "markdown",
      "source": [
        "### (7) Decoder"
      ],
      "metadata": {
        "id": "oqFmpxfAUTv9"
      }
    },
    {
      "cell_type": "code",
      "source": [
        "class Decoder(tf.keras.Model):\n",
        "  def __init__(self, \n",
        "               n_layers,\n",
        "               d_model,\n",
        "               n_heads,\n",
        "               d_ff,\n",
        "               dropout):\n",
        "    super(Decoder, self).__init__()\n",
        "    self.n_layers = n_layers\n",
        "    self.dec_layers = [DecoderLayer(d_model, n_heads, d_ff, dropout) for _ in range(n_layers)]\n",
        "\n",
        "  def call(self, x, enc_out, dec_enc_mask, padding_mask):\n",
        "    out = x\n",
        "\n",
        "    dec_attns = list()\n",
        "    dec_enc_attns = list()\n",
        "    for i in range(self.n_layers):\n",
        "      out, dec_attn, dec_enc_attn = self.dec_layers[i](out, enc_out, dec_enc_mask, padding_mask)\n",
        "\n",
        "      dec_attns.append(dec_attn)\n",
        "      dec_enc_attns.append(dec_enc_attn)\n",
        "\n",
        "    return out, dec_attns, dec_enc_attns"
      ],
      "metadata": {
        "id": "d12bPAdzUTNT"
      },
      "execution_count": 34,
      "outputs": []
    },
    {
      "cell_type": "markdown",
      "source": [
        "### (8) Transformer 전체 모델 조립"
      ],
      "metadata": {
        "id": "R5ZQViYKUX42"
      }
    },
    {
      "cell_type": "code",
      "source": [
        "class Transformer(tf.keras.Model):\n",
        "  def __init__(self,\n",
        "               n_layers,\n",
        "               d_model,\n",
        "               n_heads,\n",
        "               d_ff,\n",
        "               src_vocab_size,\n",
        "               tgt_vocab_size,\n",
        "               pos_len,\n",
        "               dropout=0.2,\n",
        "               shared_fc=True,\n",
        "               shared_emb=True):\n",
        "    super(Transformer, self).__init__()\n",
        "\n",
        "    self.d_model = tf.cast(d_model, tf.float32)\n",
        "\n",
        "    if shared_emb:\n",
        "      self.enc_emb = self.dec_emb = \\\n",
        "      tf.keras.layers.Embedding(src_vocab_size, d_model)\n",
        "    else:\n",
        "      self.enc_emb = tf.keras.layers.Embedding(src_vocab_size, d_model)\n",
        "      self.dec_emb = tf.keras.layers.Embedding(tgt_vocab_size, d_model)\n",
        "\n",
        "    self.pos_encoding = positional_encoding(pos_len, d_model)\n",
        "    self.do = tf.keras.layers.Dropout(dropout)\n",
        "\n",
        "    self.encoder = Encoder(n_layers, d_model, n_heads, d_ff, dropout)\n",
        "    self.decoder = Decoder(n_layers, d_model, n_heads, d_ff, dropout)\n",
        "\n",
        "    self.fc = tf.keras.layers.Dense(tgt_vocab_size)\n",
        "\n",
        "    self.shared_fc = shared_fc\n",
        "\n",
        "    if shared_fc:\n",
        "      self.fc.set_weights(tf.transpose(self.dec_emb.weights))\n",
        "\n",
        "  def embedding(self, emb, x):\n",
        "    seq_len = x.shape[1]\n",
        "\n",
        "    out = emb(x)\n",
        "\n",
        "    if self.shared_fc: out *= tf.math.sqrt(self.d_model)\n",
        "\n",
        "    out += self.pos_encoding[np.newaxis, ...][:, :seq_len, :]\n",
        "    out = self.do(out)\n",
        "\n",
        "    return out\n",
        "\n",
        "  def call(self, enc_in, dec_in, enc_mask, dec_enc_mask, dec_mask):\n",
        "    enc_in = self.embedding(self.enc_emb, enc_in)\n",
        "    dec_in = self.embedding(self.dec_emb, dec_in)\n",
        "\n",
        "    enc_out, enc_attns = self.encoder(enc_in, enc_mask)\n",
        "\n",
        "    dec_out, dec_attns, dec_enc_attns = \\\n",
        "    self.decoder(dec_in, enc_out, dec_enc_mask, dec_mask)\n",
        "\n",
        "    logits = self.fc(dec_out)\n",
        "\n",
        "    return logits, enc_attns, dec_attns, dec_enc_attns"
      ],
      "metadata": {
        "id": "TMGg6Be4UXJj"
      },
      "execution_count": 35,
      "outputs": []
    },
    {
      "cell_type": "markdown",
      "source": [
        "### (9) 모델 인스턴스 생성"
      ],
      "metadata": {
        "id": "cNVaVOzfUgs8"
      }
    },
    {
      "cell_type": "code",
      "source": [
        "SRC_VOCAB_SIZE = TGT_VOCAB_SIZE = VOCAB_SIZE\n",
        "\n",
        "transformer = Transformer(n_layers = 2,\n",
        "                          d_model = 368,\n",
        "                          n_heads = 8,\n",
        "                          d_ff = 1024,\n",
        "                          src_vocab_size = SRC_VOCAB_SIZE,\n",
        "                          tgt_vocab_size=TGT_VOCAB_SIZE,\n",
        "                          pos_len = 50,\n",
        "                          dropout=0.2,\n",
        "                          shared_fc = True,\n",
        "                          shared_emb=True)"
      ],
      "metadata": {
        "id": "gMAYw1ZeUevZ"
      },
      "execution_count": 42,
      "outputs": []
    },
    {
      "cell_type": "markdown",
      "source": [
        "### (10) 모델 학습\n"
      ],
      "metadata": {
        "id": "TbK8IMvBVWSj"
      }
    },
    {
      "cell_type": "markdown",
      "source": [
        "#### 1) Learning Rate Scheduler"
      ],
      "metadata": {
        "id": "7aILlWnbVZHc"
      }
    },
    {
      "cell_type": "code",
      "source": [
        "class LearningRateScheduler(tf.keras.optimizers.schedules.LearningRateSchedule):\n",
        "  def __init__(self, d_model, warmup_steps=1000):\n",
        "    super(LearningRateScheduler, self).__init__()\n",
        "\n",
        "    self.d_model = d_model\n",
        "    self.warmup_steps = warmup_steps\n",
        "\n",
        "  def __call__(self, step):\n",
        "    arg1 = step ** -0.5\n",
        "    arg2 = step * (self.warmup_steps ** -1.5)\n",
        "\n",
        "    return (self.d_model ** -0.5) * tf.math.minimum(arg1, arg2)"
      ],
      "metadata": {
        "id": "o3xsrYFOVS27"
      },
      "execution_count": 43,
      "outputs": []
    },
    {
      "cell_type": "markdown",
      "source": [
        "#### 2) Learning Rate & Optimizer"
      ],
      "metadata": {
        "id": "coKB5YcEVkkk"
      }
    },
    {
      "cell_type": "code",
      "source": [
        "d_model = 368\n",
        "\n",
        "learning_rate = LearningRateScheduler(d_model)\n",
        "\n",
        "optimizer = tf.keras.optimizers.Adam(learning_rate,\n",
        "                                     beta_1 = 0.9,\n",
        "                                     beta_2 = 0.98,\n",
        "                                     epsilon = 1e-6)"
      ],
      "metadata": {
        "id": "iQ77Ium2Vj1n"
      },
      "execution_count": 44,
      "outputs": []
    },
    {
      "cell_type": "markdown",
      "source": [
        "#### 3) Loss Function"
      ],
      "metadata": {
        "id": "yGKt7ekTVt_r"
      }
    },
    {
      "cell_type": "code",
      "source": [
        "loss_object = tf.keras.losses.SparseCategoricalCrossentropy(\n",
        "    from_logits=True, reduction = 'none'\n",
        ")\n",
        "\n",
        "def loss_function(real, pred):\n",
        "  mask = tf.math.logical_not(tf.math.equal(real,0))\n",
        "  loss_ = loss_object(real, pred)\n",
        "\n",
        "  mask = tf.cast(mask, dtype=loss_.dtype)\n",
        "  loss_ *= mask\n",
        "\n",
        "  return tf.reduce_sum(loss_) / tf.reduce_sum(mask)"
      ],
      "metadata": {
        "id": "5TSgT2v3VsM8"
      },
      "execution_count": 45,
      "outputs": []
    },
    {
      "cell_type": "markdown",
      "source": [
        "#### 4) Train Step 정의"
      ],
      "metadata": {
        "id": "tiqbcokMV0Uz"
      }
    },
    {
      "cell_type": "code",
      "source": [
        "@tf.function()\n",
        "def train_step(src, tgt, model, optimizer):\n",
        "  tgt_in = tgt[:, :-1]  # Decoder의 input\n",
        "  gold = tgt[:, 1:]     # Decoder의 output과 비교하기 위해 right shift를 통해 생성한 최종 타겟\n",
        "\n",
        "  enc_mask, dec_enc_mask, dec_mask = generate_masks(src, tgt_in)\n",
        "\n",
        "  with tf.GradientTape() as tape:\n",
        "    predictions, enc_attns, dec_attns, dec_enc_attns = \\\n",
        "    model(src, tgt_in, enc_mask, dec_enc_mask, dec_mask)\n",
        "\n",
        "    loss = loss_function(gold, predictions)\n",
        "\n",
        "  gradients = tape.gradient(loss, model.trainable_variables)\n",
        "  optimizer.apply_gradients(zip(gradients, model.trainable_variables))\n",
        "\n",
        "  return loss, enc_attns, dec_attns, dec_enc_attns"
      ],
      "metadata": {
        "id": "orVf2v4-Vy6s"
      },
      "execution_count": 46,
      "outputs": []
    },
    {
      "cell_type": "markdown",
      "source": [
        "#### 5) 훈련"
      ],
      "metadata": {
        "id": "sxLTXh78V6pE"
      }
    },
    {
      "cell_type": "code",
      "source": [
        "EPOCHS = 10\n",
        "\n",
        "for epoch in range(EPOCHS):\n",
        "  total_loss = 0\n",
        "\n",
        "  dataset_count = tf.data.experimental.cardinality(train_dataset).numpy()\n",
        "  tqdm_bar = tqdm(total=dataset_count)\n",
        "  for step, (enc_batch, dec_batch) in enumerate(train_dataset):\n",
        "    batch_loss, enc_attns, dec_attns, dec_enc_attns = \\\n",
        "    train_step(enc_batch,\n",
        "               dec_batch,\n",
        "               transformer,\n",
        "               optimizer)\n",
        "    \n",
        "    total_loss += batch_loss\n",
        "\n",
        "    tqdm_bar.set_description_str('Epoch %2d' % (epoch + 1))\n",
        "    tqdm_bar.set_postfix_str('Loss %.4f' % (total_loss.numpy() / (step + 1)))\n",
        "    tqdm_bar.update()"
      ],
      "metadata": {
        "colab": {
          "base_uri": "https://localhost:8080/",
          "height": 337,
          "referenced_widgets": [
            "544e2776aaf141e7ad2544affe9e9553",
            "33d0a31934fb4a6396c6476b15586b95",
            "688d6d8a92824f95b4f4ac0be424fa63",
            "27081cd4e3d8438a8a7e7e16e4b10d89",
            "6bbcf5a70cd343339a4e0cd724cbfb22",
            "4093bc2c0694495aaab4f37baa78454e",
            "913354073b8c4f19bb96fe0d2f9c220c",
            "f4e7d3bfc0a04bc79f24ed08a18e1733",
            "f2de15140b0448f9843e3c45f0728318",
            "1524e617a80d4fcdad2b7ccff24a61dd",
            "d42e156295864a7c96d52203e18333f4",
            "dd27d54c7d6d4ebab18eeb44c8a75473",
            "7f12fe8160c44b7f81cec0c349e3fffd",
            "f1023590e3ac445da30acabae1e4e4d1",
            "b37d1e5ac96e4c47bcb3db3099f10270",
            "32095db0f19e4d0fb368b40a2671918f",
            "9d9b9a993d05462e922cf216d76e9fd3",
            "eb9813172eea4cd0ac0ed8067caa200f",
            "ea3e6d5199ef49d09a637528bc8e7b01",
            "7854ebb7efdb47d384bac5ed056006bb",
            "62a2befc7b6b4a8c9245358a8b2efece",
            "7d5b8bfce0c4489db5f28b5d0988a983",
            "d03933f20a5b4645af31465e19363436",
            "1ab348b60d4740de90b1cbf2dd21c098",
            "434b1cd8b9df46c3b3bd9235a6ba24ac",
            "a624dfad5780479a99b9d85bc8619fcc",
            "3ae5d7868149469daf85cf216dc32dfa",
            "95e02ad01aa44ec4b0017efb272b3444",
            "567e3a39c39349bb8dbfef952c87dd1e",
            "10228758598a4b7eb8ef830a7e4e894c",
            "48b76c6555004cbda5ecc5c9e3d28247",
            "8647443223f9434eb9478a1b0e1daa1e",
            "9af7738d2f17476f9de8dbe46954f4c1",
            "317620ee9b2b4c378e1238543726aa68",
            "53a8e40ccfda4ec79d08d841846ca493",
            "78cc1d2d65814aa5a1d0ebf2ef8336ad",
            "ab8f8bc4b5ed49839573fd7cb951972e",
            "2eedd68da4644ef898684b9c1b6b8e06",
            "62076fc7db1e4423a265f6376b0f3a69",
            "c027458ee56f41a4ae036e62b2f8c8cf",
            "d3c8491685824d579260454ae7ec4843",
            "168bd2d28fe247308c22b160c7dbfd0b",
            "d35221c2bfc148bda4d2a0abacbbd175",
            "5d6d1731c6744d7ab1067c11949252e4",
            "f418ece5a02a4dd3a7303bdd979acbae",
            "bcf5894acc3e4b0e88118941c546d06d",
            "73eafa446c4e4d1a8ed5cfc2a2aeaa66",
            "a5b2ec04faa04512ba242c56f847ccb9",
            "3fddb561a0d442a1bc128a304de89484",
            "a2d952890fe34a2c99c5c13466760292",
            "7cf97d1b013944049f574a18780156a2",
            "f0a3efc9140e4fa7bedafaae51df3852",
            "190a5ebc89e84bcc961b6648ed1deb2b",
            "dc68425d6a3f48c5880a832dcdf3277e",
            "cb674bb18ed949e8a4d59d799055cabe",
            "9e5dda26606f41ccb983a0da4b7b0083",
            "0cda8e8947c54bd4ac82fee7ccc2f522",
            "cf077f28850341b69407477e05dc3efa",
            "ead8a207bfa1496c9d0b9ba146151440",
            "45daab91094848d285827715d27c6561",
            "050526baa10a4079b0f14b290a2ab7e2",
            "331e647159474776bbee1935bef009af",
            "e106c7985db94477ad028ce127c7be4a",
            "aabfda24c7e948bdb6e77186d862461e",
            "e91c0a8ef14c42eaa318db3d94c27e19",
            "8f338f862eb94c77aacc36ef6eea3eb5",
            "b664b01f8cd14e72b405495406fa21b7",
            "070cef7c5e0849f598f949c5d0254eed",
            "e0d60f5df40e4ef586cc065b1fcf09f6",
            "9542e6a71d974a44ae23359dc92f9190",
            "9a3399b050564535aa2deed9e388df61",
            "3a6e3a1d33094c7e86f7911383465b6f",
            "6f0fcf876bf640a2bd939c06e9594f8a",
            "1a25994789244b6b9af473911479df83",
            "5267dd58ba064d41b011e51131099d43",
            "f71e015c44d2449cbf3594369d2f315e",
            "6cfdcf668ccd4b9fbb58094478c4d540",
            "ba2eeec14c644df1b812dbe046c5a772",
            "5def311fa9ba4baeb6368877a186e1b2",
            "7f523a56beb2484dbe0546524e797218",
            "5fd24306376e4bcca5c83ca417052973",
            "3c800ba952bc4934ac15e33b88051249",
            "777fcb8549324cf3bb87e374ded7fce3",
            "d911c38f7f2f42928ebf5d026babd8b2",
            "c0589944badb4a869f3a4e378f49c568",
            "d1536635520f4375a933194193b02d2b",
            "998b690c5e0e4130a5152d9831cad88c",
            "fc10932441c042a69cc060fb9a88c165",
            "f9ea2f86c58b44fd8209f9c5925b4d79",
            "8678b36b444b4cb48bf53ecff42dcc6f",
            "4f62a4feaca34550906c47075114d286",
            "e6fc8bb198954d3ab6a4a1ef2c7506dc",
            "834881956aa34115a8508c5310fbbdc3",
            "7f252771a548476da5e5de4a37d789fa",
            "40ae86e9e24a4247bc1f3809715f227b",
            "258d17004f10429ead0f7576c6a0b808",
            "9b558994fbd3445385d4b1744ca36ec4",
            "0c96b2fc1a1748769916af38fa09186d",
            "56e583c3c6ed46f6a38e59e4e9823b63",
            "696ddaa924174d4791951ff7ff868600",
            "7722c8b77de74464a34693cfaab889e7",
            "9712725656264db9b7873b813dcdeab2",
            "b3672f21292746108665580925fcf479",
            "31661dde152f41beaaf3454cef51ed48",
            "def7c0040723437a8b66668ae3a52ba9",
            "2309e9dccd8740b1b19f245adba7b8f9",
            "2aa5778193c9463fb311c8480e539577",
            "0f34904606dd40eeb394f377e3fde043",
            "c44f718227174d0f8cd47b4ca93d0dcc",
            "590408b782c24d4499b99b4066d47f19"
          ]
        },
        "id": "BqZw0E_gV5gi",
        "outputId": "cfa96ee2-8d19-478e-fe5c-cfd090690b27"
      },
      "execution_count": 47,
      "outputs": [
        {
          "output_type": "display_data",
          "data": {
            "text/plain": [
              "  0%|          | 0/551 [00:00<?, ?it/s]"
            ],
            "application/vnd.jupyter.widget-view+json": {
              "version_major": 2,
              "version_minor": 0,
              "model_id": "544e2776aaf141e7ad2544affe9e9553"
            }
          },
          "metadata": {}
        },
        {
          "output_type": "display_data",
          "data": {
            "text/plain": [
              "  0%|          | 0/551 [00:00<?, ?it/s]"
            ],
            "application/vnd.jupyter.widget-view+json": {
              "version_major": 2,
              "version_minor": 0,
              "model_id": "dd27d54c7d6d4ebab18eeb44c8a75473"
            }
          },
          "metadata": {}
        },
        {
          "output_type": "display_data",
          "data": {
            "text/plain": [
              "  0%|          | 0/551 [00:00<?, ?it/s]"
            ],
            "application/vnd.jupyter.widget-view+json": {
              "version_major": 2,
              "version_minor": 0,
              "model_id": "d03933f20a5b4645af31465e19363436"
            }
          },
          "metadata": {}
        },
        {
          "output_type": "display_data",
          "data": {
            "text/plain": [
              "  0%|          | 0/551 [00:00<?, ?it/s]"
            ],
            "application/vnd.jupyter.widget-view+json": {
              "version_major": 2,
              "version_minor": 0,
              "model_id": "317620ee9b2b4c378e1238543726aa68"
            }
          },
          "metadata": {}
        },
        {
          "output_type": "display_data",
          "data": {
            "text/plain": [
              "  0%|          | 0/551 [00:00<?, ?it/s]"
            ],
            "application/vnd.jupyter.widget-view+json": {
              "version_major": 2,
              "version_minor": 0,
              "model_id": "f418ece5a02a4dd3a7303bdd979acbae"
            }
          },
          "metadata": {}
        },
        {
          "output_type": "display_data",
          "data": {
            "text/plain": [
              "  0%|          | 0/551 [00:00<?, ?it/s]"
            ],
            "application/vnd.jupyter.widget-view+json": {
              "version_major": 2,
              "version_minor": 0,
              "model_id": "9e5dda26606f41ccb983a0da4b7b0083"
            }
          },
          "metadata": {}
        },
        {
          "output_type": "display_data",
          "data": {
            "text/plain": [
              "  0%|          | 0/551 [00:00<?, ?it/s]"
            ],
            "application/vnd.jupyter.widget-view+json": {
              "version_major": 2,
              "version_minor": 0,
              "model_id": "b664b01f8cd14e72b405495406fa21b7"
            }
          },
          "metadata": {}
        },
        {
          "output_type": "display_data",
          "data": {
            "text/plain": [
              "  0%|          | 0/551 [00:00<?, ?it/s]"
            ],
            "application/vnd.jupyter.widget-view+json": {
              "version_major": 2,
              "version_minor": 0,
              "model_id": "ba2eeec14c644df1b812dbe046c5a772"
            }
          },
          "metadata": {}
        },
        {
          "output_type": "display_data",
          "data": {
            "text/plain": [
              "  0%|          | 0/551 [00:00<?, ?it/s]"
            ],
            "application/vnd.jupyter.widget-view+json": {
              "version_major": 2,
              "version_minor": 0,
              "model_id": "f9ea2f86c58b44fd8209f9c5925b4d79"
            }
          },
          "metadata": {}
        },
        {
          "output_type": "display_data",
          "data": {
            "text/plain": [
              "  0%|          | 0/551 [00:00<?, ?it/s]"
            ],
            "application/vnd.jupyter.widget-view+json": {
              "version_major": 2,
              "version_minor": 0,
              "model_id": "696ddaa924174d4791951ff7ff868600"
            }
          },
          "metadata": {}
        }
      ]
    },
    {
      "cell_type": "markdown",
      "source": [
        "### (11) 답변 생성"
      ],
      "metadata": {
        "id": "kdRsm7OUicIl"
      }
    },
    {
      "cell_type": "code",
      "source": [
        "tokenizer.texts_to_sequences(['<start>'])[0][0]"
      ],
      "metadata": {
        "colab": {
          "base_uri": "https://localhost:8080/"
        },
        "id": "Qs4HWgQ1mQDz",
        "outputId": "06376315-ecea-4b3d-93b4-7a98ade1f960"
      },
      "execution_count": 63,
      "outputs": [
        {
          "output_type": "execute_result",
          "data": {
            "text/plain": [
              "2"
            ]
          },
          "metadata": {},
          "execution_count": 63
        }
      ]
    },
    {
      "cell_type": "code",
      "source": [
        "# 번역 생성 함수\n",
        "def evaluate(sentence, model, tokenizer):\n",
        "  sentence = preprocess_sentence(sentence)\n",
        "\n",
        "  tokens = tokenizer.texts_to_sequences(sentence)\n",
        "\n",
        "  _input = tf.keras.preprocessing.sequence.pad_sequences([tokens],\n",
        "                                                         maxlen=enc_train.shape[-1],\n",
        "                                                         padding = 'post')\n",
        "  ids = []\n",
        "  output = tf.expand_dims([tokenizer.text_to_sequence(['<start>'])[0][0]], 0)\n",
        "  for i in range(dec_train.shape[-1]):\n",
        "    enc_padding_mask, combined_mask, dec_padding_mask = \\\n",
        "    generate_masks(_input, output)\n",
        "\n",
        "    predictions, enc_attns, dec_attns, dec_enc_attns = \\\n",
        "    model(_input,\n",
        "          output,\n",
        "          enc_padding_mask,\n",
        "          combined_mask,\n",
        "          dec_padding_mask)\n",
        "    \n",
        "    predicted_id = \\\n",
        "    tf.argmax(tf.math.softmax(predictions, axis=-1)[0, -1]).numpy().item()\n",
        "\n",
        "    if tokenizer.texts_to_sequences(['<end>'])[0][0] == predicted_id:\n",
        "      result = tokenizer.sequences_to_texts(ids)\n",
        "      return sentence, result, enc_attns, dec_attns, dec_enc_attns\n",
        "\n",
        "    ids.append(predicted_id)\n",
        "    output = tf.concat([output, tf.expand_dims([predicted_id], 0)], axis=-1)\n",
        "\n",
        "  result = tokenizer.sequences_to_texts(ids)\n",
        "\n",
        "  return sentence, result, enc_attns, dec_attns, dec_enc_attns"
      ],
      "metadata": {
        "id": "hBDC1n_yiAme"
      },
      "execution_count": 73,
      "outputs": []
    },
    {
      "cell_type": "code",
      "source": [
        "# 번역 생성 및 Attention 시각화 결합\n",
        "def translate(sentence, model, tokenizer):\n",
        "  sentence, result, enc_attns, dec_attns, dec_enc_attns = \\\n",
        "  evaluate(sentence, model, tokenizer)\n",
        "\n",
        "  print('Input: %s' % (sentence))\n",
        "  print('Predicted translation: {}'.format(result))"
      ],
      "metadata": {
        "id": "v24isoAMk1Zz"
      },
      "execution_count": 74,
      "outputs": []
    },
    {
      "cell_type": "code",
      "source": [
        "examples = ['지루하다, 놀러가고 싶어.',\n",
        "            '오늘 일찍 일어났더니 피곤하다.',\n",
        "            '간만에 여자친구랑 데이트 하기로 했어.',\n",
        "            '집에 있는다는 소리야.']\n",
        "\n",
        "for example in examples:\n",
        "  translate(example, transformer, tokenizer)"
      ],
      "metadata": {
        "colab": {
          "base_uri": "https://localhost:8080/",
          "height": 444
        },
        "id": "u46qMEXObd9n",
        "outputId": "af8dad80-f73b-462b-9b1a-564290d3af40"
      },
      "execution_count": 75,
      "outputs": [
        {
          "output_type": "stream",
          "name": "stderr",
          "text": [
            "/usr/local/lib/python3.7/dist-packages/keras_preprocessing/sequence.py:70: VisibleDeprecationWarning: Creating an ndarray from ragged nested sequences (which is a list-or-tuple of lists-or-tuples-or ndarrays with different lengths or shapes) is deprecated. If you meant to do this, you must specify 'dtype=object' when creating the ndarray.\n",
            "  sample_shape = np.asarray(x).shape[1:]\n"
          ]
        },
        {
          "output_type": "error",
          "ename": "ValueError",
          "evalue": "ignored",
          "traceback": [
            "\u001b[0;31m---------------------------------------------------------------------------\u001b[0m",
            "\u001b[0;31mValueError\u001b[0m                                Traceback (most recent call last)",
            "\u001b[0;32m<ipython-input-75-dfd7f5b260f8>\u001b[0m in \u001b[0;36m<module>\u001b[0;34m()\u001b[0m\n\u001b[1;32m      5\u001b[0m \u001b[0;34m\u001b[0m\u001b[0m\n\u001b[1;32m      6\u001b[0m \u001b[0;32mfor\u001b[0m \u001b[0mexample\u001b[0m \u001b[0;32min\u001b[0m \u001b[0mexamples\u001b[0m\u001b[0;34m:\u001b[0m\u001b[0;34m\u001b[0m\u001b[0;34m\u001b[0m\u001b[0m\n\u001b[0;32m----> 7\u001b[0;31m   \u001b[0mtranslate\u001b[0m\u001b[0;34m(\u001b[0m\u001b[0mexample\u001b[0m\u001b[0;34m,\u001b[0m \u001b[0mtransformer\u001b[0m\u001b[0;34m,\u001b[0m \u001b[0mtokenizer\u001b[0m\u001b[0;34m)\u001b[0m\u001b[0;34m\u001b[0m\u001b[0;34m\u001b[0m\u001b[0m\n\u001b[0m",
            "\u001b[0;32m<ipython-input-74-da1a885a0c70>\u001b[0m in \u001b[0;36mtranslate\u001b[0;34m(sentence, model, tokenizer)\u001b[0m\n\u001b[1;32m      1\u001b[0m \u001b[0;31m# 번역 생성 및 Attention 시각화 결합\u001b[0m\u001b[0;34m\u001b[0m\u001b[0;34m\u001b[0m\u001b[0;34m\u001b[0m\u001b[0m\n\u001b[1;32m      2\u001b[0m \u001b[0;32mdef\u001b[0m \u001b[0mtranslate\u001b[0m\u001b[0;34m(\u001b[0m\u001b[0msentence\u001b[0m\u001b[0;34m,\u001b[0m \u001b[0mmodel\u001b[0m\u001b[0;34m,\u001b[0m \u001b[0mtokenizer\u001b[0m\u001b[0;34m)\u001b[0m\u001b[0;34m:\u001b[0m\u001b[0;34m\u001b[0m\u001b[0;34m\u001b[0m\u001b[0m\n\u001b[0;32m----> 3\u001b[0;31m   \u001b[0msentence\u001b[0m\u001b[0;34m,\u001b[0m \u001b[0mresult\u001b[0m\u001b[0;34m,\u001b[0m \u001b[0menc_attns\u001b[0m\u001b[0;34m,\u001b[0m \u001b[0mdec_attns\u001b[0m\u001b[0;34m,\u001b[0m \u001b[0mdec_enc_attns\u001b[0m \u001b[0;34m=\u001b[0m   \u001b[0mevaluate\u001b[0m\u001b[0;34m(\u001b[0m\u001b[0msentence\u001b[0m\u001b[0;34m,\u001b[0m \u001b[0mmodel\u001b[0m\u001b[0;34m,\u001b[0m \u001b[0mtokenizer\u001b[0m\u001b[0;34m)\u001b[0m\u001b[0;34m\u001b[0m\u001b[0;34m\u001b[0m\u001b[0m\n\u001b[0m\u001b[1;32m      4\u001b[0m \u001b[0;34m\u001b[0m\u001b[0m\n\u001b[1;32m      5\u001b[0m   \u001b[0mprint\u001b[0m\u001b[0;34m(\u001b[0m\u001b[0;34m'Input: %s'\u001b[0m \u001b[0;34m%\u001b[0m \u001b[0;34m(\u001b[0m\u001b[0msentence\u001b[0m\u001b[0;34m)\u001b[0m\u001b[0;34m)\u001b[0m\u001b[0;34m\u001b[0m\u001b[0;34m\u001b[0m\u001b[0m\n",
            "\u001b[0;32m<ipython-input-73-1d4d6d7d4731>\u001b[0m in \u001b[0;36mevaluate\u001b[0;34m(sentence, model, tokenizer)\u001b[0m\n\u001b[1;32m      7\u001b[0m   _input = tf.keras.preprocessing.sequence.pad_sequences([tokens],\n\u001b[1;32m      8\u001b[0m                                                          \u001b[0mmaxlen\u001b[0m\u001b[0;34m=\u001b[0m\u001b[0menc_train\u001b[0m\u001b[0;34m.\u001b[0m\u001b[0mshape\u001b[0m\u001b[0;34m[\u001b[0m\u001b[0;34m-\u001b[0m\u001b[0;36m1\u001b[0m\u001b[0;34m]\u001b[0m\u001b[0;34m,\u001b[0m\u001b[0;34m\u001b[0m\u001b[0;34m\u001b[0m\u001b[0m\n\u001b[0;32m----> 9\u001b[0;31m                                                          padding = 'post')\n\u001b[0m\u001b[1;32m     10\u001b[0m   \u001b[0mids\u001b[0m \u001b[0;34m=\u001b[0m \u001b[0;34m[\u001b[0m\u001b[0;34m]\u001b[0m\u001b[0;34m\u001b[0m\u001b[0;34m\u001b[0m\u001b[0m\n\u001b[1;32m     11\u001b[0m   \u001b[0moutput\u001b[0m \u001b[0;34m=\u001b[0m \u001b[0mtf\u001b[0m\u001b[0;34m.\u001b[0m\u001b[0mexpand_dims\u001b[0m\u001b[0;34m(\u001b[0m\u001b[0;34m[\u001b[0m\u001b[0mtokenizer\u001b[0m\u001b[0;34m.\u001b[0m\u001b[0mtext_to_sequence\u001b[0m\u001b[0;34m(\u001b[0m\u001b[0;34m[\u001b[0m\u001b[0;34m'<start>'\u001b[0m\u001b[0;34m]\u001b[0m\u001b[0;34m)\u001b[0m\u001b[0;34m[\u001b[0m\u001b[0;36m0\u001b[0m\u001b[0;34m]\u001b[0m\u001b[0;34m[\u001b[0m\u001b[0;36m0\u001b[0m\u001b[0;34m]\u001b[0m\u001b[0;34m]\u001b[0m\u001b[0;34m,\u001b[0m \u001b[0;36m0\u001b[0m\u001b[0;34m)\u001b[0m\u001b[0;34m\u001b[0m\u001b[0;34m\u001b[0m\u001b[0m\n",
            "\u001b[0;32m/usr/local/lib/python3.7/dist-packages/keras/preprocessing/sequence.py\u001b[0m in \u001b[0;36mpad_sequences\u001b[0;34m(sequences, maxlen, dtype, padding, truncating, value)\u001b[0m\n\u001b[1;32m    152\u001b[0m   return sequence.pad_sequences(\n\u001b[1;32m    153\u001b[0m       \u001b[0msequences\u001b[0m\u001b[0;34m,\u001b[0m \u001b[0mmaxlen\u001b[0m\u001b[0;34m=\u001b[0m\u001b[0mmaxlen\u001b[0m\u001b[0;34m,\u001b[0m \u001b[0mdtype\u001b[0m\u001b[0;34m=\u001b[0m\u001b[0mdtype\u001b[0m\u001b[0;34m,\u001b[0m\u001b[0;34m\u001b[0m\u001b[0;34m\u001b[0m\u001b[0m\n\u001b[0;32m--> 154\u001b[0;31m       padding=padding, truncating=truncating, value=value)\n\u001b[0m\u001b[1;32m    155\u001b[0m \u001b[0;34m\u001b[0m\u001b[0m\n\u001b[1;32m    156\u001b[0m keras_export(\n",
            "\u001b[0;32m/usr/local/lib/python3.7/dist-packages/keras_preprocessing/sequence.py\u001b[0m in \u001b[0;36mpad_sequences\u001b[0;34m(sequences, maxlen, dtype, padding, truncating, value)\u001b[0m\n\u001b[1;32m     96\u001b[0m \u001b[0;34m\u001b[0m\u001b[0m\n\u001b[1;32m     97\u001b[0m         \u001b[0;31m# check `trunc` has expected shape\u001b[0m\u001b[0;34m\u001b[0m\u001b[0;34m\u001b[0m\u001b[0;34m\u001b[0m\u001b[0m\n\u001b[0;32m---> 98\u001b[0;31m         \u001b[0mtrunc\u001b[0m \u001b[0;34m=\u001b[0m \u001b[0mnp\u001b[0m\u001b[0;34m.\u001b[0m\u001b[0masarray\u001b[0m\u001b[0;34m(\u001b[0m\u001b[0mtrunc\u001b[0m\u001b[0;34m,\u001b[0m \u001b[0mdtype\u001b[0m\u001b[0;34m=\u001b[0m\u001b[0mdtype\u001b[0m\u001b[0;34m)\u001b[0m\u001b[0;34m\u001b[0m\u001b[0;34m\u001b[0m\u001b[0m\n\u001b[0m\u001b[1;32m     99\u001b[0m         \u001b[0;32mif\u001b[0m \u001b[0mtrunc\u001b[0m\u001b[0;34m.\u001b[0m\u001b[0mshape\u001b[0m\u001b[0;34m[\u001b[0m\u001b[0;36m1\u001b[0m\u001b[0;34m:\u001b[0m\u001b[0;34m]\u001b[0m \u001b[0;34m!=\u001b[0m \u001b[0msample_shape\u001b[0m\u001b[0;34m:\u001b[0m\u001b[0;34m\u001b[0m\u001b[0;34m\u001b[0m\u001b[0m\n\u001b[1;32m    100\u001b[0m             raise ValueError('Shape of sample %s of sequence at position %s '\n",
            "\u001b[0;31mValueError\u001b[0m: setting an array element with a sequence. The requested array has an inhomogeneous shape after 1 dimensions. The detected shape was (14,) + inhomogeneous part."
          ]
        }
      ]
    },
    {
      "cell_type": "markdown",
      "source": [
        "# Step 7. 성능 측정하기"
      ],
      "metadata": {
        "id": "XV0UNCxetqJ1"
      }
    },
    {
      "cell_type": "markdown",
      "source": [
        "***\n",
        "# 회고\n",
        "모델을 훈련시키는 부분부터 뭔가 잘못됐음을 알았다. 왜 loss값이 안 나올까..  epoch 1 이 진행되는 동안 loss가 3까지 떨어지다가 epoch 2로 전환되면서 갑자기 nan으로 뜬다.   \n",
        "왜 이런 건지 더 찾아봐야겠다.\n",
        "\n",
        "어쨌거나 학습은 됐다고 뜨니,  \n",
        "다른 예문을 가져와서 답변을 생성해보려 했으나, 위에서 볼 수 있다시피 ValueError가 뜬다.  \n",
        "문제는 (11) 답변 생성 부분의 코드부터 이해를 못했다는 것이다. 에러내용을 보니까 데이터 차원이 어디서 잘못된 모양인데 어디서부터 잘못된 건지 모르겠다. \n"
      ],
      "metadata": {
        "id": "qb6_5UKYrNvq"
      }
    },
    {
      "cell_type": "code",
      "source": [
        ""
      ],
      "metadata": {
        "id": "MEv5oyh-lJye"
      },
      "execution_count": null,
      "outputs": []
    }
  ]
}