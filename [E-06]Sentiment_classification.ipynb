{
 "cells": [
  {
   "cell_type": "code",
   "execution_count": null,
   "id": "1901bd0c",
   "metadata": {},
   "outputs": [],
   "source": []
  },
  {
   "cell_type": "markdown",
   "id": "fa2cdc60",
   "metadata": {},
   "source": [
    "## 1. 데이터 준비와 확인"
   ]
  },
  {
   "cell_type": "code",
   "execution_count": 2,
   "id": "a9f2bc6b",
   "metadata": {
    "scrolled": true
   },
   "outputs": [
    {
     "data": {
      "text/html": [
       "<div>\n",
       "<style scoped>\n",
       "    .dataframe tbody tr th:only-of-type {\n",
       "        vertical-align: middle;\n",
       "    }\n",
       "\n",
       "    .dataframe tbody tr th {\n",
       "        vertical-align: top;\n",
       "    }\n",
       "\n",
       "    .dataframe thead th {\n",
       "        text-align: right;\n",
       "    }\n",
       "</style>\n",
       "<table border=\"1\" class=\"dataframe\">\n",
       "  <thead>\n",
       "    <tr style=\"text-align: right;\">\n",
       "      <th></th>\n",
       "      <th>id</th>\n",
       "      <th>document</th>\n",
       "      <th>label</th>\n",
       "    </tr>\n",
       "  </thead>\n",
       "  <tbody>\n",
       "    <tr>\n",
       "      <th>0</th>\n",
       "      <td>9976970</td>\n",
       "      <td>아 더빙.. 진짜 짜증나네요 목소리</td>\n",
       "      <td>0</td>\n",
       "    </tr>\n",
       "    <tr>\n",
       "      <th>1</th>\n",
       "      <td>3819312</td>\n",
       "      <td>흠...포스터보고 초딩영화줄....오버연기조차 가볍지 않구나</td>\n",
       "      <td>1</td>\n",
       "    </tr>\n",
       "    <tr>\n",
       "      <th>2</th>\n",
       "      <td>10265843</td>\n",
       "      <td>너무재밓었다그래서보는것을추천한다</td>\n",
       "      <td>0</td>\n",
       "    </tr>\n",
       "    <tr>\n",
       "      <th>3</th>\n",
       "      <td>9045019</td>\n",
       "      <td>교도소 이야기구먼 ..솔직히 재미는 없다..평점 조정</td>\n",
       "      <td>0</td>\n",
       "    </tr>\n",
       "    <tr>\n",
       "      <th>4</th>\n",
       "      <td>6483659</td>\n",
       "      <td>사이몬페그의 익살스런 연기가 돋보였던 영화!스파이더맨에서 늙어보이기만 했던 커스틴 ...</td>\n",
       "      <td>1</td>\n",
       "    </tr>\n",
       "  </tbody>\n",
       "</table>\n",
       "</div>"
      ],
      "text/plain": [
       "         id                                           document  label\n",
       "0   9976970                                아 더빙.. 진짜 짜증나네요 목소리      0\n",
       "1   3819312                  흠...포스터보고 초딩영화줄....오버연기조차 가볍지 않구나      1\n",
       "2  10265843                                  너무재밓었다그래서보는것을추천한다      0\n",
       "3   9045019                      교도소 이야기구먼 ..솔직히 재미는 없다..평점 조정      0\n",
       "4   6483659  사이몬페그의 익살스런 연기가 돋보였던 영화!스파이더맨에서 늙어보이기만 했던 커스틴 ...      1"
      ]
     },
     "execution_count": 2,
     "metadata": {},
     "output_type": "execute_result"
    }
   ],
   "source": [
    "import pandas as pd\n",
    "\n",
    "train_data = pd.read_table('../data/sentiment_classification/data/ratings_train.txt')\n",
    "test_data = pd.read_table('../data/sentiment_classification/data/ratings_test.txt')\n",
    "\n",
    "train_data.head()"
   ]
  },
  {
   "cell_type": "code",
   "execution_count": 3,
   "id": "5f8573f2",
   "metadata": {},
   "outputs": [
    {
     "data": {
      "text/plain": [
       "(150000, 3)"
      ]
     },
     "execution_count": 3,
     "metadata": {},
     "output_type": "execute_result"
    }
   ],
   "source": [
    "train_data.shape"
   ]
  },
  {
   "cell_type": "markdown",
   "id": "72acbfd2",
   "metadata": {},
   "source": [
    "## 2. 데이터로더 구성\n",
    "- 실습 때 다룬 IMDB 데이터셋은 텍스트를 가공하여 imdb.data_loader()메서드를 호출하면 숫자인덱스로 변환된 텍스트와 word_to_index 딕셔너리까지 친절하게 제공한다.\n",
    "- 그러나 nsmc 데이터셋은 전혀 가공되지 않은 텍스트파일로 이루어져 있다. 이것을 읽어 imdb.data_loader()와 동일하게 동작하는 data_loader를 만들어야 한다. \n",
    "    - 데이터의 중복 제거\n",
    "    - NaN 결측치 제거\n",
    "    - 한국어 토크나이저로 토큰화\n",
    "    - 불용어(Stopwords) 제거\n",
    "    - 사전word_to_index 구성\n",
    "    - 텍스트 스트링을 사전 인덱스 스트링으로 변환\n",
    "    - X_train, y_train, X_test, y_test, word_to_index 리턴"
   ]
  },
  {
   "cell_type": "code",
   "execution_count": 4,
   "id": "ee1868e9",
   "metadata": {},
   "outputs": [],
   "source": [
    "from konlpy.tag import Okt\n",
    "import numpy as np\n",
    "from collections import Counter\n",
    "\n",
    "tokenizer = Okt()\n",
    "stopwords = ['의','가','이','은','들','는','좀','잘','걍','과','도','를','으로','자','에','와','한','하다']\n",
    "num_words = 10000\n",
    "\n",
    "def load_data(train_data, test_data, num_words=num_words):\n",
    "    # 중복 및 결측치 제거\n",
    "    train_data.drop_duplicates(subset=['document'], inplace=True)\n",
    "    train_data = train_data.dropna(how='any')\n",
    "    test_data.drop_duplicates(subset=['document'], inplace=True)\n",
    "    test_data = test_data.dropna(how='any')\n",
    "    \n",
    "    # 토큰화 및 불용어 제거\n",
    "    X_train = []\n",
    "    for sentence in train_data['document']:\n",
    "        temp_x = tokenizer.morphs(sentence) #형태소토큰화\n",
    "        temp_x = [word for word in temp_x if not word in stopwords]\n",
    "        X_train.append(temp_x)\n",
    "        \n",
    "    X_test = []\n",
    "    for sentence in test_data['document']:\n",
    "        temp_x = tokenizer.morphs(sentence)\n",
    "        temp_x = [word for word in temp_x if not word in stopwords]\n",
    "        X_test.append(temp_x)\n",
    "    \n",
    "    # 사전 구성 \n",
    "    words = np.concatenate(X_train).tolist()\n",
    "    counter = Counter(words)\n",
    "    counter = counter.most_common(10000-4)\n",
    "    vocab = ['','','',''] + [key for key,_ in counter]\n",
    "    \n",
    "    word_to_index = {word: index for index,word in enumerate(vocab)}\n",
    "    \n",
    "    def wordlist_to_indexlist(wordlist):\n",
    "        return [word_to_index[word] if word in word_to_index else word_to_index[''] for word in wordlist]\n",
    "    \n",
    "    X_train = list(map(wordlist_to_indexlist, X_train))\n",
    "    X_test = list(map(wordlist_to_indexlist, X_test))\n",
    "    \n",
    "    return X_train, np.array(list(train_data['label'])), X_test, np.array(list(test_data['label'])), word_to_index\n",
    "\n",
    "#X_train, y_train, X_test, y_test, word_to_index = load_data(train_data, test_data)"
   ]
  },
  {
   "cell_type": "code",
   "execution_count": 5,
   "id": "fac5adce",
   "metadata": {},
   "outputs": [],
   "source": [
    "X_train, y_train, X_test, y_test, word_to_index = load_data(train_data, test_data)"
   ]
  },
  {
   "cell_type": "code",
   "execution_count": 6,
   "id": "ec495ef4",
   "metadata": {},
   "outputs": [],
   "source": [
    "index_to_word = {index: word for word, index in word_to_index.items()}"
   ]
  },
  {
   "cell_type": "code",
   "execution_count": 15,
   "id": "9cdec32d",
   "metadata": {},
   "outputs": [],
   "source": [
    "word_to_index = {k:(v+3) for k, v in word_to_index.items()}\n",
    "\n",
    "#처음 몇 개 인덱스는 사전에 정의되어 있다.\n",
    "word_to_index[\"<PAD>\"] = 0\n",
    "word_to_index[\"<BOS>\"] = 1\n",
    "word_to_index[\"<UNK>\"] = 2 \n",
    "word_to_index[\"<UNUSED>\"] = 3\n",
    "\n",
    "index_to_word = {index: word for word,index in word_to_index.items()}\n",
    "\n",
    "#print(index_to_word)\n",
    "#print(word_to_index) # 너무 길어서 생략"
   ]
  },
  {
   "cell_type": "code",
   "execution_count": 16,
   "id": "aeaaa3dd",
   "metadata": {},
   "outputs": [],
   "source": [
    "# 문장 1개를 활용할 딕셔너리와 함께 주면, 단어 인덱스 리스트 벡터로 변환해 주는 함수입니다. \n",
    "# 단, 모든 문장은 <BOS>로 시작하는 것으로 합니다.\n",
    "def get_encoded_sentence(sentence, word_to_index):\n",
    "    return [word_to_index['<BOS>']]+[word_to_index[word] if word in word_to_index else word_to_index['<UNK>'] for word in sentence.split()]\n",
    "\n",
    "# 여러 개의 문장 리스트를 한꺼번에 단어 인덱스 리스트 벡터로 encode해 주는 함수입니다.\n",
    "def get_encoded_sentences(sentences, word_to_index):\n",
    "    return [get_encoded_sentence(sentence, word_to_index) for sentence in sentences]\n",
    "\n",
    "# 숫자 벡터로 encode된 문장을 원래대로 decode하는 함수입니다.\n",
    "def get_decoded_sentence(encoded_sentence, index_to_word):\n",
    "    return ' '.join(index_to_word[index] if index in index_to_word else '<UNK>' for index in encoded_sentence[1:])\n",
    "\n",
    "# 여러 개의 숫자 벡터로 encode된 문장을 한꺼번에 원래대로 decode하는 함수입니다. \n",
    "def get_decoded_sentences(encoded_sentences, index_to_word):\n",
    "    return [get_decoded_sentence(encoded_sentence, index_to_word) for encoded_sentence in encoded_sentences]\n"
   ]
  },
  {
   "cell_type": "markdown",
   "id": "e8b29e2c",
   "metadata": {},
   "source": [
    "## 3. 모델 구성을 위한 데이터 분석 및 가공\n",
    "- 데이터셋 내 문장 길이 분포\n",
    "- 적절한 최대 문장 길이 지정\n",
    "- keras.preprocessing.sequence.pad_sequences를 활용한 패딩 추가"
   ]
  },
  {
   "cell_type": "code",
   "execution_count": 17,
   "id": "d0a4486d",
   "metadata": {},
   "outputs": [
    {
     "name": "stdout",
     "output_type": "stream",
     "text": [
      "문장 길이 평균:  12.806930515667634\n",
      "문장 길이 최대:  95\n",
      "문장 길이 표준편차:  10.399093335789471\n",
      "pad_sequences maxlen:  33\n",
      "전체 문장의 0.9347442139050574%가 maxlen 설정값 이내에 포함됩니다.\n"
     ]
    }
   ],
   "source": [
    "#전체 데이터 문장길이 리스트\n",
    "total_data_text = list(X_train)+list(X_test)\n",
    "\n",
    "#문장 길이의 평균값, 최대값, 표준편차 계산\n",
    "num_tokens = [len(tokens) for tokens in total_data_text]\n",
    "num_tokens = np.array(num_tokens)\n",
    "\n",
    "print('문장 길이 평균: ', np.mean(num_tokens))\n",
    "print('문장 길이 최대: ', np.max(num_tokens))\n",
    "print('문장 길이 표준편차: ', np.std(num_tokens))\n",
    "\n",
    "#최대길이를 (평균 + 2*표준편차)로 한다면,\n",
    "max_tokens = np.mean(num_tokens) + 2 * np.std(num_tokens)\n",
    "max_len = int(max_tokens)\n",
    "\n",
    "print('pad_sequences maxlen: ', max_len)\n",
    "print('전체 문장의 {}%가 maxlen 설정값 이내에 포함됩니다.'.format(np.sum(num_tokens < max_tokens) / len(num_tokens)))"
   ]
  },
  {
   "cell_type": "markdown",
   "id": "940aaf07",
   "metadata": {},
   "source": [
    "이 데이터의 경우 max_len = 33이 된다"
   ]
  },
  {
   "cell_type": "code",
   "execution_count": 18,
   "id": "f360e34d",
   "metadata": {},
   "outputs": [],
   "source": [
    "import tensorflow as tf"
   ]
  },
  {
   "cell_type": "code",
   "execution_count": 19,
   "id": "de5c3664",
   "metadata": {},
   "outputs": [],
   "source": [
    "max_len = 33"
   ]
  },
  {
   "cell_type": "code",
   "execution_count": 20,
   "id": "fac0b45e",
   "metadata": {},
   "outputs": [
    {
     "name": "stdout",
     "output_type": "stream",
     "text": [
      "10001\n"
     ]
    }
   ],
   "source": [
    "#print(word_to_index) # 너무 길어서 생략\n",
    "print(len(word_to_index))"
   ]
  },
  {
   "cell_type": "code",
   "execution_count": 21,
   "id": "8bf82c44",
   "metadata": {},
   "outputs": [
    {
     "name": "stdout",
     "output_type": "stream",
     "text": [
      "(146182, 33)\n"
     ]
    }
   ],
   "source": [
    "#패딩 추가\n",
    "X_train = tf.keras.preprocessing.sequence.pad_sequences(X_train,\n",
    "                                                      value=word_to_index[\"<PAD>\"],\n",
    "                                                      padding='pre',\n",
    "                                                      maxlen = max_len)\n",
    "\n",
    "X_test = tf.keras.preprocessing.sequence.pad_sequences(X_test,\n",
    "                                                     value=word_to_index[\"<PAD>\"],\n",
    "                                                     padding = 'pre',\n",
    "                                                     maxlen=max_len)\n",
    "print(X_train.shape)"
   ]
  },
  {
   "cell_type": "markdown",
   "id": "936be6bc",
   "metadata": {},
   "source": [
    "## 4. 모델 구성 및 validation set 구성"
   ]
  },
  {
   "cell_type": "code",
   "execution_count": 22,
   "id": "0be98374",
   "metadata": {
    "scrolled": true
   },
   "outputs": [
    {
     "name": "stdout",
     "output_type": "stream",
     "text": [
      "Model: \"sequential\"\n",
      "_________________________________________________________________\n",
      " Layer (type)                Output Shape              Param #   \n",
      "=================================================================\n",
      " embedding (Embedding)       (None, None, 16)          160000    \n",
      "                                                                 \n",
      " lstm (LSTM)                 (None, 8)                 800       \n",
      "                                                                 \n",
      " dense (Dense)               (None, 8)                 72        \n",
      "                                                                 \n",
      " dense_1 (Dense)             (None, 1)                 9         \n",
      "                                                                 \n",
      "=================================================================\n",
      "Total params: 160,881\n",
      "Trainable params: 160,881\n",
      "Non-trainable params: 0\n",
      "_________________________________________________________________\n"
     ]
    }
   ],
   "source": [
    "# 모델 1\n",
    "vocab_size = 10000\n",
    "word_vector_dim = 16 #워드벡터의 차원수 \n",
    "\n",
    "#모델 설계 \n",
    "model1 = tf.keras.Sequential()\n",
    "model1.add(tf.keras.layers.Embedding(vocab_size,word_vector_dim, input_shape=(None, )))\n",
    "model1.add(tf.keras.layers.LSTM(8))\n",
    "model1.add(tf.keras.layers.Dense(8, activation='relu'))\n",
    "model1.add(tf.keras.layers.Dense(1, activation='sigmoid'))\n",
    "\n",
    "model1.summary()"
   ]
  },
  {
   "cell_type": "code",
   "execution_count": 23,
   "id": "3edf7ab9",
   "metadata": {},
   "outputs": [
    {
     "name": "stdout",
     "output_type": "stream",
     "text": [
      "Model: \"sequential_1\"\n",
      "_________________________________________________________________\n",
      " Layer (type)                Output Shape              Param #   \n",
      "=================================================================\n",
      " embedding_1 (Embedding)     (None, None, 16)          160000    \n",
      "                                                                 \n",
      " conv1d (Conv1D)             (None, None, 64)          5184      \n",
      "                                                                 \n",
      " max_pooling1d (MaxPooling1D  (None, None, 64)         0         \n",
      " )                                                               \n",
      "                                                                 \n",
      " conv1d_1 (Conv1D)           (None, None, 16)          5136      \n",
      "                                                                 \n",
      " global_max_pooling1d (Globa  (None, 16)               0         \n",
      " lMaxPooling1D)                                                  \n",
      "                                                                 \n",
      " dense_2 (Dense)             (None, 8)                 136       \n",
      "                                                                 \n",
      " dense_3 (Dense)             (None, 1)                 9         \n",
      "                                                                 \n",
      "=================================================================\n",
      "Total params: 170,465\n",
      "Trainable params: 170,465\n",
      "Non-trainable params: 0\n",
      "_________________________________________________________________\n"
     ]
    }
   ],
   "source": [
    "# 모델 2\n",
    "model2 = tf.keras.Sequential()\n",
    "model2.add(tf.keras.layers.Embedding(vocab_size, word_vector_dim, input_shape=(None,)))\n",
    "model2.add(tf.keras.layers.Conv1D(64, 5, activation='relu'))\n",
    "model2.add(tf.keras.layers.MaxPooling1D(5))\n",
    "model2.add(tf.keras.layers.Conv1D(16, 5, activation='relu'))\n",
    "model2.add(tf.keras.layers.GlobalMaxPooling1D())\n",
    "model2.add(tf.keras.layers.Dense(8, activation='relu'))\n",
    "model2.add(tf.keras.layers.Dense(1, activation='sigmoid'))\n",
    "\n",
    "model2.summary()"
   ]
  },
  {
   "cell_type": "code",
   "execution_count": 73,
   "id": "daf4e357",
   "metadata": {
    "scrolled": true
   },
   "outputs": [
    {
     "name": "stdout",
     "output_type": "stream",
     "text": [
      "Model: \"sequential_21\"\n",
      "_________________________________________________________________\n",
      " Layer (type)                Output Shape              Param #   \n",
      "=================================================================\n",
      " embedding_20 (Embedding)    (None, None, 16)          160000    \n",
      "                                                                 \n",
      " global_max_pooling1d_12 (Gl  (None, 16)               0         \n",
      " obalMaxPooling1D)                                               \n",
      "                                                                 \n",
      " dense_30 (Dense)            (None, 8)                 136       \n",
      "                                                                 \n",
      " dense_31 (Dense)            (None, 1)                 9         \n",
      "                                                                 \n",
      "=================================================================\n",
      "Total params: 160,145\n",
      "Trainable params: 160,145\n",
      "Non-trainable params: 0\n",
      "_________________________________________________________________\n"
     ]
    }
   ],
   "source": [
    "# 모델 3\n",
    "model3 = tf.keras.Sequential()\n",
    "model3.add(tf.keras.layers.Embedding(vocab_size, word_vector_dim, input_shape=(None, )))\n",
    "model3.add(tf.keras.layers.GlobalMaxPooling1D())\n",
    "model3.add(tf.keras.layers.Dense(8, activation = 'relu'))\n",
    "model3.add(tf.keras.layers.Dense(1, activation= 'sigmoid'))\n",
    "\n",
    "model3.summary()"
   ]
  },
  {
   "cell_type": "markdown",
   "id": "67c1276f",
   "metadata": {},
   "source": [
    "#### validation set 구성_ train data의 (대략)20%인 30000개 이용\n",
    "- 30000개는 너무 적은 듯"
   ]
  },
  {
   "cell_type": "code",
   "execution_count": 74,
   "id": "35a9019e",
   "metadata": {},
   "outputs": [
    {
     "name": "stdout",
     "output_type": "stream",
     "text": [
      "(116182, 33)\n",
      "(116182,)\n",
      "(30000, 33)\n"
     ]
    }
   ],
   "source": [
    "#validation set 45000개 분리\n",
    "x_val = X_train[:30000]\n",
    "y_val = y_train[:30000]\n",
    "\n",
    "#나머지\n",
    "partial_x_train = X_train[30000:]\n",
    "partial_y_train = y_train[30000:]\n",
    "\n",
    "print(partial_x_train.shape)\n",
    "print(partial_y_train.shape)\n",
    "print(x_val.shape)"
   ]
  },
  {
   "cell_type": "markdown",
   "id": "1b16e318",
   "metadata": {},
   "source": [
    "## 5. 모델 훈련"
   ]
  },
  {
   "cell_type": "code",
   "execution_count": 75,
   "id": "33d366ab",
   "metadata": {},
   "outputs": [],
   "source": [
    "epochs = 20"
   ]
  },
  {
   "cell_type": "code",
   "execution_count": 76,
   "id": "228dc3b1",
   "metadata": {
    "scrolled": true
   },
   "outputs": [
    {
     "name": "stdout",
     "output_type": "stream",
     "text": [
      "Epoch 1/20\n",
      "454/454 [==============================] - 6s 11ms/step - loss: 0.4988 - accuracy: 0.7690 - val_loss: 0.3719 - val_accuracy: 0.8396\n",
      "Epoch 2/20\n",
      "454/454 [==============================] - 4s 10ms/step - loss: 0.3369 - accuracy: 0.8570 - val_loss: 0.3448 - val_accuracy: 0.8477\n",
      "Epoch 3/20\n",
      "454/454 [==============================] - 4s 10ms/step - loss: 0.3096 - accuracy: 0.8705 - val_loss: 0.3437 - val_accuracy: 0.8488\n",
      "Epoch 4/20\n",
      "454/454 [==============================] - 4s 10ms/step - loss: 0.2937 - accuracy: 0.8762 - val_loss: 0.3447 - val_accuracy: 0.8470\n",
      "Epoch 5/20\n",
      "454/454 [==============================] - 4s 10ms/step - loss: 0.2788 - accuracy: 0.8832 - val_loss: 0.3547 - val_accuracy: 0.8477\n",
      "Epoch 6/20\n",
      "454/454 [==============================] - 4s 10ms/step - loss: 0.2644 - accuracy: 0.8897 - val_loss: 0.3597 - val_accuracy: 0.8460\n",
      "Epoch 7/20\n",
      "454/454 [==============================] - 4s 10ms/step - loss: 0.2514 - accuracy: 0.8951 - val_loss: 0.3764 - val_accuracy: 0.8462\n",
      "Epoch 8/20\n",
      "454/454 [==============================] - 4s 10ms/step - loss: 0.2378 - accuracy: 0.9006 - val_loss: 0.3924 - val_accuracy: 0.8452\n",
      "Epoch 9/20\n",
      "454/454 [==============================] - 5s 10ms/step - loss: 0.2256 - accuracy: 0.9052 - val_loss: 0.4203 - val_accuracy: 0.8439\n",
      "Epoch 10/20\n",
      "454/454 [==============================] - 5s 11ms/step - loss: 0.2130 - accuracy: 0.9097 - val_loss: 0.4262 - val_accuracy: 0.8429\n",
      "Epoch 11/20\n",
      "454/454 [==============================] - 5s 11ms/step - loss: 0.2016 - accuracy: 0.9139 - val_loss: 0.4652 - val_accuracy: 0.8410\n",
      "Epoch 12/20\n",
      "454/454 [==============================] - 5s 11ms/step - loss: 0.1909 - accuracy: 0.9176 - val_loss: 0.4996 - val_accuracy: 0.8389\n",
      "Epoch 13/20\n",
      "454/454 [==============================] - 5s 12ms/step - loss: 0.1802 - accuracy: 0.9226 - val_loss: 0.5225 - val_accuracy: 0.8363\n",
      "Epoch 14/20\n",
      "454/454 [==============================] - 5s 12ms/step - loss: 0.1701 - accuracy: 0.9261 - val_loss: 0.5741 - val_accuracy: 0.8380\n",
      "Epoch 15/20\n",
      "454/454 [==============================] - 6s 12ms/step - loss: 0.1614 - accuracy: 0.9302 - val_loss: 0.6243 - val_accuracy: 0.8332\n",
      "Epoch 16/20\n",
      "454/454 [==============================] - 6s 12ms/step - loss: 0.1551 - accuracy: 0.9325 - val_loss: 0.6492 - val_accuracy: 0.8316\n",
      "Epoch 17/20\n",
      "454/454 [==============================] - 6s 13ms/step - loss: 0.1496 - accuracy: 0.9343 - val_loss: 0.6925 - val_accuracy: 0.8316\n",
      "Epoch 18/20\n",
      "454/454 [==============================] - 6s 13ms/step - loss: 0.1398 - accuracy: 0.9389 - val_loss: 0.7407 - val_accuracy: 0.8313\n",
      "Epoch 19/20\n",
      "454/454 [==============================] - 6s 14ms/step - loss: 0.1327 - accuracy: 0.9420 - val_loss: 0.7751 - val_accuracy: 0.8283\n",
      "Epoch 20/20\n",
      "454/454 [==============================] - 7s 15ms/step - loss: 0.1268 - accuracy: 0.9449 - val_loss: 0.8889 - val_accuracy: 0.8286\n"
     ]
    }
   ],
   "source": [
    "# 모델 1\n",
    "model1.compile(optimizer='adam',\n",
    "              loss='binary_crossentropy',\n",
    "              metrics=['accuracy'])\n",
    "\n",
    "history1 = model1.fit(partial_x_train, \n",
    "                   partial_y_train,\n",
    "                   epochs = epochs,\n",
    "                   batch_size = 256,\n",
    "                   validation_data = (x_val,y_val),\n",
    "                   verbose=1)"
   ]
  },
  {
   "cell_type": "code",
   "execution_count": 77,
   "id": "d8fd1fad",
   "metadata": {
    "scrolled": true
   },
   "outputs": [
    {
     "name": "stdout",
     "output_type": "stream",
     "text": [
      "Epoch 1/20\n",
      "227/227 [==============================] - 4s 18ms/step - loss: 0.5902 - accuracy: 0.6572 - val_loss: 0.4998 - val_accuracy: 0.7291\n",
      "Epoch 2/20\n",
      "227/227 [==============================] - 4s 17ms/step - loss: 0.4697 - accuracy: 0.7531 - val_loss: 0.4900 - val_accuracy: 0.7350\n",
      "Epoch 3/20\n",
      "227/227 [==============================] - 4s 18ms/step - loss: 0.4446 - accuracy: 0.7678 - val_loss: 0.4957 - val_accuracy: 0.7361\n",
      "Epoch 4/20\n",
      "227/227 [==============================] - 4s 18ms/step - loss: 0.4265 - accuracy: 0.7781 - val_loss: 0.5026 - val_accuracy: 0.7341\n",
      "Epoch 5/20\n",
      "227/227 [==============================] - 4s 17ms/step - loss: 0.4037 - accuracy: 0.7901 - val_loss: 0.5109 - val_accuracy: 0.7313\n",
      "Epoch 6/20\n",
      "227/227 [==============================] - 4s 18ms/step - loss: 0.3754 - accuracy: 0.8063 - val_loss: 0.5368 - val_accuracy: 0.7265\n",
      "Epoch 7/20\n",
      "227/227 [==============================] - 4s 18ms/step - loss: 0.3430 - accuracy: 0.8219 - val_loss: 0.5733 - val_accuracy: 0.7218\n",
      "Epoch 8/20\n",
      "227/227 [==============================] - 4s 16ms/step - loss: 0.3110 - accuracy: 0.8365 - val_loss: 0.6278 - val_accuracy: 0.7179\n",
      "Epoch 9/20\n",
      "227/227 [==============================] - 3s 15ms/step - loss: 0.2829 - accuracy: 0.8498 - val_loss: 0.6794 - val_accuracy: 0.7160\n",
      "Epoch 10/20\n",
      "227/227 [==============================] - 3s 15ms/step - loss: 0.2588 - accuracy: 0.8606 - val_loss: 0.7425 - val_accuracy: 0.7109\n",
      "Epoch 11/20\n",
      "227/227 [==============================] - 3s 14ms/step - loss: 0.2408 - accuracy: 0.8681 - val_loss: 0.8131 - val_accuracy: 0.7115\n",
      "Epoch 12/20\n",
      "227/227 [==============================] - 3s 14ms/step - loss: 0.2268 - accuracy: 0.8751 - val_loss: 0.9014 - val_accuracy: 0.7075\n",
      "Epoch 13/20\n",
      "227/227 [==============================] - 3s 13ms/step - loss: 0.2149 - accuracy: 0.8793 - val_loss: 0.9412 - val_accuracy: 0.7086\n",
      "Epoch 14/20\n",
      "227/227 [==============================] - 3s 13ms/step - loss: 0.2062 - accuracy: 0.8830 - val_loss: 0.9924 - val_accuracy: 0.7066\n",
      "Epoch 15/20\n",
      "227/227 [==============================] - 3s 13ms/step - loss: 0.1997 - accuracy: 0.8862 - val_loss: 1.0539 - val_accuracy: 0.7055\n",
      "Epoch 16/20\n",
      "227/227 [==============================] - 3s 13ms/step - loss: 0.1932 - accuracy: 0.8878 - val_loss: 1.1078 - val_accuracy: 0.7025\n",
      "Epoch 17/20\n",
      "227/227 [==============================] - 3s 13ms/step - loss: 0.1890 - accuracy: 0.8901 - val_loss: 1.2238 - val_accuracy: 0.7013\n",
      "Epoch 18/20\n",
      "227/227 [==============================] - 3s 13ms/step - loss: 0.1846 - accuracy: 0.8918 - val_loss: 1.2056 - val_accuracy: 0.7031\n",
      "Epoch 19/20\n",
      "227/227 [==============================] - 3s 13ms/step - loss: 0.1822 - accuracy: 0.8922 - val_loss: 1.2678 - val_accuracy: 0.7013\n",
      "Epoch 20/20\n",
      "227/227 [==============================] - 3s 13ms/step - loss: 0.1801 - accuracy: 0.8918 - val_loss: 1.3219 - val_accuracy: 0.7008\n"
     ]
    }
   ],
   "source": [
    "# 모델 2\n",
    "model2.compile(optimizer='adam',\n",
    "              loss='binary_crossentropy',\n",
    "              metrics=['accuracy'])\n",
    "\n",
    "history2 = model2.fit(partial_x_train, \n",
    "                   partial_y_train,\n",
    "                   epochs = epochs,\n",
    "                   batch_size = 512,\n",
    "                   validation_data = (x_val,y_val),\n",
    "                   verbose=1)"
   ]
  },
  {
   "cell_type": "code",
   "execution_count": 78,
   "id": "7322d2f9",
   "metadata": {
    "scrolled": false
   },
   "outputs": [
    {
     "name": "stdout",
     "output_type": "stream",
     "text": [
      "Epoch 1/20\n",
      "227/227 [==============================] - 1s 4ms/step - loss: 0.6089 - accuracy: 0.7310 - val_loss: 0.4590 - val_accuracy: 0.8171\n",
      "Epoch 2/20\n",
      "227/227 [==============================] - 1s 4ms/step - loss: 0.3849 - accuracy: 0.8394 - val_loss: 0.3603 - val_accuracy: 0.8399\n",
      "Epoch 3/20\n",
      "227/227 [==============================] - 1s 4ms/step - loss: 0.3210 - accuracy: 0.8653 - val_loss: 0.3472 - val_accuracy: 0.8463\n",
      "Epoch 4/20\n",
      "227/227 [==============================] - 1s 4ms/step - loss: 0.2912 - accuracy: 0.8790 - val_loss: 0.3465 - val_accuracy: 0.8495\n",
      "Epoch 5/20\n",
      "227/227 [==============================] - 1s 4ms/step - loss: 0.2700 - accuracy: 0.8890 - val_loss: 0.3512 - val_accuracy: 0.8482\n",
      "Epoch 6/20\n",
      "227/227 [==============================] - 1s 4ms/step - loss: 0.2529 - accuracy: 0.8970 - val_loss: 0.3583 - val_accuracy: 0.8489\n",
      "Epoch 7/20\n",
      "227/227 [==============================] - 1s 4ms/step - loss: 0.2378 - accuracy: 0.9038 - val_loss: 0.3686 - val_accuracy: 0.8462\n",
      "Epoch 8/20\n",
      "227/227 [==============================] - 1s 4ms/step - loss: 0.2242 - accuracy: 0.9107 - val_loss: 0.3814 - val_accuracy: 0.8451\n",
      "Epoch 9/20\n",
      "227/227 [==============================] - 1s 4ms/step - loss: 0.2119 - accuracy: 0.9164 - val_loss: 0.3933 - val_accuracy: 0.8437\n",
      "Epoch 10/20\n",
      "227/227 [==============================] - 1s 4ms/step - loss: 0.2005 - accuracy: 0.9223 - val_loss: 0.4071 - val_accuracy: 0.8420\n",
      "Epoch 11/20\n",
      "227/227 [==============================] - 1s 4ms/step - loss: 0.1897 - accuracy: 0.9275 - val_loss: 0.4221 - val_accuracy: 0.8403\n",
      "Epoch 12/20\n",
      "227/227 [==============================] - 1s 4ms/step - loss: 0.1795 - accuracy: 0.9322 - val_loss: 0.4366 - val_accuracy: 0.8388\n",
      "Epoch 13/20\n",
      "227/227 [==============================] - 1s 4ms/step - loss: 0.1699 - accuracy: 0.9367 - val_loss: 0.4543 - val_accuracy: 0.8370\n",
      "Epoch 14/20\n",
      "227/227 [==============================] - 1s 4ms/step - loss: 0.1611 - accuracy: 0.9408 - val_loss: 0.4718 - val_accuracy: 0.8357\n",
      "Epoch 15/20\n",
      "227/227 [==============================] - 1s 4ms/step - loss: 0.1529 - accuracy: 0.9444 - val_loss: 0.4899 - val_accuracy: 0.8336\n",
      "Epoch 16/20\n",
      "227/227 [==============================] - 1s 4ms/step - loss: 0.1452 - accuracy: 0.9478 - val_loss: 0.5069 - val_accuracy: 0.8328\n",
      "Epoch 17/20\n",
      "227/227 [==============================] - 1s 4ms/step - loss: 0.1383 - accuracy: 0.9514 - val_loss: 0.5243 - val_accuracy: 0.8317\n",
      "Epoch 18/20\n",
      "227/227 [==============================] - 1s 4ms/step - loss: 0.1315 - accuracy: 0.9541 - val_loss: 0.5451 - val_accuracy: 0.8303\n",
      "Epoch 19/20\n",
      "227/227 [==============================] - 1s 4ms/step - loss: 0.1257 - accuracy: 0.9561 - val_loss: 0.5655 - val_accuracy: 0.8280\n",
      "Epoch 20/20\n",
      "227/227 [==============================] - 1s 4ms/step - loss: 0.1200 - accuracy: 0.9586 - val_loss: 0.5836 - val_accuracy: 0.8271\n"
     ]
    }
   ],
   "source": [
    "# 모델 3\n",
    "model3.compile(optimizer='adam',\n",
    "              loss='binary_crossentropy',\n",
    "              metrics=['accuracy'])\n",
    "\n",
    "history3 = model3.fit(partial_x_train, \n",
    "                   partial_y_train,\n",
    "                   epochs = epochs,\n",
    "                   batch_size = 512,\n",
    "                   validation_data = (x_val,y_val),\n",
    "                   verbose=1)"
   ]
  },
  {
   "cell_type": "markdown",
   "id": "0553581c",
   "metadata": {},
   "source": [
    "#### 테스트 셋을 통한 모델 평가"
   ]
  },
  {
   "cell_type": "code",
   "execution_count": 106,
   "id": "5ab32b37",
   "metadata": {},
   "outputs": [
    {
     "name": "stdout",
     "output_type": "stream",
     "text": [
      "1537/1537 - 2s - loss: 0.9058 - accuracy: 0.8219 - 2s/epoch - 1ms/step\n",
      "1537/1537 - 1s - loss: 1.3624 - accuracy: 0.6991 - 840ms/epoch - 547us/step\n",
      "1537/1537 - 1s - loss: 0.6115 - accuracy: 0.8175 - 542ms/epoch - 353us/step\n",
      "#모델 1:  [0.9057595729827881, 0.8218564987182617]\n",
      "#모델 2:  [1.3623884916305542, 0.6991069316864014]\n",
      "#모델 3:  [0.6114934682846069, 0.8174624443054199]\n"
     ]
    }
   ],
   "source": [
    "results1 = model1.evaluate(X_test, y_test, verbose=2)\n",
    "results2 = model2.evaluate(X_test, y_test, verbose=2)\n",
    "results3 = model3.evaluate(X_test, y_test, verbose=2)\n",
    "\n",
    "print('#모델 1: ',results1)\n",
    "print('#모델 2: ',results2)\n",
    "print('#모델 3: ',results3)"
   ]
  },
  {
   "cell_type": "markdown",
   "id": "94487ef4",
   "metadata": {},
   "source": [
    "## 6. Loss, Accuracy 그래프 시각화\n",
    "- 세 모델 중에 그나마 성능이 좋았던 model1만 시각화 하려 함"
   ]
  },
  {
   "cell_type": "code",
   "execution_count": 80,
   "id": "3da18378",
   "metadata": {},
   "outputs": [],
   "source": [
    "history_dict = history1.history"
   ]
  },
  {
   "cell_type": "code",
   "execution_count": 81,
   "id": "3f942e7f",
   "metadata": {},
   "outputs": [
    {
     "name": "stdout",
     "output_type": "stream",
     "text": [
      "dict_keys(['loss', 'accuracy', 'val_loss', 'val_accuracy'])\n"
     ]
    }
   ],
   "source": [
    "print(history_dict.keys())"
   ]
  },
  {
   "cell_type": "code",
   "execution_count": 82,
   "id": "75bd11e4",
   "metadata": {
    "scrolled": true
   },
   "outputs": [
    {
     "data": {
      "image/png": "[encoded data removed]",
      "text/plain": [
       "<Figure size 432x288 with 1 Axes>"
      ]
     },
     "metadata": {
      "needs_background": "light"
     },
     "output_type": "display_data"
    }
   ],
   "source": [
    "import matplotlib.pyplot as plt\n",
    "\n",
    "acc = history_dict['accuracy']\n",
    "val_acc = history_dict['val_accuracy']\n",
    "\n",
    "loss = history_dict['loss']\n",
    "val_loss = history_dict['val_loss']\n",
    "\n",
    "epochs = range(1, len(acc) + 1)\n",
    "\n",
    "#'bo'는 '파란점'\n",
    "plt.plot(epochs, loss, 'bo', label='Training loss')\n",
    "#b는 파란실선\n",
    "plt.plot(epochs, val_loss, 'b', label='Validation loss')\n",
    "\n",
    "plt.title('Training and Validation Loss')\n",
    "plt.xlabel('Epochs')\n",
    "plt.ylabel('Loss')\n",
    "plt.legend()\n",
    "\n",
    "plt.show()"
   ]
  },
  {
   "cell_type": "code",
   "execution_count": 83,
   "id": "60939cf3",
   "metadata": {},
   "outputs": [
    {
     "data": {
      "image/png": "[encoded data removed]",
      "text/plain": [
       "<Figure size 432x288 with 1 Axes>"
      ]
     },
     "metadata": {
      "needs_background": "light"
     },
     "output_type": "display_data"
    }
   ],
   "source": [
    "plt.clf() #그림 초기화\n",
    "\n",
    "plt.plot(epochs, acc, 'bo', label='Training acc')\n",
    "plt.plot(epochs, val_acc, 'b', label='Validation acc')\n",
    "plt.title('Training and validation accuracy')\n",
    "plt.xlabel('Epochs')\n",
    "plt.ylabel('Accuracy')\n",
    "plt.legend()\n",
    "\n",
    "plt.show()"
   ]
  },
  {
   "cell_type": "markdown",
   "id": "75d4e030",
   "metadata": {},
   "source": [
    "왜 그래프가 이런식으로 나오는걸까... 에포크를 2번만 해도 되는건가? <br>\n",
    "validation set을 30000으로 했을 때도 2번 돌렸을 때의 차이가 가장 적었다. "
   ]
  },
  {
   "cell_type": "markdown",
   "id": "80226905",
   "metadata": {},
   "source": [
    "## 7. 학습된 Embedding 레이어 분석\n",
    "- gensim 이용"
   ]
  },
  {
   "cell_type": "code",
   "execution_count": 84,
   "id": "26214375",
   "metadata": {},
   "outputs": [
    {
     "name": "stdout",
     "output_type": "stream",
     "text": [
      "(10000, 16)\n"
     ]
    }
   ],
   "source": [
    "embedding_layer = model1.layers[0]\n",
    "\n",
    "weights = embedding_layer.get_weights()[0]\n",
    "print(weights.shape)"
   ]
  },
  {
   "cell_type": "code",
   "execution_count": 85,
   "id": "f7ec4c58",
   "metadata": {},
   "outputs": [],
   "source": [
    "#학습한 embedding 파라미터 파일에 써서 저장\n",
    "word2vec_file_path = '../data/sentiment_classification/data/exp_word2vec.txt'\n",
    "f = open(word2vec_file_path, 'w', encoding= 'utf-8')\n",
    "f.write('{} {}\\n'.format(vocab_size-6, word_vector_dim))\n",
    "\n",
    "vectors = model1.get_weights()[0]\n",
    "for i in range(6, vocab_size):\n",
    "    f.write('{} {}\\n'.format(index_to_word[i], ' '.join(map(str, list(vectors[i, :])))))\n",
    "f.close()"
   ]
  },
  {
   "cell_type": "code",
   "execution_count": 86,
   "id": "c7288d51",
   "metadata": {},
   "outputs": [
    {
     "data": {
      "text/plain": [
       "array([-0.10516166, -0.02212822, -0.01778836,  0.02746917, -0.03893316,\n",
       "        0.00567918,  0.0670773 ,  0.02215745, -0.03343077,  0.02811728,\n",
       "        0.08378042, -0.07483489,  0.03492393, -0.01250764,  0.00983925,\n",
       "       -0.02419499], dtype=float32)"
      ]
     },
     "execution_count": 86,
     "metadata": {},
     "output_type": "execute_result"
    }
   ],
   "source": [
    "from gensim.models.keyedvectors import Word2VecKeyedVectors\n",
    "\n",
    "word_vectors = Word2VecKeyedVectors.load_word2vec_format(word2vec_file_path, binary=False)\n",
    "vector = word_vectors['영화']\n",
    "vector"
   ]
  },
  {
   "cell_type": "code",
   "execution_count": 87,
   "id": "f3f50530",
   "metadata": {
    "scrolled": true
   },
   "outputs": [
    {
     "data": {
      "text/plain": [
       "[('종결', 0.9706438779830933),\n",
       " ('성공', 0.9693580269813538),\n",
       " ('아니더라도', 0.968698263168335),\n",
       " ('였다', 0.9673298597335815),\n",
       " ('빈틈', 0.9635066390037537),\n",
       " ('죽인', 0.961799144744873),\n",
       " ('판', 0.9615471363067627),\n",
       " ('나발', 0.9598787426948547),\n",
       " ('50%', 0.9593855142593384),\n",
       " ('진정', 0.9590867757797241)]"
      ]
     },
     "execution_count": 87,
     "metadata": {},
     "output_type": "execute_result"
    }
   ],
   "source": [
    "word_vectors.similar_by_word(\"감상\")"
   ]
  },
  {
   "cell_type": "markdown",
   "id": "cfd172a9",
   "metadata": {},
   "source": [
    "학습이 잘 안 된 것 같다.. "
   ]
  },
  {
   "cell_type": "markdown",
   "id": "40db18d7",
   "metadata": {},
   "source": [
    "#### Word2Vec 모델로 embedding layer분석"
   ]
  },
  {
   "cell_type": "code",
   "execution_count": 88,
   "id": "3f24983d",
   "metadata": {
    "scrolled": true
   },
   "outputs": [
    {
     "name": "stderr",
     "output_type": "stream",
     "text": [
      "C:\\Users\\USER\\AppData\\Local\\Temp\\ipykernel_6784\\3345870521.py:7: DeprecationWarning: Call to deprecated `__getitem__` (Method will be removed in 4.0.0, use self.wv.__getitem__() instead).\n",
      "  vector = word2vec['영화']\n"
     ]
    },
    {
     "data": {
      "text/plain": [
       "array([-1.7577837 , -1.0874279 ,  1.5300866 , -0.1115231 , -0.37980682,\n",
       "        1.4828517 ,  1.3180419 ,  0.11094163,  0.7430535 , -0.45461136,\n",
       "        0.58841336,  0.5763913 ,  1.210707  ,  1.3132795 , -0.86962503,\n",
       "       -0.18507595, -0.47440064,  1.5100725 ,  1.0965794 ,  1.0600823 ,\n",
       "       -0.27457932, -0.70003706,  2.3117511 ,  1.4944884 ,  0.25560892,\n",
       "       -2.866659  , -0.28312334,  0.34263936, -0.67723423,  0.71714777,\n",
       "        0.25549442,  0.71732044, -0.13262457,  0.01792452, -0.3184774 ,\n",
       "        0.5271619 ,  0.7561084 , -2.1247065 ,  1.061429  , -0.21065854,\n",
       "        0.6877343 , -1.4956383 ,  0.60346967, -2.6955893 ,  0.37694618,\n",
       "       -1.0164185 ,  0.5430663 ,  0.1200121 , -2.6315718 ,  0.6216742 ,\n",
       "        1.1583976 , -2.5385962 ,  1.326312  , -0.10284371, -0.0286147 ,\n",
       "       -0.9132947 ,  0.7647564 ,  0.79202783, -1.8625957 , -0.7418395 ,\n",
       "        0.5884277 , -0.9917992 , -0.62114453,  1.5367815 , -0.6628939 ,\n",
       "        0.6712103 ,  0.12914915,  0.21228492,  0.9017655 , -0.25083402,\n",
       "        0.71500814,  0.08644514,  0.59993285,  0.5766137 ,  0.64095974,\n",
       "        0.47888306, -2.8426213 , -2.8502681 , -0.140544  , -1.5917364 ,\n",
       "        0.26691505,  0.59476066,  0.85868204,  1.0322351 ,  0.25671318,\n",
       "       -0.34831643,  1.752927  , -0.21967097, -0.77352476,  1.6995213 ,\n",
       "        1.3996491 , -0.9419836 ,  0.85996443, -1.8812876 , -2.5428605 ,\n",
       "        0.39351937, -1.2882805 ,  0.56548136,  1.006273  ,  1.2217585 ,\n",
       "        3.5744793 ,  1.717737  ,  1.6917158 , -2.2176905 , -0.3167447 ,\n",
       "        1.2449    , -1.255284  , -2.1539652 , -1.096709  , -0.74976933,\n",
       "       -0.16744931, -1.8507233 ,  2.1861036 , -0.05389732,  1.038033  ,\n",
       "        0.33730686, -1.4647075 , -1.264041  ,  0.25509247,  0.0622906 ,\n",
       "        0.27852032, -0.52661455,  0.8529616 ,  0.58257025, -0.57665855,\n",
       "        1.3990631 ,  0.28237963,  1.6566037 ,  1.9912103 ,  0.63888913,\n",
       "        0.7732426 , -1.3757724 ,  0.17209321, -0.2433672 ,  0.6328291 ,\n",
       "        1.486971  ,  2.3435354 , -1.7037928 ,  3.1944559 , -1.9049606 ,\n",
       "       -0.51309574,  0.79082954, -1.4480313 , -0.68631476,  0.62008876,\n",
       "       -2.3400223 , -0.5785594 ,  0.5270694 ,  3.0061607 , -1.3661511 ,\n",
       "       -2.7953272 , -1.1794031 , -0.27734265,  0.71130925, -0.06620383,\n",
       "        0.33663416,  0.7204997 , -0.923218  , -2.1603265 , -0.8904896 ,\n",
       "       -1.4137112 , -0.4189144 ,  0.42834592,  1.8104875 , -1.8274456 ,\n",
       "       -0.26700613,  0.7743727 ,  0.80048114,  1.1333636 ,  3.2746978 ,\n",
       "       -0.0188297 ,  0.9245737 , -0.1246058 , -0.5802861 , -0.01926111,\n",
       "        1.05892   , -1.4247856 ,  1.0689156 ,  2.5728712 , -1.294882  ,\n",
       "        0.74771804,  1.3066916 , -1.3213431 ,  1.6501019 , -0.12401557,\n",
       "        0.96340084,  0.26050946,  1.3826336 , -0.02877662,  2.3431563 ,\n",
       "       -0.26337367,  1.9162012 , -0.77454543,  1.7392642 ,  0.08038983,\n",
       "       -0.60325927,  0.29508227,  0.4812675 ,  0.5271086 ,  0.94171894],\n",
       "      dtype=float32)"
      ]
     },
     "execution_count": 88,
     "metadata": {},
     "output_type": "execute_result"
    }
   ],
   "source": [
    "from gensim.models import KeyedVectors\n",
    "from gensim.models import Word2Vec\n",
    "\n",
    "word2vec_path = './sentiment_classification/ko.bin'\n",
    "#word2vec = KeyedVectors.load_word2vec_format(word2vec_path, binary=True) # 오류가 떠서 다른 방법 이용함\n",
    "word2vec = Word2Vec.load(word2vec_path)\n",
    "vector = word2vec['영화']\n",
    "vector"
   ]
  },
  {
   "cell_type": "code",
   "execution_count": 89,
   "id": "06d964fe",
   "metadata": {},
   "outputs": [
    {
     "data": {
      "text/plain": [
       "(200,)"
      ]
     },
     "execution_count": 89,
     "metadata": {},
     "output_type": "execute_result"
    }
   ],
   "source": [
    "vector.shape"
   ]
  },
  {
   "cell_type": "code",
   "execution_count": 90,
   "id": "fe2449dc",
   "metadata": {
    "scrolled": true
   },
   "outputs": [
    {
     "name": "stderr",
     "output_type": "stream",
     "text": [
      "C:\\Users\\USER\\AppData\\Local\\Temp\\ipykernel_6784\\1720389642.py:1: DeprecationWarning: Call to deprecated `similar_by_word` (Method will be removed in 4.0.0, use self.wv.similar_by_word() instead).\n",
      "  word2vec.similar_by_word(\"감상\")\n"
     ]
    },
    {
     "data": {
      "text/plain": [
       "[('담아내', 0.6166774034500122),\n",
       " ('오락', 0.5974898934364319),\n",
       " ('그려내', 0.5938379168510437),\n",
       " ('즐기', 0.5877716541290283),\n",
       " ('체험', 0.5859488248825073),\n",
       " ('창작', 0.5740566253662109),\n",
       " ('관람', 0.5717692971229553),\n",
       " ('풍자', 0.5715952515602112),\n",
       " ('회화', 0.5712409019470215),\n",
       " ('연출', 0.5610882639884949)]"
      ]
     },
     "execution_count": 90,
     "metadata": {},
     "output_type": "execute_result"
    }
   ],
   "source": [
    "word2vec.similar_by_word(\"감상\")"
   ]
  },
  {
   "cell_type": "markdown",
   "id": "8f92543d",
   "metadata": {},
   "source": [
    "word2vec을 이용하니 확실히 단어가 잘 나오는 것을 볼 수 있다."
   ]
  },
  {
   "cell_type": "markdown",
   "id": "6e444039",
   "metadata": {},
   "source": [
    "## 8. 한국어 Word2Vec 임베딩 활용하여 성능 개선하기"
   ]
  },
  {
   "cell_type": "markdown",
   "id": "548ed21d",
   "metadata": {},
   "source": [
    "#### 위에서 본 것처럼 word2vec의 성능이 더 좋아보이니 Embedding layer를 Word2Vec의 것으로 교체해서 학습시켜보자"
   ]
  },
  {
   "cell_type": "code",
   "execution_count": 91,
   "id": "da9b2dfa",
   "metadata": {
    "scrolled": true
   },
   "outputs": [
    {
     "name": "stderr",
     "output_type": "stream",
     "text": [
      "C:\\Users\\USER\\AppData\\Local\\Temp\\ipykernel_6784\\3154181007.py:7: DeprecationWarning: Call to deprecated `__contains__` (Method will be removed in 4.0.0, use self.wv.__contains__() instead).\n",
      "  if index_to_word[i] in word2vec:\n",
      "C:\\Users\\USER\\AppData\\Local\\Temp\\ipykernel_6784\\3154181007.py:8: DeprecationWarning: Call to deprecated `__getitem__` (Method will be removed in 4.0.0, use self.wv.__getitem__() instead).\n",
      "  embedding_matrix[i] = word2vec[index_to_word[i]]\n"
     ]
    }
   ],
   "source": [
    "vocab_size = 10000\n",
    "word_vector_dim = 200\n",
    "embedding_matrix = np.random.rand(vocab_size, word_vector_dim)\n",
    "\n",
    "#embedding_matrix에 Word2Vec 워드 벡터를 단어 하나씩마다 차례차례 카피한다.\n",
    "for i in range(6, vocab_size):\n",
    "    if index_to_word[i] in word2vec:\n",
    "        embedding_matrix[i] = word2vec[index_to_word[i]]"
   ]
  },
  {
   "cell_type": "markdown",
   "id": "e84cd98b",
   "metadata": {},
   "source": [
    "#### 모델 구성"
   ]
  },
  {
   "cell_type": "code",
   "execution_count": 99,
   "id": "283c99aa",
   "metadata": {},
   "outputs": [
    {
     "name": "stdout",
     "output_type": "stream",
     "text": [
      "Model: \"sequential_25\"\n",
      "_________________________________________________________________\n",
      " Layer (type)                Output Shape              Param #   \n",
      "=================================================================\n",
      " embedding_24 (Embedding)    (None, 33, 200)           2000000   \n",
      "                                                                 \n",
      " conv1d_30 (Conv1D)          (None, 29, 16)            16016     \n",
      "                                                                 \n",
      " max_pooling1d_18 (MaxPoolin  (None, 5, 16)            0         \n",
      " g1D)                                                            \n",
      "                                                                 \n",
      " conv1d_31 (Conv1D)          (None, 1, 16)             1296      \n",
      "                                                                 \n",
      " global_max_pooling1d_15 (Gl  (None, 16)               0         \n",
      " obalMaxPooling1D)                                               \n",
      "                                                                 \n",
      " dense_38 (Dense)            (None, 8)                 136       \n",
      "                                                                 \n",
      " dense_39 (Dense)            (None, 1)                 9         \n",
      "                                                                 \n",
      "=================================================================\n",
      "Total params: 2,017,457\n",
      "Trainable params: 2,017,457\n",
      "Non-trainable params: 0\n",
      "_________________________________________________________________\n"
     ]
    }
   ],
   "source": [
    "from tensorflow.keras.initializers import Constant\n",
    "\n",
    "vocab_size = 10000\n",
    "word_vector_dim = 200\n",
    "\n",
    "# word2vec 모델 0\n",
    "model = tf.keras.Sequential()\n",
    "model.add(tf.keras.layers.Embedding(vocab_size,\n",
    "                                   word_vector_dim,\n",
    "                                   embeddings_initializer = Constant(embedding_matrix),\n",
    "                                   input_length= max_len,\n",
    "                                   trainable = True\n",
    "                                   ))\n",
    "model.add(tf.keras.layers.Conv1D(16, 5, activation='relu'))\n",
    "model.add(tf.keras.layers.MaxPooling1D(5))\n",
    "model.add(tf.keras.layers.Conv1D(16, 5, activation='relu'))\n",
    "model.add(tf.keras.layers.GlobalMaxPooling1D())\n",
    "model.add(tf.keras.layers.Dense(8, activation='relu'))\n",
    "model.add(tf.keras.layers.Dense(1, activation='sigmoid'))\n",
    "\n",
    "model.summary()"
   ]
  },
  {
   "cell_type": "code",
   "execution_count": 100,
   "id": "1d17f337",
   "metadata": {
    "scrolled": true
   },
   "outputs": [
    {
     "name": "stdout",
     "output_type": "stream",
     "text": [
      "Model: \"sequential_26\"\n",
      "_________________________________________________________________\n",
      " Layer (type)                Output Shape              Param #   \n",
      "=================================================================\n",
      " embedding_25 (Embedding)    (None, 33, 200)           2000000   \n",
      "                                                                 \n",
      " lstm_4 (LSTM)               (None, 10)                8440      \n",
      "                                                                 \n",
      " dense_40 (Dense)            (None, 8)                 88        \n",
      "                                                                 \n",
      " dense_41 (Dense)            (None, 1)                 9         \n",
      "                                                                 \n",
      "=================================================================\n",
      "Total params: 2,008,537\n",
      "Trainable params: 2,008,537\n",
      "Non-trainable params: 0\n",
      "_________________________________________________________________\n"
     ]
    }
   ],
   "source": [
    "# word2vec 모델 4\n",
    "model4 = tf.keras.Sequential()\n",
    "model4.add(tf.keras.layers.Embedding(vocab_size,\n",
    "                                   word_vector_dim,\n",
    "                                   embeddings_initializer = Constant(embedding_matrix),\n",
    "                                   input_length= max_len,\n",
    "                                   trainable = True\n",
    "                                   ))\n",
    "model4.add(tf.keras.layers.LSTM(10))\n",
    "model4.add(tf.keras.layers.Dense(8, activation='relu'))\n",
    "model4.add(tf.keras.layers.Dense(1, activation='sigmoid'))\n",
    "\n",
    "model4.summary()"
   ]
  },
  {
   "cell_type": "code",
   "execution_count": 101,
   "id": "5f04b7f6",
   "metadata": {},
   "outputs": [
    {
     "name": "stdout",
     "output_type": "stream",
     "text": [
      "Model: \"sequential_27\"\n",
      "_________________________________________________________________\n",
      " Layer (type)                Output Shape              Param #   \n",
      "=================================================================\n",
      " embedding_26 (Embedding)    (None, 33, 200)           2000000   \n",
      "                                                                 \n",
      " global_max_pooling1d_16 (Gl  (None, 200)              0         \n",
      " obalMaxPooling1D)                                               \n",
      "                                                                 \n",
      " dense_42 (Dense)            (None, 8)                 1608      \n",
      "                                                                 \n",
      " dense_43 (Dense)            (None, 1)                 9         \n",
      "                                                                 \n",
      "=================================================================\n",
      "Total params: 2,001,617\n",
      "Trainable params: 2,001,617\n",
      "Non-trainable params: 0\n",
      "_________________________________________________________________\n"
     ]
    }
   ],
   "source": [
    "# word2vec 모델 5\n",
    "model5 = tf.keras.Sequential()\n",
    "model5.add(tf.keras.layers.Embedding(vocab_size,\n",
    "                                   word_vector_dim,\n",
    "                                   embeddings_initializer = Constant(embedding_matrix),\n",
    "                                   input_length= max_len,\n",
    "                                   trainable = True\n",
    "                                   ))\n",
    "model5.add(tf.keras.layers.GlobalMaxPooling1D())\n",
    "model5.add(tf.keras.layers.Dense(8, activation = 'relu'))\n",
    "model5.add(tf.keras.layers.Dense(1, activation= 'sigmoid'))\n",
    "\n",
    "model5.summary()"
   ]
  },
  {
   "cell_type": "markdown",
   "id": "d419e03b",
   "metadata": {},
   "source": [
    "#### 학습진행"
   ]
  },
  {
   "cell_type": "code",
   "execution_count": 102,
   "id": "40f49935",
   "metadata": {
    "scrolled": true
   },
   "outputs": [
    {
     "name": "stdout",
     "output_type": "stream",
     "text": [
      "Epoch 1/2\n",
      "227/227 [==============================] - 9s 38ms/step - loss: 0.6848 - accuracy: 0.5423 - val_loss: 0.6429 - val_accuracy: 0.6180\n",
      "Epoch 2/2\n",
      "227/227 [==============================] - 9s 39ms/step - loss: 0.5760 - accuracy: 0.6772 - val_loss: 0.5438 - val_accuracy: 0.7034\n"
     ]
    }
   ],
   "source": [
    "# word2vec 모델 0\n",
    "model.compile(optimizer='adam',\n",
    "             loss='binary_crossentropy',\n",
    "             metrics=['accuracy'])\n",
    "\n",
    "epochs= 2\n",
    "\n",
    "history = model.fit(partial_x_train,\n",
    "                   partial_y_train,\n",
    "                   epochs = epochs,\n",
    "                   batch_size=512,\n",
    "                   validation_data=(x_val, y_val),\n",
    "                   verbose=1)"
   ]
  },
  {
   "cell_type": "code",
   "execution_count": 103,
   "id": "b7ae930d",
   "metadata": {},
   "outputs": [
    {
     "name": "stdout",
     "output_type": "stream",
     "text": [
      "Epoch 1/2\n",
      "227/227 [==============================] - 11s 43ms/step - loss: 0.5873 - accuracy: 0.6743 - val_loss: 0.4503 - val_accuracy: 0.7956\n",
      "Epoch 2/2\n",
      "227/227 [==============================] - 10s 42ms/step - loss: 0.3875 - accuracy: 0.8306 - val_loss: 0.3737 - val_accuracy: 0.8350\n"
     ]
    }
   ],
   "source": [
    "# word2vec 모델 4\n",
    "model4.compile(optimizer='adam',\n",
    "             loss='binary_crossentropy',\n",
    "             metrics=['accuracy'])\n",
    "\n",
    "epochs= 2\n",
    "\n",
    "history4 = model4.fit(partial_x_train,\n",
    "                   partial_y_train,\n",
    "                   epochs = epochs,\n",
    "                   batch_size=512,\n",
    "                   validation_data=(x_val, y_val),\n",
    "                   verbose=1)"
   ]
  },
  {
   "cell_type": "code",
   "execution_count": 104,
   "id": "bc9a8d5a",
   "metadata": {},
   "outputs": [
    {
     "name": "stdout",
     "output_type": "stream",
     "text": [
      "Epoch 1/20\n",
      "227/227 [==============================] - 5s 21ms/step - loss: 0.6581 - accuracy: 0.6025 - val_loss: 0.5961 - val_accuracy: 0.6812\n",
      "Epoch 2/20\n",
      "227/227 [==============================] - 5s 20ms/step - loss: 0.5407 - accuracy: 0.7284 - val_loss: 0.4983 - val_accuracy: 0.7572\n",
      "Epoch 3/20\n",
      "227/227 [==============================] - 5s 20ms/step - loss: 0.4578 - accuracy: 0.7859 - val_loss: 0.4449 - val_accuracy: 0.7912\n",
      "Epoch 4/20\n",
      "227/227 [==============================] - 5s 21ms/step - loss: 0.4082 - accuracy: 0.8157 - val_loss: 0.4249 - val_accuracy: 0.8046\n",
      "Epoch 5/20\n",
      "227/227 [==============================] - 5s 21ms/step - loss: 0.3755 - accuracy: 0.8344 - val_loss: 0.4029 - val_accuracy: 0.8154\n",
      "Epoch 6/20\n",
      "227/227 [==============================] - 5s 21ms/step - loss: 0.3481 - accuracy: 0.8483 - val_loss: 0.3934 - val_accuracy: 0.8221\n",
      "Epoch 7/20\n",
      "227/227 [==============================] - 5s 21ms/step - loss: 0.3277 - accuracy: 0.8592 - val_loss: 0.3894 - val_accuracy: 0.8240\n",
      "Epoch 8/20\n",
      "227/227 [==============================] - 5s 21ms/step - loss: 0.3082 - accuracy: 0.8690 - val_loss: 0.3838 - val_accuracy: 0.8276\n",
      "Epoch 9/20\n",
      "227/227 [==============================] - 5s 21ms/step - loss: 0.2910 - accuracy: 0.8783 - val_loss: 0.3828 - val_accuracy: 0.8301\n",
      "Epoch 10/20\n",
      "227/227 [==============================] - 5s 21ms/step - loss: 0.2756 - accuracy: 0.8859 - val_loss: 0.3869 - val_accuracy: 0.8299\n",
      "Epoch 11/20\n",
      "227/227 [==============================] - 5s 21ms/step - loss: 0.2612 - accuracy: 0.8930 - val_loss: 0.3859 - val_accuracy: 0.8321\n",
      "Epoch 12/20\n",
      "227/227 [==============================] - 5s 21ms/step - loss: 0.2472 - accuracy: 0.9001 - val_loss: 0.3923 - val_accuracy: 0.8315\n",
      "Epoch 13/20\n",
      "227/227 [==============================] - 5s 21ms/step - loss: 0.2349 - accuracy: 0.9056 - val_loss: 0.3956 - val_accuracy: 0.8329\n",
      "Epoch 14/20\n",
      "227/227 [==============================] - 5s 21ms/step - loss: 0.2207 - accuracy: 0.9130 - val_loss: 0.4018 - val_accuracy: 0.8320\n",
      "Epoch 15/20\n",
      "227/227 [==============================] - 5s 21ms/step - loss: 0.2079 - accuracy: 0.9195 - val_loss: 0.4100 - val_accuracy: 0.8315\n",
      "Epoch 16/20\n",
      "227/227 [==============================] - 5s 22ms/step - loss: 0.1953 - accuracy: 0.9257 - val_loss: 0.4177 - val_accuracy: 0.8308\n",
      "Epoch 17/20\n",
      "227/227 [==============================] - 5s 23ms/step - loss: 0.1831 - accuracy: 0.9309 - val_loss: 0.4280 - val_accuracy: 0.8298\n",
      "Epoch 18/20\n",
      "227/227 [==============================] - 5s 23ms/step - loss: 0.1695 - accuracy: 0.9372 - val_loss: 0.4408 - val_accuracy: 0.8287\n",
      "Epoch 19/20\n",
      "227/227 [==============================] - 5s 24ms/step - loss: 0.1585 - accuracy: 0.9420 - val_loss: 0.4546 - val_accuracy: 0.8280\n",
      "Epoch 20/20\n",
      "227/227 [==============================] - 6s 25ms/step - loss: 0.1470 - accuracy: 0.9474 - val_loss: 0.4677 - val_accuracy: 0.8246\n"
     ]
    }
   ],
   "source": [
    "# word2vec 모델 5\n",
    "model5.compile(optimizer='adam',\n",
    "             loss='binary_crossentropy',\n",
    "             metrics=['accuracy'])\n",
    "\n",
    "epochs= 20\n",
    "\n",
    "history5 = model5.fit(partial_x_train,\n",
    "                   partial_y_train,\n",
    "                   epochs = epochs,\n",
    "                   batch_size=512,\n",
    "                   validation_data=(x_val, y_val),\n",
    "                   verbose=1)"
   ]
  },
  {
   "cell_type": "markdown",
   "id": "5e72da7a",
   "metadata": {},
   "source": [
    "####  모델 평가"
   ]
  },
  {
   "cell_type": "code",
   "execution_count": 107,
   "id": "8dd35c3b",
   "metadata": {
    "scrolled": true
   },
   "outputs": [
    {
     "name": "stdout",
     "output_type": "stream",
     "text": [
      "1537/1537 - 3s - loss: 0.3852 - accuracy: 0.8295 - 3s/epoch - 2ms/step\n",
      "1537/1537 - 2s - loss: 0.5481 - accuracy: 0.7041 - 2s/epoch - 1ms/step\n",
      "1537/1537 - 1s - loss: 0.4989 - accuracy: 0.8191 - 725ms/epoch - 472us/step\n",
      "# word2vec 모델 4 [0.3851950168609619, 0.8294851183891296]\n",
      "# word2vec 모델 0 [0.5481266975402832, 0.7040706276893616]\n",
      "# word2vec 모델 5 [0.4989331364631653, 0.8190898299217224]\n"
     ]
    }
   ],
   "source": [
    "results4 = model4.evaluate(X_test, y_test, verbose=2)\n",
    "results = model.evaluate(X_test, y_test, verbose=2)\n",
    "results5 = model5.evaluate(X_test, y_test, verbose=2)\n",
    "\n",
    "print('# word2vec 모델 4',results4)\n",
    "print('# word2vec 모델 0',results)\n",
    "print('# word2vec 모델 5',results5)"
   ]
  },
  {
   "cell_type": "markdown",
   "id": "83fadfac",
   "metadata": {},
   "source": [
    "#### 회고\n",
    "최종 정확도는 약 83%가 나왔다..<br>\n",
    "로컬에서 돌리려고 보니 윈도우에서 mecab을 지원하지 않는다고 해서 twitter 형태소 분석기를 썼다.\n",
    "확실히 실행속도는 mecab이 빠른 것 같다. <br>\n",
    "또 성능도 mecab이 좋은 것 같다. 이유는 모르겠지만, 같은 코드를 아이펠주피터에서 mecab으로 돌렸을 때와 로컬에서 twitter를 돌렸을 때 테스트셋 정확도에서 어떤 모델은 10 가까이 점수차이가 났다. <br><br>\n",
    "그래서 아이펠 서버로 word2vec도 돌려보려고 했지만, 자꾸 gensim으로 모델을 불러올 때 오류가 나서 끝까지 시도해보지 못했다. 노드에 있는대로 하면 유니코드가 바이트를 처리하지 못한다고 떠서 로컬에서는 해결됐던 방식으로 gensim 버전도 바꿔보고 모델을 불렀더니 attribute에러가 떠서 그냥 포기했다. <br><br>\n",
    "정확도가 85% 이상으로는 넘지 않아서 파라미터도 바꿔보고 모델 layer도 늘려보고 epoch도 바꿔보고 했지만,, 아무래도 노드와는 다른 분석기(twitter)의 사용과 한글이라는 점, 한글이라서 전처리가 미흡했다는 점 때문에 자꾸 낮게 나온게 아닌가 싶다.<br>\n",
    "(방금 찾아보니 어찌저찌 윈도우에서도 mecab을 설치할 수 있는 것 같은데...이건 다음에 해봐야겠다..)<br>\n",
    "영어는 애초에 라이브러리가 잘 되어 있어서 전처리가 깔끔하게 된 것 같은데 한국어는 함수로 만들어서 처리하려다 보니 전처리가 미흡한 것 같다. 단어들도 ',', '...', 'ㅋㅋ'이런 것들이 포함되어 있어서 더 처리를 해줘야 할 것 같다. 언젠간 정규화작업까지 함수로 만들어 봐야겠다.<br>"
   ]
  },
  {
   "cell_type": "code",
   "execution_count": null,
   "id": "11395751",
   "metadata": {},
   "outputs": [],
   "source": []
  }
 ],
 "metadata": {
  "kernelspec": {
   "display_name": "Python 3 (ipykernel)",
   "language": "python",
   "name": "python3"
  },
  "language_info": {
   "codemirror_mode": {
    "name": "ipython",
    "version": 3
   },
   "file_extension": ".py",
   "mimetype": "text/x-python",
   "name": "python",
   "nbconvert_exporter": "python",
   "pygments_lexer": "ipython3",
   "version": "3.8.8"
  }
 },
 "nbformat": 4,
 "nbformat_minor": 5
}
