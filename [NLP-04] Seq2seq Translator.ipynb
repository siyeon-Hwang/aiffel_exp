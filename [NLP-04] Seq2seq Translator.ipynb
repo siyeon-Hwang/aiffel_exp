{
 "cells": [
  {
   "cell_type": "markdown",
   "id": "7b8850b1",
   "metadata": {},
   "source": [
    "한영 번역기를 만든다."
   ]
  },
  {
   "cell_type": "markdown",
   "id": "48b64335",
   "metadata": {},
   "source": [
    "### 목차\n",
    "***\n",
    "1. 데이터 다운로드\n",
    "\t1. 한글 데이터 가져오기\n",
    "\t2. 영어 데이터 가져오기\n",
    "    \n",
    "2. 데이터 정제\n",
    "\t1. 데이터쌍 만들기\n",
    "\t2. 중복데이터 제거\n",
    "\t3. 정규식 함수 정의 및 토큰화\n",
    "\t4. 한글, 영어 corpus 구축\n",
    "3. 데이터 토큰화 _ tokenizer, tensor\n",
    "4. 모델 설계\n",
    "\t1. Bahdanau Attention\n",
    "\t2. Encoder-Decoder\n",
    "5. 훈련하기\n",
    "\t1. Optimizer & Loss\n",
    "\t2. train_step 구현\n",
    "\t3. 훈련시작\n",
    "\t4. 모델평가 및 시각화\n",
    "6. 회고"
   ]
  },
  {
   "cell_type": "markdown",
   "id": "9632d1dd",
   "metadata": {},
   "source": [
    "### 필요 모듈 불러오기"
   ]
  },
  {
   "cell_type": "code",
   "execution_count": 1,
   "id": "e06092f7",
   "metadata": {},
   "outputs": [
    {
     "name": "stdout",
     "output_type": "stream",
     "text": [
      "1.3.3\n",
      "2.6.0\n",
      "3.4.3\n"
     ]
    }
   ],
   "source": [
    "import pandas\n",
    "import tensorflow\n",
    "import matplotlib\n",
    "\n",
    "print(pandas.__version__)\n",
    "print(tensorflow.__version__)\n",
    "print(matplotlib.__version__)"
   ]
  },
  {
   "cell_type": "code",
   "execution_count": 2,
   "id": "b475d09a",
   "metadata": {},
   "outputs": [
    {
     "data": {
      "text/plain": [
       "'/usr/share/fonts/truetype/nanum/NanumBarunGothic.ttf'"
      ]
     },
     "execution_count": 2,
     "metadata": {},
     "output_type": "execute_result"
    }
   ],
   "source": [
    "import matplotlib as mpl\n",
    "import matplotlib.pyplot as plt\n",
    "\n",
    "%config InlineBackend.figure_format = 'retina'\n",
    "\n",
    "import matplotlib.font_manager as fm\n",
    "fontpath = '/usr/share/fonts/truetype/nanum/NanumBarunGothic.ttf'\n",
    "font = fm.FontProperties(fname=fontpath, size=9)\n",
    "plt.rc('font', family='NanumBarunGothic')\n",
    "mpl.font_manager.findfont(font)\n"
   ]
  },
  {
   "cell_type": "code",
   "execution_count": 3,
   "id": "f97700d1",
   "metadata": {},
   "outputs": [],
   "source": [
    "import tensorflow as tf\n",
    "import numpy as np\n",
    "\n",
    "import matplotlib.ticker as ticker\n",
    "import matplotlib.pyplot as plt\n",
    "\n",
    "import time\n",
    "import re\n",
    "import os\n",
    "import io"
   ]
  },
  {
   "cell_type": "markdown",
   "id": "61cfaa14",
   "metadata": {},
   "source": [
    "## Step 1. 데이터 다운로드\n",
    "아래 링크에서 korean-english-park.train.tar.gz 를 다운로드받아 한영 병렬 데이터를 확보\n",
    "\n",
    "- [jungyeul/korean-parallel-corpora](https://github.com/jungyeul/korean-parallel-corpora/tree/master/korean-english-news-v1)\n",
    "\n",
    "- [깃허브를 데이터 저장소처럼 활용하기](https://computer-science-student.tistory.com/297)"
   ]
  },
  {
   "cell_type": "code",
   "execution_count": 4,
   "id": "7649fbc2",
   "metadata": {},
   "outputs": [],
   "source": [
    "#!wget https://raw.githubusercontent.com/jungyeul/korean-parallel-corpora/master/korean-english-news-v1/korean-english-park.train.tar.gz\n",
    "#!tar -xzvf korean-english-park.train.tar.gz"
   ]
  },
  {
   "cell_type": "markdown",
   "id": "df671a72",
   "metadata": {},
   "source": [
    "### (1) 한글 데이터 가져오기"
   ]
  },
  {
   "cell_type": "code",
   "execution_count": 5,
   "id": "6148d209",
   "metadata": {},
   "outputs": [
    {
     "name": "stdout",
     "output_type": "stream",
     "text": [
      "Downloading data from https://raw.githubusercontent.com/jungyeul/korean-parallel-corpora/master/korean-english-news-v1/korean-english-park.train.tar.gz\n",
      "8724480/8718893 [==============================] - 0s 0us/step\n",
      "8732672/8718893 [==============================] - 0s 0us/step\n"
     ]
    }
   ],
   "source": [
    "path_to_zip_ko = tf.keras.utils.get_file('korean-english-park.train.tar.gz',\n",
    "                                     origin = 'https://raw.githubusercontent.com/jungyeul/korean-parallel-corpora/master/korean-english-news-v1/korean-english-park.train.tar.gz',\n",
    "                                     extract=True\n",
    "                                     )\n",
    "\n",
    "path_to_file_ko = os.path.dirname(path_to_zip_ko)+'/korean-english-park.train.ko'"
   ]
  },
  {
   "cell_type": "code",
   "execution_count": 6,
   "id": "b11af552",
   "metadata": {
    "scrolled": true
   },
   "outputs": [
    {
     "name": "stdout",
     "output_type": "stream",
     "text": [
      "Data Size: 94123\n",
      "Example:\n",
      ">> 개인용 컴퓨터 사용의 상당 부분은 \"이것보다 뛰어날 수 있느냐?\"\n",
      ">> 북한의 핵무기 계획을 포기하도록 하려는 압력이 거세지고 있는 가운데, 일본과 북한의 외교관들이 외교 관계를 정상화하려는 회담을 재개했다.\n",
      ">> \"경호 로보트가 침입자나 화재를 탐지하기 위해서 개인적으로, 그리고 전문적으로 사용되고 있습니다.\"\n",
      ">> 수자원부 당국은 논란이 되고 있고, 막대한 비용이 드는 이 사업에 대해 내년에 건설을 시작할 계획이다.\n",
      ">> 또한 근력 운동은 활발하게 걷는 것이나 최소한 20분 동안 뛰는 것과 같은 유산소 활동에서 얻는 운동 효과를 심장과 폐에 주지 않기 때문에, 연구학자들은 근력 운동이 심장에 큰 영향을 미치는지 여부에 대해 논쟁을 해왔다.\n"
     ]
    }
   ],
   "source": [
    "with open(path_to_file_ko, 'r') as f:\n",
    "    ko_raw = f.read().splitlines()\n",
    "    \n",
    "print('Data Size:', len(ko_raw))\n",
    "print('Example:')\n",
    "\n",
    "for sen in ko_raw[0:100][::20]:\n",
    "    print('>>', sen)"
   ]
  },
  {
   "cell_type": "markdown",
   "id": "33ab135c",
   "metadata": {},
   "source": [
    "### (2) 영어 데이터 가져오기"
   ]
  },
  {
   "cell_type": "code",
   "execution_count": 7,
   "id": "00459a2d",
   "metadata": {},
   "outputs": [],
   "source": [
    "path_to_zip_en = tf.keras.utils.get_file('korean-english-park.train.tar.gz',\n",
    "                                     origin = 'https://raw.githubusercontent.com/jungyeul/korean-parallel-corpora/master/korean-english-news-v1/korean-english-park.train.tar.gz',\n",
    "                                     extract=True\n",
    "                                     )\n",
    "\n",
    "path_to_file_en = os.path.dirname(path_to_zip_en)+'/korean-english-park.train.en'"
   ]
  },
  {
   "cell_type": "code",
   "execution_count": 8,
   "id": "273fcbe4",
   "metadata": {
    "scrolled": true
   },
   "outputs": [
    {
     "name": "stdout",
     "output_type": "stream",
     "text": [
      "Data Size: 94123\n",
      "Example:\n",
      ">> Much of personal computing is about \"can you top this?\"\n",
      ">> Amid mounting pressure on North Korea to abandon its nuclear weapons program Japanese and North Korean diplomats have resumed talks on normalizing diplomatic relations.\n",
      ">> “Guard robots are used privately and professionally to detect intruders or fire,” Karlsson said.\n",
      ">> Authorities from the Water Resources Ministry plan to begin construction next year on the controversial and hugely expensive project.\n",
      ">> Researchers also have debated whether weight-training has a big impact on the heart, since it does not give the heart and lungs the kind of workout they get from aerobic activities such as brisk walking or running for at least 20 minutes.\n"
     ]
    }
   ],
   "source": [
    "with open(path_to_file_en, 'r') as f:\n",
    "    en_raw = f.read().splitlines()\n",
    "    \n",
    "print('Data Size:', len(en_raw))\n",
    "print('Example:')\n",
    "\n",
    "for sen in en_raw[0:100][::20]:\n",
    "    print('>>', sen)"
   ]
  },
  {
   "cell_type": "code",
   "execution_count": 134,
   "id": "0e2234fc",
   "metadata": {},
   "outputs": [
    {
     "data": {
      "text/plain": [
       "['개인용 컴퓨터 사용의 상당 부분은 \"이것보다 뛰어날 수 있느냐?\"',\n",
       " '모든 광마우스와 마찬가지 로 이 광마우스도 책상 위에 놓는 마우스 패드를 필요로 하지 않는다.',\n",
       " '그러나 이것은 또한 책상도 필요로 하지 않는다.',\n",
       " '79.95달러하는 이 최첨단 무선 광마우스는 허공에서 팔목, 팔, 그외에 어떤 부분이든 그 움직임에따라 커서의 움직임을 조절하는 회전 운동 센서를 사용하고 있다.',\n",
       " '정보 관리들은 동남 아시아에서의 선박들에 대한 많은 (테러) 계획들이 실패로 돌아갔음을 밝혔으며, 세계 해상 교역량의 거의 3분의 1을 운송하는 좁은 해로인 말라카 해협이 테러 공격을 당하기 쉽다고 경고하고 있다.']"
      ]
     },
     "execution_count": 134,
     "metadata": {},
     "output_type": "execute_result"
    }
   ],
   "source": [
    "ko_raw[:5]"
   ]
  },
  {
   "cell_type": "markdown",
   "id": "2b257fd4",
   "metadata": {},
   "source": [
    "## Step 2. 데이터 정제\n",
    "1. zip으로 데이터 쌍을 만든다.\n",
    "2. 데이터 쌍의 중복 데이터 제거하고\n",
    "3. 데이터마다의 중복 데이터가 있으면 쌍 제거\n",
    "4. 제거한 데이터를 cleaned_corpus 저장\n",
    "----------\n",
    "\n",
    "5. 한글에 적용할 정규식 함수 재정의 + 토큰화\n",
    "6. 영어에 <start\\>토큰과 <end\\> 토큰 추가 + 토큰화\n",
    "7. eng_corpus, kor_corpus 각각 구축\n",
    "    - 토큰 길이가 40 이하인 데이터 선별"
   ]
  },
  {
   "cell_type": "markdown",
   "id": "dc8801f4",
   "metadata": {},
   "source": [
    "### (1) zip으로 데이터 쌍 만들기"
   ]
  },
  {
   "cell_type": "code",
   "execution_count": 26,
   "id": "95ed9b49",
   "metadata": {},
   "outputs": [],
   "source": [
    "corpus = []\n",
    "for pair in zip(ko_raw, en_raw):\n",
    "    #pair = list(pair)\n",
    "    corpus.append(pair)"
   ]
  },
  {
   "cell_type": "code",
   "execution_count": 137,
   "id": "f7c7dba5",
   "metadata": {},
   "outputs": [],
   "source": [
    "#corpus"
   ]
  },
  {
   "cell_type": "code",
   "execution_count": 28,
   "id": "1ac5b25f",
   "metadata": {},
   "outputs": [
    {
     "data": {
      "text/plain": [
       "94123"
      ]
     },
     "execution_count": 28,
     "metadata": {},
     "output_type": "execute_result"
    }
   ],
   "source": [
    "len(corpus)"
   ]
  },
  {
   "cell_type": "markdown",
   "id": "9449bc50",
   "metadata": {},
   "source": [
    "### (2) 데이터 쌍에서 중복 제거"
   ]
  },
  {
   "cell_type": "code",
   "execution_count": 44,
   "id": "002bcbf0",
   "metadata": {},
   "outputs": [],
   "source": [
    "corpus = set(corpus)"
   ]
  },
  {
   "cell_type": "code",
   "execution_count": 51,
   "id": "b3471ae2",
   "metadata": {},
   "outputs": [],
   "source": [
    "#corpus"
   ]
  },
  {
   "cell_type": "code",
   "execution_count": 46,
   "id": "f86dee64",
   "metadata": {
    "scrolled": true
   },
   "outputs": [
    {
     "data": {
      "text/plain": [
       "78968"
      ]
     },
     "execution_count": 46,
     "metadata": {},
     "output_type": "execute_result"
    }
   ],
   "source": [
    "len(corpus)"
   ]
  },
  {
   "cell_type": "markdown",
   "id": "4c03e011",
   "metadata": {},
   "source": [
    "### (3) 데이터마다의 중복데이터 있으면 제거_ 안함"
   ]
  },
  {
   "cell_type": "code",
   "execution_count": 47,
   "id": "64fd49fc",
   "metadata": {},
   "outputs": [
    {
     "data": {
      "text/plain": [
       "77591"
      ]
     },
     "execution_count": 47,
     "metadata": {},
     "output_type": "execute_result"
    }
   ],
   "source": [
    "only_ko = set(ko_raw)\n",
    "len(only_ko)"
   ]
  },
  {
   "cell_type": "code",
   "execution_count": 48,
   "id": "7a7f6833",
   "metadata": {},
   "outputs": [
    {
     "data": {
      "text/plain": [
       "75598"
      ]
     },
     "execution_count": 48,
     "metadata": {},
     "output_type": "execute_result"
    }
   ],
   "source": [
    "only_en = set(en_raw)\n",
    "len(only_en)"
   ]
  },
  {
   "cell_type": "markdown",
   "id": "e97c34a1",
   "metadata": {},
   "source": [
    "한글 데이터와 영어 데이터 각각 중복데이터가 약 1000개~3000개 갸량 더 있는데, 여기서 한글데이터의 중복을 제거하자니, 쌍으로 된 영어 데이터를 어떻게 선택할 지 문제고, 중복되는 영어는 제거해야 하는지도 의문이다. \n",
    "\n",
    "우선 데이터 정제 후 다시 쌍을 이뤄 중복을 제거해보자.\n",
    "\n",
    "### (4) 중복제거 데이터 저장"
   ]
  },
  {
   "cell_type": "code",
   "execution_count": 49,
   "id": "7664c741",
   "metadata": {},
   "outputs": [],
   "source": [
    "cleaned_corpus = list(corpus)"
   ]
  },
  {
   "cell_type": "code",
   "execution_count": 138,
   "id": "8e5783da",
   "metadata": {},
   "outputs": [
    {
     "data": {
      "text/plain": [
       "[('한 소녀가 기절하면 다른 소녀들이 뒤따르는', 'the teenagers check out just fine.'),\n",
       " ('그는 국가의 법이 제 구실을 못하고 일부 언론이 행정부와 흥정을 하지만 이제 비교적 언론의 자유가 존중되고 있다고 말했다.',\n",
       "  \"He noted that the courts don't work and some media outlets have made deals with the authorities. But there is now, he said, a relatively free press.\"),\n",
       " ('그러나 고릴라의 안전이 걱정된 몇 명의 경비대는 7일 다시 이 곳으로 돌아왔다.',\n",
       "  'Concerned about the fate of the gorillas, a few rangers returned Friday.')]"
      ]
     },
     "execution_count": 138,
     "metadata": {},
     "output_type": "execute_result"
    }
   ],
   "source": [
    "cleaned_corpus[:3]"
   ]
  },
  {
   "cell_type": "markdown",
   "id": "8cfc16bd",
   "metadata": {},
   "source": [
    "### (5) 한글에 적용할 정규식 함수 재정의 + 토큰화"
   ]
  },
  {
   "cell_type": "code",
   "execution_count": 54,
   "id": "b7244491",
   "metadata": {},
   "outputs": [],
   "source": [
    "from konlpy.tag import Mecab\n",
    "mecab = Mecab()"
   ]
  },
  {
   "cell_type": "code",
   "execution_count": 216,
   "id": "1b804e47",
   "metadata": {},
   "outputs": [],
   "source": [
    "def preprocess_kor(sentence):\n",
    "    sentence = sentence.lower()\n",
    "    sentence = re.sub(r'([?,!.])', r' \\1 ', sentence)\n",
    "    sentence = re.sub(r'([\" \"]+)', \" \", sentence)\n",
    "    \n",
    "    reg = re.compile('[^a-zㄱ-ㅎㅏ-ㅣ가-힣,?.! ]')\n",
    "    sentence = reg.sub('', sentence)\n",
    "    \n",
    "    return mecab.morphs(sentence)"
   ]
  },
  {
   "cell_type": "code",
   "execution_count": 217,
   "id": "716eda46",
   "metadata": {},
   "outputs": [
    {
     "data": {
      "text/plain": [
       "'imgd 는 내가 아무거나 쓴 것.'"
      ]
     },
     "execution_count": 217,
     "metadata": {},
     "output_type": "execute_result"
    }
   ],
   "source": [
    "b = 'IMGD 는 내가 아무거나 쓴 것.'\n",
    "b.lower()"
   ]
  },
  {
   "cell_type": "code",
   "execution_count": 218,
   "id": "f455dc84",
   "metadata": {},
   "outputs": [],
   "source": [
    "#preprocess_kor('그들의 생체 촉매 과정이 CO2를 기초적인 탄화수소인 C1(메탄, C2(에탄), C3(프로판)의 현태로 전환시켜 휘발유나 제트기 연료처럼 고품질 연료로 만드는데 활용할 수 있게 됐다.')"
   ]
  },
  {
   "cell_type": "code",
   "execution_count": 219,
   "id": "8a6989f9",
   "metadata": {},
   "outputs": [
    {
     "data": {
      "text/plain": [
       "['cnn',\n",
       " '자매',\n",
       " '방송',\n",
       " 'cnnibn',\n",
       " '은',\n",
       " '인도',\n",
       " '에서',\n",
       " '몇',\n",
       " '세기',\n",
       " '동안',\n",
       " '내려온',\n",
       " '복잡',\n",
       " '한',\n",
       " '사회',\n",
       " '구습',\n",
       " '인',\n",
       " '카스트',\n",
       " '계급',\n",
       " '질서',\n",
       " '가',\n",
       " '인정',\n",
       " '되',\n",
       " '는',\n",
       " '구자르',\n",
       " '주민',\n",
       " '일부',\n",
       " '가',\n",
       " '개',\n",
       " '지역',\n",
       " '에서',\n",
       " '발포',\n",
       " '하',\n",
       " '는',\n",
       " '경찰',\n",
       " '과',\n",
       " '충돌',\n",
       " '했',\n",
       " '다고',\n",
       " '보도',\n",
       " '했',\n",
       " '다',\n",
       " '.']"
      ]
     },
     "execution_count": 219,
     "metadata": {},
     "output_type": "execute_result"
    }
   ],
   "source": [
    "preprocess_kor('CNN 자매방송 CNN-IBN은 인도에서 몇 세기 동안 내려온 복잡한 사회 구습인 카스트 계급 질서가 인정되는 구자르 주민 일부가 4개 지역에서 발포하는 경찰과 충돌했다고 보도했다.')"
   ]
  },
  {
   "cell_type": "markdown",
   "id": "f89b06ea",
   "metadata": {},
   "source": [
    "### (6) 영어에 적용할 정규식 함수 + 토큰화"
   ]
  },
  {
   "cell_type": "code",
   "execution_count": 223,
   "id": "d856c63e",
   "metadata": {},
   "outputs": [],
   "source": [
    "def preprocess_eng(sentence):\n",
    "    sentence = sentence.lower()\n",
    "    \n",
    "    sentence = re.sub(r'([?,!.])', r' \\1 ', sentence)\n",
    "    sentence = re.sub(r'([\" \"]+)', \" \", sentence)\n",
    "    sentence = re.sub(r\"[^a-zA-Z?.!,]+\", \" \", sentence)\n",
    "    \n",
    "    sentence = '<start> ' + sentence\n",
    "    sentence += ' <end>'\n",
    "    \n",
    "    return sentence.split()"
   ]
  },
  {
   "cell_type": "code",
   "execution_count": 224,
   "id": "2fa5c39a",
   "metadata": {},
   "outputs": [],
   "source": [
    "#preprocess_eng('A German film fund said on Thursday it will grant subsidies worth 4.8 million euros ($6.5 million) for a controversial new film in which Tom Cruise plays a German hero executed for trying to kill Hitler.')"
   ]
  },
  {
   "cell_type": "code",
   "execution_count": 225,
   "id": "83610744",
   "metadata": {},
   "outputs": [
    {
     "data": {
      "text/plain": [
       "['<start>',\n",
       " 'members',\n",
       " 'of',\n",
       " 'the',\n",
       " 'gujjar',\n",
       " 'community',\n",
       " 'part',\n",
       " 'of',\n",
       " 'india',\n",
       " 's',\n",
       " 'centuries',\n",
       " 'old',\n",
       " ',',\n",
       " 'complex',\n",
       " 'social',\n",
       " 'caste',\n",
       " 'order',\n",
       " 'have',\n",
       " 'engaged',\n",
       " 'in',\n",
       " 'clashes',\n",
       " 'with',\n",
       " 'police',\n",
       " 'officers',\n",
       " ',',\n",
       " 'who',\n",
       " 'have',\n",
       " 'opened',\n",
       " 'fire',\n",
       " 'in',\n",
       " 'four',\n",
       " 'districts',\n",
       " ',',\n",
       " 'cnn',\n",
       " 's',\n",
       " 'sister',\n",
       " 'network',\n",
       " ',',\n",
       " 'cnn',\n",
       " 'ibn',\n",
       " 'reported',\n",
       " '.',\n",
       " '<end>']"
      ]
     },
     "execution_count": 225,
     "metadata": {},
     "output_type": "execute_result"
    }
   ],
   "source": [
    "preprocess_eng(\"Members of the Gujjar community part of India's centuries-old, complex social caste order have engaged in clashes with police officers, who have opened fire in four districts, CNN's sister network, CNN-IBN reported.\")"
   ]
  },
  {
   "cell_type": "markdown",
   "id": "c209141e",
   "metadata": {},
   "source": [
    "### (7) kor_corpus, eng_corpus 구축\n",
    "- cleaned_corpus 전처리하고\n",
    "- 다시 zip 해서\n",
    "- 토큰길이가 40 이하인 데이터만 kor_corpus, eng_corpus에 넣기"
   ]
  },
  {
   "cell_type": "code",
   "execution_count": 226,
   "id": "b4aa126c",
   "metadata": {},
   "outputs": [],
   "source": [
    "#preprocess_kor(cleaned_corpus[i][0])\n",
    "#preprocess_eng(cleaned_corpus[i][1])"
   ]
  },
  {
   "cell_type": "markdown",
   "id": "477a1ff8",
   "metadata": {},
   "source": [
    "#### cleaned_corpus 전처리 후 임시파일에 각각 저장"
   ]
  },
  {
   "cell_type": "code",
   "execution_count": 227,
   "id": "18222a28",
   "metadata": {},
   "outputs": [],
   "source": [
    "kor_temp = [preprocess_kor(cleaned_corpus[i][0]) for i in range(len(cleaned_corpus))]\n",
    "eng_temp = [preprocess_eng(cleaned_corpus[i][1]) for i in range(len(cleaned_corpus))]"
   ]
  },
  {
   "cell_type": "code",
   "execution_count": 228,
   "id": "b5d6129e",
   "metadata": {},
   "outputs": [
    {
     "data": {
      "text/plain": [
       "[['한', '소녀', '가', '기절', '하', '면', '다른', '소녀', '들', '이', '뒤따르', '는']]"
      ]
     },
     "execution_count": 228,
     "metadata": {},
     "output_type": "execute_result"
    }
   ],
   "source": [
    "kor_temp[:1]"
   ]
  },
  {
   "cell_type": "code",
   "execution_count": 229,
   "id": "262213bf",
   "metadata": {},
   "outputs": [
    {
     "data": {
      "text/plain": [
       "78968"
      ]
     },
     "execution_count": 229,
     "metadata": {},
     "output_type": "execute_result"
    }
   ],
   "source": [
    "len(kor_temp)"
   ]
  },
  {
   "cell_type": "code",
   "execution_count": 230,
   "id": "7bfcf437",
   "metadata": {},
   "outputs": [
    {
     "data": {
      "text/plain": [
       "78968"
      ]
     },
     "execution_count": 230,
     "metadata": {},
     "output_type": "execute_result"
    }
   ],
   "source": [
    "eng_temp\n",
    "len(eng_temp)"
   ]
  },
  {
   "cell_type": "markdown",
   "id": "c8167905",
   "metadata": {},
   "source": [
    "#### 임시파일 다시 zip "
   ]
  },
  {
   "cell_type": "code",
   "execution_count": 231,
   "id": "dfd99232",
   "metadata": {},
   "outputs": [],
   "source": [
    "corpus_temp = []\n",
    "for pair in zip(kor_temp, eng_temp):\n",
    "    corpus_temp.append(pair)"
   ]
  },
  {
   "cell_type": "code",
   "execution_count": 232,
   "id": "e7fe4bea",
   "metadata": {
    "scrolled": true
   },
   "outputs": [
    {
     "data": {
      "text/plain": [
       "[(['한', '소녀', '가', '기절', '하', '면', '다른', '소녀', '들', '이', '뒤따르', '는'],\n",
       "  ['<start>',\n",
       "   'the',\n",
       "   'teenagers',\n",
       "   'check',\n",
       "   'out',\n",
       "   'just',\n",
       "   'fine',\n",
       "   '.',\n",
       "   '<end>']),\n",
       " (['그',\n",
       "   '는',\n",
       "   '국가',\n",
       "   '의',\n",
       "   '법',\n",
       "   '이',\n",
       "   '제',\n",
       "   '구실',\n",
       "   '을',\n",
       "   '못',\n",
       "   '하',\n",
       "   '고',\n",
       "   '일부',\n",
       "   '언론',\n",
       "   '이',\n",
       "   '행정부',\n",
       "   '와',\n",
       "   '흥정',\n",
       "   '을',\n",
       "   '하',\n",
       "   '지만',\n",
       "   '이제',\n",
       "   '비교',\n",
       "   '적',\n",
       "   '언론',\n",
       "   '의',\n",
       "   '자유',\n",
       "   '가',\n",
       "   '존중',\n",
       "   '되',\n",
       "   '고',\n",
       "   '있',\n",
       "   '다고',\n",
       "   '말',\n",
       "   '했',\n",
       "   '다',\n",
       "   '.'],\n",
       "  ['<start>',\n",
       "   'he',\n",
       "   'noted',\n",
       "   'that',\n",
       "   'the',\n",
       "   'courts',\n",
       "   'don',\n",
       "   't',\n",
       "   'work',\n",
       "   'and',\n",
       "   'some',\n",
       "   'media',\n",
       "   'outlets',\n",
       "   'have',\n",
       "   'made',\n",
       "   'deals',\n",
       "   'with',\n",
       "   'the',\n",
       "   'authorities',\n",
       "   '.',\n",
       "   'but',\n",
       "   'there',\n",
       "   'is',\n",
       "   'now',\n",
       "   ',',\n",
       "   'he',\n",
       "   'said',\n",
       "   ',',\n",
       "   'a',\n",
       "   'relatively',\n",
       "   'free',\n",
       "   'press',\n",
       "   '.',\n",
       "   '<end>'])]"
      ]
     },
     "execution_count": 232,
     "metadata": {},
     "output_type": "execute_result"
    }
   ],
   "source": [
    "corpus_temp[:2]"
   ]
  },
  {
   "cell_type": "markdown",
   "id": "250ce1be",
   "metadata": {},
   "source": [
    "#### 토큰길이 40 이하인 데이터만 담기"
   ]
  },
  {
   "cell_type": "code",
   "execution_count": 233,
   "id": "9d192897",
   "metadata": {},
   "outputs": [],
   "source": [
    "cleaned_corpus2 = [corpus_temp[i] for i in range(len(corpus_temp)) if (len(corpus_temp[i][1])<=40) and (len(corpus_temp[i][0])<=40)]"
   ]
  },
  {
   "cell_type": "code",
   "execution_count": 234,
   "id": "696f41dc",
   "metadata": {},
   "outputs": [
    {
     "data": {
      "text/plain": [
       "[(['한', '소녀', '가', '기절', '하', '면', '다른', '소녀', '들', '이', '뒤따르', '는'],\n",
       "  ['<start>',\n",
       "   'the',\n",
       "   'teenagers',\n",
       "   'check',\n",
       "   'out',\n",
       "   'just',\n",
       "   'fine',\n",
       "   '.',\n",
       "   '<end>']),\n",
       " (['그',\n",
       "   '는',\n",
       "   '국가',\n",
       "   '의',\n",
       "   '법',\n",
       "   '이',\n",
       "   '제',\n",
       "   '구실',\n",
       "   '을',\n",
       "   '못',\n",
       "   '하',\n",
       "   '고',\n",
       "   '일부',\n",
       "   '언론',\n",
       "   '이',\n",
       "   '행정부',\n",
       "   '와',\n",
       "   '흥정',\n",
       "   '을',\n",
       "   '하',\n",
       "   '지만',\n",
       "   '이제',\n",
       "   '비교',\n",
       "   '적',\n",
       "   '언론',\n",
       "   '의',\n",
       "   '자유',\n",
       "   '가',\n",
       "   '존중',\n",
       "   '되',\n",
       "   '고',\n",
       "   '있',\n",
       "   '다고',\n",
       "   '말',\n",
       "   '했',\n",
       "   '다',\n",
       "   '.'],\n",
       "  ['<start>',\n",
       "   'he',\n",
       "   'noted',\n",
       "   'that',\n",
       "   'the',\n",
       "   'courts',\n",
       "   'don',\n",
       "   't',\n",
       "   'work',\n",
       "   'and',\n",
       "   'some',\n",
       "   'media',\n",
       "   'outlets',\n",
       "   'have',\n",
       "   'made',\n",
       "   'deals',\n",
       "   'with',\n",
       "   'the',\n",
       "   'authorities',\n",
       "   '.',\n",
       "   'but',\n",
       "   'there',\n",
       "   'is',\n",
       "   'now',\n",
       "   ',',\n",
       "   'he',\n",
       "   'said',\n",
       "   ',',\n",
       "   'a',\n",
       "   'relatively',\n",
       "   'free',\n",
       "   'press',\n",
       "   '.',\n",
       "   '<end>'])]"
      ]
     },
     "execution_count": 234,
     "metadata": {},
     "output_type": "execute_result"
    }
   ],
   "source": [
    "cleaned_corpus2[:2]"
   ]
  },
  {
   "cell_type": "code",
   "execution_count": 235,
   "id": "cb78a71e",
   "metadata": {
    "scrolled": true
   },
   "outputs": [
    {
     "data": {
      "text/plain": [
       "62970"
      ]
     },
     "execution_count": 235,
     "metadata": {},
     "output_type": "execute_result"
    }
   ],
   "source": [
    "len(cleaned_corpus2)"
   ]
  },
  {
   "cell_type": "markdown",
   "id": "0bb29121",
   "metadata": {},
   "source": [
    "#### zip 해제 후 kor_corpus, eng_corpus 구축"
   ]
  },
  {
   "cell_type": "code",
   "execution_count": 236,
   "id": "3edd5c65",
   "metadata": {},
   "outputs": [],
   "source": [
    "# zip 해제\n",
    "kor_corpus, eng_corpus = zip(*cleaned_corpus2)"
   ]
  },
  {
   "cell_type": "code",
   "execution_count": 237,
   "id": "703dff50",
   "metadata": {},
   "outputs": [],
   "source": [
    "# zip -> tuple 형태로 저장되므로 list로 다시 바꿔준다\n",
    "kor_corpus = list(kor_corpus)\n",
    "eng_corpus = list(eng_corpus)"
   ]
  },
  {
   "cell_type": "code",
   "execution_count": 238,
   "id": "db072e10",
   "metadata": {},
   "outputs": [
    {
     "name": "stdout",
     "output_type": "stream",
     "text": [
      "[['한', '소녀', '가', '기절', '하', '면', '다른', '소녀', '들', '이', '뒤따르', '는']]\n",
      "[['<start>', 'the', 'teenagers', 'check', 'out', 'just', 'fine', '.', '<end>']]\n"
     ]
    }
   ],
   "source": [
    "print(kor_corpus[:1])\n",
    "print(eng_corpus[:1])"
   ]
  },
  {
   "cell_type": "markdown",
   "id": "9429df60",
   "metadata": {},
   "source": [
    "## Step 3. 데이터 토큰화\n",
    "tokenize 함수를 정의하고, 이를 이용해 데이터를 텐서로 변환한다. 또한 각각의 tokenizer를 얻는다. \n",
    "\n",
    "단어의 수는 실험을 통해 적당한 값을 맞춰주도록 한다. (최소 10,000 이상)\n",
    "\n",
    "난이도에 비해 데이터가 많지 않으므로 훈련 데이터와 검증 데이터를 따로 나누지 않는다."
   ]
  },
  {
   "cell_type": "code",
   "execution_count": 248,
   "id": "58691cf5",
   "metadata": {},
   "outputs": [],
   "source": [
    "def tokenize(corpus):\n",
    "    tokenizer = tf.keras.preprocessing.text.Tokenizer(num_words=10000,\n",
    "                                                      filters='')\n",
    "    tokenizer.fit_on_texts(corpus)\n",
    "    \n",
    "    tensor = tokenizer.texts_to_sequences(corpus)\n",
    "    \n",
    "    tensor = tf.keras.preprocessing.sequence.pad_sequences(tensor,\n",
    "                                                          padding='post')\n",
    "    \n",
    "    return tensor, tokenizer"
   ]
  },
  {
   "cell_type": "code",
   "execution_count": 249,
   "id": "bd99604e",
   "metadata": {
    "scrolled": true
   },
   "outputs": [
    {
     "name": "stdout",
     "output_type": "stream",
     "text": [
      "Korean Vocab Size: 44413\n",
      "English Vocab Size: 38454\n"
     ]
    }
   ],
   "source": [
    "# 토큰화 하기\n",
    "enc_tensor, enc_tokenizer = tokenize(kor_corpus)\n",
    "dec_tensor, dec_tokenizer = tokenize(eng_corpus)\n",
    "\n",
    "print('Korean Vocab Size:', len(enc_tokenizer.index_word))\n",
    "print('English Vocab Size:', len(dec_tokenizer.index_word))"
   ]
  },
  {
   "cell_type": "code",
   "execution_count": 250,
   "id": "4de846bd",
   "metadata": {},
   "outputs": [
    {
     "data": {
      "text/plain": [
       "{1: '.',\n",
       " 2: '다',\n",
       " 3: '이',\n",
       " 4: '는',\n",
       " 5: '을',\n",
       " 6: '의',\n",
       " 7: '은',\n",
       " 8: '에',\n",
       " 9: '했',\n",
       " 10: '를',\n",
       " 11: '하',\n",
       " 12: '가',\n",
       " 13: '있',\n",
       " 14: '들',\n",
       " 15: '에서',\n",
       " 16: '고',\n",
       " 17: ',',\n",
       " 18: '한',\n",
       " 19: '다고',\n",
       " 20: '으로',\n",
       " 21: '것',\n",
       " 22: '로',\n",
       " 23: '그',\n",
       " 24: '일',\n",
       " 25: '과',\n",
       " 26: '인',\n",
       " 27: '명',\n",
       " 28: '와',\n",
       " 29: '지',\n",
       " 30: '말',\n",
       " 31: '었',\n",
       " 32: '적',\n",
       " 33: '기',\n",
       " 34: '라고',\n",
       " 35: '년',\n",
       " 36: '할',\n",
       " 37: '도',\n",
       " 38: '되',\n",
       " 39: '밝혔',\n",
       " 40: '수',\n",
       " 41: '않',\n",
       " 42: '된',\n",
       " 43: '미국',\n",
       " 44: '게',\n",
       " 45: '대통령',\n",
       " 46: '만',\n",
       " 47: '됐',\n",
       " 48: '습니다',\n",
       " 49: '해',\n",
       " 50: '시간',\n",
       " 51: '았',\n",
       " 52: '에게',\n",
       " 53: '어',\n",
       " 54: '전',\n",
       " 55: '던',\n",
       " 56: '중',\n",
       " 57: '받',\n",
       " 58: '월',\n",
       " 59: '며',\n",
       " 60: '이번',\n",
       " 61: '정부',\n",
       " 62: '대한',\n",
       " 63: '전했',\n",
       " 64: '위해',\n",
       " 65: '현지',\n",
       " 66: '지난',\n",
       " 67: '없',\n",
       " 68: '주',\n",
       " 69: '경찰',\n",
       " 70: '까지',\n",
       " 71: '이라크',\n",
       " 72: '지만',\n",
       " 73: '대해',\n",
       " 74: '지역',\n",
       " 75: '사람',\n",
       " 76: '될',\n",
       " 77: '그러나',\n",
       " 78: '면',\n",
       " 79: '중국',\n",
       " 80: '발생',\n",
       " 81: '자',\n",
       " 82: '한다',\n",
       " 83: '미',\n",
       " 84: '아',\n",
       " 85: '달러',\n",
       " 86: '자신',\n",
       " 87: '북한',\n",
       " 88: '한편',\n",
       " 89: '주장',\n",
       " 90: '사망',\n",
       " 91: '다는',\n",
       " 92: '예정',\n",
       " 93: '다른',\n",
       " 94: '같',\n",
       " 95: '나',\n",
       " 96: '으며',\n",
       " 97: '더',\n",
       " 98: '대',\n",
       " 99: '총리',\n",
       " 100: '영국',\n",
       " 101: '대변인',\n",
       " 102: '세계',\n",
       " 103: '보',\n",
       " 104: '발표',\n",
       " 105: '조사',\n",
       " 106: '테러',\n",
       " 107: '이후',\n",
       " 108: '개',\n",
       " 109: '오바마',\n",
       " 110: '간',\n",
       " 111: '성',\n",
       " 112: '번',\n",
       " 113: '후',\n",
       " 114: '다며',\n",
       " 115: '한국',\n",
       " 116: '두',\n",
       " 117: '후보',\n",
       " 118: '또',\n",
       " 119: '문제',\n",
       " 120: '우리',\n",
       " 121: '약',\n",
       " 122: '장관',\n",
       " 123: '많',\n",
       " 124: '내',\n",
       " 125: '등',\n",
       " 126: '사건',\n",
       " 127: '보도',\n",
       " 128: '동안',\n",
       " 129: '의원',\n",
       " 130: '한다고',\n",
       " 131: '이상',\n",
       " 132: '관련',\n",
       " 133: '군',\n",
       " 134: '국가',\n",
       " 135: '부시',\n",
       " 136: '가장',\n",
       " 137: '안',\n",
       " 138: '시작',\n",
       " 139: '공격',\n",
       " 140: '설명',\n",
       " 141: '일본',\n",
       " 142: '현재',\n",
       " 143: '위한',\n",
       " 144: '라는',\n",
       " 145: '때',\n",
       " 146: '회담',\n",
       " 147: '경기',\n",
       " 148: '통해',\n",
       " 149: '세',\n",
       " 150: '계획',\n",
       " 151: '했으며',\n",
       " 152: '면서',\n",
       " 153: '된다',\n",
       " 154: '또한',\n",
       " 155: '미군',\n",
       " 156: '혐의',\n",
       " 157: '였',\n",
       " 158: '관계자',\n",
       " 159: '알',\n",
       " 160: '보다',\n",
       " 161: '경제',\n",
       " 162: '발견',\n",
       " 163: '영화',\n",
       " 164: '당국',\n",
       " 165: '덧붙였',\n",
       " 166: '당',\n",
       " 167: '선거',\n",
       " 168: 'the',\n",
       " 169: '입니다',\n",
       " 170: '일부',\n",
       " 171: '원',\n",
       " 172: '사용',\n",
       " 173: '폭탄',\n",
       " 174: '최근',\n",
       " 175: '부터',\n",
       " 176: '시',\n",
       " 177: '때문',\n",
       " 178: '기자',\n",
       " 179: '이스라엘',\n",
       " 180: '억',\n",
       " 181: '국제',\n",
       " 182: '계속',\n",
       " 183: '여성',\n",
       " 184: '째',\n",
       " 185: '결과',\n",
       " 186: '아니',\n",
       " 187: '포함',\n",
       " 188: '겠',\n",
       " 189: '결정',\n",
       " 190: '비난',\n",
       " 191: '단체',\n",
       " 192: '아이',\n",
       " 193: '시장',\n",
       " 194: '가능',\n",
       " 195: '파키스탄',\n",
       " 196: '방문',\n",
       " 197: '따르',\n",
       " 198: '여',\n",
       " 199: '살',\n",
       " 200: '사고',\n",
       " 201: '기록',\n",
       " 202: '라',\n",
       " 203: '경우',\n",
       " 204: '해야',\n",
       " 205: '모두',\n",
       " 206: '요구',\n",
       " 207: '도록',\n",
       " 208: '데',\n",
       " 209: '위',\n",
       " 210: '당시',\n",
       " 211: '입',\n",
       " 212: '사실',\n",
       " 213: '바',\n",
       " 214: '모든',\n",
       " 215: '함께',\n",
       " 216: '달',\n",
       " 217: '오',\n",
       " 218: '그리고',\n",
       " 219: '회사',\n",
       " 220: '곳',\n",
       " 221: '상원',\n",
       " 222: '처음',\n",
       " 223: '프랑스',\n",
       " 224: '이란',\n",
       " 225: '원문',\n",
       " 226: '및',\n",
       " 227: '생각',\n",
       " 228: '러시아',\n",
       " 229: '뒤',\n",
       " 230: '화',\n",
       " 231: '핵',\n",
       " 232: '새로운',\n",
       " 233: '아직',\n",
       " 234: '팀',\n",
       " 235: '연구',\n",
       " 236: '몇',\n",
       " 237: '그녀',\n",
       " 238: '클린턴',\n",
       " 239: '사',\n",
       " 240: '관계',\n",
       " 241: '지원',\n",
       " 242: '대선',\n",
       " 243: 'cnn',\n",
       " 244: '측',\n",
       " 245: '지난해',\n",
       " 246: '관리',\n",
       " 247: '시키',\n",
       " 248: '부상',\n",
       " 249: '올해',\n",
       " 250: '지도자',\n",
       " 251: '필요',\n",
       " 252: '체포',\n",
       " 253: '병원',\n",
       " 254: '돼',\n",
       " 255: '왔',\n",
       " 256: '큰',\n",
       " 257: '시위',\n",
       " 258: '승리',\n",
       " 259: '뉴욕',\n",
       " 260: '상황',\n",
       " 261: 'to',\n",
       " 262: '민주당',\n",
       " 263: '유엔',\n",
       " 264: '이날',\n",
       " 265: '상태',\n",
       " 266: '열린',\n",
       " 267: '피해',\n",
       " 268: '좋',\n",
       " 269: '확인',\n",
       " 270: '위원회',\n",
       " 271: '위치',\n",
       " 272: '가족',\n",
       " 273: '대부분',\n",
       " 274: '의회',\n",
       " 275: '무장',\n",
       " 276: '투표',\n",
       " 277: '씨',\n",
       " 278: '차',\n",
       " 279: '대표',\n",
       " 280: '공개',\n",
       " 281: '합의',\n",
       " 282: '이나',\n",
       " 283: '다시',\n",
       " 284: '규모',\n",
       " 285: '사태',\n",
       " 286: '?',\n",
       " 287: 'of',\n",
       " 288: '주민',\n",
       " 289: '따라',\n",
       " 290: '상',\n",
       " 291: '분',\n",
       " 292: '집',\n",
       " 293: '차량',\n",
       " 294: '유럽',\n",
       " 295: '다음',\n",
       " 296: '아프간',\n",
       " 297: '도시',\n",
       " 298: '조치',\n",
       " 299: '우주',\n",
       " 300: '찾',\n",
       " 301: '예상',\n",
       " 302: '길',\n",
       " 303: '비',\n",
       " 304: '타',\n",
       " 305: '권',\n",
       " 306: '첫',\n",
       " 307: '협상',\n",
       " 308: '방송',\n",
       " 309: '지지',\n",
       " 310: '증가',\n",
       " 311: '기사',\n",
       " 312: '얻',\n",
       " 313: '최고',\n",
       " 314: '높',\n",
       " 315: '정치',\n",
       " 316: '국민',\n",
       " 317: '앞',\n",
       " 318: '정보',\n",
       " 319: '법원',\n",
       " 320: '활동',\n",
       " 321: '프로그램',\n",
       " 322: '진행',\n",
       " 323: '존',\n",
       " 324: '오늘',\n",
       " 325: '서',\n",
       " 326: '앞서',\n",
       " 327: '는데',\n",
       " 328: '인해',\n",
       " 329: '만들',\n",
       " 330: '실시',\n",
       " 331: '성명',\n",
       " 332: '선수',\n",
       " 333: '의해',\n",
       " 334: '는지',\n",
       " 335: '중단',\n",
       " 336: '이미',\n",
       " 337: '은행',\n",
       " 338: '합니다',\n",
       " 339: 'joins',\n",
       " 340: '탈레반',\n",
       " 341: '반대',\n",
       " 342: '감독',\n",
       " 343: '사회',\n",
       " 344: '가지',\n",
       " 345: '내용',\n",
       " 346: '채',\n",
       " 347: '가운데',\n",
       " 348: '남자',\n",
       " 349: '거나',\n",
       " 350: '날',\n",
       " 351: '호주',\n",
       " 352: '언급',\n",
       " 353: '불',\n",
       " 354: '못했',\n",
       " 355: '대학',\n",
       " 356: '로부터',\n",
       " 357: '라며',\n",
       " 358: '학생',\n",
       " 359: '올림픽',\n",
       " 360: '평화',\n",
       " 361: '줄',\n",
       " 362: '통신',\n",
       " 363: '보고서',\n",
       " 364: '개월',\n",
       " 365: '갖',\n",
       " 366: '남부',\n",
       " 367: '사진',\n",
       " 368: 'km',\n",
       " 369: '자동차',\n",
       " 370: '이용',\n",
       " 371: '인터넷',\n",
       " 372: '주요',\n",
       " 373: '소속',\n",
       " 374: '요청',\n",
       " 375: '팔레스타인',\n",
       " 376: 'tv',\n",
       " 377: '사이',\n",
       " 378: '표',\n",
       " 379: '세력',\n",
       " 380: '이슬람',\n",
       " 381: '지수',\n",
       " 382: '가격',\n",
       " 383: '정상',\n",
       " 384: '상승',\n",
       " 385: '처럼',\n",
       " 386: '회의',\n",
       " 387: '금융',\n",
       " 388: '독일',\n",
       " 389: '지금',\n",
       " 390: '밖',\n",
       " 391: '정도',\n",
       " 392: '폭발',\n",
       " 393: '터키',\n",
       " 394: '언론',\n",
       " 395: '건물',\n",
       " 396: '전쟁',\n",
       " 397: '인도',\n",
       " 398: '용의자',\n",
       " 399: '개발',\n",
       " 400: '추가',\n",
       " 401: '하락',\n",
       " 402: '석방',\n",
       " 403: '우려',\n",
       " 404: '공항',\n",
       " 405: '했었',\n",
       " 406: '제',\n",
       " 407: '지적',\n",
       " 408: 'in',\n",
       " 409: '초',\n",
       " 410: 'a',\n",
       " 411: '반군',\n",
       " 412: '작업',\n",
       " 413: '인근',\n",
       " 414: '노력',\n",
       " 415: '학교',\n",
       " 416: '보이',\n",
       " 417: '모습',\n",
       " 418: '정책',\n",
       " 419: '스',\n",
       " 420: '조지',\n",
       " 421: '매케인',\n",
       " 422: '이유',\n",
       " 423: '중요',\n",
       " 424: '반',\n",
       " 425: '하나',\n",
       " 426: '법',\n",
       " 427: '공화',\n",
       " 428: '살해',\n",
       " 429: '공식',\n",
       " 430: '차례',\n",
       " 431: '의사',\n",
       " 432: '인터뷰',\n",
       " 433: '매우',\n",
       " 434: '참석',\n",
       " 435: '이전',\n",
       " 436: '사망자',\n",
       " 437: '방법',\n",
       " 438: '위기',\n",
       " 439: '전문가',\n",
       " 440: '소식',\n",
       " 441: '친구',\n",
       " 442: '제공',\n",
       " 443: '납치',\n",
       " 444: '도착',\n",
       " 445: '성공',\n",
       " 446: '연방',\n",
       " 447: '사이트',\n",
       " 448: '기술',\n",
       " 449: '대회',\n",
       " 450: '여러',\n",
       " 451: '총',\n",
       " 452: '부인',\n",
       " 453: '오후',\n",
       " 454: '수도',\n",
       " 455: '구조',\n",
       " 456: '백악관',\n",
       " 457: '뉴스',\n",
       " 458: '변호사',\n",
       " 459: '자살',\n",
       " 460: '남성',\n",
       " 461: '물',\n",
       " 462: '크',\n",
       " 463: '판매',\n",
       " 464: '해결',\n",
       " 465: '행사',\n",
       " 466: '바그다드',\n",
       " 467: '변화',\n",
       " 468: '자금',\n",
       " 469: '부',\n",
       " 470: '위협',\n",
       " 471: '이름',\n",
       " 472: '잘',\n",
       " 473: 'ap',\n",
       " 474: '남',\n",
       " 475: '보호',\n",
       " 476: '검찰',\n",
       " 477: '현장',\n",
       " 478: '강조',\n",
       " 479: '인질',\n",
       " 480: '위험',\n",
       " 481: '어떤',\n",
       " 482: '건강',\n",
       " 483: '최소',\n",
       " 484: '조직',\n",
       " 485: '점',\n",
       " 486: '떨어진',\n",
       " 487: '준비',\n",
       " 488: '거래',\n",
       " 489: '런던',\n",
       " 490: '기간',\n",
       " 491: '는다',\n",
       " 492: '법안',\n",
       " 493: '드',\n",
       " 494: '시켰',\n",
       " 495: '밤',\n",
       " 496: '작전',\n",
       " 497: '북부',\n",
       " 498: '새',\n",
       " 499: '시설',\n",
       " 500: '포인트',\n",
       " 501: '인정',\n",
       " 502: '독해',\n",
       " 503: '지구',\n",
       " 504: '야당',\n",
       " 505: '오전',\n",
       " 506: '박사',\n",
       " 507: '거의',\n",
       " 508: '네',\n",
       " 509: '노',\n",
       " 510: '인쇄',\n",
       " 511: '배',\n",
       " 512: '판결',\n",
       " 513: '운동',\n",
       " 514: '마지막',\n",
       " 515: '군사',\n",
       " 516: '미얀마',\n",
       " 517: '그것',\n",
       " 518: '직원',\n",
       " 519: '막',\n",
       " 520: '역사',\n",
       " 521: '맞',\n",
       " 522: '업체',\n",
       " 523: '센터',\n",
       " 524: '워싱턴',\n",
       " 525: '안전',\n",
       " 526: '컴퓨터',\n",
       " 527: '아시아',\n",
       " 528: '하지만',\n",
       " 529: '시민',\n",
       " 530: '회견',\n",
       " 531: '이러',\n",
       " 532: '폭력',\n",
       " 533: '생산',\n",
       " 534: '기업',\n",
       " 535: '치료',\n",
       " 536: '스페인',\n",
       " 537: '차지',\n",
       " 538: '논의',\n",
       " 539: '경고',\n",
       " 540: '유지',\n",
       " 541: '산업',\n",
       " 542: '입장',\n",
       " 543: '검사',\n",
       " 544: '장',\n",
       " 545: '지방',\n",
       " 546: '연기',\n",
       " 547: '끝',\n",
       " 548: '마리',\n",
       " 549: '지난달',\n",
       " 550: '한다는',\n",
       " 551: '여론',\n",
       " 552: '주지사',\n",
       " 553: '했으나',\n",
       " 554: '웹',\n",
       " 555: '여자',\n",
       " 556: '영향',\n",
       " 557: '없이',\n",
       " 558: '조',\n",
       " 559: '시위대',\n",
       " 560: '충돌',\n",
       " 561: '속',\n",
       " 562: '힐러리',\n",
       " 563: '금지',\n",
       " 564: '비행기',\n",
       " 565: '못하',\n",
       " 566: '뿐',\n",
       " 567: '서울',\n",
       " 568: '지진',\n",
       " 569: '출신',\n",
       " 570: '전망',\n",
       " 571: '동영상',\n",
       " 572: '거부',\n",
       " 573: '알려졌',\n",
       " 574: '제안',\n",
       " 575: '이런',\n",
       " 576: '됐으며',\n",
       " 577: '무샤라프',\n",
       " 578: '으나',\n",
       " 579: '교수',\n",
       " 580: '치',\n",
       " 581: '행위',\n",
       " 582: '싶',\n",
       " 583: '이탈리아',\n",
       " 584: '부족',\n",
       " 585: '발사',\n",
       " 586: '감소',\n",
       " 587: '최초',\n",
       " 588: '촉구',\n",
       " 589: '동물',\n",
       " 590: '과정',\n",
       " 591: '음',\n",
       " 592: '이곳',\n",
       " 593: '호텔',\n",
       " 594: '연설',\n",
       " 595: '여행',\n",
       " 596: '미국인',\n",
       " 597: '용',\n",
       " 598: '경선',\n",
       " 599: '으로부터',\n",
       " 600: '베이징',\n",
       " 601: '재',\n",
       " 602: '발언',\n",
       " 603: '수사',\n",
       " 604: '미사일',\n",
       " 605: '하루',\n",
       " 606: '보였',\n",
       " 607: '공급',\n",
       " 608: '보안',\n",
       " 609: '통과',\n",
       " 610: '아들',\n",
       " 611: '전화',\n",
       " 612: '여부',\n",
       " 613: '총선',\n",
       " 614: '버락',\n",
       " 615: '야',\n",
       " 616: '팔',\n",
       " 617: '국경',\n",
       " 618: '해서',\n",
       " 619: '최대',\n",
       " 620: '불법',\n",
       " 621: '보인다',\n",
       " 622: '게임',\n",
       " 623: '잃',\n",
       " 624: '우승',\n",
       " 625: '자유',\n",
       " 626: '알카에다',\n",
       " 627: '나라',\n",
       " 628: '운영',\n",
       " 629: '출연',\n",
       " 630: '보여',\n",
       " 631: '마을',\n",
       " 632: '어린이',\n",
       " 633: '선고',\n",
       " 634: '서비스',\n",
       " 635: '목표',\n",
       " 636: '열',\n",
       " 637: '폐쇄',\n",
       " 638: '부토',\n",
       " 639: '도움',\n",
       " 640: '계',\n",
       " 641: '넘',\n",
       " 642: '유명',\n",
       " 643: '아프가니스탄',\n",
       " 644: '생활',\n",
       " 645: '볼',\n",
       " 646: '고위',\n",
       " 647: '열리',\n",
       " 648: '화재',\n",
       " 649: '벌이',\n",
       " 650: '반면',\n",
       " 651: '심각',\n",
       " 652: '가진',\n",
       " 653: '행동',\n",
       " 654: '거리',\n",
       " 655: '보내',\n",
       " 656: '시도',\n",
       " 657: '한국인',\n",
       " 658: '잡',\n",
       " 659: '아침',\n",
       " 660: '추정',\n",
       " 661: '아버지',\n",
       " 662: '대사',\n",
       " 663: '숨졌',\n",
       " 664: '많이',\n",
       " 665: '돈',\n",
       " 666: '결혼',\n",
       " 667: '제작',\n",
       " 668: '딸',\n",
       " 669: '함',\n",
       " 670: '밝히',\n",
       " 671: '일간',\n",
       " 672: '니',\n",
       " 673: '골',\n",
       " 674: '철수',\n",
       " 675: '병력',\n",
       " 676: '하마스',\n",
       " 677: '무기',\n",
       " 678: '된다고',\n",
       " 679: '회장',\n",
       " 680: '구성',\n",
       " 681: '시신',\n",
       " 682: '기소',\n",
       " 683: '환경',\n",
       " 684: '기구',\n",
       " 685: '개인',\n",
       " 686: '이것',\n",
       " 687: '도로',\n",
       " 688: '원인',\n",
       " 689: '수상',\n",
       " 690: '대해서',\n",
       " 691: '저',\n",
       " 692: '자리',\n",
       " 693: '진',\n",
       " 694: '출전',\n",
       " 695: '여명',\n",
       " 696: '놓',\n",
       " 697: '버스',\n",
       " 698: '같이',\n",
       " 699: '이제',\n",
       " 700: '참여',\n",
       " 701: '기상',\n",
       " 702: '려는',\n",
       " 703: '성장',\n",
       " 704: '하원',\n",
       " 705: '공동',\n",
       " 706: '대상',\n",
       " 707: '의장',\n",
       " 708: '캘리포니아',\n",
       " 709: '주둔',\n",
       " 710: '산',\n",
       " 711: '건',\n",
       " 712: '전체',\n",
       " 713: '지지자',\n",
       " 714: '지난주',\n",
       " 715: '인권',\n",
       " 716: '의하',\n",
       " 717: 'for',\n",
       " 718: '인한',\n",
       " 719: '약어',\n",
       " 720: '신문',\n",
       " 721: '레바논',\n",
       " 722: '과학자',\n",
       " 723: '주택',\n",
       " 724: '작',\n",
       " 725: '확보',\n",
       " 726: '위원장',\n",
       " 727: '재판',\n",
       " 728: '티베트',\n",
       " 729: '관한',\n",
       " 730: '기대',\n",
       " 731: '질문',\n",
       " 732: '비행',\n",
       " 733: '결국',\n",
       " 734: '강',\n",
       " 735: '국회',\n",
       " 736: '승인',\n",
       " 737: '신',\n",
       " 738: '당신',\n",
       " 739: '강화',\n",
       " 740: '약속',\n",
       " 741: '주식',\n",
       " 742: '투자',\n",
       " 743: '직접',\n",
       " 744: '인지',\n",
       " 745: 'm',\n",
       " 746: '려',\n",
       " 747: '이야기',\n",
       " 748: '불구',\n",
       " 749: '유권자',\n",
       " 750: '상대',\n",
       " 751: '선언',\n",
       " 752: '쇼',\n",
       " 753: '역시',\n",
       " 754: '란',\n",
       " 755: '환자',\n",
       " 756: '연합',\n",
       " 757: '형',\n",
       " 758: '사르코지',\n",
       " 759: '관심',\n",
       " 760: '수준',\n",
       " 761: '남편',\n",
       " 762: '비용',\n",
       " 763: '손',\n",
       " 764: '해안',\n",
       " 765: '증시',\n",
       " 766: '수술',\n",
       " 767: '천',\n",
       " 768: '트',\n",
       " 769: '저장',\n",
       " 770: '독립',\n",
       " 771: '군인',\n",
       " 772: '당했',\n",
       " 773: '눈',\n",
       " 774: '스타',\n",
       " 775: '아기',\n",
       " 776: '판사',\n",
       " 777: '사임',\n",
       " 778: '인도네시아',\n",
       " 779: '팬',\n",
       " 780: '온',\n",
       " 781: '외교',\n",
       " 782: '부대',\n",
       " 783: '희생자',\n",
       " 784: '특별',\n",
       " 785: 'korea',\n",
       " 786: '양국',\n",
       " 787: '관광객',\n",
       " 788: '그룹',\n",
       " 789: '선택',\n",
       " 790: '맡',\n",
       " 791: '내년',\n",
       " 792: '졌',\n",
       " 793: '항공',\n",
       " 794: '재개',\n",
       " 795: '어제',\n",
       " 796: '시킬',\n",
       " 797: '여객기',\n",
       " 798: '시스템',\n",
       " 799: '수천',\n",
       " 800: '라이스',\n",
       " 801: '역할',\n",
       " 802: 'and',\n",
       " 803: '벌였',\n",
       " 804: '국방부',\n",
       " 805: '한나라당',\n",
       " 806: '다면',\n",
       " 807: '기관',\n",
       " 808: '건설',\n",
       " 809: '석유',\n",
       " 810: '민주',\n",
       " 811: '나오',\n",
       " 812: '일정',\n",
       " 813: '범죄',\n",
       " 814: '안보',\n",
       " 815: '위해서',\n",
       " 816: '개최',\n",
       " 817: '티',\n",
       " 818: '축구',\n",
       " 819: '겪',\n",
       " 820: '태국',\n",
       " 821: '뜻',\n",
       " 822: '캐스터',\n",
       " 823: '브라운',\n",
       " 824: '어야',\n",
       " 825: '목적',\n",
       " 826: '인사',\n",
       " 827: '제품',\n",
       " 828: '온몸',\n",
       " 829: '추락',\n",
       " 830: '무',\n",
       " 831: '해외',\n",
       " 832: '북',\n",
       " 833: 'w',\n",
       " 834: '부분',\n",
       " 835: '사업',\n",
       " 836: '양',\n",
       " 837: '참가',\n",
       " 838: '헬기',\n",
       " 839: '로서',\n",
       " 840: '책임',\n",
       " 841: '민간',\n",
       " 842: '협력',\n",
       " 843: '낮',\n",
       " 844: '비디오',\n",
       " 845: '올',\n",
       " 846: '곧',\n",
       " 847: '밝혀졌',\n",
       " 848: '장소',\n",
       " 849: '훈련',\n",
       " 850: '나타났',\n",
       " 851: '또는',\n",
       " 852: '마련',\n",
       " 853: '실종',\n",
       " 854: '죽',\n",
       " 855: '더욱',\n",
       " 856: '열차',\n",
       " 857: '일반',\n",
       " 858: '제재',\n",
       " 859: '파업',\n",
       " 860: '소식통',\n",
       " 861: '전국',\n",
       " 862: '아프리카',\n",
       " 863: '진압',\n",
       " 864: '수행',\n",
       " 865: '엔',\n",
       " 866: '정권',\n",
       " 867: '대피',\n",
       " 868: '주변',\n",
       " 869: '리',\n",
       " 870: '대사관',\n",
       " 871: '대신',\n",
       " 872: '협회',\n",
       " 873: '제조',\n",
       " 874: '호',\n",
       " 875: '의미',\n",
       " 876: '붕괴',\n",
       " 877: '인구',\n",
       " 878: '동부',\n",
       " 879: '촬영',\n",
       " 880: '라디오',\n",
       " 881: '르',\n",
       " 882: '이르',\n",
       " 883: '심장',\n",
       " 884: '의견',\n",
       " 885: '시즌',\n",
       " 886: '인용',\n",
       " 887: '빌',\n",
       " 888: '키',\n",
       " 889: '직',\n",
       " 890: '병',\n",
       " 891: 'la',\n",
       " 892: '률',\n",
       " 893: '부모',\n",
       " 894: '외국인',\n",
       " 895: '올랐',\n",
       " 896: '전투',\n",
       " 897: '단',\n",
       " 898: '헌법',\n",
       " 899: '내렸',\n",
       " 900: '소비자',\n",
       " 901: '코',\n",
       " 902: '부상자',\n",
       " 903: '수백',\n",
       " 904: '든',\n",
       " 905: '실패',\n",
       " 906: '관할',\n",
       " 907: '평가',\n",
       " 908: '임무',\n",
       " 909: '평균',\n",
       " 910: '음악',\n",
       " 911: '부부',\n",
       " 912: '온라인',\n",
       " 913: '승객',\n",
       " 914: '질',\n",
       " 915: '수색',\n",
       " 916: '앞두',\n",
       " 917: '데이비드',\n",
       " 918: '주말',\n",
       " 919: '사원',\n",
       " 920: '핵무기',\n",
       " 921: '화요일',\n",
       " 922: '코리아',\n",
       " 923: '너무',\n",
       " 924: '국방',\n",
       " 925: '만나',\n",
       " 926: '멕시코',\n",
       " 927: '국무',\n",
       " 928: '장면',\n",
       " 929: '스미스',\n",
       " 930: '서부',\n",
       " 931: '외',\n",
       " 932: '푸틴',\n",
       " 933: '믿',\n",
       " 934: '감염',\n",
       " 935: '대화',\n",
       " 936: '회복',\n",
       " 937: '총격',\n",
       " 938: '전달',\n",
       " 939: '김',\n",
       " 940: '수감',\n",
       " 941: '제기',\n",
       " 942: '텍사스',\n",
       " 943: '중동',\n",
       " 944: '파괴',\n",
       " 945: '에너지',\n",
       " 946: '먹',\n",
       " 947: '짐바브웨',\n",
       " 948: '인간',\n",
       " 949: '려고',\n",
       " 950: '명과',\n",
       " 951: 'eu',\n",
       " 952: '배우',\n",
       " 953: '단계',\n",
       " 954: '는다고',\n",
       " 955: '제출',\n",
       " 956: '이동',\n",
       " 957: '반응',\n",
       " 958: '카운티',\n",
       " 959: '쓰',\n",
       " 960: '왕자',\n",
       " 961: '국립',\n",
       " 962: '바로',\n",
       " 963: '어머니',\n",
       " 964: '대원',\n",
       " 965: '콜롬비아',\n",
       " 966: '대의원',\n",
       " 967: '인수',\n",
       " 968: '모르',\n",
       " 969: '발',\n",
       " 970: '소유',\n",
       " 971: '통제',\n",
       " 972: '여전히',\n",
       " 973: '비해',\n",
       " 974: '사형',\n",
       " 975: '국영',\n",
       " 976: '교회',\n",
       " 977: '지명',\n",
       " 978: '최종',\n",
       " 979: '파리',\n",
       " 980: '나이',\n",
       " 981: '메시지',\n",
       " 982: '유',\n",
       " 983: '수단',\n",
       " 984: '리그',\n",
       " 985: '문',\n",
       " 986: '노무현',\n",
       " 987: '사과',\n",
       " 988: '소녀',\n",
       " 989: '시기',\n",
       " 990: 'on',\n",
       " 991: '각각',\n",
       " 992: '공연',\n",
       " 993: '국무부',\n",
       " 994: '증거',\n",
       " 995: '구',\n",
       " 996: '타임즈',\n",
       " 997: '무역',\n",
       " 998: '생',\n",
       " 999: '로버트',\n",
       " 1000: '유가',\n",
       " ...}"
      ]
     },
     "execution_count": 250,
     "metadata": {},
     "output_type": "execute_result"
    }
   ],
   "source": [
    "enc_tokenizer.index_word"
   ]
  },
  {
   "cell_type": "code",
   "execution_count": 251,
   "id": "a41a3b08",
   "metadata": {},
   "outputs": [
    {
     "name": "stdout",
     "output_type": "stream",
     "text": [
      "62970\n",
      "62970\n"
     ]
    }
   ],
   "source": [
    "print(len(enc_tensor))\n",
    "print(len(dec_tensor))"
   ]
  },
  {
   "cell_type": "markdown",
   "id": "0d5b63b2",
   "metadata": {},
   "source": [
    "## Step 4. 모델 설계\n",
    "한국어를 영어로 번역할 Attention 기반 Seq2seq 모델을 설계한다.  \n",
    "모델에 Dropout 모듈을 추가하면 성능이 더 좋아진다.  \n",
    "Embedding Size와 Hidden Size는 실험을 통해 적당한 값을 맞춰준다."
   ]
  },
  {
   "cell_type": "markdown",
   "id": "c298307f",
   "metadata": {},
   "source": [
    "#### Bahdanau Attention"
   ]
  },
  {
   "cell_type": "code",
   "execution_count": 252,
   "id": "bdb042cb",
   "metadata": {},
   "outputs": [],
   "source": [
    "# Bahdanau Attention\n",
    "class BahdanauAttention(tf.keras.layers.Layer):\n",
    "    def __init__(self, units):\n",
    "        super(BahdanauAttention, self).__init__()\n",
    "        self.w_dec = tf.keras.layers.Dense(units)\n",
    "        self.w_enc = tf.keras.layers.Dense(units)\n",
    "        self.w_com = tf.keras.layers.Dense(1)\n",
    "        \n",
    "    def call(self, h_enc, h_dec):\n",
    "        # h_enc shape : [batch x length x units]\n",
    "        # h_dec shape : [batch x units]\n",
    "        \n",
    "        # 1. units 차원으로 만든다\n",
    "        h_enc = self.w_enc(h_enc)\n",
    "        h_dec = tf.expand_dims(h_dec, 1)\n",
    "        h_dec = self.w_dec(h_dec)\n",
    "        \n",
    "        # 2. h_enc, h_dec feedforward???\n",
    "        score = self.w_com(tf.nn.tanh(h_dec + h_enc))\n",
    "        \n",
    "        # 3. softmax 적용\n",
    "        attn = tf.nn.softmax(score, axis=1)\n",
    "        \n",
    "        # 4. h_enc x softmax\n",
    "        context_vec = attn * h_enc\n",
    "        \n",
    "        # 5. 적용된 곱셈값(context_vec) 모두 더하기\n",
    "        context_vec = tf.reduce_sum(context_vec, axis=1)\n",
    "        \n",
    "        return context_vec, attn"
   ]
  },
  {
   "cell_type": "markdown",
   "id": "40fa4717",
   "metadata": {},
   "source": [
    "#### Encoder - Decoder"
   ]
  },
  {
   "cell_type": "code",
   "execution_count": 253,
   "id": "1f2465a2",
   "metadata": {},
   "outputs": [],
   "source": [
    "# Encoder\n",
    "class Encoder(tf.keras.Model):\n",
    "    def __init__(self, vocab_size, embedding_dim, enc_units):\n",
    "        super(Encoder, self).__init__()\n",
    "        \n",
    "        self.enc_units = enc_units\n",
    "        self.embedding = tf.keras.layers.Embedding(vocab_size, embedding_dim)\n",
    "        self.gru = tf.keras.layers.GRU(enc_units, \n",
    "                                      return_sequences=True)\n",
    "    \n",
    "    def call(self, x):\n",
    "        out = self.embedding(x)\n",
    "        out = self.gru(out)\n",
    "        \n",
    "        return out"
   ]
  },
  {
   "cell_type": "code",
   "execution_count": 254,
   "id": "b6d92c8a",
   "metadata": {},
   "outputs": [],
   "source": [
    "# Decoder\n",
    "class Decoder(tf.keras.Model):\n",
    "    def __init__(self, vocab_size, embedding_dim, dec_units):\n",
    "        super(Decoder, self).__init__()\n",
    "        \n",
    "        self.dec_units = dec_units\n",
    "        self.embedding = tf.keras.layers.Embedding(vocab_size, embedding_dim)\n",
    "        self.gru = tf.keras.layers.GRU(dec_units,\n",
    "                                      return_sequences=True,\n",
    "                                      return_state=True)\n",
    "        self.fc = tf.keras.layers.Dense(vocab_size)\n",
    "        \n",
    "        self.attention = BahdanauAttention(self.dec_units)\n",
    "        \n",
    "    def call(self, x, h_dec, enc_out):\n",
    "        context_vec, attn = self.attention(enc_out, h_dec)\n",
    "        \n",
    "        out = self.embedding(x)\n",
    "        out = tf.concat([tf.expand_dims(context_vec, 1), out], axis=-1)\n",
    "        \n",
    "        out, h_dec = self.gru(out)\n",
    "        out = tf.reshape(out, (-1, out.shape[2]))\n",
    "        out = self.fc(out)\n",
    "        \n",
    "        return out, h_dec, attn"
   ]
  },
  {
   "cell_type": "markdown",
   "id": "84e28844",
   "metadata": {},
   "source": [
    "## Step 5. 훈련하기\n",
    "### (1) Optimizer와 Loss"
   ]
  },
  {
   "cell_type": "code",
   "execution_count": 255,
   "id": "c4c20bb1",
   "metadata": {},
   "outputs": [],
   "source": [
    "optimizer = tf.keras.optimizers.Adam()\n",
    "loss_object = tf.keras.losses.SparseCategoricalCrossentropy(from_logits=True,\n",
    "                                                           reduction='none')\n",
    "\n",
    "def loss_function(real, pred):\n",
    "    mask = tf.math.logical_not(tf.math.equal(real, 0))\n",
    "    # mask는 padding 문제 방지 위한 역할\n",
    "    # 0: <PAD>에 해당하는 인덱스가 들어가는 자리\n",
    "    loss = loss_object(real, pred)\n",
    "    \n",
    "    mask = tf.cast(mask, dtype=loss.dtype)\n",
    "    loss *= mask\n",
    "    \n",
    "    return tf.reduce_mean(loss)"
   ]
  },
  {
   "cell_type": "markdown",
   "id": "fb27ca8c",
   "metadata": {},
   "source": [
    "### (2) train_step 구현\n",
    "필요한 것을 모두 가져가 Loss를 계산한 후 반환하는 함수"
   ]
  },
  {
   "cell_type": "code",
   "execution_count": 256,
   "id": "0636f40b",
   "metadata": {},
   "outputs": [],
   "source": [
    "@tf.function\n",
    "def train_step(src, tgt, encoder, decoder, optimizer, dec_tok):\n",
    "    bsz = src.shape[0]\n",
    "    loss = 0\n",
    "    \n",
    "    with tf.GradientTape() as tape:\n",
    "        enc_out = encoder(src)\n",
    "        h_dec = enc_out[:, -1]\n",
    "        \n",
    "        dec_src = tf.expand_dims([dec_tok.word_index['<start>']] * bsz, 1)\n",
    "        # 문장 개수를 추가해준건가\n",
    "        \n",
    "        for t in range(1, tgt.shape[1]):\n",
    "            pred, h_dec, _ = decoder(dec_src, h_dec, enc_out)\n",
    "            \n",
    "            loss += loss_function(tgt[:, t], pred)\n",
    "            dec_src = tf.expand_dims(tgt[:, t], 1)\n",
    "            \n",
    "    batch_loss = (loss / int(tgt.shape[1]))\n",
    "    \n",
    "    variables = encoder.trainable_variables + decoder.trainable_variables\n",
    "    gradients = tape.gradient(loss, variables)\n",
    "    optimizer.apply_gradients(zip(gradients, variables))\n",
    "    \n",
    "    return batch_loss"
   ]
  },
  {
   "cell_type": "markdown",
   "id": "674cb473",
   "metadata": {},
   "source": [
    "### (3) 훈련 시작하기"
   ]
  },
  {
   "cell_type": "code",
   "execution_count": 257,
   "id": "16fee1f9",
   "metadata": {},
   "outputs": [],
   "source": [
    "BATCH_SIZE = 64\n",
    "SRC_VOCAB_SIZE = len(enc_tokenizer.index_word) + 1\n",
    "TGT_VOCAB_SIZE = len(dec_tokenizer.index_word) + 1\n",
    "\n",
    "units = 1024\n",
    "embedding_dim = 512\n",
    "\n",
    "encoder = Encoder(SRC_VOCAB_SIZE, embedding_dim, units)\n",
    "decoder = Decoder(TGT_VOCAB_SIZE, embedding_dim, units)\n"
   ]
  },
  {
   "cell_type": "code",
   "execution_count": 258,
   "id": "08e365b7",
   "metadata": {
    "scrolled": true
   },
   "outputs": [
    {
     "name": "stderr",
     "output_type": "stream",
     "text": [
      "Epoch  1: 100%|██████████| 984/984 [11:33<00:00,  1.42it/s, Loss 3.1724]  \n",
      "Epoch  2: 100%|██████████| 984/984 [10:34<00:00,  1.55it/s, Loss 2.6270]\n",
      "Epoch  3: 100%|██████████| 984/984 [10:36<00:00,  1.55it/s, Loss 2.3722]\n",
      "Epoch  4: 100%|██████████| 984/984 [10:36<00:00,  1.55it/s, Loss 2.1819]\n",
      "Epoch  5: 100%|██████████| 984/984 [10:36<00:00,  1.55it/s, Loss 2.0165]\n",
      "Epoch  6: 100%|██████████| 984/984 [10:36<00:00,  1.55it/s, Loss 1.8668]\n",
      "Epoch  7: 100%|██████████| 984/984 [10:36<00:00,  1.55it/s, Loss 1.7286]\n",
      "Epoch  8: 100%|██████████| 984/984 [10:36<00:00,  1.54it/s, Loss 1.5985]\n",
      "Epoch  9: 100%|██████████| 984/984 [10:36<00:00,  1.55it/s, Loss 1.4790]\n",
      "Epoch 10: 100%|██████████| 984/984 [10:36<00:00,  1.55it/s, Loss 1.3656]\n"
     ]
    }
   ],
   "source": [
    "from tqdm import tqdm\n",
    "import random\n",
    "\n",
    "EPOCHS = 10\n",
    "\n",
    "for epoch in range(EPOCHS):\n",
    "    total_loss = 0\n",
    "    \n",
    "    idx_list = list(range(0, enc_tensor.shape[0], BATCH_SIZE))\n",
    "    random.shuffle(idx_list)\n",
    "    t = tqdm(idx_list)\n",
    "    \n",
    "    for (batch, idx) in enumerate(t):\n",
    "        batch_loss = train_step(enc_tensor[idx:idx+BATCH_SIZE],\n",
    "                               dec_tensor[idx:idx+BATCH_SIZE],\n",
    "                               encoder,\n",
    "                               decoder,\n",
    "                               optimizer,\n",
    "                               dec_tokenizer)\n",
    "        \n",
    "        total_loss += batch_loss\n",
    "        \n",
    "        t.set_description_str('Epoch %2d' % (epoch + 1))\n",
    "        t.set_postfix_str('Loss %.4f' % (total_loss.numpy() / (batch + 1)))"
   ]
  },
  {
   "cell_type": "markdown",
   "id": "03e7715e",
   "metadata": {},
   "source": [
    "### (4) 모델 평가 및 시각화"
   ]
  },
  {
   "cell_type": "code",
   "execution_count": 259,
   "id": "b6fae86c",
   "metadata": {},
   "outputs": [],
   "source": [
    "def evaluate(sentence, encoder, decoder):\n",
    "    attention = np.zeros((dec_tensor.shape[-1], enc_tensor.shape[-1]))\n",
    "    \n",
    "    sentence = preprocess_kor(sentence)\n",
    "    inputs = enc_tokenizer.texts_to_sequences([sentence])\n",
    "    inputs = tf.keras.preprocessing.sequence.pad_sequences(inputs, \n",
    "                                                          maxlen=enc_tensor.shape[-1],\n",
    "                                                          padding='post')\n",
    "    \n",
    "    result = ''\n",
    "    \n",
    "    enc_out = encoder(inputs)\n",
    "    \n",
    "    dec_hidden = enc_out[:, -1]\n",
    "    dec_input = tf.expand_dims([dec_tokenizer.word_index['<start>']], 0)\n",
    "    \n",
    "    for t in range(dec_tensor.shape[-1]):\n",
    "        predictions, dec_hidden, attention_weights = decoder(dec_input, \n",
    "                                                            dec_hidden,\n",
    "                                                            enc_out)\n",
    "        \n",
    "        attention_weights = tf.reshape(attention_weights, (-1, ))\n",
    "        attention[t] = attention_weights.numpy()\n",
    "        \n",
    "        predicted_id = tf.argmax(tf.math.softmax(predictions, axis=-1)[0]).numpy()\n",
    "        \n",
    "        result += dec_tokenizer.index_word[predicted_id] + ' '\n",
    "        \n",
    "        if dec_tokenizer.index_word[predicted_id] == '<end>':\n",
    "            return result, sentence, attention\n",
    "        \n",
    "        dec_input = tf.expand_dims([predicted_id], 0)\n",
    "        \n",
    "    return result, sentence, attention\n",
    "\n",
    "\n",
    "def plot_attention(attention, sentence, predicted_sentence):\n",
    "    fig = plt.figure(figsize=(10,10))\n",
    "    ax = fig.add_subplot(1, 1, 1)\n",
    "    ax.matshow(attention, cmap='viridis')\n",
    "    \n",
    "    fontdict = {'fontsize':14}\n",
    "    \n",
    "    ax.set_xticklabels(['']+sentence, fontdict=fontdict, rotation=90)\n",
    "    ax.set_yticklabels(['']+predicted_sentence, fontdict=fontdict)\n",
    "    \n",
    "    ax.xaxis.set_major_locator(ticker.MultipleLocator(1))\n",
    "    ax.yaxis.set_major_locator(ticker.MultipleLocator(1))\n",
    "    \n",
    "    plt.show()\n",
    "    \n",
    "    \n",
    "def translate(sentence, encoder, decoder):\n",
    "    result, sentence, attention = evaluate(sentence, encoder, decoder)\n",
    "    \n",
    "    print('Input: %s' % (sentence))\n",
    "    print('Predicted translation: {}'.format(result))\n",
    "    \n",
    "    attention = attention[:len(result.split()), :len(sentence)]\n",
    "    plot_attention(attention, sentence, result.split(' '))\n",
    "    "
   ]
  },
  {
   "cell_type": "code",
   "execution_count": 260,
   "id": "099b30ba",
   "metadata": {},
   "outputs": [
    {
     "name": "stdout",
     "output_type": "stream",
     "text": [
      "Input: ['오바마', '는', '대통령', '이', '다', '.']\n",
      "Predicted translation: obama is the strongest candidate . <end> \n"
     ]
    },
    {
     "name": "stderr",
     "output_type": "stream",
     "text": [
      "/tmp/ipykernel_31/66593064.py:44: UserWarning: FixedFormatter should only be used together with FixedLocator\n",
      "  ax.set_xticklabels(['']+sentence, fontdict=fontdict, rotation=90)\n",
      "/tmp/ipykernel_31/66593064.py:45: UserWarning: FixedFormatter should only be used together with FixedLocator\n",
      "  ax.set_yticklabels(['']+predicted_sentence, fontdict=fontdict)\n"
     ]
    },
    {
     "data": {
      "image/png": "[encoded data removed]",
      "text/plain": [
       "<Figure size 720x720 with 1 Axes>"
      ]
     },
     "metadata": {
      "image/png": {
       "height": 606,
       "width": 549
      },
      "needs_background": "light"
     },
     "output_type": "display_data"
    }
   ],
   "source": [
    "translate(\"오바마는 대통령이다.\", encoder, decoder)"
   ]
  },
  {
   "cell_type": "code",
   "execution_count": 261,
   "id": "6f7990a5",
   "metadata": {},
   "outputs": [
    {
     "name": "stdout",
     "output_type": "stream",
     "text": [
      "Input: ['시민', '들', '은', '도시', '속', '에', '산다', '.']\n",
      "Predicted translation: the protesters are in the city of the city . <end> \n"
     ]
    },
    {
     "name": "stderr",
     "output_type": "stream",
     "text": [
      "/tmp/ipykernel_31/66593064.py:44: UserWarning: FixedFormatter should only be used together with FixedLocator\n",
      "  ax.set_xticklabels(['']+sentence, fontdict=fontdict, rotation=90)\n",
      "/tmp/ipykernel_31/66593064.py:45: UserWarning: FixedFormatter should only be used together with FixedLocator\n",
      "  ax.set_yticklabels(['']+predicted_sentence, fontdict=fontdict)\n"
     ]
    },
    {
     "data": {
      "image/png": "[encoded data removed]",
      "text/plain": [
       "<Figure size 720x720 with 1 Axes>"
      ]
     },
     "metadata": {
      "image/png": {
       "height": 593,
       "width": 482
      },
      "needs_background": "light"
     },
     "output_type": "display_data"
    }
   ],
   "source": [
    "translate(\"시민들은 도시 속에 산다.\", encoder, decoder)"
   ]
  },
  {
   "cell_type": "code",
   "execution_count": 262,
   "id": "b71a1f39",
   "metadata": {
    "scrolled": true
   },
   "outputs": [
    {
     "name": "stdout",
     "output_type": "stream",
     "text": [
      "Input: ['커피', '는', '필요', '없', '다', '.']\n",
      "Predicted translation: caffeine is still not so . <end> \n"
     ]
    },
    {
     "name": "stderr",
     "output_type": "stream",
     "text": [
      "/tmp/ipykernel_31/66593064.py:44: UserWarning: FixedFormatter should only be used together with FixedLocator\n",
      "  ax.set_xticklabels(['']+sentence, fontdict=fontdict, rotation=90)\n",
      "/tmp/ipykernel_31/66593064.py:45: UserWarning: FixedFormatter should only be used together with FixedLocator\n",
      "  ax.set_yticklabels(['']+predicted_sentence, fontdict=fontdict)\n"
     ]
    },
    {
     "data": {
      "image/png": "[encoded data removed]",
      "text/plain": [
       "<Figure size 720x720 with 1 Axes>"
      ]
     },
     "metadata": {
      "image/png": {
       "height": 593,
       "width": 538
      },
      "needs_background": "light"
     },
     "output_type": "display_data"
    }
   ],
   "source": [
    "translate(\"커피는 필요 없다.\", encoder, decoder)"
   ]
  },
  {
   "cell_type": "code",
   "execution_count": 263,
   "id": "9e89d5b0",
   "metadata": {},
   "outputs": [
    {
     "name": "stdout",
     "output_type": "stream",
     "text": [
      "Input: ['일곱', '명', '의', '사망자', '가', '발생', '했', '다', '.']\n",
      "Predicted translation: seven people were killed . <end> \n"
     ]
    },
    {
     "name": "stderr",
     "output_type": "stream",
     "text": [
      "/tmp/ipykernel_31/66593064.py:44: UserWarning: FixedFormatter should only be used together with FixedLocator\n",
      "  ax.set_xticklabels(['']+sentence, fontdict=fontdict, rotation=90)\n",
      "/tmp/ipykernel_31/66593064.py:45: UserWarning: FixedFormatter should only be used together with FixedLocator\n",
      "  ax.set_yticklabels(['']+predicted_sentence, fontdict=fontdict)\n"
     ]
    },
    {
     "data": {
      "image/png": "[encoded data removed]",
      "text/plain": [
       "<Figure size 720x720 with 1 Axes>"
      ]
     },
     "metadata": {
      "image/png": {
       "height": 434,
       "width": 622
      },
      "needs_background": "light"
     },
     "output_type": "display_data"
    }
   ],
   "source": [
    "translate(\"일곱 명의 사망자가 발생했다.\", encoder, decoder)"
   ]
  },
  {
   "cell_type": "markdown",
   "id": "a553d6dd",
   "metadata": {},
   "source": [
    "***\n",
    "### 회고\n",
    "노드에서는 영어-스페인어라서 전처리를 할 때에도 split()으로 한번에 처리할 수 있었는데, 한국어-영어는 아무래도 토큰화 방식이 다르다 보니 함수를 다르게 정의해줘야했다.  \n",
    "\n",
    "또 영어-스페인어는 데이터가 쌍으로 묶여있었는데, 이번 한국어-영어 데이터는 데이터셋이 순서만 같게 따로 뭉쳐있어서 이 순서를 망치지 않고 전처리를 해야했다. 그래서 zip으로 데이터 쌍을 만들어주고, 중복을 처리하는 등의 전처리 작업을 했는데, 그러다보니 중복되는 한국어에 다른 영어 해석이 붙는 등의 문제가 있었다. 이걸 해결하면 정확도가 올라갔을까 싶지만 일단 그대로 두었다.\n",
    "\n",
    "한국어를 어떻게 처리할까 싶어 데이터를 보는데, 영어나 숫자가 섞여있는 데이터가 많았다. 이 경우 영어는 대부분 개체를 나타내거나 고유명사의 이름이었다. 이걸 지우면 한국어를 영어로 번역할 때 혼선이 있을까봐 전처리 과정에서 대문자 영어 A-Z와 숫자 0-9를 포함시켰다.  \n",
    "영어데이터를 전처리 할 때에도 숫자를 포함시켰다.  \n",
    "\n",
    "이렇게 데이터를 학습시켜보니 Loss가 2 정도에 머물러 있었다.   \n",
    "번역 성능도 좋지 못했다. '오바마는 대통령이다.'를 'obama is necessary.' 라고 번역하던가, '커피는 필요없다.'에서는 알 수 없는 같은 말이 반복되어 번역되는 등 성능이 정말 안 좋았다. \n",
    "\n",
    "이건 모델 학습보다도 전처리가 부족한 듯하여 전처리 함수를 수정하였다. 앞서 한국어 데이터를 처리할 때 A-Z와 0-9를 포함시켰는데, 생각해보니 영어 데이터를 처리할 때 lower()함수를 이용해서 소문자로 다 바꿔주었으니, 한국어 데이터에 있는 영어에도 이게 적용되어야 할 것 같았다. 그래서 lower()과정을 추가하고 A-Z를 a-z로 바꿔주었으며 숫자0-9는 포함시키지 않기로 했다.   tokenizer의 word_index를 확인해보니 단어사전에 숫자가 포함되어 있었고 이것 때문에 포함되어야 할 단어가 포함되지 않아 성능을 저하시키는 건가 싶었기 때문이다.   \n",
    "영어 데이터도 마찬가지로 숫자 데이터는 제거했다.  \n",
    "또 토큰화하는 과정에서 num_words = 10000으로 제한해주었다.(원래는 모든 단어 사용)\n",
    "\n",
    "결과적으로 성능이 확연히 좋아졌다. Loss 값도 1 정도로 전에 비해 많이 떨어졌다. 또 위에서 확인할 수 있듯이 '오바마는 대통령이다.' 문장을 'obama is the strongest candidate.' 로 번역하고, '일곱 명의 사망자가 발생했다.'를  'seven people were killed.'라고 하는 등 거의 비슷한 내용으로 번역하는 것을 볼 수 있다 (이전의 모델에서 '일곱 명의 사망자~' 문장을 번역할 때, seven이라는 단어는 나오지도 않았다). \n",
    "\n",
    "아직 문법도 어색하고 정확하게 번역되지 않아 갈 길이 멀지만 전처리와 파라미터의 수정으로 성능이 이렇게 달라질 수 있음을 배웠다. "
   ]
  },
  {
   "cell_type": "code",
   "execution_count": null,
   "id": "d7ef55d4",
   "metadata": {},
   "outputs": [],
   "source": []
  }
 ],
 "metadata": {
  "kernelspec": {
   "display_name": "Python 3 (ipykernel)",
   "language": "python",
   "name": "python3"
  },
  "language_info": {
   "codemirror_mode": {
    "name": "ipython",
    "version": 3
   },
   "file_extension": ".py",
   "mimetype": "text/x-python",
   "name": "python",
   "nbconvert_exporter": "python",
   "pygments_lexer": "ipython3",
   "version": "3.9.7"
  }
 },
 "nbformat": 4,
 "nbformat_minor": 5
}
