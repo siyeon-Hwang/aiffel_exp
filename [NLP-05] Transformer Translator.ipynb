{
  "nbformat": 4,
  "nbformat_minor": 0,
  "metadata": {
    "colab": {
      "name": "[NLP-05] Transformer Translator.ipynb",
      "provenance": [],
      "collapsed_sections": [],
      "mount_file_id": "1kuu_Wayyr4M_EfJLzHdAaCjHPOKTnC-C",
      "authorship_tag": "ABX9TyOURIfzMzEH9J+r5jWGOXfK",
      "include_colab_link": true
    },
    "kernelspec": {
      "name": "python3",
      "display_name": "Python 3"
    },
    "language_info": {
      "name": "python"
    },
    "accelerator": "GPU",
    "widgets": {
      "application/vnd.jupyter.widget-state+json": {
        "b4244cfcee944e6bb27af9118925ab9b": {
          "model_module": "@jupyter-widgets/controls",
          "model_name": "HBoxModel",
          "model_module_version": "1.5.0",
          "state": {
            "_dom_classes": [],
            "_model_module": "@jupyter-widgets/controls",
            "_model_module_version": "1.5.0",
            "_model_name": "HBoxModel",
            "_view_count": null,
            "_view_module": "@jupyter-widgets/controls",
            "_view_module_version": "1.5.0",
            "_view_name": "HBoxView",
            "box_style": "",
            "children": [
              "IPY_MODEL_d4c320fa8f904ddc9106175939fe3290",
              "IPY_MODEL_1cc196f1369745fb86cceacac955e12a",
              "IPY_MODEL_782b18501f2f480bb3d999af543ca40c"
            ],
            "layout": "IPY_MODEL_e53d2a69c17745bd9fb0203bccceaf50"
          }
        },
        "d4c320fa8f904ddc9106175939fe3290": {
          "model_module": "@jupyter-widgets/controls",
          "model_name": "HTMLModel",
          "model_module_version": "1.5.0",
          "state": {
            "_dom_classes": [],
            "_model_module": "@jupyter-widgets/controls",
            "_model_module_version": "1.5.0",
            "_model_name": "HTMLModel",
            "_view_count": null,
            "_view_module": "@jupyter-widgets/controls",
            "_view_module_version": "1.5.0",
            "_view_name": "HTMLView",
            "description": "",
            "description_tooltip": null,
            "layout": "IPY_MODEL_08cb80d71725420cb616f26cead864b0",
            "placeholder": "​",
            "style": "IPY_MODEL_1178660c84be4f32a9d37c7561a4f85e",
            "value": "100%"
          }
        },
        "1cc196f1369745fb86cceacac955e12a": {
          "model_module": "@jupyter-widgets/controls",
          "model_name": "FloatProgressModel",
          "model_module_version": "1.5.0",
          "state": {
            "_dom_classes": [],
            "_model_module": "@jupyter-widgets/controls",
            "_model_module_version": "1.5.0",
            "_model_name": "FloatProgressModel",
            "_view_count": null,
            "_view_module": "@jupyter-widgets/controls",
            "_view_module_version": "1.5.0",
            "_view_name": "ProgressView",
            "bar_style": "success",
            "description": "",
            "description_tooltip": null,
            "layout": "IPY_MODEL_b626c6d4fe0340a7bcd882ebd3a8282b",
            "max": 78968,
            "min": 0,
            "orientation": "horizontal",
            "style": "IPY_MODEL_e913c02885e24ef78c2281890c2dad7e",
            "value": 78968
          }
        },
        "782b18501f2f480bb3d999af543ca40c": {
          "model_module": "@jupyter-widgets/controls",
          "model_name": "HTMLModel",
          "model_module_version": "1.5.0",
          "state": {
            "_dom_classes": [],
            "_model_module": "@jupyter-widgets/controls",
            "_model_module_version": "1.5.0",
            "_model_name": "HTMLModel",
            "_view_count": null,
            "_view_module": "@jupyter-widgets/controls",
            "_view_module_version": "1.5.0",
            "_view_name": "HTMLView",
            "description": "",
            "description_tooltip": null,
            "layout": "IPY_MODEL_a64dbeb5efde4168af7309a6498cf7bc",
            "placeholder": "​",
            "style": "IPY_MODEL_a674592dde724dd5b7216f5bb8cca724",
            "value": " 78968/78968 [00:03&lt;00:00, 25226.28it/s]"
          }
        },
        "e53d2a69c17745bd9fb0203bccceaf50": {
          "model_module": "@jupyter-widgets/base",
          "model_name": "LayoutModel",
          "model_module_version": "1.2.0",
          "state": {
            "_model_module": "@jupyter-widgets/base",
            "_model_module_version": "1.2.0",
            "_model_name": "LayoutModel",
            "_view_count": null,
            "_view_module": "@jupyter-widgets/base",
            "_view_module_version": "1.2.0",
            "_view_name": "LayoutView",
            "align_content": null,
            "align_items": null,
            "align_self": null,
            "border": null,
            "bottom": null,
            "display": null,
            "flex": null,
            "flex_flow": null,
            "grid_area": null,
            "grid_auto_columns": null,
            "grid_auto_flow": null,
            "grid_auto_rows": null,
            "grid_column": null,
            "grid_gap": null,
            "grid_row": null,
            "grid_template_areas": null,
            "grid_template_columns": null,
            "grid_template_rows": null,
            "height": null,
            "justify_content": null,
            "justify_items": null,
            "left": null,
            "margin": null,
            "max_height": null,
            "max_width": null,
            "min_height": null,
            "min_width": null,
            "object_fit": null,
            "object_position": null,
            "order": null,
            "overflow": null,
            "overflow_x": null,
            "overflow_y": null,
            "padding": null,
            "right": null,
            "top": null,
            "visibility": null,
            "width": null
          }
        },
        "08cb80d71725420cb616f26cead864b0": {
          "model_module": "@jupyter-widgets/base",
          "model_name": "LayoutModel",
          "model_module_version": "1.2.0",
          "state": {
            "_model_module": "@jupyter-widgets/base",
            "_model_module_version": "1.2.0",
            "_model_name": "LayoutModel",
            "_view_count": null,
            "_view_module": "@jupyter-widgets/base",
            "_view_module_version": "1.2.0",
            "_view_name": "LayoutView",
            "align_content": null,
            "align_items": null,
            "align_self": null,
            "border": null,
            "bottom": null,
            "display": null,
            "flex": null,
            "flex_flow": null,
            "grid_area": null,
            "grid_auto_columns": null,
            "grid_auto_flow": null,
            "grid_auto_rows": null,
            "grid_column": null,
            "grid_gap": null,
            "grid_row": null,
            "grid_template_areas": null,
            "grid_template_columns": null,
            "grid_template_rows": null,
            "height": null,
            "justify_content": null,
            "justify_items": null,
            "left": null,
            "margin": null,
            "max_height": null,
            "max_width": null,
            "min_height": null,
            "min_width": null,
            "object_fit": null,
            "object_position": null,
            "order": null,
            "overflow": null,
            "overflow_x": null,
            "overflow_y": null,
            "padding": null,
            "right": null,
            "top": null,
            "visibility": null,
            "width": null
          }
        },
        "1178660c84be4f32a9d37c7561a4f85e": {
          "model_module": "@jupyter-widgets/controls",
          "model_name": "DescriptionStyleModel",
          "model_module_version": "1.5.0",
          "state": {
            "_model_module": "@jupyter-widgets/controls",
            "_model_module_version": "1.5.0",
            "_model_name": "DescriptionStyleModel",
            "_view_count": null,
            "_view_module": "@jupyter-widgets/base",
            "_view_module_version": "1.2.0",
            "_view_name": "StyleView",
            "description_width": ""
          }
        },
        "b626c6d4fe0340a7bcd882ebd3a8282b": {
          "model_module": "@jupyter-widgets/base",
          "model_name": "LayoutModel",
          "model_module_version": "1.2.0",
          "state": {
            "_model_module": "@jupyter-widgets/base",
            "_model_module_version": "1.2.0",
            "_model_name": "LayoutModel",
            "_view_count": null,
            "_view_module": "@jupyter-widgets/base",
            "_view_module_version": "1.2.0",
            "_view_name": "LayoutView",
            "align_content": null,
            "align_items": null,
            "align_self": null,
            "border": null,
            "bottom": null,
            "display": null,
            "flex": null,
            "flex_flow": null,
            "grid_area": null,
            "grid_auto_columns": null,
            "grid_auto_flow": null,
            "grid_auto_rows": null,
            "grid_column": null,
            "grid_gap": null,
            "grid_row": null,
            "grid_template_areas": null,
            "grid_template_columns": null,
            "grid_template_rows": null,
            "height": null,
            "justify_content": null,
            "justify_items": null,
            "left": null,
            "margin": null,
            "max_height": null,
            "max_width": null,
            "min_height": null,
            "min_width": null,
            "object_fit": null,
            "object_position": null,
            "order": null,
            "overflow": null,
            "overflow_x": null,
            "overflow_y": null,
            "padding": null,
            "right": null,
            "top": null,
            "visibility": null,
            "width": null
          }
        },
        "e913c02885e24ef78c2281890c2dad7e": {
          "model_module": "@jupyter-widgets/controls",
          "model_name": "ProgressStyleModel",
          "model_module_version": "1.5.0",
          "state": {
            "_model_module": "@jupyter-widgets/controls",
            "_model_module_version": "1.5.0",
            "_model_name": "ProgressStyleModel",
            "_view_count": null,
            "_view_module": "@jupyter-widgets/base",
            "_view_module_version": "1.2.0",
            "_view_name": "StyleView",
            "bar_color": null,
            "description_width": ""
          }
        },
        "a64dbeb5efde4168af7309a6498cf7bc": {
          "model_module": "@jupyter-widgets/base",
          "model_name": "LayoutModel",
          "model_module_version": "1.2.0",
          "state": {
            "_model_module": "@jupyter-widgets/base",
            "_model_module_version": "1.2.0",
            "_model_name": "LayoutModel",
            "_view_count": null,
            "_view_module": "@jupyter-widgets/base",
            "_view_module_version": "1.2.0",
            "_view_name": "LayoutView",
            "align_content": null,
            "align_items": null,
            "align_self": null,
            "border": null,
            "bottom": null,
            "display": null,
            "flex": null,
            "flex_flow": null,
            "grid_area": null,
            "grid_auto_columns": null,
            "grid_auto_flow": null,
            "grid_auto_rows": null,
            "grid_column": null,
            "grid_gap": null,
            "grid_row": null,
            "grid_template_areas": null,
            "grid_template_columns": null,
            "grid_template_rows": null,
            "height": null,
            "justify_content": null,
            "justify_items": null,
            "left": null,
            "margin": null,
            "max_height": null,
            "max_width": null,
            "min_height": null,
            "min_width": null,
            "object_fit": null,
            "object_position": null,
            "order": null,
            "overflow": null,
            "overflow_x": null,
            "overflow_y": null,
            "padding": null,
            "right": null,
            "top": null,
            "visibility": null,
            "width": null
          }
        },
        "a674592dde724dd5b7216f5bb8cca724": {
          "model_module": "@jupyter-widgets/controls",
          "model_name": "DescriptionStyleModel",
          "model_module_version": "1.5.0",
          "state": {
            "_model_module": "@jupyter-widgets/controls",
            "_model_module_version": "1.5.0",
            "_model_name": "DescriptionStyleModel",
            "_view_count": null,
            "_view_module": "@jupyter-widgets/base",
            "_view_module_version": "1.2.0",
            "_view_name": "StyleView",
            "description_width": ""
          }
        },
        "87bd276810f64ed7b8849a25d42928bd": {
          "model_module": "@jupyter-widgets/controls",
          "model_name": "HBoxModel",
          "model_module_version": "1.5.0",
          "state": {
            "_dom_classes": [],
            "_model_module": "@jupyter-widgets/controls",
            "_model_module_version": "1.5.0",
            "_model_name": "HBoxModel",
            "_view_count": null,
            "_view_module": "@jupyter-widgets/controls",
            "_view_module_version": "1.5.0",
            "_view_name": "HBoxView",
            "box_style": "",
            "children": [
              "IPY_MODEL_22e0ae5ff51e4a279f637d52981e7d6e",
              "IPY_MODEL_a74868be1a634cdaaa48a115a3079ed8",
              "IPY_MODEL_bc10d7c183024cea960417d4e3167c2c"
            ],
            "layout": "IPY_MODEL_90bfbc47523f4762bae4b1964275ee24"
          }
        },
        "22e0ae5ff51e4a279f637d52981e7d6e": {
          "model_module": "@jupyter-widgets/controls",
          "model_name": "HTMLModel",
          "model_module_version": "1.5.0",
          "state": {
            "_dom_classes": [],
            "_model_module": "@jupyter-widgets/controls",
            "_model_module_version": "1.5.0",
            "_model_name": "HTMLModel",
            "_view_count": null,
            "_view_module": "@jupyter-widgets/controls",
            "_view_module_version": "1.5.0",
            "_view_name": "HTMLView",
            "description": "",
            "description_tooltip": null,
            "layout": "IPY_MODEL_79bbba623c754a2c979e58a594df6b71",
            "placeholder": "​",
            "style": "IPY_MODEL_63bbecd221924c43a68468ee2bc630c9",
            "value": "Epoch  1: 100%"
          }
        },
        "a74868be1a634cdaaa48a115a3079ed8": {
          "model_module": "@jupyter-widgets/controls",
          "model_name": "FloatProgressModel",
          "model_module_version": "1.5.0",
          "state": {
            "_dom_classes": [],
            "_model_module": "@jupyter-widgets/controls",
            "_model_module_version": "1.5.0",
            "_model_name": "FloatProgressModel",
            "_view_count": null,
            "_view_module": "@jupyter-widgets/controls",
            "_view_module_version": "1.5.0",
            "_view_name": "ProgressView",
            "bar_style": "success",
            "description": "",
            "description_tooltip": null,
            "layout": "IPY_MODEL_272c64e2e1e9487a929d67ecb0655e07",
            "max": 1147,
            "min": 0,
            "orientation": "horizontal",
            "style": "IPY_MODEL_dfa1bee3e3a540818ac58a17a3062637",
            "value": 1147
          }
        },
        "bc10d7c183024cea960417d4e3167c2c": {
          "model_module": "@jupyter-widgets/controls",
          "model_name": "HTMLModel",
          "model_module_version": "1.5.0",
          "state": {
            "_dom_classes": [],
            "_model_module": "@jupyter-widgets/controls",
            "_model_module_version": "1.5.0",
            "_model_name": "HTMLModel",
            "_view_count": null,
            "_view_module": "@jupyter-widgets/controls",
            "_view_module_version": "1.5.0",
            "_view_name": "HTMLView",
            "description": "",
            "description_tooltip": null,
            "layout": "IPY_MODEL_529b3d29a0204b389c0c098402cf42b4",
            "placeholder": "​",
            "style": "IPY_MODEL_436a065959af4dfa8d1fe7011e062160",
            "value": " 1147/1147 [02:07&lt;00:00,  9.06it/s, Loss 3.9541]"
          }
        },
        "90bfbc47523f4762bae4b1964275ee24": {
          "model_module": "@jupyter-widgets/base",
          "model_name": "LayoutModel",
          "model_module_version": "1.2.0",
          "state": {
            "_model_module": "@jupyter-widgets/base",
            "_model_module_version": "1.2.0",
            "_model_name": "LayoutModel",
            "_view_count": null,
            "_view_module": "@jupyter-widgets/base",
            "_view_module_version": "1.2.0",
            "_view_name": "LayoutView",
            "align_content": null,
            "align_items": null,
            "align_self": null,
            "border": null,
            "bottom": null,
            "display": null,
            "flex": null,
            "flex_flow": null,
            "grid_area": null,
            "grid_auto_columns": null,
            "grid_auto_flow": null,
            "grid_auto_rows": null,
            "grid_column": null,
            "grid_gap": null,
            "grid_row": null,
            "grid_template_areas": null,
            "grid_template_columns": null,
            "grid_template_rows": null,
            "height": null,
            "justify_content": null,
            "justify_items": null,
            "left": null,
            "margin": null,
            "max_height": null,
            "max_width": null,
            "min_height": null,
            "min_width": null,
            "object_fit": null,
            "object_position": null,
            "order": null,
            "overflow": null,
            "overflow_x": null,
            "overflow_y": null,
            "padding": null,
            "right": null,
            "top": null,
            "visibility": null,
            "width": null
          }
        },
        "79bbba623c754a2c979e58a594df6b71": {
          "model_module": "@jupyter-widgets/base",
          "model_name": "LayoutModel",
          "model_module_version": "1.2.0",
          "state": {
            "_model_module": "@jupyter-widgets/base",
            "_model_module_version": "1.2.0",
            "_model_name": "LayoutModel",
            "_view_count": null,
            "_view_module": "@jupyter-widgets/base",
            "_view_module_version": "1.2.0",
            "_view_name": "LayoutView",
            "align_content": null,
            "align_items": null,
            "align_self": null,
            "border": null,
            "bottom": null,
            "display": null,
            "flex": null,
            "flex_flow": null,
            "grid_area": null,
            "grid_auto_columns": null,
            "grid_auto_flow": null,
            "grid_auto_rows": null,
            "grid_column": null,
            "grid_gap": null,
            "grid_row": null,
            "grid_template_areas": null,
            "grid_template_columns": null,
            "grid_template_rows": null,
            "height": null,
            "justify_content": null,
            "justify_items": null,
            "left": null,
            "margin": null,
            "max_height": null,
            "max_width": null,
            "min_height": null,
            "min_width": null,
            "object_fit": null,
            "object_position": null,
            "order": null,
            "overflow": null,
            "overflow_x": null,
            "overflow_y": null,
            "padding": null,
            "right": null,
            "top": null,
            "visibility": null,
            "width": null
          }
        },
        "63bbecd221924c43a68468ee2bc630c9": {
          "model_module": "@jupyter-widgets/controls",
          "model_name": "DescriptionStyleModel",
          "model_module_version": "1.5.0",
          "state": {
            "_model_module": "@jupyter-widgets/controls",
            "_model_module_version": "1.5.0",
            "_model_name": "DescriptionStyleModel",
            "_view_count": null,
            "_view_module": "@jupyter-widgets/base",
            "_view_module_version": "1.2.0",
            "_view_name": "StyleView",
            "description_width": ""
          }
        },
        "272c64e2e1e9487a929d67ecb0655e07": {
          "model_module": "@jupyter-widgets/base",
          "model_name": "LayoutModel",
          "model_module_version": "1.2.0",
          "state": {
            "_model_module": "@jupyter-widgets/base",
            "_model_module_version": "1.2.0",
            "_model_name": "LayoutModel",
            "_view_count": null,
            "_view_module": "@jupyter-widgets/base",
            "_view_module_version": "1.2.0",
            "_view_name": "LayoutView",
            "align_content": null,
            "align_items": null,
            "align_self": null,
            "border": null,
            "bottom": null,
            "display": null,
            "flex": null,
            "flex_flow": null,
            "grid_area": null,
            "grid_auto_columns": null,
            "grid_auto_flow": null,
            "grid_auto_rows": null,
            "grid_column": null,
            "grid_gap": null,
            "grid_row": null,
            "grid_template_areas": null,
            "grid_template_columns": null,
            "grid_template_rows": null,
            "height": null,
            "justify_content": null,
            "justify_items": null,
            "left": null,
            "margin": null,
            "max_height": null,
            "max_width": null,
            "min_height": null,
            "min_width": null,
            "object_fit": null,
            "object_position": null,
            "order": null,
            "overflow": null,
            "overflow_x": null,
            "overflow_y": null,
            "padding": null,
            "right": null,
            "top": null,
            "visibility": null,
            "width": null
          }
        },
        "dfa1bee3e3a540818ac58a17a3062637": {
          "model_module": "@jupyter-widgets/controls",
          "model_name": "ProgressStyleModel",
          "model_module_version": "1.5.0",
          "state": {
            "_model_module": "@jupyter-widgets/controls",
            "_model_module_version": "1.5.0",
            "_model_name": "ProgressStyleModel",
            "_view_count": null,
            "_view_module": "@jupyter-widgets/base",
            "_view_module_version": "1.2.0",
            "_view_name": "StyleView",
            "bar_color": null,
            "description_width": ""
          }
        },
        "529b3d29a0204b389c0c098402cf42b4": {
          "model_module": "@jupyter-widgets/base",
          "model_name": "LayoutModel",
          "model_module_version": "1.2.0",
          "state": {
            "_model_module": "@jupyter-widgets/base",
            "_model_module_version": "1.2.0",
            "_model_name": "LayoutModel",
            "_view_count": null,
            "_view_module": "@jupyter-widgets/base",
            "_view_module_version": "1.2.0",
            "_view_name": "LayoutView",
            "align_content": null,
            "align_items": null,
            "align_self": null,
            "border": null,
            "bottom": null,
            "display": null,
            "flex": null,
            "flex_flow": null,
            "grid_area": null,
            "grid_auto_columns": null,
            "grid_auto_flow": null,
            "grid_auto_rows": null,
            "grid_column": null,
            "grid_gap": null,
            "grid_row": null,
            "grid_template_areas": null,
            "grid_template_columns": null,
            "grid_template_rows": null,
            "height": null,
            "justify_content": null,
            "justify_items": null,
            "left": null,
            "margin": null,
            "max_height": null,
            "max_width": null,
            "min_height": null,
            "min_width": null,
            "object_fit": null,
            "object_position": null,
            "order": null,
            "overflow": null,
            "overflow_x": null,
            "overflow_y": null,
            "padding": null,
            "right": null,
            "top": null,
            "visibility": null,
            "width": null
          }
        },
        "436a065959af4dfa8d1fe7011e062160": {
          "model_module": "@jupyter-widgets/controls",
          "model_name": "DescriptionStyleModel",
          "model_module_version": "1.5.0",
          "state": {
            "_model_module": "@jupyter-widgets/controls",
            "_model_module_version": "1.5.0",
            "_model_name": "DescriptionStyleModel",
            "_view_count": null,
            "_view_module": "@jupyter-widgets/base",
            "_view_module_version": "1.2.0",
            "_view_name": "StyleView",
            "description_width": ""
          }
        },
        "9bac3e038fd846bfb8a4d569a5c9633c": {
          "model_module": "@jupyter-widgets/controls",
          "model_name": "HBoxModel",
          "model_module_version": "1.5.0",
          "state": {
            "_dom_classes": [],
            "_model_module": "@jupyter-widgets/controls",
            "_model_module_version": "1.5.0",
            "_model_name": "HBoxModel",
            "_view_count": null,
            "_view_module": "@jupyter-widgets/controls",
            "_view_module_version": "1.5.0",
            "_view_name": "HBoxView",
            "box_style": "",
            "children": [
              "IPY_MODEL_69aabb1171de429daea6551a1478db0f",
              "IPY_MODEL_a89fae21aa1545c5b483a3fa727c10c7",
              "IPY_MODEL_38724985af8c4a57ab34e97486f3efec"
            ],
            "layout": "IPY_MODEL_628e62cdaaca409d9c51aabcf536e575"
          }
        },
        "69aabb1171de429daea6551a1478db0f": {
          "model_module": "@jupyter-widgets/controls",
          "model_name": "HTMLModel",
          "model_module_version": "1.5.0",
          "state": {
            "_dom_classes": [],
            "_model_module": "@jupyter-widgets/controls",
            "_model_module_version": "1.5.0",
            "_model_name": "HTMLModel",
            "_view_count": null,
            "_view_module": "@jupyter-widgets/controls",
            "_view_module_version": "1.5.0",
            "_view_name": "HTMLView",
            "description": "",
            "description_tooltip": null,
            "layout": "IPY_MODEL_99a15612c8ad4bbbbfb7cf9b5e894bcc",
            "placeholder": "​",
            "style": "IPY_MODEL_905bc6128edf410bb5bd04d229c12688",
            "value": "Epoch  2: 100%"
          }
        },
        "a89fae21aa1545c5b483a3fa727c10c7": {
          "model_module": "@jupyter-widgets/controls",
          "model_name": "FloatProgressModel",
          "model_module_version": "1.5.0",
          "state": {
            "_dom_classes": [],
            "_model_module": "@jupyter-widgets/controls",
            "_model_module_version": "1.5.0",
            "_model_name": "FloatProgressModel",
            "_view_count": null,
            "_view_module": "@jupyter-widgets/controls",
            "_view_module_version": "1.5.0",
            "_view_name": "ProgressView",
            "bar_style": "success",
            "description": "",
            "description_tooltip": null,
            "layout": "IPY_MODEL_71b6f700dd7d4fbcb4bb0fe8924baac1",
            "max": 1147,
            "min": 0,
            "orientation": "horizontal",
            "style": "IPY_MODEL_03b4bd41d55a4c9da06a555443f586ce",
            "value": 1147
          }
        },
        "38724985af8c4a57ab34e97486f3efec": {
          "model_module": "@jupyter-widgets/controls",
          "model_name": "HTMLModel",
          "model_module_version": "1.5.0",
          "state": {
            "_dom_classes": [],
            "_model_module": "@jupyter-widgets/controls",
            "_model_module_version": "1.5.0",
            "_model_name": "HTMLModel",
            "_view_count": null,
            "_view_module": "@jupyter-widgets/controls",
            "_view_module_version": "1.5.0",
            "_view_name": "HTMLView",
            "description": "",
            "description_tooltip": null,
            "layout": "IPY_MODEL_8b352e229779485a81ae5e0a116e78f7",
            "placeholder": "​",
            "style": "IPY_MODEL_6aa7b5e71aab466d8bd7d20ea6276f06",
            "value": " 1147/1147 [02:07&lt;00:00,  8.98it/s, Loss 3.5192]"
          }
        },
        "628e62cdaaca409d9c51aabcf536e575": {
          "model_module": "@jupyter-widgets/base",
          "model_name": "LayoutModel",
          "model_module_version": "1.2.0",
          "state": {
            "_model_module": "@jupyter-widgets/base",
            "_model_module_version": "1.2.0",
            "_model_name": "LayoutModel",
            "_view_count": null,
            "_view_module": "@jupyter-widgets/base",
            "_view_module_version": "1.2.0",
            "_view_name": "LayoutView",
            "align_content": null,
            "align_items": null,
            "align_self": null,
            "border": null,
            "bottom": null,
            "display": null,
            "flex": null,
            "flex_flow": null,
            "grid_area": null,
            "grid_auto_columns": null,
            "grid_auto_flow": null,
            "grid_auto_rows": null,
            "grid_column": null,
            "grid_gap": null,
            "grid_row": null,
            "grid_template_areas": null,
            "grid_template_columns": null,
            "grid_template_rows": null,
            "height": null,
            "justify_content": null,
            "justify_items": null,
            "left": null,
            "margin": null,
            "max_height": null,
            "max_width": null,
            "min_height": null,
            "min_width": null,
            "object_fit": null,
            "object_position": null,
            "order": null,
            "overflow": null,
            "overflow_x": null,
            "overflow_y": null,
            "padding": null,
            "right": null,
            "top": null,
            "visibility": null,
            "width": null
          }
        },
        "99a15612c8ad4bbbbfb7cf9b5e894bcc": {
          "model_module": "@jupyter-widgets/base",
          "model_name": "LayoutModel",
          "model_module_version": "1.2.0",
          "state": {
            "_model_module": "@jupyter-widgets/base",
            "_model_module_version": "1.2.0",
            "_model_name": "LayoutModel",
            "_view_count": null,
            "_view_module": "@jupyter-widgets/base",
            "_view_module_version": "1.2.0",
            "_view_name": "LayoutView",
            "align_content": null,
            "align_items": null,
            "align_self": null,
            "border": null,
            "bottom": null,
            "display": null,
            "flex": null,
            "flex_flow": null,
            "grid_area": null,
            "grid_auto_columns": null,
            "grid_auto_flow": null,
            "grid_auto_rows": null,
            "grid_column": null,
            "grid_gap": null,
            "grid_row": null,
            "grid_template_areas": null,
            "grid_template_columns": null,
            "grid_template_rows": null,
            "height": null,
            "justify_content": null,
            "justify_items": null,
            "left": null,
            "margin": null,
            "max_height": null,
            "max_width": null,
            "min_height": null,
            "min_width": null,
            "object_fit": null,
            "object_position": null,
            "order": null,
            "overflow": null,
            "overflow_x": null,
            "overflow_y": null,
            "padding": null,
            "right": null,
            "top": null,
            "visibility": null,
            "width": null
          }
        },
        "905bc6128edf410bb5bd04d229c12688": {
          "model_module": "@jupyter-widgets/controls",
          "model_name": "DescriptionStyleModel",
          "model_module_version": "1.5.0",
          "state": {
            "_model_module": "@jupyter-widgets/controls",
            "_model_module_version": "1.5.0",
            "_model_name": "DescriptionStyleModel",
            "_view_count": null,
            "_view_module": "@jupyter-widgets/base",
            "_view_module_version": "1.2.0",
            "_view_name": "StyleView",
            "description_width": ""
          }
        },
        "71b6f700dd7d4fbcb4bb0fe8924baac1": {
          "model_module": "@jupyter-widgets/base",
          "model_name": "LayoutModel",
          "model_module_version": "1.2.0",
          "state": {
            "_model_module": "@jupyter-widgets/base",
            "_model_module_version": "1.2.0",
            "_model_name": "LayoutModel",
            "_view_count": null,
            "_view_module": "@jupyter-widgets/base",
            "_view_module_version": "1.2.0",
            "_view_name": "LayoutView",
            "align_content": null,
            "align_items": null,
            "align_self": null,
            "border": null,
            "bottom": null,
            "display": null,
            "flex": null,
            "flex_flow": null,
            "grid_area": null,
            "grid_auto_columns": null,
            "grid_auto_flow": null,
            "grid_auto_rows": null,
            "grid_column": null,
            "grid_gap": null,
            "grid_row": null,
            "grid_template_areas": null,
            "grid_template_columns": null,
            "grid_template_rows": null,
            "height": null,
            "justify_content": null,
            "justify_items": null,
            "left": null,
            "margin": null,
            "max_height": null,
            "max_width": null,
            "min_height": null,
            "min_width": null,
            "object_fit": null,
            "object_position": null,
            "order": null,
            "overflow": null,
            "overflow_x": null,
            "overflow_y": null,
            "padding": null,
            "right": null,
            "top": null,
            "visibility": null,
            "width": null
          }
        },
        "03b4bd41d55a4c9da06a555443f586ce": {
          "model_module": "@jupyter-widgets/controls",
          "model_name": "ProgressStyleModel",
          "model_module_version": "1.5.0",
          "state": {
            "_model_module": "@jupyter-widgets/controls",
            "_model_module_version": "1.5.0",
            "_model_name": "ProgressStyleModel",
            "_view_count": null,
            "_view_module": "@jupyter-widgets/base",
            "_view_module_version": "1.2.0",
            "_view_name": "StyleView",
            "bar_color": null,
            "description_width": ""
          }
        },
        "8b352e229779485a81ae5e0a116e78f7": {
          "model_module": "@jupyter-widgets/base",
          "model_name": "LayoutModel",
          "model_module_version": "1.2.0",
          "state": {
            "_model_module": "@jupyter-widgets/base",
            "_model_module_version": "1.2.0",
            "_model_name": "LayoutModel",
            "_view_count": null,
            "_view_module": "@jupyter-widgets/base",
            "_view_module_version": "1.2.0",
            "_view_name": "LayoutView",
            "align_content": null,
            "align_items": null,
            "align_self": null,
            "border": null,
            "bottom": null,
            "display": null,
            "flex": null,
            "flex_flow": null,
            "grid_area": null,
            "grid_auto_columns": null,
            "grid_auto_flow": null,
            "grid_auto_rows": null,
            "grid_column": null,
            "grid_gap": null,
            "grid_row": null,
            "grid_template_areas": null,
            "grid_template_columns": null,
            "grid_template_rows": null,
            "height": null,
            "justify_content": null,
            "justify_items": null,
            "left": null,
            "margin": null,
            "max_height": null,
            "max_width": null,
            "min_height": null,
            "min_width": null,
            "object_fit": null,
            "object_position": null,
            "order": null,
            "overflow": null,
            "overflow_x": null,
            "overflow_y": null,
            "padding": null,
            "right": null,
            "top": null,
            "visibility": null,
            "width": null
          }
        },
        "6aa7b5e71aab466d8bd7d20ea6276f06": {
          "model_module": "@jupyter-widgets/controls",
          "model_name": "DescriptionStyleModel",
          "model_module_version": "1.5.0",
          "state": {
            "_model_module": "@jupyter-widgets/controls",
            "_model_module_version": "1.5.0",
            "_model_name": "DescriptionStyleModel",
            "_view_count": null,
            "_view_module": "@jupyter-widgets/base",
            "_view_module_version": "1.2.0",
            "_view_name": "StyleView",
            "description_width": ""
          }
        },
        "893bb184e52e4fc980a8761bfd9d8236": {
          "model_module": "@jupyter-widgets/controls",
          "model_name": "HBoxModel",
          "model_module_version": "1.5.0",
          "state": {
            "_dom_classes": [],
            "_model_module": "@jupyter-widgets/controls",
            "_model_module_version": "1.5.0",
            "_model_name": "HBoxModel",
            "_view_count": null,
            "_view_module": "@jupyter-widgets/controls",
            "_view_module_version": "1.5.0",
            "_view_name": "HBoxView",
            "box_style": "",
            "children": [
              "IPY_MODEL_5ce4247ccf5a4ddc84ec9ac2fe4e2825",
              "IPY_MODEL_8c1ac7b5503f4126a81b5e37e23dd734",
              "IPY_MODEL_7743254bf9994d09b8bc068cbd9ac92c"
            ],
            "layout": "IPY_MODEL_c692ee59687b41c5a18b49f721eb73f5"
          }
        },
        "5ce4247ccf5a4ddc84ec9ac2fe4e2825": {
          "model_module": "@jupyter-widgets/controls",
          "model_name": "HTMLModel",
          "model_module_version": "1.5.0",
          "state": {
            "_dom_classes": [],
            "_model_module": "@jupyter-widgets/controls",
            "_model_module_version": "1.5.0",
            "_model_name": "HTMLModel",
            "_view_count": null,
            "_view_module": "@jupyter-widgets/controls",
            "_view_module_version": "1.5.0",
            "_view_name": "HTMLView",
            "description": "",
            "description_tooltip": null,
            "layout": "IPY_MODEL_109d6bb7abbb4d6cad13f56325c5ec7d",
            "placeholder": "​",
            "style": "IPY_MODEL_1218d44bde374837b8f8a8d051b1d766",
            "value": "Epoch  3: 100%"
          }
        },
        "8c1ac7b5503f4126a81b5e37e23dd734": {
          "model_module": "@jupyter-widgets/controls",
          "model_name": "FloatProgressModel",
          "model_module_version": "1.5.0",
          "state": {
            "_dom_classes": [],
            "_model_module": "@jupyter-widgets/controls",
            "_model_module_version": "1.5.0",
            "_model_name": "FloatProgressModel",
            "_view_count": null,
            "_view_module": "@jupyter-widgets/controls",
            "_view_module_version": "1.5.0",
            "_view_name": "ProgressView",
            "bar_style": "success",
            "description": "",
            "description_tooltip": null,
            "layout": "IPY_MODEL_4f807c1569ce45259d58c08859aaa660",
            "max": 1147,
            "min": 0,
            "orientation": "horizontal",
            "style": "IPY_MODEL_594a6560d89247539be08e211c72ac0e",
            "value": 1147
          }
        },
        "7743254bf9994d09b8bc068cbd9ac92c": {
          "model_module": "@jupyter-widgets/controls",
          "model_name": "HTMLModel",
          "model_module_version": "1.5.0",
          "state": {
            "_dom_classes": [],
            "_model_module": "@jupyter-widgets/controls",
            "_model_module_version": "1.5.0",
            "_model_name": "HTMLModel",
            "_view_count": null,
            "_view_module": "@jupyter-widgets/controls",
            "_view_module_version": "1.5.0",
            "_view_name": "HTMLView",
            "description": "",
            "description_tooltip": null,
            "layout": "IPY_MODEL_eb9bd5ce3358440c86cf22a6c8612783",
            "placeholder": "​",
            "style": "IPY_MODEL_37b838f3175f4e66ae2a5f4869d81355",
            "value": " 1147/1147 [02:07&lt;00:00,  9.03it/s, Loss 2.9428]"
          }
        },
        "c692ee59687b41c5a18b49f721eb73f5": {
          "model_module": "@jupyter-widgets/base",
          "model_name": "LayoutModel",
          "model_module_version": "1.2.0",
          "state": {
            "_model_module": "@jupyter-widgets/base",
            "_model_module_version": "1.2.0",
            "_model_name": "LayoutModel",
            "_view_count": null,
            "_view_module": "@jupyter-widgets/base",
            "_view_module_version": "1.2.0",
            "_view_name": "LayoutView",
            "align_content": null,
            "align_items": null,
            "align_self": null,
            "border": null,
            "bottom": null,
            "display": null,
            "flex": null,
            "flex_flow": null,
            "grid_area": null,
            "grid_auto_columns": null,
            "grid_auto_flow": null,
            "grid_auto_rows": null,
            "grid_column": null,
            "grid_gap": null,
            "grid_row": null,
            "grid_template_areas": null,
            "grid_template_columns": null,
            "grid_template_rows": null,
            "height": null,
            "justify_content": null,
            "justify_items": null,
            "left": null,
            "margin": null,
            "max_height": null,
            "max_width": null,
            "min_height": null,
            "min_width": null,
            "object_fit": null,
            "object_position": null,
            "order": null,
            "overflow": null,
            "overflow_x": null,
            "overflow_y": null,
            "padding": null,
            "right": null,
            "top": null,
            "visibility": null,
            "width": null
          }
        },
        "109d6bb7abbb4d6cad13f56325c5ec7d": {
          "model_module": "@jupyter-widgets/base",
          "model_name": "LayoutModel",
          "model_module_version": "1.2.0",
          "state": {
            "_model_module": "@jupyter-widgets/base",
            "_model_module_version": "1.2.0",
            "_model_name": "LayoutModel",
            "_view_count": null,
            "_view_module": "@jupyter-widgets/base",
            "_view_module_version": "1.2.0",
            "_view_name": "LayoutView",
            "align_content": null,
            "align_items": null,
            "align_self": null,
            "border": null,
            "bottom": null,
            "display": null,
            "flex": null,
            "flex_flow": null,
            "grid_area": null,
            "grid_auto_columns": null,
            "grid_auto_flow": null,
            "grid_auto_rows": null,
            "grid_column": null,
            "grid_gap": null,
            "grid_row": null,
            "grid_template_areas": null,
            "grid_template_columns": null,
            "grid_template_rows": null,
            "height": null,
            "justify_content": null,
            "justify_items": null,
            "left": null,
            "margin": null,
            "max_height": null,
            "max_width": null,
            "min_height": null,
            "min_width": null,
            "object_fit": null,
            "object_position": null,
            "order": null,
            "overflow": null,
            "overflow_x": null,
            "overflow_y": null,
            "padding": null,
            "right": null,
            "top": null,
            "visibility": null,
            "width": null
          }
        },
        "1218d44bde374837b8f8a8d051b1d766": {
          "model_module": "@jupyter-widgets/controls",
          "model_name": "DescriptionStyleModel",
          "model_module_version": "1.5.0",
          "state": {
            "_model_module": "@jupyter-widgets/controls",
            "_model_module_version": "1.5.0",
            "_model_name": "DescriptionStyleModel",
            "_view_count": null,
            "_view_module": "@jupyter-widgets/base",
            "_view_module_version": "1.2.0",
            "_view_name": "StyleView",
            "description_width": ""
          }
        },
        "4f807c1569ce45259d58c08859aaa660": {
          "model_module": "@jupyter-widgets/base",
          "model_name": "LayoutModel",
          "model_module_version": "1.2.0",
          "state": {
            "_model_module": "@jupyter-widgets/base",
            "_model_module_version": "1.2.0",
            "_model_name": "LayoutModel",
            "_view_count": null,
            "_view_module": "@jupyter-widgets/base",
            "_view_module_version": "1.2.0",
            "_view_name": "LayoutView",
            "align_content": null,
            "align_items": null,
            "align_self": null,
            "border": null,
            "bottom": null,
            "display": null,
            "flex": null,
            "flex_flow": null,
            "grid_area": null,
            "grid_auto_columns": null,
            "grid_auto_flow": null,
            "grid_auto_rows": null,
            "grid_column": null,
            "grid_gap": null,
            "grid_row": null,
            "grid_template_areas": null,
            "grid_template_columns": null,
            "grid_template_rows": null,
            "height": null,
            "justify_content": null,
            "justify_items": null,
            "left": null,
            "margin": null,
            "max_height": null,
            "max_width": null,
            "min_height": null,
            "min_width": null,
            "object_fit": null,
            "object_position": null,
            "order": null,
            "overflow": null,
            "overflow_x": null,
            "overflow_y": null,
            "padding": null,
            "right": null,
            "top": null,
            "visibility": null,
            "width": null
          }
        },
        "594a6560d89247539be08e211c72ac0e": {
          "model_module": "@jupyter-widgets/controls",
          "model_name": "ProgressStyleModel",
          "model_module_version": "1.5.0",
          "state": {
            "_model_module": "@jupyter-widgets/controls",
            "_model_module_version": "1.5.0",
            "_model_name": "ProgressStyleModel",
            "_view_count": null,
            "_view_module": "@jupyter-widgets/base",
            "_view_module_version": "1.2.0",
            "_view_name": "StyleView",
            "bar_color": null,
            "description_width": ""
          }
        },
        "eb9bd5ce3358440c86cf22a6c8612783": {
          "model_module": "@jupyter-widgets/base",
          "model_name": "LayoutModel",
          "model_module_version": "1.2.0",
          "state": {
            "_model_module": "@jupyter-widgets/base",
            "_model_module_version": "1.2.0",
            "_model_name": "LayoutModel",
            "_view_count": null,
            "_view_module": "@jupyter-widgets/base",
            "_view_module_version": "1.2.0",
            "_view_name": "LayoutView",
            "align_content": null,
            "align_items": null,
            "align_self": null,
            "border": null,
            "bottom": null,
            "display": null,
            "flex": null,
            "flex_flow": null,
            "grid_area": null,
            "grid_auto_columns": null,
            "grid_auto_flow": null,
            "grid_auto_rows": null,
            "grid_column": null,
            "grid_gap": null,
            "grid_row": null,
            "grid_template_areas": null,
            "grid_template_columns": null,
            "grid_template_rows": null,
            "height": null,
            "justify_content": null,
            "justify_items": null,
            "left": null,
            "margin": null,
            "max_height": null,
            "max_width": null,
            "min_height": null,
            "min_width": null,
            "object_fit": null,
            "object_position": null,
            "order": null,
            "overflow": null,
            "overflow_x": null,
            "overflow_y": null,
            "padding": null,
            "right": null,
            "top": null,
            "visibility": null,
            "width": null
          }
        },
        "37b838f3175f4e66ae2a5f4869d81355": {
          "model_module": "@jupyter-widgets/controls",
          "model_name": "DescriptionStyleModel",
          "model_module_version": "1.5.0",
          "state": {
            "_model_module": "@jupyter-widgets/controls",
            "_model_module_version": "1.5.0",
            "_model_name": "DescriptionStyleModel",
            "_view_count": null,
            "_view_module": "@jupyter-widgets/base",
            "_view_module_version": "1.2.0",
            "_view_name": "StyleView",
            "description_width": ""
          }
        },
        "02e35be0b71f4810b23a271a91919ddd": {
          "model_module": "@jupyter-widgets/controls",
          "model_name": "HBoxModel",
          "model_module_version": "1.5.0",
          "state": {
            "_dom_classes": [],
            "_model_module": "@jupyter-widgets/controls",
            "_model_module_version": "1.5.0",
            "_model_name": "HBoxModel",
            "_view_count": null,
            "_view_module": "@jupyter-widgets/controls",
            "_view_module_version": "1.5.0",
            "_view_name": "HBoxView",
            "box_style": "",
            "children": [
              "IPY_MODEL_2be2ba622a424c9eb5b15cd5c2026e60",
              "IPY_MODEL_e70776c934e24e348050e0a29ce3c6fe",
              "IPY_MODEL_a75e91e53a1647fba7ece4431f58d263"
            ],
            "layout": "IPY_MODEL_9008ea6c9a934bd0b88b75a94d6fae26"
          }
        },
        "2be2ba622a424c9eb5b15cd5c2026e60": {
          "model_module": "@jupyter-widgets/controls",
          "model_name": "HTMLModel",
          "model_module_version": "1.5.0",
          "state": {
            "_dom_classes": [],
            "_model_module": "@jupyter-widgets/controls",
            "_model_module_version": "1.5.0",
            "_model_name": "HTMLModel",
            "_view_count": null,
            "_view_module": "@jupyter-widgets/controls",
            "_view_module_version": "1.5.0",
            "_view_name": "HTMLView",
            "description": "",
            "description_tooltip": null,
            "layout": "IPY_MODEL_00e1fcd95a6a473496a46259db671ef8",
            "placeholder": "​",
            "style": "IPY_MODEL_2f9857b37b7f4bdeb3faf7f12115050d",
            "value": "Epoch  4: 100%"
          }
        },
        "e70776c934e24e348050e0a29ce3c6fe": {
          "model_module": "@jupyter-widgets/controls",
          "model_name": "FloatProgressModel",
          "model_module_version": "1.5.0",
          "state": {
            "_dom_classes": [],
            "_model_module": "@jupyter-widgets/controls",
            "_model_module_version": "1.5.0",
            "_model_name": "FloatProgressModel",
            "_view_count": null,
            "_view_module": "@jupyter-widgets/controls",
            "_view_module_version": "1.5.0",
            "_view_name": "ProgressView",
            "bar_style": "success",
            "description": "",
            "description_tooltip": null,
            "layout": "IPY_MODEL_d97436e0ed9b4d64a16fc2d3cdc0670b",
            "max": 1147,
            "min": 0,
            "orientation": "horizontal",
            "style": "IPY_MODEL_2a6d901c784e48b882dc104c3dbf7149",
            "value": 1147
          }
        },
        "a75e91e53a1647fba7ece4431f58d263": {
          "model_module": "@jupyter-widgets/controls",
          "model_name": "HTMLModel",
          "model_module_version": "1.5.0",
          "state": {
            "_dom_classes": [],
            "_model_module": "@jupyter-widgets/controls",
            "_model_module_version": "1.5.0",
            "_model_name": "HTMLModel",
            "_view_count": null,
            "_view_module": "@jupyter-widgets/controls",
            "_view_module_version": "1.5.0",
            "_view_name": "HTMLView",
            "description": "",
            "description_tooltip": null,
            "layout": "IPY_MODEL_75548786881a4a70a08ee78d41182e0d",
            "placeholder": "​",
            "style": "IPY_MODEL_e9ab4db80d524bf09fffd15d9d64be27",
            "value": " 1147/1147 [02:07&lt;00:00,  8.82it/s, Loss 2.2950]"
          }
        },
        "9008ea6c9a934bd0b88b75a94d6fae26": {
          "model_module": "@jupyter-widgets/base",
          "model_name": "LayoutModel",
          "model_module_version": "1.2.0",
          "state": {
            "_model_module": "@jupyter-widgets/base",
            "_model_module_version": "1.2.0",
            "_model_name": "LayoutModel",
            "_view_count": null,
            "_view_module": "@jupyter-widgets/base",
            "_view_module_version": "1.2.0",
            "_view_name": "LayoutView",
            "align_content": null,
            "align_items": null,
            "align_self": null,
            "border": null,
            "bottom": null,
            "display": null,
            "flex": null,
            "flex_flow": null,
            "grid_area": null,
            "grid_auto_columns": null,
            "grid_auto_flow": null,
            "grid_auto_rows": null,
            "grid_column": null,
            "grid_gap": null,
            "grid_row": null,
            "grid_template_areas": null,
            "grid_template_columns": null,
            "grid_template_rows": null,
            "height": null,
            "justify_content": null,
            "justify_items": null,
            "left": null,
            "margin": null,
            "max_height": null,
            "max_width": null,
            "min_height": null,
            "min_width": null,
            "object_fit": null,
            "object_position": null,
            "order": null,
            "overflow": null,
            "overflow_x": null,
            "overflow_y": null,
            "padding": null,
            "right": null,
            "top": null,
            "visibility": null,
            "width": null
          }
        },
        "00e1fcd95a6a473496a46259db671ef8": {
          "model_module": "@jupyter-widgets/base",
          "model_name": "LayoutModel",
          "model_module_version": "1.2.0",
          "state": {
            "_model_module": "@jupyter-widgets/base",
            "_model_module_version": "1.2.0",
            "_model_name": "LayoutModel",
            "_view_count": null,
            "_view_module": "@jupyter-widgets/base",
            "_view_module_version": "1.2.0",
            "_view_name": "LayoutView",
            "align_content": null,
            "align_items": null,
            "align_self": null,
            "border": null,
            "bottom": null,
            "display": null,
            "flex": null,
            "flex_flow": null,
            "grid_area": null,
            "grid_auto_columns": null,
            "grid_auto_flow": null,
            "grid_auto_rows": null,
            "grid_column": null,
            "grid_gap": null,
            "grid_row": null,
            "grid_template_areas": null,
            "grid_template_columns": null,
            "grid_template_rows": null,
            "height": null,
            "justify_content": null,
            "justify_items": null,
            "left": null,
            "margin": null,
            "max_height": null,
            "max_width": null,
            "min_height": null,
            "min_width": null,
            "object_fit": null,
            "object_position": null,
            "order": null,
            "overflow": null,
            "overflow_x": null,
            "overflow_y": null,
            "padding": null,
            "right": null,
            "top": null,
            "visibility": null,
            "width": null
          }
        },
        "2f9857b37b7f4bdeb3faf7f12115050d": {
          "model_module": "@jupyter-widgets/controls",
          "model_name": "DescriptionStyleModel",
          "model_module_version": "1.5.0",
          "state": {
            "_model_module": "@jupyter-widgets/controls",
            "_model_module_version": "1.5.0",
            "_model_name": "DescriptionStyleModel",
            "_view_count": null,
            "_view_module": "@jupyter-widgets/base",
            "_view_module_version": "1.2.0",
            "_view_name": "StyleView",
            "description_width": ""
          }
        },
        "d97436e0ed9b4d64a16fc2d3cdc0670b": {
          "model_module": "@jupyter-widgets/base",
          "model_name": "LayoutModel",
          "model_module_version": "1.2.0",
          "state": {
            "_model_module": "@jupyter-widgets/base",
            "_model_module_version": "1.2.0",
            "_model_name": "LayoutModel",
            "_view_count": null,
            "_view_module": "@jupyter-widgets/base",
            "_view_module_version": "1.2.0",
            "_view_name": "LayoutView",
            "align_content": null,
            "align_items": null,
            "align_self": null,
            "border": null,
            "bottom": null,
            "display": null,
            "flex": null,
            "flex_flow": null,
            "grid_area": null,
            "grid_auto_columns": null,
            "grid_auto_flow": null,
            "grid_auto_rows": null,
            "grid_column": null,
            "grid_gap": null,
            "grid_row": null,
            "grid_template_areas": null,
            "grid_template_columns": null,
            "grid_template_rows": null,
            "height": null,
            "justify_content": null,
            "justify_items": null,
            "left": null,
            "margin": null,
            "max_height": null,
            "max_width": null,
            "min_height": null,
            "min_width": null,
            "object_fit": null,
            "object_position": null,
            "order": null,
            "overflow": null,
            "overflow_x": null,
            "overflow_y": null,
            "padding": null,
            "right": null,
            "top": null,
            "visibility": null,
            "width": null
          }
        },
        "2a6d901c784e48b882dc104c3dbf7149": {
          "model_module": "@jupyter-widgets/controls",
          "model_name": "ProgressStyleModel",
          "model_module_version": "1.5.0",
          "state": {
            "_model_module": "@jupyter-widgets/controls",
            "_model_module_version": "1.5.0",
            "_model_name": "ProgressStyleModel",
            "_view_count": null,
            "_view_module": "@jupyter-widgets/base",
            "_view_module_version": "1.2.0",
            "_view_name": "StyleView",
            "bar_color": null,
            "description_width": ""
          }
        },
        "75548786881a4a70a08ee78d41182e0d": {
          "model_module": "@jupyter-widgets/base",
          "model_name": "LayoutModel",
          "model_module_version": "1.2.0",
          "state": {
            "_model_module": "@jupyter-widgets/base",
            "_model_module_version": "1.2.0",
            "_model_name": "LayoutModel",
            "_view_count": null,
            "_view_module": "@jupyter-widgets/base",
            "_view_module_version": "1.2.0",
            "_view_name": "LayoutView",
            "align_content": null,
            "align_items": null,
            "align_self": null,
            "border": null,
            "bottom": null,
            "display": null,
            "flex": null,
            "flex_flow": null,
            "grid_area": null,
            "grid_auto_columns": null,
            "grid_auto_flow": null,
            "grid_auto_rows": null,
            "grid_column": null,
            "grid_gap": null,
            "grid_row": null,
            "grid_template_areas": null,
            "grid_template_columns": null,
            "grid_template_rows": null,
            "height": null,
            "justify_content": null,
            "justify_items": null,
            "left": null,
            "margin": null,
            "max_height": null,
            "max_width": null,
            "min_height": null,
            "min_width": null,
            "object_fit": null,
            "object_position": null,
            "order": null,
            "overflow": null,
            "overflow_x": null,
            "overflow_y": null,
            "padding": null,
            "right": null,
            "top": null,
            "visibility": null,
            "width": null
          }
        },
        "e9ab4db80d524bf09fffd15d9d64be27": {
          "model_module": "@jupyter-widgets/controls",
          "model_name": "DescriptionStyleModel",
          "model_module_version": "1.5.0",
          "state": {
            "_model_module": "@jupyter-widgets/controls",
            "_model_module_version": "1.5.0",
            "_model_name": "DescriptionStyleModel",
            "_view_count": null,
            "_view_module": "@jupyter-widgets/base",
            "_view_module_version": "1.2.0",
            "_view_name": "StyleView",
            "description_width": ""
          }
        },
        "ee6a89ad069c414bb377fa931e8b0400": {
          "model_module": "@jupyter-widgets/controls",
          "model_name": "HBoxModel",
          "model_module_version": "1.5.0",
          "state": {
            "_dom_classes": [],
            "_model_module": "@jupyter-widgets/controls",
            "_model_module_version": "1.5.0",
            "_model_name": "HBoxModel",
            "_view_count": null,
            "_view_module": "@jupyter-widgets/controls",
            "_view_module_version": "1.5.0",
            "_view_name": "HBoxView",
            "box_style": "",
            "children": [
              "IPY_MODEL_625c60ef12f34d08ab8d05d2e83cb63c",
              "IPY_MODEL_d0900e95b1df4f2787dc5986f92f7824",
              "IPY_MODEL_7b4d798271904f50909891db6c4bf297"
            ],
            "layout": "IPY_MODEL_c6f03cbab3434b4b8643ae080c2eb53c"
          }
        },
        "625c60ef12f34d08ab8d05d2e83cb63c": {
          "model_module": "@jupyter-widgets/controls",
          "model_name": "HTMLModel",
          "model_module_version": "1.5.0",
          "state": {
            "_dom_classes": [],
            "_model_module": "@jupyter-widgets/controls",
            "_model_module_version": "1.5.0",
            "_model_name": "HTMLModel",
            "_view_count": null,
            "_view_module": "@jupyter-widgets/controls",
            "_view_module_version": "1.5.0",
            "_view_name": "HTMLView",
            "description": "",
            "description_tooltip": null,
            "layout": "IPY_MODEL_98ab23117d964bada7a6916bb0c91b5e",
            "placeholder": "​",
            "style": "IPY_MODEL_a8d58401cb7d436d822ecd3310627315",
            "value": "Epoch  5: 100%"
          }
        },
        "d0900e95b1df4f2787dc5986f92f7824": {
          "model_module": "@jupyter-widgets/controls",
          "model_name": "FloatProgressModel",
          "model_module_version": "1.5.0",
          "state": {
            "_dom_classes": [],
            "_model_module": "@jupyter-widgets/controls",
            "_model_module_version": "1.5.0",
            "_model_name": "FloatProgressModel",
            "_view_count": null,
            "_view_module": "@jupyter-widgets/controls",
            "_view_module_version": "1.5.0",
            "_view_name": "ProgressView",
            "bar_style": "success",
            "description": "",
            "description_tooltip": null,
            "layout": "IPY_MODEL_3883e661203b4f328869f1976a83a7fa",
            "max": 1147,
            "min": 0,
            "orientation": "horizontal",
            "style": "IPY_MODEL_23174b54e36f424f956e928fe52bcd01",
            "value": 1147
          }
        },
        "7b4d798271904f50909891db6c4bf297": {
          "model_module": "@jupyter-widgets/controls",
          "model_name": "HTMLModel",
          "model_module_version": "1.5.0",
          "state": {
            "_dom_classes": [],
            "_model_module": "@jupyter-widgets/controls",
            "_model_module_version": "1.5.0",
            "_model_name": "HTMLModel",
            "_view_count": null,
            "_view_module": "@jupyter-widgets/controls",
            "_view_module_version": "1.5.0",
            "_view_name": "HTMLView",
            "description": "",
            "description_tooltip": null,
            "layout": "IPY_MODEL_da7b932e59544b678c3cf468c4a62c6c",
            "placeholder": "​",
            "style": "IPY_MODEL_a77e1d2ff15942dabb9474b69fb1dfb1",
            "value": " 1147/1147 [02:07&lt;00:00,  8.87it/s, Loss 1.7209]"
          }
        },
        "c6f03cbab3434b4b8643ae080c2eb53c": {
          "model_module": "@jupyter-widgets/base",
          "model_name": "LayoutModel",
          "model_module_version": "1.2.0",
          "state": {
            "_model_module": "@jupyter-widgets/base",
            "_model_module_version": "1.2.0",
            "_model_name": "LayoutModel",
            "_view_count": null,
            "_view_module": "@jupyter-widgets/base",
            "_view_module_version": "1.2.0",
            "_view_name": "LayoutView",
            "align_content": null,
            "align_items": null,
            "align_self": null,
            "border": null,
            "bottom": null,
            "display": null,
            "flex": null,
            "flex_flow": null,
            "grid_area": null,
            "grid_auto_columns": null,
            "grid_auto_flow": null,
            "grid_auto_rows": null,
            "grid_column": null,
            "grid_gap": null,
            "grid_row": null,
            "grid_template_areas": null,
            "grid_template_columns": null,
            "grid_template_rows": null,
            "height": null,
            "justify_content": null,
            "justify_items": null,
            "left": null,
            "margin": null,
            "max_height": null,
            "max_width": null,
            "min_height": null,
            "min_width": null,
            "object_fit": null,
            "object_position": null,
            "order": null,
            "overflow": null,
            "overflow_x": null,
            "overflow_y": null,
            "padding": null,
            "right": null,
            "top": null,
            "visibility": null,
            "width": null
          }
        },
        "98ab23117d964bada7a6916bb0c91b5e": {
          "model_module": "@jupyter-widgets/base",
          "model_name": "LayoutModel",
          "model_module_version": "1.2.0",
          "state": {
            "_model_module": "@jupyter-widgets/base",
            "_model_module_version": "1.2.0",
            "_model_name": "LayoutModel",
            "_view_count": null,
            "_view_module": "@jupyter-widgets/base",
            "_view_module_version": "1.2.0",
            "_view_name": "LayoutView",
            "align_content": null,
            "align_items": null,
            "align_self": null,
            "border": null,
            "bottom": null,
            "display": null,
            "flex": null,
            "flex_flow": null,
            "grid_area": null,
            "grid_auto_columns": null,
            "grid_auto_flow": null,
            "grid_auto_rows": null,
            "grid_column": null,
            "grid_gap": null,
            "grid_row": null,
            "grid_template_areas": null,
            "grid_template_columns": null,
            "grid_template_rows": null,
            "height": null,
            "justify_content": null,
            "justify_items": null,
            "left": null,
            "margin": null,
            "max_height": null,
            "max_width": null,
            "min_height": null,
            "min_width": null,
            "object_fit": null,
            "object_position": null,
            "order": null,
            "overflow": null,
            "overflow_x": null,
            "overflow_y": null,
            "padding": null,
            "right": null,
            "top": null,
            "visibility": null,
            "width": null
          }
        },
        "a8d58401cb7d436d822ecd3310627315": {
          "model_module": "@jupyter-widgets/controls",
          "model_name": "DescriptionStyleModel",
          "model_module_version": "1.5.0",
          "state": {
            "_model_module": "@jupyter-widgets/controls",
            "_model_module_version": "1.5.0",
            "_model_name": "DescriptionStyleModel",
            "_view_count": null,
            "_view_module": "@jupyter-widgets/base",
            "_view_module_version": "1.2.0",
            "_view_name": "StyleView",
            "description_width": ""
          }
        },
        "3883e661203b4f328869f1976a83a7fa": {
          "model_module": "@jupyter-widgets/base",
          "model_name": "LayoutModel",
          "model_module_version": "1.2.0",
          "state": {
            "_model_module": "@jupyter-widgets/base",
            "_model_module_version": "1.2.0",
            "_model_name": "LayoutModel",
            "_view_count": null,
            "_view_module": "@jupyter-widgets/base",
            "_view_module_version": "1.2.0",
            "_view_name": "LayoutView",
            "align_content": null,
            "align_items": null,
            "align_self": null,
            "border": null,
            "bottom": null,
            "display": null,
            "flex": null,
            "flex_flow": null,
            "grid_area": null,
            "grid_auto_columns": null,
            "grid_auto_flow": null,
            "grid_auto_rows": null,
            "grid_column": null,
            "grid_gap": null,
            "grid_row": null,
            "grid_template_areas": null,
            "grid_template_columns": null,
            "grid_template_rows": null,
            "height": null,
            "justify_content": null,
            "justify_items": null,
            "left": null,
            "margin": null,
            "max_height": null,
            "max_width": null,
            "min_height": null,
            "min_width": null,
            "object_fit": null,
            "object_position": null,
            "order": null,
            "overflow": null,
            "overflow_x": null,
            "overflow_y": null,
            "padding": null,
            "right": null,
            "top": null,
            "visibility": null,
            "width": null
          }
        },
        "23174b54e36f424f956e928fe52bcd01": {
          "model_module": "@jupyter-widgets/controls",
          "model_name": "ProgressStyleModel",
          "model_module_version": "1.5.0",
          "state": {
            "_model_module": "@jupyter-widgets/controls",
            "_model_module_version": "1.5.0",
            "_model_name": "ProgressStyleModel",
            "_view_count": null,
            "_view_module": "@jupyter-widgets/base",
            "_view_module_version": "1.2.0",
            "_view_name": "StyleView",
            "bar_color": null,
            "description_width": ""
          }
        },
        "da7b932e59544b678c3cf468c4a62c6c": {
          "model_module": "@jupyter-widgets/base",
          "model_name": "LayoutModel",
          "model_module_version": "1.2.0",
          "state": {
            "_model_module": "@jupyter-widgets/base",
            "_model_module_version": "1.2.0",
            "_model_name": "LayoutModel",
            "_view_count": null,
            "_view_module": "@jupyter-widgets/base",
            "_view_module_version": "1.2.0",
            "_view_name": "LayoutView",
            "align_content": null,
            "align_items": null,
            "align_self": null,
            "border": null,
            "bottom": null,
            "display": null,
            "flex": null,
            "flex_flow": null,
            "grid_area": null,
            "grid_auto_columns": null,
            "grid_auto_flow": null,
            "grid_auto_rows": null,
            "grid_column": null,
            "grid_gap": null,
            "grid_row": null,
            "grid_template_areas": null,
            "grid_template_columns": null,
            "grid_template_rows": null,
            "height": null,
            "justify_content": null,
            "justify_items": null,
            "left": null,
            "margin": null,
            "max_height": null,
            "max_width": null,
            "min_height": null,
            "min_width": null,
            "object_fit": null,
            "object_position": null,
            "order": null,
            "overflow": null,
            "overflow_x": null,
            "overflow_y": null,
            "padding": null,
            "right": null,
            "top": null,
            "visibility": null,
            "width": null
          }
        },
        "a77e1d2ff15942dabb9474b69fb1dfb1": {
          "model_module": "@jupyter-widgets/controls",
          "model_name": "DescriptionStyleModel",
          "model_module_version": "1.5.0",
          "state": {
            "_model_module": "@jupyter-widgets/controls",
            "_model_module_version": "1.5.0",
            "_model_name": "DescriptionStyleModel",
            "_view_count": null,
            "_view_module": "@jupyter-widgets/base",
            "_view_module_version": "1.2.0",
            "_view_name": "StyleView",
            "description_width": ""
          }
        },
        "edc62de411da4eecae00d5a5d9f2c503": {
          "model_module": "@jupyter-widgets/controls",
          "model_name": "HBoxModel",
          "model_module_version": "1.5.0",
          "state": {
            "_dom_classes": [],
            "_model_module": "@jupyter-widgets/controls",
            "_model_module_version": "1.5.0",
            "_model_name": "HBoxModel",
            "_view_count": null,
            "_view_module": "@jupyter-widgets/controls",
            "_view_module_version": "1.5.0",
            "_view_name": "HBoxView",
            "box_style": "",
            "children": [
              "IPY_MODEL_8b680de829a74684b0fb7d5951fa5305",
              "IPY_MODEL_7735c1495c234a299f2b9e629ef72baa",
              "IPY_MODEL_8a8f7083f65847938e60d4da1a404240"
            ],
            "layout": "IPY_MODEL_7d3eec3d34ff4ae4963d5b42341fa895"
          }
        },
        "8b680de829a74684b0fb7d5951fa5305": {
          "model_module": "@jupyter-widgets/controls",
          "model_name": "HTMLModel",
          "model_module_version": "1.5.0",
          "state": {
            "_dom_classes": [],
            "_model_module": "@jupyter-widgets/controls",
            "_model_module_version": "1.5.0",
            "_model_name": "HTMLModel",
            "_view_count": null,
            "_view_module": "@jupyter-widgets/controls",
            "_view_module_version": "1.5.0",
            "_view_name": "HTMLView",
            "description": "",
            "description_tooltip": null,
            "layout": "IPY_MODEL_e72ff9860f4040f8aa97ba7a2a657a97",
            "placeholder": "​",
            "style": "IPY_MODEL_d8a9f1be7a1a479a89d395d880851b9d",
            "value": "Epoch  6: 100%"
          }
        },
        "7735c1495c234a299f2b9e629ef72baa": {
          "model_module": "@jupyter-widgets/controls",
          "model_name": "FloatProgressModel",
          "model_module_version": "1.5.0",
          "state": {
            "_dom_classes": [],
            "_model_module": "@jupyter-widgets/controls",
            "_model_module_version": "1.5.0",
            "_model_name": "FloatProgressModel",
            "_view_count": null,
            "_view_module": "@jupyter-widgets/controls",
            "_view_module_version": "1.5.0",
            "_view_name": "ProgressView",
            "bar_style": "success",
            "description": "",
            "description_tooltip": null,
            "layout": "IPY_MODEL_ae3adca69f1e400baad97125bca060f0",
            "max": 1147,
            "min": 0,
            "orientation": "horizontal",
            "style": "IPY_MODEL_7e97e764785a418bb7428df7951576ed",
            "value": 1147
          }
        },
        "8a8f7083f65847938e60d4da1a404240": {
          "model_module": "@jupyter-widgets/controls",
          "model_name": "HTMLModel",
          "model_module_version": "1.5.0",
          "state": {
            "_dom_classes": [],
            "_model_module": "@jupyter-widgets/controls",
            "_model_module_version": "1.5.0",
            "_model_name": "HTMLModel",
            "_view_count": null,
            "_view_module": "@jupyter-widgets/controls",
            "_view_module_version": "1.5.0",
            "_view_name": "HTMLView",
            "description": "",
            "description_tooltip": null,
            "layout": "IPY_MODEL_b4cec602e14f413ebcec5bf3a7ce2ff8",
            "placeholder": "​",
            "style": "IPY_MODEL_f81ea2bcb224474dbb09298cb887b7be",
            "value": " 1147/1147 [02:07&lt;00:00,  9.07it/s, Loss 1.2563]"
          }
        },
        "7d3eec3d34ff4ae4963d5b42341fa895": {
          "model_module": "@jupyter-widgets/base",
          "model_name": "LayoutModel",
          "model_module_version": "1.2.0",
          "state": {
            "_model_module": "@jupyter-widgets/base",
            "_model_module_version": "1.2.0",
            "_model_name": "LayoutModel",
            "_view_count": null,
            "_view_module": "@jupyter-widgets/base",
            "_view_module_version": "1.2.0",
            "_view_name": "LayoutView",
            "align_content": null,
            "align_items": null,
            "align_self": null,
            "border": null,
            "bottom": null,
            "display": null,
            "flex": null,
            "flex_flow": null,
            "grid_area": null,
            "grid_auto_columns": null,
            "grid_auto_flow": null,
            "grid_auto_rows": null,
            "grid_column": null,
            "grid_gap": null,
            "grid_row": null,
            "grid_template_areas": null,
            "grid_template_columns": null,
            "grid_template_rows": null,
            "height": null,
            "justify_content": null,
            "justify_items": null,
            "left": null,
            "margin": null,
            "max_height": null,
            "max_width": null,
            "min_height": null,
            "min_width": null,
            "object_fit": null,
            "object_position": null,
            "order": null,
            "overflow": null,
            "overflow_x": null,
            "overflow_y": null,
            "padding": null,
            "right": null,
            "top": null,
            "visibility": null,
            "width": null
          }
        },
        "e72ff9860f4040f8aa97ba7a2a657a97": {
          "model_module": "@jupyter-widgets/base",
          "model_name": "LayoutModel",
          "model_module_version": "1.2.0",
          "state": {
            "_model_module": "@jupyter-widgets/base",
            "_model_module_version": "1.2.0",
            "_model_name": "LayoutModel",
            "_view_count": null,
            "_view_module": "@jupyter-widgets/base",
            "_view_module_version": "1.2.0",
            "_view_name": "LayoutView",
            "align_content": null,
            "align_items": null,
            "align_self": null,
            "border": null,
            "bottom": null,
            "display": null,
            "flex": null,
            "flex_flow": null,
            "grid_area": null,
            "grid_auto_columns": null,
            "grid_auto_flow": null,
            "grid_auto_rows": null,
            "grid_column": null,
            "grid_gap": null,
            "grid_row": null,
            "grid_template_areas": null,
            "grid_template_columns": null,
            "grid_template_rows": null,
            "height": null,
            "justify_content": null,
            "justify_items": null,
            "left": null,
            "margin": null,
            "max_height": null,
            "max_width": null,
            "min_height": null,
            "min_width": null,
            "object_fit": null,
            "object_position": null,
            "order": null,
            "overflow": null,
            "overflow_x": null,
            "overflow_y": null,
            "padding": null,
            "right": null,
            "top": null,
            "visibility": null,
            "width": null
          }
        },
        "d8a9f1be7a1a479a89d395d880851b9d": {
          "model_module": "@jupyter-widgets/controls",
          "model_name": "DescriptionStyleModel",
          "model_module_version": "1.5.0",
          "state": {
            "_model_module": "@jupyter-widgets/controls",
            "_model_module_version": "1.5.0",
            "_model_name": "DescriptionStyleModel",
            "_view_count": null,
            "_view_module": "@jupyter-widgets/base",
            "_view_module_version": "1.2.0",
            "_view_name": "StyleView",
            "description_width": ""
          }
        },
        "ae3adca69f1e400baad97125bca060f0": {
          "model_module": "@jupyter-widgets/base",
          "model_name": "LayoutModel",
          "model_module_version": "1.2.0",
          "state": {
            "_model_module": "@jupyter-widgets/base",
            "_model_module_version": "1.2.0",
            "_model_name": "LayoutModel",
            "_view_count": null,
            "_view_module": "@jupyter-widgets/base",
            "_view_module_version": "1.2.0",
            "_view_name": "LayoutView",
            "align_content": null,
            "align_items": null,
            "align_self": null,
            "border": null,
            "bottom": null,
            "display": null,
            "flex": null,
            "flex_flow": null,
            "grid_area": null,
            "grid_auto_columns": null,
            "grid_auto_flow": null,
            "grid_auto_rows": null,
            "grid_column": null,
            "grid_gap": null,
            "grid_row": null,
            "grid_template_areas": null,
            "grid_template_columns": null,
            "grid_template_rows": null,
            "height": null,
            "justify_content": null,
            "justify_items": null,
            "left": null,
            "margin": null,
            "max_height": null,
            "max_width": null,
            "min_height": null,
            "min_width": null,
            "object_fit": null,
            "object_position": null,
            "order": null,
            "overflow": null,
            "overflow_x": null,
            "overflow_y": null,
            "padding": null,
            "right": null,
            "top": null,
            "visibility": null,
            "width": null
          }
        },
        "7e97e764785a418bb7428df7951576ed": {
          "model_module": "@jupyter-widgets/controls",
          "model_name": "ProgressStyleModel",
          "model_module_version": "1.5.0",
          "state": {
            "_model_module": "@jupyter-widgets/controls",
            "_model_module_version": "1.5.0",
            "_model_name": "ProgressStyleModel",
            "_view_count": null,
            "_view_module": "@jupyter-widgets/base",
            "_view_module_version": "1.2.0",
            "_view_name": "StyleView",
            "bar_color": null,
            "description_width": ""
          }
        },
        "b4cec602e14f413ebcec5bf3a7ce2ff8": {
          "model_module": "@jupyter-widgets/base",
          "model_name": "LayoutModel",
          "model_module_version": "1.2.0",
          "state": {
            "_model_module": "@jupyter-widgets/base",
            "_model_module_version": "1.2.0",
            "_model_name": "LayoutModel",
            "_view_count": null,
            "_view_module": "@jupyter-widgets/base",
            "_view_module_version": "1.2.0",
            "_view_name": "LayoutView",
            "align_content": null,
            "align_items": null,
            "align_self": null,
            "border": null,
            "bottom": null,
            "display": null,
            "flex": null,
            "flex_flow": null,
            "grid_area": null,
            "grid_auto_columns": null,
            "grid_auto_flow": null,
            "grid_auto_rows": null,
            "grid_column": null,
            "grid_gap": null,
            "grid_row": null,
            "grid_template_areas": null,
            "grid_template_columns": null,
            "grid_template_rows": null,
            "height": null,
            "justify_content": null,
            "justify_items": null,
            "left": null,
            "margin": null,
            "max_height": null,
            "max_width": null,
            "min_height": null,
            "min_width": null,
            "object_fit": null,
            "object_position": null,
            "order": null,
            "overflow": null,
            "overflow_x": null,
            "overflow_y": null,
            "padding": null,
            "right": null,
            "top": null,
            "visibility": null,
            "width": null
          }
        },
        "f81ea2bcb224474dbb09298cb887b7be": {
          "model_module": "@jupyter-widgets/controls",
          "model_name": "DescriptionStyleModel",
          "model_module_version": "1.5.0",
          "state": {
            "_model_module": "@jupyter-widgets/controls",
            "_model_module_version": "1.5.0",
            "_model_name": "DescriptionStyleModel",
            "_view_count": null,
            "_view_module": "@jupyter-widgets/base",
            "_view_module_version": "1.2.0",
            "_view_name": "StyleView",
            "description_width": ""
          }
        },
        "91ea119ee01547d78e8076c9a5cc40cc": {
          "model_module": "@jupyter-widgets/controls",
          "model_name": "HBoxModel",
          "model_module_version": "1.5.0",
          "state": {
            "_dom_classes": [],
            "_model_module": "@jupyter-widgets/controls",
            "_model_module_version": "1.5.0",
            "_model_name": "HBoxModel",
            "_view_count": null,
            "_view_module": "@jupyter-widgets/controls",
            "_view_module_version": "1.5.0",
            "_view_name": "HBoxView",
            "box_style": "",
            "children": [
              "IPY_MODEL_8adbe52a0d1348e0b9f563c717fca842",
              "IPY_MODEL_6bc9310a69ce408fb9f9bbb9afc99b96",
              "IPY_MODEL_aaa970b86f524a268c99dec2f1faf41c"
            ],
            "layout": "IPY_MODEL_0528eb5c1f6d4e1bbbe848a45720ebda"
          }
        },
        "8adbe52a0d1348e0b9f563c717fca842": {
          "model_module": "@jupyter-widgets/controls",
          "model_name": "HTMLModel",
          "model_module_version": "1.5.0",
          "state": {
            "_dom_classes": [],
            "_model_module": "@jupyter-widgets/controls",
            "_model_module_version": "1.5.0",
            "_model_name": "HTMLModel",
            "_view_count": null,
            "_view_module": "@jupyter-widgets/controls",
            "_view_module_version": "1.5.0",
            "_view_name": "HTMLView",
            "description": "",
            "description_tooltip": null,
            "layout": "IPY_MODEL_6e5f0be22744433ba3789aa4e085a79a",
            "placeholder": "​",
            "style": "IPY_MODEL_df12e1241a2b42708dfd7fa57f6e6025",
            "value": "Epoch  7: 100%"
          }
        },
        "6bc9310a69ce408fb9f9bbb9afc99b96": {
          "model_module": "@jupyter-widgets/controls",
          "model_name": "FloatProgressModel",
          "model_module_version": "1.5.0",
          "state": {
            "_dom_classes": [],
            "_model_module": "@jupyter-widgets/controls",
            "_model_module_version": "1.5.0",
            "_model_name": "FloatProgressModel",
            "_view_count": null,
            "_view_module": "@jupyter-widgets/controls",
            "_view_module_version": "1.5.0",
            "_view_name": "ProgressView",
            "bar_style": "success",
            "description": "",
            "description_tooltip": null,
            "layout": "IPY_MODEL_3dc4880766214e2ba9f0623b8f12c73e",
            "max": 1147,
            "min": 0,
            "orientation": "horizontal",
            "style": "IPY_MODEL_5a00d4583de748bab2ba772eaba76275",
            "value": 1147
          }
        },
        "aaa970b86f524a268c99dec2f1faf41c": {
          "model_module": "@jupyter-widgets/controls",
          "model_name": "HTMLModel",
          "model_module_version": "1.5.0",
          "state": {
            "_dom_classes": [],
            "_model_module": "@jupyter-widgets/controls",
            "_model_module_version": "1.5.0",
            "_model_name": "HTMLModel",
            "_view_count": null,
            "_view_module": "@jupyter-widgets/controls",
            "_view_module_version": "1.5.0",
            "_view_name": "HTMLView",
            "description": "",
            "description_tooltip": null,
            "layout": "IPY_MODEL_248caa00801c40da962ee4311f7dad6b",
            "placeholder": "​",
            "style": "IPY_MODEL_bb1d81b1cbe1435fb2d05591b10436cb",
            "value": " 1147/1147 [02:07&lt;00:00,  8.97it/s, Loss 0.9107]"
          }
        },
        "0528eb5c1f6d4e1bbbe848a45720ebda": {
          "model_module": "@jupyter-widgets/base",
          "model_name": "LayoutModel",
          "model_module_version": "1.2.0",
          "state": {
            "_model_module": "@jupyter-widgets/base",
            "_model_module_version": "1.2.0",
            "_model_name": "LayoutModel",
            "_view_count": null,
            "_view_module": "@jupyter-widgets/base",
            "_view_module_version": "1.2.0",
            "_view_name": "LayoutView",
            "align_content": null,
            "align_items": null,
            "align_self": null,
            "border": null,
            "bottom": null,
            "display": null,
            "flex": null,
            "flex_flow": null,
            "grid_area": null,
            "grid_auto_columns": null,
            "grid_auto_flow": null,
            "grid_auto_rows": null,
            "grid_column": null,
            "grid_gap": null,
            "grid_row": null,
            "grid_template_areas": null,
            "grid_template_columns": null,
            "grid_template_rows": null,
            "height": null,
            "justify_content": null,
            "justify_items": null,
            "left": null,
            "margin": null,
            "max_height": null,
            "max_width": null,
            "min_height": null,
            "min_width": null,
            "object_fit": null,
            "object_position": null,
            "order": null,
            "overflow": null,
            "overflow_x": null,
            "overflow_y": null,
            "padding": null,
            "right": null,
            "top": null,
            "visibility": null,
            "width": null
          }
        },
        "6e5f0be22744433ba3789aa4e085a79a": {
          "model_module": "@jupyter-widgets/base",
          "model_name": "LayoutModel",
          "model_module_version": "1.2.0",
          "state": {
            "_model_module": "@jupyter-widgets/base",
            "_model_module_version": "1.2.0",
            "_model_name": "LayoutModel",
            "_view_count": null,
            "_view_module": "@jupyter-widgets/base",
            "_view_module_version": "1.2.0",
            "_view_name": "LayoutView",
            "align_content": null,
            "align_items": null,
            "align_self": null,
            "border": null,
            "bottom": null,
            "display": null,
            "flex": null,
            "flex_flow": null,
            "grid_area": null,
            "grid_auto_columns": null,
            "grid_auto_flow": null,
            "grid_auto_rows": null,
            "grid_column": null,
            "grid_gap": null,
            "grid_row": null,
            "grid_template_areas": null,
            "grid_template_columns": null,
            "grid_template_rows": null,
            "height": null,
            "justify_content": null,
            "justify_items": null,
            "left": null,
            "margin": null,
            "max_height": null,
            "max_width": null,
            "min_height": null,
            "min_width": null,
            "object_fit": null,
            "object_position": null,
            "order": null,
            "overflow": null,
            "overflow_x": null,
            "overflow_y": null,
            "padding": null,
            "right": null,
            "top": null,
            "visibility": null,
            "width": null
          }
        },
        "df12e1241a2b42708dfd7fa57f6e6025": {
          "model_module": "@jupyter-widgets/controls",
          "model_name": "DescriptionStyleModel",
          "model_module_version": "1.5.0",
          "state": {
            "_model_module": "@jupyter-widgets/controls",
            "_model_module_version": "1.5.0",
            "_model_name": "DescriptionStyleModel",
            "_view_count": null,
            "_view_module": "@jupyter-widgets/base",
            "_view_module_version": "1.2.0",
            "_view_name": "StyleView",
            "description_width": ""
          }
        },
        "3dc4880766214e2ba9f0623b8f12c73e": {
          "model_module": "@jupyter-widgets/base",
          "model_name": "LayoutModel",
          "model_module_version": "1.2.0",
          "state": {
            "_model_module": "@jupyter-widgets/base",
            "_model_module_version": "1.2.0",
            "_model_name": "LayoutModel",
            "_view_count": null,
            "_view_module": "@jupyter-widgets/base",
            "_view_module_version": "1.2.0",
            "_view_name": "LayoutView",
            "align_content": null,
            "align_items": null,
            "align_self": null,
            "border": null,
            "bottom": null,
            "display": null,
            "flex": null,
            "flex_flow": null,
            "grid_area": null,
            "grid_auto_columns": null,
            "grid_auto_flow": null,
            "grid_auto_rows": null,
            "grid_column": null,
            "grid_gap": null,
            "grid_row": null,
            "grid_template_areas": null,
            "grid_template_columns": null,
            "grid_template_rows": null,
            "height": null,
            "justify_content": null,
            "justify_items": null,
            "left": null,
            "margin": null,
            "max_height": null,
            "max_width": null,
            "min_height": null,
            "min_width": null,
            "object_fit": null,
            "object_position": null,
            "order": null,
            "overflow": null,
            "overflow_x": null,
            "overflow_y": null,
            "padding": null,
            "right": null,
            "top": null,
            "visibility": null,
            "width": null
          }
        },
        "5a00d4583de748bab2ba772eaba76275": {
          "model_module": "@jupyter-widgets/controls",
          "model_name": "ProgressStyleModel",
          "model_module_version": "1.5.0",
          "state": {
            "_model_module": "@jupyter-widgets/controls",
            "_model_module_version": "1.5.0",
            "_model_name": "ProgressStyleModel",
            "_view_count": null,
            "_view_module": "@jupyter-widgets/base",
            "_view_module_version": "1.2.0",
            "_view_name": "StyleView",
            "bar_color": null,
            "description_width": ""
          }
        },
        "248caa00801c40da962ee4311f7dad6b": {
          "model_module": "@jupyter-widgets/base",
          "model_name": "LayoutModel",
          "model_module_version": "1.2.0",
          "state": {
            "_model_module": "@jupyter-widgets/base",
            "_model_module_version": "1.2.0",
            "_model_name": "LayoutModel",
            "_view_count": null,
            "_view_module": "@jupyter-widgets/base",
            "_view_module_version": "1.2.0",
            "_view_name": "LayoutView",
            "align_content": null,
            "align_items": null,
            "align_self": null,
            "border": null,
            "bottom": null,
            "display": null,
            "flex": null,
            "flex_flow": null,
            "grid_area": null,
            "grid_auto_columns": null,
            "grid_auto_flow": null,
            "grid_auto_rows": null,
            "grid_column": null,
            "grid_gap": null,
            "grid_row": null,
            "grid_template_areas": null,
            "grid_template_columns": null,
            "grid_template_rows": null,
            "height": null,
            "justify_content": null,
            "justify_items": null,
            "left": null,
            "margin": null,
            "max_height": null,
            "max_width": null,
            "min_height": null,
            "min_width": null,
            "object_fit": null,
            "object_position": null,
            "order": null,
            "overflow": null,
            "overflow_x": null,
            "overflow_y": null,
            "padding": null,
            "right": null,
            "top": null,
            "visibility": null,
            "width": null
          }
        },
        "bb1d81b1cbe1435fb2d05591b10436cb": {
          "model_module": "@jupyter-widgets/controls",
          "model_name": "DescriptionStyleModel",
          "model_module_version": "1.5.0",
          "state": {
            "_model_module": "@jupyter-widgets/controls",
            "_model_module_version": "1.5.0",
            "_model_name": "DescriptionStyleModel",
            "_view_count": null,
            "_view_module": "@jupyter-widgets/base",
            "_view_module_version": "1.2.0",
            "_view_name": "StyleView",
            "description_width": ""
          }
        },
        "149fc801c4f64e63a800fa661e053750": {
          "model_module": "@jupyter-widgets/controls",
          "model_name": "HBoxModel",
          "model_module_version": "1.5.0",
          "state": {
            "_dom_classes": [],
            "_model_module": "@jupyter-widgets/controls",
            "_model_module_version": "1.5.0",
            "_model_name": "HBoxModel",
            "_view_count": null,
            "_view_module": "@jupyter-widgets/controls",
            "_view_module_version": "1.5.0",
            "_view_name": "HBoxView",
            "box_style": "",
            "children": [
              "IPY_MODEL_41ea0015c07241dd9f3959b358c401e8",
              "IPY_MODEL_c14a8da11b3d40cb9af7ac8f8475fe1c",
              "IPY_MODEL_d04682679097449aad1c11514151aedb"
            ],
            "layout": "IPY_MODEL_e5571069b46643e4843ddf5cd5d8d6be"
          }
        },
        "41ea0015c07241dd9f3959b358c401e8": {
          "model_module": "@jupyter-widgets/controls",
          "model_name": "HTMLModel",
          "model_module_version": "1.5.0",
          "state": {
            "_dom_classes": [],
            "_model_module": "@jupyter-widgets/controls",
            "_model_module_version": "1.5.0",
            "_model_name": "HTMLModel",
            "_view_count": null,
            "_view_module": "@jupyter-widgets/controls",
            "_view_module_version": "1.5.0",
            "_view_name": "HTMLView",
            "description": "",
            "description_tooltip": null,
            "layout": "IPY_MODEL_9d76dad3ec344315b1c8fed6c5d87b88",
            "placeholder": "​",
            "style": "IPY_MODEL_caa62da5f6e344fbb2d33e87b83a8718",
            "value": "Epoch  8: 100%"
          }
        },
        "c14a8da11b3d40cb9af7ac8f8475fe1c": {
          "model_module": "@jupyter-widgets/controls",
          "model_name": "FloatProgressModel",
          "model_module_version": "1.5.0",
          "state": {
            "_dom_classes": [],
            "_model_module": "@jupyter-widgets/controls",
            "_model_module_version": "1.5.0",
            "_model_name": "FloatProgressModel",
            "_view_count": null,
            "_view_module": "@jupyter-widgets/controls",
            "_view_module_version": "1.5.0",
            "_view_name": "ProgressView",
            "bar_style": "success",
            "description": "",
            "description_tooltip": null,
            "layout": "IPY_MODEL_18e9087b399c4a78ab74d82eadf2ff82",
            "max": 1147,
            "min": 0,
            "orientation": "horizontal",
            "style": "IPY_MODEL_e8040c1030b04a8c9435973421f3a3f9",
            "value": 1147
          }
        },
        "d04682679097449aad1c11514151aedb": {
          "model_module": "@jupyter-widgets/controls",
          "model_name": "HTMLModel",
          "model_module_version": "1.5.0",
          "state": {
            "_dom_classes": [],
            "_model_module": "@jupyter-widgets/controls",
            "_model_module_version": "1.5.0",
            "_model_name": "HTMLModel",
            "_view_count": null,
            "_view_module": "@jupyter-widgets/controls",
            "_view_module_version": "1.5.0",
            "_view_name": "HTMLView",
            "description": "",
            "description_tooltip": null,
            "layout": "IPY_MODEL_43e58f7ea7274d599e88b13ee41fdbec",
            "placeholder": "​",
            "style": "IPY_MODEL_e09ba317d5694df3b8cbd7bfccf436e3",
            "value": " 1147/1147 [02:07&lt;00:00,  9.10it/s, Loss 0.6734]"
          }
        },
        "e5571069b46643e4843ddf5cd5d8d6be": {
          "model_module": "@jupyter-widgets/base",
          "model_name": "LayoutModel",
          "model_module_version": "1.2.0",
          "state": {
            "_model_module": "@jupyter-widgets/base",
            "_model_module_version": "1.2.0",
            "_model_name": "LayoutModel",
            "_view_count": null,
            "_view_module": "@jupyter-widgets/base",
            "_view_module_version": "1.2.0",
            "_view_name": "LayoutView",
            "align_content": null,
            "align_items": null,
            "align_self": null,
            "border": null,
            "bottom": null,
            "display": null,
            "flex": null,
            "flex_flow": null,
            "grid_area": null,
            "grid_auto_columns": null,
            "grid_auto_flow": null,
            "grid_auto_rows": null,
            "grid_column": null,
            "grid_gap": null,
            "grid_row": null,
            "grid_template_areas": null,
            "grid_template_columns": null,
            "grid_template_rows": null,
            "height": null,
            "justify_content": null,
            "justify_items": null,
            "left": null,
            "margin": null,
            "max_height": null,
            "max_width": null,
            "min_height": null,
            "min_width": null,
            "object_fit": null,
            "object_position": null,
            "order": null,
            "overflow": null,
            "overflow_x": null,
            "overflow_y": null,
            "padding": null,
            "right": null,
            "top": null,
            "visibility": null,
            "width": null
          }
        },
        "9d76dad3ec344315b1c8fed6c5d87b88": {
          "model_module": "@jupyter-widgets/base",
          "model_name": "LayoutModel",
          "model_module_version": "1.2.0",
          "state": {
            "_model_module": "@jupyter-widgets/base",
            "_model_module_version": "1.2.0",
            "_model_name": "LayoutModel",
            "_view_count": null,
            "_view_module": "@jupyter-widgets/base",
            "_view_module_version": "1.2.0",
            "_view_name": "LayoutView",
            "align_content": null,
            "align_items": null,
            "align_self": null,
            "border": null,
            "bottom": null,
            "display": null,
            "flex": null,
            "flex_flow": null,
            "grid_area": null,
            "grid_auto_columns": null,
            "grid_auto_flow": null,
            "grid_auto_rows": null,
            "grid_column": null,
            "grid_gap": null,
            "grid_row": null,
            "grid_template_areas": null,
            "grid_template_columns": null,
            "grid_template_rows": null,
            "height": null,
            "justify_content": null,
            "justify_items": null,
            "left": null,
            "margin": null,
            "max_height": null,
            "max_width": null,
            "min_height": null,
            "min_width": null,
            "object_fit": null,
            "object_position": null,
            "order": null,
            "overflow": null,
            "overflow_x": null,
            "overflow_y": null,
            "padding": null,
            "right": null,
            "top": null,
            "visibility": null,
            "width": null
          }
        },
        "caa62da5f6e344fbb2d33e87b83a8718": {
          "model_module": "@jupyter-widgets/controls",
          "model_name": "DescriptionStyleModel",
          "model_module_version": "1.5.0",
          "state": {
            "_model_module": "@jupyter-widgets/controls",
            "_model_module_version": "1.5.0",
            "_model_name": "DescriptionStyleModel",
            "_view_count": null,
            "_view_module": "@jupyter-widgets/base",
            "_view_module_version": "1.2.0",
            "_view_name": "StyleView",
            "description_width": ""
          }
        },
        "18e9087b399c4a78ab74d82eadf2ff82": {
          "model_module": "@jupyter-widgets/base",
          "model_name": "LayoutModel",
          "model_module_version": "1.2.0",
          "state": {
            "_model_module": "@jupyter-widgets/base",
            "_model_module_version": "1.2.0",
            "_model_name": "LayoutModel",
            "_view_count": null,
            "_view_module": "@jupyter-widgets/base",
            "_view_module_version": "1.2.0",
            "_view_name": "LayoutView",
            "align_content": null,
            "align_items": null,
            "align_self": null,
            "border": null,
            "bottom": null,
            "display": null,
            "flex": null,
            "flex_flow": null,
            "grid_area": null,
            "grid_auto_columns": null,
            "grid_auto_flow": null,
            "grid_auto_rows": null,
            "grid_column": null,
            "grid_gap": null,
            "grid_row": null,
            "grid_template_areas": null,
            "grid_template_columns": null,
            "grid_template_rows": null,
            "height": null,
            "justify_content": null,
            "justify_items": null,
            "left": null,
            "margin": null,
            "max_height": null,
            "max_width": null,
            "min_height": null,
            "min_width": null,
            "object_fit": null,
            "object_position": null,
            "order": null,
            "overflow": null,
            "overflow_x": null,
            "overflow_y": null,
            "padding": null,
            "right": null,
            "top": null,
            "visibility": null,
            "width": null
          }
        },
        "e8040c1030b04a8c9435973421f3a3f9": {
          "model_module": "@jupyter-widgets/controls",
          "model_name": "ProgressStyleModel",
          "model_module_version": "1.5.0",
          "state": {
            "_model_module": "@jupyter-widgets/controls",
            "_model_module_version": "1.5.0",
            "_model_name": "ProgressStyleModel",
            "_view_count": null,
            "_view_module": "@jupyter-widgets/base",
            "_view_module_version": "1.2.0",
            "_view_name": "StyleView",
            "bar_color": null,
            "description_width": ""
          }
        },
        "43e58f7ea7274d599e88b13ee41fdbec": {
          "model_module": "@jupyter-widgets/base",
          "model_name": "LayoutModel",
          "model_module_version": "1.2.0",
          "state": {
            "_model_module": "@jupyter-widgets/base",
            "_model_module_version": "1.2.0",
            "_model_name": "LayoutModel",
            "_view_count": null,
            "_view_module": "@jupyter-widgets/base",
            "_view_module_version": "1.2.0",
            "_view_name": "LayoutView",
            "align_content": null,
            "align_items": null,
            "align_self": null,
            "border": null,
            "bottom": null,
            "display": null,
            "flex": null,
            "flex_flow": null,
            "grid_area": null,
            "grid_auto_columns": null,
            "grid_auto_flow": null,
            "grid_auto_rows": null,
            "grid_column": null,
            "grid_gap": null,
            "grid_row": null,
            "grid_template_areas": null,
            "grid_template_columns": null,
            "grid_template_rows": null,
            "height": null,
            "justify_content": null,
            "justify_items": null,
            "left": null,
            "margin": null,
            "max_height": null,
            "max_width": null,
            "min_height": null,
            "min_width": null,
            "object_fit": null,
            "object_position": null,
            "order": null,
            "overflow": null,
            "overflow_x": null,
            "overflow_y": null,
            "padding": null,
            "right": null,
            "top": null,
            "visibility": null,
            "width": null
          }
        },
        "e09ba317d5694df3b8cbd7bfccf436e3": {
          "model_module": "@jupyter-widgets/controls",
          "model_name": "DescriptionStyleModel",
          "model_module_version": "1.5.0",
          "state": {
            "_model_module": "@jupyter-widgets/controls",
            "_model_module_version": "1.5.0",
            "_model_name": "DescriptionStyleModel",
            "_view_count": null,
            "_view_module": "@jupyter-widgets/base",
            "_view_module_version": "1.2.0",
            "_view_name": "StyleView",
            "description_width": ""
          }
        },
        "878a1cb6ba3e43999fb8331e3e1393c2": {
          "model_module": "@jupyter-widgets/controls",
          "model_name": "HBoxModel",
          "model_module_version": "1.5.0",
          "state": {
            "_dom_classes": [],
            "_model_module": "@jupyter-widgets/controls",
            "_model_module_version": "1.5.0",
            "_model_name": "HBoxModel",
            "_view_count": null,
            "_view_module": "@jupyter-widgets/controls",
            "_view_module_version": "1.5.0",
            "_view_name": "HBoxView",
            "box_style": "",
            "children": [
              "IPY_MODEL_5bf87b3e94ad4f06a4786cf3a28add95",
              "IPY_MODEL_b132aed8bcf242718e5df5c67bbf273e",
              "IPY_MODEL_fe082ee968ee4f298327cb7d122598f7"
            ],
            "layout": "IPY_MODEL_9c62895a9c85412ab9f2f31721a52f69"
          }
        },
        "5bf87b3e94ad4f06a4786cf3a28add95": {
          "model_module": "@jupyter-widgets/controls",
          "model_name": "HTMLModel",
          "model_module_version": "1.5.0",
          "state": {
            "_dom_classes": [],
            "_model_module": "@jupyter-widgets/controls",
            "_model_module_version": "1.5.0",
            "_model_name": "HTMLModel",
            "_view_count": null,
            "_view_module": "@jupyter-widgets/controls",
            "_view_module_version": "1.5.0",
            "_view_name": "HTMLView",
            "description": "",
            "description_tooltip": null,
            "layout": "IPY_MODEL_d1fce206a90640ab91a69943d37ba8c1",
            "placeholder": "​",
            "style": "IPY_MODEL_aa97b993e5a54e3d9e603ffba5384053",
            "value": "Epoch  9: 100%"
          }
        },
        "b132aed8bcf242718e5df5c67bbf273e": {
          "model_module": "@jupyter-widgets/controls",
          "model_name": "FloatProgressModel",
          "model_module_version": "1.5.0",
          "state": {
            "_dom_classes": [],
            "_model_module": "@jupyter-widgets/controls",
            "_model_module_version": "1.5.0",
            "_model_name": "FloatProgressModel",
            "_view_count": null,
            "_view_module": "@jupyter-widgets/controls",
            "_view_module_version": "1.5.0",
            "_view_name": "ProgressView",
            "bar_style": "success",
            "description": "",
            "description_tooltip": null,
            "layout": "IPY_MODEL_a2d27d9ffe774dbf9de4b44f2591da93",
            "max": 1147,
            "min": 0,
            "orientation": "horizontal",
            "style": "IPY_MODEL_c59e451f4d1a456383cac5f1ad63ccc7",
            "value": 1147
          }
        },
        "fe082ee968ee4f298327cb7d122598f7": {
          "model_module": "@jupyter-widgets/controls",
          "model_name": "HTMLModel",
          "model_module_version": "1.5.0",
          "state": {
            "_dom_classes": [],
            "_model_module": "@jupyter-widgets/controls",
            "_model_module_version": "1.5.0",
            "_model_name": "HTMLModel",
            "_view_count": null,
            "_view_module": "@jupyter-widgets/controls",
            "_view_module_version": "1.5.0",
            "_view_name": "HTMLView",
            "description": "",
            "description_tooltip": null,
            "layout": "IPY_MODEL_4b163db550bd4cb8b20610e865cc9d9e",
            "placeholder": "​",
            "style": "IPY_MODEL_93f01689215643b8962d60dbb2da32e8",
            "value": " 1147/1147 [02:07&lt;00:00,  9.08it/s, Loss 0.5184]"
          }
        },
        "9c62895a9c85412ab9f2f31721a52f69": {
          "model_module": "@jupyter-widgets/base",
          "model_name": "LayoutModel",
          "model_module_version": "1.2.0",
          "state": {
            "_model_module": "@jupyter-widgets/base",
            "_model_module_version": "1.2.0",
            "_model_name": "LayoutModel",
            "_view_count": null,
            "_view_module": "@jupyter-widgets/base",
            "_view_module_version": "1.2.0",
            "_view_name": "LayoutView",
            "align_content": null,
            "align_items": null,
            "align_self": null,
            "border": null,
            "bottom": null,
            "display": null,
            "flex": null,
            "flex_flow": null,
            "grid_area": null,
            "grid_auto_columns": null,
            "grid_auto_flow": null,
            "grid_auto_rows": null,
            "grid_column": null,
            "grid_gap": null,
            "grid_row": null,
            "grid_template_areas": null,
            "grid_template_columns": null,
            "grid_template_rows": null,
            "height": null,
            "justify_content": null,
            "justify_items": null,
            "left": null,
            "margin": null,
            "max_height": null,
            "max_width": null,
            "min_height": null,
            "min_width": null,
            "object_fit": null,
            "object_position": null,
            "order": null,
            "overflow": null,
            "overflow_x": null,
            "overflow_y": null,
            "padding": null,
            "right": null,
            "top": null,
            "visibility": null,
            "width": null
          }
        },
        "d1fce206a90640ab91a69943d37ba8c1": {
          "model_module": "@jupyter-widgets/base",
          "model_name": "LayoutModel",
          "model_module_version": "1.2.0",
          "state": {
            "_model_module": "@jupyter-widgets/base",
            "_model_module_version": "1.2.0",
            "_model_name": "LayoutModel",
            "_view_count": null,
            "_view_module": "@jupyter-widgets/base",
            "_view_module_version": "1.2.0",
            "_view_name": "LayoutView",
            "align_content": null,
            "align_items": null,
            "align_self": null,
            "border": null,
            "bottom": null,
            "display": null,
            "flex": null,
            "flex_flow": null,
            "grid_area": null,
            "grid_auto_columns": null,
            "grid_auto_flow": null,
            "grid_auto_rows": null,
            "grid_column": null,
            "grid_gap": null,
            "grid_row": null,
            "grid_template_areas": null,
            "grid_template_columns": null,
            "grid_template_rows": null,
            "height": null,
            "justify_content": null,
            "justify_items": null,
            "left": null,
            "margin": null,
            "max_height": null,
            "max_width": null,
            "min_height": null,
            "min_width": null,
            "object_fit": null,
            "object_position": null,
            "order": null,
            "overflow": null,
            "overflow_x": null,
            "overflow_y": null,
            "padding": null,
            "right": null,
            "top": null,
            "visibility": null,
            "width": null
          }
        },
        "aa97b993e5a54e3d9e603ffba5384053": {
          "model_module": "@jupyter-widgets/controls",
          "model_name": "DescriptionStyleModel",
          "model_module_version": "1.5.0",
          "state": {
            "_model_module": "@jupyter-widgets/controls",
            "_model_module_version": "1.5.0",
            "_model_name": "DescriptionStyleModel",
            "_view_count": null,
            "_view_module": "@jupyter-widgets/base",
            "_view_module_version": "1.2.0",
            "_view_name": "StyleView",
            "description_width": ""
          }
        },
        "a2d27d9ffe774dbf9de4b44f2591da93": {
          "model_module": "@jupyter-widgets/base",
          "model_name": "LayoutModel",
          "model_module_version": "1.2.0",
          "state": {
            "_model_module": "@jupyter-widgets/base",
            "_model_module_version": "1.2.0",
            "_model_name": "LayoutModel",
            "_view_count": null,
            "_view_module": "@jupyter-widgets/base",
            "_view_module_version": "1.2.0",
            "_view_name": "LayoutView",
            "align_content": null,
            "align_items": null,
            "align_self": null,
            "border": null,
            "bottom": null,
            "display": null,
            "flex": null,
            "flex_flow": null,
            "grid_area": null,
            "grid_auto_columns": null,
            "grid_auto_flow": null,
            "grid_auto_rows": null,
            "grid_column": null,
            "grid_gap": null,
            "grid_row": null,
            "grid_template_areas": null,
            "grid_template_columns": null,
            "grid_template_rows": null,
            "height": null,
            "justify_content": null,
            "justify_items": null,
            "left": null,
            "margin": null,
            "max_height": null,
            "max_width": null,
            "min_height": null,
            "min_width": null,
            "object_fit": null,
            "object_position": null,
            "order": null,
            "overflow": null,
            "overflow_x": null,
            "overflow_y": null,
            "padding": null,
            "right": null,
            "top": null,
            "visibility": null,
            "width": null
          }
        },
        "c59e451f4d1a456383cac5f1ad63ccc7": {
          "model_module": "@jupyter-widgets/controls",
          "model_name": "ProgressStyleModel",
          "model_module_version": "1.5.0",
          "state": {
            "_model_module": "@jupyter-widgets/controls",
            "_model_module_version": "1.5.0",
            "_model_name": "ProgressStyleModel",
            "_view_count": null,
            "_view_module": "@jupyter-widgets/base",
            "_view_module_version": "1.2.0",
            "_view_name": "StyleView",
            "bar_color": null,
            "description_width": ""
          }
        },
        "4b163db550bd4cb8b20610e865cc9d9e": {
          "model_module": "@jupyter-widgets/base",
          "model_name": "LayoutModel",
          "model_module_version": "1.2.0",
          "state": {
            "_model_module": "@jupyter-widgets/base",
            "_model_module_version": "1.2.0",
            "_model_name": "LayoutModel",
            "_view_count": null,
            "_view_module": "@jupyter-widgets/base",
            "_view_module_version": "1.2.0",
            "_view_name": "LayoutView",
            "align_content": null,
            "align_items": null,
            "align_self": null,
            "border": null,
            "bottom": null,
            "display": null,
            "flex": null,
            "flex_flow": null,
            "grid_area": null,
            "grid_auto_columns": null,
            "grid_auto_flow": null,
            "grid_auto_rows": null,
            "grid_column": null,
            "grid_gap": null,
            "grid_row": null,
            "grid_template_areas": null,
            "grid_template_columns": null,
            "grid_template_rows": null,
            "height": null,
            "justify_content": null,
            "justify_items": null,
            "left": null,
            "margin": null,
            "max_height": null,
            "max_width": null,
            "min_height": null,
            "min_width": null,
            "object_fit": null,
            "object_position": null,
            "order": null,
            "overflow": null,
            "overflow_x": null,
            "overflow_y": null,
            "padding": null,
            "right": null,
            "top": null,
            "visibility": null,
            "width": null
          }
        },
        "93f01689215643b8962d60dbb2da32e8": {
          "model_module": "@jupyter-widgets/controls",
          "model_name": "DescriptionStyleModel",
          "model_module_version": "1.5.0",
          "state": {
            "_model_module": "@jupyter-widgets/controls",
            "_model_module_version": "1.5.0",
            "_model_name": "DescriptionStyleModel",
            "_view_count": null,
            "_view_module": "@jupyter-widgets/base",
            "_view_module_version": "1.2.0",
            "_view_name": "StyleView",
            "description_width": ""
          }
        },
        "0b3f590183854bef8768379be28188fe": {
          "model_module": "@jupyter-widgets/controls",
          "model_name": "HBoxModel",
          "model_module_version": "1.5.0",
          "state": {
            "_dom_classes": [],
            "_model_module": "@jupyter-widgets/controls",
            "_model_module_version": "1.5.0",
            "_model_name": "HBoxModel",
            "_view_count": null,
            "_view_module": "@jupyter-widgets/controls",
            "_view_module_version": "1.5.0",
            "_view_name": "HBoxView",
            "box_style": "",
            "children": [
              "IPY_MODEL_b01d90f61fca4ce9b3ba2ad67cb8d4bb",
              "IPY_MODEL_6619ca55e01f4c188ba526f9918225e4",
              "IPY_MODEL_aac8188a1c134d9893004afc6dddd85e"
            ],
            "layout": "IPY_MODEL_ca3f28005cfb4463a29c18d6c7dbef6d"
          }
        },
        "b01d90f61fca4ce9b3ba2ad67cb8d4bb": {
          "model_module": "@jupyter-widgets/controls",
          "model_name": "HTMLModel",
          "model_module_version": "1.5.0",
          "state": {
            "_dom_classes": [],
            "_model_module": "@jupyter-widgets/controls",
            "_model_module_version": "1.5.0",
            "_model_name": "HTMLModel",
            "_view_count": null,
            "_view_module": "@jupyter-widgets/controls",
            "_view_module_version": "1.5.0",
            "_view_name": "HTMLView",
            "description": "",
            "description_tooltip": null,
            "layout": "IPY_MODEL_2dc30c7f308240bc88f9f7a482310469",
            "placeholder": "​",
            "style": "IPY_MODEL_d025f2590af647ffb77b01e872041870",
            "value": "Epoch 10: 100%"
          }
        },
        "6619ca55e01f4c188ba526f9918225e4": {
          "model_module": "@jupyter-widgets/controls",
          "model_name": "FloatProgressModel",
          "model_module_version": "1.5.0",
          "state": {
            "_dom_classes": [],
            "_model_module": "@jupyter-widgets/controls",
            "_model_module_version": "1.5.0",
            "_model_name": "FloatProgressModel",
            "_view_count": null,
            "_view_module": "@jupyter-widgets/controls",
            "_view_module_version": "1.5.0",
            "_view_name": "ProgressView",
            "bar_style": "success",
            "description": "",
            "description_tooltip": null,
            "layout": "IPY_MODEL_228b69b4e5f34ded8a47894d5bef8c3b",
            "max": 1147,
            "min": 0,
            "orientation": "horizontal",
            "style": "IPY_MODEL_b7d73bd8cc2d4e0b85d915a88c60d5d7",
            "value": 1147
          }
        },
        "aac8188a1c134d9893004afc6dddd85e": {
          "model_module": "@jupyter-widgets/controls",
          "model_name": "HTMLModel",
          "model_module_version": "1.5.0",
          "state": {
            "_dom_classes": [],
            "_model_module": "@jupyter-widgets/controls",
            "_model_module_version": "1.5.0",
            "_model_name": "HTMLModel",
            "_view_count": null,
            "_view_module": "@jupyter-widgets/controls",
            "_view_module_version": "1.5.0",
            "_view_name": "HTMLView",
            "description": "",
            "description_tooltip": null,
            "layout": "IPY_MODEL_1aca79fe4a1a419987f1b6adaf176b74",
            "placeholder": "​",
            "style": "IPY_MODEL_4bc50904c43147dfab87e9ecf50a6a31",
            "value": " 1147/1147 [02:07&lt;00:00,  8.93it/s, Loss 0.4185]"
          }
        },
        "ca3f28005cfb4463a29c18d6c7dbef6d": {
          "model_module": "@jupyter-widgets/base",
          "model_name": "LayoutModel",
          "model_module_version": "1.2.0",
          "state": {
            "_model_module": "@jupyter-widgets/base",
            "_model_module_version": "1.2.0",
            "_model_name": "LayoutModel",
            "_view_count": null,
            "_view_module": "@jupyter-widgets/base",
            "_view_module_version": "1.2.0",
            "_view_name": "LayoutView",
            "align_content": null,
            "align_items": null,
            "align_self": null,
            "border": null,
            "bottom": null,
            "display": null,
            "flex": null,
            "flex_flow": null,
            "grid_area": null,
            "grid_auto_columns": null,
            "grid_auto_flow": null,
            "grid_auto_rows": null,
            "grid_column": null,
            "grid_gap": null,
            "grid_row": null,
            "grid_template_areas": null,
            "grid_template_columns": null,
            "grid_template_rows": null,
            "height": null,
            "justify_content": null,
            "justify_items": null,
            "left": null,
            "margin": null,
            "max_height": null,
            "max_width": null,
            "min_height": null,
            "min_width": null,
            "object_fit": null,
            "object_position": null,
            "order": null,
            "overflow": null,
            "overflow_x": null,
            "overflow_y": null,
            "padding": null,
            "right": null,
            "top": null,
            "visibility": null,
            "width": null
          }
        },
        "2dc30c7f308240bc88f9f7a482310469": {
          "model_module": "@jupyter-widgets/base",
          "model_name": "LayoutModel",
          "model_module_version": "1.2.0",
          "state": {
            "_model_module": "@jupyter-widgets/base",
            "_model_module_version": "1.2.0",
            "_model_name": "LayoutModel",
            "_view_count": null,
            "_view_module": "@jupyter-widgets/base",
            "_view_module_version": "1.2.0",
            "_view_name": "LayoutView",
            "align_content": null,
            "align_items": null,
            "align_self": null,
            "border": null,
            "bottom": null,
            "display": null,
            "flex": null,
            "flex_flow": null,
            "grid_area": null,
            "grid_auto_columns": null,
            "grid_auto_flow": null,
            "grid_auto_rows": null,
            "grid_column": null,
            "grid_gap": null,
            "grid_row": null,
            "grid_template_areas": null,
            "grid_template_columns": null,
            "grid_template_rows": null,
            "height": null,
            "justify_content": null,
            "justify_items": null,
            "left": null,
            "margin": null,
            "max_height": null,
            "max_width": null,
            "min_height": null,
            "min_width": null,
            "object_fit": null,
            "object_position": null,
            "order": null,
            "overflow": null,
            "overflow_x": null,
            "overflow_y": null,
            "padding": null,
            "right": null,
            "top": null,
            "visibility": null,
            "width": null
          }
        },
        "d025f2590af647ffb77b01e872041870": {
          "model_module": "@jupyter-widgets/controls",
          "model_name": "DescriptionStyleModel",
          "model_module_version": "1.5.0",
          "state": {
            "_model_module": "@jupyter-widgets/controls",
            "_model_module_version": "1.5.0",
            "_model_name": "DescriptionStyleModel",
            "_view_count": null,
            "_view_module": "@jupyter-widgets/base",
            "_view_module_version": "1.2.0",
            "_view_name": "StyleView",
            "description_width": ""
          }
        },
        "228b69b4e5f34ded8a47894d5bef8c3b": {
          "model_module": "@jupyter-widgets/base",
          "model_name": "LayoutModel",
          "model_module_version": "1.2.0",
          "state": {
            "_model_module": "@jupyter-widgets/base",
            "_model_module_version": "1.2.0",
            "_model_name": "LayoutModel",
            "_view_count": null,
            "_view_module": "@jupyter-widgets/base",
            "_view_module_version": "1.2.0",
            "_view_name": "LayoutView",
            "align_content": null,
            "align_items": null,
            "align_self": null,
            "border": null,
            "bottom": null,
            "display": null,
            "flex": null,
            "flex_flow": null,
            "grid_area": null,
            "grid_auto_columns": null,
            "grid_auto_flow": null,
            "grid_auto_rows": null,
            "grid_column": null,
            "grid_gap": null,
            "grid_row": null,
            "grid_template_areas": null,
            "grid_template_columns": null,
            "grid_template_rows": null,
            "height": null,
            "justify_content": null,
            "justify_items": null,
            "left": null,
            "margin": null,
            "max_height": null,
            "max_width": null,
            "min_height": null,
            "min_width": null,
            "object_fit": null,
            "object_position": null,
            "order": null,
            "overflow": null,
            "overflow_x": null,
            "overflow_y": null,
            "padding": null,
            "right": null,
            "top": null,
            "visibility": null,
            "width": null
          }
        },
        "b7d73bd8cc2d4e0b85d915a88c60d5d7": {
          "model_module": "@jupyter-widgets/controls",
          "model_name": "ProgressStyleModel",
          "model_module_version": "1.5.0",
          "state": {
            "_model_module": "@jupyter-widgets/controls",
            "_model_module_version": "1.5.0",
            "_model_name": "ProgressStyleModel",
            "_view_count": null,
            "_view_module": "@jupyter-widgets/base",
            "_view_module_version": "1.2.0",
            "_view_name": "StyleView",
            "bar_color": null,
            "description_width": ""
          }
        },
        "1aca79fe4a1a419987f1b6adaf176b74": {
          "model_module": "@jupyter-widgets/base",
          "model_name": "LayoutModel",
          "model_module_version": "1.2.0",
          "state": {
            "_model_module": "@jupyter-widgets/base",
            "_model_module_version": "1.2.0",
            "_model_name": "LayoutModel",
            "_view_count": null,
            "_view_module": "@jupyter-widgets/base",
            "_view_module_version": "1.2.0",
            "_view_name": "LayoutView",
            "align_content": null,
            "align_items": null,
            "align_self": null,
            "border": null,
            "bottom": null,
            "display": null,
            "flex": null,
            "flex_flow": null,
            "grid_area": null,
            "grid_auto_columns": null,
            "grid_auto_flow": null,
            "grid_auto_rows": null,
            "grid_column": null,
            "grid_gap": null,
            "grid_row": null,
            "grid_template_areas": null,
            "grid_template_columns": null,
            "grid_template_rows": null,
            "height": null,
            "justify_content": null,
            "justify_items": null,
            "left": null,
            "margin": null,
            "max_height": null,
            "max_width": null,
            "min_height": null,
            "min_width": null,
            "object_fit": null,
            "object_position": null,
            "order": null,
            "overflow": null,
            "overflow_x": null,
            "overflow_y": null,
            "padding": null,
            "right": null,
            "top": null,
            "visibility": null,
            "width": null
          }
        },
        "4bc50904c43147dfab87e9ecf50a6a31": {
          "model_module": "@jupyter-widgets/controls",
          "model_name": "DescriptionStyleModel",
          "model_module_version": "1.5.0",
          "state": {
            "_model_module": "@jupyter-widgets/controls",
            "_model_module_version": "1.5.0",
            "_model_name": "DescriptionStyleModel",
            "_view_count": null,
            "_view_module": "@jupyter-widgets/base",
            "_view_module_version": "1.2.0",
            "_view_name": "StyleView",
            "description_width": ""
          }
        }
      }
    }
  },
  "cells": [
    {
      "cell_type": "markdown",
      "metadata": {
        "id": "view-in-github",
        "colab_type": "text"
      },
      "source": [
        "<a href=\"https://colab.research.google.com/github/siyeon-Hwang/aiffel_exp/blob/main/%5BNLP-05%5D%20Transformer%20Translator.ipynb\" target=\"_parent\"><img src=\"https://colab.research.google.com/assets/colab-badge.svg\" alt=\"Open In Colab\"/></a>"
      ]
    },
    {
      "cell_type": "markdown",
      "source": [
        "### 목차\n",
        "***\n",
        "1. 데이터 다운로드\n",
        "2. 데이터 정제 및 토큰화\n",
        "  1. 중복 제거\n",
        "  2. 정제하기\n",
        "  3. 토큰화\n",
        "  4. 길이 제한 및 텐서 변환\n",
        "3. 모델 설계\n",
        "4. 훈련하기\n",
        "  1. transformer 선언\n",
        "  2. learning_rate 및 optimizer 선언\n",
        "  3. Loss 함수 정의\n",
        "  4. train_step 함수 정의\n",
        "  5. 학습 진행\n",
        "5. 회고"
      ],
      "metadata": {
        "id": "lF5zkbZX0uZ6"
      }
    },
    {
      "cell_type": "markdown",
      "source": [
        "## 라이브러리 버전 확인\n",
        "사용할 라이브러리 버전을 둘러보고,  \n",
        "필요 라이브러리를 가져온다."
      ],
      "metadata": {
        "id": "fK_QOpEJ6kpl"
      }
    },
    {
      "cell_type": "code",
      "execution_count": null,
      "metadata": {
        "colab": {
          "base_uri": "https://localhost:8080/"
        },
        "id": "qIVwE0BXpyye",
        "outputId": "9ada4f0c-7da5-4dba-aeac-3bf6fcd75daa"
      },
      "outputs": [
        {
          "output_type": "stream",
          "name": "stdout",
          "text": [
            "2.8.0\n",
            "1.21.5\n",
            "3.2.2\n"
          ]
        }
      ],
      "source": [
        "import tensorflow\n",
        "import numpy\n",
        "import matplotlib\n",
        "\n",
        "print(tensorflow.__version__)\n",
        "print(numpy.__version__)\n",
        "print(matplotlib.__version__)"
      ]
    },
    {
      "cell_type": "code",
      "source": [
        "import tensorflow as tf\n",
        "import numpy as np\n",
        "\n",
        "import matplotlib.pyplot as plt\n",
        "\n",
        "import time\n",
        "import re\n",
        "import io\n",
        "import os\n",
        "import random\n",
        "\n",
        "import seaborn # Attention 시각화"
      ],
      "metadata": {
        "id": "lQTIXGkdROL-"
      },
      "execution_count": null,
      "outputs": []
    },
    {
      "cell_type": "markdown",
      "source": [
        "### 나눔 글꼴 설치하기\n",
        "[구글 코랩 한글 깨짐 현상 해결 방법](https://teddylee777.github.io/colab/colab-korean)"
      ],
      "metadata": {
        "id": "t-0JUIgv67Kk"
      }
    },
    {
      "cell_type": "code",
      "source": [
        "!sudo apt-get install -y fonts-nanum\n",
        "!sudo fc-cache -fv \n",
        "!rm ~/.cache/matplotlib -rf"
      ],
      "metadata": {
        "colab": {
          "base_uri": "https://localhost:8080/"
        },
        "id": "2mRuBmdT6y1U",
        "outputId": "809e1d96-6bdb-4b97-fd0d-f9cec6e1e13f"
      },
      "execution_count": null,
      "outputs": [
        {
          "output_type": "stream",
          "name": "stdout",
          "text": [
            "Reading package lists... Done\n",
            "Building dependency tree       \n",
            "Reading state information... Done\n",
            "fonts-nanum is already the newest version (20170925-1).\n",
            "0 upgraded, 0 newly installed, 0 to remove and 39 not upgraded.\n",
            "/usr/share/fonts: caching, new cache contents: 0 fonts, 1 dirs\n",
            "/usr/share/fonts/truetype: caching, new cache contents: 0 fonts, 3 dirs\n",
            "/usr/share/fonts/truetype/humor-sans: caching, new cache contents: 1 fonts, 0 dirs\n",
            "/usr/share/fonts/truetype/liberation: caching, new cache contents: 16 fonts, 0 dirs\n",
            "/usr/share/fonts/truetype/nanum: caching, new cache contents: 10 fonts, 0 dirs\n",
            "/usr/local/share/fonts: caching, new cache contents: 0 fonts, 0 dirs\n",
            "/root/.local/share/fonts: skipping, no such directory\n",
            "/root/.fonts: skipping, no such directory\n",
            "/var/cache/fontconfig: cleaning cache directory\n",
            "/root/.cache/fontconfig: not cleaning non-existent cache directory\n",
            "/root/.fontconfig: not cleaning non-existent cache directory\n",
            "fc-cache: succeeded\n"
          ]
        }
      ]
    },
    {
      "cell_type": "code",
      "source": [
        "import matplotlib as mpl\n",
        "import matplotlib.pyplot as plt\n",
        "import matplotlib.font_manager as fm\n",
        "\n",
        "%config InlineBackend.figure_format = 'retina'\n",
        "\n",
        "fontpath = '/usr/share/fonts/truetype/nanum/NanumBarunGothic.ttf'\n",
        "font = fm.FontProperties(fname=fontpath, size=9)\n",
        "plt.rc('font', family='NanumBarunGothic') \n",
        "mpl.font_manager.findfont(font)\n",
        "\n",
        "print(\"슝=3\")"
      ],
      "metadata": {
        "colab": {
          "base_uri": "https://localhost:8080/"
        },
        "id": "93XoDoaM7RBE",
        "outputId": "4d511a5c-e3d6-4a0e-ef6d-227c3210fff1"
      },
      "execution_count": null,
      "outputs": [
        {
          "output_type": "stream",
          "name": "stdout",
          "text": [
            "슝=3\n"
          ]
        }
      ]
    },
    {
      "cell_type": "markdown",
      "source": [
        "### SentencePiece 다운로드"
      ],
      "metadata": {
        "id": "nICWMu2V7rX7"
      }
    },
    {
      "cell_type": "code",
      "source": [
        "# SentencePiece 다운로드\n",
        "!pip install sentencepiece"
      ],
      "metadata": {
        "colab": {
          "base_uri": "https://localhost:8080/"
        },
        "id": "JCVXIvw67Zyq",
        "outputId": "f96f648a-1550-4190-fdc4-e8474af55845"
      },
      "execution_count": null,
      "outputs": [
        {
          "output_type": "stream",
          "name": "stdout",
          "text": [
            "Collecting sentencepiece\n",
            "  Downloading sentencepiece-0.1.96-cp37-cp37m-manylinux_2_17_x86_64.manylinux2014_x86_64.whl (1.2 MB)\n",
            "\u001b[?25l\r\u001b[K     |▎                               | 10 kB 26.6 MB/s eta 0:00:01\r\u001b[K     |▌                               | 20 kB 8.3 MB/s eta 0:00:01\r\u001b[K     |▉                               | 30 kB 7.6 MB/s eta 0:00:01\r\u001b[K     |█                               | 40 kB 3.5 MB/s eta 0:00:01\r\u001b[K     |█▍                              | 51 kB 3.6 MB/s eta 0:00:01\r\u001b[K     |█▋                              | 61 kB 4.2 MB/s eta 0:00:01\r\u001b[K     |██                              | 71 kB 4.4 MB/s eta 0:00:01\r\u001b[K     |██▏                             | 81 kB 4.4 MB/s eta 0:00:01\r\u001b[K     |██▍                             | 92 kB 4.9 MB/s eta 0:00:01\r\u001b[K     |██▊                             | 102 kB 4.2 MB/s eta 0:00:01\r\u001b[K     |███                             | 112 kB 4.2 MB/s eta 0:00:01\r\u001b[K     |███▎                            | 122 kB 4.2 MB/s eta 0:00:01\r\u001b[K     |███▌                            | 133 kB 4.2 MB/s eta 0:00:01\r\u001b[K     |███▉                            | 143 kB 4.2 MB/s eta 0:00:01\r\u001b[K     |████                            | 153 kB 4.2 MB/s eta 0:00:01\r\u001b[K     |████▎                           | 163 kB 4.2 MB/s eta 0:00:01\r\u001b[K     |████▋                           | 174 kB 4.2 MB/s eta 0:00:01\r\u001b[K     |████▉                           | 184 kB 4.2 MB/s eta 0:00:01\r\u001b[K     |█████▏                          | 194 kB 4.2 MB/s eta 0:00:01\r\u001b[K     |█████▍                          | 204 kB 4.2 MB/s eta 0:00:01\r\u001b[K     |█████▊                          | 215 kB 4.2 MB/s eta 0:00:01\r\u001b[K     |██████                          | 225 kB 4.2 MB/s eta 0:00:01\r\u001b[K     |██████▏                         | 235 kB 4.2 MB/s eta 0:00:01\r\u001b[K     |██████▌                         | 245 kB 4.2 MB/s eta 0:00:01\r\u001b[K     |██████▊                         | 256 kB 4.2 MB/s eta 0:00:01\r\u001b[K     |███████                         | 266 kB 4.2 MB/s eta 0:00:01\r\u001b[K     |███████▎                        | 276 kB 4.2 MB/s eta 0:00:01\r\u001b[K     |███████▋                        | 286 kB 4.2 MB/s eta 0:00:01\r\u001b[K     |███████▉                        | 296 kB 4.2 MB/s eta 0:00:01\r\u001b[K     |████████                        | 307 kB 4.2 MB/s eta 0:00:01\r\u001b[K     |████████▍                       | 317 kB 4.2 MB/s eta 0:00:01\r\u001b[K     |████████▋                       | 327 kB 4.2 MB/s eta 0:00:01\r\u001b[K     |█████████                       | 337 kB 4.2 MB/s eta 0:00:01\r\u001b[K     |█████████▏                      | 348 kB 4.2 MB/s eta 0:00:01\r\u001b[K     |█████████▌                      | 358 kB 4.2 MB/s eta 0:00:01\r\u001b[K     |█████████▊                      | 368 kB 4.2 MB/s eta 0:00:01\r\u001b[K     |██████████                      | 378 kB 4.2 MB/s eta 0:00:01\r\u001b[K     |██████████▎                     | 389 kB 4.2 MB/s eta 0:00:01\r\u001b[K     |██████████▌                     | 399 kB 4.2 MB/s eta 0:00:01\r\u001b[K     |██████████▉                     | 409 kB 4.2 MB/s eta 0:00:01\r\u001b[K     |███████████                     | 419 kB 4.2 MB/s eta 0:00:01\r\u001b[K     |███████████▍                    | 430 kB 4.2 MB/s eta 0:00:01\r\u001b[K     |███████████▋                    | 440 kB 4.2 MB/s eta 0:00:01\r\u001b[K     |███████████▉                    | 450 kB 4.2 MB/s eta 0:00:01\r\u001b[K     |████████████▏                   | 460 kB 4.2 MB/s eta 0:00:01\r\u001b[K     |████████████▍                   | 471 kB 4.2 MB/s eta 0:00:01\r\u001b[K     |████████████▊                   | 481 kB 4.2 MB/s eta 0:00:01\r\u001b[K     |█████████████                   | 491 kB 4.2 MB/s eta 0:00:01\r\u001b[K     |█████████████▎                  | 501 kB 4.2 MB/s eta 0:00:01\r\u001b[K     |█████████████▌                  | 512 kB 4.2 MB/s eta 0:00:01\r\u001b[K     |█████████████▊                  | 522 kB 4.2 MB/s eta 0:00:01\r\u001b[K     |██████████████                  | 532 kB 4.2 MB/s eta 0:00:01\r\u001b[K     |██████████████▎                 | 542 kB 4.2 MB/s eta 0:00:01\r\u001b[K     |██████████████▋                 | 552 kB 4.2 MB/s eta 0:00:01\r\u001b[K     |██████████████▉                 | 563 kB 4.2 MB/s eta 0:00:01\r\u001b[K     |███████████████▏                | 573 kB 4.2 MB/s eta 0:00:01\r\u001b[K     |███████████████▍                | 583 kB 4.2 MB/s eta 0:00:01\r\u001b[K     |███████████████▋                | 593 kB 4.2 MB/s eta 0:00:01\r\u001b[K     |████████████████                | 604 kB 4.2 MB/s eta 0:00:01\r\u001b[K     |████████████████▏               | 614 kB 4.2 MB/s eta 0:00:01\r\u001b[K     |████████████████▌               | 624 kB 4.2 MB/s eta 0:00:01\r\u001b[K     |████████████████▊               | 634 kB 4.2 MB/s eta 0:00:01\r\u001b[K     |█████████████████               | 645 kB 4.2 MB/s eta 0:00:01\r\u001b[K     |█████████████████▎              | 655 kB 4.2 MB/s eta 0:00:01\r\u001b[K     |█████████████████▌              | 665 kB 4.2 MB/s eta 0:00:01\r\u001b[K     |█████████████████▉              | 675 kB 4.2 MB/s eta 0:00:01\r\u001b[K     |██████████████████              | 686 kB 4.2 MB/s eta 0:00:01\r\u001b[K     |██████████████████▍             | 696 kB 4.2 MB/s eta 0:00:01\r\u001b[K     |██████████████████▋             | 706 kB 4.2 MB/s eta 0:00:01\r\u001b[K     |███████████████████             | 716 kB 4.2 MB/s eta 0:00:01\r\u001b[K     |███████████████████▏            | 727 kB 4.2 MB/s eta 0:00:01\r\u001b[K     |███████████████████▍            | 737 kB 4.2 MB/s eta 0:00:01\r\u001b[K     |███████████████████▊            | 747 kB 4.2 MB/s eta 0:00:01\r\u001b[K     |████████████████████            | 757 kB 4.2 MB/s eta 0:00:01\r\u001b[K     |████████████████████▎           | 768 kB 4.2 MB/s eta 0:00:01\r\u001b[K     |████████████████████▌           | 778 kB 4.2 MB/s eta 0:00:01\r\u001b[K     |████████████████████▉           | 788 kB 4.2 MB/s eta 0:00:01\r\u001b[K     |█████████████████████           | 798 kB 4.2 MB/s eta 0:00:01\r\u001b[K     |█████████████████████▎          | 808 kB 4.2 MB/s eta 0:00:01\r\u001b[K     |█████████████████████▋          | 819 kB 4.2 MB/s eta 0:00:01\r\u001b[K     |█████████████████████▉          | 829 kB 4.2 MB/s eta 0:00:01\r\u001b[K     |██████████████████████▏         | 839 kB 4.2 MB/s eta 0:00:01\r\u001b[K     |██████████████████████▍         | 849 kB 4.2 MB/s eta 0:00:01\r\u001b[K     |██████████████████████▊         | 860 kB 4.2 MB/s eta 0:00:01\r\u001b[K     |███████████████████████         | 870 kB 4.2 MB/s eta 0:00:01\r\u001b[K     |███████████████████████▏        | 880 kB 4.2 MB/s eta 0:00:01\r\u001b[K     |███████████████████████▌        | 890 kB 4.2 MB/s eta 0:00:01\r\u001b[K     |███████████████████████▊        | 901 kB 4.2 MB/s eta 0:00:01\r\u001b[K     |████████████████████████        | 911 kB 4.2 MB/s eta 0:00:01\r\u001b[K     |████████████████████████▎       | 921 kB 4.2 MB/s eta 0:00:01\r\u001b[K     |████████████████████████▋       | 931 kB 4.2 MB/s eta 0:00:01\r\u001b[K     |████████████████████████▉       | 942 kB 4.2 MB/s eta 0:00:01\r\u001b[K     |█████████████████████████       | 952 kB 4.2 MB/s eta 0:00:01\r\u001b[K     |█████████████████████████▍      | 962 kB 4.2 MB/s eta 0:00:01\r\u001b[K     |█████████████████████████▋      | 972 kB 4.2 MB/s eta 0:00:01\r\u001b[K     |██████████████████████████      | 983 kB 4.2 MB/s eta 0:00:01\r\u001b[K     |██████████████████████████▏     | 993 kB 4.2 MB/s eta 0:00:01\r\u001b[K     |██████████████████████████▌     | 1.0 MB 4.2 MB/s eta 0:00:01\r\u001b[K     |██████████████████████████▊     | 1.0 MB 4.2 MB/s eta 0:00:01\r\u001b[K     |███████████████████████████     | 1.0 MB 4.2 MB/s eta 0:00:01\r\u001b[K     |███████████████████████████▎    | 1.0 MB 4.2 MB/s eta 0:00:01\r\u001b[K     |███████████████████████████▌    | 1.0 MB 4.2 MB/s eta 0:00:01\r\u001b[K     |███████████████████████████▉    | 1.1 MB 4.2 MB/s eta 0:00:01\r\u001b[K     |████████████████████████████    | 1.1 MB 4.2 MB/s eta 0:00:01\r\u001b[K     |████████████████████████████▍   | 1.1 MB 4.2 MB/s eta 0:00:01\r\u001b[K     |████████████████████████████▋   | 1.1 MB 4.2 MB/s eta 0:00:01\r\u001b[K     |████████████████████████████▉   | 1.1 MB 4.2 MB/s eta 0:00:01\r\u001b[K     |█████████████████████████████▏  | 1.1 MB 4.2 MB/s eta 0:00:01\r\u001b[K     |█████████████████████████████▍  | 1.1 MB 4.2 MB/s eta 0:00:01\r\u001b[K     |█████████████████████████████▊  | 1.1 MB 4.2 MB/s eta 0:00:01\r\u001b[K     |██████████████████████████████  | 1.1 MB 4.2 MB/s eta 0:00:01\r\u001b[K     |██████████████████████████████▎ | 1.1 MB 4.2 MB/s eta 0:00:01\r\u001b[K     |██████████████████████████████▌ | 1.2 MB 4.2 MB/s eta 0:00:01\r\u001b[K     |██████████████████████████████▊ | 1.2 MB 4.2 MB/s eta 0:00:01\r\u001b[K     |███████████████████████████████ | 1.2 MB 4.2 MB/s eta 0:00:01\r\u001b[K     |███████████████████████████████▎| 1.2 MB 4.2 MB/s eta 0:00:01\r\u001b[K     |███████████████████████████████▋| 1.2 MB 4.2 MB/s eta 0:00:01\r\u001b[K     |███████████████████████████████▉| 1.2 MB 4.2 MB/s eta 0:00:01\r\u001b[K     |████████████████████████████████| 1.2 MB 4.2 MB/s \n",
            "\u001b[?25hInstalling collected packages: sentencepiece\n",
            "Successfully installed sentencepiece-0.1.96\n"
          ]
        }
      ]
    },
    {
      "cell_type": "markdown",
      "source": [
        "# Step 1. 데이터 다운로드\n",
        "아래 링크에서 korean-english-park.train.tar.gz를 사용할 예정이다.\n",
        "- [jungyeul/korean-parallel-corpora](https://github.com/jungyeul/korean-parallel-corpora/tree/master/korean-english-news-v1)"
      ],
      "metadata": {
        "id": "LcYA1foe7yBc"
      }
    },
    {
      "cell_type": "code",
      "source": [
        "#1. 경로 바꾸기\n",
        "%cd '/content/drive/MyDrive/GoingDeeper_NLP/data/10.transformer_translator'"
      ],
      "metadata": {
        "colab": {
          "base_uri": "https://localhost:8080/"
        },
        "id": "H5FghQkR7lw6",
        "outputId": "a4acc48d-8575-4dcd-ebae-a18bb04a0989"
      },
      "execution_count": null,
      "outputs": [
        {
          "output_type": "stream",
          "name": "stdout",
          "text": [
            "/content/drive/MyDrive/GoingDeeper_NLP/data/10.transformer_translator\n"
          ]
        }
      ]
    },
    {
      "cell_type": "code",
      "source": [
        "#2. 데이터 다운로드\n",
        "!wget https://raw.githubusercontent.com/jungyeul/korean-parallel-corpora/master/korean-english-news-v1/korean-english-park.train.tar.gz"
      ],
      "metadata": {
        "colab": {
          "base_uri": "https://localhost:8080/"
        },
        "id": "Uv61CPdN88x_",
        "outputId": "70699d98-d7e0-4692-a488-b6a33de96bbb"
      },
      "execution_count": null,
      "outputs": [
        {
          "output_type": "stream",
          "name": "stdout",
          "text": [
            "--2022-04-11 16:48:58--  https://raw.githubusercontent.com/jungyeul/korean-parallel-corpora/master/korean-english-news-v1/korean-english-park.train.tar.gz\n",
            "Resolving raw.githubusercontent.com (raw.githubusercontent.com)... 185.199.108.133, 185.199.109.133, 185.199.110.133, ...\n",
            "Connecting to raw.githubusercontent.com (raw.githubusercontent.com)|185.199.108.133|:443... connected.\n",
            "HTTP request sent, awaiting response... 200 OK\n",
            "Length: 8718893 (8.3M) [application/octet-stream]\n",
            "Saving to: ‘korean-english-park.train.tar.gz’\n",
            "\n",
            "korean-english-park 100%[===================>]   8.31M  48.2MB/s    in 0.2s    \n",
            "\n",
            "2022-04-11 16:48:59 (48.2 MB/s) - ‘korean-english-park.train.tar.gz’ saved [8718893/8718893]\n",
            "\n"
          ]
        }
      ]
    },
    {
      "cell_type": "code",
      "source": [
        "#3. tar.gz 파일 압축 해제\n",
        "!tar -xzvf korean-english-park.train.tar.gz"
      ],
      "metadata": {
        "colab": {
          "base_uri": "https://localhost:8080/"
        },
        "id": "wYH7-K4N9TQI",
        "outputId": "adf33368-2f4c-4a9d-9618-6aadf5d367fe"
      },
      "execution_count": null,
      "outputs": [
        {
          "output_type": "stream",
          "name": "stdout",
          "text": [
            "korean-english-park.train.en\n",
            "korean-english-park.train.ko\n"
          ]
        }
      ]
    },
    {
      "cell_type": "markdown",
      "source": [
        "# Step 2. 데이터 정제 및 토큰화\n"
      ],
      "metadata": {
        "id": "eqIItEhG9mKs"
      }
    },
    {
      "cell_type": "markdown",
      "source": [
        "### (1) 데이터 중복 제거\n",
        "set 데이터 형을 활용해 중복된 데이터를 제거한다. \n",
        "\n",
        "데이터의 병렬 쌍이 흐트러지지 않게 주의하고,  \n",
        " 중복을 제거한 데이터를 cleaned_corpus에 저장한다."
      ],
      "metadata": {
        "id": "0kzm7FB2_CON"
      }
    },
    {
      "cell_type": "code",
      "source": [
        "data_dir = '/content/drive/MyDrive/GoingDeeper_NLP/data/10.transformer_translator'\n",
        "kor_path = data_dir + '/korean-english-park.train.ko'\n",
        "eng_path = data_dir + '/korean-english-park.train.en'\n",
        "\n",
        "# 데이터 정제 및 토큰화\n",
        "def clean_corpus(kor_path, eng_path):\n",
        "  with open(kor_path, 'r') as f: kor = f.read().splitlines()\n",
        "  with open(eng_path, 'r') as f: eng = f.read().splitlines()\n",
        "  \n",
        "  assert len(kor) == len(eng)\n",
        "\n",
        "  cleaned_corpus = list(set(zip(kor, eng)))\n",
        "\n",
        "  return cleaned_corpus\n",
        "\n",
        "cleaned_corpus = clean_corpus(kor_path, eng_path)"
      ],
      "metadata": {
        "id": "derfDD5L9dQC"
      },
      "execution_count": null,
      "outputs": []
    },
    {
      "cell_type": "code",
      "source": [
        "cleaned_corpus[:3]"
      ],
      "metadata": {
        "colab": {
          "base_uri": "https://localhost:8080/"
        },
        "id": "n9vhmz3GBend",
        "outputId": "1938cc5f-8bd9-47ae-c631-bec9343e7250"
      },
      "execution_count": null,
      "outputs": [
        {
          "output_type": "execute_result",
          "data": {
            "text/plain": [
              "[('그러나 의회 지도자들에게 보내는 서안을 통해 부시 미 대통령은 협상은 반드시 마무리될 것이라고 확신했다.',\n",
              "  'But in a letter to Congressional leaders, President Bush confirmed that an agreement had been reached.'),\n",
              " ('발코니에서 바라본 라펠로는 너무나 넓어 미국의 작가인 고르 비달은 “세계 에서 풍경이 가장 아름다운 곳”이라고 말했다.',\n",
              "  'The view from the balcony is so wide that the American writer Gore Vidal who owned a nearby villa once defined it as \"the most beautiful in the world.\"'),\n",
              " ('교전에는 연합군 항공기가 동원됐으며 연합군은 적의 위치를 정확히 파악할 수 있는 정밀한 유도장치가 부착된 무기를 사용, 맹공격에 나섰다.',\n",
              "  'Coalition aircraft were called in and pounded \"positively identified enemy positions using precision guided munitions.')]"
            ]
          },
          "metadata": {},
          "execution_count": 60
        }
      ]
    },
    {
      "cell_type": "markdown",
      "source": [
        "### (2) 정제 함수 정의\n",
        "정제 함수를 아래 조건을 만족하게 정의한다.\n",
        "- 모든 입력을 소문자로 변환\n",
        "- 알파벳, 문장부호, 한글만 남기고 모두 제거\n",
        "- 문장부호 양옆에 공백 추가\n",
        "- 문장 앞뒤의 불필요한 공백 제거"
      ],
      "metadata": {
        "id": "hSmPony9CsKe"
      }
    },
    {
      "cell_type": "code",
      "source": [
        "def preprocess_sentence(sentence):\n",
        "\n",
        "  sentence = sentence.lower().strip()\n",
        "  sentence = re.sub(r'([?.!,])', r' \\1 ', sentence)\n",
        "  sentence = re.sub(r'([\" \"]+)', \" \", sentence)\n",
        "  \n",
        "  reg = re.compile('[^a-zㄱ-ㅎㅏ-ㅣ가-힣,?.! ]')\n",
        "  sentence = reg.sub('', sentence)\n",
        "\n",
        "  sentence = sentence.strip()\n",
        "\n",
        "  return sentence\n",
        "  "
      ],
      "metadata": {
        "id": "Vu0Zv_cvBkv8"
      },
      "execution_count": null,
      "outputs": []
    },
    {
      "cell_type": "markdown",
      "source": [
        "### (3) 토큰화 \n",
        "한글 말뭉치(kor_corpus)와 영문 말뭉치(eng_corpus)를 각각 **분리** 후, **정제** 하여  **토큰화** 를 진행한다.  \n",
        "\n",
        "첨부한 공식 사이트를 참고하여 아래 조건을 만족하는 generate_tokenizer() 함수를 정의한다.  \n",
        "최종적으로 ko_tokenizer와 en_tokenizer를 얻는다.  \n",
        "en_tokenizer에는 set_encode_extra_options('bos:eos') 함수를 실행해 타겟 입력이 문장의 시작토큰과 끝토큰을 포함할 수 있게 한다. \n",
        "- [google/sentencepiece](https://github.com/google/sentencepiece)\n",
        "  - 단어 사전을 매개변수로 받아 원하는 크기의 사전을 정의할 수 있게 한다.(기본: 20000)\n",
        "  - 학습 후 저장된 model 파일을 SentencePieceProcessor() 클래스에 Load() 한 후 반환한다.\n",
        "  - 특수 토큰의 인덱스를 아래와 동일하게 지정한다.  \n",
        "  <PAD\\>:0 / <BOS\\>:1 / <EOS\\>:2 / <UNK\\>:3"
      ],
      "metadata": {
        "id": "3v4GGTekSx5_"
      }
    },
    {
      "cell_type": "code",
      "source": [
        "import sentencepiece as spm"
      ],
      "metadata": {
        "id": "-ZGfQa9hVExe"
      },
      "execution_count": null,
      "outputs": []
    },
    {
      "cell_type": "code",
      "source": [
        "def generate_tokenizer(corpus,\n",
        "                       vocab_size,\n",
        "                       model_type='unigram',\n",
        "                       lang=\"ko\",\n",
        "                       pad_id = 0,\n",
        "                       bos_id = 1,\n",
        "                       eos_id = 2,\n",
        "                       unk_id = 3):\n",
        "  input_file = f'{lang}_spm_input.txt'\n",
        "\n",
        "  with open(input_file, 'w', encoding='utf-8') as f:\n",
        "    for row in corpus:\n",
        "      f.write(str(row) + '\\n')\n",
        "\n",
        "  sp_model_root = 'sentencepiece'\n",
        "  if not os.path.isdir(sp_model_root): os.mkdir(sp_model_root)\n",
        "\n",
        "  prefix = '%s_tokenizer_%s' % (lang, model_type+str(vocab_size))\n",
        "  prefix = os.path.join(sp_model_root, prefix) # 저장될 tokenizer 모델 이름\n",
        "  \n",
        "  spm.SentencePieceTrainer.Train('--pad_id={} --bos_id={} --eos_id={} --unk_id={} \\\n",
        "  --input={} --model_prefix={} --vocab_size={} --model_type={}'.format(pad_id, bos_id,\\\n",
        "                                                                       eos_id, unk_id, input_file,\\\n",
        "                                                                       prefix, vocab_size,\n",
        "                                                                       model_type))\n",
        "\n",
        "  tokenizer = spm.SentencePieceProcessor()\n",
        "  tokenizer.Load(f'{prefix}.model')\n",
        "\n",
        "  return tokenizer\n"
      ],
      "metadata": {
        "id": "WRWCYrZqSXm_"
      },
      "execution_count": null,
      "outputs": []
    },
    {
      "cell_type": "code",
      "source": [
        "SRC_VOCAB_SIZE = TGT_VOCAB_SIZE = 20000\n",
        "\n",
        "eng_corpus = []\n",
        "kor_corpus = []\n",
        "\n",
        "for pair in cleaned_corpus:\n",
        "  k, e = pair[0], pair[1]\n",
        "\n",
        "  kor_corpus.append(preprocess_sentence(k))\n",
        "  eng_corpus.append(preprocess_sentence(e))\n",
        "\n",
        "ko_tokenizer = generate_tokenizer(kor_corpus, SRC_VOCAB_SIZE, 'unigram', \"ko\")\n",
        "en_tokenizer = generate_tokenizer(eng_corpus, TGT_VOCAB_SIZE, 'unigram', \"en\")\n",
        "en_tokenizer.set_encode_extra_options('bos:eos')"
      ],
      "metadata": {
        "colab": {
          "base_uri": "https://localhost:8080/"
        },
        "id": "F6o4A-NcapRs",
        "outputId": "29c2422f-98d8-4809-8577-5c82080c96a0"
      },
      "execution_count": null,
      "outputs": [
        {
          "output_type": "execute_result",
          "data": {
            "text/plain": [
              "True"
            ]
          },
          "metadata": {},
          "execution_count": 64
        }
      ]
    },
    {
      "cell_type": "code",
      "source": [
        "kor_corpus[:3]"
      ],
      "metadata": {
        "colab": {
          "base_uri": "https://localhost:8080/"
        },
        "id": "pro9iLZUj9_P",
        "outputId": "68577553-1193-43d2-9ddf-67d72a960712"
      },
      "execution_count": null,
      "outputs": [
        {
          "output_type": "execute_result",
          "data": {
            "text/plain": [
              "['그러나 의회 지도자들에게 보내는 서안을 통해 부시 미 대통령은 협상은 반드시 마무리될 것이라고 확신했다 .',\n",
              " '발코니에서 바라본 라펠로는 너무나 넓어 미국의 작가인 고르 비달은 세계 에서 풍경이 가장 아름다운 곳이라고 말했다 .',\n",
              " '교전에는 연합군 항공기가 동원됐으며 연합군은 적의 위치를 정확히 파악할 수 있는 정밀한 유도장치가 부착된 무기를 사용 , 맹공격에 나섰다 .']"
            ]
          },
          "metadata": {},
          "execution_count": 65
        }
      ]
    },
    {
      "cell_type": "code",
      "source": [
        "ko_tokenizer.EncodeAsIds(kor_corpus[0])"
      ],
      "metadata": {
        "colab": {
          "base_uri": "https://localhost:8080/"
        },
        "id": "hatHyHlDjaZI",
        "outputId": "46773242-b742-4ee0-cb0f-8a76db8315d0"
      },
      "execution_count": null,
      "outputs": [
        {
          "output_type": "execute_result",
          "data": {
            "text/plain": [
              "[69,\n",
              " 475,\n",
              " 1211,\n",
              " 62,\n",
              " 4273,\n",
              " 5923,\n",
              " 5,\n",
              " 94,\n",
              " 95,\n",
              " 59,\n",
              " 100,\n",
              " 461,\n",
              " 9,\n",
              " 279,\n",
              " 3435,\n",
              " 2154,\n",
              " 119,\n",
              " 48,\n",
              " 7273,\n",
              " 4]"
            ]
          },
          "metadata": {},
          "execution_count": 66
        }
      ]
    },
    {
      "cell_type": "markdown",
      "source": [
        "### (4) 길이 제한 및 텐서 변환\n",
        "토크나이저를 활용해 **토큰의 길이가 50 이하** 인 데이터를 선별하여 src_corpus와 tgt_corpus를 각각 구축하고,  \n",
        "텐서 enc_train과 dec_train으로 변환한다.  \n",
        "(❗모든 데이터를 사용할 경우 학습에 굉장히 오랜 시간이 걸린다.)"
      ],
      "metadata": {
        "id": "jY8ZsqqQh8Lg"
      }
    },
    {
      "cell_type": "code",
      "source": [
        "from tqdm.notebook import tqdm  # process 과정을 보기 위함\n",
        "\n",
        "src_corpus = []\n",
        "tgt_corpus = []\n",
        "\n",
        "assert len(kor_corpus) == len(eng_corpus)\n",
        "\n",
        "# 토큰의 길이가 50 이하인 문장만 남긴다.\n",
        "for idx in tqdm(range(len(kor_corpus))):\n",
        "  src = ko_tokenizer.EncodeAsIds(kor_corpus[idx])\n",
        "  tgt = en_tokenizer.EncodeAsIds(eng_corpus[idx])\n",
        "\n",
        "  if (len(src) <= 50) and (len(tgt) <= 50):\n",
        "    src_corpus.append(src)\n",
        "    tgt_corpus.append(tgt)\n",
        "\n",
        "# 패딩 처리를 완료하여 학습용 데이터를 완성한다.\n",
        "enc_train = tf.keras.preprocessing.sequence.pad_sequences(src_corpus,\n",
        "                                                          padding='post')\n",
        "dec_train = tf.keras.preprocessing.sequence.pad_sequences(tgt_corpus,\n",
        "                                                          padding='post')"
      ],
      "metadata": {
        "colab": {
          "base_uri": "https://localhost:8080/",
          "height": 49,
          "referenced_widgets": [
            "b4244cfcee944e6bb27af9118925ab9b",
            "d4c320fa8f904ddc9106175939fe3290",
            "1cc196f1369745fb86cceacac955e12a",
            "782b18501f2f480bb3d999af543ca40c",
            "e53d2a69c17745bd9fb0203bccceaf50",
            "08cb80d71725420cb616f26cead864b0",
            "1178660c84be4f32a9d37c7561a4f85e",
            "b626c6d4fe0340a7bcd882ebd3a8282b",
            "e913c02885e24ef78c2281890c2dad7e",
            "a64dbeb5efde4168af7309a6498cf7bc",
            "a674592dde724dd5b7216f5bb8cca724"
          ]
        },
        "id": "iENCGovQfBqT",
        "outputId": "9a42e69f-a550-40ec-afad-c03b6bd8ad36"
      },
      "execution_count": null,
      "outputs": [
        {
          "output_type": "display_data",
          "data": {
            "text/plain": [
              "  0%|          | 0/78968 [00:00<?, ?it/s]"
            ],
            "application/vnd.jupyter.widget-view+json": {
              "version_major": 2,
              "version_minor": 0,
              "model_id": "b4244cfcee944e6bb27af9118925ab9b"
            }
          },
          "metadata": {}
        }
      ]
    },
    {
      "cell_type": "markdown",
      "source": [
        "# Step 3. 모델 설계\n",
        "1. 내부 모듈 구현  \n",
        "  (1) Positional Encoding  \n",
        "  (2) Multi-Head Attention  \n",
        "  (3) Position-wise Feed-Forward Network  \n",
        "\n",
        "2. 모듈 조립  \n",
        "  (1) Encoder 레이어  \n",
        "  (2) Decoder 레이어  \n",
        "  (3) Transformer  "
      ],
      "metadata": {
        "id": "-gITQnaGmP7w"
      }
    },
    {
      "cell_type": "markdown",
      "source": [
        "## 1) 내부 모듈 구현"
      ],
      "metadata": {
        "id": "PdU5ZQLXnS0J"
      }
    },
    {
      "cell_type": "markdown",
      "source": [
        "### (1) Positional Encoding"
      ],
      "metadata": {
        "id": "PyeW42CunWMR"
      }
    },
    {
      "cell_type": "code",
      "source": [
        "def positional_encoding(pos, d_model):\n",
        "  def cal_angle(position, i):\n",
        "    return position / np.power(10000, int(i) / d_model)\n",
        "\n",
        "  def get_posi_angle_vec(position):\n",
        "    return [cal_angle(position, i) for i in range(d_model)]\n",
        "\n",
        "  sinusoid_table = np.array([get_posi_angle_vec(pos_i) for pos_i in range(pos)])\n",
        "  sinusoid_table[:, 0::2] = np.sin(sinusoid_table[:, 0::2])\n",
        "  sinusoid_table[:, 1::2] = np.cos(sinusoid_table[:, 1::2])\n",
        "  return sinusoid_table\n",
        "\n",
        "print('슝=3')"
      ],
      "metadata": {
        "colab": {
          "base_uri": "https://localhost:8080/"
        },
        "id": "c4Id_nSDnNcB",
        "outputId": "3575771f-8072-4577-b584-8ae2769c6f97"
      },
      "execution_count": null,
      "outputs": [
        {
          "output_type": "stream",
          "name": "stdout",
          "text": [
            "슝=3\n"
          ]
        }
      ]
    },
    {
      "cell_type": "markdown",
      "source": [
        "### (2) Multi-Head Attention"
      ],
      "metadata": {
        "id": "bJjvHdhcossq"
      }
    },
    {
      "cell_type": "code",
      "source": [
        "class MultiHeadAttention(tf.keras.layers.Layer):\n",
        "  def __init__(self, d_model, num_heads):\n",
        "    super(MultiHeadAttention, self).__init__()\n",
        "    self.num_heads = num_heads\n",
        "    self.d_model = d_model\n",
        "\n",
        "    self.depth = d_model // self.num_heads \n",
        "\n",
        "    self.W_q = tf.keras.layers.Dense(d_model) #Linear Layer\n",
        "    self.W_k = tf.keras.layers.Dense(d_model)\n",
        "    self.W_v = tf.keras.layers.Dense(d_model)\n",
        "\n",
        "    self.linear = tf.keras.layers.Dense(d_model)\n",
        "\n",
        "  \n",
        "  def scaled_dot_product_attention(self, Q, K, V, mask):\n",
        "    d_k = tf.cast(K.shape[-1], tf.float32) \n",
        "\n",
        "    QK = tf.matmul(Q, K, transpose_b =True)   # QK 내적\n",
        "\n",
        "    scaled_qk = QK / tf.math.sqrt(d_k)   # scaled 된 QK 값 구하기\n",
        "\n",
        "    if mask is not None: scaled_qk += (mask * -1e9)  # 후에 나올 masking 처리\n",
        "\n",
        "    attentions = tf.nn.softmax(scaled_qk, axis=-1)  # attention weights 값 구하기\n",
        "    \n",
        "    out = tf.matmul(attentions, V)   # attention 값을 V에 곱하기\n",
        "\n",
        "    return out, attentions\n",
        "\n",
        "\n",
        "  def split_heads(self, x):\n",
        "    \"\"\"\n",
        "    Embedding을 Head의 수로 분할하는 함수\n",
        "\n",
        "    x: [ batch x length x emb ]\n",
        "    return: [ batch x length x heads x self.depth ]\n",
        "    \"\"\"\n",
        "    batch_size = x.shape[0]\n",
        "    split_x = tf.reshape(x, (batch_size, -1, self.num_heads, self.depth))\n",
        "    split_x = tf.transpose(split_x, perm=[0, 2, 1, 3])  # 4차원 transpose를 왜 하지??\n",
        "\n",
        "    return split_x\n",
        "\n",
        "  \n",
        "  def combine_heads(self, x):\n",
        "    \"\"\"\n",
        "    분할된 Embedding을 하나로 결합하는 함수\n",
        "\n",
        "    x: [ batch x length x heads x self.depth ]\n",
        "    return: [ batch x length x emb ]\n",
        "    \"\"\"\n",
        "    batch_size = x.shape[0]\n",
        "    combined_x = tf.transpose(x, perm=[0, 2, 1, 3])\n",
        "    combined_x = tf.reshape(combined_x, (batch_size, -1, self.d_model))\n",
        "\n",
        "    return combined_x\n",
        "\n",
        "\n",
        "  def call(self, Q, K, V, mask):\n",
        "    # 1.  Linear_in(Q, K, V) -> WQ, WK, WV\n",
        "    WQ = self.W_q(Q)\n",
        "    WK = self.W_k(K)\n",
        "    WV = self.W_v(V)\n",
        "\n",
        "    # 2. Split Heads(WQ, WK, WV) -> WQ_split, WK_split, WV_split\n",
        "    WQ_splits = self.split_heads(WQ)\n",
        "    WK_splits = self.split_heads(WK)\n",
        "    WV_splits = self.split_heads(WV)\n",
        "\n",
        "    # 3. Scaled Dot Product Attention(WQ_split, WK_split, WV_split) -> out, attention_weights\n",
        "    out, attention_weights = self.scaled_dot_product_attention(WQ_splits,\n",
        "                                                               WK_splits,\n",
        "                                                               WV_splits,\n",
        "                                                               mask)\n",
        "    \n",
        "    # 4. Combine Heads(out) -> out\n",
        "    out = self.combine_heads(out)\n",
        "\n",
        "    # 5. Linear_out(out) -> out\n",
        "    out = self.linear(out)\n",
        "\n",
        "    return out, attention_weights\n",
        "\n",
        "print('슝=3')"
      ],
      "metadata": {
        "colab": {
          "base_uri": "https://localhost:8080/"
        },
        "id": "1nGAp4s5XKN_",
        "outputId": "4dd338ce-a02c-4fa6-b860-fd6a7cebdceb"
      },
      "execution_count": null,
      "outputs": [
        {
          "output_type": "stream",
          "name": "stdout",
          "text": [
            "슝=3\n"
          ]
        }
      ]
    },
    {
      "cell_type": "markdown",
      "source": [
        "### (3) Position-wise Feed-Forward Network"
      ],
      "metadata": {
        "id": "Tw76JQrppg4J"
      }
    },
    {
      "cell_type": "code",
      "source": [
        "class PoswiseFeedForwardNet(tf.keras.layers.Layer):\n",
        "  def __init__(self, d_model, d_ff):\n",
        "    super(PoswiseFeedForwardNet, self).__init__()\n",
        "    self.w_1 = tf.keras.layers.Dense(d_ff, activation='relu')\n",
        "    self.w_2 = tf.keras.layers.Dense(d_model)\n",
        "\n",
        "  def call(self, x):\n",
        "    out = self.w_1(x)\n",
        "    out = self.w_2(out)\n",
        "\n",
        "    return out\n",
        "\n",
        "print('슝=3')"
      ],
      "metadata": {
        "colab": {
          "base_uri": "https://localhost:8080/"
        },
        "id": "ulcNQ9YNpgWR",
        "outputId": "8fc28393-0918-4343-a171-2c8083706e1d"
      },
      "execution_count": null,
      "outputs": [
        {
          "output_type": "stream",
          "name": "stdout",
          "text": [
            "슝=3\n"
          ]
        }
      ]
    },
    {
      "cell_type": "markdown",
      "source": [
        "## 2) 모듈 조립하기"
      ],
      "metadata": {
        "id": "s1v3yeBLpuoB"
      }
    },
    {
      "cell_type": "markdown",
      "source": [
        "### (1) Encoder 레이어 구현"
      ],
      "metadata": {
        "id": "LE_ho9aDpy5Z"
      }
    },
    {
      "cell_type": "code",
      "source": [
        "class EncoderLayer(tf.keras.layers.Layer):\n",
        "  def __init__(self, d_model, n_heads, d_ff, dropout):\n",
        "    super(EncoderLayer, self).__init__()\n",
        "\n",
        "    self.enc_self_attn = MultiHeadAttention(d_model, n_heads)\n",
        "    self.ffn = PoswiseFeedForwardNet(d_model, d_ff)\n",
        "\n",
        "    self.norm_1 = tf.keras.layers.LayerNormalization(epsilon=1e-6)\n",
        "    self.norm_2 = tf.keras.layers.LayerNormalization(epsilon=1e-6)\n",
        "\n",
        "    self.dropout = tf.keras.layers.Dropout(dropout)\n",
        "\n",
        "\n",
        "  def call(self, x, mask):\n",
        "    # Multi-Head Attention\n",
        "    residual = x\n",
        "    out = self.norm_1(x)\n",
        "    out, enc_attn = self.enc_self_attn(out, out, out, mask)\n",
        "    out = self.dropout(out)\n",
        "    out += residual\n",
        "\n",
        "    # Position-Wise Feed Forward Network\n",
        "    residual = out\n",
        "    out = self.norm_2(out)\n",
        "    out = self.ffn(out)\n",
        "    out = self.dropout(out)\n",
        "    out += residual\n",
        "\n",
        "    return out, enc_attn\n",
        "\n",
        "print('슝=3')"
      ],
      "metadata": {
        "colab": {
          "base_uri": "https://localhost:8080/"
        },
        "id": "0wU7cMC5mM0w",
        "outputId": "64954349-02b7-4380-c9a4-e3b7121c5b86"
      },
      "execution_count": null,
      "outputs": [
        {
          "output_type": "stream",
          "name": "stdout",
          "text": [
            "슝=3\n"
          ]
        }
      ]
    },
    {
      "cell_type": "markdown",
      "source": [
        "### (2) Decoder 레이어 구현"
      ],
      "metadata": {
        "id": "mi7lLQkBp-cR"
      }
    },
    {
      "cell_type": "code",
      "source": [
        "class DecoderLayer(tf.keras.layers.Layer):\n",
        "  def __init__(self, d_model, num_heads, d_ff, dropout):\n",
        "    super(DecoderLayer, self).__init__()\n",
        "\n",
        "    self.dec_self_attn = MultiHeadAttention(d_model, num_heads)\n",
        "    self.enc_dec_attn = MultiHeadAttention(d_model, num_heads)\n",
        "\n",
        "    self.ffn = PoswiseFeedForwardNet(d_model, d_ff)\n",
        "\n",
        "    self.norm_1 = tf.keras.layers.LayerNormalization(epsilon=1e-6)\n",
        "    self.norm_2 = tf.keras.layers.LayerNormalization(epsilon=1e-6)\n",
        "    self.norm_3 = tf.keras.layers.LayerNormalization(epsilon=1e-6)\n",
        "\n",
        "    self.dropout = tf.keras.layers.Dropout(dropout)\n",
        "\n",
        "\n",
        "  def call(self, x, enc_out, causality_mask, padding_mask):\n",
        "    # Masked Multi-Head Attention\n",
        "    residual = x\n",
        "    out = self.norm_1(x)\n",
        "    out, dec_attn = self.dec_self_attn(out, out, out, padding_mask)\n",
        "    out = self.dropout(out)\n",
        "    out += residual\n",
        "\n",
        "    # Multi-Head Attention\n",
        "    residual = out\n",
        "    out = self.norm_2(out)\n",
        "    out, dec_enc_attn = self.enc_dec_attn(out, enc_out, enc_out, causality_mask)\n",
        "    out = self.dropout(out)\n",
        "    out += residual\n",
        "\n",
        "    # Position-Wise Feed Forward Network\n",
        "    residual = out\n",
        "    out = self.norm_3(out)\n",
        "    out = self.ffn(out)\n",
        "    out = self.dropout(out)\n",
        "    out += residual\n",
        "\n",
        "    return out, dec_attn, dec_enc_attn\n",
        "\n",
        "print('슝=3')"
      ],
      "metadata": {
        "colab": {
          "base_uri": "https://localhost:8080/"
        },
        "id": "B8bP1hD3p9SV",
        "outputId": "934df535-e173-4a4a-c7f5-e3961e8e1f8d"
      },
      "execution_count": null,
      "outputs": [
        {
          "output_type": "stream",
          "name": "stdout",
          "text": [
            "슝=3\n"
          ]
        }
      ]
    },
    {
      "cell_type": "code",
      "source": [
        "# Encoder 클래스 정의\n",
        "class Encoder(tf.keras.Model):\n",
        "  def __init__(self,\n",
        "               n_layers,\n",
        "               d_model,\n",
        "               n_heads,\n",
        "               d_ff,\n",
        "               dropout):\n",
        "    super(Encoder, self).__init__()\n",
        "    self.n_layers = n_layers\n",
        "    self.enc_layers = [EncoderLayer(d_model, n_heads, d_ff, dropout) for _ in range(n_layers)]\n",
        "\n",
        "\n",
        "  def call(self, x, mask):\n",
        "    out = x\n",
        "\n",
        "    enc_attns = list()\n",
        "    for i in range(self.n_layers):\n",
        "      out, enc_attn = self.enc_layers[i](out, mask)\n",
        "      enc_attns.append(enc_attn)\n",
        "\n",
        "    return out, enc_attns\n",
        "\n",
        "print('슝=3')"
      ],
      "metadata": {
        "colab": {
          "base_uri": "https://localhost:8080/"
        },
        "id": "jxsFpxm3qCME",
        "outputId": "3cb8d9e9-2ab5-4bf9-dc8a-969e7a394dfd"
      },
      "execution_count": null,
      "outputs": [
        {
          "output_type": "stream",
          "name": "stdout",
          "text": [
            "슝=3\n"
          ]
        }
      ]
    },
    {
      "cell_type": "code",
      "source": [
        "# Decoder 클래스 정의\n",
        "class Decoder(tf.keras.Model):\n",
        "  def __init__(self,\n",
        "               n_layers,\n",
        "               d_model,\n",
        "               n_heads,\n",
        "               d_ff,\n",
        "               dropout):\n",
        "    super(Decoder, self).__init__()\n",
        "    self.n_layers = n_layers\n",
        "    self.dec_layers = [DecoderLayer(d_model, n_heads, d_ff, dropout) for _ in range(n_layers)]\n",
        "\n",
        "\n",
        "  def call(self, x, enc_out, causality_mask, padding_mask):\n",
        "    out = x\n",
        "    \n",
        "    dec_attns = list()\n",
        "    dec_enc_attns = list()\n",
        "    for i in range(self.n_layers):\n",
        "      out, dec_attn, dec_enc_attn = self.dec_layers[i](out, enc_out, causality_mask, padding_mask)\n",
        "\n",
        "      dec_attns.append(dec_attn)\n",
        "      dec_enc_attns.append(dec_enc_attn)\n",
        "\n",
        "    return out, dec_attns, dec_enc_attns\n",
        "\n",
        "  print('슝=3')"
      ],
      "metadata": {
        "colab": {
          "base_uri": "https://localhost:8080/"
        },
        "id": "1nu5vTmqqZUC",
        "outputId": "15b17925-bad1-4fc7-d28b-adc39f303bb0"
      },
      "execution_count": null,
      "outputs": [
        {
          "output_type": "stream",
          "name": "stdout",
          "text": [
            "슝=3\n"
          ]
        }
      ]
    },
    {
      "cell_type": "markdown",
      "source": [
        "### (3) Transformer "
      ],
      "metadata": {
        "id": "xmbHZJo3qfmB"
      }
    },
    {
      "cell_type": "code",
      "source": [
        "class Transformer(tf.keras.Model):\n",
        "  def __init__(self,\n",
        "               n_layers,\n",
        "               d_model,\n",
        "               n_heads,\n",
        "               d_ff,\n",
        "               src_vocab_size,\n",
        "               tgt_vocab_size,\n",
        "               pos_len,\n",
        "               dropout=0.2,\n",
        "               shared=True):\n",
        "    super(Transformer, self).__init__()\n",
        "    self.d_model = tf.cast(d_model, tf.float32)\n",
        "    \n",
        "    # 1. Embedding Layer 정의\n",
        "    self.enc_emb = tf.keras.layers.Embedding(src_vocab_size, d_model)\n",
        "    self.dec_emb = tf.keras.layers.Embedding(tgt_vocab_size, d_model)\n",
        "\n",
        "    # 2. Positional Encoding 정의\n",
        "    self.pos_encoding = positional_encoding(pos_len, d_model)\n",
        "\n",
        "    # 3. Dropout 정의\n",
        "    self.dropout = tf.keras.layers.Dropout(dropout) \n",
        "\n",
        "    # 4. Encoder / Decoder 정의\n",
        "    self.encoder = Encoder(n_layers, d_model, n_heads, d_ff, dropout)\n",
        "    self.decoder = Decoder(n_layers, d_model, n_heads, d_ff, dropout)\n",
        "    \n",
        "    # 5. Output Linear 정의\n",
        "    self.fc = tf.keras.layers.Dense(tgt_vocab_size)\n",
        "\n",
        "    # 6. Shared Weights\n",
        "    self.shared = shared\n",
        "\n",
        "    if shared: self.fc.set_weights(tf.transpose(self.dec_emb.weights))\n",
        "\n",
        "\n",
        "  def embedding(self, emb, x):\n",
        "    \"\"\"\n",
        "    입력된 정수 배열을 Embedding + Pos Encoding\n",
        "    + Shared 일 경우 Scaling 작업 포함\n",
        "\n",
        "    x: [batch x length]\n",
        "    return: [batch x length x emb]\n",
        "    \"\"\"\n",
        "    seq_len = x.shape[1]\n",
        "    out = emb(x)\n",
        "\n",
        "    if self.shared: out *= tf.math.sqrt(self.d_model)\n",
        "\n",
        "    out += self.pos_encoding[np.newaxis, ...][:, :seq_len, :]\n",
        "    out = self.dropout(out)\n",
        "\n",
        "    return out\n",
        "\n",
        "\n",
        "  def call(self, enc_in, dec_in, enc_mask, causality_mask, dec_mask):\n",
        "    \"\"\"\n",
        "    아래 순서에 따라 작성\n",
        "\n",
        "    Step 1: Embedding(enc_in, dec_in) -> enc_in, dec_in\n",
        "    Step 2: Encoder(enc_in, enc_mask) -> enc_out, enc_attns\n",
        "    Step 3: Decoder(dec_in, enc_out, mask) -> dec_out, dec_attns, dec_enc_attns\n",
        "    Step 4: Out Linear(dec_out) -> logits\n",
        "    \"\"\"\n",
        "    enc_in = self.embedding(self.enc_emb, enc_in)\n",
        "    dec_in = self.embedding(self.dec_emb, dec_in)\n",
        "\n",
        "    enc_out, enc_attns = self.encoder(enc_in, enc_mask)\n",
        "\n",
        "    dec_out, dec_attns, dec_enc_attns = \\\n",
        "    self.decoder(dec_in, enc_out, causality_mask, dec_mask)\n",
        "\n",
        "    logits = self.fc(dec_out)\n",
        "\n",
        "    return logits, enc_attns, dec_attns, dec_enc_attns\n",
        "\n",
        "print('슝=3')"
      ],
      "metadata": {
        "colab": {
          "base_uri": "https://localhost:8080/"
        },
        "id": "nBMitxWLqeFs",
        "outputId": "95b08927-5446-41f4-dc41-35f56ed414f6"
      },
      "execution_count": null,
      "outputs": [
        {
          "output_type": "stream",
          "name": "stdout",
          "text": [
            "슝=3\n"
          ]
        }
      ]
    },
    {
      "cell_type": "markdown",
      "source": [
        "# Step 4. 훈련하기\n",
        "1. 2 layer를 가지는 Transformer 선언.\n",
        "2. Learning Rate Scheduler 선언 및 Adam Optimizer 선언\n",
        "3. Loss 함수 정의\n",
        "4. train_step 함수 정의 및 Mask 생성\n",
        "5. 학습 진행"
      ],
      "metadata": {
        "id": "lWviwqXQq9-6"
      }
    },
    {
      "cell_type": "markdown",
      "source": [
        "### (1) Transformer 선언\n",
        "2 Layer를 가지는 Transformer 선언하기. \n",
        "(하이퍼 파라미터는 자유롭게 조절)"
      ],
      "metadata": {
        "id": "aXeyT5w-rh3r"
      }
    },
    {
      "cell_type": "code",
      "source": [
        "transformer = Transformer(n_layers=2,\n",
        "                          d_model=512,\n",
        "                          n_heads=8,\n",
        "                          d_ff=2048,\n",
        "                          src_vocab_size=SRC_VOCAB_SIZE,\n",
        "                          tgt_vocab_size=TGT_VOCAB_SIZE,\n",
        "                          pos_len=50,\n",
        "                          dropout=0.2,\n",
        "                          shared=True)"
      ],
      "metadata": {
        "id": "xr8ic-18qyeW"
      },
      "execution_count": null,
      "outputs": []
    },
    {
      "cell_type": "markdown",
      "source": [
        "### (2) Learning Rate Scheduler 및 Adam Optimizer 선언\n",
        "논문에서 사용한 것과 동일한 Learning Rate Scheduler를 선언하고,   \n",
        "이를 포함하는 Adam Optimizer 를 선언한다. (Optimizer의 파라미터 역시 논문과 동일하게 설정한다.)"
      ],
      "metadata": {
        "id": "IMwhGk7_tuYZ"
      }
    },
    {
      "cell_type": "code",
      "source": [
        "class LearningRateScheduler(tf.keras.optimizers.schedules.LearningRateSchedule):\n",
        "  def __init__(self, d_model, warmup_steps = 4000):\n",
        "    super(LearningRateScheduler, self).__init__()\n",
        "    self.d_model = d_model\n",
        "    self.warmup_steps = warmup_steps\n",
        "\n",
        "  def __call__(self, step):\n",
        "    arg1 = step ** -0.5\n",
        "    arg2 = step * (self.warmup_steps ** -1.5)\n",
        "\n",
        "    return (self.d_model ** -0.5) * tf.math.minimum(arg1, arg2)\n",
        "\n",
        "\n",
        "learning_rate = LearningRateScheduler(512)\n",
        "\n",
        "optimizer = tf.keras.optimizers.Adam(learning_rate,\n",
        "                                     beta_1 = 0.9,\n",
        "                                     beta_2 = 0.98,\n",
        "                                     epsilon = 1e-9)\n",
        "\n",
        "print('슝=3')"
      ],
      "metadata": {
        "colab": {
          "base_uri": "https://localhost:8080/"
        },
        "id": "rrMZkwldtnt9",
        "outputId": "81c28bba-5f9b-4552-9f28-2458909b516f"
      },
      "execution_count": null,
      "outputs": [
        {
          "output_type": "stream",
          "name": "stdout",
          "text": [
            "슝=3\n"
          ]
        }
      ]
    },
    {
      "cell_type": "markdown",
      "source": [
        "### (3) Loss 함수 정의\n",
        "Sequence-to-sequence 모델에서 사용했던 Loss와 유사하되, **Masking 되지 않은 입력의 개수로 Scaling** 하는 과정을 추가한다. (트랜스포머가 모든 입력에 대한 Loss를 한 번에 구하기 때문)"
      ],
      "metadata": {
        "id": "3Cv3E-8ouJmZ"
      }
    },
    {
      "cell_type": "code",
      "source": [
        "loss_object = tf.keras.losses.SparseCategoricalCrossentropy(\n",
        "    from_logits = True, reduction='none'\n",
        ")\n",
        "\n",
        "def loss_function(real, pred):\n",
        "  mask = tf.math.logical_not(tf.math.equal(real, 0))\n",
        "  loss_ = loss_object(real, pred)\n",
        "\n",
        "  #Masking 되지 않은 입력의 개수로 Scaling 하는 과정\n",
        "  mask = tf.cast(mask, dtype=loss_.dtype)\n",
        "  loss_ *= mask\n",
        "\n",
        "  return tf.reduce_sum(loss_)/tf.reduce_sum(mask)"
      ],
      "metadata": {
        "id": "ZY6M14PPuGWd"
      },
      "execution_count": null,
      "outputs": []
    },
    {
      "cell_type": "markdown",
      "source": [
        "### (4) Masking 정의"
      ],
      "metadata": {
        "id": "1_SQIXlrv6ui"
      }
    },
    {
      "cell_type": "code",
      "source": [
        "def generate_padding_mask(seq):\n",
        "  seq = tf.cast(tf.math.equal(seq, 0), tf.float32) \n",
        "  return seq[:, tf.newaxis, tf.newaxis, :]\n",
        "\n",
        "def generate_causality_mask(src_len, tgt_len):\n",
        "  mask = 1 - np.cumsum(np.eye(src_len, tgt_len), 0)\n",
        "  return tf.cast(mask, tf.float32)\n",
        "\n",
        "def generate_masks(src, tgt):\n",
        "  enc_mask = generate_padding_mask(src)\n",
        "  dec_mask = generate_padding_mask(tgt)\n",
        "\n",
        "  dec_enc_causality_mask = generate_causality_mask(tgt.shape[1], src.shape[1])\n",
        "  dec_enc_mask = tf.maximum(enc_mask, dec_enc_causality_mask)\n",
        "\n",
        "  dec_causality_mask = generate_causality_mask(tgt.shape[1], tgt.shape[1])\n",
        "  dec_mask = tf.maximum(dec_mask, dec_causality_mask)\n",
        "\n",
        "  return enc_mask, dec_enc_mask, dec_mask\n",
        "\n",
        "print('슝=3')"
      ],
      "metadata": {
        "colab": {
          "base_uri": "https://localhost:8080/"
        },
        "id": "y05MKSm4v_hc",
        "outputId": "172d2d40-22a5-45e6-dc8c-db3bd0102d6d"
      },
      "execution_count": null,
      "outputs": [
        {
          "output_type": "stream",
          "name": "stdout",
          "text": [
            "슝=3\n"
          ]
        }
      ]
    },
    {
      "cell_type": "markdown",
      "source": [
        "### (5) train_step 함수 정의\n",
        "**train_step 함수**를 정의하고, **입력 데이터에 알맞은 Mask를 생성**하고, 이를 모델에 전달하여 연산에서 사용할 수 있게 한다."
      ],
      "metadata": {
        "id": "CgGdRLd0vRR6"
      }
    },
    {
      "cell_type": "code",
      "source": [
        "@tf.function()\n",
        "def train_step(src, tgt, model, optimizer):\n",
        "  gold = tgt[:, 1:]\n",
        "\n",
        "  enc_mask, dec_enc_mask, dec_mask = generate_masks(src, tgt)\n",
        "\n",
        "  # 계산된 loss에 tf.GradientTape()를 적용해 학습을 진행한다.\n",
        "  with tf.GradientTape() as tape:\n",
        "    predictions, enc_attns, dec_attns, dec_enc_attns = model(src, tgt, enc_mask, dec_enc_mask, dec_mask)\n",
        "\n",
        "    loss = loss_function(gold, predictions[:, :-1])\n",
        "\n",
        "    # 최종적으로 optimizer.apply_gradients()가 사용됩니다.\n",
        "    gradients = tape.gradient(loss, model.trainable_variables)\n",
        "    optimizer.apply_gradients(zip(gradients, model.trainable_variables))\n",
        "\n",
        "    return loss, enc_attns, dec_attns, dec_enc_attns"
      ],
      "metadata": {
        "id": "_LTKiH6svPS4"
      },
      "execution_count": null,
      "outputs": []
    },
    {
      "cell_type": "markdown",
      "source": [
        "### (6) 학습 진행\n",
        "매 Epoch 마다 제시된 예문에 대한 번역을 생성하고,   \n",
        "번역이 잘 되면, 그 때의 하이퍼파라미터와 생성된 번역을 제출한다."
      ],
      "metadata": {
        "id": "Ckd1DFKpyTzy"
      }
    },
    {
      "cell_type": "code",
      "source": [
        "# Attention 시각화 함수\n",
        "def visualize_attention(src, tgt, enc_attns, dec_attns, dec_enc_attns):\n",
        "  def draw(data, ax, x='auto', y = 'auto'):\n",
        "    import seaborn\n",
        "    seaborn.heatmap(data, \n",
        "                    square=True,\n",
        "                    vmin=0.0, vmax=1.0,\n",
        "                    cbar=False, ax=ax,\n",
        "                    xticklabels=x,\n",
        "                    yticklabels=y)\n",
        "    \n",
        "  for layer in range(0, 2, 1):\n",
        "    fig, axs = plt.subplots(1, 4, figsize=(20,10))\n",
        "    print('Encoder Layer', layer + 1)\n",
        "    for h in range(4):\n",
        "      draw(enc_attns[layer][0, h, :len(src), :len(src)], axs[h], src, src)\n",
        "    plt.show()\n",
        "\n",
        "  for layer in range(0, 2, 1):\n",
        "    fig, axs = plt.subplots(1, 4, figsize=(20,10))\n",
        "    print('Decoder Self Layer', layer+1)\n",
        "    for h in range(4):\n",
        "      draw(dec_attns[layer][0, h, :len(tgt), :len(tgt)], axs[h], tgt, tgt)\n",
        "    plt.show()\n",
        "\n",
        "    print('Decoder Src Layer', layer+1)\n",
        "    fig, axs = plt.subplots(1, 4, figsize=(20,10))\n",
        "    for h in range(4):\n",
        "      draw(dec_enc_attns[layer][0, h, :len(tgt), :len(src)], axs[h], src, tgt)\n",
        "    plt.show()"
      ],
      "metadata": {
        "id": "VyAKZ9bG0wjk"
      },
      "execution_count": null,
      "outputs": []
    },
    {
      "cell_type": "code",
      "source": [
        "# 번역 생성 함수\n",
        "def evaluate(sentence, model, src_tokenizer, tgt_tokenizer):\n",
        "  sentence = preprocess_sentence(sentence)\n",
        "\n",
        "  pieces = src_tokenizer.encode_as_pieces(sentence)\n",
        "  tokens = src_tokenizer.encode_as_ids(sentence)\n",
        "\n",
        "  _input = tf.keras.preprocessing.sequence.pad_sequences([tokens],\n",
        "                                                         maxlen=enc_train.shape[-1],\n",
        "                                                         padding = 'post')\n",
        "  ids = []\n",
        "  output = tf.expand_dims([tgt_tokenizer.bos_id()], 0)\n",
        "  for i in range(dec_train.shape[-1]):\n",
        "    enc_padding_mask, combined_mask, dec_padding_mask = \\\n",
        "    generate_masks(_input, output)\n",
        "\n",
        "    predictions, enc_attns, dec_attns, dec_enc_attns = \\\n",
        "    model(_input,\n",
        "          output,\n",
        "          enc_padding_mask,\n",
        "          combined_mask,\n",
        "          dec_padding_mask)\n",
        "    \n",
        "    predicted_id = \\\n",
        "    tf.argmax(tf.math.softmax(predictions, axis=-1)[0, -1]).numpy().item()\n",
        "\n",
        "    if tgt_tokenizer.eos_id() == predicted_id:\n",
        "      result = tgt_tokenizer.decode_ids(ids)\n",
        "      return pieces, result, enc_attns, dec_attns, dec_enc_attns\n",
        "\n",
        "    ids.append(predicted_id)\n",
        "    output = tf.concat([output, tf.expand_dims([predicted_id], 0)], axis=-1)\n",
        "\n",
        "  result = tgt_tokenizer.decode_ids(ids)\n",
        "\n",
        "  return pieces, result, enc_attns, dec_attns, dec_enc_attns\n"
      ],
      "metadata": {
        "id": "I7yySX8b2TA2"
      },
      "execution_count": null,
      "outputs": []
    },
    {
      "cell_type": "code",
      "source": [
        "# 번역 생성 및 Attention 시각화 결합\n",
        "def translate(sentence, model, src_tokenizer, tgt_tokenizer, plot_attention=False):\n",
        "  pieces, result, enc_attns, dec_attns, dec_enc_attns = \\\n",
        "  evaluate(sentence, model, src_tokenizer, tgt_tokenizer)\n",
        "\n",
        "  print('Input: %s' % (sentence))\n",
        "  print('Predicted translation: {}'.format(result))\n",
        "\n",
        "  if plot_attention:\n",
        "    visualize_attention(pieces, result.split(), enc_attns, dec_attns, dec_enc_attns)"
      ],
      "metadata": {
        "id": "_cn7zfoJ4D_D"
      },
      "execution_count": null,
      "outputs": []
    },
    {
      "cell_type": "code",
      "source": [
        "from tqdm import tqdm_notebook\n",
        "\n",
        "BATCH_SIZE = 64\n",
        "EPOCHS = 10\n",
        "\n",
        "examples = [\n",
        "            '오바마는 대통령이다.',\n",
        "            '시민들은 도시 속에 산다.',\n",
        "            '커피는 필요 없다.',\n",
        "            '일곱 명의 사망자가 발생했다.'\n",
        "]\n",
        "\n",
        "for epoch in range(EPOCHS):\n",
        "  total_loss = 0\n",
        "\n",
        "  idx_list = list(range(0, enc_train.shape[0], BATCH_SIZE))\n",
        "  random.shuffle(idx_list)\n",
        "  t = tqdm_notebook(idx_list)\n",
        "\n",
        "  for (batch, idx) in enumerate(t):\n",
        "    batch_loss, enc_attns, dec_attns, dec_enc_attns = \\\n",
        "    train_step(enc_train[idx:idx+BATCH_SIZE],\n",
        "               dec_train[idx:idx+BATCH_SIZE],\n",
        "               transformer,\n",
        "               optimizer)\n",
        "    \n",
        "    total_loss += batch_loss\n",
        "\n",
        "    t.set_description_str('Epoch %2d' % (epoch + 1))\n",
        "    t.set_postfix_str('Loss %.4f' % (total_loss.numpy() / (batch + 1)))\n",
        "\n",
        "  for example in examples:\n",
        "    translate(example, transformer, ko_tokenizer, en_tokenizer)"
      ],
      "metadata": {
        "colab": {
          "base_uri": "https://localhost:8080/",
          "height": 1000,
          "referenced_widgets": [
            "87bd276810f64ed7b8849a25d42928bd",
            "22e0ae5ff51e4a279f637d52981e7d6e",
            "a74868be1a634cdaaa48a115a3079ed8",
            "bc10d7c183024cea960417d4e3167c2c",
            "90bfbc47523f4762bae4b1964275ee24",
            "79bbba623c754a2c979e58a594df6b71",
            "63bbecd221924c43a68468ee2bc630c9",
            "272c64e2e1e9487a929d67ecb0655e07",
            "dfa1bee3e3a540818ac58a17a3062637",
            "529b3d29a0204b389c0c098402cf42b4",
            "436a065959af4dfa8d1fe7011e062160",
            "9bac3e038fd846bfb8a4d569a5c9633c",
            "69aabb1171de429daea6551a1478db0f",
            "a89fae21aa1545c5b483a3fa727c10c7",
            "38724985af8c4a57ab34e97486f3efec",
            "628e62cdaaca409d9c51aabcf536e575",
            "99a15612c8ad4bbbbfb7cf9b5e894bcc",
            "905bc6128edf410bb5bd04d229c12688",
            "71b6f700dd7d4fbcb4bb0fe8924baac1",
            "03b4bd41d55a4c9da06a555443f586ce",
            "8b352e229779485a81ae5e0a116e78f7",
            "6aa7b5e71aab466d8bd7d20ea6276f06",
            "893bb184e52e4fc980a8761bfd9d8236",
            "5ce4247ccf5a4ddc84ec9ac2fe4e2825",
            "8c1ac7b5503f4126a81b5e37e23dd734",
            "7743254bf9994d09b8bc068cbd9ac92c",
            "c692ee59687b41c5a18b49f721eb73f5",
            "109d6bb7abbb4d6cad13f56325c5ec7d",
            "1218d44bde374837b8f8a8d051b1d766",
            "4f807c1569ce45259d58c08859aaa660",
            "594a6560d89247539be08e211c72ac0e",
            "eb9bd5ce3358440c86cf22a6c8612783",
            "37b838f3175f4e66ae2a5f4869d81355",
            "02e35be0b71f4810b23a271a91919ddd",
            "2be2ba622a424c9eb5b15cd5c2026e60",
            "e70776c934e24e348050e0a29ce3c6fe",
            "a75e91e53a1647fba7ece4431f58d263",
            "9008ea6c9a934bd0b88b75a94d6fae26",
            "00e1fcd95a6a473496a46259db671ef8",
            "2f9857b37b7f4bdeb3faf7f12115050d",
            "d97436e0ed9b4d64a16fc2d3cdc0670b",
            "2a6d901c784e48b882dc104c3dbf7149",
            "75548786881a4a70a08ee78d41182e0d",
            "e9ab4db80d524bf09fffd15d9d64be27",
            "ee6a89ad069c414bb377fa931e8b0400",
            "625c60ef12f34d08ab8d05d2e83cb63c",
            "d0900e95b1df4f2787dc5986f92f7824",
            "7b4d798271904f50909891db6c4bf297",
            "c6f03cbab3434b4b8643ae080c2eb53c",
            "98ab23117d964bada7a6916bb0c91b5e",
            "a8d58401cb7d436d822ecd3310627315",
            "3883e661203b4f328869f1976a83a7fa",
            "23174b54e36f424f956e928fe52bcd01",
            "da7b932e59544b678c3cf468c4a62c6c",
            "a77e1d2ff15942dabb9474b69fb1dfb1",
            "edc62de411da4eecae00d5a5d9f2c503",
            "8b680de829a74684b0fb7d5951fa5305",
            "7735c1495c234a299f2b9e629ef72baa",
            "8a8f7083f65847938e60d4da1a404240",
            "7d3eec3d34ff4ae4963d5b42341fa895",
            "e72ff9860f4040f8aa97ba7a2a657a97",
            "d8a9f1be7a1a479a89d395d880851b9d",
            "ae3adca69f1e400baad97125bca060f0",
            "7e97e764785a418bb7428df7951576ed",
            "b4cec602e14f413ebcec5bf3a7ce2ff8",
            "f81ea2bcb224474dbb09298cb887b7be",
            "91ea119ee01547d78e8076c9a5cc40cc",
            "8adbe52a0d1348e0b9f563c717fca842",
            "6bc9310a69ce408fb9f9bbb9afc99b96",
            "aaa970b86f524a268c99dec2f1faf41c",
            "0528eb5c1f6d4e1bbbe848a45720ebda",
            "6e5f0be22744433ba3789aa4e085a79a",
            "df12e1241a2b42708dfd7fa57f6e6025",
            "3dc4880766214e2ba9f0623b8f12c73e",
            "5a00d4583de748bab2ba772eaba76275",
            "248caa00801c40da962ee4311f7dad6b",
            "bb1d81b1cbe1435fb2d05591b10436cb",
            "149fc801c4f64e63a800fa661e053750",
            "41ea0015c07241dd9f3959b358c401e8",
            "c14a8da11b3d40cb9af7ac8f8475fe1c",
            "d04682679097449aad1c11514151aedb",
            "e5571069b46643e4843ddf5cd5d8d6be",
            "9d76dad3ec344315b1c8fed6c5d87b88",
            "caa62da5f6e344fbb2d33e87b83a8718",
            "18e9087b399c4a78ab74d82eadf2ff82",
            "e8040c1030b04a8c9435973421f3a3f9",
            "43e58f7ea7274d599e88b13ee41fdbec",
            "e09ba317d5694df3b8cbd7bfccf436e3",
            "878a1cb6ba3e43999fb8331e3e1393c2",
            "5bf87b3e94ad4f06a4786cf3a28add95",
            "b132aed8bcf242718e5df5c67bbf273e",
            "fe082ee968ee4f298327cb7d122598f7",
            "9c62895a9c85412ab9f2f31721a52f69",
            "d1fce206a90640ab91a69943d37ba8c1",
            "aa97b993e5a54e3d9e603ffba5384053",
            "a2d27d9ffe774dbf9de4b44f2591da93",
            "c59e451f4d1a456383cac5f1ad63ccc7",
            "4b163db550bd4cb8b20610e865cc9d9e",
            "93f01689215643b8962d60dbb2da32e8",
            "0b3f590183854bef8768379be28188fe",
            "b01d90f61fca4ce9b3ba2ad67cb8d4bb",
            "6619ca55e01f4c188ba526f9918225e4",
            "aac8188a1c134d9893004afc6dddd85e",
            "ca3f28005cfb4463a29c18d6c7dbef6d",
            "2dc30c7f308240bc88f9f7a482310469",
            "d025f2590af647ffb77b01e872041870",
            "228b69b4e5f34ded8a47894d5bef8c3b",
            "b7d73bd8cc2d4e0b85d915a88c60d5d7",
            "1aca79fe4a1a419987f1b6adaf176b74",
            "4bc50904c43147dfab87e9ecf50a6a31"
          ]
        },
        "id": "Ii6fc0iJySja",
        "outputId": "ea60715d-f776-49f1-a907-39314d717f4f"
      },
      "execution_count": null,
      "outputs": [
        {
          "output_type": "stream",
          "name": "stderr",
          "text": [
            "/usr/local/lib/python3.7/dist-packages/ipykernel_launcher.py:18: TqdmDeprecationWarning: This function will be removed in tqdm==5.0.0\n",
            "Please use `tqdm.notebook.tqdm` instead of `tqdm.tqdm_notebook`\n"
          ]
        },
        {
          "output_type": "display_data",
          "data": {
            "text/plain": [
              "  0%|          | 0/1147 [00:00<?, ?it/s]"
            ],
            "application/vnd.jupyter.widget-view+json": {
              "version_major": 2,
              "version_minor": 0,
              "model_id": "87bd276810f64ed7b8849a25d42928bd"
            }
          },
          "metadata": {}
        },
        {
          "output_type": "stream",
          "name": "stdout",
          "text": [
            "Input: 오바마는 대통령이다.\n",
            "Predicted translation: obamas president .\n",
            "Input: 시민들은 도시 속에 산다.\n",
            "Predicted translation: they are the cities of the city .\n",
            "Input: 커피는 필요 없다.\n",
            "Predicted translation: caffein is not true .\n",
            "Input: 일곱 명의 사망자가 발생했다.\n",
            "Predicted translation: the deadliest shootings were among the dead .\n"
          ]
        },
        {
          "output_type": "display_data",
          "data": {
            "text/plain": [
              "  0%|          | 0/1147 [00:00<?, ?it/s]"
            ],
            "application/vnd.jupyter.widget-view+json": {
              "version_major": 2,
              "version_minor": 0,
              "model_id": "9bac3e038fd846bfb8a4d569a5c9633c"
            }
          },
          "metadata": {}
        },
        {
          "output_type": "stream",
          "name": "stdout",
          "text": [
            "Input: 오바마는 대통령이다.\n",
            "Predicted translation: president barack obama is in his office .\n",
            "Input: 시민들은 도시 속에 산다.\n",
            "Predicted translation: the city of the town of the city of the city of the city .\n",
            "Input: 커피는 필요 없다.\n",
            "Predicted translation: coffee gets a little bit of coffee .\n",
            "Input: 일곱 명의 사망자가 발생했다.\n",
            "Predicted translation: the death toll from the deaths .\n"
          ]
        },
        {
          "output_type": "display_data",
          "data": {
            "text/plain": [
              "  0%|          | 0/1147 [00:00<?, ?it/s]"
            ],
            "application/vnd.jupyter.widget-view+json": {
              "version_major": 2,
              "version_minor": 0,
              "model_id": "893bb184e52e4fc980a8761bfd9d8236"
            }
          },
          "metadata": {}
        },
        {
          "output_type": "stream",
          "name": "stdout",
          "text": [
            "Input: 오바마는 대통령이다.\n",
            "Predicted translation: obama is leading presidential candidates .\n",
            "Input: 시민들은 도시 속에 산다.\n",
            "Predicted translation: the city is a city of the city .\n",
            "Input: 커피는 필요 없다.\n",
            "Predicted translation: coffee is not enough .\n",
            "Input: 일곱 명의 사망자가 발생했다.\n",
            "Predicted translation: the death toll was up monday .\n"
          ]
        },
        {
          "output_type": "display_data",
          "data": {
            "text/plain": [
              "  0%|          | 0/1147 [00:00<?, ?it/s]"
            ],
            "application/vnd.jupyter.widget-view+json": {
              "version_major": 2,
              "version_minor": 0,
              "model_id": "02e35be0b71f4810b23a271a91919ddd"
            }
          },
          "metadata": {}
        },
        {
          "output_type": "stream",
          "name": "stdout",
          "text": [
            "Input: 오바마는 대통령이다.\n",
            "Predicted translation: obama is being sworn in .\n",
            "Input: 시민들은 도시 속에 산다.\n",
            "Predicted translation: citizens are spun to the city .\n",
            "Input: 커피는 필요 없다.\n",
            "Predicted translation: coffee is necessary .\n",
            "Input: 일곱 명의 사망자가 발생했다.\n",
            "Predicted translation: the death toll was .\n"
          ]
        },
        {
          "output_type": "display_data",
          "data": {
            "text/plain": [
              "  0%|          | 0/1147 [00:00<?, ?it/s]"
            ],
            "application/vnd.jupyter.widget-view+json": {
              "version_major": 2,
              "version_minor": 0,
              "model_id": "ee6a89ad069c414bb377fa931e8b0400"
            }
          },
          "metadata": {}
        },
        {
          "output_type": "stream",
          "name": "stdout",
          "text": [
            "Input: 오바마는 대통령이다.\n",
            "Predicted translation: obama is holding a very strong way .\n",
            "Input: 시민들은 도시 속에 산다.\n",
            "Predicted translation: they are kept in cities .\n",
            "Input: 커피는 필요 없다.\n",
            "Predicted translation: no need for coffee .\n",
            "Input: 일곱 명의 사망자가 발생했다.\n",
            "Predicted translation: fiftytwo seven people were killed sunday .\n"
          ]
        },
        {
          "output_type": "display_data",
          "data": {
            "text/plain": [
              "  0%|          | 0/1147 [00:00<?, ?it/s]"
            ],
            "application/vnd.jupyter.widget-view+json": {
              "version_major": 2,
              "version_minor": 0,
              "model_id": "edc62de411da4eecae00d5a5d9f2c503"
            }
          },
          "metadata": {}
        },
        {
          "output_type": "stream",
          "name": "stdout",
          "text": [
            "Input: 오바마는 대통령이다.\n",
            "Predicted translation: obama was a father .\n",
            "Input: 시민들은 도시 속에 산다.\n",
            "Predicted translation: the citizens took off in the citys poor .\n",
            "Input: 커피는 필요 없다.\n",
            "Predicted translation: the coffee needs .\n",
            "Input: 일곱 명의 사망자가 발생했다.\n",
            "Predicted translation: two other people were killed .\n"
          ]
        },
        {
          "output_type": "display_data",
          "data": {
            "text/plain": [
              "  0%|          | 0/1147 [00:00<?, ?it/s]"
            ],
            "application/vnd.jupyter.widget-view+json": {
              "version_major": 2,
              "version_minor": 0,
              "model_id": "91ea119ee01547d78e8076c9a5cc40cc"
            }
          },
          "metadata": {}
        },
        {
          "output_type": "stream",
          "name": "stdout",
          "text": [
            "Input: 오바마는 대통령이다.\n",
            "Predicted translation: obama will be the first time .\n",
            "Input: 시민들은 도시 속에 산다.\n",
            "Predicted translation: the citizens cities follows the citys towns of cities .\n",
            "Input: 커피는 필요 없다.\n",
            "Predicted translation: the coffee is necessary .\n",
            "Input: 일곱 명의 사망자가 발생했다.\n",
            "Predicted translation: seven people were among the dead .\n"
          ]
        },
        {
          "output_type": "display_data",
          "data": {
            "text/plain": [
              "  0%|          | 0/1147 [00:00<?, ?it/s]"
            ],
            "application/vnd.jupyter.widget-view+json": {
              "version_major": 2,
              "version_minor": 0,
              "model_id": "149fc801c4f64e63a800fa661e053750"
            }
          },
          "metadata": {}
        },
        {
          "output_type": "stream",
          "name": "stdout",
          "text": [
            "Input: 오바마는 대통령이다.\n",
            "Predicted translation: obamas president , became a former president .\n",
            "Input: 시민들은 도시 속에 산다.\n",
            "Predicted translation: they want to go up today .\n",
            "Input: 커피는 필요 없다.\n",
            "Predicted translation: but the need to go .\n",
            "Input: 일곱 명의 사망자가 발생했다.\n",
            "Predicted translation: seventeen people .\n"
          ]
        },
        {
          "output_type": "display_data",
          "data": {
            "text/plain": [
              "  0%|          | 0/1147 [00:00<?, ?it/s]"
            ],
            "application/vnd.jupyter.widget-view+json": {
              "version_major": 2,
              "version_minor": 0,
              "model_id": "878a1cb6ba3e43999fb8331e3e1393c2"
            }
          },
          "metadata": {}
        },
        {
          "output_type": "stream",
          "name": "stdout",
          "text": [
            "Input: 오바마는 대통령이다.\n",
            "Predicted translation: if obama was a president .\n",
            "Input: 시민들은 도시 속에 산다.\n",
            "Predicted translation: they are the other cities to cities\n",
            "Input: 커피는 필요 없다.\n",
            "Predicted translation: coffee needs .\n",
            "Input: 일곱 명의 사망자가 발생했다.\n",
            "Predicted translation: seven other people fatalities were killed .\n"
          ]
        },
        {
          "output_type": "display_data",
          "data": {
            "text/plain": [
              "  0%|          | 0/1147 [00:00<?, ?it/s]"
            ],
            "application/vnd.jupyter.widget-view+json": {
              "version_major": 2,
              "version_minor": 0,
              "model_id": "0b3f590183854bef8768379be28188fe"
            }
          },
          "metadata": {}
        },
        {
          "output_type": "stream",
          "name": "stdout",
          "text": [
            "Input: 오바마는 대통령이다.\n",
            "Predicted translation: obama thens his then .\n",
            "Input: 시민들은 도시 속에 산다.\n",
            "Predicted translation: they are the other battle in the city .\n",
            "Input: 커피는 필요 없다.\n",
            "Predicted translation: but needs to need just because its need\n",
            "Input: 일곱 명의 사망자가 발생했다.\n",
            "Predicted translation: seven people , with seven deaths sunday .\n"
          ]
        }
      ]
    },
    {
      "cell_type": "markdown",
      "source": [
        "Translations\n",
        "1. obama is a nominee .\n",
        "2. the urbanization is in the city .\n",
        "3. no coffee is needed .\n",
        "4. seven people were killed \n",
        "\n",
        "Hyperparameters\n",
        "- n_layers : 2\n",
        "- d_model : 512\n",
        "- n_heads : 8\n",
        "- d_ff : 2048\n",
        "- dropout : 0.2\n",
        "\n",
        "Traning Parameters\n",
        "- warmup Steps : 4000\n",
        "- Batch Size : 64\n",
        "- Epoch At : 5\n",
        "\n",
        "SentencePiece model_type: **bpe**\n",
        "***\n",
        "확실히 sentencepiece 모델 타입 성능은 bpe가 unigram에 비해 훨씬 좋은 것 같다. \n",
        "\n",
        "위의 예측결과는 model_type이 bpe에서 unigram으로 바뀌었을 뿐인데 bpe의 translation 결과에 비해 말이 안 되는 번역이 많은 것을 볼 수 있다.   \n",
        "앞으로 SentencePiece를 쓰게 되면 bpe로 고정시켜 사용할 것 같다. \n",
        "\n",
        "Seq2seq를 사용해서 번역기를 만들 때는 assert는 생각하지도 못했는데, 당연하다. 모르니까 쓸 수 없었다. 잘 알아두고 가야겠다.\n",
        "\n",
        "모델설계까지는 어찌저찌 이해하고 짤 수 있을 것 같은데 훈련하기 부터, gradient tape와 learning rate scheduler 는 코드를 봐도 왜 이렇게 하는 것인가 이해가 필요할 것 같다. \n",
        "\n",
        "모델에서도 특정 코드가 어디에 쓰이고 있는지는 알겠지만 자잘한 라이브러리들, 수식들은 더 공부할 필요가 있어보인다. \n"
      ],
      "metadata": {
        "id": "0PThgyfSGslI"
      }
    },
    {
      "cell_type": "code",
      "source": [
        ""
      ],
      "metadata": {
        "id": "y9Cko0Qw0CMk"
      },
      "execution_count": null,
      "outputs": []
    }
  ]
}