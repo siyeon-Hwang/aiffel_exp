{
 "cells": [
  {
   "cell_type": "code",
   "execution_count": 27,
   "id": "80115537",
   "metadata": {},
   "outputs": [],
   "source": [
    "#데이터 압축 해제\n",
    "'''\n",
    "import zipfile\n",
    "\n",
    "rock = zipfile.ZipFile('C:/Users/USER/AIFFEL/aiffel_exp/rock_scissor_paper/rock/rock.zip')\n",
    "rock.extractall('C:/Users/USER/AIFFEL/aiffel_exp/rock_scissor_paper/rock')\n",
    "\n",
    "rock.close()\n",
    "'''"
   ]
  },
  {
   "cell_type": "code",
   "execution_count": 22,
   "id": "ac031f02",
   "metadata": {},
   "outputs": [],
   "source": [
    "'''\n",
    "scissor = zipfile.ZipFile('C:/Users/USER/AIFFEL/aiffel_exp/rock_scissor_paper/scissor/scissor.zip')\n",
    "scissor.extractall('C:/Users/USER/AIFFEL/aiffel_exp/rock_scissor_paper/scissor')\n",
    "\n",
    "scissor.close()\n",
    "'''"
   ]
  },
  {
   "cell_type": "code",
   "execution_count": 131,
   "id": "bb7f9d01",
   "metadata": {},
   "outputs": [],
   "source": [
    "'''\n",
    "paper = zipfile.ZipFile('C:/Users/USER/AIFFEL/aiffel_exp/rock_scissor_paper/paper/paper.zip')\n",
    "paper.extractall('C:/Users/USER/AIFFEL/aiffel_exp/rock_scissor_paper/paper')\n",
    "\n",
    "paper.close()\n",
    "'''"
   ]
  },
  {
   "cell_type": "markdown",
   "id": "076d8b11",
   "metadata": {},
   "source": [
    "#### 사진크기 확인"
   ]
  },
  {
   "cell_type": "code",
   "execution_count": 36,
   "id": "b7159d1a",
   "metadata": {},
   "outputs": [
    {
     "name": "stdout",
     "output_type": "stream",
     "text": [
      "<class 'PIL.JpegImagePlugin.JpegImageFile'>\n"
     ]
    },
    {
     "data": {
      "text/plain": [
       "(28, 28)"
      ]
     },
     "execution_count": 36,
     "metadata": {},
     "output_type": "execute_result"
    }
   ],
   "source": [
    "from PIL import Image, ImageColor\n",
    "\n",
    "img_path = './rock_scissor_paper/rock/1.jpg'\n",
    "img = Image.open(img_path)\n",
    "print(type(img))\n",
    "img.size"
   ]
  },
  {
   "cell_type": "markdown",
   "id": "dba2278d",
   "metadata": {},
   "source": [
    "#### 사진 크기 변경하기"
   ]
  },
  {
   "cell_type": "code",
   "execution_count": 37,
   "id": "6bfc5966",
   "metadata": {},
   "outputs": [],
   "source": [
    "from PIL import Image\n",
    "import glob"
   ]
  },
  {
   "cell_type": "code",
   "execution_count": 38,
   "id": "491aed13",
   "metadata": {},
   "outputs": [
    {
     "name": "stdout",
     "output_type": "stream",
     "text": [
      "100  images to be resized.\n",
      "100  images resized.\n"
     ]
    }
   ],
   "source": [
    "def resize_images(img_path):\n",
    "    images = glob.glob(img_path + \"/*.jpg\")\n",
    "    \n",
    "    print(len(images), \" images to be resized.\")\n",
    "    \n",
    "    #파일마다 모두 28x28 사이즈로 바꾸어 저장합니다\n",
    "    target_size = (28,28)\n",
    "    for img in images:\n",
    "        old_img = Image.open(img)\n",
    "        new_img = old_img.resize(target_size, Image.ANTIALIAS)\n",
    "        new_img.save(img, \"JPEG\")\n",
    "    \n",
    "    print(len(images), \" images resized.\")\n",
    "\n",
    "#바위 이미지가 저장된 디렉토리 아래의 모든 jpg 파일을 읽어들여서\n",
    "image_dir_path = './rock_scissor_paper/rock'\n",
    "resize_images(image_dir_path)"
   ]
  },
  {
   "cell_type": "code",
   "execution_count": 39,
   "id": "bef67023",
   "metadata": {
    "scrolled": true
   },
   "outputs": [
    {
     "name": "stdout",
     "output_type": "stream",
     "text": [
      "100  images to be resized.\n",
      "100  images resized.\n",
      "100  images to be resized.\n",
      "100  images resized.\n"
     ]
    }
   ],
   "source": [
    "#가위 이미지가 저장된 디렉토리 아래의 모든 jpg 파일을 읽어들여 변환\n",
    "image_dir_path = './rock_scissor_paper/scissor'\n",
    "resize_images(image_dir_path)\n",
    "\n",
    "#보 이미지가 저장된 디렉토리 아래의 모든 jpg 파일을 읽어들여 변환\n",
    "image_dir_path = './rock_scissor_paper/paper'\n",
    "resize_images(image_dir_path)"
   ]
  },
  {
   "cell_type": "code",
   "execution_count": 40,
   "id": "c19898ab",
   "metadata": {},
   "outputs": [
    {
     "name": "stdout",
     "output_type": "stream",
     "text": [
      "100  images to be resized.\n",
      "100  images resized.\n",
      "100  images to be resized.\n",
      "100  images resized.\n",
      "100  images to be resized.\n",
      "100  images resized.\n"
     ]
    }
   ],
   "source": [
    "#test 이미지 크기 변경\n",
    "image_dir_path = './rock_scissor_paper/test/rock'\n",
    "resize_images(image_dir_path)\n",
    "image_dir_path = './rock_scissor_paper/test/scissor'\n",
    "resize_images(image_dir_path)\n",
    "image_dir_path = './rock_scissor_paper/test/paper'\n",
    "resize_images(image_dir_path)"
   ]
  },
  {
   "cell_type": "markdown",
   "id": "503a2f21",
   "metadata": {},
   "source": [
    "####  load_data() 함수 만들기"
   ]
  },
  {
   "cell_type": "code",
   "execution_count": 41,
   "id": "2e5b8c3c",
   "metadata": {},
   "outputs": [
    {
     "name": "stdout",
     "output_type": "stream",
     "text": [
      "학습데이터(x_train)의 이미지 개수는 300 입니다\n",
      "x_train shape: (300, 28, 28, 3)\n",
      "y_train_shape: (300,)\n"
     ]
    }
   ],
   "source": [
    "import numpy as np\n",
    "\n",
    "def load_data(img_path, number_of_data = 300): #가위바위보 이미지 개수 총합에 주의하세요\n",
    "    #가위:0, 바위:1, 보:2\n",
    "    img_size = 28\n",
    "    color = 3\n",
    "    #이미지 데이터와 라벨데이터를 담을 행렬영역을 생성합니다.\n",
    "    imgs = np.zeros(number_of_data*img_size*img_size*color, dtype = np.int32).reshape(number_of_data, img_size, img_size, color)\n",
    "    labels = np.zeros(number_of_data, dtype = np.int32)\n",
    "    \n",
    "    idx = 0\n",
    "    for file in glob.iglob(img_path+'/scissor/*.jpg'):\n",
    "        img = np.array(Image.open(file), dtype = np.int32)\n",
    "        imgs[idx,:,:,:] = img  #데이터 영역에 이미지 행렬을 복사\n",
    "        labels[idx] = 0  #가위:0\n",
    "        idx = idx+1\n",
    "        \n",
    "    for file in glob.iglob(img_path+'/rock/*.jpg'):\n",
    "        img = np.array(Image.open(file), dtype=np.int32)\n",
    "        imgs[idx,:,:,:] = img\n",
    "        labels[idx] = 1  #바위:1\n",
    "        idx += 1\n",
    "        \n",
    "    for file in glob.iglob(img_path+'/paper/*.jpg'):\n",
    "        img = np.array(Image.open(file), dtype = np.int32)\n",
    "        imgs[idx,:,:,:] = img\n",
    "        labels[idx] = 2  #보:2\n",
    "        idx += 1\n",
    "        \n",
    "    print(\"학습데이터(x_train)의 이미지 개수는\", idx, \"입니다\")\n",
    "    return imgs, labels\n",
    "\n",
    "image_dir_path = \"./rock_scissor_paper\"\n",
    "(x_train, y_train) = load_data(image_dir_path)\n",
    "x_train_norm = x_train/255.0  #입력은 0-1 사이의 값으로 정규화\n",
    "\n",
    "print('x_train shape: {}'.format(x_train.shape))\n",
    "print('y_train_shape: {}'.format(y_train.shape))\n",
    "    "
   ]
  },
  {
   "cell_type": "code",
   "execution_count": 42,
   "id": "a8a249d9",
   "metadata": {
    "scrolled": true
   },
   "outputs": [
    {
     "name": "stdout",
     "output_type": "stream",
     "text": [
      "라벨:  0\n"
     ]
    },
    {
     "data": {
      "image/png": "[encoded data removed]",
      "text/plain": [
       "<Figure size 432x288 with 1 Axes>"
      ]
     },
     "metadata": {
      "needs_background": "light"
     },
     "output_type": "display_data"
    }
   ],
   "source": [
    "import matplotlib.pyplot as plt\n",
    "\n",
    "plt.imshow(x_train_norm[7])\n",
    "print('라벨: ', y_train[7])"
   ]
  },
  {
   "cell_type": "code",
   "execution_count": 43,
   "id": "801861f5",
   "metadata": {},
   "outputs": [
    {
     "name": "stdout",
     "output_type": "stream",
     "text": [
      "학습데이터(x_train)의 이미지 개수는 300 입니다\n",
      "x_test shape: (300, 28, 28, 3)\n",
      "y_test_shape: (300,)\n"
     ]
    }
   ],
   "source": [
    "# test data load 하기\n",
    "image_dir_path = \"./rock_scissor_paper/test\"\n",
    "(x_test, y_test) = load_data(image_dir_path)\n",
    "x_test_norm = x_test/255.0  #입력은 0-1 사이의 값으로 정규화\n",
    "\n",
    "print('x_test shape: {}'.format(x_test.shape))\n",
    "print('y_test_shape: {}'.format(y_test.shape))"
   ]
  },
  {
   "cell_type": "code",
   "execution_count": 44,
   "id": "10f0d91c",
   "metadata": {
    "scrolled": false
   },
   "outputs": [
    {
     "data": {
      "text/plain": [
       "<matplotlib.image.AxesImage at 0x13a92f7edc0>"
      ]
     },
     "execution_count": 44,
     "metadata": {},
     "output_type": "execute_result"
    },
    {
     "data": {
      "image/png": "[encoded data removed]",
      "text/plain": [
       "<Figure size 432x288 with 1 Axes>"
      ]
     },
     "metadata": {
      "needs_background": "light"
     },
     "output_type": "display_data"
    }
   ],
   "source": [
    "plt.imshow(x_test_norm[200])"
   ]
  },
  {
   "cell_type": "markdown",
   "id": "ce19e24b",
   "metadata": {},
   "source": [
    "#### 딥러닝 네트워크 설계하기"
   ]
  },
  {
   "cell_type": "code",
   "execution_count": 45,
   "id": "20bbbc14",
   "metadata": {},
   "outputs": [
    {
     "name": "stdout",
     "output_type": "stream",
     "text": [
      "Model: \"sequential_2\"\n",
      "_________________________________________________________________\n",
      "Layer (type)                 Output Shape              Param #   \n",
      "=================================================================\n",
      "conv2d_6 (Conv2D)            (None, 26, 26, 32)        896       \n",
      "_________________________________________________________________\n",
      "max_pooling2d_6 (MaxPooling2 (None, 13, 13, 32)        0         \n",
      "_________________________________________________________________\n",
      "conv2d_7 (Conv2D)            (None, 11, 11, 64)        18496     \n",
      "_________________________________________________________________\n",
      "max_pooling2d_7 (MaxPooling2 (None, 5, 5, 64)          0         \n",
      "_________________________________________________________________\n",
      "dropout_4 (Dropout)          (None, 5, 5, 64)          0         \n",
      "_________________________________________________________________\n",
      "conv2d_8 (Conv2D)            (None, 3, 3, 128)         73856     \n",
      "_________________________________________________________________\n",
      "max_pooling2d_8 (MaxPooling2 (None, 1, 1, 128)         0         \n",
      "_________________________________________________________________\n",
      "dropout_5 (Dropout)          (None, 1, 1, 128)         0         \n",
      "_________________________________________________________________\n",
      "flatten_2 (Flatten)          (None, 128)               0         \n",
      "_________________________________________________________________\n",
      "dense_4 (Dense)              (None, 64)                8256      \n",
      "_________________________________________________________________\n",
      "dense_5 (Dense)              (None, 3)                 195       \n",
      "=================================================================\n",
      "Total params: 101,699\n",
      "Trainable params: 101,699\n",
      "Non-trainable params: 0\n",
      "_________________________________________________________________\n"
     ]
    }
   ],
   "source": [
    "import tensorflow as tf\n",
    "from tensorflow import keras\n",
    "import numpy as np\n",
    "\n",
    "model = keras.models.Sequential()\n",
    "\n",
    "model.add(keras.layers.Conv2D(32, (3,3), activation = 'relu', input_shape = (28,28,3)))\n",
    "model.add(keras.layers.MaxPool2D(2,2))\n",
    "model.add(keras.layers.Conv2D(64, (3,3), activation = 'relu'))\n",
    "model.add(keras.layers.MaxPooling2D((2,2)))\n",
    "model.add(keras.layers.Dropout(0.2))\n",
    "model.add(keras.layers.Conv2D(128, (3,3), activation = 'relu'))\n",
    "model.add(keras.layers.MaxPooling2D((2,2)))\n",
    "model.add(keras.layers.Dropout(0.3))\n",
    "model.add(keras.layers.Flatten())\n",
    "model.add(keras.layers.Dense(64, activation = 'relu'))\n",
    "model.add(keras.layers.Dense(3, activation = 'softmax'))\n",
    "\n",
    "model.summary()"
   ]
  },
  {
   "cell_type": "markdown",
   "id": "66eaf071",
   "metadata": {},
   "source": [
    "#### 딥러닝 네트워크 학습 및 테스트 시키기"
   ]
  },
  {
   "cell_type": "code",
   "execution_count": 46,
   "id": "9973ed2f",
   "metadata": {},
   "outputs": [
    {
     "name": "stdout",
     "output_type": "stream",
     "text": [
      "Epoch 1/10\n",
      "10/10 [==============================] - 0s 10ms/step - loss: 1.1004 - accuracy: 0.3367\n",
      "Epoch 2/10\n",
      "10/10 [==============================] - 0s 10ms/step - loss: 1.1045 - accuracy: 0.3367\n",
      "Epoch 3/10\n",
      "10/10 [==============================] - 0s 9ms/step - loss: 1.0774 - accuracy: 0.4200\n",
      "Epoch 4/10\n",
      "10/10 [==============================] - 0s 9ms/step - loss: 1.0265 - accuracy: 0.5700\n",
      "Epoch 5/10\n",
      "10/10 [==============================] - 0s 9ms/step - loss: 0.9572 - accuracy: 0.5733\n",
      "Epoch 6/10\n",
      "10/10 [==============================] - 0s 10ms/step - loss: 0.9519 - accuracy: 0.5400\n",
      "Epoch 7/10\n",
      "10/10 [==============================] - 0s 10ms/step - loss: 0.9204 - accuracy: 0.5667\n",
      "Epoch 8/10\n",
      "10/10 [==============================] - 0s 11ms/step - loss: 0.8734 - accuracy: 0.6167\n",
      "Epoch 9/10\n",
      "10/10 [==============================] - 0s 9ms/step - loss: 0.8580 - accuracy: 0.6267\n",
      "Epoch 10/10\n",
      "10/10 [==============================] - 0s 10ms/step - loss: 0.7780 - accuracy: 0.6667\n",
      "10/10 [==============================] - 0s 4ms/step - loss: 0.6767 - accuracy: 0.7667\n",
      "test_loss: 0.6766716241836548\n",
      "test_accuracy: 0.7666666507720947\n"
     ]
    }
   ],
   "source": [
    "model.compile(optimizer = 'adam',\n",
    "             loss = 'sparse_categorical_crossentropy',\n",
    "             metrics = ['accuracy'])\n",
    "\n",
    "model.fit(x_train_norm, y_train, epochs = 10)\n",
    "\n",
    "test_loss, test_accuracy = model.evaluate(x_test_norm, y_test, verbose = 1)\n",
    "print('test_loss: {}'.format(test_loss))\n",
    "print('test_accuracy: {}'.format(test_accuracy))"
   ]
  },
  {
   "cell_type": "code",
   "execution_count": null,
   "id": "fe3989a7",
   "metadata": {},
   "outputs": [],
   "source": []
  },
  {
   "cell_type": "code",
   "execution_count": null,
   "id": "478237de",
   "metadata": {},
   "outputs": [],
   "source": []
  }
 ],
 "metadata": {
  "kernelspec": {
   "display_name": "Python 3",
   "language": "python",
   "name": "python3"
  },
  "language_info": {
   "codemirror_mode": {
    "name": "ipython",
    "version": 3
   },
   "file_extension": ".py",
   "mimetype": "text/x-python",
   "name": "python",
   "nbconvert_exporter": "python",
   "pygments_lexer": "ipython3",
   "version": "3.8.8"
  }
 },
 "nbformat": 4,
 "nbformat_minor": 5
}
