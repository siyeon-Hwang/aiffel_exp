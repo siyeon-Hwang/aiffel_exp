{
 "cells": [
  {
   "cell_type": "code",
   "execution_count": null,
   "id": "c0981fd7",
   "metadata": {},
   "outputs": [],
   "source": []
  },
  {
   "cell_type": "code",
   "execution_count": 1,
   "id": "f156d72b",
   "metadata": {},
   "outputs": [],
   "source": [
    "# 필요 모듈 호출\n",
    "import tensorflow as tf\n",
    "import os\n",
    "import re\n",
    "import numpy as np\n",
    "import pandas as pd\n",
    "import matplotlib.pyplot as plt"
   ]
  },
  {
   "cell_type": "markdown",
   "id": "b7ad1e11",
   "metadata": {},
   "source": [
    "## 1. 데이터 수집하기"
   ]
  },
  {
   "cell_type": "code",
   "execution_count": 2,
   "id": "b42d2d44",
   "metadata": {
    "scrolled": false
   },
   "outputs": [
    {
     "data": {
      "text/html": [
       "<div>\n",
       "<style scoped>\n",
       "    .dataframe tbody tr th:only-of-type {\n",
       "        vertical-align: middle;\n",
       "    }\n",
       "\n",
       "    .dataframe tbody tr th {\n",
       "        vertical-align: top;\n",
       "    }\n",
       "\n",
       "    .dataframe thead th {\n",
       "        text-align: right;\n",
       "    }\n",
       "</style>\n",
       "<table border=\"1\" class=\"dataframe\">\n",
       "  <thead>\n",
       "    <tr style=\"text-align: right;\">\n",
       "      <th></th>\n",
       "      <th>Q</th>\n",
       "      <th>A</th>\n",
       "      <th>label</th>\n",
       "    </tr>\n",
       "  </thead>\n",
       "  <tbody>\n",
       "    <tr>\n",
       "      <th>0</th>\n",
       "      <td>12시 땡!</td>\n",
       "      <td>하루가 또 가네요.</td>\n",
       "      <td>0</td>\n",
       "    </tr>\n",
       "    <tr>\n",
       "      <th>1</th>\n",
       "      <td>1지망 학교 떨어졌어</td>\n",
       "      <td>위로해 드립니다.</td>\n",
       "      <td>0</td>\n",
       "    </tr>\n",
       "    <tr>\n",
       "      <th>2</th>\n",
       "      <td>3박4일 놀러가고 싶다</td>\n",
       "      <td>여행은 언제나 좋죠.</td>\n",
       "      <td>0</td>\n",
       "    </tr>\n",
       "    <tr>\n",
       "      <th>3</th>\n",
       "      <td>3박4일 정도 놀러가고 싶다</td>\n",
       "      <td>여행은 언제나 좋죠.</td>\n",
       "      <td>0</td>\n",
       "    </tr>\n",
       "    <tr>\n",
       "      <th>4</th>\n",
       "      <td>PPL 심하네</td>\n",
       "      <td>눈살이 찌푸려지죠.</td>\n",
       "      <td>0</td>\n",
       "    </tr>\n",
       "  </tbody>\n",
       "</table>\n",
       "</div>"
      ],
      "text/plain": [
       "                 Q            A  label\n",
       "0           12시 땡!   하루가 또 가네요.      0\n",
       "1      1지망 학교 떨어졌어    위로해 드립니다.      0\n",
       "2     3박4일 놀러가고 싶다  여행은 언제나 좋죠.      0\n",
       "3  3박4일 정도 놀러가고 싶다  여행은 언제나 좋죠.      0\n",
       "4          PPL 심하네   눈살이 찌푸려지죠.      0"
      ]
     },
     "execution_count": 2,
     "metadata": {},
     "output_type": "execute_result"
    }
   ],
   "source": [
    "'''\n",
    "mkdir -p ~/aiffel/transformer_chatbot/data/\n",
    "ln -s ~/data/* ~/aiffel/transformer_chatbot/data/\n",
    "'''\n",
    "conversation = pd.read_csv(os.getenv('HOME')+'/aiffel/transformer_chatbot/data/ChatbotData .csv')\n",
    "conversation.head()"
   ]
  },
  {
   "cell_type": "code",
   "execution_count": 3,
   "id": "aa398593",
   "metadata": {},
   "outputs": [
    {
     "data": {
      "text/plain": [
       "11823"
      ]
     },
     "execution_count": 3,
     "metadata": {},
     "output_type": "execute_result"
    }
   ],
   "source": [
    "MAX_SAMPLES = len(conversation)\n",
    "MAX_SAMPLES"
   ]
  },
  {
   "cell_type": "code",
   "execution_count": 4,
   "id": "93bb261f",
   "metadata": {
    "scrolled": true
   },
   "outputs": [
    {
     "data": {
      "text/html": [
       "<div>\n",
       "<style scoped>\n",
       "    .dataframe tbody tr th:only-of-type {\n",
       "        vertical-align: middle;\n",
       "    }\n",
       "\n",
       "    .dataframe tbody tr th {\n",
       "        vertical-align: top;\n",
       "    }\n",
       "\n",
       "    .dataframe thead th {\n",
       "        text-align: right;\n",
       "    }\n",
       "</style>\n",
       "<table border=\"1\" class=\"dataframe\">\n",
       "  <thead>\n",
       "    <tr style=\"text-align: right;\">\n",
       "      <th></th>\n",
       "      <th>Q</th>\n",
       "      <th>A</th>\n",
       "      <th>label</th>\n",
       "    </tr>\n",
       "  </thead>\n",
       "  <tbody>\n",
       "    <tr>\n",
       "      <th>11818</th>\n",
       "      <td>훔쳐보는 것도 눈치 보임.</td>\n",
       "      <td>티가 나니까 눈치가 보이는 거죠!</td>\n",
       "      <td>2</td>\n",
       "    </tr>\n",
       "    <tr>\n",
       "      <th>11819</th>\n",
       "      <td>훔쳐보는 것도 눈치 보임.</td>\n",
       "      <td>훔쳐보는 거 티나나봐요.</td>\n",
       "      <td>2</td>\n",
       "    </tr>\n",
       "    <tr>\n",
       "      <th>11820</th>\n",
       "      <td>흑기사 해주는 짝남.</td>\n",
       "      <td>설렜겠어요.</td>\n",
       "      <td>2</td>\n",
       "    </tr>\n",
       "    <tr>\n",
       "      <th>11821</th>\n",
       "      <td>힘든 연애 좋은 연애라는게 무슨 차이일까?</td>\n",
       "      <td>잘 헤어질 수 있는 사이 여부인 거 같아요.</td>\n",
       "      <td>2</td>\n",
       "    </tr>\n",
       "    <tr>\n",
       "      <th>11822</th>\n",
       "      <td>힘들어서 결혼할까봐</td>\n",
       "      <td>도피성 결혼은 하지 않길 바라요.</td>\n",
       "      <td>2</td>\n",
       "    </tr>\n",
       "  </tbody>\n",
       "</table>\n",
       "</div>"
      ],
      "text/plain": [
       "                             Q                         A  label\n",
       "11818           훔쳐보는 것도 눈치 보임.        티가 나니까 눈치가 보이는 거죠!      2\n",
       "11819           훔쳐보는 것도 눈치 보임.             훔쳐보는 거 티나나봐요.      2\n",
       "11820              흑기사 해주는 짝남.                    설렜겠어요.      2\n",
       "11821  힘든 연애 좋은 연애라는게 무슨 차이일까?  잘 헤어질 수 있는 사이 여부인 거 같아요.      2\n",
       "11822               힘들어서 결혼할까봐        도피성 결혼은 하지 않길 바라요.      2"
      ]
     },
     "execution_count": 4,
     "metadata": {},
     "output_type": "execute_result"
    }
   ],
   "source": [
    "conversation.tail()"
   ]
  },
  {
   "cell_type": "markdown",
   "id": "b361c9cc",
   "metadata": {},
   "source": [
    "## 2. 데이터 전처리하기"
   ]
  },
  {
   "cell_type": "code",
   "execution_count": 5,
   "id": "6aa29cf5",
   "metadata": {},
   "outputs": [],
   "source": [
    "# 전처리 함수\n",
    "def preprocess_sentence(sentence):\n",
    "    sentence = sentence.strip()\n",
    "    \n",
    "    # 단어와 구두점 사이 거리\n",
    "    sentence = re.sub(r'([?.,!])',r' \\1 ', sentence)\n",
    "    sentence = re.sub(r'[\" \"]+', ' ', sentence)\n",
    "    \n",
    "    return sentence"
   ]
  },
  {
   "cell_type": "code",
   "execution_count": 6,
   "id": "189b253d",
   "metadata": {},
   "outputs": [
    {
     "data": {
      "text/plain": [
       "'1지망 학교 떨어졌어'"
      ]
     },
     "execution_count": 6,
     "metadata": {},
     "output_type": "execute_result"
    }
   ],
   "source": [
    "conversation['Q'][1]"
   ]
  },
  {
   "cell_type": "code",
   "execution_count": 7,
   "id": "f913a9a7",
   "metadata": {},
   "outputs": [],
   "source": [
    "# 질문과 답변의 쌓인 데이터셋 구성 위한 데이터 로드 함수\n",
    "def load_conversations():\n",
    "    inputs, outputs = [], []\n",
    "    for i in range(len(conversation)):\n",
    "        inputs.append(preprocess_sentence(conversation['Q'][i]))\n",
    "        outputs.append(preprocess_sentence(conversation['A'][i]))\n",
    "    \n",
    "    return inputs, outputs"
   ]
  },
  {
   "cell_type": "code",
   "execution_count": 8,
   "id": "bbbd5863",
   "metadata": {},
   "outputs": [
    {
     "name": "stdout",
     "output_type": "stream",
     "text": [
      "전체 샘플 수: 11823\n",
      "전체 샘플 수: 11823\n"
     ]
    }
   ],
   "source": [
    "# 데이터를 로드하고 전처리하여 질문과 답변을 저장\n",
    "questions, answers = load_conversations()\n",
    "\n",
    "print('전체 샘플 수:', len(questions))\n",
    "print('전체 샘플 수:', len(questions))"
   ]
  },
  {
   "cell_type": "code",
   "execution_count": 9,
   "id": "3324b574",
   "metadata": {},
   "outputs": [
    {
     "name": "stdout",
     "output_type": "stream",
     "text": [
      "전처리 후의 22번째 질문 샘플: 가스비 장난 아님\n",
      "전처리 후의 22번째 답변 샘플: 다음 달에는 더 절약해봐요 . \n"
     ]
    }
   ],
   "source": [
    "print('전처리 후의 22번째 질문 샘플: {}'.format(questions[21]))\n",
    "print('전처리 후의 22번째 답변 샘플: {}'.format(answers[21]))"
   ]
  },
  {
   "cell_type": "markdown",
   "id": "a832e4e0",
   "metadata": {},
   "source": [
    "## 3. SubwordTextEncoder 사용하기"
   ]
  },
  {
   "cell_type": "code",
   "execution_count": 10,
   "id": "86fb5bba",
   "metadata": {},
   "outputs": [],
   "source": [
    "# 1. 단어장(vocabulary) 만들기\n",
    "import tensorflow_datasets as tfds\n",
    "\n",
    "tokenizer = tfds.deprecated.text.SubwordTextEncoder.build_from_corpus(questions + answers, target_vocab_size=2**13)"
   ]
  },
  {
   "cell_type": "code",
   "execution_count": 11,
   "id": "a061e6f6",
   "metadata": {},
   "outputs": [],
   "source": [
    "# 시작 토큰과 종료 토큰에 고유한 정수를 부여한다.\n",
    "START_TOKEN, END_TOKEN = [tokenizer.vocab_size], [tokenizer.vocab_size + 1]"
   ]
  },
  {
   "cell_type": "code",
   "execution_count": 12,
   "id": "d9fb13ed",
   "metadata": {},
   "outputs": [
    {
     "name": "stdout",
     "output_type": "stream",
     "text": [
      "START_TOKEN의 번호:  [8170]\n",
      "END_TOKEN의 번호:  [8171]\n"
     ]
    }
   ],
   "source": [
    "print('START_TOKEN의 번호: ', [tokenizer.vocab_size])\n",
    "print('END_TOKEN의 번호: ', [tokenizer.vocab_size + 1])"
   ]
  },
  {
   "cell_type": "code",
   "execution_count": 13,
   "id": "fc1ed876",
   "metadata": {},
   "outputs": [
    {
     "name": "stdout",
     "output_type": "stream",
     "text": [
      "8172\n"
     ]
    }
   ],
   "source": [
    "# 시작 토큰과 종료 토큰을 고려해 +2를 하여 단어장의 크기를 산정한다.\n",
    "VOCAB_SIZE = tokenizer.vocab_size + 2\n",
    "print(VOCAB_SIZE)"
   ]
  },
  {
   "cell_type": "code",
   "execution_count": 14,
   "id": "cb0d89c4",
   "metadata": {},
   "outputs": [
    {
     "name": "stdout",
     "output_type": "stream",
     "text": [
      "정수 인코딩 후의 21번째 질문 샘플: [5761, 609, 2489, 4160]\n",
      "정수 인코딩 후의 21번째 답변 샘플: [2353, 7510, 7, 6273, 96, 1]\n"
     ]
    }
   ],
   "source": [
    "# 2. 각 단어 정수 인코딩 & 패딩\n",
    "# 임의의 22번째 샘플에 대해 정수 인코딩 작업을 수행\n",
    "# 각 토큰을 고유한 정수로 변환\n",
    "print('정수 인코딩 후의 21번째 질문 샘플: {}'.format(tokenizer.encode(questions[21])))\n",
    "print('정수 인코딩 후의 21번째 답변 샘플: {}'.format(tokenizer.encode(answers[21])))"
   ]
  },
  {
   "cell_type": "code",
   "execution_count": 15,
   "id": "f0ece1c0",
   "metadata": {},
   "outputs": [
    {
     "name": "stdout",
     "output_type": "stream",
     "text": [
      "12\n"
     ]
    }
   ],
   "source": [
    "# 샘플의 최대 허용 길이 또는 패딩 후의 최종 길이\n",
    "MAX_LENGTH = 12\n",
    "print(MAX_LENGTH)"
   ]
  },
  {
   "cell_type": "code",
   "execution_count": 16,
   "id": "e16f02da",
   "metadata": {},
   "outputs": [],
   "source": [
    "# 정수 인코딩, 최대 길이를 초과하는 샘플 제거, 패딩\n",
    "def tokenize_and_filter(inputs, outputs):\n",
    "    tokenized_inputs, tokenized_outputs = [], []\n",
    "    \n",
    "    for (sentence1, sentence2) in zip(inputs, outputs):\n",
    "        # 정수 인코딩 과정에서 시작 토큰과 종료 토큰 추가\n",
    "        sentence1 = START_TOKEN + tokenizer.encode(sentence1) + END_TOKEN\n",
    "        sentence2 = START_TOKEN + tokenizer.encode(sentence2) + END_TOKEN\n",
    "        \n",
    "        # 최대 길이 40 이하인 경우에만 데이터셋으로 허용\n",
    "        if len(sentence1) <= MAX_LENGTH and len(sentence2) <= MAX_LENGTH:\n",
    "            tokenized_inputs.append(sentence1)\n",
    "            tokenized_outputs.append(sentence2)\n",
    "            \n",
    "    # 최대 길이 40으로 모든 데이터셋을 패딩\n",
    "    tokenized_inputs = tf.keras.preprocessing.sequence.pad_sequences(\\\n",
    "                                                                        tokenized_inputs, \n",
    "                                                                        maxlen=MAX_LENGTH, \n",
    "                                                                        padding='post')\n",
    "    tokenized_outputs = tf.keras.preprocessing.sequence.pad_sequences(\\\n",
    "                                                                         tokenized_outputs,\n",
    "                                                                         maxlen=MAX_LENGTH,\n",
    "                                                                         padding='post')\n",
    "        \n",
    "    return tokenized_inputs, tokenized_outputs"
   ]
  },
  {
   "cell_type": "code",
   "execution_count": 17,
   "id": "e530af34",
   "metadata": {},
   "outputs": [
    {
     "name": "stdout",
     "output_type": "stream",
     "text": [
      "단어장의 크기:  8172\n",
      "필터링 후의 질문 샘플 개수: 10739\n",
      "필터링 후의 답변 샘플 개수: 10739\n"
     ]
    }
   ],
   "source": [
    "questions, answers = tokenize_and_filter(questions, answers)\n",
    "\n",
    "print('단어장의 크기: ', VOCAB_SIZE)\n",
    "print('필터링 후의 질문 샘플 개수: {}'.format(len(questions)))\n",
    "print('필터링 후의 답변 샘플 개수: {}'.format(len(answers)))"
   ]
  },
  {
   "cell_type": "code",
   "execution_count": 18,
   "id": "322daece",
   "metadata": {},
   "outputs": [],
   "source": [
    "# 3. 교사 강요 사용\n",
    "BATCH_SIZE = 64\n",
    "BUFFER_SIZE = 20000\n",
    "\n",
    "# 디코더는 이전의 target을 다음의 input으로 사용한다.\n",
    "# 이에 따라 outputs에서는 START_TOKEN을 제거한다.\n",
    "dataset = tf.data.Dataset.from_tensor_slices(({\n",
    "    'inputs' : questions,\n",
    "    'dec_inputs' : answers[:,:-1]\n",
    "},{\n",
    "    'outputs' : answers[:, 1:]\n",
    "}))\n",
    "\n",
    "dataset = dataset.cache()\n",
    "dataset = dataset.shuffle(BUFFER_SIZE)\n",
    "dataset = dataset.batch(BATCH_SIZE)\n",
    "dataset = dataset.prefetch(tf.data.experimental.AUTOTUNE)"
   ]
  },
  {
   "cell_type": "markdown",
   "id": "292d8d40",
   "metadata": {},
   "source": [
    "## 4. 모델 구성하기\n",
    "### 1) 인코더 및 디코더 정의"
   ]
  },
  {
   "cell_type": "code",
   "execution_count": 19,
   "id": "b5dbb353",
   "metadata": {},
   "outputs": [],
   "source": [
    "# 포지셔널 인코딩 레이어\n",
    "class PositionalEncoding(tf.keras.layers.Layer):\n",
    "    \n",
    "    def __init__(self, position, d_model):\n",
    "        super(PositionalEncoding, self).__init__()\n",
    "        self.pos_encoding = self.positional_encoding(position, d_model)\n",
    "        \n",
    "    def get_angles(self, position, i, d_model):\n",
    "        angles = 1 /tf.pow(10000, (2 * (i // 2)) / tf.cast(d_model, tf.float32))\n",
    "        return position * angles\n",
    "    \n",
    "    def positional_encoding(self, position, d_model):\n",
    "        # 각도 배열 생성\n",
    "        angle_rads = self.get_angles(\\\n",
    "                                    position = tf.range(position, dtype=tf.float32)[:, tf.newaxis],\n",
    "                                    i = tf.range(d_model, dtype=tf.float32)[tf.newaxis, :],\n",
    "                                    d_model = d_model)\n",
    "        \n",
    "        # 배열의 짝수 인덱스에는 sin 함수 적용\n",
    "        sines = tf.math.sin(angle_rads[:,0::2])\n",
    "        # 배역의 홀수 인덱스에는 cosine 함수 적용\n",
    "        cosines = tf.math.cos(angle_rads[:,1::2])\n",
    "        \n",
    "        # sin과 cosine 이 교차되도록 재배열\n",
    "        pos_encoding = tf.stack([sines, cosines],axis=0)\n",
    "        pos_encoding = tf.transpose(pos_encoding, [1,2,0])\n",
    "        pos_encoding = tf.reshape(pos_encoding, [position, d_model])\n",
    "        \n",
    "        pos_encoding = pos_encoding[tf.newaxis, ...]\n",
    "        \n",
    "        return tf.cast(pos_encoding, tf.float32)\n",
    "    \n",
    "    def call(self, inputs):\n",
    "        return inputs + self.pos_encoding[:, :tf.shape(inputs)[1], :]\n",
    "    "
   ]
  },
  {
   "cell_type": "code",
   "execution_count": 20,
   "id": "f1c1bc29",
   "metadata": {},
   "outputs": [],
   "source": [
    "# scaled dot product attention function\n",
    "def scaled_dot_product_attention(query, key, value, mask):\n",
    "    # 어텐션 가중치는 Q와 K의 내적\n",
    "    matmul_qk = tf.matmul(query, key, transpose_b = True)\n",
    "    \n",
    "    # 가중치 정규화\n",
    "    depth = tf.cast(tf.shape(key)[-1], tf.float32)\n",
    "    logits = matmul_qk / tf.math.sqrt(depth)\n",
    "    \n",
    "    # 패딩에 마스크 추가\n",
    "    if mask is not None:\n",
    "        logits += (mask * -1e9)\n",
    "        \n",
    "    # softmax 적용\n",
    "    attention_weights = tf.nn.softmax(logits, axis=-1)\n",
    "    \n",
    "    # 최종 attention은 가중치와 v의 내적\n",
    "    output = tf.matmul(attention_weights, value)\n",
    "    \n",
    "    return output\n"
   ]
  },
  {
   "cell_type": "code",
   "execution_count": 21,
   "id": "3394acaa",
   "metadata": {},
   "outputs": [],
   "source": [
    "# Multi-head attention \n",
    "class MultiHeadAttention(tf.keras.layers.Layer):\n",
    "    \n",
    "    def __init__(self, d_model, num_heads, name=\"multi_head_attention\"):\n",
    "        super(MultiHeadAttention, self).__init__(name=name)\n",
    "        self.num_heads = num_heads\n",
    "        self.d_model = d_model\n",
    "        \n",
    "        assert d_model % self.num_heads == 0 # assert: 가정\n",
    "        \n",
    "        self.depth = d_model // self.num_heads\n",
    "        \n",
    "        self.query_dense = tf.keras.layers.Dense(units=d_model)\n",
    "        self.key_dense = tf.keras.layers.Dense(units=d_model)\n",
    "        self.value_dense = tf.keras.layers.Dense(units=d_model)\n",
    "        \n",
    "        self.dense = tf.keras.layers.Dense(units=d_model)\n",
    "        \n",
    "    def split_heads(self, inputs, batch_size):\n",
    "        inputs = tf.reshape(inputs,\n",
    "                           shape = (batch_size, -1, self.num_heads, self.depth))\n",
    "        return tf.transpose(inputs, perm=[0,2,1,3])\n",
    "    \n",
    "    def call(self, inputs):\n",
    "        query, key, value, mask = inputs['query'], inputs['key'], inputs['value'], inputs['mask']\n",
    "        batch_size = tf.shape(query)[0]\n",
    "        \n",
    "        # Q, K, V 에 각각 Dense를 적용\n",
    "        query = self.query_dense(query)\n",
    "        key = self.key_dense(key)\n",
    "        value = self.value_dense(value)\n",
    "        \n",
    "        # 병렬 연산을 위한 머리를 여러 개 만든다.\n",
    "        query = self.split_heads(query, batch_size)\n",
    "        key = self.split_heads(key, batch_size)\n",
    "        value = self.split_heads(value, batch_size)\n",
    "        \n",
    "        # scaled dot product attention 함수\n",
    "        scaled_attention = scaled_dot_product_attention(query, key, value, mask)\n",
    "        \n",
    "        scaled_attention = tf.transpose(scaled_attention, perm = [0,2,1,3]) # 왜 perm이 이 순서???\n",
    "        \n",
    "        # 어텐션 연산 후에 각 결과를 다시 연결(concatenate)한다.\n",
    "        concat_attention = tf.reshape(scaled_attention,\n",
    "                                     (batch_size, -1, self.d_model))\n",
    "        \n",
    "        # 최종 결과에도 Dense를 한 번 더 적용 -> 왜...??\n",
    "        outputs = self.dense(concat_attention)\n",
    "        \n",
    "        return outputs"
   ]
  },
  {
   "cell_type": "code",
   "execution_count": 22,
   "id": "e1665409",
   "metadata": {},
   "outputs": [],
   "source": [
    "# 1. Padding Masking\n",
    "def create_padding_mask(x):\n",
    "    mask = tf.cast(tf.math.equal(x,0), tf.float32)\n",
    "    # (batch_size, 1, 1, sequence length)\n",
    "    return mask[:, tf.newaxis, tf.newaxis, :]"
   ]
  },
  {
   "cell_type": "code",
   "execution_count": 23,
   "id": "7cc5c47f",
   "metadata": {},
   "outputs": [],
   "source": [
    "# 2. Look-ahead masking\n",
    "def create_look_ahead_mask(x):\n",
    "    seq_len = tf.shape(x)[1]\n",
    "    look_ahead_mask = 1 - tf.linalg.band_part(tf.ones((seq_len, seq_len)), -1, 0)\n",
    "    padding_mask = create_padding_mask(x)\n",
    "    return tf.maximum(look_ahead_mask, padding_mask)"
   ]
  },
  {
   "cell_type": "code",
   "execution_count": 24,
   "id": "a468ddbe",
   "metadata": {},
   "outputs": [],
   "source": [
    "# 인코더 하나의 레이어를 함수로 구현\n",
    "# 이 하나의 레이어 안에는 두 개의 서브 레이어가 존재한다.\n",
    "def encoder_layer(units, d_model, num_heads, dropout, name='encoder_layer'):\n",
    "    inputs = tf.keras.Input(shape=(None, d_model), name='inputs')\n",
    "    \n",
    "    # Padding Mask 사용\n",
    "    padding_mask = tf.keras.Input(shape=(1, 1, None), name='padding_mask')\n",
    "    \n",
    "    # 첫 번째 서브 레이어 : Multi-Head attention수행 (self attention)\n",
    "    attention = MultiHeadAttention(d_model, num_heads,\n",
    "                                  name = 'attention')({'query':inputs,\n",
    "                                                       'key':inputs,\n",
    "                                                       'value':inputs,\n",
    "                                                       'mask':padding_mask\n",
    "    })\n",
    "    \n",
    "    # attention의 결과는 Dropout과 Layer Normalization이라는 훈련을 돕는 테크닉 수행\n",
    "    attention = tf.keras.layers.Dropout(rate=dropout)(attention)\n",
    "    attention = tf.keras.layers.LayerNormalization(epsilon=1e-6)(inputs + attention)\n",
    "    \n",
    "    # 두 번째 서브 레이어 : 2 개의 완전 연결층\n",
    "    outputs = tf.keras.layers.Dense(units = units, activation='relu')(attention)\n",
    "    outputs = tf.keras.layers.Dense(units = d_model)(outputs)\n",
    "    \n",
    "    # 완전연결층의 결과는 Dropout과 Layer Normalization이라는 훈련을 돕는 테크닉 수행\n",
    "    outputs = tf.keras.layers.Dropout(rate=dropout)(outputs)\n",
    "    outputs = tf.keras.layers.LayerNormalization(epsilon=1e-6)(attention+outputs) # 왜 더하지..???\n",
    "    \n",
    "    return tf.keras.Model(inputs = [inputs, padding_mask], outputs=outputs, name=name)"
   ]
  },
  {
   "cell_type": "code",
   "execution_count": 25,
   "id": "5f522470",
   "metadata": {},
   "outputs": [],
   "source": [
    "# 인코더 층을 쌓아 인코더 만들기\n",
    "def encoder(vocab_size,\n",
    "           num_layers,\n",
    "           units,\n",
    "           d_model,\n",
    "           num_heads,\n",
    "           dropout,\n",
    "           name='encoder'):\n",
    "    inputs = tf.keras.Input(shape=(None,), name='inputs')\n",
    "    \n",
    "    # Padding Mask 사용 >> 이렇게만 하면 마스킹이 됨??????\n",
    "    padding_mask = tf.keras.Input(shape=(1,1, None), name='padding_mask')\n",
    "    \n",
    "    # Embedding Layer\n",
    "    embeddings = tf.keras.layers.Embedding(vocab_size, d_model)(inputs)\n",
    "    embeddings *= tf.math.sqrt(tf.cast(d_model, tf.float32)) \n",
    "    \n",
    "    # Positional Encoding\n",
    "    embeddings = PositionalEncoding(vocab_size, d_model)(embeddings)\n",
    "    \n",
    "    outputs = tf.keras.layers.Dropout(rate=dropout)(embeddings) # dropout을 왜 여기서.???\n",
    "    \n",
    "    # num_layers만큼 쌓아올린 인코더의 층\n",
    "    for i in range(num_layers):\n",
    "        outputs = encoder_layer(units = units,\n",
    "                               d_model = d_model,\n",
    "                               num_heads=num_heads,\n",
    "                               dropout=dropout,\n",
    "                               name='encoder_layer_{}'.format(i),\n",
    "                               )([outputs, padding_mask])\n",
    "        \n",
    "        return tf.keras.Model(inputs=[inputs, padding_mask],\n",
    "                             outputs = outputs, name=name)"
   ]
  },
  {
   "cell_type": "code",
   "execution_count": 26,
   "id": "0075c134",
   "metadata": {},
   "outputs": [],
   "source": [
    "# 디코더 하나의 레이어를 함수로 구현\n",
    "# 이 하나의 레이어 안에는 세 개의 서브 레이어가 존재한다.\n",
    "def decoder_layer(units, d_model, num_heads, dropout, name='decoder_layer'):\n",
    "    \n",
    "    inputs = tf.keras.Input(shape=(None, d_model), name='inputs')\n",
    "    \n",
    "    enc_outputs = tf.keras.Input(shape=(None, d_model), name='encoder_outputs')\n",
    "    \n",
    "    look_ahead_mask = tf.keras.Input(shape=(1, None, None), name='look_ahead_mask')\n",
    "    \n",
    "    padding_mask = tf.keras.Input(shape=(1,1,None), name='padding_mask')\n",
    "    \n",
    "    # 첫 번째 서브 레이어 : Multi Head Attention 수행 (self attention)\n",
    "    attention1 = MultiHeadAttention(d_model, num_heads, \n",
    "                                   name='attention_1')(inputs={\n",
    "        'query': inputs,\n",
    "        'key': inputs,\n",
    "        'value': inputs,\n",
    "        'mask' : look_ahead_mask\n",
    "    })\n",
    "    \n",
    "    # Multi head attention의 결과는 LayerNormalization이라는 훈련을 돕는 테크닉을 수행\n",
    "    attention1 = tf.keras.layers.LayerNormalization(epsilon=1e-6)(attention1+inputs)\n",
    "    \n",
    "    # 두 번째 서브 레이어 : Masked Multi-head attention 수행 (인코더-디코더 attention)\n",
    "    attention2 = MultiHeadAttention(d_model, num_heads, name='attention_2')(inputs={\n",
    "        'query':attention1,\n",
    "        'key':enc_outputs,\n",
    "        'value':enc_outputs,\n",
    "        'mask':padding_mask\n",
    "    })\n",
    "    \n",
    "    # Masked Multi-head attention결과는 \n",
    "    # Dropout과 LayerNormalization이라는 훈련을 돕는 테크닉 수행\n",
    "    attention2 = tf.keras.layers.Dropout(rate=dropout)(attention2)\n",
    "    attention2 = tf.keras.layers.LayerNormalization(epsilon=1e-6)(attention2+attention1)\n",
    "    \n",
    "    # 세 번째 서브 레이어 : 2개의 완전 연결층\n",
    "    outputs = tf.keras.layers.Dense(units=units, activation='relu')(attention2)\n",
    "    outputs = tf.keras.layers.Dense(units=d_model)(outputs)\n",
    "    \n",
    "    # 완전연결층의 결과는 Dropout과 LayerNormalization 수행\n",
    "    outputs = tf.keras.layers.Dropout(rate=dropout)(outputs)\n",
    "    outputs = tf.keras.layers.LayerNormalization(epsilon=1e-6)(outputs + attention2)\n",
    "    \n",
    "    return tf.keras.Model(inputs=[inputs, enc_outputs, look_ahead_mask, padding_mask],\n",
    "                         outputs = outputs,\n",
    "                         name=name)"
   ]
  },
  {
   "cell_type": "code",
   "execution_count": 27,
   "id": "0632b267",
   "metadata": {},
   "outputs": [],
   "source": [
    "# 디코더 층을 쌓아 디코더 만들기\n",
    "def decoder(vocab_size,\n",
    "           num_layers, \n",
    "           units,\n",
    "           d_model,\n",
    "           num_heads,\n",
    "           dropout,\n",
    "           name='decoder'):\n",
    "    inputs = tf.keras.Input(shape=(None,), name='inputs')\n",
    "    \n",
    "    enc_outputs = tf.keras.Input(shape=(None, d_model), name='encoder_outputs')\n",
    "    \n",
    "    look_ahead_mask = tf.keras.Input(shape=(1, None, None), name='look_ahead_mask')\n",
    "    \n",
    "    # Padding Mask\n",
    "    padding_mask = tf.keras.Input(shape=(1,1,None), name='padding_mask')\n",
    "    \n",
    "    # Embedding layer\n",
    "    embeddings = tf.keras.layers.Embedding(vocab_size, d_model)(inputs)\n",
    "    embeddings *= tf.math.sqrt(tf.cast(d_model, tf.float32))\n",
    "    \n",
    "    # Positional Encoding\n",
    "    embeddings = PositionalEncoding(vocab_size, d_model)(embeddings)\n",
    "    \n",
    "    # Dropout이라는 훈련 돕는 테크닉을 수행\n",
    "    outputs = tf.keras.layers.Dropout(rate=dropout)(embeddings)\n",
    "    \n",
    "    for i in range(num_layers):\n",
    "        outputs = decoder_layer(units=units, \n",
    "                               d_model = d_model,\n",
    "                               num_heads=num_heads,\n",
    "                               dropout=dropout,\n",
    "                               name='decoder_layer_{}'.format(i),\n",
    "                               )(inputs=[outputs, enc_outputs, look_ahead_mask, padding_mask])\n",
    "        \n",
    "    return tf.keras.Model(inputs=[inputs, enc_outputs, look_ahead_mask, padding_mask],\n",
    "                         outputs = outputs,\n",
    "                         name=name)"
   ]
  },
  {
   "cell_type": "markdown",
   "id": "fcecd636",
   "metadata": {},
   "source": [
    "### 2) 트랜스포머 함수 정의"
   ]
  },
  {
   "cell_type": "code",
   "execution_count": 28,
   "id": "629901d4",
   "metadata": {},
   "outputs": [],
   "source": [
    "def transformer(vocab_size,\n",
    "               num_layers,\n",
    "               units,\n",
    "               d_model,\n",
    "               num_heads,\n",
    "               dropout,\n",
    "               name='transformer'):\n",
    "    inputs = tf.keras.Input(shape=(None,), name='inputs')\n",
    "    dec_inputs = tf.keras.Input(shape=(None,), name='dec_inputs')\n",
    "    \n",
    "    # 인코더에서 패딩을 위한 마스크\n",
    "    enc_padding_mask = tf.keras.layers.Lambda(\\\n",
    "                                             create_padding_mask,\n",
    "                                             output_shape=(1,1,None),\n",
    "                                             name='enc_padding_mask')(inputs)\n",
    "    \n",
    "    # 디코더에서 미래의 토큰을 마스크 하기 위해 사용한다.\n",
    "    # 내부적으로 패딩 마스크도 포함되어 있다.\n",
    "    look_ahead_mask = tf.keras.layers.Lambda(\\\n",
    "                                            create_look_ahead_mask,\n",
    "                                            output_shape=(1, None, None),\n",
    "                                            name='look_ahead_mask')(dec_inputs)\n",
    "    \n",
    "    # 두 번째 어텐션 블록에서 인코더의 벡터들을 마스킹\n",
    "    # 디코더에서 패딩을 위한 마스크\n",
    "    dec_padding_mask = tf.keras.layers.Lambda(\\\n",
    "                                             create_padding_mask,\n",
    "                                             output_shape=(1,1,None),\n",
    "                                             name='dec_padding_mask')(inputs)\n",
    "    \n",
    "    # 인코더\n",
    "    enc_outputs = encoder(\\\n",
    "                         vocab_size=vocab_size,\n",
    "                         num_layers=num_layers,\n",
    "                         units=units,\n",
    "                         d_model=d_model, \n",
    "                         num_heads=num_heads,\n",
    "                         dropout=dropout,\n",
    "                         )(inputs=[inputs, enc_padding_mask])\n",
    "    \n",
    "    # 디코더\n",
    "    dec_outputs = decoder(\\\n",
    "                         vocab_size=vocab_size,\n",
    "                         num_layers=num_layers,\n",
    "                         units=units,\n",
    "                         d_model=d_model,\n",
    "                         num_heads=num_heads,\n",
    "                         dropout=dropout,\n",
    "                         )(inputs=[dec_inputs, enc_outputs, look_ahead_mask, dec_padding_mask])\n",
    "    \n",
    "    # 완전 연결층\n",
    "    outputs = tf.keras.layers.Dense(units=vocab_size, name='outputs')(dec_outputs)\n",
    "    \n",
    "    return tf.keras.Model(inputs=[inputs, dec_inputs], outputs = outputs, name=name)"
   ]
  },
  {
   "cell_type": "markdown",
   "id": "02956700",
   "metadata": {},
   "source": [
    "### 3) 모델 생성"
   ]
  },
  {
   "cell_type": "code",
   "execution_count": 29,
   "id": "f966c011",
   "metadata": {},
   "outputs": [
    {
     "name": "stdout",
     "output_type": "stream",
     "text": [
      "Model: \"transformer\"\n",
      "__________________________________________________________________________________________________\n",
      "Layer (type)                    Output Shape         Param #     Connected to                     \n",
      "==================================================================================================\n",
      "inputs (InputLayer)             [(None, None)]       0                                            \n",
      "__________________________________________________________________________________________________\n",
      "dec_inputs (InputLayer)         [(None, None)]       0                                            \n",
      "__________________________________________________________________________________________________\n",
      "enc_padding_mask (Lambda)       (None, 1, 1, None)   0           inputs[0][0]                     \n",
      "__________________________________________________________________________________________________\n",
      "encoder (Functional)            (None, None, 256)    2619136     inputs[0][0]                     \n",
      "                                                                 enc_padding_mask[0][0]           \n",
      "__________________________________________________________________________________________________\n",
      "look_ahead_mask (Lambda)        (None, 1, None, None 0           dec_inputs[0][0]                 \n",
      "__________________________________________________________________________________________________\n",
      "dec_padding_mask (Lambda)       (None, 1, 1, None)   0           inputs[0][0]                     \n",
      "__________________________________________________________________________________________________\n",
      "decoder (Functional)            (None, None, 256)    3673600     dec_inputs[0][0]                 \n",
      "                                                                 encoder[0][0]                    \n",
      "                                                                 look_ahead_mask[0][0]            \n",
      "                                                                 dec_padding_mask[0][0]           \n",
      "__________________________________________________________________________________________________\n",
      "outputs (Dense)                 (None, None, 8172)   2100204     decoder[0][0]                    \n",
      "==================================================================================================\n",
      "Total params: 8,392,940\n",
      "Trainable params: 8,392,940\n",
      "Non-trainable params: 0\n",
      "__________________________________________________________________________________________________\n"
     ]
    }
   ],
   "source": [
    "tf.keras.backend.clear_session()\n",
    "\n",
    "# 하이퍼 파라미터\n",
    "NUM_LAYERS = 2 # 인코더와 디코더의 층의 개수\n",
    "D_MODEL = 256 # 인코더와 디코더 내부의 입/출력의 고정 차원\n",
    "NUM_HEADS = 8 # 멀티 헤드 어텐션에서의 헤드 수\n",
    "UNITS = 512 # 피드 포워드 신경망의 은닉층의 크기\n",
    "DROPOUT = 0.1 # 드롭 아웃의 비율\n",
    "\n",
    "model = transformer(\\\n",
    "                   vocab_size = VOCAB_SIZE,\n",
    "                   num_layers = NUM_LAYERS,\n",
    "                   units = UNITS,\n",
    "                   d_model = D_MODEL,\n",
    "                   num_heads = NUM_HEADS,\n",
    "                   dropout = DROPOUT)\n",
    "\n",
    "model.summary()"
   ]
  },
  {
   "cell_type": "markdown",
   "id": "7c63216d",
   "metadata": {},
   "source": [
    "### 4) 손실함수"
   ]
  },
  {
   "cell_type": "code",
   "execution_count": 30,
   "id": "c9d907c3",
   "metadata": {},
   "outputs": [],
   "source": [
    "def loss_function(y_true, y_pred):\n",
    "    y_true = tf.reshape(y_true, shape=(-1, MAX_LENGTH - 1))\n",
    "    # 왜 reshape하고 왜저렇게 함?\n",
    "    \n",
    "    loss = tf.keras.losses.SparseCategoricalCrossentropy(\\\n",
    "                                                        from_logits = True,\n",
    "                                                        reduction='none')(y_true, y_pred)\n",
    "    \n",
    "    mask = tf.cast(tf.not_equal(y_true, 0), tf.float32)\n",
    "    loss = tf.multiply(loss, mask)\n",
    "    \n",
    "    return tf.reduce_mean(loss)"
   ]
  },
  {
   "cell_type": "markdown",
   "id": "daa0cb1e",
   "metadata": {},
   "source": [
    "### 5) 커스텀된 학습률"
   ]
  },
  {
   "cell_type": "code",
   "execution_count": 31,
   "id": "54bce7cb",
   "metadata": {},
   "outputs": [],
   "source": [
    "class CustomSchedule(tf.keras.optimizers.schedules.LearningRateSchedule):\n",
    "    \n",
    "    def __init__(self, d_model, warmup_steps=4000):\n",
    "        super(CustomSchedule, self).__init__()\n",
    "        \n",
    "        self.d_model = d_model\n",
    "        self.d_model = tf.cast(self.d_model, tf.float32)\n",
    "        \n",
    "        self.warmup_steps = warmup_steps\n",
    "        \n",
    "    def __call__(self, step):\n",
    "        arg1 = tf.math.rsqrt(step)\n",
    "        arg2 = step * (self.warmup_steps**-1.5)\n",
    "        \n",
    "        return tf.math.rsqrt(self.d_model) * tf.math.minimum(arg1, arg2)\n",
    "    "
   ]
  },
  {
   "cell_type": "markdown",
   "id": "06a2b332",
   "metadata": {},
   "source": [
    "### 6) 모델 compile"
   ]
  },
  {
   "cell_type": "code",
   "execution_count": 32,
   "id": "78c7fb0f",
   "metadata": {},
   "outputs": [],
   "source": [
    "learning_rate = CustomSchedule(D_MODEL)\n",
    "\n",
    "optimizer = tf.keras.optimizers.Adam(\\\n",
    "                                    learning_rate,\n",
    "                                    beta_1=0.9,\n",
    "                                    beta_2=0.98,\n",
    "                                    epsilon=1e-9)\n",
    "\n",
    "def accuracy(y_true, y_pred):\n",
    "    y_true = tf.reshape(y_true, shape=(-1, MAX_LENGTH - 1))\n",
    "    return tf.keras.metrics.sparse_categorical_accuracy(y_true, y_pred)\n",
    "\n",
    "model.compile(optimizer=optimizer, loss=loss_function, metrics=[accuracy])"
   ]
  },
  {
   "cell_type": "markdown",
   "id": "142c5169",
   "metadata": {},
   "source": [
    "### 7) 훈련하기"
   ]
  },
  {
   "cell_type": "code",
   "execution_count": 33,
   "id": "24dc1707",
   "metadata": {},
   "outputs": [
    {
     "name": "stdout",
     "output_type": "stream",
     "text": [
      "Epoch 1/50\n",
      "168/168 [==============================] - 10s 26ms/step - loss: 4.8575 - accuracy: 0.0963\n",
      "Epoch 2/50\n",
      "168/168 [==============================] - 4s 26ms/step - loss: 3.9643 - accuracy: 0.1764\n",
      "Epoch 3/50\n",
      "168/168 [==============================] - 5s 27ms/step - loss: 3.3242 - accuracy: 0.1793\n",
      "Epoch 4/50\n",
      "168/168 [==============================] - 5s 27ms/step - loss: 3.0437 - accuracy: 0.1889\n",
      "Epoch 5/50\n",
      "168/168 [==============================] - 5s 27ms/step - loss: 2.8624 - accuracy: 0.1984\n",
      "Epoch 6/50\n",
      "168/168 [==============================] - 5s 27ms/step - loss: 2.6808 - accuracy: 0.2105\n",
      "Epoch 7/50\n",
      "168/168 [==============================] - 5s 27ms/step - loss: 2.4809 - accuracy: 0.2278\n",
      "Epoch 8/50\n",
      "168/168 [==============================] - 4s 26ms/step - loss: 2.2534 - accuracy: 0.2513\n",
      "Epoch 9/50\n",
      "168/168 [==============================] - 5s 27ms/step - loss: 1.9974 - accuracy: 0.2810\n",
      "Epoch 10/50\n",
      "168/168 [==============================] - 4s 26ms/step - loss: 1.7246 - accuracy: 0.3129\n",
      "Epoch 11/50\n",
      "168/168 [==============================] - 4s 26ms/step - loss: 1.4424 - accuracy: 0.3486\n",
      "Epoch 12/50\n",
      "168/168 [==============================] - 4s 26ms/step - loss: 1.1609 - accuracy: 0.3891\n",
      "Epoch 13/50\n",
      "168/168 [==============================] - 4s 26ms/step - loss: 0.8954 - accuracy: 0.4292\n",
      "Epoch 14/50\n",
      "168/168 [==============================] - 4s 26ms/step - loss: 0.6629 - accuracy: 0.4655\n",
      "Epoch 15/50\n",
      "168/168 [==============================] - 4s 26ms/step - loss: 0.4675 - accuracy: 0.4985\n",
      "Epoch 16/50\n",
      "168/168 [==============================] - 4s 26ms/step - loss: 0.3167 - accuracy: 0.5258\n",
      "Epoch 17/50\n",
      "168/168 [==============================] - 4s 26ms/step - loss: 0.2112 - accuracy: 0.5443\n",
      "Epoch 18/50\n",
      "168/168 [==============================] - 4s 26ms/step - loss: 0.1441 - accuracy: 0.5552\n",
      "Epoch 19/50\n",
      "168/168 [==============================] - 4s 26ms/step - loss: 0.1139 - accuracy: 0.5591\n",
      "Epoch 20/50\n",
      "168/168 [==============================] - 5s 27ms/step - loss: 0.0987 - accuracy: 0.5606\n",
      "Epoch 21/50\n",
      "168/168 [==============================] - 4s 26ms/step - loss: 0.0873 - accuracy: 0.5622\n",
      "Epoch 22/50\n",
      "168/168 [==============================] - 4s 26ms/step - loss: 0.0831 - accuracy: 0.5622\n",
      "Epoch 23/50\n",
      "168/168 [==============================] - 4s 26ms/step - loss: 0.0796 - accuracy: 0.5628\n",
      "Epoch 24/50\n",
      "168/168 [==============================] - 4s 26ms/step - loss: 0.0793 - accuracy: 0.5626\n",
      "Epoch 25/50\n",
      "168/168 [==============================] - 5s 28ms/step - loss: 0.0743 - accuracy: 0.5636\n",
      "Epoch 26/50\n",
      "168/168 [==============================] - 4s 26ms/step - loss: 0.0645 - accuracy: 0.5657\n",
      "Epoch 27/50\n",
      "168/168 [==============================] - 4s 26ms/step - loss: 0.0548 - accuracy: 0.5683\n",
      "Epoch 28/50\n",
      "168/168 [==============================] - 4s 26ms/step - loss: 0.0499 - accuracy: 0.5696\n",
      "Epoch 29/50\n",
      "168/168 [==============================] - 4s 26ms/step - loss: 0.0432 - accuracy: 0.5710\n",
      "Epoch 30/50\n",
      "168/168 [==============================] - 4s 26ms/step - loss: 0.0422 - accuracy: 0.5713\n",
      "Epoch 31/50\n",
      "168/168 [==============================] - 4s 26ms/step - loss: 0.0385 - accuracy: 0.5721\n",
      "Epoch 32/50\n",
      "168/168 [==============================] - 4s 26ms/step - loss: 0.0343 - accuracy: 0.5731\n",
      "Epoch 33/50\n",
      "168/168 [==============================] - 4s 26ms/step - loss: 0.0324 - accuracy: 0.5736\n",
      "Epoch 34/50\n",
      "168/168 [==============================] - 4s 26ms/step - loss: 0.0299 - accuracy: 0.5741\n",
      "Epoch 35/50\n",
      "168/168 [==============================] - 4s 26ms/step - loss: 0.0290 - accuracy: 0.5745\n",
      "Epoch 36/50\n",
      "168/168 [==============================] - 4s 26ms/step - loss: 0.0245 - accuracy: 0.5753\n",
      "Epoch 37/50\n",
      "168/168 [==============================] - 4s 26ms/step - loss: 0.0248 - accuracy: 0.5756\n",
      "Epoch 38/50\n",
      "168/168 [==============================] - 5s 28ms/step - loss: 0.0229 - accuracy: 0.5759\n",
      "Epoch 39/50\n",
      "168/168 [==============================] - 4s 26ms/step - loss: 0.0214 - accuracy: 0.5762\n",
      "Epoch 40/50\n",
      "168/168 [==============================] - 5s 27ms/step - loss: 0.0197 - accuracy: 0.5765\n",
      "Epoch 41/50\n",
      "168/168 [==============================] - 4s 27ms/step - loss: 0.0181 - accuracy: 0.5769\n",
      "Epoch 42/50\n",
      "168/168 [==============================] - 4s 26ms/step - loss: 0.0163 - accuracy: 0.5773\n",
      "Epoch 43/50\n",
      "168/168 [==============================] - 4s 26ms/step - loss: 0.0168 - accuracy: 0.5773\n",
      "Epoch 44/50\n",
      "168/168 [==============================] - 4s 26ms/step - loss: 0.0167 - accuracy: 0.5775\n",
      "Epoch 45/50\n",
      "168/168 [==============================] - 4s 26ms/step - loss: 0.0151 - accuracy: 0.5775\n",
      "Epoch 46/50\n",
      "168/168 [==============================] - 4s 26ms/step - loss: 0.0144 - accuracy: 0.5777\n",
      "Epoch 47/50\n",
      "168/168 [==============================] - 4s 26ms/step - loss: 0.0142 - accuracy: 0.5779\n",
      "Epoch 48/50\n",
      "168/168 [==============================] - 4s 26ms/step - loss: 0.0145 - accuracy: 0.5777\n",
      "Epoch 49/50\n",
      "168/168 [==============================] - 4s 26ms/step - loss: 0.0129 - accuracy: 0.5779\n",
      "Epoch 50/50\n",
      "168/168 [==============================] - 5s 27ms/step - loss: 0.0128 - accuracy: 0.5781\n"
     ]
    },
    {
     "data": {
      "text/plain": [
       "<keras.callbacks.History at 0x7f7b5ca04430>"
      ]
     },
     "execution_count": 33,
     "metadata": {},
     "output_type": "execute_result"
    }
   ],
   "source": [
    "EPOCHS = 50\n",
    "model.fit(dataset, epochs=EPOCHS, verbose=1)"
   ]
  },
  {
   "cell_type": "markdown",
   "id": "8b491f99",
   "metadata": {},
   "source": [
    "## 5. 모델 평가하기"
   ]
  },
  {
   "cell_type": "code",
   "execution_count": 34,
   "id": "f9015f7f",
   "metadata": {},
   "outputs": [],
   "source": [
    "# inference 함수 만들기\n",
    "def decoder_inference(sentence):\n",
    "    sentence = preprocess_sentence(sentence)\n",
    "    \n",
    "    # 입력된 문장을 정수 인코딩 후, 시작 토큰과 종료 토큰을 앞 뒤로 추가\n",
    "    sentence = tf.expand_dims(START_TOKEN + tokenizer.encode(sentence) + END_TOKEN, axis = 0)\n",
    "    \n",
    "    # 디코더의 현재까지의 예측한 출력 시퀀스가 지속적으로 저장되는 변수\n",
    "    # 처음에는 예측한 내용이 없음으로 시작 토큰만 별도 저장\n",
    "    output_sequence = tf.expand_dims(START_TOKEN, 0)\n",
    "    \n",
    "    # 디코더의 인퍼런스 단계\n",
    "    for i in range(MAX_LENGTH):\n",
    "        # 디코더는 최대 MAX_LENGTH의 길이만큼 다음 단어 예측 반복\n",
    "        predictions = model(inputs=[sentence, output_sequence], training=False)\n",
    "        predictions = predictions[:, -1:, :]\n",
    "        \n",
    "        # 현재 예측한 단어의 정수\n",
    "        predicted_id = tf.cast(tf.argmax(predictions, axis=-1), tf.int32)\n",
    "        \n",
    "        # 만약 현재 예측한 단어가 종료 토큰이라면 for문을 종료\n",
    "        if tf.equal(predicted_id, END_TOKEN[0]):\n",
    "            break\n",
    "            \n",
    "        # 예측한 단어들은 지속적으로 output_sequence에 추가된다.\n",
    "        # 이 output_sequence는 다시 디코더의 입력이 된다.\n",
    "        output_sequence = tf.concat([output_sequence, predicted_id], axis=-1)\n",
    "    return tf.squeeze(output_sequence, axis=0)"
   ]
  },
  {
   "cell_type": "code",
   "execution_count": 35,
   "id": "8561c7ee",
   "metadata": {},
   "outputs": [],
   "source": [
    "# 대답 얻는 함수\n",
    "def sentence_generation(sentence):\n",
    "    # 입력 문장에 대해 디코더를 동작시켜 예측된 정수 시퀀스를 리턴받는다.\n",
    "    prediction = decoder_inference(sentence)\n",
    "    \n",
    "    # 정수 시퀀스를 다시 텍스트 시퀀스로 변환한다.\n",
    "    predicted_sentence = tokenizer.decode(\\\n",
    "                                         [i for i in prediction if i < tokenizer.vocab_size])\n",
    "    \n",
    "    print('입력 : {}'.format(sentence))\n",
    "    print('출력 : {}'.format(predicted_sentence))\n",
    "    \n",
    "    return predicted_sentence"
   ]
  },
  {
   "cell_type": "code",
   "execution_count": 36,
   "id": "cfad679a",
   "metadata": {
    "scrolled": true
   },
   "outputs": [
    {
     "name": "stdout",
     "output_type": "stream",
     "text": [
      "입력 : 요즘 어때?\n",
      "출력 : 괜찮은 사람이에요 . \n"
     ]
    },
    {
     "data": {
      "text/plain": [
       "'괜찮은 사람이에요 . '"
      ]
     },
     "execution_count": 36,
     "metadata": {},
     "output_type": "execute_result"
    }
   ],
   "source": [
    "sentence_generation('요즘 어때?')"
   ]
  },
  {
   "cell_type": "code",
   "execution_count": 37,
   "id": "ab0c55e7",
   "metadata": {},
   "outputs": [
    {
     "data": {
      "text/html": [
       "<div>\n",
       "<style scoped>\n",
       "    .dataframe tbody tr th:only-of-type {\n",
       "        vertical-align: middle;\n",
       "    }\n",
       "\n",
       "    .dataframe tbody tr th {\n",
       "        vertical-align: top;\n",
       "    }\n",
       "\n",
       "    .dataframe thead th {\n",
       "        text-align: right;\n",
       "    }\n",
       "</style>\n",
       "<table border=\"1\" class=\"dataframe\">\n",
       "  <thead>\n",
       "    <tr style=\"text-align: right;\">\n",
       "      <th></th>\n",
       "      <th>Q</th>\n",
       "      <th>A</th>\n",
       "      <th>label</th>\n",
       "    </tr>\n",
       "  </thead>\n",
       "  <tbody>\n",
       "    <tr>\n",
       "      <th>465</th>\n",
       "      <td>나 괜찮지 않니</td>\n",
       "      <td>괜찮은 사람이에요.</td>\n",
       "      <td>0</td>\n",
       "    </tr>\n",
       "    <tr>\n",
       "      <th>517</th>\n",
       "      <td>나 어때?</td>\n",
       "      <td>괜찮은 사람이에요.</td>\n",
       "      <td>0</td>\n",
       "    </tr>\n",
       "  </tbody>\n",
       "</table>\n",
       "</div>"
      ],
      "text/plain": [
       "            Q           A  label\n",
       "465  나 괜찮지 않니  괜찮은 사람이에요.      0\n",
       "517     나 어때?  괜찮은 사람이에요.      0"
      ]
     },
     "execution_count": 37,
     "metadata": {},
     "output_type": "execute_result"
    }
   ],
   "source": [
    "conversation[conversation['A']=='괜찮은 사람이에요.']"
   ]
  },
  {
   "cell_type": "code",
   "execution_count": 38,
   "id": "4db9f5c7",
   "metadata": {
    "scrolled": true
   },
   "outputs": [
    {
     "name": "stdout",
     "output_type": "stream",
     "text": [
      "입력 : 어디 갈까\n",
      "출력 : 연인과 함께면 어디든 좋아요 . \n"
     ]
    },
    {
     "data": {
      "text/plain": [
       "'연인과 함께면 어디든 좋아요 . '"
      ]
     },
     "execution_count": 38,
     "metadata": {},
     "output_type": "execute_result"
    }
   ],
   "source": [
    "sentence_generation('어디 갈까')"
   ]
  },
  {
   "cell_type": "code",
   "execution_count": 46,
   "id": "0907bcee",
   "metadata": {
    "scrolled": true
   },
   "outputs": [
    {
     "data": {
      "text/html": [
       "<div>\n",
       "<style scoped>\n",
       "    .dataframe tbody tr th:only-of-type {\n",
       "        vertical-align: middle;\n",
       "    }\n",
       "\n",
       "    .dataframe tbody tr th {\n",
       "        vertical-align: top;\n",
       "    }\n",
       "\n",
       "    .dataframe thead th {\n",
       "        text-align: right;\n",
       "    }\n",
       "</style>\n",
       "<table border=\"1\" class=\"dataframe\">\n",
       "  <thead>\n",
       "    <tr style=\"text-align: right;\">\n",
       "      <th></th>\n",
       "      <th>Q</th>\n",
       "      <th>A</th>\n",
       "      <th>label</th>\n",
       "    </tr>\n",
       "  </thead>\n",
       "  <tbody>\n",
       "    <tr>\n",
       "      <th>10646</th>\n",
       "      <td>여자친구랑 어디 놀러갈까?</td>\n",
       "      <td>연인과 함께면 어디든 좋아요.</td>\n",
       "      <td>2</td>\n",
       "    </tr>\n",
       "  </tbody>\n",
       "</table>\n",
       "</div>"
      ],
      "text/plain": [
       "                    Q                 A  label\n",
       "10646  여자친구랑 어디 놀러갈까?  연인과 함께면 어디든 좋아요.      2"
      ]
     },
     "execution_count": 46,
     "metadata": {},
     "output_type": "execute_result"
    }
   ],
   "source": [
    "conversation[conversation['A']=='연인과 함께면 어디든 좋아요.']"
   ]
  },
  {
   "cell_type": "code",
   "execution_count": 39,
   "id": "a45d7be4",
   "metadata": {
    "scrolled": true
   },
   "outputs": [
    {
     "data": {
      "text/html": [
       "<div>\n",
       "<style scoped>\n",
       "    .dataframe tbody tr th:only-of-type {\n",
       "        vertical-align: middle;\n",
       "    }\n",
       "\n",
       "    .dataframe tbody tr th {\n",
       "        vertical-align: top;\n",
       "    }\n",
       "\n",
       "    .dataframe thead th {\n",
       "        text-align: right;\n",
       "    }\n",
       "</style>\n",
       "<table border=\"1\" class=\"dataframe\">\n",
       "  <thead>\n",
       "    <tr style=\"text-align: right;\">\n",
       "      <th></th>\n",
       "      <th>Q</th>\n",
       "      <th>A</th>\n",
       "      <th>label</th>\n",
       "    </tr>\n",
       "  </thead>\n",
       "  <tbody>\n",
       "    <tr>\n",
       "      <th>1809</th>\n",
       "      <td>뭐 볼까?</td>\n",
       "      <td>오늘은 예능이요.</td>\n",
       "      <td>0</td>\n",
       "    </tr>\n",
       "    <tr>\n",
       "      <th>3295</th>\n",
       "      <td>오늘 뭐 재미있는거 하는 날인가</td>\n",
       "      <td>오늘은 예능이요.</td>\n",
       "      <td>0</td>\n",
       "    </tr>\n",
       "  </tbody>\n",
       "</table>\n",
       "</div>"
      ],
      "text/plain": [
       "                      Q          A  label\n",
       "1809              뭐 볼까?  오늘은 예능이요.      0\n",
       "3295  오늘 뭐 재미있는거 하는 날인가  오늘은 예능이요.      0"
      ]
     },
     "execution_count": 39,
     "metadata": {},
     "output_type": "execute_result"
    }
   ],
   "source": [
    "conversation[conversation['A']=='오늘은 예능이요.']"
   ]
  },
  {
   "cell_type": "code",
   "execution_count": 40,
   "id": "da5b6f62",
   "metadata": {},
   "outputs": [
    {
     "name": "stdout",
     "output_type": "stream",
     "text": [
      "입력 : 뭐 좋아해\n",
      "출력 : 고백하세요 . \n"
     ]
    },
    {
     "data": {
      "text/plain": [
       "'고백하세요 . '"
      ]
     },
     "execution_count": 40,
     "metadata": {},
     "output_type": "execute_result"
    }
   ],
   "source": [
    "sentence_generation('뭐 좋아해')"
   ]
  },
  {
   "cell_type": "code",
   "execution_count": 41,
   "id": "7beea208",
   "metadata": {
    "scrolled": true
   },
   "outputs": [
    {
     "data": {
      "text/html": [
       "<div>\n",
       "<style scoped>\n",
       "    .dataframe tbody tr th:only-of-type {\n",
       "        vertical-align: middle;\n",
       "    }\n",
       "\n",
       "    .dataframe tbody tr th {\n",
       "        vertical-align: top;\n",
       "    }\n",
       "\n",
       "    .dataframe thead th {\n",
       "        text-align: right;\n",
       "    }\n",
       "</style>\n",
       "<table border=\"1\" class=\"dataframe\">\n",
       "  <thead>\n",
       "    <tr style=\"text-align: right;\">\n",
       "      <th></th>\n",
       "      <th>Q</th>\n",
       "      <th>A</th>\n",
       "      <th>label</th>\n",
       "    </tr>\n",
       "  </thead>\n",
       "  <tbody>\n",
       "    <tr>\n",
       "      <th>11279</th>\n",
       "      <td>좋아해</td>\n",
       "      <td>고백하세요.</td>\n",
       "      <td>2</td>\n",
       "    </tr>\n",
       "  </tbody>\n",
       "</table>\n",
       "</div>"
      ],
      "text/plain": [
       "         Q       A  label\n",
       "11279  좋아해  고백하세요.      2"
      ]
     },
     "execution_count": 41,
     "metadata": {},
     "output_type": "execute_result"
    }
   ],
   "source": [
    "conversation[conversation['A']=='고백하세요.']"
   ]
  },
  {
   "cell_type": "code",
   "execution_count": 42,
   "id": "46092203",
   "metadata": {},
   "outputs": [
    {
     "name": "stdout",
     "output_type": "stream",
     "text": [
      "입력 : 핸드크림 발라봤니\n",
      "출력 : 받는 사람은 정말 좋겠어요 . \n"
     ]
    },
    {
     "data": {
      "text/plain": [
       "'받는 사람은 정말 좋겠어요 . '"
      ]
     },
     "execution_count": 42,
     "metadata": {},
     "output_type": "execute_result"
    }
   ],
   "source": [
    "sentence_generation('핸드크림 발라봤니')"
   ]
  },
  {
   "cell_type": "code",
   "execution_count": 43,
   "id": "a347377f",
   "metadata": {},
   "outputs": [
    {
     "data": {
      "text/html": [
       "<div>\n",
       "<style scoped>\n",
       "    .dataframe tbody tr th:only-of-type {\n",
       "        vertical-align: middle;\n",
       "    }\n",
       "\n",
       "    .dataframe tbody tr th {\n",
       "        vertical-align: top;\n",
       "    }\n",
       "\n",
       "    .dataframe thead th {\n",
       "        text-align: right;\n",
       "    }\n",
       "</style>\n",
       "<table border=\"1\" class=\"dataframe\">\n",
       "  <thead>\n",
       "    <tr style=\"text-align: right;\">\n",
       "      <th></th>\n",
       "      <th>Q</th>\n",
       "      <th>A</th>\n",
       "      <th>label</th>\n",
       "    </tr>\n",
       "  </thead>\n",
       "  <tbody>\n",
       "    <tr>\n",
       "      <th>2755</th>\n",
       "      <td>시험 준비 빨리 끝났으면</td>\n",
       "      <td>공부를 많이 해놨나봐요.</td>\n",
       "      <td>0</td>\n",
       "    </tr>\n",
       "    <tr>\n",
       "      <th>2756</th>\n",
       "      <td>시험 준비 언제 끝나</td>\n",
       "      <td>공부를 많이 해놨나봐요.</td>\n",
       "      <td>0</td>\n",
       "    </tr>\n",
       "  </tbody>\n",
       "</table>\n",
       "</div>"
      ],
      "text/plain": [
       "                  Q              A  label\n",
       "2755  시험 준비 빨리 끝났으면  공부를 많이 해놨나봐요.      0\n",
       "2756    시험 준비 언제 끝나  공부를 많이 해놨나봐요.      0"
      ]
     },
     "execution_count": 43,
     "metadata": {},
     "output_type": "execute_result"
    }
   ],
   "source": [
    "conversation[conversation['A']=='공부를 많이 해놨나봐요.']"
   ]
  },
  {
   "cell_type": "code",
   "execution_count": 44,
   "id": "56d93fd4",
   "metadata": {
    "scrolled": false
   },
   "outputs": [
    {
     "name": "stdout",
     "output_type": "stream",
     "text": [
      "입력 : 발라봤니\n",
      "출력 : 잘 찾아보세요 . \n"
     ]
    },
    {
     "data": {
      "text/plain": [
       "'잘 찾아보세요 . '"
      ]
     },
     "execution_count": 44,
     "metadata": {},
     "output_type": "execute_result"
    }
   ],
   "source": [
    "sentence_generation('발라봤니')"
   ]
  },
  {
   "cell_type": "code",
   "execution_count": 45,
   "id": "ee978b2e",
   "metadata": {},
   "outputs": [
    {
     "data": {
      "text/html": [
       "<div>\n",
       "<style scoped>\n",
       "    .dataframe tbody tr th:only-of-type {\n",
       "        vertical-align: middle;\n",
       "    }\n",
       "\n",
       "    .dataframe tbody tr th {\n",
       "        vertical-align: top;\n",
       "    }\n",
       "\n",
       "    .dataframe thead th {\n",
       "        text-align: right;\n",
       "    }\n",
       "</style>\n",
       "<table border=\"1\" class=\"dataframe\">\n",
       "  <thead>\n",
       "    <tr style=\"text-align: right;\">\n",
       "      <th></th>\n",
       "      <th>Q</th>\n",
       "      <th>A</th>\n",
       "      <th>label</th>\n",
       "    </tr>\n",
       "  </thead>\n",
       "  <tbody>\n",
       "    <tr>\n",
       "      <th>8356</th>\n",
       "      <td>카톡프사 무슨 의미일까?</td>\n",
       "      <td>이제 보지 마세요.</td>\n",
       "      <td>1</td>\n",
       "    </tr>\n",
       "  </tbody>\n",
       "</table>\n",
       "</div>"
      ],
      "text/plain": [
       "                  Q           A  label\n",
       "8356  카톡프사 무슨 의미일까?  이제 보지 마세요.      1"
      ]
     },
     "execution_count": 45,
     "metadata": {},
     "output_type": "execute_result"
    }
   ],
   "source": [
    "conversation[conversation['A']=='이제 보지 마세요.']"
   ]
  },
  {
   "cell_type": "markdown",
   "id": "37df459c",
   "metadata": {},
   "source": [
    "* * *\n",
    "### 회고\n",
    "결과는 그렇게 좋진 않다. 하지만 epoch를 높이니 조금씩 나아지는 듯 하다.\\\n",
    "처음 학습 epoch를 20으로 돌렸을 때, 그럴 듯한 답변이 하나도 나오지 않았는데 \\\n",
    "50으로 높이니 몇 개는 그나마 그럴 듯 하다. \\\n",
    "sentence_generation으로 나온 답변이 50으로 돌린 답변이고, 그 아래 dataframe으로 나온 답변이 이전에 나온 답변.\n",
    "\n",
    "학습데이터의 수도 부족한데 답변과 질문도 한정적이라서 영어에 비해 좋은 성능은 나오지 않은 것 같다. 학습데이터에 있는 답변을 그대로 가져와서 내보낸 것 을 보니 한국어를 형태소로 뜯어보지 않았기 때문일 수도 있다.  물론 나의 한국어 전처리가 많이 부실하기도 했다. 형태소로 뜯어서 적용했으면 결과가 확실히 좋아졌을까?\n",
    "\n",
    "attention이 어떻게 구성되고 어떤 식으로 흘러가는 지 이해할 수 있는 노드였다. 하지만 인코더와 디코더 포지셔널 인코딩 등 세부적으로 뜯어봤을 때 이해하지 못한 부분이 있어서 추가적으로 계속 공부해야겠다."
   ]
  },
  {
   "cell_type": "code",
   "execution_count": null,
   "id": "55c13b7f",
   "metadata": {},
   "outputs": [],
   "source": []
  }
 ],
 "metadata": {
  "kernelspec": {
   "display_name": "Python 3 (ipykernel)",
   "language": "python",
   "name": "python3"
  },
  "language_info": {
   "codemirror_mode": {
    "name": "ipython",
    "version": 3
   },
   "file_extension": ".py",
   "mimetype": "text/x-python",
   "name": "python",
   "nbconvert_exporter": "python",
   "pygments_lexer": "ipython3",
   "version": "3.9.7"
  }
 },
 "nbformat": 4,
 "nbformat_minor": 5
}
