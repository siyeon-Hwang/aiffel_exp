{
 "cells": [
  {
   "cell_type": "markdown",
   "id": "7a11d857",
   "metadata": {},
   "source": []
  },
  {
   "cell_type": "markdown",
   "id": "0f0b6bbb",
   "metadata": {},
   "source": [
    "## 1. 데이터 불러오기\n",
    "- glob 모듈을 사용하면 파일 읽어오는 작업이 아주 용이하다. 이를 이용해서 모든 텍스트 파일을 읽어온 후, raw_corpus 리스트에 문장단위로 저장하자."
   ]
  },
  {
   "cell_type": "code",
   "execution_count": 1,
   "id": "72e45363",
   "metadata": {},
   "outputs": [],
   "source": [
    "import re\n",
    "import numpy as np\n",
    "import tensorflow as tf"
   ]
  },
  {
   "cell_type": "code",
   "execution_count": 2,
   "id": "64c6b889",
   "metadata": {},
   "outputs": [
    {
     "name": "stdout",
     "output_type": "stream",
     "text": [
      "데이터 크기:  187088\n",
      "Examples: \n",
      " [\"Now I've heard there was a secret chord\", 'That David played, and it pleased the Lord', \"But you don't really care for music, do you?\"]\n"
     ]
    }
   ],
   "source": [
    "import glob\n",
    "\n",
    "txt_file_path = './lyricist/data/lyrics/*'\n",
    "\n",
    "txt_list = glob.glob(txt_file_path)\n",
    "\n",
    "raw_corpus = []\n",
    "\n",
    "#여러개의 txt파일을 모두 읽어 raw_corpus에 담는다.\n",
    "for txt_file in txt_list:\n",
    "    with open(txt_file, \"r\", encoding='UTF-8') as f:\n",
    "        raw = f.read().splitlines()\n",
    "        raw_corpus.extend(raw)\n",
    "        \n",
    "print(\"데이터 크기: \", len(raw_corpus))\n",
    "print(\"Examples: \\n\", raw_corpus[:3])"
   ]
  },
  {
   "cell_type": "markdown",
   "id": "af12ef1c",
   "metadata": {},
   "source": [
    "## 2. 데이터 정제"
   ]
  },
  {
   "cell_type": "code",
   "execution_count": 3,
   "id": "bbe47683",
   "metadata": {},
   "outputs": [],
   "source": [
    "#정규화 함수 생성\n",
    "def preprocess_sentence(sentence):\n",
    "    sentence = sentence.lower().strip() #1\n",
    "    sentence = re.sub(r\"([?.!,¿])\", r\"\\1\", sentence) #2\n",
    "    sentence = re.sub(r'[\" \"]+', \" \", sentence) #3\n",
    "    sentence = re.sub(r\"[^a-zA-Z?.!,¿]+\", \" \", sentence) #4\n",
    "    sentence = sentence.strip() #5\n",
    "    sentence = '<start> ' + sentence + ' <end>' #6\n",
    "    return sentence"
   ]
  },
  {
   "cell_type": "code",
   "execution_count": 4,
   "id": "41a11eed",
   "metadata": {},
   "outputs": [
    {
     "data": {
      "text/plain": [
       "['<start> now i ve heard there was a secret chord <end>',\n",
       " '<start> that david played, and it pleased the lord <end>',\n",
       " '<start> but you don t really care for music, do you? <end>',\n",
       " '<start> it goes like this <end>',\n",
       " '<start> the fourth, the fifth <end>']"
      ]
     },
     "execution_count": 4,
     "metadata": {},
     "output_type": "execute_result"
    }
   ],
   "source": [
    "#정제된 문장 모으기\n",
    "corpus = []\n",
    "\n",
    "for sentence in raw_corpus:\n",
    "    if len(sentence) == 0: continue\n",
    "    if sentence[-1] == \":\": continue\n",
    "        \n",
    "    preprocessed_sentence = preprocess_sentence(sentence)\n",
    "    corpus.append(preprocessed_sentence)\n",
    "    \n",
    "corpus[:5]"
   ]
  },
  {
   "cell_type": "code",
   "execution_count": 5,
   "id": "5ed1f617",
   "metadata": {},
   "outputs": [
    {
     "name": "stdout",
     "output_type": "stream",
     "text": [
      "[[   2   50    4 ...    0    0    0]\n",
      " [   2   16 3681 ...    0    0    0]\n",
      " [   2   31    6 ...    0    0    0]\n",
      " ...\n",
      " [ 148    4   20 ...    8 1070    3]\n",
      " [   4   32   14 ...  877  663    3]\n",
      " [   2    6  367 ...    0    0    0]] <keras_preprocessing.text.Tokenizer object at 0x7f73e98defd0>\n"
     ]
    }
   ],
   "source": [
    "# tokenizer 생성\n",
    "def tokenize(corpus):\n",
    "    tokenizer = tf.keras.preprocessing.text.Tokenizer(\n",
    "    num_words = 12000,\n",
    "    filters= ' ',\n",
    "    oov_token=\"<unk>\"\n",
    "    )\n",
    "    #corpus로 tokenizer내부 단어장 완성\n",
    "    tokenizer.fit_on_texts(corpus)\n",
    "    \n",
    "    #준비한 tokenizer로 corpus를 tensor로 변환\n",
    "    tensor = tokenizer.texts_to_sequences(corpus)\n",
    "    \n",
    "    #입력데이터의 시퀀스 길이를 일정하게 맞춰준다_padding\n",
    "    tensor = tf.keras.preprocessing.sequence.pad_sequences(tensor, maxlen=15, padding='post')\n",
    "    \n",
    "    print(tensor, tokenizer)\n",
    "    return tensor, tokenizer\n",
    "\n",
    "tensor, tokenizer = tokenize(corpus)"
   ]
  },
  {
   "cell_type": "markdown",
   "id": "28911210",
   "metadata": {},
   "source": [
    "## 3. 평가 데이터셋 분리"
   ]
  },
  {
   "cell_type": "code",
   "execution_count": 6,
   "id": "7c3e81bb",
   "metadata": {},
   "outputs": [],
   "source": [
    "from sklearn.model_selection import train_test_split\n",
    "\n",
    "enc_train, enc_val, dec_train, dec_val = train_test_split(tensor[:, :-1],\n",
    "                                                         tensor[:, 1:],\n",
    "                                                         test_size=0.2,\n",
    "                                                         random_state=7)"
   ]
  },
  {
   "cell_type": "code",
   "execution_count": 7,
   "id": "a23e428e",
   "metadata": {},
   "outputs": [
    {
     "name": "stdout",
     "output_type": "stream",
     "text": [
      "Source Train: (140599, 14)\n",
      "Target Train: (140599, 14)\n"
     ]
    }
   ],
   "source": [
    "print('Source Train:', enc_train.shape)\n",
    "print('Target Train:', dec_train.shape)"
   ]
  },
  {
   "cell_type": "code",
   "execution_count": 8,
   "id": "a39039ab",
   "metadata": {},
   "outputs": [
    {
     "data": {
      "text/plain": [
       "<BatchDataset shapes: ((256, 14), (256, 14)), types: (tf.int32, tf.int32)>"
      ]
     },
     "execution_count": 8,
     "metadata": {},
     "output_type": "execute_result"
    }
   ],
   "source": [
    "#데이터셋 객체 만들기\n",
    "BUFFER_SIZE = len(enc_train)\n",
    "BATCH_SIZE = 256\n",
    "steps_per_epoch = len(enc_train) // BATCH_SIZE\n",
    "\n",
    "# tokenizer가 구축한 단어사전 내 12000개와, 여기 포함되지 않은 0:<pad>를 포함하여 7001개\n",
    "VOCAB_SIZE = tokenizer.num_words + 1\n",
    "\n",
    "#준비한 데이터 소스로부터 데이터셋을 만든다\n",
    "dataset = tf.data.Dataset.from_tensor_slices((enc_train, dec_train))\n",
    "dataset = dataset.shuffle(BUFFER_SIZE)\n",
    "dataset = dataset.batch(BATCH_SIZE, drop_remainder=True)\n",
    "dataset"
   ]
  },
  {
   "cell_type": "markdown",
   "id": "8f675f68",
   "metadata": {},
   "source": [
    "## 4. 인공지능 만들기"
   ]
  },
  {
   "cell_type": "code",
   "execution_count": 9,
   "id": "231e15a4",
   "metadata": {},
   "outputs": [],
   "source": [
    "class TextGenerator(tf.keras.Model):\n",
    "    def __init__(self, vocab_size, embedding_size, hidden_size):\n",
    "        super().__init__()\n",
    "        \n",
    "        self.embedding = tf.keras.layers.Embedding(vocab_size, embedding_size)\n",
    "        self.rnn_1 = tf.keras.layers.LSTM(hidden_size, return_sequences=True)\n",
    "        self.rnn_2 = tf.keras.layers.LSTM(hidden_size, return_sequences=True)\n",
    "        self.linear = tf.keras.layers.Dense(vocab_size)\n",
    "        \n",
    "    def call(self, x):\n",
    "        out = self.embedding(x)\n",
    "        out = self.rnn_1(out)\n",
    "        out = self.rnn_2(out)\n",
    "        out = self.linear(out)\n",
    "        \n",
    "        return out\n",
    "    \n",
    "embedding_size = 512\n",
    "hidden_size = 1024\n",
    "model = TextGenerator(tokenizer.num_words+1, embedding_size, hidden_size)"
   ]
  },
  {
   "cell_type": "code",
   "execution_count": 10,
   "id": "6c7fd5f2",
   "metadata": {},
   "outputs": [
    {
     "data": {
      "text/plain": [
       "<tf.Tensor: shape=(256, 14, 12001), dtype=float32, numpy=\n",
       "array([[[-9.81576886e-05,  1.28531057e-04, -3.21665226e-04, ...,\n",
       "          3.24293389e-04, -8.50656215e-05,  4.02875639e-06],\n",
       "        [-1.71133928e-04, -1.51142827e-04, -7.06765917e-04, ...,\n",
       "          3.72104289e-04, -5.35100524e-04,  9.05680790e-05],\n",
       "        [-5.36639360e-04, -4.40671109e-04, -7.57427537e-04, ...,\n",
       "          5.66263683e-04, -5.72343764e-04,  4.31723951e-04],\n",
       "        ...,\n",
       "        [-1.22268114e-03, -3.15817131e-04, -6.00858002e-05, ...,\n",
       "          2.37907050e-03,  1.46130205e-03,  3.33369622e-04],\n",
       "        [-4.77311230e-04, -7.62315351e-04,  1.13095921e-04, ...,\n",
       "          2.50789314e-03,  2.06094817e-03,  3.19480750e-04],\n",
       "        [ 2.46615673e-04, -1.19260291e-03,  1.77659036e-04, ...,\n",
       "          2.63716723e-03,  2.53272313e-03,  2.98270752e-04]],\n",
       "\n",
       "       [[-9.81576886e-05,  1.28531057e-04, -3.21665226e-04, ...,\n",
       "          3.24293389e-04, -8.50656215e-05,  4.02875639e-06],\n",
       "        [-1.99923059e-04,  2.31558923e-04, -5.12653030e-04, ...,\n",
       "          6.35128061e-04, -2.73466401e-04, -1.21504374e-04],\n",
       "        [-5.51645644e-04,  4.43565892e-04, -4.50166495e-04, ...,\n",
       "          7.01160810e-04, -1.84794233e-04, -1.04590566e-04],\n",
       "        ...,\n",
       "        [-2.86610120e-05, -6.82584185e-04,  8.64835107e-04, ...,\n",
       "          1.10664882e-03,  8.33391794e-04,  7.53777567e-04],\n",
       "        [ 3.29246919e-04, -1.11558835e-03,  9.15738579e-04, ...,\n",
       "          1.34452130e-03,  1.46791292e-03,  8.51877790e-04],\n",
       "        [ 7.58084643e-04, -1.53113843e-03,  8.74151883e-04, ...,\n",
       "          1.61146780e-03,  2.00227043e-03,  9.17836151e-04]],\n",
       "\n",
       "       [[-9.81576886e-05,  1.28531057e-04, -3.21665226e-04, ...,\n",
       "          3.24293389e-04, -8.50656215e-05,  4.02875639e-06],\n",
       "        [-4.24894417e-04,  3.07468035e-05, -3.94925679e-04, ...,\n",
       "          6.72560476e-04,  5.54841790e-05,  2.84619251e-04],\n",
       "        [-4.04290418e-04, -3.74605916e-05, -6.66119799e-04, ...,\n",
       "          9.24272172e-04,  2.71200435e-04,  2.86911585e-04],\n",
       "        ...,\n",
       "        [-2.05717771e-03,  1.00197655e-03, -5.81589295e-04, ...,\n",
       "          7.85477052e-04,  1.15042599e-03, -4.73432679e-04],\n",
       "        [-1.98643957e-03,  9.49721492e-04, -1.53470173e-04, ...,\n",
       "          1.04525173e-03,  1.43453595e-03, -6.70352892e-04],\n",
       "        [-1.67157699e-03,  5.99723367e-04,  1.92010397e-04, ...,\n",
       "          1.30993093e-03,  1.83104980e-03, -6.21909625e-04]],\n",
       "\n",
       "       ...,\n",
       "\n",
       "       [[-9.81576886e-05,  1.28531057e-04, -3.21665226e-04, ...,\n",
       "          3.24293389e-04, -8.50656215e-05,  4.02875639e-06],\n",
       "        [-1.45288897e-04,  4.17302363e-04, -5.27371361e-04, ...,\n",
       "          5.68538264e-04, -7.39928510e-04, -4.03583777e-04],\n",
       "        [-4.42745368e-04,  4.01277561e-04, -4.81940078e-04, ...,\n",
       "          8.54665355e-04, -7.79126422e-04, -3.42457788e-04],\n",
       "        ...,\n",
       "        [-1.04136253e-03,  2.76640960e-04,  1.88243139e-04, ...,\n",
       "          8.08268553e-04, -1.01647252e-04,  6.01327978e-04],\n",
       "        [-7.69147649e-04, -2.05072327e-04,  5.61368710e-04, ...,\n",
       "          8.76920472e-04,  5.51388832e-04,  6.65567466e-04],\n",
       "        [-3.52534262e-04, -7.80014438e-04,  8.12995480e-04, ...,\n",
       "          1.02800352e-03,  1.19962590e-03,  7.26800761e-04]],\n",
       "\n",
       "       [[-9.81576886e-05,  1.28531057e-04, -3.21665226e-04, ...,\n",
       "          3.24293389e-04, -8.50656215e-05,  4.02875639e-06],\n",
       "        [-3.61969083e-04,  3.41003179e-04, -5.26330608e-04, ...,\n",
       "          3.54908843e-04, -2.74438149e-04, -1.09813242e-04],\n",
       "        [-5.32584381e-04,  2.70509103e-04, -1.12106372e-03, ...,\n",
       "          8.42436857e-04, -5.65382361e-04, -1.65401114e-04],\n",
       "        ...,\n",
       "        [ 1.95303746e-03, -1.00392790e-03,  4.83937387e-04, ...,\n",
       "          1.22762925e-03,  1.09641301e-03,  5.25972107e-04],\n",
       "        [ 2.37386185e-03, -1.51521515e-03,  4.93425119e-04, ...,\n",
       "          1.55143894e-03,  1.63455307e-03,  5.68365445e-04],\n",
       "        [ 2.74280692e-03, -1.95298903e-03,  4.16893134e-04, ...,\n",
       "          1.86863414e-03,  2.03386857e-03,  5.50185854e-04]],\n",
       "\n",
       "       [[-9.81576886e-05,  1.28531057e-04, -3.21665226e-04, ...,\n",
       "          3.24293389e-04, -8.50656215e-05,  4.02875639e-06],\n",
       "        [-3.99866956e-04,  8.91238014e-05, -5.32767910e-04, ...,\n",
       "          6.22534892e-04, -3.99768382e-04,  2.43406728e-04],\n",
       "        [-6.23746717e-04,  4.11063753e-04, -7.42391916e-04, ...,\n",
       "          8.15730251e-04, -8.46641837e-04,  2.07667865e-04],\n",
       "        ...,\n",
       "        [-1.36545289e-03,  1.19331165e-03,  2.00399256e-04, ...,\n",
       "          2.04385055e-04, -3.15982470e-04, -5.92484896e-04],\n",
       "        [-9.52711038e-04,  6.70170353e-04,  5.29911893e-04, ...,\n",
       "          4.38448886e-04,  1.76669259e-04, -4.32878645e-04],\n",
       "        [-4.18200827e-04,  2.66368534e-05,  7.25831836e-04, ...,\n",
       "          7.40235031e-04,  6.86989573e-04, -2.18120549e-04]]],\n",
       "      dtype=float32)>"
      ]
     },
     "execution_count": 10,
     "metadata": {},
     "output_type": "execute_result"
    }
   ],
   "source": [
    "#데이터에서 데이터 한 배치만 불러오는 방법이다\n",
    "for src_sample, tgt_sample in dataset.take(1): break\n",
    "    \n",
    "#한 배치만 불러온 데이터를 모델에 넣어보자\n",
    "model(src_sample)"
   ]
  },
  {
   "cell_type": "code",
   "execution_count": 11,
   "id": "2c5e55eb",
   "metadata": {},
   "outputs": [
    {
     "name": "stdout",
     "output_type": "stream",
     "text": [
      "Model: \"text_generator\"\n",
      "_________________________________________________________________\n",
      "Layer (type)                 Output Shape              Param #   \n",
      "=================================================================\n",
      "embedding (Embedding)        multiple                  6144512   \n",
      "_________________________________________________________________\n",
      "lstm (LSTM)                  multiple                  6295552   \n",
      "_________________________________________________________________\n",
      "lstm_1 (LSTM)                multiple                  8392704   \n",
      "_________________________________________________________________\n",
      "dense (Dense)                multiple                  12301025  \n",
      "=================================================================\n",
      "Total params: 33,133,793\n",
      "Trainable params: 33,133,793\n",
      "Non-trainable params: 0\n",
      "_________________________________________________________________\n"
     ]
    }
   ],
   "source": [
    "model.summary()"
   ]
  },
  {
   "cell_type": "code",
   "execution_count": 12,
   "id": "6eb5ba2b",
   "metadata": {},
   "outputs": [
    {
     "name": "stdout",
     "output_type": "stream",
     "text": [
      "Epoch 1/10\n",
      "549/549 [==============================] - 99s 176ms/step - loss: 3.6034\n",
      "Epoch 2/10\n",
      "549/549 [==============================] - 98s 178ms/step - loss: 3.1373\n",
      "Epoch 3/10\n",
      "549/549 [==============================] - 98s 178ms/step - loss: 2.9541\n",
      "Epoch 4/10\n",
      "549/549 [==============================] - 98s 177ms/step - loss: 2.8108\n",
      "Epoch 5/10\n",
      "549/549 [==============================] - 98s 178ms/step - loss: 2.6858\n",
      "Epoch 6/10\n",
      "549/549 [==============================] - 98s 178ms/step - loss: 2.5712\n",
      "Epoch 7/10\n",
      "549/549 [==============================] - 98s 178ms/step - loss: 2.4667\n",
      "Epoch 8/10\n",
      "549/549 [==============================] - 98s 178ms/step - loss: 2.3677\n",
      "Epoch 9/10\n",
      "549/549 [==============================] - 98s 178ms/step - loss: 2.2743\n",
      "Epoch 10/10\n",
      "549/549 [==============================] - 98s 179ms/step - loss: 2.1851\n"
     ]
    },
    {
     "data": {
      "text/plain": [
       "<keras.callbacks.History at 0x7f73bc77ff10>"
      ]
     },
     "execution_count": 12,
     "metadata": {},
     "output_type": "execute_result"
    }
   ],
   "source": [
    "optimizer = tf.keras.optimizers.Adam()\n",
    "loss = tf.keras.losses.SparseCategoricalCrossentropy(\n",
    "    from_logits=True, \n",
    "    reduction='none')\n",
    "\n",
    "model.compile(loss=loss, optimizer=optimizer)\n",
    "model.fit(dataset, epochs=10)"
   ]
  },
  {
   "cell_type": "markdown",
   "id": "27cd8637",
   "metadata": {},
   "source": [
    "## 5. 모델 평가하기"
   ]
  },
  {
   "cell_type": "code",
   "execution_count": 15,
   "id": "dcd14501",
   "metadata": {},
   "outputs": [],
   "source": [
    "def generate_text(model, tokenizer, init_sentence =\"<start>\", max_len=20):\n",
    "    test_input = tokenizer.texts_to_sequences([init_sentence])\n",
    "    test_tensor = tf.convert_to_tensor(test_input, dtype=tf.int64)\n",
    "    end_token = tokenizer.word_index[\"<end>\"]\n",
    "    \n",
    "    while True:\n",
    "        predict = model(test_tensor)\n",
    "        predict_word = tf.argmax(tf.nn.softmax(predict, axis=-1), axis=-1)[:, -1]\n",
    "        test_tensor = tf.concat([test_tensor, tf.expand_dims(predict_word, axis=0)], axis=-1)\n",
    "        \n",
    "        if predict_word.numpy()[0] == end_token: break\n",
    "        if test_tensor.shape[1] >= max_len: break\n",
    "            \n",
    "    generated = \"\"\n",
    "    for word_index in test_tensor[0].numpy():\n",
    "        generated += tokenizer.index_word[word_index] + \" \"\n",
    "        \n",
    "    return generated"
   ]
  },
  {
   "cell_type": "code",
   "execution_count": 19,
   "id": "7081761c",
   "metadata": {},
   "outputs": [
    {
     "data": {
      "text/plain": [
       "'<start> what you want be what you want <end> '"
      ]
     },
     "execution_count": 19,
     "metadata": {},
     "output_type": "execute_result"
    }
   ],
   "source": [
    "generate_text(model, tokenizer, init_sentence=\"<start> what\", max_len=20)"
   ]
  },
  {
   "cell_type": "markdown",
   "id": "6434ac45",
   "metadata": {},
   "source": [
    "embedding_size를 256으로 설정했을 때 오류가 2.2 이하로 떨어지지 않아 512로 늘려주었다. 늘려주니 오류가 2.2 이하로 떨어졌다."
   ]
  },
  {
   "cell_type": "code",
   "execution_count": null,
   "id": "ac3aa6d7",
   "metadata": {},
   "outputs": [],
   "source": []
  }
 ],
 "metadata": {
  "kernelspec": {
   "display_name": "Python 3 (ipykernel)",
   "language": "python",
   "name": "python3"
  },
  "language_info": {
   "codemirror_mode": {
    "name": "ipython",
    "version": 3
   },
   "file_extension": ".py",
   "mimetype": "text/x-python",
   "name": "python",
   "nbconvert_exporter": "python",
   "pygments_lexer": "ipython3",
   "version": "3.8.8"
  }
 },
 "nbformat": 4,
 "nbformat_minor": 5
}
