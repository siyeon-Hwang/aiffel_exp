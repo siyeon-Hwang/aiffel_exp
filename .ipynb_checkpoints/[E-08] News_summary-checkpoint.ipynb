{
 "cells": [
  {
   "cell_type": "code",
   "execution_count": null,
   "id": "be764040",
   "metadata": {},
   "outputs": [],
   "source": []
  },
  {
   "cell_type": "markdown",
   "id": "c6f35571",
   "metadata": {},
   "source": [
    "## 1. 데이터 수집하기"
   ]
  },
  {
   "cell_type": "code",
   "execution_count": 15,
   "id": "945a3590",
   "metadata": {},
   "outputs": [
    {
     "name": "stderr",
     "output_type": "stream",
     "text": [
      "[nltk_data] Downloading package stopwords to /aiffel/nltk_data...\n",
      "[nltk_data]   Unzipping corpora/stopwords.zip.\n"
     ]
    }
   ],
   "source": [
    "import nltk\n",
    "nltk.download('stopwords')\n",
    "from nltk.corpus import stopwords\n",
    "import numpy as np\n",
    "import pandas as pd\n",
    "import os\n",
    "import re\n",
    "import matplotlib.pyplot as plt\n",
    "from bs4 import BeautifulSoup\n",
    "from tensorflow.keras.preprocessing.text import Tokenizer\n",
    "from tensorflow.keras.preprocessing.sequence import pad_sequences\n",
    "import urllib.request\n",
    "import warnings\n",
    "warnings.filterwarnings('ignore', category=UserWarning, module='bs4')"
   ]
  },
  {
   "cell_type": "code",
   "execution_count": 2,
   "id": "b952e41b",
   "metadata": {},
   "outputs": [],
   "source": [
    "# 데이터 가져오기\n",
    "urllib.request.urlretrieve(\"https://raw.githubusercontent.com/sunnysai12345/News_Summary/master/news_summary_more.csv\", filename=\"news_summary_more.csv\")\n",
    "data = pd.read_csv('news_summary_more.csv', encoding='iso-8859-1')"
   ]
  },
  {
   "cell_type": "code",
   "execution_count": 4,
   "id": "5bc73f5e",
   "metadata": {},
   "outputs": [
    {
     "name": "stdout",
     "output_type": "stream",
     "text": [
      "전체 샘플 수:  98401\n"
     ]
    },
    {
     "data": {
      "text/html": [
       "<div>\n",
       "<style scoped>\n",
       "    .dataframe tbody tr th:only-of-type {\n",
       "        vertical-align: middle;\n",
       "    }\n",
       "\n",
       "    .dataframe tbody tr th {\n",
       "        vertical-align: top;\n",
       "    }\n",
       "\n",
       "    .dataframe thead th {\n",
       "        text-align: right;\n",
       "    }\n",
       "</style>\n",
       "<table border=\"1\" class=\"dataframe\">\n",
       "  <thead>\n",
       "    <tr style=\"text-align: right;\">\n",
       "      <th></th>\n",
       "      <th>headlines</th>\n",
       "      <th>text</th>\n",
       "    </tr>\n",
       "  </thead>\n",
       "  <tbody>\n",
       "    <tr>\n",
       "      <th>7265</th>\n",
       "      <td>Trying to get back to normal life: Vinta Nanda...</td>\n",
       "      <td>Vinta Nanda has said she's desperately trying ...</td>\n",
       "    </tr>\n",
       "    <tr>\n",
       "      <th>8478</th>\n",
       "      <td>We need to normalise the conversation: Priyank...</td>\n",
       "      <td>Priyanka Chopra, while talking about depressio...</td>\n",
       "    </tr>\n",
       "    <tr>\n",
       "      <th>57404</th>\n",
       "      <td>7-year-old boy 1st to see after losing visual ...</td>\n",
       "      <td>In a first, Australia-based doctors have repor...</td>\n",
       "    </tr>\n",
       "    <tr>\n",
       "      <th>96807</th>\n",
       "      <td>Kerala is on path of saffronisation, says RSS</td>\n",
       "      <td>Rashtriya Swayamsevak Sangh (RSS) ideologue Ra...</td>\n",
       "    </tr>\n",
       "    <tr>\n",
       "      <th>38008</th>\n",
       "      <td>Gal Gadot unveils her first look from 'Wonder ...</td>\n",
       "      <td>Actress Gal Gadot has shared her first look fr...</td>\n",
       "    </tr>\n",
       "    <tr>\n",
       "      <th>72341</th>\n",
       "      <td>Longest US Open women's match lasts for over 3...</td>\n",
       "      <td>The match between Shelby Rogers and Daria Gavr...</td>\n",
       "    </tr>\n",
       "    <tr>\n",
       "      <th>42785</th>\n",
       "      <td>Singapore bars communications from terror atta...</td>\n",
       "      <td>Singapore's Parliament on Wednesday passed a l...</td>\n",
       "    </tr>\n",
       "    <tr>\n",
       "      <th>47064</th>\n",
       "      <td>Chrome extension shows View Image tab after Go...</td>\n",
       "      <td>A Chrome extension called 'View Image' has bee...</td>\n",
       "    </tr>\n",
       "    <tr>\n",
       "      <th>59092</th>\n",
       "      <td>NDA topper shuns IIT to join defence forces</td>\n",
       "      <td>Seventeen-year-old Shivansh Joshi, who topped ...</td>\n",
       "    </tr>\n",
       "    <tr>\n",
       "      <th>41820</th>\n",
       "      <td>Indian Coast Guard pilot dies 17 days after he...</td>\n",
       "      <td>Assistant Commandant Captain Penny Chaudhary, ...</td>\n",
       "    </tr>\n",
       "  </tbody>\n",
       "</table>\n",
       "</div>"
      ],
      "text/plain": [
       "                                               headlines  \\\n",
       "7265   Trying to get back to normal life: Vinta Nanda...   \n",
       "8478   We need to normalise the conversation: Priyank...   \n",
       "57404  7-year-old boy 1st to see after losing visual ...   \n",
       "96807      Kerala is on path of saffronisation, says RSS   \n",
       "38008  Gal Gadot unveils her first look from 'Wonder ...   \n",
       "72341  Longest US Open women's match lasts for over 3...   \n",
       "42785  Singapore bars communications from terror atta...   \n",
       "47064  Chrome extension shows View Image tab after Go...   \n",
       "59092        NDA topper shuns IIT to join defence forces   \n",
       "41820  Indian Coast Guard pilot dies 17 days after he...   \n",
       "\n",
       "                                                    text  \n",
       "7265   Vinta Nanda has said she's desperately trying ...  \n",
       "8478   Priyanka Chopra, while talking about depressio...  \n",
       "57404  In a first, Australia-based doctors have repor...  \n",
       "96807  Rashtriya Swayamsevak Sangh (RSS) ideologue Ra...  \n",
       "38008  Actress Gal Gadot has shared her first look fr...  \n",
       "72341  The match between Shelby Rogers and Daria Gavr...  \n",
       "42785  Singapore's Parliament on Wednesday passed a l...  \n",
       "47064  A Chrome extension called 'View Image' has bee...  \n",
       "59092  Seventeen-year-old Shivansh Joshi, who topped ...  \n",
       "41820  Assistant Commandant Captain Penny Chaudhary, ...  "
      ]
     },
     "execution_count": 4,
     "metadata": {},
     "output_type": "execute_result"
    }
   ],
   "source": [
    "print('전체 샘플 수: ', len(data))\n",
    "data.sample(10)"
   ]
  },
  {
   "cell_type": "markdown",
   "id": "4e20a2aa",
   "metadata": {},
   "source": [
    "## 2. 데이터 전처리하기\n",
    "### 2-1. 중복 제거 및 null 값 제거"
   ]
  },
  {
   "cell_type": "code",
   "execution_count": 5,
   "id": "4fa13506",
   "metadata": {},
   "outputs": [
    {
     "name": "stdout",
     "output_type": "stream",
     "text": [
      "Text 열에서 중복 배제한 유일한 샘플 수:  98360\n",
      "Headlines 열에서 중복 배제한 유일한 샘플 수:  98280\n"
     ]
    }
   ],
   "source": [
    "print('Text 열에서 중복 배제한 유일한 샘플 수: ', data['text'].nunique())\n",
    "print('Headlines 열에서 중복 배제한 유일한 샘플 수: ', data['headlines'].nunique())"
   ]
  },
  {
   "cell_type": "code",
   "execution_count": 6,
   "id": "1b254344",
   "metadata": {},
   "outputs": [
    {
     "name": "stdout",
     "output_type": "stream",
     "text": [
      "전체 샘플 수:  98360\n"
     ]
    }
   ],
   "source": [
    "# text 데이터 중복 제거\n",
    "data.drop_duplicates(subset=['text'], inplace=True)\n",
    "print('전체 샘플 수: ', len(data))"
   ]
  },
  {
   "cell_type": "code",
   "execution_count": 7,
   "id": "3863a237",
   "metadata": {
    "scrolled": true
   },
   "outputs": [
    {
     "name": "stdout",
     "output_type": "stream",
     "text": [
      "headlines    0\n",
      "text         0\n",
      "dtype: int64\n"
     ]
    }
   ],
   "source": [
    "# null 값 제거 >> null 값 없음\n",
    "print(data.isnull().sum())"
   ]
  },
  {
   "cell_type": "markdown",
   "id": "729f11ca",
   "metadata": {},
   "source": [
    "### 2-2. 텍스트 정규화와 불용어 제거"
   ]
  },
  {
   "cell_type": "code",
   "execution_count": 8,
   "id": "98200099",
   "metadata": {},
   "outputs": [],
   "source": [
    "# 정규화 사전\n",
    "contractions = {\"ain't\": \"is not\", \"aren't\": \"are not\",\"can't\": \"cannot\", \"'cause\": \"because\", \"could've\": \"could have\", \"couldn't\": \"could not\",\n",
    "                           \"didn't\": \"did not\",  \"doesn't\": \"does not\", \"don't\": \"do not\", \"hadn't\": \"had not\", \"hasn't\": \"has not\", \"haven't\": \"have not\",\n",
    "                           \"he'd\": \"he would\",\"he'll\": \"he will\", \"he's\": \"he is\", \"how'd\": \"how did\", \"how'd'y\": \"how do you\", \"how'll\": \"how will\", \"how's\": \"how is\",\n",
    "                           \"I'd\": \"I would\", \"I'd've\": \"I would have\", \"I'll\": \"I will\", \"I'll've\": \"I will have\",\"I'm\": \"I am\", \"I've\": \"I have\", \"i'd\": \"i would\",\n",
    "                           \"i'd've\": \"i would have\", \"i'll\": \"i will\",  \"i'll've\": \"i will have\",\"i'm\": \"i am\", \"i've\": \"i have\", \"isn't\": \"is not\", \"it'd\": \"it would\",\n",
    "                           \"it'd've\": \"it would have\", \"it'll\": \"it will\", \"it'll've\": \"it will have\",\"it's\": \"it is\", \"let's\": \"let us\", \"ma'am\": \"madam\",\n",
    "                           \"mayn't\": \"may not\", \"might've\": \"might have\",\"mightn't\": \"might not\",\"mightn't've\": \"might not have\", \"must've\": \"must have\",\n",
    "                           \"mustn't\": \"must not\", \"mustn't've\": \"must not have\", \"needn't\": \"need not\", \"needn't've\": \"need not have\",\"o'clock\": \"of the clock\",\n",
    "                           \"oughtn't\": \"ought not\", \"oughtn't've\": \"ought not have\", \"shan't\": \"shall not\", \"sha'n't\": \"shall not\", \"shan't've\": \"shall not have\",\n",
    "                           \"she'd\": \"she would\", \"she'd've\": \"she would have\", \"she'll\": \"she will\", \"she'll've\": \"she will have\", \"she's\": \"she is\",\n",
    "                           \"should've\": \"should have\", \"shouldn't\": \"should not\", \"shouldn't've\": \"should not have\", \"so've\": \"so have\",\"so's\": \"so as\",\n",
    "                           \"this's\": \"this is\",\"that'd\": \"that would\", \"that'd've\": \"that would have\", \"that's\": \"that is\", \"there'd\": \"there would\",\n",
    "                           \"there'd've\": \"there would have\", \"there's\": \"there is\", \"here's\": \"here is\",\"they'd\": \"they would\", \"they'd've\": \"they would have\",\n",
    "                           \"they'll\": \"they will\", \"they'll've\": \"they will have\", \"they're\": \"they are\", \"they've\": \"they have\", \"to've\": \"to have\",\n",
    "                           \"wasn't\": \"was not\", \"we'd\": \"we would\", \"we'd've\": \"we would have\", \"we'll\": \"we will\", \"we'll've\": \"we will have\", \"we're\": \"we are\",\n",
    "                           \"we've\": \"we have\", \"weren't\": \"were not\", \"what'll\": \"what will\", \"what'll've\": \"what will have\", \"what're\": \"what are\",\n",
    "                           \"what's\": \"what is\", \"what've\": \"what have\", \"when's\": \"when is\", \"when've\": \"when have\", \"where'd\": \"where did\", \"where's\": \"where is\",\n",
    "                           \"where've\": \"where have\", \"who'll\": \"who will\", \"who'll've\": \"who will have\", \"who's\": \"who is\", \"who've\": \"who have\",\n",
    "                           \"why's\": \"why is\", \"why've\": \"why have\", \"will've\": \"will have\", \"won't\": \"will not\", \"won't've\": \"will not have\",\n",
    "                           \"would've\": \"would have\", \"wouldn't\": \"would not\", \"wouldn't've\": \"would not have\", \"y'all\": \"you all\",\n",
    "                           \"y'all'd\": \"you all would\",\"y'all'd've\": \"you all would have\",\"y'all're\": \"you all are\",\"y'all've\": \"you all have\",\n",
    "                           \"you'd\": \"you would\", \"you'd've\": \"you would have\", \"you'll\": \"you will\", \"you'll've\": \"you will have\",\n",
    "                           \"you're\": \"you are\", \"you've\": \"you have\"}\n"
   ]
  },
  {
   "cell_type": "markdown",
   "id": "f6a46d2e",
   "metadata": {},
   "source": [
    "text에서만 불용어 처리하고 headlines에는 안 할 예정"
   ]
  },
  {
   "cell_type": "code",
   "execution_count": 16,
   "id": "ddf948f0",
   "metadata": {},
   "outputs": [],
   "source": [
    "def preprocess_sentence(sentence, remove_stopwords=True):\n",
    "    sentence = sentence.lower()\n",
    "    sentence = BeautifulSoup(sentence, 'lxml').text \n",
    "    sentence = re.sub(r'\\([^)]*\\)', '', sentence) # 괄호로 닫힌 문자열 제거\n",
    "    sentence = re.sub('\"', '', sentence) # 쌍따옴표 제거\n",
    "    sentence = ' '.join([contractions[t] if t in contractions else t for t in sentence.split(\" \")]) # 약어 정규화\n",
    "    sentence = re.sub(r\"'s\\b\", \"\", sentence) # 소유격 제거\n",
    "    sentence = re.sub(\"[^a-zA-Z]\", \" \", sentence)\n",
    "    sentence = re.sub('[m]{2,}', 'mm', sentence) # m이 3개 이상 나오면 2개로 \n",
    "    \n",
    "    # 불용어 제거(text)\n",
    "    if remove_stopwords:\n",
    "        tokens = ' '.join(word for word in sentence.split() if word not in stopwords.words('english') if len(word) > 1)\n",
    "    # 불용어 미제거(headlines)\n",
    "    else:\n",
    "        tokens = ' '.join(word for word in sentence.split() if len(word) > 1)\n",
    "    \n",
    "    return tokens"
   ]
  },
  {
   "cell_type": "code",
   "execution_count": 18,
   "id": "7d0201ae",
   "metadata": {},
   "outputs": [
    {
     "name": "stdout",
     "output_type": "stream",
     "text": [
      "text 전처리 후 결과:  ['saurav kant alumnus upgrad iiit pg program machine learning artificial intelligence sr systems engineer infosys almost years work experience program upgrad degree career support helped transition data scientist tech mahindra salary hike upgrad online power learning powered lakh careers', 'kunal shah credit card bill payment platform cred gave users chance win free food swiggy one year pranav kaushik delhi techie bagged reward spending cred coins users get one cred coin per rupee bill paid used avail rewards brands like ixigo bookmyshow ubereats cult fit', 'new zealand defeated india wickets fourth odi hamilton thursday win first match five match odi series india lost international match rohit sharma captaincy consecutive victories dating back march match witnessed india getting seventh lowest total odi cricket history', 'aegon life iterm insurance plan customers enjoy tax benefits premiums paid save taxes plan provides life cover age years also customers options insure critical illnesses disability accidental death benefit rider life cover age years', 'speaking sexual harassment allegations rajkumar hirani sonam kapoor said known hirani many years true metoo movement get derailed metoo movement always believe woman case need reserve judgment added hirani accused assistant worked sanju']\n"
     ]
    }
   ],
   "source": [
    "# 전체 text에 대한 전처리\n",
    "clean_text = []\n",
    "\n",
    "for s in data['text']:\n",
    "    clean_text.append(preprocess_sentence(s))\n",
    "    \n",
    "print('text 전처리 후 결과: ', clean_text[:5])"
   ]
  },
  {
   "cell_type": "code",
   "execution_count": 20,
   "id": "0e31c02c",
   "metadata": {},
   "outputs": [
    {
     "name": "stdout",
     "output_type": "stream",
     "text": [
      "headlines 전처리 후 결과:  ['upgrad learner switches to career in ml al with salary hike', 'delhi techie wins free food from swiggy for one year on cred', 'new zealand end rohit sharma led india match winning streak', 'aegon life iterm insurance plan helps customers save tax', 'have known hirani for yrs what if metoo claims are not true sonam']\n"
     ]
    }
   ],
   "source": [
    "# 전체 headlines에 대한 전처리\n",
    "clean_headlines = []\n",
    "\n",
    "for s in data['headlines']:\n",
    "    clean_headlines.append(preprocess_sentence(s, False))\n",
    "    \n",
    "print('headlines 전처리 후 결과: ', clean_headlines[:5])"
   ]
  },
  {
   "cell_type": "code",
   "execution_count": 21,
   "id": "47ee9d4b",
   "metadata": {},
   "outputs": [],
   "source": [
    "data['text'] = clean_text\n",
    "data['headlines'] = clean_headlines\n",
    "\n",
    "# 빈 값을 Null 값으로 변환\n",
    "data.replace('', np.nan, inplace=True)"
   ]
  },
  {
   "cell_type": "code",
   "execution_count": 22,
   "id": "3d7617cf",
   "metadata": {},
   "outputs": [
    {
     "data": {
      "text/plain": [
       "headlines    0\n",
       "text         0\n",
       "dtype: int64"
      ]
     },
     "execution_count": 22,
     "metadata": {},
     "output_type": "execute_result"
    }
   ],
   "source": [
    "# null 값 없음\n",
    "data.isnull().sum()"
   ]
  },
  {
   "cell_type": "markdown",
   "id": "b3714cee",
   "metadata": {},
   "source": [
    "### 2-3. train-test split\n",
    "### 2-3-1. 샘플의 최대 길이 정하기"
   ]
  },
  {
   "cell_type": "code",
   "execution_count": 23,
   "id": "6ef32e27",
   "metadata": {},
   "outputs": [
    {
     "name": "stdout",
     "output_type": "stream",
     "text": [
      "텍스트의 최소길이 : 1\n",
      "텍스트의 최대길이 : 60\n",
      "텍스트의 평균길이 : 35.09968483123221\n",
      "요약 최소 길이 : 1\n",
      "요약의 최대 길이 : 16\n",
      "요약의 평균 길이 : 9.299532330215534\n"
     ]
    },
    {
     "data": {
      "image/png": "[encoded data removed]",
      "text/plain": [
       "<Figure size 432x288 with 2 Axes>"
      ]
     },
     "metadata": {
      "needs_background": "light"
     },
     "output_type": "display_data"
    },
    {
     "data": {
      "image/png": "[encoded data removed]",
      "text/plain": [
       "<Figure size 432x288 with 1 Axes>"
      ]
     },
     "metadata": {
      "needs_background": "light"
     },
     "output_type": "display_data"
    },
    {
     "data": {
      "image/png": "[encoded data removed]",
      "text/plain": [
       "<Figure size 432x288 with 1 Axes>"
      ]
     },
     "metadata": {
      "needs_background": "light"
     },
     "output_type": "display_data"
    }
   ],
   "source": [
    "# 길이 분포 출력\n",
    "text_len = [len(s.split()) for s in data['text']]\n",
    "headlines_len = [len(s.split()) for s in data['headlines']]\n",
    "\n",
    "print('텍스트의 최소길이 : {}'.format(np.min(text_len)))\n",
    "print('텍스트의 최대길이 : {}'.format(np.max(text_len)))\n",
    "print('텍스트의 평균길이 : {}'.format(np.mean(text_len)))\n",
    "\n",
    "print('요약 최소 길이 : {}'.format(np.min(headlines_len)))\n",
    "print('요약의 최대 길이 : {}'.format(np.max(headlines_len)))\n",
    "print('요약의 평균 길이 : {}'.format(np.mean(headlines_len)))\n",
    "\n",
    "plt.subplot(1,2,1)\n",
    "plt.boxplot(text_len)\n",
    "plt.title('Text')\n",
    "\n",
    "plt.subplot(1,2,2)\n",
    "plt.boxplot(headlines_len)\n",
    "plt.title('Headlines')\n",
    "\n",
    "plt.tight_layout()\n",
    "plt.show()\n",
    "\n",
    "plt.title('Text')\n",
    "plt.hist(text_len, bins=40)\n",
    "plt.xlabel('length of samples')\n",
    "plt.ylabel('number of samples')\n",
    "plt.show()\n",
    "\n",
    "plt.title('Headlines')\n",
    "plt.hist(headlines_len, bins=40)\n",
    "plt.xlabel('length of samples')\n",
    "plt.ylabel('number of samples')\n",
    "plt.show()"
   ]
  },
  {
   "cell_type": "markdown",
   "id": "b2b1b978",
   "metadata": {},
   "source": [
    "훈련데이터와 샘플의 길이를 입력하면 데이터의 몇 %가 해당하는지 계산하는 함수로 최대길이 결정해보기 "
   ]
  },
  {
   "cell_type": "code",
   "execution_count": 27,
   "id": "2d9c4c3f",
   "metadata": {},
   "outputs": [
    {
     "name": "stdout",
     "output_type": "stream",
     "text": [
      "전체 샘플 중 길이가 40 이하인 샘플의 비율 : 0.9238714924766165\n",
      "전체 샘플 중 길이가 12 이하인 샘플의 비율 : 0.9880337535583571\n"
     ]
    }
   ],
   "source": [
    "def below_threshold_len(max_len, nested_list):\n",
    "    cnt = 0\n",
    "    for s in nested_list:\n",
    "        if (len(s.split()) <= max_len):\n",
    "            cnt += 1\n",
    "    print('전체 샘플 중 길이가 %s 이하인 샘플의 비율 : %s'%(max_len, cnt / len(nested_list)))\n",
    "    \n",
    "below_threshold_len(40, data['text'])\n",
    "below_threshold_len(12, data['headlines'])"
   ]
  },
  {
   "cell_type": "code",
   "execution_count": 29,
   "id": "7ee069c3",
   "metadata": {},
   "outputs": [],
   "source": [
    "text_max_len = 40\n",
    "headlines_max_len = 12"
   ]
  },
  {
   "cell_type": "markdown",
   "id": "b6aaa945",
   "metadata": {},
   "source": [
    "정해진 길이보다 길면 해당 샘플 제외하기"
   ]
  },
  {
   "cell_type": "code",
   "execution_count": 30,
   "id": "7cd56d9a",
   "metadata": {},
   "outputs": [
    {
     "name": "stdout",
     "output_type": "stream",
     "text": [
      "전체 샘플 수: 89775\n"
     ]
    }
   ],
   "source": [
    "data = data[data['text'].apply(lambda x: len(x.split()) <= text_max_len)]\n",
    "data = data[data['headlines'].apply(lambda x: len(x.split()) <= headlines_max_len)]\n",
    "print('전체 샘플 수:', len(data))"
   ]
  },
  {
   "cell_type": "markdown",
   "id": "2660847e",
   "metadata": {},
   "source": [
    "### 2-3-2. 시작토큰과 종료토큰 추가_ headlines 데이터에만"
   ]
  },
  {
   "cell_type": "code",
   "execution_count": 32,
   "id": "d74abe0e",
   "metadata": {},
   "outputs": [
    {
     "data": {
      "text/html": [
       "<div>\n",
       "<style scoped>\n",
       "    .dataframe tbody tr th:only-of-type {\n",
       "        vertical-align: middle;\n",
       "    }\n",
       "\n",
       "    .dataframe tbody tr th {\n",
       "        vertical-align: top;\n",
       "    }\n",
       "\n",
       "    .dataframe thead th {\n",
       "        text-align: right;\n",
       "    }\n",
       "</style>\n",
       "<table border=\"1\" class=\"dataframe\">\n",
       "  <thead>\n",
       "    <tr style=\"text-align: right;\">\n",
       "      <th></th>\n",
       "      <th>headlines</th>\n",
       "      <th>text</th>\n",
       "      <th>decoder_input</th>\n",
       "      <th>decoder_target</th>\n",
       "    </tr>\n",
       "  </thead>\n",
       "  <tbody>\n",
       "    <tr>\n",
       "      <th>0</th>\n",
       "      <td>upgrad learner switches to career in ml al wit...</td>\n",
       "      <td>saurav kant alumnus upgrad iiit pg program mac...</td>\n",
       "      <td>sostoken upgrad learner switches to career in ...</td>\n",
       "      <td>upgrad learner switches to career in ml al wit...</td>\n",
       "    </tr>\n",
       "    <tr>\n",
       "      <th>2</th>\n",
       "      <td>new zealand end rohit sharma led india match w...</td>\n",
       "      <td>new zealand defeated india wickets fourth odi ...</td>\n",
       "      <td>sostoken new zealand end rohit sharma led indi...</td>\n",
       "      <td>new zealand end rohit sharma led india match w...</td>\n",
       "    </tr>\n",
       "    <tr>\n",
       "      <th>3</th>\n",
       "      <td>aegon life iterm insurance plan helps customer...</td>\n",
       "      <td>aegon life iterm insurance plan customers enjo...</td>\n",
       "      <td>sostoken aegon life iterm insurance plan helps...</td>\n",
       "      <td>aegon life iterm insurance plan helps customer...</td>\n",
       "    </tr>\n",
       "    <tr>\n",
       "      <th>5</th>\n",
       "      <td>rahat fateh ali khan denies getting notice for...</td>\n",
       "      <td>pakistani singer rahat fateh ali khan denied r...</td>\n",
       "      <td>sostoken rahat fateh ali khan denies getting n...</td>\n",
       "      <td>rahat fateh ali khan denies getting notice for...</td>\n",
       "    </tr>\n",
       "    <tr>\n",
       "      <th>6</th>\n",
       "      <td>india get all out for their lowest odi total i...</td>\n",
       "      <td>india recorded lowest odi total new zealand ge...</td>\n",
       "      <td>sostoken india get all out for their lowest od...</td>\n",
       "      <td>india get all out for their lowest odi total i...</td>\n",
       "    </tr>\n",
       "  </tbody>\n",
       "</table>\n",
       "</div>"
      ],
      "text/plain": [
       "                                           headlines  \\\n",
       "0  upgrad learner switches to career in ml al wit...   \n",
       "2  new zealand end rohit sharma led india match w...   \n",
       "3  aegon life iterm insurance plan helps customer...   \n",
       "5  rahat fateh ali khan denies getting notice for...   \n",
       "6  india get all out for their lowest odi total i...   \n",
       "\n",
       "                                                text  \\\n",
       "0  saurav kant alumnus upgrad iiit pg program mac...   \n",
       "2  new zealand defeated india wickets fourth odi ...   \n",
       "3  aegon life iterm insurance plan customers enjo...   \n",
       "5  pakistani singer rahat fateh ali khan denied r...   \n",
       "6  india recorded lowest odi total new zealand ge...   \n",
       "\n",
       "                                       decoder_input  \\\n",
       "0  sostoken upgrad learner switches to career in ...   \n",
       "2  sostoken new zealand end rohit sharma led indi...   \n",
       "3  sostoken aegon life iterm insurance plan helps...   \n",
       "5  sostoken rahat fateh ali khan denies getting n...   \n",
       "6  sostoken india get all out for their lowest od...   \n",
       "\n",
       "                                      decoder_target  \n",
       "0  upgrad learner switches to career in ml al wit...  \n",
       "2  new zealand end rohit sharma led india match w...  \n",
       "3  aegon life iterm insurance plan helps customer...  \n",
       "5  rahat fateh ali khan denies getting notice for...  \n",
       "6  india get all out for their lowest odi total i...  "
      ]
     },
     "execution_count": 32,
     "metadata": {},
     "output_type": "execute_result"
    }
   ],
   "source": [
    "data['decoder_input'] = data['headlines'].apply(lambda x: 'sostoken ' + x)\n",
    "data['decoder_target'] = data['headlines'].apply(lambda x: x + ' eostoken')\n",
    "data.head()"
   ]
  },
  {
   "cell_type": "markdown",
   "id": "d5113083",
   "metadata": {},
   "source": [
    "인코더의 입력, 디코더의 입력 및 레이블을 각각 numpy 타입으로 저장"
   ]
  },
  {
   "cell_type": "code",
   "execution_count": 33,
   "id": "8c9253aa",
   "metadata": {},
   "outputs": [],
   "source": [
    "encoder_input = np.array(data['text'])\n",
    "decoder_input = np.array(data['decoder_input'])\n",
    "decoder_target = np.array(data['decoder_target'])"
   ]
  },
  {
   "cell_type": "markdown",
   "id": "d5c052a2",
   "metadata": {},
   "source": [
    "### 2-3-3. train-test 분리"
   ]
  },
  {
   "cell_type": "code",
   "execution_count": 34,
   "id": "fb46a47a",
   "metadata": {},
   "outputs": [
    {
     "data": {
      "text/plain": [
       "(89775,)"
      ]
     },
     "execution_count": 34,
     "metadata": {},
     "output_type": "execute_result"
    }
   ],
   "source": [
    "encoder_input.shape"
   ]
  },
  {
   "cell_type": "code",
   "execution_count": 35,
   "id": "50c66305",
   "metadata": {},
   "outputs": [
    {
     "name": "stdout",
     "output_type": "stream",
     "text": [
      "[32305 86737 16937 ... 52372 58919 14521]\n"
     ]
    }
   ],
   "source": [
    "indices = np.arange(encoder_input.shape[0])\n",
    "np.random.shuffle(indices)\n",
    "print(indices)"
   ]
  },
  {
   "cell_type": "code",
   "execution_count": 36,
   "id": "2870250a",
   "metadata": {},
   "outputs": [],
   "source": [
    "encoder_input = encoder_input[indices]\n",
    "decoder_input = decoder_input[indices]\n",
    "decoder_target = decoder_target[indices]"
   ]
  },
  {
   "cell_type": "code",
   "execution_count": 37,
   "id": "3a3cfad5",
   "metadata": {},
   "outputs": [
    {
     "name": "stdout",
     "output_type": "stream",
     "text": [
      "테스트 데이터의 수:  17955\n"
     ]
    }
   ],
   "source": [
    "# 섞인 데이터 8:2로 분리\n",
    "n_of_val = int(len(encoder_input) * 0.2)\n",
    "print('테스트 데이터의 수: ',n_of_val)"
   ]
  },
  {
   "cell_type": "code",
   "execution_count": 38,
   "id": "ac0a0a38",
   "metadata": {},
   "outputs": [
    {
     "name": "stdout",
     "output_type": "stream",
     "text": [
      "훈련 데이터의 개수 : 71820\n",
      "훈련 레이블의 개수 : 71820\n",
      "테스트 데이터의 개수 : 17955\n",
      "테스트 레이블의 개수 : 17955\n"
     ]
    }
   ],
   "source": [
    "encoder_input_train = encoder_input[:-n_of_val]\n",
    "decoder_input_train = decoder_input[:-n_of_val]\n",
    "decoder_target_train = decoder_target[:-n_of_val]\n",
    "\n",
    "encoder_input_test = encoder_input[-n_of_val:]\n",
    "decoder_input_test = decoder_input[-n_of_val:]\n",
    "decoder_target_test = decoder_target[-n_of_val:]\n",
    "\n",
    "print('훈련 데이터의 개수 :', len(encoder_input_train))\n",
    "print('훈련 레이블의 개수 :', len(decoder_input_train))\n",
    "print('테스트 데이터의 개수 :', len(encoder_input_test))\n",
    "print('테스트 레이블의 개수 :', len(decoder_input_test))"
   ]
  },
  {
   "cell_type": "markdown",
   "id": "37428902",
   "metadata": {},
   "source": [
    "### 2-4. 정수 인코딩\n",
    "### 2-4-1. 훈련데이터 단어집합 생성"
   ]
  },
  {
   "cell_type": "code",
   "execution_count": 39,
   "id": "a3ce4dca",
   "metadata": {},
   "outputs": [],
   "source": [
    "# 토크나이저 정의\n",
    "src_tokenizer = Tokenizer()\n",
    "\n",
    "# 입력된 데이터로부터 단어집합 생성\n",
    "src_tokenizer.fit_on_texts(encoder_input_train)"
   ]
  },
  {
   "cell_type": "markdown",
   "id": "4a56bf66",
   "metadata": {},
   "source": [
    "단어집합 생성과 동시에 각 단어에 고유한 정수 부여됨.<br>\n",
    "단어집합은 src_tokenizer.word_index에 저장되어있다.\n",
    "<br><br>\n",
    "이 단어집합을 모두 사용하지 않고 빈도수가 낮은 단어들은 훈련 데이터에서 제외할 것이다."
   ]
  },
  {
   "cell_type": "code",
   "execution_count": 41,
   "id": "0b4e5548",
   "metadata": {},
   "outputs": [
    {
     "name": "stdout",
     "output_type": "stream",
     "text": [
      "단어 집합(vocabulary)의 크기:  65494\n",
      "등장 빈도가 6 번 이하인 희귀 단어의 수: 44524\n",
      "단어 집합에서 희귀 단어를 제외시킬 경우의 단어 집합의 크기 20970\n",
      "단어 집합에서 희귀 단어의 비율:  67.98179985952912\n",
      "전체 등장 빈도에서 희귀 단어 등장 빈도 비율:  3.6609488038308395\n"
     ]
    }
   ],
   "source": [
    "threshold = 7\n",
    "total_cnt = len(src_tokenizer.word_index) # 단어의 수\n",
    "rare_cnt = 0 \n",
    "total_freq = 0\n",
    "rare_freq = 0 \n",
    "\n",
    "for key, value in src_tokenizer.word_counts.items():\n",
    "    total_freq += value\n",
    "    \n",
    "    # 단어의 등장 빈도 수가 threshold 보다 작으면\n",
    "    if (value < threshold):\n",
    "        rare_cnt += 1\n",
    "        rare_freq += value\n",
    "        \n",
    "print('단어 집합(vocabulary)의 크기: ', total_cnt)\n",
    "print('등장 빈도가 %s 번 이하인 희귀 단어의 수: %s' %(threshold-1, rare_cnt))\n",
    "print('단어 집합에서 희귀 단어를 제외시킬 경우의 단어 집합의 크기 %s' %(total_cnt - rare_cnt))\n",
    "print('단어 집합에서 희귀 단어의 비율: ',(rare_cnt / total_cnt) * 100)\n",
    "print('전체 등장 빈도에서 희귀 단어 등장 빈도 비율: ', (rare_freq/ total_freq)*100)"
   ]
  },
  {
   "cell_type": "markdown",
   "id": "394015f1",
   "metadata": {},
   "source": [
    "단어 집합의 크기를 어림잡아 2만개로 제한한다."
   ]
  },
  {
   "cell_type": "code",
   "execution_count": 42,
   "id": "dfebbc23",
   "metadata": {},
   "outputs": [],
   "source": [
    "src_vocab = 20000\n",
    "src_tokenizer = Tokenizer(num_words = src_vocab) \n",
    "src_tokenizer.fit_on_texts(encoder_input_train)"
   ]
  },
  {
   "cell_type": "markdown",
   "id": "8557400b",
   "metadata": {},
   "source": [
    "### 2-4-2. 정수 인코딩\n",
    "text_to_sequences() : 생성된 단어집합에 기반해 입력으로 주어진 텍스트 데이터의 단어들을 모두 정수로 변환하는 정수 인코딩.<br>\n",
    "단어집합의 크기를 20,000으로 제한했으니 20,000개가 넘는 숫자들은 정수 인코딩 후 데이터에 존재하지 않는다."
   ]
  },
  {
   "cell_type": "code",
   "execution_count": 43,
   "id": "c4fa249f",
   "metadata": {
    "scrolled": false
   },
   "outputs": [
    {
     "name": "stdout",
     "output_type": "stream",
     "text": [
      "[[420, 8, 4060, 423, 7, 2692, 1700, 30, 420, 87, 12980, 4320, 993, 102, 8, 7713, 113, 111, 103, 123, 4389, 549, 443, 9835, 12980, 3, 1551, 355, 221, 4623, 514, 581, 123, 315], [578, 5279, 9836, 262, 484, 11060, 1251, 2588, 2313, 17338, 2019, 1391, 2448, 2781, 156, 19, 450, 389, 188, 9403, 1123, 3391, 1258, 110, 389, 143, 1, 17338, 2019, 7966, 2019, 3327, 490, 737, 1934], [166, 15, 122, 54, 82, 203, 4, 179, 1136, 112, 285, 572, 4836, 829, 875, 8, 1268, 2482, 56, 179, 2497, 4, 179, 1136, 112, 256, 329, 112, 1867, 3440, 56, 227, 363, 1124, 1397, 1631]]\n"
     ]
    }
   ],
   "source": [
    "# 텍스트 시퀀스를 정수 시퀀스로 변환\n",
    "encoder_input_train = src_tokenizer.texts_to_sequences(encoder_input_train)\n",
    "encoder_input_test = src_tokenizer.texts_to_sequences(encoder_input_test)\n",
    "\n",
    "# 샘플로 확인\n",
    "print(encoder_input_train[:3])"
   ]
  },
  {
   "cell_type": "code",
   "execution_count": 44,
   "id": "09e5b83d",
   "metadata": {},
   "outputs": [],
   "source": [
    "# headlines 데이터에도 적용\n",
    "tar_tokenizer = Tokenizer()\n",
    "tar_tokenizer.fit_on_texts(decoder_input_train)"
   ]
  },
  {
   "cell_type": "code",
   "execution_count": 45,
   "id": "3a04bc7f",
   "metadata": {},
   "outputs": [
    {
     "name": "stdout",
     "output_type": "stream",
     "text": [
      "단어 집합(vocabulary)의 크기 : 28815\n",
      "등장 빈도가 5번 이하인 희귀 단어의 수: 18879\n",
      "단어 집합에서 희귀 단어를 제외시킬 경우의 단어 집합의 크기 9936\n",
      "단어 집합에서 희귀 단어의 비율: 65.51795939614784\n",
      "전체 등장 빈도에서 희귀 단어 등장 빈도 비율: 4.905766999839707\n"
     ]
    }
   ],
   "source": [
    "threshold = 6\n",
    "total_cnt = len(tar_tokenizer.word_index)\n",
    "rare_cnt = 0\n",
    "total_freq = 0\n",
    "rare_freq = 0\n",
    "\n",
    "for key, value in tar_tokenizer.word_counts.items():\n",
    "    total_freq += value\n",
    "    \n",
    "    if (value < threshold):\n",
    "        rare_cnt += 1\n",
    "        rare_freq += value\n",
    "        \n",
    "print('단어 집합(vocabulary)의 크기 :', total_cnt)\n",
    "print('등장 빈도가 %s번 이하인 희귀 단어의 수: %s'%(threshold - 1, rare_cnt))\n",
    "print('단어 집합에서 희귀 단어를 제외시킬 경우의 단어 집합의 크기 %s'%(total_cnt - rare_cnt))\n",
    "print(\"단어 집합에서 희귀 단어의 비율:\", (rare_cnt / total_cnt)*100)\n",
    "print(\"전체 등장 빈도에서 희귀 단어 등장 빈도 비율:\", (rare_freq / total_freq)*100)"
   ]
  },
  {
   "cell_type": "code",
   "execution_count": 46,
   "id": "d57cb7bb",
   "metadata": {},
   "outputs": [
    {
     "name": "stdout",
     "output_type": "stream",
     "text": [
      "input\n",
      "input  [[1, 208, 22, 7230, 3, 68, 76, 49, 209, 69, 7231], [1, 465, 761, 803, 2148, 3, 3536], [1, 23, 1668, 42, 217, 9, 130, 1388, 132], [1, 1821, 411, 4269, 6, 36, 27], [1, 497, 851, 332, 2875, 189, 7782, 1716, 12, 26, 184]]\n",
      "target\n",
      "target  [[208, 22, 7230, 3, 68, 76, 49, 209, 69, 7231, 2], [465, 761, 803, 2148, 3, 3536, 2], [23, 1668, 42, 217, 9, 130, 1388, 132, 2], [1821, 411, 4269, 6, 36, 27, 2], [497, 851, 332, 2875, 189, 7782, 1716, 12, 26, 184, 2]]\n"
     ]
    }
   ],
   "source": [
    "tar_vocab = 9900\n",
    "tar_tokenizer = Tokenizer(num_words = tar_vocab)\n",
    "tar_tokenizer.fit_on_texts(decoder_input_train)\n",
    "tar_tokenizer.fit_on_texts(decoder_target_train)\n",
    "\n",
    "# 텍스트 -> 정수 시퀀스로 변환\n",
    "decoder_input_train = tar_tokenizer.texts_to_sequences(decoder_input_train)\n",
    "decoder_target_train = tar_tokenizer.texts_to_sequences(decoder_target_train)\n",
    "decoder_input_test = tar_tokenizer.texts_to_sequences(decoder_input_test)\n",
    "decoder_target_test = tar_tokenizer.texts_to_sequences(decoder_target_test)\n",
    "\n",
    "# 확인\n",
    "print('input')\n",
    "print('input ', decoder_input_train[:5])\n",
    "print('target')\n",
    "print('target ', decoder_target_train[:5])"
   ]
  },
  {
   "cell_type": "markdown",
   "id": "bf1e45c5",
   "metadata": {},
   "source": [
    "단어사전 때문에 headlines에서 길이가 0이 된 샘플들은 토큰 때문에 길이가 1로 나온다. 이 경우의 인덱스를 변수에 저장해서 삭제한다. <b>==>> 살펴보니 없었다.</b> "
   ]
  },
  {
   "cell_type": "code",
   "execution_count": 47,
   "id": "94c41afd",
   "metadata": {},
   "outputs": [
    {
     "name": "stdout",
     "output_type": "stream",
     "text": [
      "삭제할 훈련 데이터 개수:  0\n",
      "삭제할 테스트 데이터 개수:  0\n"
     ]
    }
   ],
   "source": [
    "drop_train = [index for index, sentence in enumerate(decoder_input_train) if len(sentence) == 1]\n",
    "drop_test = [index for index, sentence in enumerate(decoder_target_train) if len(sentence) == 1]\n",
    "\n",
    "print('삭제할 훈련 데이터 개수: ', len(drop_train))\n",
    "print('삭제할 테스트 데이터 개수: ', len(drop_test))"
   ]
  },
  {
   "cell_type": "markdown",
   "id": "992ffe72",
   "metadata": {},
   "source": [
    "### 2-4-3. 패딩하기\n",
    "서로 다른 길이의 샘플들을 병렬 처리하기 위해 같은 길이로 맞춰주는 작업을 해준다. 아까 정해둔 최대길이로 패딩한다. 최대길이보다 짧은 데이터들은 숫자 0을 넣어 길이를 맞춰준다."
   ]
  },
  {
   "cell_type": "code",
   "execution_count": 48,
   "id": "275da702",
   "metadata": {},
   "outputs": [],
   "source": [
    "encoder_input_train = pad_sequences(encoder_input_train, maxlen=text_max_len, padding='post')\n",
    "encoder_input_test = pad_sequences(encoder_input_test, maxlen = text_max_len, padding='post')\n",
    "\n",
    "decoder_input_train = pad_sequences(decoder_input_train, maxlen=headlines_max_len, padding='post')\n",
    "decoder_target_train = pad_sequences(decoder_target_train, maxlen=headlines_max_len, padding='post')\n",
    "decoder_input_test = pad_sequences(decoder_input_test, maxlen=headlines_max_len, padding='post')\n",
    "decoder_target_test = pad_sequences(decoder_target_test, maxlen=headlines_max_len, padding='post')"
   ]
  },
  {
   "cell_type": "markdown",
   "id": "41227559",
   "metadata": {},
   "source": [
    "## 3. 어텐션 메커니즘 사용하기\n",
    "### 3-1. 인코더 설계"
   ]
  },
  {
   "cell_type": "code",
   "execution_count": 49,
   "id": "6bad98ee",
   "metadata": {},
   "outputs": [
    {
     "name": "stdout",
     "output_type": "stream",
     "text": [
      "WARNING:tensorflow:Layer lstm will not use cuDNN kernels since it doesn't meet the criteria. It will use a generic GPU kernel as fallback when running on GPU.\n",
      "WARNING:tensorflow:Layer lstm_1 will not use cuDNN kernels since it doesn't meet the criteria. It will use a generic GPU kernel as fallback when running on GPU.\n",
      "WARNING:tensorflow:Layer lstm_2 will not use cuDNN kernels since it doesn't meet the criteria. It will use a generic GPU kernel as fallback when running on GPU.\n"
     ]
    }
   ],
   "source": [
    "from tensorflow.keras.layers import Input, LSTM, Embedding, Dense, Concatenate, TimeDistributed\n",
    "from tensorflow.keras.models import Model\n",
    "from tensorflow.keras.callbacks import EarlyStopping, ModelCheckpoint\n",
    "\n",
    "# 인코더 설계 시작\n",
    "embedding_dim = 128\n",
    "hidden_size = 256\n",
    "\n",
    "# 인코더\n",
    "encoder_inputs = Input(shape=(text_max_len,))\n",
    "\n",
    "# 인코더의 임베딩 층\n",
    "enc_emb = Embedding(src_vocab, embedding_dim)(encoder_inputs)\n",
    "\n",
    "# 인코더의 LSTM 1\n",
    "encoder_lstm1 = LSTM(hidden_size,\n",
    "                    return_sequences=True,\n",
    "                    return_state=True,\n",
    "                    dropout=0.4,\n",
    "                    recurrent_dropout = 0.4)\n",
    "encoder_output1, state_h1, state_c1 = encoder_lstm1(enc_emb)\n",
    "\n",
    "# 인코더의 LSTM 2\n",
    "encoder_lstm2 = LSTM(hidden_size,\n",
    "                    return_sequences=True,\n",
    "                    return_state=True,\n",
    "                    dropout=0.4,\n",
    "                    recurrent_dropout=0.4)\n",
    "encoder_output2, state_h2, state_c2 = encoder_lstm2(encoder_output1)\n",
    "\n",
    "# 인코더의 LSTM 3\n",
    "encoder_lstm3 = LSTM(hidden_size,\n",
    "                    return_sequences=True,\n",
    "                    return_state=True,\n",
    "                    dropout=0.4,\n",
    "                    recurrent_dropout=0.4)\n",
    "encoder_outputs, state_h, state_c = encoder_lstm3(encoder_output2)"
   ]
  },
  {
   "cell_type": "markdown",
   "id": "31e83944",
   "metadata": {},
   "source": [
    "### 3-2. 디코더 설계"
   ]
  },
  {
   "cell_type": "code",
   "execution_count": 50,
   "id": "38116a4b",
   "metadata": {},
   "outputs": [
    {
     "name": "stdout",
     "output_type": "stream",
     "text": [
      "WARNING:tensorflow:Layer lstm_3 will not use cuDNN kernels since it doesn't meet the criteria. It will use a generic GPU kernel as fallback when running on GPU.\n"
     ]
    }
   ],
   "source": [
    "# 디코더 설계\n",
    "decoder_inputs = Input(shape=(None,))\n",
    "\n",
    "# 디코더의 임베딩 층\n",
    "dec_emb_layer = Embedding(tar_vocab, embedding_dim)\n",
    "dec_emb = dec_emb_layer(decoder_inputs)\n",
    "\n",
    "# 디코더의 LSTM\n",
    "decoder_lstm = LSTM(hidden_size,\n",
    "                   return_sequences=True,\n",
    "                   return_state=True,\n",
    "                   dropout=0.4,\n",
    "                   recurrent_dropout=0.2)\n",
    "decoder_outputs, _, _ = decoder_lstm(dec_emb, initial_state=[state_h, state_c])"
   ]
  },
  {
   "cell_type": "code",
   "execution_count": 51,
   "id": "fe38e414",
   "metadata": {},
   "outputs": [],
   "source": [
    "# 디코더의 출력층\n",
    "decoder_softmax_layer = Dense(tar_vocab, activation='softmax')\n",
    "decoder_softmax_outputs = decoder_softmax_layer(decoder_outputs)"
   ]
  },
  {
   "cell_type": "markdown",
   "id": "7f420963",
   "metadata": {},
   "source": [
    "### 3-3. 어텐션 메커니즘"
   ]
  },
  {
   "cell_type": "code",
   "execution_count": 52,
   "id": "f116593b",
   "metadata": {},
   "outputs": [
    {
     "name": "stdout",
     "output_type": "stream",
     "text": [
      "Model: \"model\"\n",
      "__________________________________________________________________________________________________\n",
      "Layer (type)                    Output Shape         Param #     Connected to                     \n",
      "==================================================================================================\n",
      "input_1 (InputLayer)            [(None, 40)]         0                                            \n",
      "__________________________________________________________________________________________________\n",
      "embedding (Embedding)           (None, 40, 128)      2560000     input_1[0][0]                    \n",
      "__________________________________________________________________________________________________\n",
      "lstm (LSTM)                     [(None, 40, 256), (N 394240      embedding[0][0]                  \n",
      "__________________________________________________________________________________________________\n",
      "input_2 (InputLayer)            [(None, None)]       0                                            \n",
      "__________________________________________________________________________________________________\n",
      "lstm_1 (LSTM)                   [(None, 40, 256), (N 525312      lstm[0][0]                       \n",
      "__________________________________________________________________________________________________\n",
      "embedding_1 (Embedding)         (None, None, 128)    1267200     input_2[0][0]                    \n",
      "__________________________________________________________________________________________________\n",
      "lstm_2 (LSTM)                   [(None, 40, 256), (N 525312      lstm_1[0][0]                     \n",
      "__________________________________________________________________________________________________\n",
      "lstm_3 (LSTM)                   [(None, None, 256),  394240      embedding_1[0][0]                \n",
      "                                                                 lstm_2[0][1]                     \n",
      "                                                                 lstm_2[0][2]                     \n",
      "__________________________________________________________________________________________________\n",
      "attention_layer (AdditiveAttent (None, None, 256)    256         lstm_3[0][0]                     \n",
      "                                                                 lstm_2[0][0]                     \n",
      "__________________________________________________________________________________________________\n",
      "concat_layer (Concatenate)      (None, None, 512)    0           lstm_3[0][0]                     \n",
      "                                                                 attention_layer[0][0]            \n",
      "__________________________________________________________________________________________________\n",
      "dense_1 (Dense)                 (None, None, 9900)   5078700     concat_layer[0][0]               \n",
      "==================================================================================================\n",
      "Total params: 10,745,260\n",
      "Trainable params: 10,745,260\n",
      "Non-trainable params: 0\n",
      "__________________________________________________________________________________________________\n"
     ]
    }
   ],
   "source": [
    "from tensorflow.keras.layers import AdditiveAttention\n",
    "\n",
    "# 어텐션 층 (어텐션 함수)\n",
    "attn_layer = AdditiveAttention(name = 'attention_layer')\n",
    "\n",
    "# 인코더와 디코더의 모든 time step의 hidden state를 어텐션 층에 전달하고 결과를 리턴\n",
    "attn_out = attn_layer([decoder_outputs, encoder_outputs])\n",
    "\n",
    "# 어텐션의 결과와 디코더의 hidden state들을 연결\n",
    "decoder_concat_input = Concatenate(axis=-1, name = 'concat_layer')([decoder_outputs, attn_out])\n",
    "\n",
    "# 디코더의 출력층 \n",
    "decoder_softmax_layer = Dense(tar_vocab, activation='softmax')\n",
    "decoder_softmax_outputs = decoder_softmax_layer(decoder_concat_input)\n",
    "\n",
    "# 모델 정의\n",
    "model = Model([encoder_inputs, decoder_inputs], decoder_softmax_outputs)\n",
    "model.summary()"
   ]
  },
  {
   "cell_type": "markdown",
   "id": "362743c7",
   "metadata": {},
   "source": [
    "### 3-4. 모델 훈련하기"
   ]
  },
  {
   "cell_type": "code",
   "execution_count": 54,
   "id": "08d79168",
   "metadata": {},
   "outputs": [
    {
     "name": "stdout",
     "output_type": "stream",
     "text": [
      "Epoch 1/50\n",
      "281/281 [==============================] - 177s 571ms/step - loss: 5.6450 - val_loss: 5.2212\n",
      "Epoch 2/50\n",
      "281/281 [==============================] - 160s 568ms/step - loss: 5.1037 - val_loss: 4.8774\n",
      "Epoch 3/50\n",
      "281/281 [==============================] - 160s 569ms/step - loss: 4.7594 - val_loss: 4.6113\n",
      "Epoch 4/50\n",
      "281/281 [==============================] - 159s 567ms/step - loss: 4.4928 - val_loss: 4.4037\n",
      "Epoch 5/50\n",
      "281/281 [==============================] - 159s 566ms/step - loss: 4.2913 - val_loss: 4.2691\n",
      "Epoch 6/50\n",
      "281/281 [==============================] - 160s 568ms/step - loss: 4.1275 - val_loss: 4.1660\n",
      "Epoch 7/50\n",
      "281/281 [==============================] - 159s 567ms/step - loss: 3.9839 - val_loss: 4.0873\n",
      "Epoch 8/50\n",
      "281/281 [==============================] - 159s 567ms/step - loss: 3.8589 - val_loss: 4.0011\n",
      "Epoch 9/50\n",
      "281/281 [==============================] - 160s 570ms/step - loss: 3.7452 - val_loss: 3.9597\n",
      "Epoch 10/50\n",
      "281/281 [==============================] - 160s 569ms/step - loss: 3.6461 - val_loss: 3.8924\n",
      "Epoch 11/50\n",
      "281/281 [==============================] - 159s 566ms/step - loss: 3.5576 - val_loss: 3.8531\n",
      "Epoch 12/50\n",
      "281/281 [==============================] - 160s 569ms/step - loss: 3.4746 - val_loss: 3.8173\n",
      "Epoch 13/50\n",
      "281/281 [==============================] - 159s 568ms/step - loss: 3.4002 - val_loss: 3.7892\n",
      "Epoch 14/50\n",
      "281/281 [==============================] - 160s 568ms/step - loss: 3.3318 - val_loss: 3.7606\n",
      "Epoch 15/50\n",
      "281/281 [==============================] - 160s 569ms/step - loss: 3.2710 - val_loss: 3.7403\n",
      "Epoch 16/50\n",
      "281/281 [==============================] - 159s 567ms/step - loss: 3.2163 - val_loss: 3.7272\n",
      "Epoch 17/50\n",
      "281/281 [==============================] - 159s 567ms/step - loss: 3.1622 - val_loss: 3.7051\n",
      "Epoch 18/50\n",
      "281/281 [==============================] - 159s 566ms/step - loss: 3.1106 - val_loss: 3.6984\n",
      "Epoch 19/50\n",
      "281/281 [==============================] - 159s 566ms/step - loss: 3.0601 - val_loss: 3.6944\n",
      "Epoch 20/50\n",
      "281/281 [==============================] - 159s 568ms/step - loss: 3.0156 - val_loss: 3.6729\n",
      "Epoch 21/50\n",
      "281/281 [==============================] - 160s 571ms/step - loss: 2.9736 - val_loss: 3.6662\n",
      "Epoch 22/50\n",
      "281/281 [==============================] - 160s 568ms/step - loss: 2.9336 - val_loss: 3.6588\n",
      "Epoch 23/50\n",
      "281/281 [==============================] - 159s 567ms/step - loss: 2.8939 - val_loss: 3.6566\n",
      "Epoch 24/50\n",
      "281/281 [==============================] - 160s 568ms/step - loss: 2.8569 - val_loss: 3.6498\n",
      "Epoch 25/50\n",
      "281/281 [==============================] - 160s 568ms/step - loss: 2.8216 - val_loss: 3.6487\n",
      "Epoch 26/50\n",
      "281/281 [==============================] - 160s 569ms/step - loss: 2.7895 - val_loss: 3.6431\n",
      "Epoch 27/50\n",
      "281/281 [==============================] - 159s 565ms/step - loss: 2.7554 - val_loss: 3.6450\n",
      "Epoch 28/50\n",
      "281/281 [==============================] - 159s 565ms/step - loss: 2.7245 - val_loss: 3.6452\n",
      "Epoch 00028: early stopping\n"
     ]
    }
   ],
   "source": [
    "model.compile(optimizer='rmsprop',\n",
    "             loss='sparse_categorical_crossentropy')\n",
    "\n",
    "es = EarlyStopping(monitor='val_loss', patience=2, verbose=1)\n",
    "\n",
    "history = model.fit(x=[encoder_input_train, decoder_input_train], y = decoder_target_train, \\\n",
    "                   validation_data = ([encoder_input_test, decoder_input_test], decoder_target_test),\\\n",
    "                   batch_size=256, callbacks=[es], epochs=50)"
   ]
  },
  {
   "cell_type": "code",
   "execution_count": 55,
   "id": "d12869be",
   "metadata": {},
   "outputs": [
    {
     "data": {
      "image/png": "[encoded data removed]",
      "text/plain": [
       "<Figure size 432x288 with 1 Axes>"
      ]
     },
     "metadata": {
      "needs_background": "light"
     },
     "output_type": "display_data"
    }
   ],
   "source": [
    "# 훈련 데이터의 손실과 검증 데이터의 손실이 줄어드는 과정 시각화\n",
    "plt.plot(history.history['loss'], label='train')\n",
    "plt.plot(history.history['val_loss'], label='test')\n",
    "plt.legend()\n",
    "plt.show()"
   ]
  },
  {
   "cell_type": "markdown",
   "id": "b793f284",
   "metadata": {},
   "source": [
    "### 3-5. 인퍼런스 모델 구현하기"
   ]
  },
  {
   "cell_type": "code",
   "execution_count": 56,
   "id": "5cbe8237",
   "metadata": {},
   "outputs": [],
   "source": [
    "# 원문 단어 집합에서 정수 -> 단어 얻음\n",
    "src_index_to_word = src_tokenizer.index_word\n",
    "\n",
    "# 요약 단어 집합에서 단어 -> 정수 얻음\n",
    "tar_word_to_index = tar_tokenizer.word_index\n",
    "\n",
    "# 요약 단어 집합에서 정수 -> 단어 얻음\n",
    "tar_index_to_word = tar_tokenizer.index_word"
   ]
  },
  {
   "cell_type": "markdown",
   "id": "0bb6e0d5",
   "metadata": {},
   "source": [
    "### 3-5-1. 인코더 설계"
   ]
  },
  {
   "cell_type": "code",
   "execution_count": 57,
   "id": "690a6072",
   "metadata": {},
   "outputs": [],
   "source": [
    "# 인코더 설계 \n",
    "encoder_model = Model(inputs = encoder_inputs, outputs = [encoder_outputs, state_h, state_c])\n",
    "\n",
    "# 이전 시점의 상태들을 저장하는 텐서\n",
    "decoder_state_input_h = Input(shape=(hidden_size,))\n",
    "decoder_state_input_c = Input(shape=(hidden_size,))\n",
    "\n",
    "dec_emb2 = dec_emb_layer(decoder_inputs)\n",
    "\n",
    "# 문장의 다음 단어를 예측하기 위해서 초기상태(initial_state)를 이전 시점의 상태로 사용.\n",
    "# 이는 뒤의 함수 decode_sequence()에 구현\n",
    "# 훈련 과정에서와 달리 LSTM의 리턴하는 은닉 상태와 셀 상태인\n",
    "# state_h와 state_c를 버리지 않음. \n",
    "\n",
    "decoder_outputs2, state_h2, state_c2 = decoder_lstm(dec_emb2, initial_state=[decoder_state_input_h, decoder_state_input_c])\n"
   ]
  },
  {
   "cell_type": "markdown",
   "id": "a3f86387",
   "metadata": {},
   "source": [
    "### 3-5-2. 어텐션 메커니즘 사용하는 출력층 설계"
   ]
  },
  {
   "cell_type": "code",
   "execution_count": 58,
   "id": "a88c962f",
   "metadata": {},
   "outputs": [],
   "source": [
    "# 어텐션 함수\n",
    "decoder_hidden_state_input = Input(shape=(text_max_len, hidden_size))\n",
    "attn_out_inf = attn_layer([decoder_outputs2, decoder_hidden_state_input])\n",
    "decoder_inf_concat = Concatenate(axis=-1, name='concat')([decoder_outputs2, attn_out_inf])\n",
    "\n",
    "# 디코더의 출력층\n",
    "decoder_outputs2 = decoder_softmax_layer(decoder_inf_concat)\n",
    "\n",
    "# 최종 디코더 모델\n",
    "decoder_model = Model([decoder_inputs] + [decoder_hidden_state_input, decoder_state_input_h, decoder_state_input_c],\n",
    "                     [decoder_outputs2] + [state_h2, state_c2])"
   ]
  },
  {
   "cell_type": "markdown",
   "id": "cdb4c6b4",
   "metadata": {},
   "source": [
    "인퍼런스 단게에서 단어 시퀀스를 완성하는 함수 만들기"
   ]
  },
  {
   "cell_type": "code",
   "execution_count": 59,
   "id": "b60a8ad0",
   "metadata": {},
   "outputs": [],
   "source": [
    "def decode_sequence(input_seq):\n",
    "    # 입력으로부터 인코더의 상태 얻음\n",
    "    e_out, e_h, e_c = encoder_model.predict(input_seq)\n",
    "    \n",
    "    # <sos>에 해당하는 토큰 생성\n",
    "    target_seq = np.zeros((1,1))\n",
    "    target_seq[0,0] = tar_word_to_index['sostoken']\n",
    "    \n",
    "    stop_condition = False\n",
    "    decoded_sentence = ''\n",
    "    while not stop_condition:\n",
    "        \n",
    "        output_tokens, h, c = decoder_model.predict([target_seq] + [e_out, e_h, e_c])\n",
    "        sampled_token_index = np.argmax(output_tokens[0, -1, :])\n",
    "        sampled_token = tar_index_to_word[sampled_token_index]\n",
    "        \n",
    "        if (sampled_token != 'eostoken'):\n",
    "            decoded_sentence += ' ' + sampled_token\n",
    "            \n",
    "        # <eos>에 도달하거나 최대 길이를 넘으면 중단\n",
    "        if (sampled_token == 'eostoken' or len(decoded_sentence.split()) >= (headlines_max_len - 1)):\n",
    "            stop_condition = True\n",
    "            \n",
    "        # 길이가 1 인 타겟 시퀀스 업데이트\n",
    "        target_seq = np.zeros((1,1))\n",
    "        target_seq[0,0] = sampled_token_index\n",
    "        \n",
    "        # 상태 업데이트\n",
    "        e_h, e_c = h, c\n",
    "    \n",
    "    return decoded_sentence"
   ]
  },
  {
   "cell_type": "markdown",
   "id": "f8076e7d",
   "metadata": {},
   "source": [
    "### 3-6. 모델 테스트"
   ]
  },
  {
   "cell_type": "code",
   "execution_count": 60,
   "id": "6ad84a12",
   "metadata": {},
   "outputs": [],
   "source": [
    "# 원문의 정수 시퀀스를 텍스트 시퀀스로 변환\n",
    "def seq2text(input_seq):\n",
    "    temp = ''\n",
    "    for i in input_seq:\n",
    "        if (i != 0):\n",
    "            temp = temp + src_index_to_word[i] + ' '\n",
    "    return temp\n",
    "\n",
    "# 헤드라인의 정수 시퀀스를 텍스트 시퀀스로 변환\n",
    "def seq2headlines(input_seq):\n",
    "    temp = ''\n",
    "    for i in input_seq:\n",
    "        if ((i != 0 and i != tar_word_to_index['sostoken']) and i != tar_word_to_index['eostoken']):\n",
    "            temp = temp + tar_index_to_word[i] + ' '\n",
    "    return temp"
   ]
  },
  {
   "cell_type": "markdown",
   "id": "9928198b",
   "metadata": {},
   "source": [
    "## 4. 실제 결과와 요약문 비교하기"
   ]
  },
  {
   "cell_type": "code",
   "execution_count": 61,
   "id": "b3dc412d",
   "metadata": {},
   "outputs": [
    {
     "name": "stdout",
     "output_type": "stream",
     "text": [
      "원문:  first day delhi government doorstep delivery services programme monday around calls made service helpline number total calls made answered operators duty total appointments booked documents seven collected \n",
      "실제 요약:  calls made for delhi doorstep delivery service on day \n",
      "예측 요약:   delhi to introduce online services for next year\n",
      "\n",
      "\n",
      "원문:  formula known long structure determined arranging six carbon six hydrogen atoms without violating rules chemistry seem possible however german august presenting research claimed discovered ring structure dream snake biting tail \n",
      "실제 요약:  idea of ring structure is based on dream about snake \n",
      "예측 요약:   japanese town turns off after years\n",
      "\n",
      "\n",
      "원문:  dismissed complaining poor quality food served soldiers former bsf jawan tej bahadur yadav wednesday said happens say truth however stated would appeal dismissal high court hope get justice full faith judiciary added \n",
      "실제 요약:  this is what happens when you say truth tej bahadur yadav \n",
      "예측 요약:   am not to be sacked for sikh workers cong leader\n",
      "\n",
      "\n",
      "원문:  terming fir army death three civilians shopian unfortunate northern army commander lieutenant general said army provoked ultimate adding generic fir lodged instead said sure investigate truth come \n",
      "실제 요약:  to army on civilian deaths \n",
      "예측 요약:   army major army chief of surgical strikes\n",
      "\n",
      "\n",
      "원문:  attacks saw increase last year billion according report us security company report also said also corresponding increase new ransomware variants common vulnerabilities found related network attacks report added \n",
      "실제 요약:  malware attacks rose to billion in report \n",
      "예측 요약:   us to give billion to billion in india\n",
      "\n",
      "\n",
      "원문:  ahead donald trump state visit uk sheffield lord mayor called us president barred visiting city adding city tolerate racism said world leader trump lot weight fight hate \n",
      "실제 요약:  uk mayor calls trump bans him from city \n",
      "예측 요약:   trump visits temple for wearing nazi muslim\n",
      "\n",
      "\n",
      "원문:  bombay high court recently said differences spouses could qualify normal wear tear married life cannot become grounds divorce court order came dismissing appeal filed man seeking divorce wife owing nature persistent demand separate home \n",
      "실제 요약:  differences no ground for divorce bombay hc \n",
      "예측 요약:   cannot stop delay in delhi hc on marriage\n",
      "\n",
      "\n",
      "원문:  amid economic crisis argentina central bank thursday raised benchmark interest percentage points highest world argentine year dollar country inflation running president asked early release billion loan imf \n",
      "실제 요약:  argentina hikes interest rate to highest in the world \n",
      "예측 요약:   rbi keeps repo rate at all time in second quarter\n",
      "\n",
      "\n",
      "원문:  minister state railways rajen gohain said content demand policy pre loaded audio video content provided personal devices passengers trains including shatabdi rajdhani express trains however ministry aims monetise service part efforts increase non fare revenue current \n",
      "실제 요약:  govt to provide on demand entertainment on trains \n",
      "예측 요약:   railways to install gps safety trains in trains\n",
      "\n",
      "\n",
      "원문:  australian tennis player bernard tomic faked injury wimbledon first round match take time fined conduct year old confessed faked injury feeling bad bored tomic crashed first round added tennis satisfy \n",
      "실제 요약:  player fined for faking injury as he was bored \n",
      "예측 요약:   tennis player once banned for not having ball in match\n",
      "\n",
      "\n",
      "원문:  batsman hanuma vihari become first andhra cricketer years picked india test squad year old right handed batsman first class average highest among contemporary cricketers slammed hundreds fifties domestic cricket across formats last eight years \n",
      "실제 요약:  who is vihari uncapped batsman in india test squad \n",
      "예측 요약:   who is the first ever cricketer in cricket history\n",
      "\n",
      "\n",
      "원문:  video showing car blocking traffic allow elderly woman cross road china gone viral woman waiting zebra crossing unable cross road due traffic flow following driver car block road facebook users wrote faith humanity salute excellent \n",
      "실제 요약:  video car blocks traffic to let elderly woman cross road \n",
      "예측 요약:   video shows woman in car goes viral\n",
      "\n",
      "\n",
      "원문:  bar italian city milan capable seating four guests named four square metre establishment claims smallest bar world wears guy mask also serves cocktails customers street via slot window \n",
      "실제 요약:  milan bar seats only guests claims to be world smallest \n",
      "예측 요약:   german hotel to open on sale for the world\n",
      "\n",
      "\n",
      "원문:  barcelona midfielder currently loan ba ak banned record matches pushing insulting threatening turkish league match year old sent assistant referee decision also handed lakh fine thrown boot direction \n",
      "실제 요약:  bar handed record match ban for pushing \n",
      "예측 요약:   footballer fined for not over lakh\n",
      "\n",
      "\n",
      "원문:  singer arun revealed stalked early stages career adding would ask people go received time memories still fresh effect stalking said singer added important everyone raise voice stalking fear \n",
      "실제 요약:  would ask people to check my mail singer on being \n",
      "예측 요약:   have been treated for years ago\n",
      "\n",
      "\n",
      "원문:  real estate firm jaypee associates deposited crore supreme court registry ordered deposit amount december court said allowing group pay crore instalments aimed protecting interest homebuyers sc also refused grant time deposit another crore \n",
      "실제 요약:  jaypee deposits crore in supreme court \n",
      "예측 요약:   unitech moves sc to pay cr to homebuyers\n",
      "\n",
      "\n",
      "원문:  congress leader chidambaram said prime minister narendra modi campaign poll bound gujarat past answer question price rise adding gujarat election promised achhe din come months said pm modi answer hard reality \n",
      "실제 요약:  pm modi campaign in gujarat is about himself chidambaram \n",
      "예측 요약:   pm modi is not corruption charges chidambaram\n",
      "\n",
      "\n",
      "원문:  poor attendance picking fights class student private school haryana shot school principal three times office used father revolver shoot principal ritu died hospital police said youth detained investigation underway \n",
      "실제 요약:  haryana principal dies after being shot by student in school \n",
      "예측 요약:   class student molested by class school in haryana\n",
      "\n",
      "\n",
      "원문:  least people killed others injured suicide bombing outside st mark church egypt according reports follows explosion inside church killed least people injured others islamic state reportedly claimed responsibility bombings \n",
      "실제 요약:  killed injured in second egyptian church blast \n",
      "예측 요약:   killed injured in suicide bombing in us\n",
      "\n",
      "\n",
      "원문:  actor jaaferi said people tend actors way problem whatever works becomes successful people begin comedy successful comedy action added said one kind actor \n",
      "실제 요약:  it is when people try to you \n",
      "예측 요약:   people should be as people to be made\n",
      "\n",
      "\n",
      "원문:  child actor zaira wasim starred dangal said dying work aamir khan never wanted actress however added even dangal close become family zaira said still kind person watch films \n",
      "실제 요약:  it was not that was dying to work with aamir says zaira \n",
      "예측 요약:   will not be aamir khan on film aamir\n",
      "\n",
      "\n",
      "원문:  youtube deleted viral singer dhinchak pooja videos user tweeted kill dhinchak pooja songs another wrote youtube deleted dhinchak pooja videos copyright issue means someone creating music yet identified meanwhile another tweet read singh whoever nation owes one \n",
      "실제 요약:  why did kill dhinchak pooja songs tweets user \n",
      "예측 요약:   dhinchak pooja on pooja pooja on youtube\n",
      "\n",
      "\n",
      "원문:  indian railways planning provide video content free wifi major indian languages around passenger trains plan likely fetch crore annually plan passengers able watch content phones logging railways local wi fi network onboard nn \n",
      "실제 요약:  railways likely to earn crore from wifi video facility \n",
      "예측 요약:   railways to install gps of trains in trains\n",
      "\n",
      "\n",
      "원문:  criticising indian captain virat kohli suggesting fan leave india liking indian cricketers actor siddharth tweeted set words come india captain want remain may time teach think would dravid say speaking added fan termed kohli \n",
      "실제 요약:  set of words actor siddharth on kohli leave india remark \n",
      "예측 요약:   kohli is not let me he is not indian players kohli\n",
      "\n",
      "\n",
      "원문:  actor hrithik roshan speaking picture kangana ranaut party surfaced online said old hindi film posters picture came exposed next day everyone present party something fun added \n",
      "실제 요약:  pic with kangana was of old film posters hrithik \n",
      "예측 요약:   hrithik apologises for kangana for his sister\n",
      "\n",
      "\n",
      "원문:  facebook owned chat app whatsapp revealed india top user video calling feature terms time spent indians make total crore minutes video calls whatsapp daily company said whatsapp video calling feature launched november across platforms ios android windows \n",
      "실제 요약:  india top user of whatsapp video calls in months of launch \n",
      "예측 요약:   whatsapp to let users share photos on whatsapp in india\n",
      "\n",
      "\n",
      "원문:  president ram nath kovind said youth get carried away technology added pursuit excellence key factor dominate minds future generations said delivering lecture university youth technology ideas shaping st century nn \n",
      "실제 요약:  youth should not be carried away by of tech prez \n",
      "예측 요약:   prez kovind has become president kovind\n",
      "\n",
      "\n",
      "원문:  chopped body parts woman found stuffed sack scattered near outer delhi said police police said ruled sexual assault suspect killed least week ago compiled data women reported missing part probe \n",
      "실제 요약:  chopped body of woman found stuffed in in delhi \n",
      "예측 요약:   headless body found inside police station in delhi\n",
      "\n",
      "\n",
      "원문:  serbia novak djokovic caught tennis ball directly shorts pocket playing argentina juan mart del potro rome masters friday del potro hit ball high air towards djokovic court ball left pocket later argentine hit another lofted ball djokovic pocket \n",
      "실제 요약:  djokovic catches ball directly in his shorts pocket \n",
      "예측 요약:   federer wears tennis player with tennis player\n",
      "\n",
      "\n",
      "원문:  per reports actor sidharth malhotra seen playing role ekta kapoor upcoming film shotgun shaadi film reportedly also stars shraddha kapoor based groom kidnapping practice said prevalent north india sidharth said started taking classes master bihari \n",
      "실제 요약:  sidharth malhotra to play in shaadi report \n",
      "예측 요약:   sidharth sidharth to star in salman sidharth report\n",
      "\n",
      "\n",
      "원문:  fifa world cup first ever fifa tournament hosted india kicked india participating first ever fifa tournament start campaign usa delhi pm friday tournament th edition defending champions nigeria playing since unable qualify \n",
      "실제 요약:  india first ever fifa tournament world cup kicks off \n",
      "예측 요약:   fifa wc to get world cup semi finals\n",
      "\n",
      "\n",
      "원문:  dead body year old man carried hill son police officials karnataka locals refused help locals reportedly refused carry body believed touch corpse ritual observing meanwhile reward announced police officials \n",
      "실제 요약:  cops carry body of year old down hill after locals refuse \n",
      "예측 요약:   man shot dead by wife in haryana\n",
      "\n",
      "\n",
      "원문:  former rajya sabha mp president odisha jana morcha party mohan mohapatra passed away sunday following prolonged illness year old leader also known odisha politics mohapatra former ias officer batch also served principal secretary former chief minister biju patnaik \n",
      "실제 요약:  of odisha politics passes away at \n",
      "예측 요약:   ex himachal cm naidu passes away at age of\n",
      "\n",
      "\n",
      "원문:  driverless train engine rolled track almost metres railway station delhi saturday incident may caused failure hand brake northern railway spokesperson said driver suspended enquiry ordered spokesperson added \n",
      "실제 요약:  train engine rolls down track in delhi on its own derails \n",
      "예측 요약:   train to train for people in train engine\n",
      "\n",
      "\n",
      "원문:  singer sonu nigam said national anthem pakistan played pakistanis standing also stand respect country talking india national anthem added national anthem prestigious sensitive thing think played certain places like movie theatres restaurants \n",
      "실제 요약:  will stand for pakistan national anthem too sonu nigam \n",
      "예측 요약:   will not be allowed to play in india aamir chief\n",
      "\n",
      "\n",
      "원문:  officials haryana caught students cheating board exams one student hiding mobile phone hollow cardboard another keeping bluetooth device turban students devote time planning cheat actually study board enough manpower deal students chairman haryana board singh said \n",
      "실제 요약:  kids hide phone in cardboard bluetooth in turban for exams \n",
      "예측 요약:   students fail to question class exam on exam papers\n",
      "\n",
      "\n",
      "원문:  winning record eleventh french open title paris sunday spain year old world number one rafael nadal said age thought would retired family nadal three grand slams less time grand slam winner roger federer said obviously would like titles like federer \n",
      "실제 요약:  at this age thought be retired and have family nadal \n",
      "예측 요약:   world no nadal has no longer nadal in years ago\n",
      "\n",
      "\n",
      "원문:  slamming nda government economic policies depreciating value rupee us dollar former union finance minister yashwant sinha claimed country misled fake bogus economic data added kind complete mismanagement economy seeing last four years never seen \n",
      "실제 요약:  india being misled with fake economic data yashwant sinha \n",
      "예측 요약:   rbi guv blames india for not paying economy to rbi\n",
      "\n",
      "\n",
      "원문:  aap student wing yuva samiti contesting delhi university students union elections year party claimed recommendations committee set expenditure per candidate followed polls become giving movie tickets organising parties raising issues party said \n",
      "실제 요약:  aap student wing to boycott elections this year \n",
      "예측 요약:   aap mla booked for voters for voters\n",
      "\n",
      "\n",
      "원문:  many passengers board royal caribbean ship contracted stomach illness spokesperson royal caribbean said ship passengers crew board returned florida us illness reported ship departed monday five night journey bound jamaica \n",
      "실제 요약:  passengers fall sick on royal caribbean cruise \n",
      "예측 요약:   passengers in london flight bag sick\n",
      "\n",
      "\n",
      "원문:  ready cook food solutions startup raised crore series funding peacock mumbai based startup provides customers ready cook products also fully ready users dishes cooked kitchen \n",
      "실제 요약:  ready to cook food startup raises crore \n",
      "예측 요약:   startup raises crore from food delivery startup\n",
      "\n",
      "\n",
      "원문:  mattresses india leading mattress brand appointed sania mirza brand ambassador seen company nationwide campaign power better sleep proud associated mattress share vision big power better sleep chase dreams said sania mirza \n",
      "실제 요약:  in sania mirza as brand ambassador \n",
      "예측 요약:   indian origin athletes to be used to india\n",
      "\n",
      "\n",
      "원문:  television actress shilpa shinde filed fir alleging sexual harassment sanjay kohli husband kohli producer serial bhabi ji ghar par hai shilpa portrayed earlier show alleged kohli made remarks like sexy would hug forcefully touch waist breasts \n",
      "실제 요약:  shilpa accuses producer husband in sexual harassment case \n",
      "예측 요약:   shilpa denies shilpa kapoor over sexual harassment row\n",
      "\n",
      "\n",
      "원문:  thai ministry foreign affairs thanked india letter help rescue kids football coach cave letter mentioned brothers company provided pumps drain water flooded cave complex indian engineers prasad kulkarni shyam shukla involved rescue operation \n",
      "실제 요약:  thailand thanks india for helping rescue kids trapped in cave \n",
      "예측 요약:   indian navy rescues indian navy officer in thai cave\n",
      "\n",
      "\n",
      "원문:  papa john pizza founder former chairman john sued company demanding documents related exit pizza chain resigned apologising using racial slur conference call may attorney said wanted see documents heavy handed way papa john treated \n",
      "실제 요약:  papa john founder sues own firm for docs related to exit \n",
      "예측 요약:   ex john john aide charged with streak with ex employee\n",
      "\n",
      "\n",
      "원문:  american sprinter justin emerged champion usain bolt last race front jamaican metre sprint iaaf world championships saturday nothing respect even older bolt inspiration said year old bolt finished last solo race bronze \n",
      "실제 요약:  champion down to rd placed bolt after last race \n",
      "예측 요약:   usain bolt says he is race in race\n",
      "\n",
      "\n",
      "원문:  national security adviser ajit doval hold formal negotiations boundary issue chinese counterpart yang thursday doval expected discuss ways maintain peace along km long border comes almost four months day long military stand india china doklam \n",
      "실제 요약:  national security adviser to hold border talks with china \n",
      "예측 요약:   kashmir forces to launch ceasefire in us\n",
      "\n",
      "\n",
      "원문:  pakistani accountability court issued bailable arrest warrants country finance minister dar failed appear corruption case hearing requesting court exempt dar personal appearance hearing finance minister aide said dar london medical treatment court rejected exemption request \n",
      "실제 요약:  arrest issued against pakistan finance minister \n",
      "예측 요약:   pak court issues notice to pak over remarks on pak\n",
      "\n",
      "\n",
      "원문:  indian woman cricketer harmanpreet kaur said western railway demanding lakh quitting job take dsp post punjab police kaur revealed western railway paid salary last five months besides accepting resignation year old awarded dsp post performance women world cup \n",
      "실제 요약:  railways demands lakh from women wc player to quit job \n",
      "예측 요약:   harmanpreet waives off school in ipl match\n",
      "\n",
      "\n",
      "원문:  man named allegedly stabbed street hyderabad returning sum borrowed attacker one year ago police said saddam asked return money following heated discussion stabbed knife undergoing treatment reported danger \n",
      "실제 요약:  man stabbed on hyderabad street for not returning \n",
      "예측 요약:   man stabs himself to death in mumbai\n",
      "\n",
      "\n"
     ]
    }
   ],
   "source": [
    "for i in range(50,100):\n",
    "    print('원문: ', seq2text(encoder_input_test[i]))\n",
    "    print('실제 요약: ', seq2headlines(decoder_input_test[i]))\n",
    "    print('예측 요약: ', decode_sequence(encoder_input_test[i].reshape(1, text_max_len)))\n",
    "    print('\\n')"
   ]
  },
  {
   "cell_type": "markdown",
   "id": "b54a23cf",
   "metadata": {},
   "source": [
    "예측요약이 그렇게 잘 된 것 같진 않다. 실제 요약문과 비교해봤을 때 비슷하지도 않지만 그렇다고 원문을 잘 요약한 것 같아 보이지도 않는다. 실제 요약문이 헤드라인이라서 그런가?"
   ]
  },
  {
   "cell_type": "markdown",
   "id": "3426ff19",
   "metadata": {},
   "source": [
    "## 5. Summa 를 이용해 추출적 요약해보기"
   ]
  },
  {
   "cell_type": "code",
   "execution_count": 62,
   "id": "7bf631af",
   "metadata": {},
   "outputs": [],
   "source": [
    "import requests\n",
    "from summa.summarizer import summarize"
   ]
  },
  {
   "cell_type": "code",
   "execution_count": 118,
   "id": "ab572981",
   "metadata": {
    "scrolled": false
   },
   "outputs": [
    {
     "data": {
      "text/plain": [
       "'upGrad learner switches to career in ML & Al with 90% salary hike'"
      ]
     },
     "execution_count": 118,
     "metadata": {},
     "output_type": "execute_result"
    }
   ],
   "source": [
    "summar_data = pd.read_csv('news_summary_more.csv', encoding='utf-8')#iso-8859-1\n",
    "summar_data.head(3)\n",
    "\n",
    "# 0번째 headlines\n",
    "summar_data['headlines'][0]"
   ]
  },
  {
   "cell_type": "code",
   "execution_count": 117,
   "id": "747fc0fc",
   "metadata": {},
   "outputs": [
    {
     "name": "stdout",
     "output_type": "stream",
     "text": [
      "0       Saurav Kant, an alumnus of upGrad and IIIT-B's...\n",
      "1       Kunal Shah's credit card bill payment platform...\n",
      "2       New Zealand defeated India by 8 wickets in the...\n",
      "3       With Aegon Life iTerm Insurance plan, customer...\n",
      "4       Speaking about the sexual harassment allegatio...\n",
      "                              ...                        \n",
      "1495    India head coach Ravi Shastri has said that he...\n",
      "1496    Italian tennis player Andreas Seppi ensured hi...\n",
      "1497    World number three Roger Federer was stopped b...\n",
      "1498    A cutout of TMC chief and West Bengal CM Mamat...\n",
      "1499    A Delhi court on Saturday pulled up Delhi Poli...\n",
      "Name: text, Length: 1500, dtype: object\n"
     ]
    }
   ],
   "source": [
    "summa_data = summar_data['text']\n",
    "summa_data.head(3)\n",
    "\n",
    "print(summa_data[:1500])"
   ]
  },
  {
   "cell_type": "code",
   "execution_count": 113,
   "id": "3050e67d",
   "metadata": {
    "scrolled": true
   },
   "outputs": [
    {
     "data": {
      "text/plain": [
       "\"Saurav Kant, an alumnus of upGrad and IIIT-B's PG Program in Machine learning and Artificial Intelligence, was a Sr Systems Engineer at Infosys with almost 5 years of work experience. The program and upGrad's 360-degree career support helped him transition to a Data Scientist at Tech Mahindra with 90% salary hike. upGrad's Online Power Learning has powered 3 lakh+ careers.\""
      ]
     },
     "execution_count": 113,
     "metadata": {},
     "output_type": "execute_result"
    }
   ],
   "source": [
    "# 0번째 text\n",
    "str(summa_data[0])"
   ]
  },
  {
   "cell_type": "code",
   "execution_count": 114,
   "id": "d8e39c1e",
   "metadata": {},
   "outputs": [
    {
     "name": "stdout",
     "output_type": "stream",
     "text": [
      "Summary: \n",
      "upGrad's Online Power Learning has powered 3 lakh+ careers.\n"
     ]
    }
   ],
   "source": [
    "# 0번째 text 추출요약\n",
    "print('Summary: ')\n",
    "print(summarize(str(summa_data[0]), ratio = 0.4))"
   ]
  },
  {
   "cell_type": "code",
   "execution_count": 115,
   "id": "f2acfeb8",
   "metadata": {},
   "outputs": [
    {
     "name": "stdout",
     "output_type": "stream",
     "text": [
      "Summary: \n",
      "upGrad's Online Power Learning has powered 3 lakh+ careers.\n"
     ]
    }
   ],
   "source": [
    "print('Summary: ')\n",
    "print(summarize(str(summa_data[0]),words = 10))"
   ]
  },
  {
   "cell_type": "markdown",
   "id": "eb7573e5",
   "metadata": {},
   "source": [
    "추출적 요약에선 마지막 문장을 꺼내오는 것 같다..?\n",
    "<br><br>\n",
    "<b>문법 완성도 측면</b>에서 봤을 때 추출적 요약은 원문에서의 문장을 그대로 가져와서 그런지 추상적 요약에 비해 좋아보인다. 다만 추출적 요약에서는 마지막 문장이나 뒤에 있는 문장을 비중을 두고 가지고 오는 것 같은데, 이게 어떤 원문에서는 내용을 잘 나타낼 수도 있겠지만, 그렇지 않다면 별로 중요하지 않은 문장이나 단어들을 포함하고 있을 가능성이 있어보인다. <br>\n",
    "<br>\n",
    "추상적 요약은 문장을 만들어 내기 때문에 문법적인 측면에서는 추출적 요약에 비해 안 좋을 수 있으나, 원문에서 비중있게 다루는 단어들을 뽑아오는 것 같긴 하다.(<b>핵심단어 포함o</b>) 노드에서 다룬 데이터와 달리 이 데이터는 실제 문장 요약문을 헤드라인으로 보고 있기도 하고, 내가 학습을 데이터에 맞게 못한 영향도 있겠지만, 요약이 그렇게 잘 되진 않았다. 대충 요약과 비슷한 결의 단어들을 뽑은 문장이긴 하지만, 엉뚱한 말을 반복하거나, 무슨 말을 하고 있는 건가 하는 문장들도 많다. \n",
    "<br><br>\n",
    "<b>결론</b>: 둘 다 별로지만, 문법완성도는 추출적 요약이 좋고, 핵심단어 포함 측면에서는 추상적 요약이 좋아보인다."
   ]
  },
  {
   "cell_type": "markdown",
   "id": "538c1490",
   "metadata": {},
   "source": [
    "* * * \n",
    "### 회고\n",
    "작곡관련 노드를 할 때도 그렇고 이번도 그렇고 역시 자연어 처리는 쉽지 않다. 특히 인퍼런스 모델 구현할 때 이해하기 힘들었다. 그래도 몇 번 보다보니 이런 식이구나~는 알 것 같다. 계속 접하다보면 익숙해질 것 같다. <br>\n",
    "노드에서는 요약문이 잘 나왔는데 프로젝트에서는 잘 나오지 않았다. 단어사전 길이나, 임베딩 크기 등을 바꿔가면서 돌려봐야겠다. 문장을 생성하는 모델이라 그런지 평가를 수치로 하기 어려운 점이 있는 것 같다."
   ]
  },
  {
   "cell_type": "code",
   "execution_count": null,
   "id": "ef561c54",
   "metadata": {},
   "outputs": [],
   "source": []
  }
 ],
 "metadata": {
  "kernelspec": {
   "display_name": "Python 3 (ipykernel)",
   "language": "python",
   "name": "python3"
  },
  "language_info": {
   "codemirror_mode": {
    "name": "ipython",
    "version": 3
   },
   "file_extension": ".py",
   "mimetype": "text/x-python",
   "name": "python",
   "nbconvert_exporter": "python",
   "pygments_lexer": "ipython3",
   "version": "3.9.7"
  }
 },
 "nbformat": 4,
 "nbformat_minor": 5
}
