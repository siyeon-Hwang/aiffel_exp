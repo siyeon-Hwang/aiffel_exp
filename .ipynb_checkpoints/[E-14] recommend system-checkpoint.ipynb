{
 "cells": [
  {
   "cell_type": "code",
   "execution_count": null,
   "id": "1d97fc73",
   "metadata": {},
   "outputs": [],
   "source": []
  },
  {
   "cell_type": "markdown",
   "id": "80bd113a",
   "metadata": {},
   "source": [
    "#### Movielens 데이터를 활용해서 영화 추천 시스템 제작\n",
    "- 유저가 영화에 대해 평점을 매긴 데이터가 데이터 크기 별로 있다. MovieLens 1M Dataset 사용 권장\n",
    "- 별점 데이터 - 대표적인 explicit 데이터이다. 하지만 implicit 데이터로 간주하고 테스트해 볼 수 있다.\n",
    "- 별점을 **시청횟수** 로 해석해서 생각\n",
    "- 또한 유저가 3점 미만으로 준 데이터는 선호하지 않는다고 가정하고 제외"
   ]
  },
  {
   "cell_type": "markdown",
   "id": "50c1b346",
   "metadata": {},
   "source": [
    "## 1. 데이터 준비와 전처리\n",
    "Movielens 데이터는 rating.dat 안에 이미 인덱싱까지 완료된 사용자-영화-평점 데이터가 깔끔하게 정리되어 있다."
   ]
  },
  {
   "cell_type": "code",
   "execution_count": 1,
   "id": "6073cc7b",
   "metadata": {},
   "outputs": [
    {
     "data": {
      "text/html": [
       "<div>\n",
       "<style scoped>\n",
       "    .dataframe tbody tr th:only-of-type {\n",
       "        vertical-align: middle;\n",
       "    }\n",
       "\n",
       "    .dataframe tbody tr th {\n",
       "        vertical-align: top;\n",
       "    }\n",
       "\n",
       "    .dataframe thead th {\n",
       "        text-align: right;\n",
       "    }\n",
       "</style>\n",
       "<table border=\"1\" class=\"dataframe\">\n",
       "  <thead>\n",
       "    <tr style=\"text-align: right;\">\n",
       "      <th></th>\n",
       "      <th>user_id</th>\n",
       "      <th>movie_id</th>\n",
       "      <th>ratings</th>\n",
       "      <th>timestamp</th>\n",
       "    </tr>\n",
       "  </thead>\n",
       "  <tbody>\n",
       "    <tr>\n",
       "      <th>0</th>\n",
       "      <td>1</td>\n",
       "      <td>1193</td>\n",
       "      <td>5</td>\n",
       "      <td>978300760</td>\n",
       "    </tr>\n",
       "    <tr>\n",
       "      <th>1</th>\n",
       "      <td>1</td>\n",
       "      <td>661</td>\n",
       "      <td>3</td>\n",
       "      <td>978302109</td>\n",
       "    </tr>\n",
       "    <tr>\n",
       "      <th>2</th>\n",
       "      <td>1</td>\n",
       "      <td>914</td>\n",
       "      <td>3</td>\n",
       "      <td>978301968</td>\n",
       "    </tr>\n",
       "    <tr>\n",
       "      <th>3</th>\n",
       "      <td>1</td>\n",
       "      <td>3408</td>\n",
       "      <td>4</td>\n",
       "      <td>978300275</td>\n",
       "    </tr>\n",
       "    <tr>\n",
       "      <th>4</th>\n",
       "      <td>1</td>\n",
       "      <td>2355</td>\n",
       "      <td>5</td>\n",
       "      <td>978824291</td>\n",
       "    </tr>\n",
       "  </tbody>\n",
       "</table>\n",
       "</div>"
      ],
      "text/plain": [
       "   user_id  movie_id  ratings  timestamp\n",
       "0        1      1193        5  978300760\n",
       "1        1       661        3  978302109\n",
       "2        1       914        3  978301968\n",
       "3        1      3408        4  978300275\n",
       "4        1      2355        5  978824291"
      ]
     },
     "execution_count": 1,
     "metadata": {},
     "output_type": "execute_result"
    }
   ],
   "source": [
    "import os\n",
    "import pandas as pd\n",
    "\n",
    "rating_file_path = os.getenv('HOME') + '/aiffel/recommendata_iu/data/ml-1m/ratings.dat'\n",
    "ratings_cols = ['user_id', 'movie_id', 'ratings', 'timestamp']\n",
    "ratings = pd.read_csv(rating_file_path, sep='::', names = ratings_cols, engine='python', encoding='ISO-8859-1')\n",
    "orginal_data_size = len(ratings)\n",
    "ratings.head()\n"
   ]
  },
  {
   "cell_type": "code",
   "execution_count": 2,
   "id": "458f0df7",
   "metadata": {},
   "outputs": [
    {
     "data": {
      "text/html": [
       "<div>\n",
       "<style scoped>\n",
       "    .dataframe tbody tr th:only-of-type {\n",
       "        vertical-align: middle;\n",
       "    }\n",
       "\n",
       "    .dataframe tbody tr th {\n",
       "        vertical-align: top;\n",
       "    }\n",
       "\n",
       "    .dataframe thead th {\n",
       "        text-align: right;\n",
       "    }\n",
       "</style>\n",
       "<table border=\"1\" class=\"dataframe\">\n",
       "  <thead>\n",
       "    <tr style=\"text-align: right;\">\n",
       "      <th></th>\n",
       "      <th>movie_id</th>\n",
       "      <th>title</th>\n",
       "      <th>genre</th>\n",
       "    </tr>\n",
       "  </thead>\n",
       "  <tbody>\n",
       "    <tr>\n",
       "      <th>0</th>\n",
       "      <td>1</td>\n",
       "      <td>Toy Story (1995)</td>\n",
       "      <td>Animation|Children's|Comedy</td>\n",
       "    </tr>\n",
       "    <tr>\n",
       "      <th>1</th>\n",
       "      <td>2</td>\n",
       "      <td>Jumanji (1995)</td>\n",
       "      <td>Adventure|Children's|Fantasy</td>\n",
       "    </tr>\n",
       "    <tr>\n",
       "      <th>2</th>\n",
       "      <td>3</td>\n",
       "      <td>Grumpier Old Men (1995)</td>\n",
       "      <td>Comedy|Romance</td>\n",
       "    </tr>\n",
       "    <tr>\n",
       "      <th>3</th>\n",
       "      <td>4</td>\n",
       "      <td>Waiting to Exhale (1995)</td>\n",
       "      <td>Comedy|Drama</td>\n",
       "    </tr>\n",
       "    <tr>\n",
       "      <th>4</th>\n",
       "      <td>5</td>\n",
       "      <td>Father of the Bride Part II (1995)</td>\n",
       "      <td>Comedy</td>\n",
       "    </tr>\n",
       "  </tbody>\n",
       "</table>\n",
       "</div>"
      ],
      "text/plain": [
       "   movie_id                               title                         genre\n",
       "0         1                    Toy Story (1995)   Animation|Children's|Comedy\n",
       "1         2                      Jumanji (1995)  Adventure|Children's|Fantasy\n",
       "2         3             Grumpier Old Men (1995)                Comedy|Romance\n",
       "3         4            Waiting to Exhale (1995)                  Comedy|Drama\n",
       "4         5  Father of the Bride Part II (1995)                        Comedy"
      ]
     },
     "execution_count": 2,
     "metadata": {},
     "output_type": "execute_result"
    }
   ],
   "source": [
    "# 영화 제목을 보기 위해 메타 데이터를 읽어온다.\n",
    "movie_file_path = os.getenv('HOME') + '/aiffel/recommendata_iu/data/ml-1m/movies.dat'\n",
    "cols = ['movie_id', 'title', 'genre']\n",
    "movies = pd.read_csv(movie_file_path, sep='::', names=cols, engine='python', encoding='ISO-8859-1')\n",
    "movies.head()"
   ]
  },
  {
   "cell_type": "code",
   "execution_count": 3,
   "id": "e8e62215",
   "metadata": {
    "scrolled": false
   },
   "outputs": [
    {
     "data": {
      "text/html": [
       "<div>\n",
       "<style scoped>\n",
       "    .dataframe tbody tr th:only-of-type {\n",
       "        vertical-align: middle;\n",
       "    }\n",
       "\n",
       "    .dataframe tbody tr th {\n",
       "        vertical-align: top;\n",
       "    }\n",
       "\n",
       "    .dataframe thead th {\n",
       "        text-align: right;\n",
       "    }\n",
       "</style>\n",
       "<table border=\"1\" class=\"dataframe\">\n",
       "  <thead>\n",
       "    <tr style=\"text-align: right;\">\n",
       "      <th></th>\n",
       "      <th>movie_id</th>\n",
       "      <th>title</th>\n",
       "      <th>genre</th>\n",
       "    </tr>\n",
       "  </thead>\n",
       "  <tbody>\n",
       "    <tr>\n",
       "      <th>0</th>\n",
       "      <td>1</td>\n",
       "      <td>toy story (1995)</td>\n",
       "      <td>Animation|Children's|Comedy</td>\n",
       "    </tr>\n",
       "    <tr>\n",
       "      <th>1</th>\n",
       "      <td>2</td>\n",
       "      <td>jumanji (1995)</td>\n",
       "      <td>Adventure|Children's|Fantasy</td>\n",
       "    </tr>\n",
       "    <tr>\n",
       "      <th>2</th>\n",
       "      <td>3</td>\n",
       "      <td>grumpier old men (1995)</td>\n",
       "      <td>Comedy|Romance</td>\n",
       "    </tr>\n",
       "    <tr>\n",
       "      <th>3</th>\n",
       "      <td>4</td>\n",
       "      <td>waiting to exhale (1995)</td>\n",
       "      <td>Comedy|Drama</td>\n",
       "    </tr>\n",
       "    <tr>\n",
       "      <th>4</th>\n",
       "      <td>5</td>\n",
       "      <td>father of the bride part ii (1995)</td>\n",
       "      <td>Comedy</td>\n",
       "    </tr>\n",
       "  </tbody>\n",
       "</table>\n",
       "</div>"
      ],
      "text/plain": [
       "   movie_id                               title                         genre\n",
       "0         1                    toy story (1995)   Animation|Children's|Comedy\n",
       "1         2                      jumanji (1995)  Adventure|Children's|Fantasy\n",
       "2         3             grumpier old men (1995)                Comedy|Romance\n",
       "3         4            waiting to exhale (1995)                  Comedy|Drama\n",
       "4         5  father of the bride part ii (1995)                        Comedy"
      ]
     },
     "execution_count": 3,
     "metadata": {},
     "output_type": "execute_result"
    }
   ],
   "source": [
    "# 검색의 용이성을 위해 영화 제목을 소문자로 바꿔준다.\n",
    "movies['title'] = movies['title'].str.lower()\n",
    "movies.head()"
   ]
  },
  {
   "cell_type": "code",
   "execution_count": 4,
   "id": "c60a0282",
   "metadata": {},
   "outputs": [
    {
     "data": {
      "text/html": [
       "<div>\n",
       "<style scoped>\n",
       "    .dataframe tbody tr th:only-of-type {\n",
       "        vertical-align: middle;\n",
       "    }\n",
       "\n",
       "    .dataframe tbody tr th {\n",
       "        vertical-align: top;\n",
       "    }\n",
       "\n",
       "    .dataframe thead th {\n",
       "        text-align: right;\n",
       "    }\n",
       "</style>\n",
       "<table border=\"1\" class=\"dataframe\">\n",
       "  <thead>\n",
       "    <tr style=\"text-align: right;\">\n",
       "      <th></th>\n",
       "      <th>movie_id</th>\n",
       "      <th>title</th>\n",
       "    </tr>\n",
       "  </thead>\n",
       "  <tbody>\n",
       "    <tr>\n",
       "      <th>0</th>\n",
       "      <td>1</td>\n",
       "      <td>toy story (1995)</td>\n",
       "    </tr>\n",
       "    <tr>\n",
       "      <th>1</th>\n",
       "      <td>2</td>\n",
       "      <td>jumanji (1995)</td>\n",
       "    </tr>\n",
       "    <tr>\n",
       "      <th>2</th>\n",
       "      <td>3</td>\n",
       "      <td>grumpier old men (1995)</td>\n",
       "    </tr>\n",
       "    <tr>\n",
       "      <th>3</th>\n",
       "      <td>4</td>\n",
       "      <td>waiting to exhale (1995)</td>\n",
       "    </tr>\n",
       "    <tr>\n",
       "      <th>4</th>\n",
       "      <td>5</td>\n",
       "      <td>father of the bride part ii (1995)</td>\n",
       "    </tr>\n",
       "  </tbody>\n",
       "</table>\n",
       "</div>"
      ],
      "text/plain": [
       "   movie_id                               title\n",
       "0         1                    toy story (1995)\n",
       "1         2                      jumanji (1995)\n",
       "2         3             grumpier old men (1995)\n",
       "3         4            waiting to exhale (1995)\n",
       "4         5  father of the bride part ii (1995)"
      ]
     },
     "execution_count": 4,
     "metadata": {},
     "output_type": "execute_result"
    }
   ],
   "source": [
    "# movie_id와 title 만 남겨준다\n",
    "using_cols = ['movie_id', 'title']\n",
    "movies = movies[using_cols]\n",
    "movies.head()"
   ]
  },
  {
   "cell_type": "code",
   "execution_count": 5,
   "id": "6a655bbd",
   "metadata": {},
   "outputs": [
    {
     "data": {
      "text/html": [
       "<div>\n",
       "<style scoped>\n",
       "    .dataframe tbody tr th:only-of-type {\n",
       "        vertical-align: middle;\n",
       "    }\n",
       "\n",
       "    .dataframe tbody tr th {\n",
       "        vertical-align: top;\n",
       "    }\n",
       "\n",
       "    .dataframe thead th {\n",
       "        text-align: right;\n",
       "    }\n",
       "</style>\n",
       "<table border=\"1\" class=\"dataframe\">\n",
       "  <thead>\n",
       "    <tr style=\"text-align: right;\">\n",
       "      <th></th>\n",
       "      <th>user_id</th>\n",
       "      <th>movie_id</th>\n",
       "      <th>ratings</th>\n",
       "      <th>timestamp</th>\n",
       "      <th>title</th>\n",
       "    </tr>\n",
       "  </thead>\n",
       "  <tbody>\n",
       "    <tr>\n",
       "      <th>0</th>\n",
       "      <td>1</td>\n",
       "      <td>1193</td>\n",
       "      <td>5</td>\n",
       "      <td>978300760</td>\n",
       "      <td>one flew over the cuckoo's nest (1975)</td>\n",
       "    </tr>\n",
       "    <tr>\n",
       "      <th>1</th>\n",
       "      <td>2</td>\n",
       "      <td>1193</td>\n",
       "      <td>5</td>\n",
       "      <td>978298413</td>\n",
       "      <td>one flew over the cuckoo's nest (1975)</td>\n",
       "    </tr>\n",
       "    <tr>\n",
       "      <th>2</th>\n",
       "      <td>12</td>\n",
       "      <td>1193</td>\n",
       "      <td>4</td>\n",
       "      <td>978220179</td>\n",
       "      <td>one flew over the cuckoo's nest (1975)</td>\n",
       "    </tr>\n",
       "    <tr>\n",
       "      <th>3</th>\n",
       "      <td>15</td>\n",
       "      <td>1193</td>\n",
       "      <td>4</td>\n",
       "      <td>978199279</td>\n",
       "      <td>one flew over the cuckoo's nest (1975)</td>\n",
       "    </tr>\n",
       "    <tr>\n",
       "      <th>4</th>\n",
       "      <td>17</td>\n",
       "      <td>1193</td>\n",
       "      <td>5</td>\n",
       "      <td>978158471</td>\n",
       "      <td>one flew over the cuckoo's nest (1975)</td>\n",
       "    </tr>\n",
       "  </tbody>\n",
       "</table>\n",
       "</div>"
      ],
      "text/plain": [
       "   user_id  movie_id  ratings  timestamp  \\\n",
       "0        1      1193        5  978300760   \n",
       "1        2      1193        5  978298413   \n",
       "2       12      1193        4  978220179   \n",
       "3       15      1193        4  978199279   \n",
       "4       17      1193        5  978158471   \n",
       "\n",
       "                                    title  \n",
       "0  one flew over the cuckoo's nest (1975)  \n",
       "1  one flew over the cuckoo's nest (1975)  \n",
       "2  one flew over the cuckoo's nest (1975)  \n",
       "3  one flew over the cuckoo's nest (1975)  \n",
       "4  one flew over the cuckoo's nest (1975)  "
      ]
     },
     "execution_count": 5,
     "metadata": {},
     "output_type": "execute_result"
    }
   ],
   "source": [
    "# ratings와 movies 데이터 프레임을 movie_id를 기준으로 병합\n",
    "ratings = pd.merge(ratings, movies, on='movie_id')\n",
    "ratings.head()"
   ]
  },
  {
   "cell_type": "code",
   "execution_count": 6,
   "id": "9ab2cc5f",
   "metadata": {},
   "outputs": [
    {
     "data": {
      "text/html": [
       "<div>\n",
       "<style scoped>\n",
       "    .dataframe tbody tr th:only-of-type {\n",
       "        vertical-align: middle;\n",
       "    }\n",
       "\n",
       "    .dataframe tbody tr th {\n",
       "        vertical-align: top;\n",
       "    }\n",
       "\n",
       "    .dataframe thead th {\n",
       "        text-align: right;\n",
       "    }\n",
       "</style>\n",
       "<table border=\"1\" class=\"dataframe\">\n",
       "  <thead>\n",
       "    <tr style=\"text-align: right;\">\n",
       "      <th></th>\n",
       "      <th>user_id</th>\n",
       "      <th>movie_id</th>\n",
       "      <th>ratings</th>\n",
       "      <th>title</th>\n",
       "    </tr>\n",
       "  </thead>\n",
       "  <tbody>\n",
       "    <tr>\n",
       "      <th>0</th>\n",
       "      <td>1</td>\n",
       "      <td>1193</td>\n",
       "      <td>5</td>\n",
       "      <td>one flew over the cuckoo's nest (1975)</td>\n",
       "    </tr>\n",
       "    <tr>\n",
       "      <th>1</th>\n",
       "      <td>2</td>\n",
       "      <td>1193</td>\n",
       "      <td>5</td>\n",
       "      <td>one flew over the cuckoo's nest (1975)</td>\n",
       "    </tr>\n",
       "    <tr>\n",
       "      <th>2</th>\n",
       "      <td>12</td>\n",
       "      <td>1193</td>\n",
       "      <td>4</td>\n",
       "      <td>one flew over the cuckoo's nest (1975)</td>\n",
       "    </tr>\n",
       "    <tr>\n",
       "      <th>3</th>\n",
       "      <td>15</td>\n",
       "      <td>1193</td>\n",
       "      <td>4</td>\n",
       "      <td>one flew over the cuckoo's nest (1975)</td>\n",
       "    </tr>\n",
       "    <tr>\n",
       "      <th>4</th>\n",
       "      <td>17</td>\n",
       "      <td>1193</td>\n",
       "      <td>5</td>\n",
       "      <td>one flew over the cuckoo's nest (1975)</td>\n",
       "    </tr>\n",
       "  </tbody>\n",
       "</table>\n",
       "</div>"
      ],
      "text/plain": [
       "   user_id  movie_id  ratings                                   title\n",
       "0        1      1193        5  one flew over the cuckoo's nest (1975)\n",
       "1        2      1193        5  one flew over the cuckoo's nest (1975)\n",
       "2       12      1193        4  one flew over the cuckoo's nest (1975)\n",
       "3       15      1193        4  one flew over the cuckoo's nest (1975)\n",
       "4       17      1193        5  one flew over the cuckoo's nest (1975)"
      ]
     },
     "execution_count": 6,
     "metadata": {},
     "output_type": "execute_result"
    }
   ],
   "source": [
    "# ratings 에서 timestamp 지우기\n",
    "ratings.drop('timestamp', axis=1, inplace=True)\n",
    "ratings.head()"
   ]
  },
  {
   "cell_type": "code",
   "execution_count": 7,
   "id": "e64096a0",
   "metadata": {},
   "outputs": [
    {
     "name": "stdout",
     "output_type": "stream",
     "text": [
      "orginal_data_size: 1000209, filtered_data_size: 836478\n",
      "Ratio of Remaining Data is 83.63%\n"
     ]
    }
   ],
   "source": [
    "# 3점 이상만 남긴다.\n",
    "ratings = ratings[ratings['ratings']>=3]\n",
    "filtered_data_size = len(ratings)\n",
    "\n",
    "print(f'orginal_data_size: {orginal_data_size}, filtered_data_size: {filtered_data_size}')\n",
    "print(f'Ratio of Remaining Data is {filtered_data_size / orginal_data_size:.2%}')"
   ]
  },
  {
   "cell_type": "code",
   "execution_count": 8,
   "id": "6c8cc072",
   "metadata": {},
   "outputs": [],
   "source": [
    "# ratings 컬럼의 이름을 counts 로 바꾼다.\n",
    "ratings.rename(columns={'ratings':'counts'}, inplace = True)"
   ]
  },
  {
   "cell_type": "code",
   "execution_count": 9,
   "id": "ad96f108",
   "metadata": {},
   "outputs": [
    {
     "data": {
      "text/plain": [
       "0          5\n",
       "1          5\n",
       "2          4\n",
       "3          4\n",
       "4          5\n",
       "          ..\n",
       "1000203    3\n",
       "1000204    5\n",
       "1000205    3\n",
       "1000207    5\n",
       "1000208    4\n",
       "Name: counts, Length: 836478, dtype: int64"
      ]
     },
     "execution_count": 9,
     "metadata": {},
     "output_type": "execute_result"
    }
   ],
   "source": [
    "ratings['counts']"
   ]
  },
  {
   "cell_type": "markdown",
   "id": "3ec6d7a4",
   "metadata": {},
   "source": [
    "## 2. 분석해봅시다\n",
    "- ratings에 있는 유니크한 영화 개수\n",
    "- ratings 에 잇는 유니크한 사용자 수\n",
    "- 가장 인기 있는 영화 30개(인기순)"
   ]
  },
  {
   "cell_type": "code",
   "execution_count": 10,
   "id": "2dad7d46",
   "metadata": {},
   "outputs": [
    {
     "data": {
      "text/plain": [
       "3628"
      ]
     },
     "execution_count": 10,
     "metadata": {},
     "output_type": "execute_result"
    }
   ],
   "source": [
    "ratings['movie_id'].nunique()"
   ]
  },
  {
   "cell_type": "code",
   "execution_count": 11,
   "id": "88466bf4",
   "metadata": {},
   "outputs": [
    {
     "data": {
      "text/plain": [
       "3628"
      ]
     },
     "execution_count": 11,
     "metadata": {},
     "output_type": "execute_result"
    }
   ],
   "source": [
    "ratings['title'].nunique()"
   ]
  },
  {
   "cell_type": "code",
   "execution_count": 12,
   "id": "4127b288",
   "metadata": {},
   "outputs": [
    {
     "data": {
      "text/plain": [
       "6039"
      ]
     },
     "execution_count": 12,
     "metadata": {},
     "output_type": "execute_result"
    }
   ],
   "source": [
    "ratings['user_id'].nunique()"
   ]
  },
  {
   "cell_type": "code",
   "execution_count": 13,
   "id": "acb2ab91",
   "metadata": {
    "scrolled": true
   },
   "outputs": [
    {
     "data": {
      "text/plain": [
       "title\n",
       "american beauty (1999)                                   3211\n",
       "star wars: episode iv - a new hope (1977)                2910\n",
       "star wars: episode v - the empire strikes back (1980)    2885\n",
       "star wars: episode vi - return of the jedi (1983)        2716\n",
       "saving private ryan (1998)                               2561\n",
       "terminator 2: judgment day (1991)                        2509\n",
       "silence of the lambs, the (1991)                         2498\n",
       "raiders of the lost ark (1981)                           2473\n",
       "back to the future (1985)                                2460\n",
       "matrix, the (1999)                                       2434\n",
       "jurassic park (1993)                                     2413\n",
       "sixth sense, the (1999)                                  2385\n",
       "fargo (1996)                                             2371\n",
       "braveheart (1995)                                        2314\n",
       "men in black (1997)                                      2297\n",
       "schindler's list (1993)                                  2257\n",
       "princess bride, the (1987)                               2252\n",
       "shakespeare in love (1998)                               2213\n",
       "l.a. confidential (1997)                                 2210\n",
       "shawshank redemption, the (1994)                         2194\n",
       "godfather, the (1972)                                    2167\n",
       "groundhog day (1993)                                     2121\n",
       "e.t. the extra-terrestrial (1982)                        2102\n",
       "being john malkovich (1999)                              2066\n",
       "ghostbusters (1984)                                      2051\n",
       "pulp fiction (1994)                                      2030\n",
       "forrest gump (1994)                                      2022\n",
       "terminator, the (1984)                                   2019\n",
       "toy story (1995)                                         2000\n",
       "fugitive, the (1993)                                     1941\n",
       "Name: user_id, dtype: int64"
      ]
     },
     "execution_count": 13,
     "metadata": {},
     "output_type": "execute_result"
    }
   ],
   "source": [
    "movie_count = ratings.groupby('title')['user_id'].count()\n",
    "movie_count.sort_values(ascending=False).head(30)"
   ]
  },
  {
   "cell_type": "code",
   "execution_count": 16,
   "id": "b765b5ce",
   "metadata": {},
   "outputs": [
    {
     "data": {
      "text/plain": [
       "count    6039.000000\n",
       "mean      138.512668\n",
       "std       156.241599\n",
       "min         1.000000\n",
       "25%        38.000000\n",
       "50%        81.000000\n",
       "75%       177.000000\n",
       "max      1968.000000\n",
       "Name: movie_id, dtype: float64"
      ]
     },
     "execution_count": 16,
     "metadata": {},
     "output_type": "execute_result"
    }
   ],
   "source": [
    "# 유저별 몇 개의 영화를 봤는지에 대한 통계\n",
    "user_count = ratings.groupby('user_id')['movie_id'].count()\n",
    "user_count.describe()"
   ]
  },
  {
   "cell_type": "markdown",
   "id": "bf33de5a",
   "metadata": {},
   "source": [
    "## 3. 내가 선호하는 영화를 5가지 골라서 ratings에 추가해 준다"
   ]
  },
  {
   "cell_type": "code",
   "execution_count": 17,
   "id": "95687142",
   "metadata": {},
   "outputs": [],
   "source": [
    "# 무슨 영화 있는지 확인\n",
    "#set(movies['title'])"
   ]
  },
  {
   "cell_type": "code",
   "execution_count": 18,
   "id": "55a2de09",
   "metadata": {
    "scrolled": true
   },
   "outputs": [
    {
     "data": {
      "text/plain": [
       "\"\\n# title-> movie_id 함수 만들기\\ndef title_to_mid(title):\\n    m_id = []\\n    for i in title:\\n        mid = ratings[ratings['title'] == i]['movie_id']\\n        m_id.append(mid)\\n    return m_id\\n#movies[movies['title'] =='toy story (1995)']['movie_id']\\nmy_favorite = ['clue (1985)', 'toy story (1995)', 'men in black (1997)', 'back to the future (1985)', 'jurassic park (1993)']\\nprint(title_to_mid(my_favorite))\\n\""
      ]
     },
     "execution_count": 18,
     "metadata": {},
     "output_type": "execute_result"
    }
   ],
   "source": [
    "'''\n",
    "# title-> movie_id 함수 만들기\n",
    "def title_to_mid(title):\n",
    "    m_id = []\n",
    "    for i in title:\n",
    "        mid = ratings[ratings['title'] == i]['movie_id']\n",
    "        m_id.append(mid)\n",
    "    return m_id\n",
    "#movies[movies['title'] =='toy story (1995)']['movie_id']\n",
    "my_favorite = ['clue (1985)', 'toy story (1995)', 'men in black (1997)', 'back to the future (1985)', 'jurassic park (1993)']\n",
    "print(title_to_mid(my_favorite))\n",
    "'''"
   ]
  },
  {
   "cell_type": "code",
   "execution_count": 19,
   "id": "2a4d11bf",
   "metadata": {},
   "outputs": [
    {
     "data": {
      "text/html": [
       "<div>\n",
       "<style scoped>\n",
       "    .dataframe tbody tr th:only-of-type {\n",
       "        vertical-align: middle;\n",
       "    }\n",
       "\n",
       "    .dataframe tbody tr th {\n",
       "        vertical-align: top;\n",
       "    }\n",
       "\n",
       "    .dataframe thead th {\n",
       "        text-align: right;\n",
       "    }\n",
       "</style>\n",
       "<table border=\"1\" class=\"dataframe\">\n",
       "  <thead>\n",
       "    <tr style=\"text-align: right;\">\n",
       "      <th></th>\n",
       "      <th>user_id</th>\n",
       "      <th>movie_id</th>\n",
       "      <th>counts</th>\n",
       "      <th>title</th>\n",
       "    </tr>\n",
       "  </thead>\n",
       "  <tbody>\n",
       "    <tr>\n",
       "      <th>1000203</th>\n",
       "      <td>5556</td>\n",
       "      <td>2198.0</td>\n",
       "      <td>3</td>\n",
       "      <td>modulations (1998)</td>\n",
       "    </tr>\n",
       "    <tr>\n",
       "      <th>1000204</th>\n",
       "      <td>5949</td>\n",
       "      <td>2198.0</td>\n",
       "      <td>5</td>\n",
       "      <td>modulations (1998)</td>\n",
       "    </tr>\n",
       "    <tr>\n",
       "      <th>1000205</th>\n",
       "      <td>5675</td>\n",
       "      <td>2703.0</td>\n",
       "      <td>3</td>\n",
       "      <td>broken vessels (1998)</td>\n",
       "    </tr>\n",
       "    <tr>\n",
       "      <th>1000207</th>\n",
       "      <td>5851</td>\n",
       "      <td>3607.0</td>\n",
       "      <td>5</td>\n",
       "      <td>one little indian (1973)</td>\n",
       "    </tr>\n",
       "    <tr>\n",
       "      <th>1000208</th>\n",
       "      <td>5938</td>\n",
       "      <td>2909.0</td>\n",
       "      <td>4</td>\n",
       "      <td>five wives, three secretaries and me (1998)</td>\n",
       "    </tr>\n",
       "    <tr>\n",
       "      <th>0</th>\n",
       "      <td>aiffel</td>\n",
       "      <td>NaN</td>\n",
       "      <td>5</td>\n",
       "      <td>clue (1985)</td>\n",
       "    </tr>\n",
       "    <tr>\n",
       "      <th>1</th>\n",
       "      <td>aiffel</td>\n",
       "      <td>NaN</td>\n",
       "      <td>5</td>\n",
       "      <td>toy story (1995)</td>\n",
       "    </tr>\n",
       "    <tr>\n",
       "      <th>2</th>\n",
       "      <td>aiffel</td>\n",
       "      <td>NaN</td>\n",
       "      <td>5</td>\n",
       "      <td>men in black (1997)</td>\n",
       "    </tr>\n",
       "    <tr>\n",
       "      <th>3</th>\n",
       "      <td>aiffel</td>\n",
       "      <td>NaN</td>\n",
       "      <td>5</td>\n",
       "      <td>back to the future (1985)</td>\n",
       "    </tr>\n",
       "    <tr>\n",
       "      <th>4</th>\n",
       "      <td>aiffel</td>\n",
       "      <td>NaN</td>\n",
       "      <td>5</td>\n",
       "      <td>jurassic park (1993)</td>\n",
       "    </tr>\n",
       "  </tbody>\n",
       "</table>\n",
       "</div>"
      ],
      "text/plain": [
       "        user_id  movie_id  counts                                        title\n",
       "1000203    5556    2198.0       3                           modulations (1998)\n",
       "1000204    5949    2198.0       5                           modulations (1998)\n",
       "1000205    5675    2703.0       3                        broken vessels (1998)\n",
       "1000207    5851    3607.0       5                     one little indian (1973)\n",
       "1000208    5938    2909.0       4  five wives, three secretaries and me (1998)\n",
       "0        aiffel       NaN       5                                  clue (1985)\n",
       "1        aiffel       NaN       5                             toy story (1995)\n",
       "2        aiffel       NaN       5                          men in black (1997)\n",
       "3        aiffel       NaN       5                    back to the future (1985)\n",
       "4        aiffel       NaN       5                         jurassic park (1993)"
      ]
     },
     "execution_count": 19,
     "metadata": {},
     "output_type": "execute_result"
    }
   ],
   "source": [
    "# 선호하는 영화 추가하기, + title-> movie_id 바꾼 값 my_movie에 넣어주기\n",
    "my_favorite = ['clue (1985)', 'toy story (1995)', 'men in black (1997)', 'back to the future (1985)', 'jurassic park (1993)']\n",
    "\n",
    "# 'aiffel' 이라는 유저가 위 영화의 평점을 5점씩 줬다고 가정\n",
    "my_movie = pd.DataFrame({'user_id': ['aiffel']*5, 'title' : my_favorite, 'counts':[5]*5})\n",
    "\n",
    "if not ratings.isin({'user_id':['aiffel']})['user_id'].any():\n",
    "    ratings = ratings.append(my_movie)\n",
    "    \n",
    "ratings.tail(10)\n"
   ]
  },
  {
   "cell_type": "markdown",
   "id": "36578704",
   "metadata": {},
   "source": [
    "위에서도 확인했지만 movie_id 나 title 이나 통계값이 같다. 또한 내용도 겹치므로 movie_id나 title 중 하나를 drop 해준다."
   ]
  },
  {
   "cell_type": "code",
   "execution_count": 20,
   "id": "ed3352f5",
   "metadata": {},
   "outputs": [
    {
     "data": {
      "text/html": [
       "<div>\n",
       "<style scoped>\n",
       "    .dataframe tbody tr th:only-of-type {\n",
       "        vertical-align: middle;\n",
       "    }\n",
       "\n",
       "    .dataframe tbody tr th {\n",
       "        vertical-align: top;\n",
       "    }\n",
       "\n",
       "    .dataframe thead th {\n",
       "        text-align: right;\n",
       "    }\n",
       "</style>\n",
       "<table border=\"1\" class=\"dataframe\">\n",
       "  <thead>\n",
       "    <tr style=\"text-align: right;\">\n",
       "      <th></th>\n",
       "      <th>user_id</th>\n",
       "      <th>counts</th>\n",
       "      <th>title</th>\n",
       "    </tr>\n",
       "  </thead>\n",
       "  <tbody>\n",
       "    <tr>\n",
       "      <th>1000203</th>\n",
       "      <td>5556</td>\n",
       "      <td>3</td>\n",
       "      <td>modulations (1998)</td>\n",
       "    </tr>\n",
       "    <tr>\n",
       "      <th>1000204</th>\n",
       "      <td>5949</td>\n",
       "      <td>5</td>\n",
       "      <td>modulations (1998)</td>\n",
       "    </tr>\n",
       "    <tr>\n",
       "      <th>1000205</th>\n",
       "      <td>5675</td>\n",
       "      <td>3</td>\n",
       "      <td>broken vessels (1998)</td>\n",
       "    </tr>\n",
       "    <tr>\n",
       "      <th>1000207</th>\n",
       "      <td>5851</td>\n",
       "      <td>5</td>\n",
       "      <td>one little indian (1973)</td>\n",
       "    </tr>\n",
       "    <tr>\n",
       "      <th>1000208</th>\n",
       "      <td>5938</td>\n",
       "      <td>4</td>\n",
       "      <td>five wives, three secretaries and me (1998)</td>\n",
       "    </tr>\n",
       "    <tr>\n",
       "      <th>0</th>\n",
       "      <td>aiffel</td>\n",
       "      <td>5</td>\n",
       "      <td>clue (1985)</td>\n",
       "    </tr>\n",
       "    <tr>\n",
       "      <th>1</th>\n",
       "      <td>aiffel</td>\n",
       "      <td>5</td>\n",
       "      <td>toy story (1995)</td>\n",
       "    </tr>\n",
       "    <tr>\n",
       "      <th>2</th>\n",
       "      <td>aiffel</td>\n",
       "      <td>5</td>\n",
       "      <td>men in black (1997)</td>\n",
       "    </tr>\n",
       "    <tr>\n",
       "      <th>3</th>\n",
       "      <td>aiffel</td>\n",
       "      <td>5</td>\n",
       "      <td>back to the future (1985)</td>\n",
       "    </tr>\n",
       "    <tr>\n",
       "      <th>4</th>\n",
       "      <td>aiffel</td>\n",
       "      <td>5</td>\n",
       "      <td>jurassic park (1993)</td>\n",
       "    </tr>\n",
       "  </tbody>\n",
       "</table>\n",
       "</div>"
      ],
      "text/plain": [
       "        user_id  counts                                        title\n",
       "1000203    5556       3                           modulations (1998)\n",
       "1000204    5949       5                           modulations (1998)\n",
       "1000205    5675       3                        broken vessels (1998)\n",
       "1000207    5851       5                     one little indian (1973)\n",
       "1000208    5938       4  five wives, three secretaries and me (1998)\n",
       "0        aiffel       5                                  clue (1985)\n",
       "1        aiffel       5                             toy story (1995)\n",
       "2        aiffel       5                          men in black (1997)\n",
       "3        aiffel       5                    back to the future (1985)\n",
       "4        aiffel       5                         jurassic park (1993)"
      ]
     },
     "execution_count": 20,
     "metadata": {},
     "output_type": "execute_result"
    }
   ],
   "source": [
    "ratings.drop('movie_id', axis=1, inplace=True)\n",
    "ratings.tail(10)"
   ]
  },
  {
   "cell_type": "markdown",
   "id": "1e4a52e6",
   "metadata": {},
   "source": [
    "### 모델에 활용하기 위한 전처리"
   ]
  },
  {
   "cell_type": "code",
   "execution_count": 24,
   "id": "e2571536",
   "metadata": {},
   "outputs": [],
   "source": [
    "# 고유한 유저, 아티스트를 찾아내는 코드\n",
    "user_unique = ratings['user_id'].unique()\n",
    "title_unique = ratings['title'].unique()\n",
    "\n",
    "# 유저, 아티스트 indexing 하는 코드\n",
    "user_to_idx = {v:k for k, v in enumerate(user_unique)}\n",
    "title_to_idx = {v:k for k, v in enumerate(title_unique)}"
   ]
  },
  {
   "cell_type": "code",
   "execution_count": 26,
   "id": "afb5ff14",
   "metadata": {},
   "outputs": [
    {
     "data": {
      "text/plain": [
       "6040"
      ]
     },
     "execution_count": 26,
     "metadata": {},
     "output_type": "execute_result"
    }
   ],
   "source": [
    "len(user_unique)"
   ]
  },
  {
   "cell_type": "code",
   "execution_count": 25,
   "id": "1da75ef1",
   "metadata": {},
   "outputs": [
    {
     "name": "stdout",
     "output_type": "stream",
     "text": [
      "6039\n",
      "40\n"
     ]
    }
   ],
   "source": [
    "# 인덱싱 잘 되었나 확인\n",
    "print(user_to_idx['aiffel'])\n",
    "print(title_to_idx['toy story (1995)'])"
   ]
  },
  {
   "cell_type": "code",
   "execution_count": 27,
   "id": "0bdcd944",
   "metadata": {},
   "outputs": [
    {
     "name": "stdout",
     "output_type": "stream",
     "text": [
      "user_id column indexing OK!!\n",
      "title column indexing OK!!\n"
     ]
    },
    {
     "data": {
      "text/html": [
       "<div>\n",
       "<style scoped>\n",
       "    .dataframe tbody tr th:only-of-type {\n",
       "        vertical-align: middle;\n",
       "    }\n",
       "\n",
       "    .dataframe tbody tr th {\n",
       "        vertical-align: top;\n",
       "    }\n",
       "\n",
       "    .dataframe thead th {\n",
       "        text-align: right;\n",
       "    }\n",
       "</style>\n",
       "<table border=\"1\" class=\"dataframe\">\n",
       "  <thead>\n",
       "    <tr style=\"text-align: right;\">\n",
       "      <th></th>\n",
       "      <th>user_id</th>\n",
       "      <th>counts</th>\n",
       "      <th>title</th>\n",
       "    </tr>\n",
       "  </thead>\n",
       "  <tbody>\n",
       "    <tr>\n",
       "      <th>0</th>\n",
       "      <td>0</td>\n",
       "      <td>5</td>\n",
       "      <td>0</td>\n",
       "    </tr>\n",
       "    <tr>\n",
       "      <th>1</th>\n",
       "      <td>1</td>\n",
       "      <td>5</td>\n",
       "      <td>0</td>\n",
       "    </tr>\n",
       "    <tr>\n",
       "      <th>2</th>\n",
       "      <td>2</td>\n",
       "      <td>4</td>\n",
       "      <td>0</td>\n",
       "    </tr>\n",
       "    <tr>\n",
       "      <th>3</th>\n",
       "      <td>3</td>\n",
       "      <td>4</td>\n",
       "      <td>0</td>\n",
       "    </tr>\n",
       "    <tr>\n",
       "      <th>4</th>\n",
       "      <td>4</td>\n",
       "      <td>5</td>\n",
       "      <td>0</td>\n",
       "    </tr>\n",
       "    <tr>\n",
       "      <th>...</th>\n",
       "      <td>...</td>\n",
       "      <td>...</td>\n",
       "      <td>...</td>\n",
       "    </tr>\n",
       "    <tr>\n",
       "      <th>0</th>\n",
       "      <td>6039</td>\n",
       "      <td>5</td>\n",
       "      <td>1211</td>\n",
       "    </tr>\n",
       "    <tr>\n",
       "      <th>1</th>\n",
       "      <td>6039</td>\n",
       "      <td>5</td>\n",
       "      <td>40</td>\n",
       "    </tr>\n",
       "    <tr>\n",
       "      <th>2</th>\n",
       "      <td>6039</td>\n",
       "      <td>5</td>\n",
       "      <td>189</td>\n",
       "    </tr>\n",
       "    <tr>\n",
       "      <th>3</th>\n",
       "      <td>6039</td>\n",
       "      <td>5</td>\n",
       "      <td>22</td>\n",
       "    </tr>\n",
       "    <tr>\n",
       "      <th>4</th>\n",
       "      <td>6039</td>\n",
       "      <td>5</td>\n",
       "      <td>113</td>\n",
       "    </tr>\n",
       "  </tbody>\n",
       "</table>\n",
       "<p>836483 rows × 3 columns</p>\n",
       "</div>"
      ],
      "text/plain": [
       "    user_id  counts  title\n",
       "0         0       5      0\n",
       "1         1       5      0\n",
       "2         2       4      0\n",
       "3         3       4      0\n",
       "4         4       5      0\n",
       "..      ...     ...    ...\n",
       "0      6039       5   1211\n",
       "1      6039       5     40\n",
       "2      6039       5    189\n",
       "3      6039       5     22\n",
       "4      6039       5    113\n",
       "\n",
       "[836483 rows x 3 columns]"
      ]
     },
     "execution_count": 27,
     "metadata": {},
     "output_type": "execute_result"
    }
   ],
   "source": [
    "# 인덱싱을 통해 데이터 컬럼 내 값을 바꾸는 코드\n",
    "\n",
    "# user_to_idx.get을 통해 user_id 컬럼의 모든 값을 인덱싱한 series 구해보고\n",
    "# 혹시 정상적으로 인덱싱되지 않은 row가 있다면 인덱스가 NaN이 될테니 dropna()로 제거\n",
    "temp_user_data = ratings['user_id'].map(user_to_idx).dropna()\n",
    "if len(temp_user_data) == len(ratings):\n",
    "    print('user_id column indexing OK!!')\n",
    "    ratings['user_id'] = temp_user_data\n",
    "else:\n",
    "    print('user_id column indexing Fail..')\n",
    "    \n",
    "# title_to_idx로  title도 동일 방식으로 인덱싱\n",
    "temp_title_data = ratings['title'].map(title_to_idx).dropna()\n",
    "if len(temp_title_data) == len(ratings):\n",
    "    print('title column indexing OK!!')\n",
    "    ratings['title'] = temp_title_data\n",
    "else:\n",
    "    print('title column indexing Fail..')\n",
    "    \n",
    "ratings"
   ]
  },
  {
   "cell_type": "markdown",
   "id": "7d9ff599",
   "metadata": {},
   "source": [
    "## 4. CSR matrix를 직접 만들어보자"
   ]
  },
  {
   "cell_type": "code",
   "execution_count": 33,
   "id": "51252b9a",
   "metadata": {},
   "outputs": [
    {
     "data": {
      "text/plain": [
       "<6040x3628 sparse matrix of type '<class 'numpy.int64'>'\n",
       "\twith 836483 stored elements in Compressed Sparse Row format>"
      ]
     },
     "execution_count": 33,
     "metadata": {},
     "output_type": "execute_result"
    }
   ],
   "source": [
    "from scipy.sparse import csr_matrix\n",
    "\n",
    "num_user = ratings['user_id'].nunique()\n",
    "num_title = ratings['title'].nunique()\n",
    "\n",
    "csr_data = csr_matrix((ratings.counts, (ratings.user_id, ratings.title)), shape=(num_user, num_title))\n",
    "csr_data"
   ]
  },
  {
   "cell_type": "markdown",
   "id": "02aff5c2",
   "metadata": {},
   "source": [
    "## 5. als_model = AlternatingLeastSquares 모델을 직접 구성하여 훈련시켜 본다"
   ]
  },
  {
   "cell_type": "code",
   "execution_count": 34,
   "id": "019708ea",
   "metadata": {},
   "outputs": [],
   "source": [
    "from implicit.als import AlternatingLeastSquares\n",
    "import os\n",
    "import numpy as np\n",
    "\n",
    "# implicit 라이브러리에서 권장하고 있는 부분이다. 학습 내용과는 무관\n",
    "os.environ['OPENBLAS_NUM_THREADS']='1'\n",
    "os.environ['KMP_DUPLICATE_LIB_OK']='True'\n",
    "os.environ['MKL_NUM_THREADS']='1'"
   ]
  },
  {
   "cell_type": "code",
   "execution_count": 54,
   "id": "b5ab6a89",
   "metadata": {},
   "outputs": [],
   "source": [
    "# Implicit AlternatingLeastSquares 모델의 선언\n",
    "als_model1 = AlternatingLeastSquares(factors=100, regularization=0.01, use_gpu=False, iterations=90, dtype=np.float32)"
   ]
  },
  {
   "cell_type": "code",
   "execution_count": 55,
   "id": "6c582f40",
   "metadata": {},
   "outputs": [
    {
     "data": {
      "text/plain": [
       "<3628x6040 sparse matrix of type '<class 'numpy.int64'>'\n",
       "\twith 836483 stored elements in Compressed Sparse Column format>"
      ]
     },
     "execution_count": 55,
     "metadata": {},
     "output_type": "execute_result"
    }
   ],
   "source": [
    "# als 모델은 input으로 (item X user 꼴의 matrix를 받기 때문에 Transpose를 해준다\n",
    "csr_data_transpose = csr_data.T\n",
    "csr_data_transpose"
   ]
  },
  {
   "cell_type": "code",
   "execution_count": 56,
   "id": "922a2973",
   "metadata": {},
   "outputs": [
    {
     "data": {
      "application/vnd.jupyter.widget-view+json": {
       "model_id": "fc50155f3a364b2cb69f0e06cd4b3ea0",
       "version_major": 2,
       "version_minor": 0
      },
      "text/plain": [
       "  0%|          | 0/90 [00:00<?, ?it/s]"
      ]
     },
     "metadata": {},
     "output_type": "display_data"
    }
   ],
   "source": [
    "# 모델 훈련\n",
    "als_model1.fit(csr_data_transpose)"
   ]
  },
  {
   "cell_type": "markdown",
   "id": "505ea28a",
   "metadata": {},
   "source": [
    "## 6. 내가 선호하는 영화 중 하나와 그 외의 영화 골라서 훈련된 모델이 예측한 나의 선호도 파악해보기"
   ]
  },
  {
   "cell_type": "code",
   "execution_count": 61,
   "id": "e09486b2",
   "metadata": {},
   "outputs": [],
   "source": [
    "aiffel, clue = user_to_idx['aiffel'], title_to_idx['toy story (1995)']\n",
    "aiffel_vector, clue_vector = als_model1.user_factors[aiffel], als_model1.item_factors[clue]"
   ]
  },
  {
   "cell_type": "code",
   "execution_count": 62,
   "id": "2dc48190",
   "metadata": {},
   "outputs": [
    {
     "data": {
      "text/plain": [
       "array([ 0.32676134,  0.264871  , -0.20532419,  0.28868955,  0.02435688,\n",
       "        0.24662629,  0.08869684, -0.2604811 , -0.11340661, -0.32359678,\n",
       "        0.4743936 ,  0.43323216, -0.22028664,  0.35467514, -0.00151243,\n",
       "       -0.42694944, -0.17896296, -0.07935438,  0.09488694,  0.00102733,\n",
       "        0.05448223, -0.86994296,  0.26087606, -0.14897749, -0.11150809,\n",
       "       -0.15115733,  0.49447447, -0.07763932, -0.02579144,  0.06689893,\n",
       "       -0.08409509, -0.01845757, -0.36298028,  0.06617398,  0.36419588,\n",
       "        0.04759718, -0.3298311 , -0.00372483, -0.3959943 , -0.11876844,\n",
       "        0.28298494, -0.3893385 , -0.58818394,  0.19115351,  0.38156775,\n",
       "       -0.3680207 ,  0.23635568, -0.5042326 ,  0.17356151, -0.12018202,\n",
       "        0.45061284,  0.3297887 ,  0.29057458,  0.52308196, -0.00088042,\n",
       "       -0.01194588,  0.21518241,  0.36851358,  0.17649804,  0.2636664 ,\n",
       "        0.27497005, -0.46068203,  0.06717128,  0.22025253, -0.42732868,\n",
       "        0.18123351,  0.21794222,  0.23890948,  0.30923858, -0.1312302 ,\n",
       "        0.0168558 , -0.14733693, -0.38653645,  0.07008579, -0.22673373,\n",
       "        0.02779181,  0.2939531 , -0.3120096 ,  0.26136088, -0.25610358,\n",
       "       -0.02995079,  0.23598924, -0.2236779 ,  0.48285875, -0.36118838,\n",
       "       -0.04156629,  0.02437914,  0.11498377,  0.02380738,  0.19120407,\n",
       "        0.30590048, -0.42156175, -0.34168112, -0.14223835, -0.19451429,\n",
       "        0.1384677 ,  0.21943647,  0.46409845, -0.49110523,  0.20974603],\n",
       "      dtype=float32)"
      ]
     },
     "execution_count": 62,
     "metadata": {},
     "output_type": "execute_result"
    }
   ],
   "source": [
    "aiffel_vector"
   ]
  },
  {
   "cell_type": "code",
   "execution_count": 63,
   "id": "dcf569ee",
   "metadata": {},
   "outputs": [
    {
     "data": {
      "text/plain": [
       "array([ 0.03511933,  0.05161886,  0.03924956,  0.05222552,  0.00373421,\n",
       "        0.05292744,  0.00074268, -0.00370354, -0.01724284, -0.04932706,\n",
       "        0.01973741,  0.01413761, -0.04136721, -0.02136711, -0.0275558 ,\n",
       "       -0.00270693,  0.00388642, -0.00942425,  0.01337462,  0.00119051,\n",
       "        0.04984034, -0.06960661,  0.026596  , -0.00360636, -0.00761764,\n",
       "        0.03991732, -0.0065435 ,  0.02513026, -0.01218915,  0.04505363,\n",
       "        0.03467635, -0.01057388, -0.01971217,  0.01108589,  0.0094981 ,\n",
       "        0.02445908, -0.056647  ,  0.00726476, -0.00728418, -0.02334936,\n",
       "       -0.02169806, -0.02572479, -0.03989544,  0.01140433, -0.00446312,\n",
       "       -0.03404979,  0.05750902, -0.07470711,  0.00068131, -0.02879185,\n",
       "        0.01756263,  0.03754517,  0.08276661,  0.0464677 , -0.0386342 ,\n",
       "       -0.01262689,  0.03092838,  0.00357784, -0.00713709, -0.00882272,\n",
       "       -0.01359763, -0.00193806, -0.00490084,  0.06402086, -0.06556155,\n",
       "       -0.00452349,  0.04581225, -0.0296929 ,  0.02173186, -0.02294553,\n",
       "        0.05841586,  0.04435873, -0.0351888 , -0.01864203,  0.0226577 ,\n",
       "        0.06103314, -0.00823549, -0.06841861,  0.02692703,  0.01657959,\n",
       "        0.02218   ,  0.01539755,  0.00607463,  0.04457678, -0.04668437,\n",
       "        0.04564166, -0.03501249,  0.07626119, -0.02382658, -0.04784076,\n",
       "       -0.01511311,  0.00690311,  0.00914992,  0.03017446,  0.01730095,\n",
       "       -0.018578  , -0.00220762,  0.07022096, -0.0194401 ,  0.01135088],\n",
       "      dtype=float32)"
      ]
     },
     "execution_count": 63,
     "metadata": {},
     "output_type": "execute_result"
    }
   ],
   "source": [
    "clue_vector"
   ]
  },
  {
   "cell_type": "code",
   "execution_count": 64,
   "id": "bb212076",
   "metadata": {},
   "outputs": [
    {
     "data": {
      "text/plain": [
       "0.4852326"
      ]
     },
     "execution_count": 64,
     "metadata": {},
     "output_type": "execute_result"
    }
   ],
   "source": [
    "# 둘 내적해보기\n",
    "np.dot(aiffel_vector, clue_vector)"
   ]
  },
  {
   "cell_type": "markdown",
   "id": "0e9a8206",
   "metadata": {},
   "source": [
    "수치가 심각하게 낮게 나왔다. factors나 iterations를 늘려본다.\n",
    "iteration을 90으로 늘리고 다시 내적해도 영화 clue의 경우 내적한 값이 그대로 0.1정도로 낮았고 toy story는 0.48로 clue보다 높지만 여전히 낮은 수치이다. 선호하는 영화의 일관성이 없어서일까?\n",
    "\n",
    "선호하는 영화 외의 영화 쥬만지를 예측해보자"
   ]
  },
  {
   "cell_type": "code",
   "execution_count": 65,
   "id": "9670f1c8",
   "metadata": {},
   "outputs": [
    {
     "data": {
      "text/plain": [
       "-0.020473536"
      ]
     },
     "execution_count": 65,
     "metadata": {},
     "output_type": "execute_result"
    }
   ],
   "source": [
    "ju = title_to_idx['jumanji (1995)']\n",
    "ju_vector = als_model1.item_factors[ju]\n",
    "np.dot(aiffel_vector, ju_vector)"
   ]
  },
  {
   "cell_type": "markdown",
   "id": "028101f0",
   "metadata": {},
   "source": [
    "쥬만지는 내심 선호하는 축에 속하는데 마이너스 수치가 나왔다.\\\n",
    "영화 추천을 받아보자\n",
    "\n",
    "## 7. 내가 좋아하는 영화와 비슷한 영화 추천받기"
   ]
  },
  {
   "cell_type": "code",
   "execution_count": 70,
   "id": "7e1fea65",
   "metadata": {},
   "outputs": [],
   "source": [
    "# 유저가 좋아하는 영화를 받아서, (영화id, 유사도) Tuple로 반환하고\n",
    "# 영화 id를 다시 title로 매핑시켜주는 함수\n",
    "idx_to_title = {v:k for k, v in title_to_idx.items()}\n",
    "\n",
    "def get_similar_movie(title: str):\n",
    "    title_id = title_to_idx[title]\n",
    "    similar_movie = als_model1.similar_items(title_id)\n",
    "    similar_movie = [idx_to_title[i[0]] for i in similar_movie]\n",
    "    return similar_movie"
   ]
  },
  {
   "cell_type": "code",
   "execution_count": 71,
   "id": "ffd8052d",
   "metadata": {},
   "outputs": [
    {
     "data": {
      "text/plain": [
       "['men in black (1997)',\n",
       " 'jurassic park (1993)',\n",
       " 'terminator 2: judgment day (1991)',\n",
       " 'total recall (1990)',\n",
       " 'independence day (id4) (1996)',\n",
       " 'matrix, the (1999)',\n",
       " 'fifth element, the (1997)',\n",
       " 'lost world: jurassic park, the (1997)',\n",
       " 'face/off (1997)',\n",
       " 'rocky horror picture show, the (1975)']"
      ]
     },
     "execution_count": 71,
     "metadata": {},
     "output_type": "execute_result"
    }
   ],
   "source": [
    "get_similar_movie('men in black (1997)')"
   ]
  },
  {
   "cell_type": "code",
   "execution_count": 72,
   "id": "bcd82a53",
   "metadata": {
    "scrolled": true
   },
   "outputs": [
    {
     "data": {
      "text/plain": [
       "['toy story (1995)',\n",
       " 'toy story 2 (1999)',\n",
       " \"bug's life, a (1998)\",\n",
       " 'aladdin (1992)',\n",
       " 'babe (1995)',\n",
       " 'groundhog day (1993)',\n",
       " 'lion king, the (1994)',\n",
       " 'pleasantville (1998)',\n",
       " 'beauty and the beast (1991)',\n",
       " 'forrest gump (1994)']"
      ]
     },
     "execution_count": 72,
     "metadata": {},
     "output_type": "execute_result"
    }
   ],
   "source": [
    "get_similar_movie('toy story (1995)')"
   ]
  },
  {
   "cell_type": "code",
   "execution_count": 73,
   "id": "bd90ac16",
   "metadata": {
    "scrolled": true
   },
   "outputs": [
    {
     "data": {
      "text/plain": [
       "['clue (1985)',\n",
       " \"'burbs, the (1989)\",\n",
       " 'haunted honeymoon (1986)',\n",
       " 'funny farm (1988)',\n",
       " 'ghostbusters ii (1989)',\n",
       " 'one crazy summer (1986)',\n",
       " 'police academy (1984)',\n",
       " 'european vacation (1985)',\n",
       " 'brighton beach memoirs (1986)',\n",
       " 'little shop of horrors (1986)']"
      ]
     },
     "execution_count": 73,
     "metadata": {},
     "output_type": "execute_result"
    }
   ],
   "source": [
    "get_similar_movie('clue (1985)')"
   ]
  },
  {
   "cell_type": "markdown",
   "id": "652ce405",
   "metadata": {},
   "source": [
    "영화 추천을 보니 영화와 비슷한 장르의 영화를 뽑아주고 있다. "
   ]
  },
  {
   "cell_type": "markdown",
   "id": "64bdbc3d",
   "metadata": {},
   "source": [
    "## 8. 내가 가장 좋아할만한 영화 추천받기"
   ]
  },
  {
   "cell_type": "code",
   "execution_count": 74,
   "id": "02d84f32",
   "metadata": {},
   "outputs": [
    {
     "data": {
      "text/plain": [
       "[(97, 0.4693057),\n",
       " (50, 0.39946374),\n",
       " (132, 0.39224076),\n",
       " (4, 0.31467625),\n",
       " (92, 0.30785376),\n",
       " (171, 0.2973551),\n",
       " (160, 0.29382354),\n",
       " (62, 0.27553037),\n",
       " (733, 0.24199854),\n",
       " (33, 0.23949875)]"
      ]
     },
     "execution_count": 74,
     "metadata": {},
     "output_type": "execute_result"
    }
   ],
   "source": [
    "user = user_to_idx['aiffel']\n",
    "\n",
    "# recommend 에서는 user*item csr matrix를 받는다.\n",
    "movie_recommended = als_model1.recommend(user, csr_data, N=10, filter_already_liked_items=True)\n",
    "movie_recommended"
   ]
  },
  {
   "cell_type": "code",
   "execution_count": 75,
   "id": "96e555fb",
   "metadata": {
    "scrolled": true
   },
   "outputs": [
    {
     "data": {
      "text/plain": [
       "['terminator 2: judgment day (1991)',\n",
       " 'toy story 2 (1999)',\n",
       " 'matrix, the (1999)',\n",
       " \"bug's life, a (1998)\",\n",
       " 'braveheart (1995)',\n",
       " 'forrest gump (1994)',\n",
       " 'independence day (id4) (1996)',\n",
       " 'total recall (1990)',\n",
       " 'galaxy quest (1999)',\n",
       " 'aladdin (1992)']"
      ]
     },
     "execution_count": 75,
     "metadata": {},
     "output_type": "execute_result"
    }
   ],
   "source": [
    "[idx_to_title[i[0]] for i in movie_recommended]"
   ]
  },
  {
   "cell_type": "markdown",
   "id": "2fc5aafe",
   "metadata": {},
   "source": [
    "추천받은 영화목록들을 찾아보니 내가 선호하는 영화와 장르가 거의 같은 류의 영화들이다. (브레이브하트 제외)\n",
    "\n",
    "내가 가록을 남긴 데이터 중 이 추천(브레이브하트)에 기여한 정도를 확인해보자"
   ]
  },
  {
   "cell_type": "code",
   "execution_count": 76,
   "id": "56b57473",
   "metadata": {},
   "outputs": [],
   "source": [
    "bh = title_to_idx['braveheart (1995)']\n",
    "explain = als_model1.explain(user, csr_data, itemid = bh)"
   ]
  },
  {
   "cell_type": "code",
   "execution_count": 77,
   "id": "d6ba13d7",
   "metadata": {},
   "outputs": [
    {
     "data": {
      "text/plain": [
       "(0.3063068227943664,\n",
       " [(113, 0.15893833253385203),\n",
       "  (22, 0.07373245885556676),\n",
       "  (189, 0.056935507549786726),\n",
       "  (1211, 0.04489739862395872),\n",
       "  (40, -0.02819687476879783)],\n",
       " (array([[ 9.85925465e-01,  4.40256559e-02,  7.89622336e-02, ...,\n",
       "           8.94219251e-02, -2.22627753e-03,  1.14365131e-01],\n",
       "         [ 4.34060153e-02,  1.01396345e+00,  5.43312870e-02, ...,\n",
       "           5.03943519e-02,  7.46889423e-02, -5.19342258e-02],\n",
       "         [ 7.78508768e-02,  5.85663036e-02,  1.04338697e+00, ...,\n",
       "           2.50493300e-02,  2.98797513e-02,  8.43407092e-02],\n",
       "         ...,\n",
       "         [ 8.81633531e-02,  5.50348901e-02,  3.59350896e-02, ...,\n",
       "           9.15972722e-01, -2.04686475e-02,  1.07578142e-02],\n",
       "         [-2.19494371e-03,  7.56338446e-02,  3.50582978e-02, ...,\n",
       "           4.48277162e-04,  9.31898266e-01, -2.82074524e-02],\n",
       "         [ 1.12755495e-01, -4.76244071e-02,  9.42088702e-02, ...,\n",
       "           8.06091687e-02, -1.52876280e-02,  9.37459979e-01]]),\n",
       "  False))"
      ]
     },
     "execution_count": 77,
     "metadata": {},
     "output_type": "execute_result"
    }
   ],
   "source": [
    "explain"
   ]
  },
  {
   "cell_type": "code",
   "execution_count": 78,
   "id": "38b94e0c",
   "metadata": {},
   "outputs": [
    {
     "data": {
      "text/plain": [
       "[('jurassic park (1993)', 0.15893833253385203),\n",
       " ('back to the future (1985)', 0.07373245885556676),\n",
       " ('men in black (1997)', 0.056935507549786726),\n",
       " ('clue (1985)', 0.04489739862395872),\n",
       " ('toy story (1995)', -0.02819687476879783)]"
      ]
     },
     "execution_count": 78,
     "metadata": {},
     "output_type": "execute_result"
    }
   ],
   "source": [
    "[(idx_to_title[i[0]], i[1]) for i in explain[1]]"
   ]
  },
  {
   "cell_type": "markdown",
   "id": "80e94de9",
   "metadata": {},
   "source": [
    "쥬라기 공원때문이었다. 쥬라기 공원이랑 브레이브하트랑 비슷한가? \n",
    "\n",
    "*** \n",
    "### 회고\n",
    "비슷한 영화와 좋아할 만한 영화는 잘 추천받은 것 같다. 처음에 선호하는 영화를 내적해서 수치를 살펴볼 때는 그리 좋은 값이 나오지 않았지만, 결과적으로 잘 나온 것 같아 다행이다. \n",
    "\n",
    "중간에 선호하는 영화 5가지를 ratings에 추가해 줄 때 movie title로 추가해주었더니 movie_id는 신경쓰지 못해서 NaN 값이 나왔다. 이를 처리하기 위해 title을 movie_id로 바꿔주는 함수를 만드느라 시간을 허비했는데, 그냥 둘 중 하나만 남겨도 이상이 없을 데이터였다.. 그리고 함수도 못 만들었다. 역시 데이터를 분석하고 인공지능 공부하는 데에 기본적인 파이썬 실력은 필수구나 느꼈다. 특히 자료구조나 인덱싱, 슬라이싱을 더 공부해야겠다."
   ]
  },
  {
   "cell_type": "code",
   "execution_count": null,
   "id": "472c5030",
   "metadata": {},
   "outputs": [],
   "source": []
  }
 ],
 "metadata": {
  "kernelspec": {
   "display_name": "Python 3 (ipykernel)",
   "language": "python",
   "name": "python3"
  },
  "language_info": {
   "codemirror_mode": {
    "name": "ipython",
    "version": 3
   },
   "file_extension": ".py",
   "mimetype": "text/x-python",
   "name": "python",
   "nbconvert_exporter": "python",
   "pygments_lexer": "ipython3",
   "version": "3.9.7"
  }
 },
 "nbformat": 4,
 "nbformat_minor": 5
}
