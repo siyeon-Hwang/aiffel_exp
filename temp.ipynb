{
 "cells": [
  {
   "cell_type": "markdown",
   "id": "e5872eab",
   "metadata": {},
   "source": [
    "### Test File 입니당"
   ]
  },
  {
   "cell_type": "code",
   "execution_count": 1,
   "id": "65df7206",
   "metadata": {},
   "outputs": [
    {
     "name": "stdout",
     "output_type": "stream",
     "text": [
      "TEST FILE 입니다\n"
     ]
    }
   ],
   "source": [
    "print('TEST FILE 입니다')"
   ]
  },
  {
   "cell_type": "code",
   "execution_count": null,
   "id": "f8b57c8f",
   "metadata": {},
   "outputs": [],
   "source": []
  }
 ],
 "metadata": {
  "kernelspec": {
   "display_name": "Python 3",
   "language": "python",
   "name": "python3"
  },
  "language_info": {
   "codemirror_mode": {
    "name": "ipython",
    "version": 3
   },
   "file_extension": ".py",
   "mimetype": "text/x-python",
   "name": "python",
   "nbconvert_exporter": "python",
   "pygments_lexer": "ipython3",
   "version": "3.8.8"
  }
 },
 "nbformat": 4,
 "nbformat_minor": 5
}
